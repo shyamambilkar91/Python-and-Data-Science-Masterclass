{
 "cells": [
  {
   "cell_type": "markdown",
   "id": "f00600ac",
   "metadata": {},
   "source": [
    "# Exception Handling"
   ]
  },
  {
   "cell_type": "code",
   "execution_count": 1,
   "id": "8cdf546b",
   "metadata": {},
   "outputs": [
    {
     "ename": "NameError",
     "evalue": "name 'x' is not defined",
     "output_type": "error",
     "traceback": [
      "\u001b[1;31m---------------------------------------------------------------------------\u001b[0m",
      "\u001b[1;31mNameError\u001b[0m                                 Traceback (most recent call last)",
      "Cell \u001b[1;32mIn[1], line 1\u001b[0m\n\u001b[1;32m----> 1\u001b[0m \u001b[38;5;28mprint\u001b[39m(x)\n",
      "\u001b[1;31mNameError\u001b[0m: name 'x' is not defined"
     ]
    }
   ],
   "source": [
    "print(x)"
   ]
  },
  {
   "cell_type": "code",
   "execution_count": 3,
   "id": "5e1da78b",
   "metadata": {},
   "outputs": [
    {
     "name": "stdout",
     "output_type": "stream",
     "text": [
      "Variable name x is not defined\n"
     ]
    }
   ],
   "source": [
    "try:\n",
    "    print(x)\n",
    "except:\n",
    "    print(\"Variable name x is not defined\")"
   ]
  },
  {
   "cell_type": "code",
   "execution_count": 4,
   "id": "c4784d1f",
   "metadata": {},
   "outputs": [
    {
     "ename": "SyntaxError",
     "evalue": "invalid syntax (396730555.py, line 4)",
     "output_type": "error",
     "traceback": [
      "\u001b[1;36m  Cell \u001b[1;32mIn[4], line 4\u001b[1;36m\u001b[0m\n\u001b[1;33m    if (i! = o:\u001b[0m\n\u001b[1;37m         ^\u001b[0m\n\u001b[1;31mSyntaxError\u001b[0m\u001b[1;31m:\u001b[0m invalid syntax\n"
     ]
    }
   ],
   "source": [
    "my_string = \"Welcome to Exception Handling...!\"\n",
    "\n",
    "for i in my_string:\n",
    "    if (i! = o:\n",
    "        print(i)"
   ]
  },
  {
   "cell_type": "code",
   "execution_count": 6,
   "id": "4e6e0ad1",
   "metadata": {},
   "outputs": [
    {
     "ename": "NameError",
     "evalue": "name 'o' is not defined",
     "output_type": "error",
     "traceback": [
      "\u001b[1;31m---------------------------------------------------------------------------\u001b[0m",
      "\u001b[1;31mNameError\u001b[0m                                 Traceback (most recent call last)",
      "Cell \u001b[1;32mIn[6], line 4\u001b[0m\n\u001b[0;32m      1\u001b[0m my_string \u001b[38;5;241m=\u001b[39m \u001b[38;5;124m\"\u001b[39m\u001b[38;5;124mWelcome to Exception Handling...!\u001b[39m\u001b[38;5;124m\"\u001b[39m\n\u001b[0;32m      3\u001b[0m \u001b[38;5;28;01mfor\u001b[39;00m i \u001b[38;5;129;01min\u001b[39;00m my_string:\n\u001b[1;32m----> 4\u001b[0m     \u001b[38;5;28;01mif\u001b[39;00m (i\u001b[38;5;241m!=\u001b[39m o):\n\u001b[0;32m      5\u001b[0m         \u001b[38;5;28mprint\u001b[39m(i)\n",
      "\u001b[1;31mNameError\u001b[0m: name 'o' is not defined"
     ]
    }
   ],
   "source": [
    "my_string = \"Welcome to Exception Handling...!\"\n",
    "\n",
    "for i in my_string:\n",
    "    if (i!= o):\n",
    "        print(i)"
   ]
  },
  {
   "cell_type": "code",
   "execution_count": 8,
   "id": "d4d3d409",
   "metadata": {},
   "outputs": [
    {
     "name": "stdout",
     "output_type": "stream",
     "text": [
      "The index and Elements from the array is:  0 apple\n",
      "The index and Elements from the array is:  1 mango\n",
      "The index and Elements from the array is:  2 cherry\n",
      "The index and Elements from the array is:  3 blackcurrent\n",
      "The index and Elements from the array is:  4 pineapple\n"
     ]
    },
    {
     "ename": "IndexError",
     "evalue": "list index out of range",
     "output_type": "error",
     "traceback": [
      "\u001b[1;31m---------------------------------------------------------------------------\u001b[0m",
      "\u001b[1;31mIndexError\u001b[0m                                Traceback (most recent call last)",
      "Cell \u001b[1;32mIn[8], line 4\u001b[0m\n\u001b[0;32m      1\u001b[0m my_list \u001b[38;5;241m=\u001b[39m [\u001b[38;5;124m'\u001b[39m\u001b[38;5;124mapple\u001b[39m\u001b[38;5;124m'\u001b[39m,\u001b[38;5;124m'\u001b[39m\u001b[38;5;124mmango\u001b[39m\u001b[38;5;124m'\u001b[39m,\u001b[38;5;124m'\u001b[39m\u001b[38;5;124mcherry\u001b[39m\u001b[38;5;124m'\u001b[39m,\u001b[38;5;124m'\u001b[39m\u001b[38;5;124mblackcurrent\u001b[39m\u001b[38;5;124m'\u001b[39m,\u001b[38;5;124m'\u001b[39m\u001b[38;5;124mpineapple\u001b[39m\u001b[38;5;124m'\u001b[39m]\n\u001b[0;32m      3\u001b[0m \u001b[38;5;28;01mfor\u001b[39;00m i \u001b[38;5;129;01min\u001b[39;00m \u001b[38;5;28mrange\u001b[39m(\u001b[38;5;241m6\u001b[39m):\n\u001b[1;32m----> 4\u001b[0m     \u001b[38;5;28mprint\u001b[39m(\u001b[38;5;124m\"\u001b[39m\u001b[38;5;124mThe index and Elements from the array is: \u001b[39m\u001b[38;5;124m\"\u001b[39m,i, my_list[i])\n",
      "\u001b[1;31mIndexError\u001b[0m: list index out of range"
     ]
    }
   ],
   "source": [
    "my_list = ['apple','mango','cherry','blackcurrent','pineapple']\n",
    "\n",
    "for i in range(6):\n",
    "    print(\"The index and Elements from the array is: \",i, my_list[i])\n",
    "    "
   ]
  },
  {
   "cell_type": "markdown",
   "id": "306ef3c9",
   "metadata": {},
   "source": [
    "## Python Exception List"
   ]
  },
  {
   "cell_type": "markdown",
   "id": "911f7839",
   "metadata": {},
   "source": [
    "1. Exception - All Exception of Python have base class\n",
    "2. StopIteration - If the next() method null for an iterator, this exception is raised\n",
    "3. SystemExit - The sys.exit() procedure raises this value\n",
    "4. StandardError - Excluding the StopIteration and Sytem exit, this is the base class for all Python Built-in exception\n",
    "5. ArithmaticError - All mathematical Computation error belongs to this base class\n",
    "6. Overflow Error -  This exception raise when a surpasses the numeric data types maximum limit\n",
    "7. FloatingPointError -\n",
    "8. ZeroDevisionError -\n",
    "9. Assertion Error\n",
    "10. Attribute Error\n",
    "11. EOFError\n",
    "12. Import Error\n",
    "13. Keyboardinturpt\n",
    "14. Lookup Error\n",
    "15. IndexError\n",
    "16. KeyError\n",
    "17. NameError\n",
    "18. UnboundLocalError\n",
    "19. EnvironmentError\n",
    "20. IOErrror\n",
    "21. SyntaxError\n",
    "22. IndentationError\n",
    "23. SystemExit\n",
    "24. TypeError\n",
    "25. ValueError\n",
    "26. RuntimeError\n",
    "27. NotImplemented Error\n",
    "28. NameError"
   ]
  },
  {
   "cell_type": "code",
   "execution_count": 9,
   "id": "15f60974",
   "metadata": {},
   "outputs": [
    {
     "ename": "NameError",
     "evalue": "name 'x' is not defined",
     "output_type": "error",
     "traceback": [
      "\u001b[1;31m---------------------------------------------------------------------------\u001b[0m",
      "\u001b[1;31mNameError\u001b[0m                                 Traceback (most recent call last)",
      "Cell \u001b[1;32mIn[9], line 1\u001b[0m\n\u001b[1;32m----> 1\u001b[0m \u001b[38;5;28mprint\u001b[39m(x)\n",
      "\u001b[1;31mNameError\u001b[0m: name 'x' is not defined"
     ]
    }
   ],
   "source": [
    "print(x)"
   ]
  },
  {
   "cell_type": "code",
   "execution_count": 10,
   "id": "5c40daa9",
   "metadata": {},
   "outputs": [
    {
     "name": "stdout",
     "output_type": "stream",
     "text": [
      "Name is not defined...!\n"
     ]
    }
   ],
   "source": [
    "try:\n",
    "    print(x)\n",
    "except:\n",
    "    print(\"Name is not defined...!\")"
   ]
  },
  {
   "cell_type": "markdown",
   "id": "08976fca",
   "metadata": {},
   "source": [
    "### Many Exeption"
   ]
  },
  {
   "cell_type": "code",
   "execution_count": 11,
   "id": "533c6489",
   "metadata": {},
   "outputs": [
    {
     "name": "stdout",
     "output_type": "stream",
     "text": [
      "Variable x is not defined\n"
     ]
    }
   ],
   "source": [
    "try:\n",
    "    print(x)\n",
    "except NameError:\n",
    "    print(\"Variable x is not defined\")\n",
    "except:\n",
    "    print(\"Something else went wrong...!\")"
   ]
  },
  {
   "cell_type": "code",
   "execution_count": 12,
   "id": "a91779b9",
   "metadata": {},
   "outputs": [
    {
     "name": "stdout",
     "output_type": "stream",
     "text": [
      "Welcome to Exception Handling\n",
      "Nothing went wrong...!\n"
     ]
    }
   ],
   "source": [
    "try:\n",
    "    print(\"Welcome to Exception Handling\")\n",
    "except:\n",
    "    print(\"Something went Wrong...!\")\n",
    "else:\n",
    "    print(\"Nothing went wrong...!\")"
   ]
  },
  {
   "cell_type": "code",
   "execution_count": 14,
   "id": "cc22c2fb",
   "metadata": {},
   "outputs": [
    {
     "name": "stdout",
     "output_type": "stream",
     "text": [
      "Welcome to Exception Handling\n",
      "Nothing went wrong...!\n"
     ]
    }
   ],
   "source": [
    "try:\n",
    "    print(\"Welcome to Exception Handling\")\n",
    "except:\n",
    "    print(\"Something went Wrong...!\")\n",
    "else:\n",
    "    print(\"Nothing went wrong...!\")"
   ]
  },
  {
   "cell_type": "code",
   "execution_count": 15,
   "id": "64b1314b",
   "metadata": {},
   "outputs": [
    {
     "name": "stdout",
     "output_type": "stream",
     "text": [
      "Something went wrong when opening the file...!\n"
     ]
    }
   ],
   "source": [
    "try:\n",
    "    my_file = open(\"my_file.txt\")\n",
    "    try:\n",
    "        my_file.write(\"Welcome to Exception Handling...!\")\n",
    "    except:\n",
    "        print(\"Something went wrong when writting file...!\")\n",
    "    finally:\n",
    "        my_file.close()\n",
    "except:\n",
    "    print(\"Something went wrong when opening the file...!\")\n"
   ]
  },
  {
   "cell_type": "code",
   "execution_count": 16,
   "id": "44e7ea02",
   "metadata": {},
   "outputs": [
    {
     "name": "stdout",
     "output_type": "stream",
     "text": [
      "Something went wrong when writting file...!\n"
     ]
    }
   ],
   "source": [
    "try:\n",
    "    my_file = open(\"my_file.txt\")\n",
    "    try:\n",
    "        my_file.write(\"Welcome to Exception Handling...!\")\n",
    "    except:\n",
    "        print(\"Something went wrong when writting file...!\")\n",
    "    finally:\n",
    "        my_file.close()\n",
    "except:\n",
    "    print(\"Something went wrong when opening the file...!\")\n"
   ]
  },
  {
   "cell_type": "markdown",
   "id": "e435117d",
   "metadata": {},
   "source": [
    "## Raise an Exception"
   ]
  },
  {
   "cell_type": "markdown",
   "id": "1c7da85b",
   "metadata": {},
   "source": [
    "1. You can choose to throw an exception if condition occurs\n",
    "2. To throw (or raise) an exception use raise keywords"
   ]
  },
  {
   "cell_type": "code",
   "execution_count": 17,
   "id": "7c1b5a25",
   "metadata": {},
   "outputs": [
    {
     "ename": "Exception",
     "evalue": "Sorry, NO number below Zero...!",
     "output_type": "error",
     "traceback": [
      "\u001b[1;31m---------------------------------------------------------------------------\u001b[0m",
      "\u001b[1;31mException\u001b[0m                                 Traceback (most recent call last)",
      "Cell \u001b[1;32mIn[17], line 4\u001b[0m\n\u001b[0;32m      1\u001b[0m x \u001b[38;5;241m=\u001b[39m \u001b[38;5;241m-\u001b[39m\u001b[38;5;241m10\u001b[39m\n\u001b[0;32m      3\u001b[0m \u001b[38;5;28;01mif\u001b[39;00m x \u001b[38;5;241m<\u001b[39m \u001b[38;5;241m0\u001b[39m:\n\u001b[1;32m----> 4\u001b[0m     \u001b[38;5;28;01mraise\u001b[39;00m \u001b[38;5;167;01mException\u001b[39;00m(\u001b[38;5;124m\"\u001b[39m\u001b[38;5;124mSorry, NO number below Zero...!\u001b[39m\u001b[38;5;124m\"\u001b[39m)\n",
      "\u001b[1;31mException\u001b[0m: Sorry, NO number below Zero...!"
     ]
    }
   ],
   "source": [
    "x = -10\n",
    "\n",
    "if x < 0:\n",
    "    raise Exception(\"Sorry, NO number below Zero...!\")"
   ]
  },
  {
   "cell_type": "code",
   "execution_count": 18,
   "id": "37487338",
   "metadata": {},
   "outputs": [
    {
     "name": "stdout",
     "output_type": "stream",
     "text": [
      "Sorry, NO number below Zero...!\n"
     ]
    }
   ],
   "source": [
    "x = -10\n",
    "\n",
    "if x < 0:\n",
    "    print(\"Sorry, NO number below Zero...!\")"
   ]
  },
  {
   "cell_type": "code",
   "execution_count": 19,
   "id": "f1502f26",
   "metadata": {},
   "outputs": [
    {
     "ename": "Exception",
     "evalue": "Only, Integers are allowed",
     "output_type": "error",
     "traceback": [
      "\u001b[1;31m---------------------------------------------------------------------------\u001b[0m",
      "\u001b[1;31mException\u001b[0m                                 Traceback (most recent call last)",
      "Cell \u001b[1;32mIn[19], line 4\u001b[0m\n\u001b[0;32m      1\u001b[0m x \u001b[38;5;241m=\u001b[39m \u001b[38;5;124m\"\u001b[39m\u001b[38;5;124mHello Shyam...!\u001b[39m\u001b[38;5;124m\"\u001b[39m\n\u001b[0;32m      3\u001b[0m \u001b[38;5;28;01mif\u001b[39;00m \u001b[38;5;129;01mnot\u001b[39;00m \u001b[38;5;28mtype\u001b[39m(x) \u001b[38;5;129;01mis\u001b[39;00m \u001b[38;5;28mint\u001b[39m:\n\u001b[1;32m----> 4\u001b[0m     \u001b[38;5;28;01mraise\u001b[39;00m \u001b[38;5;167;01mException\u001b[39;00m(\u001b[38;5;124m\"\u001b[39m\u001b[38;5;124mOnly, Integers are allowed\u001b[39m\u001b[38;5;124m\"\u001b[39m)\n",
      "\u001b[1;31mException\u001b[0m: Only, Integers are allowed"
     ]
    }
   ],
   "source": [
    "x = \"Hello Shyam...!\"\n",
    "\n",
    "if not type(x) is int:\n",
    "    raise Exception(\"Only, Integers are allowed\")"
   ]
  },
  {
   "cell_type": "code",
   "execution_count": 21,
   "id": "69a995e9",
   "metadata": {},
   "outputs": [
    {
     "name": "stdout",
     "output_type": "stream",
     "text": [
      "Integers Number....!\n"
     ]
    }
   ],
   "source": [
    "x = 10\n",
    "\n",
    "if not type(x) is int:\n",
    "    raise Exception(\"Only, Integers are allowed\")\n",
    "else:\n",
    "    print(\"Integers Number....!\")"
   ]
  },
  {
   "cell_type": "code",
   "execution_count": null,
   "id": "9d3c6863",
   "metadata": {},
   "outputs": [],
   "source": []
  }
 ],
 "metadata": {
  "kernelspec": {
   "display_name": "Python 3 (ipykernel)",
   "language": "python",
   "name": "python3"
  },
  "language_info": {
   "codemirror_mode": {
    "name": "ipython",
    "version": 3
   },
   "file_extension": ".py",
   "mimetype": "text/x-python",
   "name": "python",
   "nbconvert_exporter": "python",
   "pygments_lexer": "ipython3",
   "version": "3.11.5"
  }
 },
 "nbformat": 4,
 "nbformat_minor": 5
}
