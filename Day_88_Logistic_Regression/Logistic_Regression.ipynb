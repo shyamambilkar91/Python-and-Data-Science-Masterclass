{
 "cells": [
  {
   "cell_type": "markdown",
   "id": "8bf54868",
   "metadata": {},
   "source": [
    "# 1. Logistic Regression"
   ]
  },
  {
   "cell_type": "markdown",
   "id": "4b45289c",
   "metadata": {},
   "source": [
    "1. Logistic Regression is supervised machine learning algorithm\n",
    "2. Logistic Regresstion is a Predictive modelling Techniques\n",
    "3. It always involve Prediction\n",
    "4. It estimate the relationship between independent(Prediction) and Dependent variable (Target)\n",
    "5. Dependent variable is a nothing but a variable which you want to predict and independent variable difference Produce Result or value called as independent variable.\n",
    "6. Logistic Result Produce results in binary format which is used to predict the outcomes of categorical dependent variable.\n",
    "7. The outcome should be descrete / categorical such as:\n",
    "    1. 0 or 1\n",
    "    2. Yes or No\n",
    "    3. True or False\n",
    "    4. High and Low\n",
    "8. Use Sigmoid Function / Curve to predict categorical value, Thereshold value decides the outcome (win / lose)\n",
    "9. Linear Regression Equation y = b0 + b1x1 + b2x2 + bnxn:\n",
    "    1. y stands for the depedent variable that need to predicted\n",
    "    2. b0 is the y-intercept, which basically point on the line which touches Y axis\n",
    "    3. b1 is the slope of line (slope can be positive or Negative depending on the relationship between the independent and dependent variable)\n",
    "    4. X - independent variable that is used to predict out resultant depedent variable\n",
    "10. **Sigmoid Function:**\n",
    "    1. P = 1 / 1 + e(rest to -Y)"
   ]
  },
  {
   "cell_type": "markdown",
   "id": "1792d424",
   "metadata": {},
   "source": [
    "![](https://www.gstatic.com/education/formulas2/553212783/en/sigmoid_function.svg)"
   ]
  },
  {
   "cell_type": "markdown",
   "id": "b70c42c7",
   "metadata": {},
   "source": [
    "![](https://miro.medium.com/v2/resize:fit:1033/0*D5do3xhv5ulF50w2.png)"
   ]
  },
  {
   "cell_type": "markdown",
   "id": "dd5bc328",
   "metadata": {},
   "source": [
    "1. Apply sigmoid function on the Linear Regression Equation\n",
    "2. **If Z goes to infinity, Y[predicted] will becomes 1 and Z goes negative infinity, Y[predicted will become 0]**"
   ]
  },
  {
   "cell_type": "markdown",
   "id": "a9df8411",
   "metadata": {},
   "source": [
    "## Why Not Linear Regression ?"
   ]
  },
  {
   "cell_type": "markdown",
   "id": "bdac6b5f",
   "metadata": {},
   "source": [
    "![](https://media.licdn.com/dms/image/D4D12AQGLWjSUQJsIng/article-cover_image-shrink_720_1280/0/1702054471602?e=2147483647&v=beta&t=tpPJ15kWXFTNCP-Wire2SUIYPqCn8WGrdEVKg6dJcis)"
   ]
  },
  {
   "cell_type": "markdown",
   "id": "b646e082",
   "metadata": {},
   "source": [
    "1. Linear Regression value of Y is need to Predict in range but in Logistic Regression which has two outcome in binary (0 or 1)\n",
    "2. Our value of Y will be between 0 and 1, Linear Clipped at 0 at 1"
   ]
  },
  {
   "cell_type": "markdown",
   "id": "d0c23252",
   "metadata": {},
   "source": [
    "**In logistic Regression dont need to value below 0 and dont have an value above 1. so our value of Y will be in between 0 and 1 this is called as Logistic Regression**"
   ]
  },
  {
   "cell_type": "markdown",
   "id": "057d0b3b",
   "metadata": {},
   "source": [
    "## Assumption of Logistic Regression"
   ]
  },
  {
   "cell_type": "markdown",
   "id": "e15fc735",
   "metadata": {},
   "source": [
    "1. Binary Logistic Regression requires the dependent variable to be binary\n",
    "2. Ordinal Logistic Regression requires the dependent variable to be Ordinal\n",
    "3. Logistic Regression requires the observation to be independent to each other\n",
    "4. Logistic Regression requires thier to be in the little or No Multicolenarity among the independent variable\n",
    "5. Logistic Regression assumes linearity of independent variable and log odds\n",
    "6. Logistic Regression typically requires a large sample size"
   ]
  },
  {
   "cell_type": "markdown",
   "id": "68e95f8e",
   "metadata": {},
   "source": [
    "## Types of Logistic Regression"
   ]
  },
  {
   "cell_type": "markdown",
   "id": "c32c1dc3",
   "metadata": {},
   "source": [
    "#### There are different three types of Logistic Regression"
   ]
  },
  {
   "cell_type": "markdown",
   "id": "b8ad722f",
   "metadata": {},
   "source": [
    "1. Binary Logistic Regression\n",
    "2. Multinomial Logistic Regression\n",
    "3. Ordinal Logistic Regression"
   ]
  },
  {
   "cell_type": "markdown",
   "id": "c32d6ead",
   "metadata": {},
   "source": [
    "### 1. Binary Logistic Regression"
   ]
  },
  {
   "cell_type": "markdown",
   "id": "a9687561",
   "metadata": {},
   "source": [
    "1. It has only two outcomes\n",
    "2. Example:\n",
    "    1. 0 or 1\n",
    "    2. Yes or No\n",
    "    3. True or False\n",
    "3. Binary Logistic Regression requires model where target variable is binary [ 0 or 1]"
   ]
  },
  {
   "cell_type": "markdown",
   "id": "63eac105",
   "metadata": {},
   "source": [
    "### 2. Multinomial Logistic Regression"
   ]
  },
  {
   "cell_type": "markdown",
   "id": "8b03dec4",
   "metadata": {},
   "source": [
    "1. It has three or more nominal categories\n",
    "2. Example:\n",
    "    1. Fruits\n",
    "    2. Animals\n",
    "    "
   ]
  },
  {
   "cell_type": "markdown",
   "id": "c9824f7e",
   "metadata": {},
   "source": [
    "### 3. Ordinal Logistic Regression"
   ]
  },
  {
   "cell_type": "markdown",
   "id": "dd688926",
   "metadata": {},
   "source": [
    "1. It has three or more categories, ordinal meaning that the categories will be in order.\n",
    "2. Example:\n",
    "    1. User Rating [Flipcart, Amazon, Mantra, etc.]\n",
    "    2. Feedback\n",
    "    3. School / College Grading"
   ]
  },
  {
   "cell_type": "markdown",
   "id": "7b0f2fb9",
   "metadata": {},
   "source": [
    "**Sigmoid function curve convert any value from [-infinity to infinity] to descrete value which in Logistic Regression**"
   ]
  },
  {
   "cell_type": "markdown",
   "id": "fd03fe9a",
   "metadata": {},
   "source": [
    "## Example"
   ]
  },
  {
   "cell_type": "markdown",
   "id": "76487b9f",
   "metadata": {},
   "source": [
    "1. Suppose consider we have a datapoints 0.8. **Now How can you decide value 0 or 1 ?**\n",
    "2. We have concept of Threshold which is basically decides the line\n",
    "3. Threshold value indicating the probability of winning or loosing winning has value 1 and loosing has value 0\n",
    "4. consider we have datapoints[0.8]\n",
    "5. If the datapoints value are more than threshold vlaue its gives a resultant 1\n",
    "6. If the datapoints (0.8) is less than threshold value (0.5) then it gives result as 0\n",
    "7. The calculating or findout value of outoup uses the concept called **Threshold**\n",
    "8. Logistic Regression equation is derived from straight line equation\n",
    "9. Equation of straight line Y = C + b1x1 + b2x2+ ...+bnxn Range from [-infinity to infinity]\n",
    "10. Lets try reduce Logistic Regression equation from straight line:\n",
    "    Y = C + B1X1 + B2X2+ .....Logistic equation Y can only from 0 and 1\n",
    "11. Now, get a range of X between 0 and infinity lets transform Y:\n",
    "    1. Y/ (1 - Y)\n",
    "    2. Y = 0 then[0]\n",
    "    3. Y = 1 then[infinity]\n",
    "    4. Now range is between o to infinity\n",
    "12. Lets us transform it further, to get range between -infinity to infinity:\n",
    "    1. log Y / (1 - Y)\n",
    "    2. Y = C + B1X1 + B2X2+... Final Logistic Regression Equation"
   ]
  },
  {
   "cell_type": "markdown",
   "id": "53685337",
   "metadata": {},
   "source": [
    "**Note: To understand the concept of Logistic Regression, it is important to understand the concept of Odd Ratio, Logit Function, Sigmoid Function or Logistic Function, and cross entropy and Log-loss Function**"
   ]
  },
  {
   "cell_type": "markdown",
   "id": "3f51b088",
   "metadata": {},
   "source": [
    "## Confusion Matrix"
   ]
  },
  {
   "cell_type": "markdown",
   "id": "0d988555",
   "metadata": {},
   "source": [
    "1. A Confusion matrix is N * N matrix [2 * 2]\n",
    "2. A Confusion matrix is used to measure the performance of Machine Learning model on set of test data\n",
    "3. It is measure the Performance of classification model, which aims to predict categorical label for each input instance\n",
    "4. The matrix displays the number of instances prodcued by models on the data:\n",
    "    1. True Prositive\n",
    "    2. True Negative\n",
    "    3. False Positive\n",
    "    4. False Negative\n",
    "5. Columns represent the Actual value of target variable\n",
    "6. Rows represent the Predicted value of Target Variable"
   ]
  },
  {
   "cell_type": "markdown",
   "id": "725222f9",
   "metadata": {},
   "source": [
    "![](https://miro.medium.com/v2/resize:fit:667/1*3yGLac6F4mTENnj5dBNvNQ.jpeg)"
   ]
  },
  {
   "cell_type": "markdown",
   "id": "15806c1d",
   "metadata": {},
   "source": [
    "### 1. TP (True Positive)"
   ]
  },
  {
   "cell_type": "markdown",
   "id": "e67d67da",
   "metadata": {},
   "source": [
    "1. Predicted values matches with the Actal value\n",
    "2. Actual value was Positive and Machine learning model predict as Positive Value\n",
    "3. The model correctly predicted the value [positive outcomes]"
   ]
  },
  {
   "cell_type": "markdown",
   "id": "2b7963e8",
   "metadata": {},
   "source": [
    "### 2. (TN) True Negative "
   ]
  },
  {
   "cell_type": "markdown",
   "id": "c3522330",
   "metadata": {},
   "source": [
    "1. Predicted values matches with the Actal value\n",
    "2. Actual value was Negative and Machine learning model predict as Negative Value\n",
    "3. The model correctly predicted the value [Negative outcomes]"
   ]
  },
  {
   "cell_type": "markdown",
   "id": "a9262ad0",
   "metadata": {},
   "source": [
    "### 3. (FP) False Positive - Type 1 Error"
   ]
  },
  {
   "cell_type": "markdown",
   "id": "e8333e9a",
   "metadata": {},
   "source": [
    "1. Predicted value was Incorrctly[wrongly] Predicted\n",
    "2. Actual value was Negative but Machine Learning model predicted as Positive\n",
    "3. Also Known as Type 1 Error"
   ]
  },
  {
   "cell_type": "markdown",
   "id": "12107eb1",
   "metadata": {},
   "source": [
    "### 4. (FN) - False Negative - Type II Error"
   ]
  },
  {
   "cell_type": "markdown",
   "id": "d709418e",
   "metadata": {},
   "source": [
    "1. Predicted value was Incorrctly[wrongly] Predicted\n",
    "2. Actual value was Positive but Machine Learning model predicted as Negative\n",
    "3. Also Known as Type 2 Error"
   ]
  },
  {
   "cell_type": "markdown",
   "id": "768fa40f",
   "metadata": {},
   "source": [
    "### Accuracy"
   ]
  },
  {
   "cell_type": "markdown",
   "id": "e0fa0287",
   "metadata": {},
   "source": [
    "**Accuracy = TP + TN / TP + FP + TN + FN**"
   ]
  },
  {
   "cell_type": "markdown",
   "id": "8f4b0e41",
   "metadata": {},
   "source": [
    "1. Classfication Report:\n",
    "    1. Precision\n",
    "    2. Recall\n",
    "    3. F1-SCore\n",
    "2. Encoding Techniques\n",
    "3. Auc - Roc Curve"
   ]
  },
  {
   "cell_type": "markdown",
   "id": "b28d254b",
   "metadata": {},
   "source": [
    "## 1. Odd Ratio "
   ]
  },
  {
   "cell_type": "markdown",
   "id": "9a5ec832",
   "metadata": {},
   "source": [
    "1. Odd Ratio is odd in favor of perticular events\n",
    "2. It is measure of association between exposure and outcomes"
   ]
  },
  {
   "cell_type": "markdown",
   "id": "b95ddfdc",
   "metadata": {},
   "source": [
    "**Formula: Odd_ratio = P / (1 - P)** ![](data:image/png;base64,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)"
   ]
  },
  {
   "cell_type": "markdown",
   "id": "b8f8752a",
   "metadata": {},
   "source": [
    "Where\n",
    "1. Probability of Positive Events"
   ]
  },
  {
   "cell_type": "markdown",
   "id": "004e9573",
   "metadata": {},
   "source": [
    "1. Probability of Success (P) = 0.8\n",
    "2. Probability of Failure (Q) = 1 - p[0.8] = 0.2 "
   ]
  },
  {
   "cell_type": "markdown",
   "id": "44444b54",
   "metadata": {},
   "source": [
    "Odds are ratio of Probability of Success and Probability of Failure"
   ]
  },
  {
   "cell_type": "markdown",
   "id": "3fc6e281",
   "metadata": {},
   "source": [
    "**Odd[success] = P / Q**"
   ]
  },
  {
   "cell_type": "code",
   "execution_count": 1,
   "id": "9c3d1e5b",
   "metadata": {},
   "outputs": [
    {
     "name": "stdout",
     "output_type": "stream",
     "text": [
      "4.0\n"
     ]
    }
   ],
   "source": [
    "odd_success = 0.8 / 0.2\n",
    "print(odd_success)"
   ]
  },
  {
   "cell_type": "markdown",
   "id": "c9c8cf74",
   "metadata": {},
   "source": [
    "**Odd[Failure] = Q / P**"
   ]
  },
  {
   "cell_type": "code",
   "execution_count": 2,
   "id": "fab0fc5f",
   "metadata": {},
   "outputs": [
    {
     "name": "stdout",
     "output_type": "stream",
     "text": [
      "0.25\n"
     ]
    }
   ],
   "source": [
    "odd_failure = 0.2 / 0.8\n",
    "print(odd_failure)"
   ]
  },
  {
   "cell_type": "markdown",
   "id": "9baa7100",
   "metadata": {},
   "source": [
    "## 2 Logit Function"
   ]
  },
  {
   "cell_type": "markdown",
   "id": "81144ae9",
   "metadata": {},
   "source": [
    "1. Logit function is algorithm of odd ratio (log-odds)\n",
    "2. It takes input value in the range of 0 and 1 then transform them to value over the entire real number range\n",
    "3. Lets take Probability, then P / (1 - P) is the corresponding odds"
   ]
  },
  {
   "cell_type": "markdown",
   "id": "52a12274",
   "metadata": {},
   "source": [
    "#### Logit[P] = log (P) / 1 - P"
   ]
  },
  {
   "cell_type": "code",
   "execution_count": 4,
   "id": "5e79bc25",
   "metadata": {},
   "outputs": [
    {
     "data": {
      "text/plain": [
       "-1.1157177565710485"
      ]
     },
     "execution_count": 4,
     "metadata": {},
     "output_type": "execute_result"
    }
   ],
   "source": [
    "import numpy as np\n",
    "np.log (0.8) / 0.2"
   ]
  },
  {
   "cell_type": "code",
   "execution_count": 5,
   "id": "4a24b333",
   "metadata": {},
   "outputs": [
    {
     "data": {
      "text/plain": [
       "-2.0117973905426254"
      ]
     },
     "execution_count": 5,
     "metadata": {},
     "output_type": "execute_result"
    }
   ],
   "source": [
    "np.log (0.2) / 0.8"
   ]
  },
  {
   "cell_type": "markdown",
   "id": "3ee4a0bf",
   "metadata": {},
   "source": [
    "## 3. Logistic Function or Sigmoid Function"
   ]
  },
  {
   "cell_type": "markdown",
   "id": "358f712e",
   "metadata": {},
   "source": [
    "1. The inverse of logit function is called logistic function or sigmoid function\n",
    "2. It is names as sigmoid function due to its charactristic shape\n",
    "3. Equation of sigmoid function:\n",
    "    y = 1 / 1 + e(rest -x)\n",
    "4. Sigmoid function takes real number values as input and transform them into values in the range [0, 1] with an intercept y(z) =0.5"
   ]
  },
  {
   "cell_type": "markdown",
   "id": "fa2c2ed0",
   "metadata": {},
   "source": [
    "## 4. Cross Entropy or Log Loss"
   ]
  },
  {
   "cell_type": "markdown",
   "id": "78f51204",
   "metadata": {},
   "source": [
    "1. Cross entropy is commenly used to quantify the diffrence between two Probability distribution, this is used in logistic regression"
   ]
  },
  {
   "cell_type": "markdown",
   "id": "7e2d693c",
   "metadata": {},
   "source": [
    "### cost = (Y_actual) * log(Y_predicted) - (1 - Actual) * log(1- Y_predicted)"
   ]
  },
  {
   "cell_type": "markdown",
   "id": "82e02951",
   "metadata": {},
   "source": [
    "![](https://miro.medium.com/v2/resize:fit:1400/1*WI_I5ecz7PQjeE4FebLfDQ@2x.png)"
   ]
  },
  {
   "cell_type": "markdown",
   "id": "50adb4bd",
   "metadata": {},
   "source": [
    "Log(W) = Summation_of(Y[i]) log (Q(Z_of_i)) + (1 - Y[i] log (1 - Q(z[i]))) it is also called as log likelihood function"
   ]
  },
  {
   "cell_type": "markdown",
   "id": "0ea73fd5",
   "metadata": {},
   "source": [
    "**MSE = 1 / N (Y_actual - Y_predicted) ** 2**"
   ]
  },
  {
   "cell_type": "markdown",
   "id": "b9e23c3e",
   "metadata": {},
   "source": [
    "![](https://upload.wikimedia.org/wikipedia/commons/thumb/8/88/Logistic-curve.svg/1200px-Logistic-curve.svg.png)"
   ]
  },
  {
   "cell_type": "markdown",
   "id": "fc41d92f",
   "metadata": {},
   "source": [
    "Cross Entropy or Log loss function"
   ]
  },
  {
   "cell_type": "markdown",
   "id": "1353af2b",
   "metadata": {},
   "source": [
    "### cost = (Y_actual) * log(Y_predicted) - (1 - Actual) * log(1- Y_predicted)"
   ]
  },
  {
   "cell_type": "markdown",
   "id": "aad57e5c",
   "metadata": {},
   "source": [
    "1. When Y_actual = 1 then log(Y_predicted) is valid and (1 - Y_actual) is Zero[0]\n",
    "2. When Y_actual = 0 then (1- Y_actual) is a valid and log(Y_predicted ) is Zero[0]"
   ]
  },
  {
   "cell_type": "code",
   "execution_count": 7,
   "id": "7db7e76e",
   "metadata": {},
   "outputs": [
    {
     "name": "stderr",
     "output_type": "stream",
     "text": [
      "C:\\Users\\shyam\\AppData\\Local\\Temp\\ipykernel_5988\\3651920874.py:1: RuntimeWarning: divide by zero encountered in log\n",
      "  cost = (1) * np.log(0) - (1 - 1) * np.log(1 - 0)\n"
     ]
    }
   ],
   "source": [
    "cost = (1) * np.log(0) - (1 - 1) * np.log(1 - 0)"
   ]
  },
  {
   "cell_type": "code",
   "execution_count": 8,
   "id": "d1304c70",
   "metadata": {},
   "outputs": [
    {
     "data": {
      "text/plain": [
       "-inf"
      ]
     },
     "execution_count": 8,
     "metadata": {},
     "output_type": "execute_result"
    }
   ],
   "source": [
    "cost"
   ]
  },
  {
   "cell_type": "code",
   "execution_count": 11,
   "id": "b8b3fd67",
   "metadata": {},
   "outputs": [
    {
     "name": "stderr",
     "output_type": "stream",
     "text": [
      "C:\\Users\\shyam\\AppData\\Local\\Temp\\ipykernel_5988\\17789610.py:1: RuntimeWarning: divide by zero encountered in log\n",
      "  cost = (0) * np.log(1) - (1 - 0) * np.log(1 - 1)\n"
     ]
    }
   ],
   "source": [
    "cost = (0) * np.log(1) - (1 - 0) * np.log(1 - 1)"
   ]
  },
  {
   "cell_type": "code",
   "execution_count": 12,
   "id": "e8c34beb",
   "metadata": {},
   "outputs": [
    {
     "data": {
      "text/plain": [
       "inf"
      ]
     },
     "execution_count": 12,
     "metadata": {},
     "output_type": "execute_result"
    }
   ],
   "source": [
    "cost"
   ]
  },
  {
   "cell_type": "raw",
   "id": "57fcc552",
   "metadata": {},
   "source": [
    "cost = -ln(Y_predicted)     Y_actual = 1\n",
    "     = -ln(1 - Y_predicted) Y_actual = 0"
   ]
  },
  {
   "cell_type": "raw",
   "id": "8ba86acf",
   "metadata": {},
   "source": [
    "If Y_actual = 1 [-ln(Y_predicted)]\n",
    "P = [0 to 1] cost function\n",
    "  = -ln(P)"
   ]
  },
  {
   "cell_type": "raw",
   "id": "9f52cb46",
   "metadata": {},
   "source": [
    "If Y_actual = 0\n",
    "cost = -ln(1 - Y_predicted)\n",
    "cost function P analyzes and wrong Prediction"
   ]
  },
  {
   "cell_type": "code",
   "execution_count": 19,
   "id": "cd9dd882",
   "metadata": {},
   "outputs": [],
   "source": [
    "Y_actual = [1, 1]\n",
    "Y_predicted = [0.095,0.1]"
   ]
  },
  {
   "cell_type": "markdown",
   "id": "c8a29474",
   "metadata": {},
   "source": [
    "### MSE = 1 / N (Y_actual - Y_predicted) ** 2"
   ]
  },
  {
   "cell_type": "code",
   "execution_count": 20,
   "id": "27f39318",
   "metadata": {},
   "outputs": [],
   "source": [
    "MSE = ( Y_actual[0] - Y_predicted[0]) ** 2"
   ]
  },
  {
   "cell_type": "code",
   "execution_count": 21,
   "id": "8990f48e",
   "metadata": {},
   "outputs": [
    {
     "name": "stdout",
     "output_type": "stream",
     "text": [
      "0.819025\n"
     ]
    }
   ],
   "source": [
    "print(MSE)"
   ]
  },
  {
   "cell_type": "code",
   "execution_count": 22,
   "id": "0828552f",
   "metadata": {},
   "outputs": [],
   "source": [
    "MSE = (Y_actual[1] - Y_predicted[1]) ** 2"
   ]
  },
  {
   "cell_type": "code",
   "execution_count": 23,
   "id": "06c45400",
   "metadata": {},
   "outputs": [
    {
     "name": "stdout",
     "output_type": "stream",
     "text": [
      "0.81\n"
     ]
    }
   ],
   "source": [
    "print(MSE)"
   ]
  },
  {
   "cell_type": "raw",
   "id": "eb81d911",
   "metadata": {},
   "source": [
    "Cost = -ln(Y_predicted)\n",
    "     = -ln(0.095)\n",
    "     =  0.051"
   ]
  },
  {
   "cell_type": "raw",
   "id": "602f15e1",
   "metadata": {},
   "source": [
    "cost = -ln(Y_predicted)\n",
    "     = -ln(0.1)\n",
    "     =  2.302"
   ]
  },
  {
   "cell_type": "code",
   "execution_count": 26,
   "id": "5903a185",
   "metadata": {},
   "outputs": [],
   "source": [
    "tp = 650\n",
    "tn = 150\n",
    "fp = 120\n",
    "fn = 80"
   ]
  },
  {
   "cell_type": "code",
   "execution_count": 30,
   "id": "48296b95",
   "metadata": {},
   "outputs": [
    {
     "data": {
      "text/plain": [
       "800"
      ]
     },
     "execution_count": 30,
     "metadata": {},
     "output_type": "execute_result"
    }
   ],
   "source": [
    "650 + 150"
   ]
  },
  {
   "cell_type": "code",
   "execution_count": 29,
   "id": "d22a53f9",
   "metadata": {},
   "outputs": [
    {
     "data": {
      "text/plain": [
       "1000"
      ]
     },
     "execution_count": 29,
     "metadata": {},
     "output_type": "execute_result"
    }
   ],
   "source": [
    "650 + 150 + 120 + 80"
   ]
  },
  {
   "cell_type": "code",
   "execution_count": 32,
   "id": "c65d6f7c",
   "metadata": {},
   "outputs": [
    {
     "data": {
      "text/plain": [
       "80.0"
      ]
     },
     "execution_count": 32,
     "metadata": {},
     "output_type": "execute_result"
    }
   ],
   "source": [
    "800 / 1000 * 100"
   ]
  },
  {
   "cell_type": "code",
   "execution_count": 34,
   "id": "f4067e50",
   "metadata": {},
   "outputs": [
    {
     "data": {
      "text/plain": [
       "20"
      ]
     },
     "execution_count": 34,
     "metadata": {},
     "output_type": "execute_result"
    }
   ],
   "source": [
    "100 - 80 "
   ]
  },
  {
   "cell_type": "code",
   "execution_count": null,
   "id": "d5a4f947",
   "metadata": {},
   "outputs": [],
   "source": []
  }
 ],
 "metadata": {
  "kernelspec": {
   "display_name": "Python 3 (ipykernel)",
   "language": "python",
   "name": "python3"
  },
  "language_info": {
   "codemirror_mode": {
    "name": "ipython",
    "version": 3
   },
   "file_extension": ".py",
   "mimetype": "text/x-python",
   "name": "python",
   "nbconvert_exporter": "python",
   "pygments_lexer": "ipython3",
   "version": "3.11.5"
  }
 },
 "nbformat": 4,
 "nbformat_minor": 5
}
