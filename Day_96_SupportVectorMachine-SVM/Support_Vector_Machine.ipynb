{
 "cells": [
  {
   "cell_type": "markdown",
   "id": "ac9db00a",
   "metadata": {},
   "source": [
    "# Support Vector Machine"
   ]
  },
  {
   "cell_type": "markdown",
   "id": "81d693ea",
   "metadata": {},
   "source": [
    "1. It is supervised machine learning algorithm in classification\n",
    "2. SVM is implemented in signify of different ways to other ML algorithm\n",
    "3. It is capable to performing classification, regression, and outlier detection\n",
    "4. Support vector machine is descriminative classifier that is formally designed by separative hyperplane\n",
    "5. It is representation of examples as point in space that are mapped so that the points different categories separated by gap as wide as possible\n",
    "6. SVM can also work on non-linear classification"
   ]
  },
  {
   "cell_type": "markdown",
   "id": "558c5871",
   "metadata": {},
   "source": [
    "![](https://static.javatpoint.com/tutorial/machine-learning/images/support-vector-machine-algorithm.png)"
   ]
  },
  {
   "cell_type": "markdown",
   "id": "72c3b0ab",
   "metadata": {},
   "source": [
    "1. Support vector machine is one of the most powerful supervised learning algorithm\n",
    "2. Suppor vector machine is used for classification and Regression problems\n",
    "3. The goal of support vector machine is to create best line or decision boundary in n-dimensional space\n",
    "4. The best decision bounday called as Hyperplane\n",
    "5. SVM algorithm is used for Image classification, Text Categorization, Face Detection etc."
   ]
  },
  {
   "cell_type": "markdown",
   "id": "f6d1e1e4",
   "metadata": {},
   "source": [
    "## Advantages of SVM"
   ]
  },
  {
   "cell_type": "markdown",
   "id": "c36e83ae",
   "metadata": {},
   "source": [
    "1. Effective in High Dimension space\n",
    "2. Still effective is cases where the number of dimensions is greater than the number of samples (Datapoints)\n",
    "3. Uses subset of training points in the decision function that makes it memory efficient\n",
    "4. Diffrent Kernal Function can be specified for the decision function that also make it versatile\n",
    "5. Easy to implement but powerful algorithm"
   ]
  },
  {
   "cell_type": "markdown",
   "id": "d4d19e01",
   "metadata": {},
   "source": [
    "## Disadvantages of SVM"
   ]
  },
  {
   "cell_type": "markdown",
   "id": "195747e6",
   "metadata": {},
   "source": [
    "1. If the number of features is much larger than the number of samples\n",
    "2. avoid overfitting is choosing kernal function and regularization term is crucial\n",
    "3. SVM do not directly provie probability estimate, these calculate using **Five Fold-Cross Validation** "
   ]
  },
  {
   "cell_type": "markdown",
   "id": "8747db1d",
   "metadata": {},
   "source": [
    "### There are two different types of SVM "
   ]
  },
  {
   "cell_type": "markdown",
   "id": "bdd84288",
   "metadata": {},
   "source": [
    "1. Linear SVM\n",
    "2. Non - Linear SVM"
   ]
  },
  {
   "cell_type": "markdown",
   "id": "2fe565d0",
   "metadata": {},
   "source": [
    "### 1. Linear SVM"
   ]
  },
  {
   "cell_type": "markdown",
   "id": "26457b81",
   "metadata": {},
   "source": [
    "1. Linear SVM is used for linearly separable data, which means datasets can be classified into two classes using single straight line.\n",
    "2. then such type of data called linearly separable data and classifier called as Linear SVM classifier"
   ]
  },
  {
   "cell_type": "markdown",
   "id": "72a4d58e",
   "metadata": {},
   "source": [
    "### 2. Non Linear SVM"
   ]
  },
  {
   "cell_type": "markdown",
   "id": "54d51ab7",
   "metadata": {},
   "source": [
    "1. Non-Linear SVM is used for non linerarly separable data, which means if dataset cannot be classified by using straight line\n",
    "2. then such type of data called as non linear data aand classifier is called Non Linear SVM"
   ]
  },
  {
   "cell_type": "markdown",
   "id": "9c5b5214",
   "metadata": {},
   "source": [
    "### How Does Support Vector Machine Learning algorithm works ? "
   ]
  },
  {
   "cell_type": "markdown",
   "id": "6f5aec80",
   "metadata": {},
   "source": [
    "1. The main objective of SVM is to segragate the given data in the best possible way\n",
    "2. When the segragation of datapoints is done, the distance between nearest points is called as **Margin**\n",
    "3. To select the maximum hyperplane in the given dataset,Support vector machine Follows:\n",
    "    1. Generate Hyperplanne which segregate the classes in the best possible ways\n",
    "    2. Select the right hyperplane with maximum segregation from the either nearest data points"
   ]
  },
  {
   "cell_type": "markdown",
   "id": "2ae9e60f",
   "metadata": {},
   "source": [
    "### Major Kernal Function in Support Vector Machine (SVM)"
   ]
  },
  {
   "cell_type": "markdown",
   "id": "adf11989",
   "metadata": {},
   "source": [
    "1. SVM adds more dimension to a low dimension space it easily segragate the data points\n",
    "2. Kernal function is method which is used to take data as input and tranform them in to required form of Processing data\n",
    "3. Kernal is used due to set a mathematical function used in SVM providing window manipulate data\n",
    "4. Kernal function is genrally transform the training datasets so that non-linear decision is ability to transform to linear equation in Higher dimesion space.\n",
    "5. If return the innner product between two points in as standard feture dimension\n",
    "6. It converts the insaparable problems to separable problems by adding more dimension using Kernal function trick."
   ]
  },
  {
   "cell_type": "markdown",
   "id": "9ae690d8",
   "metadata": {},
   "source": [
    "### There are different types of Kernal Function"
   ]
  },
  {
   "cell_type": "markdown",
   "id": "7e83df02",
   "metadata": {},
   "source": [
    "# ![](https://miro.medium.com/v2/resize:fit:550/1*GewLgXGRC1J0HbCZg4WUCQ.jpeg)"
   ]
  },
  {
   "cell_type": "code",
   "execution_count": null,
   "id": "ef32b623",
   "metadata": {},
   "outputs": [],
   "source": []
  }
 ],
 "metadata": {
  "kernelspec": {
   "display_name": "Python 3 (ipykernel)",
   "language": "python",
   "name": "python3"
  },
  "language_info": {
   "codemirror_mode": {
    "name": "ipython",
    "version": 3
   },
   "file_extension": ".py",
   "mimetype": "text/x-python",
   "name": "python",
   "nbconvert_exporter": "python",
   "pygments_lexer": "ipython3",
   "version": "3.11.5"
  }
 },
 "nbformat": 4,
 "nbformat_minor": 5
}
