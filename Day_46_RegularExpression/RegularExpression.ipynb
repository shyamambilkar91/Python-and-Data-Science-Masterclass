{
 "cells": [
  {
   "cell_type": "markdown",
   "id": "29ced6de",
   "metadata": {},
   "source": [
    "# Regular Expression"
   ]
  },
  {
   "cell_type": "markdown",
   "id": "c3ff7f69",
   "metadata": {},
   "source": [
    "## Special Sequences"
   ]
  },
  {
   "cell_type": "markdown",
   "id": "1281f5e3",
   "metadata": {},
   "source": [
    "### 1. [ \\A ] - Returns a match if the specified characters are the begining of the string"
   ]
  },
  {
   "cell_type": "code",
   "execution_count": 1,
   "id": "5f3f02cb",
   "metadata": {},
   "outputs": [
    {
     "name": "stdout",
     "output_type": "stream",
     "text": [
      "['welcome']\n",
      "Yes, Match is available\n"
     ]
    }
   ],
   "source": [
    "import re\n",
    "my_text = \"welcome to Regular Expression\"\n",
    "\n",
    "my_exp = re.findall(\"\\Awelcome\",my_text)\n",
    "\n",
    "print(my_exp)\n",
    "\n",
    "if my_exp:\n",
    "    print(\"Yes, Match is available\")\n",
    "else:\n",
    "    print(\"No Match\")"
   ]
  },
  {
   "cell_type": "code",
   "execution_count": 2,
   "id": "82b5acf4",
   "metadata": {},
   "outputs": [
    {
     "name": "stdout",
     "output_type": "stream",
     "text": [
      "['welcome']\n",
      "Yes, Match is available\n"
     ]
    }
   ],
   "source": [
    "import re\n",
    "my_text = \"welcome to Regular Expression\"\n",
    "\n",
    "my_exp = re.findall(\"^welcome\",my_text)\n",
    "\n",
    "print(my_exp)\n",
    "\n",
    "if my_exp:\n",
    "    print(\"Yes, Match is available\")\n",
    "else:\n",
    "    print(\"No Match\")"
   ]
  },
  {
   "cell_type": "markdown",
   "id": "936ff138",
   "metadata": {},
   "source": [
    "### 2. [ \\b ] -Returns a match where the specified character are at the begining  or at the end of a word"
   ]
  },
  {
   "cell_type": "code",
   "execution_count": 6,
   "id": "529bf194",
   "metadata": {},
   "outputs": [
    {
     "name": "stdout",
     "output_type": "stream",
     "text": [
      "['to']\n",
      "Yes, Match is available\n"
     ]
    }
   ],
   "source": [
    "import re\n",
    "my_text = \"welcome to Regular Expression\"\n",
    "\n",
    "my_exp = re.findall(r\"\\bto\",my_text)\n",
    "\n",
    "print(my_exp)\n",
    "\n",
    "if my_exp:\n",
    "    print(\"Yes, Match is available\")\n",
    "else:\n",
    "    print(\"No Match\")"
   ]
  },
  {
   "cell_type": "markdown",
   "id": "0618c89f",
   "metadata": {},
   "source": [
    "### 3. [ \\B ] - Returns a value where specified character are present, but NOT at the begining (or at the end ) of string"
   ]
  },
  {
   "cell_type": "code",
   "execution_count": 9,
   "id": "f33a9c8c",
   "metadata": {},
   "outputs": [
    {
     "name": "stdout",
     "output_type": "stream",
     "text": [
      "['ar']\n",
      "Yes, Match is available\n"
     ]
    }
   ],
   "source": [
    "import re\n",
    "my_text = \"welcome to Regular Expression and web Scrapping in to Python\"\n",
    "\n",
    "my_exp = re.findall(r\"\\Bar\",my_text)\n",
    "\n",
    "print(my_exp)\n",
    "\n",
    "if my_exp:\n",
    "    print(\"Yes, Match is available\")\n",
    "else:\n",
    "    print(\"No Match\")"
   ]
  },
  {
   "cell_type": "code",
   "execution_count": 11,
   "id": "671f8a1f",
   "metadata": {},
   "outputs": [
    {
     "name": "stdout",
     "output_type": "stream",
     "text": [
      "['egular']\n",
      "Yes, Match is available\n"
     ]
    }
   ],
   "source": [
    "import re\n",
    "my_text = \"welcome to Regular Expression and web Scrapping in to Python\"\n",
    "\n",
    "my_exp = re.findall(r\"\\Begular\",my_text)\n",
    "\n",
    "print(my_exp)\n",
    "\n",
    "if my_exp:\n",
    "    print(\"Yes, Match is available\")\n",
    "else:\n",
    "    print(\"No Match\")"
   ]
  },
  {
   "cell_type": "code",
   "execution_count": 13,
   "id": "ea6b0f34",
   "metadata": {},
   "outputs": [
    {
     "name": "stdout",
     "output_type": "stream",
     "text": [
      "['crapping']\n",
      "Yes, Match is available\n"
     ]
    }
   ],
   "source": [
    "import re\n",
    "my_text = \"welcome to Regular Expression and web Scrapping in to Python\"\n",
    "\n",
    "my_exp = re.findall(r\"\\Bcrapping\",my_text)\n",
    "\n",
    "print(my_exp)\n",
    "\n",
    "if my_exp:\n",
    "    print(\"Yes, Match is available\")\n",
    "else:\n",
    "    print(\"No Match\")"
   ]
  },
  {
   "cell_type": "markdown",
   "id": "fd494797",
   "metadata": {},
   "source": [
    "### 4. [ \\d ] - Returns a match where the the string contains digits(numbers 0 - 9)"
   ]
  },
  {
   "cell_type": "code",
   "execution_count": 18,
   "id": "52a4d3a6",
   "metadata": {},
   "outputs": [
    {
     "name": "stdout",
     "output_type": "stream",
     "text": [
      "['3', '12', '9923090436']\n",
      "Yes, Match is available\n"
     ]
    }
   ],
   "source": [
    "import re\n",
    "my_text = \"welcome to Regular Expression and web Scrapping in to Python. current version of Python is 3.12. contact no is 9923090436\"\n",
    "\n",
    "my_exp = re.findall(r\"\\d{1,10}\",my_text)\n",
    "\n",
    "print(my_exp)\n",
    "\n",
    "if my_exp:\n",
    "    print(\"Yes, Match is available\")\n",
    "else:\n",
    "    print(\"No Match\")"
   ]
  },
  {
   "cell_type": "code",
   "execution_count": 19,
   "id": "a3161a86",
   "metadata": {},
   "outputs": [
    {
     "name": "stdout",
     "output_type": "stream",
     "text": [
      "['3', '12', '9923090436']\n",
      "Yes, Match is available\n"
     ]
    }
   ],
   "source": [
    "import re\n",
    "my_text = \"welcome to Regular Expression and web Scrapping in to Python. current version of Python is 3.12. contact no is 9923090436\"\n",
    "\n",
    "my_exp = re.findall(r\"[0-9]{1,10}\",my_text)\n",
    "\n",
    "print(my_exp)\n",
    "\n",
    "if my_exp:\n",
    "    print(\"Yes, Match is available\")\n",
    "else:\n",
    "    print(\"No Match\")"
   ]
  },
  {
   "cell_type": "markdown",
   "id": "7882c921",
   "metadata": {},
   "source": [
    "### 4. [ \\D ] - Returns a match where the the string does not contains digits(numbers 0 - 9)"
   ]
  },
  {
   "cell_type": "code",
   "execution_count": 25,
   "id": "4a902912",
   "metadata": {},
   "outputs": [
    {
     "name": "stdout",
     "output_type": "stream",
     "text": [
      "['welcome to Regular Expression and web Scrapping in to Python. current version of Python is ', '. contact no is ']\n",
      "Yes, Match is available\n"
     ]
    }
   ],
   "source": [
    "import re\n",
    "my_text = \"welcome to Regular Expression and web Scrapping in to Python. current version of Python is 3.12. contact no is 9923090436\"\n",
    "\n",
    "my_exp = re.findall(r\"\\D{2,100}\",my_text)\n",
    "\n",
    "print(my_exp)\n",
    "\n",
    "if my_exp:\n",
    "    print(\"Yes, Match is available\")\n",
    "else:\n",
    "    print(\"No Match\")"
   ]
  },
  {
   "cell_type": "markdown",
   "id": "ed8c3a4b",
   "metadata": {},
   "source": [
    "### 5. [ \\s ] - Return a match where the string contains white space character"
   ]
  },
  {
   "cell_type": "code",
   "execution_count": 30,
   "id": "b366b028",
   "metadata": {},
   "outputs": [
    {
     "name": "stdout",
     "output_type": "stream",
     "text": [
      "[' ', ' ', ' ', ' ', ' ', ' ', ' ', ' ', ' ', ' ', ' ', ' ', ' ', ' ', ' ', ' ', ' ', ' ', ' ']\n",
      "Yes, Match is available\n"
     ]
    }
   ],
   "source": [
    "import re\n",
    "my_text = \"welcome to Regular Expression and web Scrapping in to Python. current version of Python is 3.12. contact no is 9923090436\"\n",
    "\n",
    "my_exp = re.findall(r\"\\s\",my_text)\n",
    "\n",
    "print(my_exp)\n",
    "\n",
    "if my_exp:\n",
    "    print(\"Yes, Match is available\")\n",
    "else:\n",
    "    print(\"No Match\")"
   ]
  },
  {
   "cell_type": "markdown",
   "id": "9f4ab51d",
   "metadata": {},
   "source": [
    "### 6. [ \\s ] - Return a match where the string does not contains white space character"
   ]
  },
  {
   "cell_type": "code",
   "execution_count": 31,
   "id": "7a369b3a",
   "metadata": {},
   "outputs": [
    {
     "name": "stdout",
     "output_type": "stream",
     "text": [
      "['w', 'e', 'l', 'c', 'o', 'm', 'e', 't', 'o', 'R', 'e', 'g', 'u', 'l', 'a', 'r', 'E', 'x', 'p', 'r', 'e', 's', 's', 'i', 'o', 'n', 'a', 'n', 'd', 'w', 'e', 'b', 'S', 'c', 'r', 'a', 'p', 'p', 'i', 'n', 'g', 'i', 'n', 't', 'o', 'P', 'y', 't', 'h', 'o', 'n', '.', 'c', 'u', 'r', 'r', 'e', 'n', 't', 'v', 'e', 'r', 's', 'i', 'o', 'n', 'o', 'f', 'P', 'y', 't', 'h', 'o', 'n', 'i', 's', '3', '.', '1', '2', '.', 'c', 'o', 'n', 't', 'a', 'c', 't', 'n', 'o', 'i', 's', '9', '9', '2', '3', '0', '9', '0', '4', '3', '6']\n",
      "Yes, Match is available\n"
     ]
    }
   ],
   "source": [
    "import re\n",
    "my_text = \"welcome to Regular Expression and web Scrapping in to Python. current version of Python is 3.12. contact no is 9923090436\"\n",
    "\n",
    "my_exp = re.findall(r\"\\S\",my_text)\n",
    "\n",
    "print(my_exp)\n",
    "\n",
    "if my_exp:\n",
    "    print(\"Yes, Match is available\")\n",
    "else:\n",
    "    print(\"No Match\")"
   ]
  },
  {
   "cell_type": "markdown",
   "id": "16d3d69d",
   "metadata": {},
   "source": [
    "### 7. [ \\w ] - Returns a match where string contains any word character (character from a to Z, digits from 0-9, and underscore character)"
   ]
  },
  {
   "cell_type": "code",
   "execution_count": 33,
   "id": "2e244f89",
   "metadata": {},
   "outputs": [
    {
     "name": "stdout",
     "output_type": "stream",
     "text": [
      "['w', 'e', 'l', 'c', 'o', 'm', 'e', 't', 'o', 'R', 'e', 'g', 'u', 'l', 'a', 'r', 'E', 'x', 'p', 'r', 'e', 's', 's', 'i', 'o', 'n', 'a', 'n', 'd', 'w', 'e', 'b', 'S', 'c', 'r', 'a', 'p', 'p', 'i', 'n', 'g', 'i', 'n', 't', 'o', 'P', 'y', 't', 'h', 'o', 'n', '_', 'a', 'n', 'd', '_', 'D', 'a', 't', 'a', 'S', 'c', 'i', 'e', 'n', 'c', 'e', 'c', 'u', 'r', 'r', 'e', 'n', 't', 'v', 'e', 'r', 's', 'i', 'o', 'n', 'o', 'f', 'P', 'y', 't', 'h', 'o', 'n', 'i', 's', '3', '1', '2', 'c', 'o', 'n', 't', 'a', 'c', 't', 'n', 'o', 'i', 's', '9', '9', '2', '3', '0', '9', '0', '4', '3', '6']\n",
      "Yes, Match is available\n"
     ]
    }
   ],
   "source": [
    "import re\n",
    "my_text = \"welcome to Regular Expression and web Scrapping in to Python_and_DataScience. current version of Python is 3.12. contact no is 9923090436\"\n",
    "\n",
    "my_exp = re.findall(r\"\\w\",my_text)\n",
    "\n",
    "print(my_exp)\n",
    "\n",
    "if my_exp:\n",
    "    print(\"Yes, Match is available\")\n",
    "else:\n",
    "    print(\"No Match\")"
   ]
  },
  {
   "cell_type": "code",
   "execution_count": null,
   "id": "32b72074",
   "metadata": {},
   "outputs": [],
   "source": [
    "8. [ \\W ] - Returns a match where string does not contains any word character"
   ]
  },
  {
   "cell_type": "code",
   "execution_count": 36,
   "id": "6f752fb2",
   "metadata": {},
   "outputs": [
    {
     "name": "stdout",
     "output_type": "stream",
     "text": [
      "[' ', ' ', ' ', ' ', '@', ' ', ' ', ' ', '.', '.', '!', ' ', ' ', ' ', '.', ' ', ' ', ' ', ' ', ' ', ' ', '.', '.', ' ', ' ', ' ', ' ']\n",
      "Yes, Match is available\n"
     ]
    }
   ],
   "source": [
    "import re\n",
    "my_text = \"welcome to Regular Expression @ and web Scrapping..! in to Python_and_DataScience. current version of Python is 3.12. contact no is 9923090436\"\n",
    "\n",
    "my_exp = re.findall(r\"\\W\",my_text)\n",
    "\n",
    "print(my_exp)\n",
    "\n",
    "if my_exp:\n",
    "    print(\"Yes, Match is available\")\n",
    "else:\n",
    "    print(\"No Match\")"
   ]
  },
  {
   "cell_type": "markdown",
   "id": "9ce17ca3",
   "metadata": {},
   "source": [
    "#### 9. [ \\Z ] - Returns a match if the specified characters are the end of the string"
   ]
  },
  {
   "cell_type": "code",
   "execution_count": 40,
   "id": "c59617f9",
   "metadata": {},
   "outputs": [
    {
     "name": "stdout",
     "output_type": "stream",
     "text": [
      "['Scrapping']\n",
      "Yes, Match is available\n"
     ]
    }
   ],
   "source": [
    "import re\n",
    "my_text = \"welcome to Regular Expression @ and web Scrapping\"\n",
    "\n",
    "my_exp = re.findall(r\"Scrapping\\Z\",my_text)\n",
    "\n",
    "print(my_exp)\n",
    "\n",
    "if my_exp:\n",
    "    print(\"Yes, Match is available\")\n",
    "else:\n",
    "    print(\"No Match\")"
   ]
  },
  {
   "cell_type": "code",
   "execution_count": null,
   "id": "e142f6b2",
   "metadata": {},
   "outputs": [],
   "source": []
  }
 ],
 "metadata": {
  "kernelspec": {
   "display_name": "Python 3 (ipykernel)",
   "language": "python",
   "name": "python3"
  },
  "language_info": {
   "codemirror_mode": {
    "name": "ipython",
    "version": 3
   },
   "file_extension": ".py",
   "mimetype": "text/x-python",
   "name": "python",
   "nbconvert_exporter": "python",
   "pygments_lexer": "ipython3",
   "version": "3.11.5"
  }
 },
 "nbformat": 4,
 "nbformat_minor": 5
}
