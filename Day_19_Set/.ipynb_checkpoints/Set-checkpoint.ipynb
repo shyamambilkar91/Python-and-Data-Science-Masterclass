{
 "cells": [
  {
   "cell_type": "markdown",
   "id": "451d6abc",
   "metadata": {},
   "source": [
    "## Access Elements"
   ]
  },
  {
   "cell_type": "markdown",
   "id": "0390a585",
   "metadata": {},
   "source": [
    "1. You can not access set elements by referring indexing or key\n",
    "2. But you can access set elements by using loop or ask if a specified values is present in set"
   ]
  },
  {
   "cell_type": "code",
   "execution_count": 1,
   "id": "57cec9d3",
   "metadata": {},
   "outputs": [
    {
     "name": "stdout",
     "output_type": "stream",
     "text": [
      "cherry\n",
      "mango\n",
      "banana\n",
      "apple\n"
     ]
    }
   ],
   "source": [
    "my_set = {'apple','mango','banana','cherry'}\n",
    "\n",
    "for i in my_set:\n",
    "    print(i)"
   ]
  },
  {
   "cell_type": "code",
   "execution_count": 2,
   "id": "89dadc9a",
   "metadata": {},
   "outputs": [
    {
     "name": "stdout",
     "output_type": "stream",
     "text": [
      "True\n"
     ]
    }
   ],
   "source": [
    "print(\"mango\" in my_set)"
   ]
  },
  {
   "cell_type": "code",
   "execution_count": 3,
   "id": "52cab9ab",
   "metadata": {},
   "outputs": [
    {
     "name": "stdout",
     "output_type": "stream",
     "text": [
      "Yes,element is present in myset\n"
     ]
    }
   ],
   "source": [
    "if 'mango' in my_set:\n",
    "    print(\"Yes,element is present in myset\")\n",
    "else:\n",
    "    print(\"No, element is not present in myset\")"
   ]
  },
  {
   "cell_type": "code",
   "execution_count": 4,
   "id": "3bace616",
   "metadata": {},
   "outputs": [
    {
     "name": "stdout",
     "output_type": "stream",
     "text": [
      "No, element is not present in myset\n"
     ]
    }
   ],
   "source": [
    "if 'Mango' in my_set:\n",
    "    print(\"Yes,element is present in myset\")\n",
    "else:\n",
    "    print(\"No, element is not present in myset\")"
   ]
  },
  {
   "cell_type": "markdown",
   "id": "505251c0",
   "metadata": {},
   "source": [
    "**Note : Once set is created you can not change its items, but you add new items**"
   ]
  },
  {
   "cell_type": "code",
   "execution_count": 5,
   "id": "5e3d5341",
   "metadata": {},
   "outputs": [
    {
     "name": "stdout",
     "output_type": "stream",
     "text": [
      "{'mango', 'cherry', 'banana', 'watermelon', 'apple'}\n"
     ]
    }
   ],
   "source": [
    "my_set = {'apple','mango','banana','cherry'}\n",
    "\n",
    "my_set.add(\"watermelon\")\n",
    "print(my_set)"
   ]
  },
  {
   "cell_type": "markdown",
   "id": "4c028940",
   "metadata": {},
   "source": [
    "## Add Sets:\n",
    "    1. To add items(elements) from another set into current set, use the update() method"
   ]
  },
  {
   "cell_type": "code",
   "execution_count": 6,
   "id": "890ec8ff",
   "metadata": {},
   "outputs": [
    {
     "name": "stdout",
     "output_type": "stream",
     "text": [
      "{'cherry', 'grapes', 'banana', 'watermelon', 'mango', 'apple'}\n"
     ]
    }
   ],
   "source": [
    "my_set_1 = {'apple','mango','banana','cherry'}\n",
    "my_set_2 = {'watermelon','grapes'}\n",
    "\n",
    "my_set_1.update(my_set_2)\n",
    "\n",
    "print(my_set_1)"
   ]
  },
  {
   "cell_type": "code",
   "execution_count": 7,
   "id": "e2eaf954",
   "metadata": {},
   "outputs": [
    {
     "name": "stdout",
     "output_type": "stream",
     "text": [
      "{'cherry', 'banana', 'watermelon', 'mango', 'apple', 'grapes'}\n"
     ]
    }
   ],
   "source": [
    "my_set_1 = {'apple','mango','banana','cherry'}\n",
    "my_set_2 = {'watermelon','grapes'}\n",
    "\n",
    "my_set_2.update(my_set_1)\n",
    "\n",
    "print(my_set_2)"
   ]
  },
  {
   "cell_type": "code",
   "execution_count": 8,
   "id": "9feb96cc",
   "metadata": {},
   "outputs": [
    {
     "name": "stdout",
     "output_type": "stream",
     "text": [
      "None\n"
     ]
    }
   ],
   "source": [
    "my_set_1 = {'apple','mango','banana','cherry'}\n",
    "my_set_2 = {'watermelon','grapes'}\n",
    "\n",
    "my_set_3 = my_set_1.update(my_set_2)\n",
    "\n",
    "print(my_set_3)"
   ]
  },
  {
   "cell_type": "code",
   "execution_count": 9,
   "id": "4bbf58f0",
   "metadata": {},
   "outputs": [
    {
     "name": "stdout",
     "output_type": "stream",
     "text": [
      "{'cherry', 'grapes', 'banana', 'watermelon', 'mango', 'apple'}\n"
     ]
    }
   ],
   "source": [
    "my_set_3 = {'apple','mango','banana','cherry'}\n",
    "my_set_4 = {'watermelon','grapes'}\n",
    "\n",
    "my_set_3.update(my_set_4)\n",
    "\n",
    "print(my_set_3)"
   ]
  },
  {
   "cell_type": "markdown",
   "id": "1d59e687",
   "metadata": {},
   "source": [
    "## Remove Elements from Set"
   ]
  },
  {
   "cell_type": "markdown",
   "id": "2e3d425a",
   "metadata": {},
   "source": [
    "1. To remove an elements(items) in set using remove() or discard() method"
   ]
  },
  {
   "cell_type": "markdown",
   "id": "1ca09e91",
   "metadata": {},
   "source": [
    "### 1. Remove (remove() method)"
   ]
  },
  {
   "cell_type": "code",
   "execution_count": 10,
   "id": "51d89df5",
   "metadata": {},
   "outputs": [
    {
     "name": "stdout",
     "output_type": "stream",
     "text": [
      "{'cherry', 'mango', 'apple'}\n"
     ]
    }
   ],
   "source": [
    "my_set = {'apple','mango','banana','cherry'}\n",
    "\n",
    "my_set.remove('banana')\n",
    "print(my_set)"
   ]
  },
  {
   "cell_type": "markdown",
   "id": "2b49494a",
   "metadata": {},
   "source": [
    "**Note : If the elements(items) to remove does not exists, remove() will raise an error**"
   ]
  },
  {
   "cell_type": "code",
   "execution_count": 11,
   "id": "646c1be4",
   "metadata": {},
   "outputs": [
    {
     "ename": "KeyError",
     "evalue": "'watermelon'",
     "output_type": "error",
     "traceback": [
      "\u001b[1;31m---------------------------------------------------------------------------\u001b[0m",
      "\u001b[1;31mKeyError\u001b[0m                                  Traceback (most recent call last)",
      "Cell \u001b[1;32mIn[11], line 3\u001b[0m\n\u001b[0;32m      1\u001b[0m my_set \u001b[38;5;241m=\u001b[39m {\u001b[38;5;124m'\u001b[39m\u001b[38;5;124mapple\u001b[39m\u001b[38;5;124m'\u001b[39m,\u001b[38;5;124m'\u001b[39m\u001b[38;5;124mmango\u001b[39m\u001b[38;5;124m'\u001b[39m,\u001b[38;5;124m'\u001b[39m\u001b[38;5;124mbanana\u001b[39m\u001b[38;5;124m'\u001b[39m,\u001b[38;5;124m'\u001b[39m\u001b[38;5;124mcherry\u001b[39m\u001b[38;5;124m'\u001b[39m}\n\u001b[1;32m----> 3\u001b[0m my_set\u001b[38;5;241m.\u001b[39mremove(\u001b[38;5;124m'\u001b[39m\u001b[38;5;124mwatermelon\u001b[39m\u001b[38;5;124m'\u001b[39m)\n\u001b[0;32m      5\u001b[0m \u001b[38;5;28mprint\u001b[39m(my_set)\n",
      "\u001b[1;31mKeyError\u001b[0m: 'watermelon'"
     ]
    }
   ],
   "source": [
    "my_set = {'apple','mango','banana','cherry'}\n",
    "\n",
    "my_set.remove('watermelon')\n",
    "\n",
    "print(my_set)"
   ]
  },
  {
   "cell_type": "code",
   "execution_count": 15,
   "id": "57850006",
   "metadata": {},
   "outputs": [
    {
     "ename": "KeyError",
     "evalue": "'watermelon'",
     "output_type": "error",
     "traceback": [
      "\u001b[1;31m---------------------------------------------------------------------------\u001b[0m",
      "\u001b[1;31mKeyError\u001b[0m                                  Traceback (most recent call last)",
      "Cell \u001b[1;32mIn[15], line 3\u001b[0m\n\u001b[0;32m      1\u001b[0m my_set \u001b[38;5;241m=\u001b[39m {\u001b[38;5;124m'\u001b[39m\u001b[38;5;124mapple\u001b[39m\u001b[38;5;124m'\u001b[39m,\u001b[38;5;124m'\u001b[39m\u001b[38;5;124mmango\u001b[39m\u001b[38;5;124m'\u001b[39m,\u001b[38;5;124m'\u001b[39m\u001b[38;5;124mbanana\u001b[39m\u001b[38;5;124m'\u001b[39m,\u001b[38;5;124m'\u001b[39m\u001b[38;5;124mcherry\u001b[39m\u001b[38;5;124m'\u001b[39m}\n\u001b[1;32m----> 3\u001b[0m new_set \u001b[38;5;241m=\u001b[39m my_set\u001b[38;5;241m.\u001b[39mremove(\u001b[38;5;124m'\u001b[39m\u001b[38;5;124mwatermelon\u001b[39m\u001b[38;5;124m'\u001b[39m)\n\u001b[0;32m      5\u001b[0m \u001b[38;5;28mprint\u001b[39m(new_set)\n\u001b[0;32m      7\u001b[0m \u001b[38;5;28mprint\u001b[39m(my_set)\n",
      "\u001b[1;31mKeyError\u001b[0m: 'watermelon'"
     ]
    }
   ],
   "source": [
    "my_set = {'apple','mango','banana','cherry'}\n",
    "\n",
    "new_set = my_set.remove('watermelon')\n",
    "\n",
    "print(new_set)\n",
    "\n",
    "print(my_set)"
   ]
  },
  {
   "cell_type": "code",
   "execution_count": 16,
   "id": "acbd1f64",
   "metadata": {},
   "outputs": [
    {
     "name": "stdout",
     "output_type": "stream",
     "text": [
      "None\n",
      "{'cherry', 'mango', 'apple'}\n"
     ]
    }
   ],
   "source": [
    "my_set = {'apple','mango','banana','cherry'}\n",
    "\n",
    "new_set = my_set.remove('banana')\n",
    "\n",
    "print(new_set)\n",
    "\n",
    "print(my_set)"
   ]
  },
  {
   "cell_type": "markdown",
   "id": "c3da3764",
   "metadata": {},
   "source": [
    "### 2. Discard (discard() method)"
   ]
  },
  {
   "cell_type": "code",
   "execution_count": 12,
   "id": "6a64d15e",
   "metadata": {},
   "outputs": [
    {
     "name": "stdout",
     "output_type": "stream",
     "text": [
      "{'cherry', 'banana', 'apple'}\n"
     ]
    }
   ],
   "source": [
    "my_set = {'apple','mango','banana','cherry'}\n",
    "\n",
    "my_set.discard('mango')\n",
    "print(my_set)"
   ]
  },
  {
   "cell_type": "markdown",
   "id": "7fbfed56",
   "metadata": {},
   "source": [
    "**Note : If the elements(items) does not exist in set, discard() method will not raise an error**"
   ]
  },
  {
   "cell_type": "code",
   "execution_count": 13,
   "id": "5023b1cf",
   "metadata": {},
   "outputs": [
    {
     "name": "stdout",
     "output_type": "stream",
     "text": [
      "{'cherry', 'mango', 'banana', 'apple'}\n"
     ]
    }
   ],
   "source": [
    "my_set = {'apple','mango','banana','cherry'}\n",
    "\n",
    "my_set.discard('watermelon')\n",
    "\n",
    "print(my_set)"
   ]
  },
  {
   "cell_type": "code",
   "execution_count": 14,
   "id": "03d8af33",
   "metadata": {},
   "outputs": [
    {
     "name": "stdout",
     "output_type": "stream",
     "text": [
      "None\n",
      "{'cherry', 'mango', 'banana', 'apple'}\n"
     ]
    }
   ],
   "source": [
    "my_set = {'apple','mango','banana','cherry'}\n",
    "\n",
    "new_set = my_set.discard('watermelon')\n",
    "\n",
    "print(new_set)\n",
    "\n",
    "print(my_set)"
   ]
  },
  {
   "cell_type": "markdown",
   "id": "9ff742a2",
   "metadata": {},
   "source": [
    "### 3. Pop (pop() method)"
   ]
  },
  {
   "cell_type": "markdown",
   "id": "6ccf3b59",
   "metadata": {},
   "source": [
    "1. You can also use the pop() method to remove elements from set.\n",
    "2. But In set this method will random item, you cannot be sure what item that gets removed\n",
    "3. In set return value of the pop() method is the removed elements"
   ]
  },
  {
   "cell_type": "code",
   "execution_count": 18,
   "id": "3f576c5a",
   "metadata": {},
   "outputs": [
    {
     "name": "stdout",
     "output_type": "stream",
     "text": [
      "cherry\n",
      "{'mango', 'banana', 'apple'}\n"
     ]
    }
   ],
   "source": [
    "my_set = {'apple','mango','banana','cherry'}\n",
    "\n",
    "new_set = my_set.pop()\n",
    "\n",
    "print(new_set)\n",
    "\n",
    "print(my_set)"
   ]
  },
  {
   "cell_type": "markdown",
   "id": "8da0e27f",
   "metadata": {},
   "source": [
    "**Note : Sets are unordered so when we using the pop() method, you do not know which elements are removed from set**"
   ]
  },
  {
   "cell_type": "markdown",
   "id": "c0b8b9dd",
   "metadata": {},
   "source": [
    "### 4. Clear (clear() method)"
   ]
  },
  {
   "cell_type": "code",
   "execution_count": 19,
   "id": "998a12a8",
   "metadata": {},
   "outputs": [
    {
     "name": "stdout",
     "output_type": "stream",
     "text": [
      "set()\n"
     ]
    }
   ],
   "source": [
    "my_set = {'apple','mango','banana','cherry'}\n",
    "\n",
    "my_set.clear()\n",
    "\n",
    "print(my_set)"
   ]
  },
  {
   "cell_type": "markdown",
   "id": "4d737e16",
   "metadata": {},
   "source": [
    "### 5. Delete (del keyword)"
   ]
  },
  {
   "cell_type": "code",
   "execution_count": 20,
   "id": "d1bb0679",
   "metadata": {},
   "outputs": [
    {
     "ename": "NameError",
     "evalue": "name 'my_set' is not defined",
     "output_type": "error",
     "traceback": [
      "\u001b[1;31m---------------------------------------------------------------------------\u001b[0m",
      "\u001b[1;31mNameError\u001b[0m                                 Traceback (most recent call last)",
      "Cell \u001b[1;32mIn[20], line 5\u001b[0m\n\u001b[0;32m      1\u001b[0m my_set \u001b[38;5;241m=\u001b[39m {\u001b[38;5;124m'\u001b[39m\u001b[38;5;124mapple\u001b[39m\u001b[38;5;124m'\u001b[39m,\u001b[38;5;124m'\u001b[39m\u001b[38;5;124mmango\u001b[39m\u001b[38;5;124m'\u001b[39m,\u001b[38;5;124m'\u001b[39m\u001b[38;5;124mbanana\u001b[39m\u001b[38;5;124m'\u001b[39m,\u001b[38;5;124m'\u001b[39m\u001b[38;5;124mcherry\u001b[39m\u001b[38;5;124m'\u001b[39m}\n\u001b[0;32m      3\u001b[0m \u001b[38;5;28;01mdel\u001b[39;00m my_set\n\u001b[1;32m----> 5\u001b[0m \u001b[38;5;28mprint\u001b[39m(my_set)\n",
      "\u001b[1;31mNameError\u001b[0m: name 'my_set' is not defined"
     ]
    }
   ],
   "source": [
    "my_set = {'apple','mango','banana','cherry'}\n",
    "\n",
    "del my_set\n",
    "\n",
    "print(my_set)"
   ]
  },
  {
   "cell_type": "markdown",
   "id": "6a4f6daa",
   "metadata": {},
   "source": [
    "### Python - Join Two sets"
   ]
  },
  {
   "cell_type": "markdown",
   "id": "8875a6e3",
   "metadata": {},
   "source": [
    "1. There are diffrent ways to join two or more sets in Python\n",
    "2. You can use the union() method join two sets\n",
    "3. Union method return a new set containing all items from both sets [my_set_1 and my_set_2] \n",
    "4. In sets use update() method that inserts all the elements from one set to another set"
   ]
  },
  {
   "cell_type": "markdown",
   "id": "b36d672b",
   "metadata": {},
   "source": [
    "### 1. Union (union() method)"
   ]
  },
  {
   "cell_type": "code",
   "execution_count": 21,
   "id": "fd1b518b",
   "metadata": {},
   "outputs": [
    {
     "name": "stdout",
     "output_type": "stream",
     "text": [
      "{'cherry', 'grapes', 'banana', 'watermelon', 'mango', 'apple'}\n"
     ]
    }
   ],
   "source": [
    "my_set_1 = {'apple','mango','banana','cherry'}\n",
    "my_set_2 = {'watermelon','grapes'}\n",
    "\n",
    "my_set_3 = my_set_1.union(my_set_2)\n",
    "\n",
    "print(my_set_3)"
   ]
  },
  {
   "cell_type": "code",
   "execution_count": 22,
   "id": "b7ef1612",
   "metadata": {},
   "outputs": [
    {
     "name": "stdout",
     "output_type": "stream",
     "text": [
      "{'cherry', 'mango', 'banana', 'apple'}\n"
     ]
    }
   ],
   "source": [
    "my_set_1 = {'apple','mango','banana','cherry'}\n",
    "my_set_2 = {'watermelon','grapes'}\n",
    "\n",
    "my_set_1.union(my_set_2)\n",
    "\n",
    "print(my_set_1)"
   ]
  },
  {
   "cell_type": "code",
   "execution_count": 23,
   "id": "cb6275f5",
   "metadata": {},
   "outputs": [
    {
     "name": "stdout",
     "output_type": "stream",
     "text": [
      "{'watermelon', 'grapes'}\n"
     ]
    }
   ],
   "source": [
    "my_set_1 = {'apple','mango','banana','cherry'}\n",
    "my_set_2 = {'watermelon','grapes'}\n",
    "\n",
    "my_set_1.union(my_set_2)\n",
    "\n",
    "print(my_set_2)"
   ]
  },
  {
   "cell_type": "markdown",
   "id": "a64068c1",
   "metadata": {},
   "source": [
    "### 1. Update (update() method)"
   ]
  },
  {
   "cell_type": "code",
   "execution_count": 24,
   "id": "73a700cc",
   "metadata": {},
   "outputs": [
    {
     "name": "stdout",
     "output_type": "stream",
     "text": [
      "{'cherry', 'grapes', 'banana', 'watermelon', 'mango', 'apple'}\n"
     ]
    }
   ],
   "source": [
    "my_set_1 = {'apple','mango','banana','cherry'}\n",
    "my_set_2 = {'watermelon','grapes'}\n",
    "\n",
    "my_set_1.update(my_set_2)\n",
    "\n",
    "print(my_set_1)"
   ]
  },
  {
   "cell_type": "code",
   "execution_count": 25,
   "id": "57104462",
   "metadata": {},
   "outputs": [
    {
     "name": "stdout",
     "output_type": "stream",
     "text": [
      "None\n"
     ]
    }
   ],
   "source": [
    "my_set_1 = {'apple','mango','banana','cherry'}\n",
    "my_set_2 = {'watermelon','grapes'}\n",
    "\n",
    "my_set_3 = my_set_1.update(my_set_2)\n",
    "\n",
    "print(my_set_3)"
   ]
  },
  {
   "cell_type": "code",
   "execution_count": 26,
   "id": "d7bef1e1",
   "metadata": {},
   "outputs": [
    {
     "name": "stdout",
     "output_type": "stream",
     "text": [
      "{'cherry', 'grapes', 'banana', 'watermelon', 'mango', 'apple'}\n"
     ]
    }
   ],
   "source": [
    "my_set_1 = {'apple','mango','banana','cherry','watermelon'}\n",
    "my_set_2 = {'watermelon','grapes','apple'}\n",
    "\n",
    "my_set_1.update(my_set_2)\n",
    "\n",
    "print(my_set_1)"
   ]
  },
  {
   "cell_type": "markdown",
   "id": "d8c2d74d",
   "metadata": {},
   "source": [
    "**Note : Both union() and update() method will exclude any duplicate values**"
   ]
  },
  {
   "cell_type": "code",
   "execution_count": null,
   "id": "399a3f98",
   "metadata": {},
   "outputs": [],
   "source": []
  }
 ],
 "metadata": {
  "kernelspec": {
   "display_name": "Python 3 (ipykernel)",
   "language": "python",
   "name": "python3"
  },
  "language_info": {
   "codemirror_mode": {
    "name": "ipython",
    "version": 3
   },
   "file_extension": ".py",
   "mimetype": "text/x-python",
   "name": "python",
   "nbconvert_exporter": "python",
   "pygments_lexer": "ipython3",
   "version": "3.11.5"
  }
 },
 "nbformat": 4,
 "nbformat_minor": 5
}
