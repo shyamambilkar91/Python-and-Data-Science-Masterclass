{
 "cells": [
  {
   "cell_type": "markdown",
   "id": "f6cb89c1",
   "metadata": {},
   "source": [
    "# Data Abstraction"
   ]
  },
  {
   "cell_type": "markdown",
   "id": "02a95545",
   "metadata": {},
   "source": [
    "1. Abstraction is used to hide the internal functionality of the function from the users.\n",
    "2. The users only interact with the basic implementation of the function, but inner working is hidden.\n",
    "3. User is familiar with that \"What function does\" but they dont know \"how it works\""
   ]
  },
  {
   "cell_type": "markdown",
   "id": "402be75f",
   "metadata": {},
   "source": [
    "## Why Abstraction is important ? "
   ]
  },
  {
   "cell_type": "markdown",
   "id": "8fedf79f",
   "metadata": {},
   "source": [
    "1. In Python an abstraction is used to hide the irrelevant data/class in order to reduce the complexity. \n",
    "2. It also ehances the application efficiency"
   ]
  },
  {
   "cell_type": "markdown",
   "id": "6d86b8fd",
   "metadata": {},
   "source": [
    "## Abstraction Classes in Python"
   ]
  },
  {
   "cell_type": "markdown",
   "id": "544e1918",
   "metadata": {},
   "source": [
    "1. In Python, abstraction can be achived using abstract classes and interfaces\n",
    "2. A class that consist of one or more abstract method is called the abstract class\n",
    "3. Abstract method do not contain their implementation\n",
    "4. Abstract class can be inherited by the subclasses and abstract methods gets its definiton in the subclass"
   ]
  },
  {
   "cell_type": "markdown",
   "id": "a799801c",
   "metadata": {},
   "source": [
    "## Syntax"
   ]
  },
  {
   "cell_type": "code",
   "execution_count": 1,
   "id": "1e27efc6",
   "metadata": {},
   "outputs": [],
   "source": [
    "# we import the ABC class from the abc module\n",
    "from abc import ABC\n",
    "\n",
    "class CarName(ABC):\n",
    "    pass"
   ]
  },
  {
   "cell_type": "markdown",
   "id": "7bbf4582",
   "metadata": {},
   "source": [
    "### Example"
   ]
  },
  {
   "cell_type": "code",
   "execution_count": 2,
   "id": "875bee82",
   "metadata": {},
   "outputs": [
    {
     "name": "stdout",
     "output_type": "stream",
     "text": [
      "The milage of Tesla Car is 30kmph\n",
      "The milage of Suzuki Car is 25kmph\n"
     ]
    }
   ],
   "source": [
    "from abc import ABC, abstractmethod\n",
    "\n",
    "class CarName(ABC):\n",
    "    def milage(self):\n",
    "        pass\n",
    "    \n",
    "class Tesla(CarName):\n",
    "    def milage(self):\n",
    "        print(\"The milage of Tesla Car is 30kmph\")\n",
    "        \n",
    "class Suzuki(CarName):\n",
    "    def milage(self):\n",
    "        print(\"The milage of Suzuki Car is 25kmph\")  \n",
    "        \n",
    "        \n",
    "class Tata(CarName):\n",
    "    def milage(self):\n",
    "        print(\"The milage of Tata Car is 35kmph\")\n",
    "        \n",
    "        \n",
    "class Renault(CarName):\n",
    "    def milage(self):\n",
    "        print(\"The milage of Renault Car is 20kmph\")\n",
    "        \n",
    "        \n",
    "#Driver Code\n",
    "t_1 = Tesla()\n",
    "t_1.milage()\n",
    "\n",
    "s_1 = Suzuki()\n",
    "s_1.milage()\n",
    "        "
   ]
  },
  {
   "cell_type": "code",
   "execution_count": 3,
   "id": "0f05196e",
   "metadata": {},
   "outputs": [
    {
     "name": "stdout",
     "output_type": "stream",
     "text": [
      "Triangel has 3 sides\n",
      "Square has 4 sides\n"
     ]
    }
   ],
   "source": [
    "from abc import ABC\n",
    "\n",
    "class Polygon(ABC):\n",
    "    # abstract method\n",
    "    def sides(self):\n",
    "        pass\n",
    "    \n",
    "class Triangle(Polygon):\n",
    "    def sides(self):\n",
    "        print(\"Triangel has 3 sides\")\n",
    "        \n",
    "class Pentagon(Polygon):\n",
    "    def sides(self):\n",
    "        print(\"Pentagon has 5 sides\")\n",
    "        \n",
    "class Hexagon(Polygon):\n",
    "    def sides(self):\n",
    "        print(\"Hexagon has 6 sides\")  \n",
    "        \n",
    "class Square(Polygon):\n",
    "    def sides(self):\n",
    "        print(\"Square has 4 sides\")\n",
    "\n",
    "#Driver Code\n",
    "t_1 = Triangle()\n",
    "t_1.sides()\n",
    "\n",
    "s_1 = Square()\n",
    "s_1.sides()"
   ]
  },
  {
   "cell_type": "markdown",
   "id": "7455ea2d",
   "metadata": {},
   "source": [
    "### Note : \n",
    "    1. An Abstract class can contain the both normal method and abstract method\n",
    "    2. Ab abstract cannot be instantiated; we can not create object for the abstract class\n",
    "    3. Abstraction is essential to hide the core functionality from the users**"
   ]
  },
  {
   "cell_type": "code",
   "execution_count": 4,
   "id": "e5bdcfa0",
   "metadata": {},
   "outputs": [
    {
     "name": "stdout",
     "output_type": "stream",
     "text": [
      "Engine is already running...!!\n"
     ]
    }
   ],
   "source": [
    "from abc import ABC, abstractmethod\n",
    "\n",
    "class BaseClass(ABC):\n",
    "    #abstract method\n",
    "    def method_1(self):\n",
    "        # empty body\n",
    "        pass\n",
    "    \n",
    "class CarName(BaseClass):\n",
    "    def __init__(self, brand_name, model_name, year):\n",
    "        self.brand_name = brand_name\n",
    "        self.model_name = model_name\n",
    "        self.year = year\n",
    "        self.engine_started = True\n",
    "        \n",
    "    def startEngine(self):\n",
    "        if not self.engine_started:\n",
    "            print(f\"Starting the {self.model_name}'s engine'\")\n",
    "            self.engine_started = True\n",
    "            \n",
    "        else:\n",
    "            print(\"Engine is already running...!!\")\n",
    "            \n",
    "#Driver Code\n",
    "c_1 = CarName(\"Tata\",\"Nexon\",\"2024\")\n",
    "c_1.startEngine()"
   ]
  },
  {
   "cell_type": "code",
   "execution_count": null,
   "id": "ae0df657",
   "metadata": {},
   "outputs": [],
   "source": []
  }
 ],
 "metadata": {
  "kernelspec": {
   "display_name": "Python 3 (ipykernel)",
   "language": "python",
   "name": "python3"
  },
  "language_info": {
   "codemirror_mode": {
    "name": "ipython",
    "version": 3
   },
   "file_extension": ".py",
   "mimetype": "text/x-python",
   "name": "python",
   "nbconvert_exporter": "python",
   "pygments_lexer": "ipython3",
   "version": "3.11.5"
  }
 },
 "nbformat": 4,
 "nbformat_minor": 5
}
