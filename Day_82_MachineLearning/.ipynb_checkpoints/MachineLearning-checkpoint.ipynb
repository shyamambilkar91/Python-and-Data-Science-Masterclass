{
 "cells": [
  {
   "cell_type": "markdown",
   "id": "175f3522",
   "metadata": {},
   "source": [
    "# Supervised Machine Learning Algorithm"
   ]
  },
  {
   "cell_type": "markdown",
   "id": "511b7306",
   "metadata": {},
   "source": [
    "1. Supervised machine Learning algorithm learns pattern and relationship between input variable [X] and output variable [Y]\n",
    "2. It is defined by use of labelled data\n",
    "3. Supervised Learning algorithm findout relationship of Feature and Target from the data\n",
    "4. This process called as Training and Fitting\n",
    "5. There are two differnt types of Supervised Machine Learning Algorithm:\n",
    "    1. Classification\n",
    "    2. Regression"
   ]
  },
  {
   "cell_type": "markdown",
   "id": "7698948b",
   "metadata": {},
   "source": [
    "## 1. Classification"
   ]
  },
  {
   "cell_type": "markdown",
   "id": "ed81cd8a",
   "metadata": {},
   "source": [
    "1. Classification is a type of Supervised Machine Learning algorithm\n",
    "2. In Classification algorithm where learns from the data to predict an outcome or event in the future.\n",
    "3. Example:\n",
    "    1. Using algorithm will findout perticular customer will defaulter or Non defaulter\n",
    "4. It is used to identify category of new observation on basis of Training data.\n",
    "5. It is used both Structure and Unstructured\n",
    "6. Classification can be three diffrent categories:\n",
    "    1. Binary Classification\n",
    "    2. Multiclass Classification\n",
    "    3. Multilabelled Classification"
   ]
  },
  {
   "cell_type": "markdown",
   "id": "6513e39a",
   "metadata": {},
   "source": [
    "### 1. Binary Classification"
   ]
  },
  {
   "cell_type": "markdown",
   "id": "c1939f6d",
   "metadata": {},
   "source": [
    "1. It is type of classification with two outcomes\n",
    "2. Example:\n",
    "    1. True or False\n",
    "    2. Yes or No\n",
    "    3. [1] or [0]\n",
    "3. Application:\n",
    "    1. News Category [Real or Fake]\n",
    "    2. Spam Filtering [Spam or Not Spam]"
   ]
  },
  {
   "cell_type": "markdown",
   "id": "4a4be7ff",
   "metadata": {},
   "source": [
    "![](https://encrypted-tbn0.gstatic.com/images?q=tbn:ANd9GcTkZ5u9A6WNxNXRtPI2sJJeQPLixQiXiibTDw&s)"
   ]
  },
  {
   "cell_type": "markdown",
   "id": "228acd83",
   "metadata": {},
   "source": [
    "### 2. Multiclass Classification"
   ]
  },
  {
   "cell_type": "markdown",
   "id": "f03aa5f9",
   "metadata": {},
   "source": [
    "1. If more than two class in Classfication then we called as Multiclass classification"
   ]
  },
  {
   "cell_type": "markdown",
   "id": "d23fc15c",
   "metadata": {},
   "source": [
    "![](https://gombru.github.io/assets/cross_entropy_loss/multiclass_multilabel.png)"
   ]
  },
  {
   "cell_type": "markdown",
   "id": "cdc7aaec",
   "metadata": {},
   "source": [
    "### 3. Multi-lable Classification"
   ]
  },
  {
   "cell_type": "markdown",
   "id": "8aa9c51c",
   "metadata": {},
   "source": [
    "![](https://gombru.github.io/assets/cross_entropy_loss/multiclass_multilabel.png)"
   ]
  },
  {
   "cell_type": "markdown",
   "id": "4e106914",
   "metadata": {},
   "source": [
    "### 2. Regression "
   ]
  },
  {
   "cell_type": "markdown",
   "id": "788d23ed",
   "metadata": {},
   "source": [
    "1. It is supervised Machine Learning algorithm\n",
    "2. Using Labelled data able to predict contineous value\n",
    "3. Example:\n",
    "    1. Weight of Person\n",
    "    2. Money or Height\n",
    "4. Input Variable [X - Independent Variable]\n",
    "5. Output Variable [Y - Dependent Variable or Target Variable]\n",
    "6. There are diffrent types of Regression:\n",
    "    1. Linear Regression\n",
    "    2. Lasso Regression [L1]\n",
    "    3. Ridge Regression [L2]"
   ]
  },
  {
   "cell_type": "markdown",
   "id": "a729aac3",
   "metadata": {},
   "source": [
    "![](https://dezyre.gumlet.io/images/blog/classification-vs-regression-in-machine-learning/Classification_vs._Regression_in_Machine_Learning.webp?w=376&dpr=2.6)"
   ]
  },
  {
   "cell_type": "markdown",
   "id": "6a832972",
   "metadata": {},
   "source": [
    "## There are diffrent types domains are available:\n",
    "    1. Healthcare\n",
    "    2. Banking\n",
    "    3. Financial\n",
    "    4. Retail\n",
    "    6. Automobiles"
   ]
  },
  {
   "cell_type": "code",
   "execution_count": null,
   "id": "8778243d",
   "metadata": {},
   "outputs": [],
   "source": []
  }
 ],
 "metadata": {
  "kernelspec": {
   "display_name": "Python 3 (ipykernel)",
   "language": "python",
   "name": "python3"
  },
  "language_info": {
   "codemirror_mode": {
    "name": "ipython",
    "version": 3
   },
   "file_extension": ".py",
   "mimetype": "text/x-python",
   "name": "python",
   "nbconvert_exporter": "python",
   "pygments_lexer": "ipython3",
   "version": "3.11.5"
  }
 },
 "nbformat": 4,
 "nbformat_minor": 5
}
