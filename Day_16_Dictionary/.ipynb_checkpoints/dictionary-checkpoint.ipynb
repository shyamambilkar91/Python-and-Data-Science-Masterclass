{
 "cells": [
  {
   "cell_type": "markdown",
   "id": "1efdce2c",
   "metadata": {},
   "source": [
    "# Python Dictionary"
   ]
  },
  {
   "cell_type": "code",
   "execution_count": 2,
   "id": "0c040563",
   "metadata": {},
   "outputs": [
    {
     "name": "stdout",
     "output_type": "stream",
     "text": [
      "Mustang\n"
     ]
    }
   ],
   "source": [
    "my_dict = {\n",
    "    \"brand\":'Ford',\n",
    "    \"model\":'Mustang',\n",
    "    'year': 2024\n",
    "}\n",
    "\n",
    "x = my_dict['model']\n",
    "print(x)"
   ]
  },
  {
   "cell_type": "code",
   "execution_count": 5,
   "id": "944bbd5e",
   "metadata": {},
   "outputs": [
    {
     "name": "stdout",
     "output_type": "stream",
     "text": [
      "['Hundai', 'nexon', 'swift', 'creta', 'harrier']\n"
     ]
    }
   ],
   "source": [
    "my_dict = {\n",
    "    \"brand\":'Tata',\n",
    "    \"model\":['Hundai','nexon','swift','creta','harrier'],\n",
    "    'year': 2024\n",
    "}\n",
    "\n",
    "x = my_dict['model']\n",
    "print(x)"
   ]
  },
  {
   "cell_type": "code",
   "execution_count": 6,
   "id": "e03c3fc6",
   "metadata": {},
   "outputs": [
    {
     "name": "stdout",
     "output_type": "stream",
     "text": [
      "swift\n"
     ]
    }
   ],
   "source": [
    "my_dict = {\n",
    "    \"brand\":'Tata',\n",
    "    \"model\":['Hundai','nexon','swift','creta','harrier'],\n",
    "    'year': 2024\n",
    "}\n",
    "\n",
    "x = my_dict['model'][2]\n",
    "print(x)"
   ]
  },
  {
   "cell_type": "code",
   "execution_count": 7,
   "id": "ace7b980",
   "metadata": {},
   "outputs": [
    {
     "name": "stdout",
     "output_type": "stream",
     "text": [
      "['Hundai', 'nexon']\n"
     ]
    }
   ],
   "source": [
    "my_dict = {\n",
    "    \"brand\":'Tata',\n",
    "    \"model\":['Hundai','nexon','swift','creta','harrier'],\n",
    "    'year': 2024\n",
    "}\n",
    "\n",
    "x = my_dict['model'][:2]\n",
    "print(x)"
   ]
  },
  {
   "cell_type": "code",
   "execution_count": 9,
   "id": "694ac593",
   "metadata": {},
   "outputs": [
    {
     "name": "stdout",
     "output_type": "stream",
     "text": [
      "{'sample'}\n",
      "<class 'set'>\n"
     ]
    }
   ],
   "source": [
    "my_dict = {'sample'}\n",
    "print(my_dict)\n",
    "print(type(my_dict))"
   ]
  },
  {
   "cell_type": "code",
   "execution_count": 10,
   "id": "2d74daea",
   "metadata": {},
   "outputs": [
    {
     "name": "stdout",
     "output_type": "stream",
     "text": [
      "{'brand': 'Tata', 'model': ['Hundai', 'nexon', 'swift', 'creta', 'harrier'], 'year': 2024}\n",
      "<class 'dict'>\n"
     ]
    }
   ],
   "source": [
    "my_dict = {\n",
    "    'brand':'Tata',\n",
    "    \"model\":['Hundai','nexon','swift','creta','harrier'],\n",
    "    'year': 2024\n",
    "}\n",
    "print(my_dict)\n",
    "print(type(my_dict))"
   ]
  },
  {
   "cell_type": "code",
   "execution_count": 11,
   "id": "819dea3a",
   "metadata": {},
   "outputs": [
    {
     "name": "stdout",
     "output_type": "stream",
     "text": [
      "{'brand': 'Tata', 'model': ['Hundai', 'nexon', 'swift', 'creta', 'harrier', 'swift'], 'year': 2024}\n",
      "<class 'dict'>\n"
     ]
    }
   ],
   "source": [
    "my_dict = {\n",
    "    'brand':'Tata',\n",
    "    \"model\":['Hundai','nexon','swift','creta','harrier','swift'],\n",
    "    'year': 2024\n",
    "}\n",
    "print(my_dict)\n",
    "print(type(my_dict))"
   ]
  },
  {
   "cell_type": "code",
   "execution_count": 12,
   "id": "4d76acb6",
   "metadata": {},
   "outputs": [
    {
     "name": "stdout",
     "output_type": "stream",
     "text": [
      "{'brand': 'Tata', 'model': 'harrier', 'year': 2024}\n",
      "<class 'dict'>\n"
     ]
    }
   ],
   "source": [
    "my_dict = {\n",
    "    'brand':'Tata',\n",
    "    \"model\":'swift',\n",
    "    'model': 'harrier',\n",
    "    'year': 2024\n",
    "}\n",
    "print(my_dict)\n",
    "print(type(my_dict))"
   ]
  },
  {
   "cell_type": "code",
   "execution_count": 14,
   "id": "78811e26",
   "metadata": {},
   "outputs": [
    {
     "name": "stdout",
     "output_type": "stream",
     "text": [
      "{'brand': 'Tata', 'model': 'harrier', 'year': 2024}\n",
      "<class 'dict'>\n"
     ]
    }
   ],
   "source": [
    "my_dict = {\n",
    "    'brand':'Tata',\n",
    "    \"model\":['Hundai','nexon','swift','creta','harrier','swift'],\n",
    "    'model': 'harrier',\n",
    "    'year': 2024\n",
    "}\n",
    "print(my_dict)\n",
    "print(type(my_dict))"
   ]
  },
  {
   "cell_type": "markdown",
   "id": "696cffba",
   "metadata": {},
   "source": [
    "### Accessing Elements"
   ]
  },
  {
   "cell_type": "code",
   "execution_count": 16,
   "id": "240b946c",
   "metadata": {},
   "outputs": [
    {
     "name": "stdout",
     "output_type": "stream",
     "text": [
      "creta\n"
     ]
    }
   ],
   "source": [
    "my_dict = {\n",
    "    'brand':'Tata',\n",
    "    \"model\":('Hundai','nexon','swift','creta','harrier','swift'),\n",
    "    'year': 2024\n",
    "}\n",
    "\n",
    "# print(my_dict)\n",
    "\n",
    "x = my_dict['model'][3]\n",
    "print(x)"
   ]
  },
  {
   "cell_type": "code",
   "execution_count": 17,
   "id": "ebc3c76d",
   "metadata": {},
   "outputs": [
    {
     "name": "stdout",
     "output_type": "stream",
     "text": [
      "('Hundai', 'nexon', 'swift')\n"
     ]
    }
   ],
   "source": [
    "my_dict = {\n",
    "    'brand':'Tata',\n",
    "    \"model\":('Hundai','nexon','swift','creta','harrier','swift'),\n",
    "    'year': 2024\n",
    "}\n",
    "\n",
    "# print(my_dict)\n",
    "\n",
    "x = my_dict['model'][:3]\n",
    "print(x)"
   ]
  },
  {
   "cell_type": "code",
   "execution_count": 18,
   "id": "4dfc0354",
   "metadata": {},
   "outputs": [
    {
     "name": "stdout",
     "output_type": "stream",
     "text": [
      "('Hundai', 'nexon', 'swift', 'creta', 'harrier', 'swift')\n"
     ]
    }
   ],
   "source": [
    "my_dict = {\n",
    "    'brand':'Tata',\n",
    "    \"model\":('Hundai','nexon','swift','creta','harrier','swift'),\n",
    "    'year': 2024\n",
    "}\n",
    "\n",
    "x = my_dict.get('model')\n",
    "print(x)"
   ]
  },
  {
   "cell_type": "code",
   "execution_count": 21,
   "id": "c42ba90c",
   "metadata": {},
   "outputs": [],
   "source": [
    "# help(my_dict.get('model'))"
   ]
  },
  {
   "cell_type": "markdown",
   "id": "67ec09a8",
   "metadata": {},
   "source": [
    "### Dictionary Get Values using values() method"
   ]
  },
  {
   "cell_type": "code",
   "execution_count": 22,
   "id": "27623d06",
   "metadata": {},
   "outputs": [
    {
     "name": "stdout",
     "output_type": "stream",
     "text": [
      "dict_values(['Tata', ('Hundai', 'nexon', 'swift', 'creta', 'harrier', 'swift'), 2024])\n"
     ]
    }
   ],
   "source": [
    "my_dict = {\n",
    "    'brand':'Tata',\n",
    "    \"model\":('Hundai','nexon','swift','creta','harrier','swift'),\n",
    "    'year': 2024\n",
    "}\n",
    "\n",
    "x = my_dict.values()\n",
    "print(x)"
   ]
  },
  {
   "cell_type": "code",
   "execution_count": 23,
   "id": "b8893b72",
   "metadata": {},
   "outputs": [
    {
     "name": "stdout",
     "output_type": "stream",
     "text": [
      "dict_keys(['brand', 'model', 'year'])\n"
     ]
    }
   ],
   "source": [
    "my_dict = {\n",
    "    'brand':'Tata',\n",
    "    \"model\":('Hundai','nexon','swift','creta','harrier','swift'),\n",
    "    'year': 2024\n",
    "}\n",
    "\n",
    "y = my_dict.keys()\n",
    "print(y)"
   ]
  },
  {
   "cell_type": "code",
   "execution_count": 26,
   "id": "2eb5b802",
   "metadata": {},
   "outputs": [
    {
     "name": "stdout",
     "output_type": "stream",
     "text": [
      "Before changing Dictionary Keys are dict_keys(['brand', 'model', 'year'])\n",
      "After adding Key in Dictionary:  dict_keys(['brand', 'model', 'year', 'color'])\n"
     ]
    }
   ],
   "source": [
    "my_dict = {\n",
    "    'brand':'Tata',\n",
    "    \"model\":('Hundai','nexon','swift','creta','harrier','swift'),\n",
    "    'year': 2024\n",
    "}\n",
    "\n",
    "x = my_dict.keys()\n",
    "print(\"Before changing Dictionary Keys are\",x)\n",
    "\n",
    "my_dict['color'] = 'red'\n",
    "\n",
    "print(\"After adding Key in Dictionary: \",x)"
   ]
  },
  {
   "cell_type": "markdown",
   "id": "d4dd33e5",
   "metadata": {},
   "source": [
    "### Get Values"
   ]
  },
  {
   "cell_type": "code",
   "execution_count": 28,
   "id": "d4094a03",
   "metadata": {},
   "outputs": [
    {
     "name": "stdout",
     "output_type": "stream",
     "text": [
      "dict_values(['Tata', ('Hundai', 'nexon', 'swift', 'creta', 'harrier', 'swift'), 2024])\n",
      "dict_values(['Tata', ('Hundai', 'nexon', 'swift', 'creta', 'harrier', 'swift'), 2023])\n"
     ]
    }
   ],
   "source": [
    "my_dict = {\n",
    "    'brand':'Tata',\n",
    "    \"model\":('Hundai','nexon','swift','creta','harrier','swift'),\n",
    "    'year': 2024\n",
    "}\n",
    "\n",
    "x = my_dict.values()\n",
    "print(x)\n",
    "\n",
    "my_dict['year'] = 2023\n",
    "\n",
    "print(x)"
   ]
  },
  {
   "cell_type": "code",
   "execution_count": 29,
   "id": "ed2c6f96",
   "metadata": {},
   "outputs": [
    {
     "name": "stdout",
     "output_type": "stream",
     "text": [
      "dict_items([('brand', 'Tata'), ('model', ('Hundai', 'nexon', 'swift', 'creta', 'harrier', 'swift')), ('year', 2024)])\n"
     ]
    }
   ],
   "source": [
    "my_dict = {\n",
    "    'brand':'Tata',\n",
    "    \"model\":('Hundai','nexon','swift','creta','harrier','swift'),\n",
    "    'year': 2024\n",
    "}\n",
    "\n",
    "x = my_dict.items()\n",
    "print(x)"
   ]
  },
  {
   "cell_type": "code",
   "execution_count": 30,
   "id": "bca4e36c",
   "metadata": {},
   "outputs": [
    {
     "name": "stdout",
     "output_type": "stream",
     "text": [
      "dict_items([('brand', 'Tata'), ('model', ('Hundai', 'nexon', 'swift', 'creta', 'harrier', 'swift')), ('year', 2024)])\n",
      "dict_items([('brand', 'Tata'), ('model', ('Hundai', 'nexon', 'swift', 'creta', 'harrier', 'swift')), ('year', 2023)])\n"
     ]
    }
   ],
   "source": [
    "my_dict = {\n",
    "    'brand':'Tata',\n",
    "    \"model\":('Hundai','nexon','swift','creta','harrier','swift'),\n",
    "    'year': 2024\n",
    "}\n",
    "\n",
    "x = my_dict.items()\n",
    "print(x)\n",
    "\n",
    "my_dict['year'] = 2023\n",
    "print(x)"
   ]
  },
  {
   "cell_type": "code",
   "execution_count": 31,
   "id": "ae3702da",
   "metadata": {},
   "outputs": [
    {
     "name": "stdout",
     "output_type": "stream",
     "text": [
      "Yes, Key is available\n"
     ]
    }
   ],
   "source": [
    "my_dict = {\n",
    "    'brand':'Tata',\n",
    "    \"model\":('Hundai','nexon','swift','creta','harrier','swift'),\n",
    "    'year': 2024\n",
    "}\n",
    "\n",
    "if 'model' in my_dict:\n",
    "    print(\"Yes, Key is available\")"
   ]
  },
  {
   "cell_type": "code",
   "execution_count": 34,
   "id": "b674d6d7",
   "metadata": {},
   "outputs": [
    {
     "name": "stdout",
     "output_type": "stream",
     "text": [
      "No Key is not available\n"
     ]
    }
   ],
   "source": [
    "my_dict = {\n",
    "    'brand':'Tata',\n",
    "    \"model\":('Hundai','nexon','swift','creta','harrier','swift'),\n",
    "    'year': 2024\n",
    "}\n",
    "\n",
    "if 'models' in my_dict:\n",
    "    print(\"Yes, Key is available\")\n",
    "else:\n",
    "    print(\"No Key is not available\")"
   ]
  },
  {
   "cell_type": "markdown",
   "id": "05355a34",
   "metadata": {},
   "source": [
    "### Update method"
   ]
  },
  {
   "cell_type": "code",
   "execution_count": 35,
   "id": "13e8a1bf",
   "metadata": {},
   "outputs": [],
   "source": [
    "my_dict = {\n",
    "    'brand':'Tata',\n",
    "    \"model\":('Hundai','nexon','swift','creta','harrier','swift'),\n",
    "    'year': 2024\n",
    "}\n",
    "\n",
    "my_dict.update({'year':2020})"
   ]
  },
  {
   "cell_type": "code",
   "execution_count": 36,
   "id": "6b3497b9",
   "metadata": {},
   "outputs": [
    {
     "data": {
      "text/plain": [
       "{'brand': 'Tata',\n",
       " 'model': ('Hundai', 'nexon', 'swift', 'creta', 'harrier', 'swift'),\n",
       " 'year': 2020}"
      ]
     },
     "execution_count": 36,
     "metadata": {},
     "output_type": "execute_result"
    }
   ],
   "source": [
    "my_dict"
   ]
  },
  {
   "cell_type": "markdown",
   "id": "01fc20aa",
   "metadata": {},
   "source": [
    "### Removing elements in Dictionary"
   ]
  },
  {
   "cell_type": "code",
   "execution_count": 38,
   "id": "fafd218e",
   "metadata": {},
   "outputs": [
    {
     "name": "stdout",
     "output_type": "stream",
     "text": [
      "{'brand': 'Tata', 'model': ('Hundai', 'nexon', 'swift', 'creta', 'harrier', 'swift')}\n"
     ]
    }
   ],
   "source": [
    "my_dict = {\n",
    "    'brand':'Tata',\n",
    "    \"model\":('Hundai','nexon','swift','creta','harrier','swift'),\n",
    "    'year': 2024\n",
    "}\n",
    "\n",
    "my_dict.pop('year')\n",
    "print(my_dict)"
   ]
  },
  {
   "cell_type": "code",
   "execution_count": 39,
   "id": "19147fee",
   "metadata": {},
   "outputs": [
    {
     "name": "stdout",
     "output_type": "stream",
     "text": [
      "{'brand': 'Tata', 'model': ('Hundai', 'nexon', 'swift', 'creta', 'harrier', 'swift')}\n"
     ]
    }
   ],
   "source": [
    "my_dict = {\n",
    "    'brand':'Tata',\n",
    "    \"model\":('Hundai','nexon','swift','creta','harrier','swift'),\n",
    "    'year': 2024\n",
    "}\n",
    "\n",
    "my_dict.popitem()\n",
    "print(my_dict)"
   ]
  },
  {
   "cell_type": "code",
   "execution_count": 40,
   "id": "a4a3be92",
   "metadata": {},
   "outputs": [
    {
     "name": "stdout",
     "output_type": "stream",
     "text": [
      "{'brand': 'Tata', 'year': 2024}\n"
     ]
    }
   ],
   "source": [
    "my_dict = {\n",
    "    'brand':'Tata',\n",
    "    \"model\":('Hundai','nexon','swift','creta','harrier','swift'),\n",
    "    'year': 2024\n",
    "}\n",
    "\n",
    "del my_dict['model']\n",
    "print(my_dict)"
   ]
  },
  {
   "cell_type": "code",
   "execution_count": 41,
   "id": "ddc0b18b",
   "metadata": {},
   "outputs": [
    {
     "ename": "NameError",
     "evalue": "name 'my_dict' is not defined",
     "output_type": "error",
     "traceback": [
      "\u001b[1;31m---------------------------------------------------------------------------\u001b[0m",
      "\u001b[1;31mNameError\u001b[0m                                 Traceback (most recent call last)",
      "Cell \u001b[1;32mIn[41], line 9\u001b[0m\n\u001b[0;32m      1\u001b[0m my_dict \u001b[38;5;241m=\u001b[39m {\n\u001b[0;32m      2\u001b[0m     \u001b[38;5;124m'\u001b[39m\u001b[38;5;124mbrand\u001b[39m\u001b[38;5;124m'\u001b[39m:\u001b[38;5;124m'\u001b[39m\u001b[38;5;124mTata\u001b[39m\u001b[38;5;124m'\u001b[39m,\n\u001b[0;32m      3\u001b[0m     \u001b[38;5;124m\"\u001b[39m\u001b[38;5;124mmodel\u001b[39m\u001b[38;5;124m\"\u001b[39m:(\u001b[38;5;124m'\u001b[39m\u001b[38;5;124mHundai\u001b[39m\u001b[38;5;124m'\u001b[39m,\u001b[38;5;124m'\u001b[39m\u001b[38;5;124mnexon\u001b[39m\u001b[38;5;124m'\u001b[39m,\u001b[38;5;124m'\u001b[39m\u001b[38;5;124mswift\u001b[39m\u001b[38;5;124m'\u001b[39m,\u001b[38;5;124m'\u001b[39m\u001b[38;5;124mcreta\u001b[39m\u001b[38;5;124m'\u001b[39m,\u001b[38;5;124m'\u001b[39m\u001b[38;5;124mharrier\u001b[39m\u001b[38;5;124m'\u001b[39m,\u001b[38;5;124m'\u001b[39m\u001b[38;5;124mswift\u001b[39m\u001b[38;5;124m'\u001b[39m),\n\u001b[0;32m      4\u001b[0m     \u001b[38;5;124m'\u001b[39m\u001b[38;5;124myear\u001b[39m\u001b[38;5;124m'\u001b[39m: \u001b[38;5;241m2024\u001b[39m\n\u001b[0;32m      5\u001b[0m }\n\u001b[0;32m      7\u001b[0m \u001b[38;5;28;01mdel\u001b[39;00m my_dict\n\u001b[1;32m----> 9\u001b[0m \u001b[38;5;28mprint\u001b[39m(my_dict)\n",
      "\u001b[1;31mNameError\u001b[0m: name 'my_dict' is not defined"
     ]
    }
   ],
   "source": [
    "my_dict = {\n",
    "    'brand':'Tata',\n",
    "    \"model\":('Hundai','nexon','swift','creta','harrier','swift'),\n",
    "    'year': 2024\n",
    "}\n",
    "\n",
    "del my_dict\n",
    "\n",
    "print(my_dict)"
   ]
  },
  {
   "cell_type": "code",
   "execution_count": 45,
   "id": "d67b7a21",
   "metadata": {},
   "outputs": [
    {
     "name": "stdout",
     "output_type": "stream",
     "text": [
      "{}\n",
      "<class 'dict'>\n"
     ]
    }
   ],
   "source": [
    "my_dict = {\n",
    "    'brand':'Tata',\n",
    "    \"model\":('Hundai','nexon','swift','creta','harrier','swift'),\n",
    "    'year': 2024\n",
    "}\n",
    "\n",
    "my_dict.clear()\n",
    "print(my_dict)\n",
    "print(type(my_dict))"
   ]
  },
  {
   "cell_type": "code",
   "execution_count": null,
   "id": "95f53440",
   "metadata": {},
   "outputs": [],
   "source": []
  }
 ],
 "metadata": {
  "kernelspec": {
   "display_name": "Python 3 (ipykernel)",
   "language": "python",
   "name": "python3"
  },
  "language_info": {
   "codemirror_mode": {
    "name": "ipython",
    "version": 3
   },
   "file_extension": ".py",
   "mimetype": "text/x-python",
   "name": "python",
   "nbconvert_exporter": "python",
   "pygments_lexer": "ipython3",
   "version": "3.11.5"
  }
 },
 "nbformat": 4,
 "nbformat_minor": 5
}
