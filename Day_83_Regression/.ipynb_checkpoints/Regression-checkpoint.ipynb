{
 "cells": [
  {
   "cell_type": "markdown",
   "id": "fbaeabeb",
   "metadata": {},
   "source": [
    "# What is Regression ?"
   ]
  },
  {
   "cell_type": "markdown",
   "id": "0591e7b1",
   "metadata": {},
   "source": [
    "1. Regression is a statistical method used in finanace, investing and other dicipline that attempts to determine strength and character of the Relationship between indepndent[ One or More] and dependent variable."
   ]
  },
  {
   "cell_type": "markdown",
   "id": "679e6a53",
   "metadata": {},
   "source": [
    "**Regression analysis is a predictive modeling technique which investigate the relationship between independent and dependent variable**"
   ]
  },
  {
   "cell_type": "markdown",
   "id": "543b63ab",
   "metadata": {},
   "source": [
    "### There are different types of Regression:\n",
    "    1. Linear Regression\n",
    "    2. Logistic Regression\n",
    "    3. Polynomial Regression\n",
    "    4. Stepwise Regression"
   ]
  },
  {
   "cell_type": "markdown",
   "id": "15f1a0c0",
   "metadata": {},
   "source": [
    "## 1. Linear Regression"
   ]
  },
  {
   "cell_type": "markdown",
   "id": "59a3820e",
   "metadata": {},
   "source": [
    "1. Linear Regression is a supervised machine learning algorithm.\n",
    "2. Linear Regression is a supervised machine learning algorithm where the predicted output is contineous and has constant slope\n",
    "3. It is used to predict value within contineous range (Example. Sales Data, Price of Petrol, Price etc.) rather than trying to classify them in to categories.\n",
    "4. There are two main types of Linear Regression:\n",
    "    1. Simple Linear Regression\n",
    "    2. Multiple Linear Regression"
   ]
  },
  {
   "cell_type": "markdown",
   "id": "9f31658d",
   "metadata": {},
   "source": [
    "## 1. Simple Linear Regression"
   ]
  },
  {
   "cell_type": "markdown",
   "id": "8b4eb216",
   "metadata": {},
   "source": [
    "1. Simple Linear Regression is used to estimate the relationship between two quantitative variables.\n",
    "2. Use simple Linear regression when you want to know:\n",
    "    1. How strong relationship between two variables\n",
    "    2. The value of the dependent variable of a certain value of Independent variable."
   ]
  },
  {
   "cell_type": "markdown",
   "id": "2e2b391a",
   "metadata": {},
   "source": [
    "**Note: If you have more than one independent variable, then use Multiple Linear Regression**"
   ]
  },
  {
   "cell_type": "markdown",
   "id": "1c7b01c2",
   "metadata": {},
   "source": [
    "### What are Assumption required to Perform Regression"
   ]
  },
  {
   "cell_type": "markdown",
   "id": "1880d92c",
   "metadata": {},
   "source": [
    "1. Simple Linear Regression is parametric test, meaning that it makes certain assumption about the data.\n",
    "2. Assumption are:\n",
    "    1. Homogenaty of variance(Homoscedasticity)\n",
    "    2. Independance of observation\n",
    "    3. Normality\n",
    "    4. Linarity"
   ]
  },
  {
   "cell_type": "markdown",
   "id": "8f41343d",
   "metadata": {},
   "source": [
    "#### 1. Homoscedasticity (Homogenaty of error)"
   ]
  },
  {
   "cell_type": "markdown",
   "id": "a1aef5fb",
   "metadata": {},
   "source": [
    "1. Size of error in our prediction dosent change significantly across the value of Independent variable\n",
    "2. No Autocorelation in residual\n",
    "3. Number of observation greater than number of predictors\n",
    "3. Each obervation is unique"
   ]
  },
  {
   "cell_type": "markdown",
   "id": "7b3de956",
   "metadata": {},
   "source": [
    "![](https://cdn.corporatefinanceinstitute.com/assets/heteroskedasticity1-1024x390.png)"
   ]
  },
  {
   "cell_type": "markdown",
   "id": "2b8547f2",
   "metadata": {},
   "source": [
    "### 2. Independence of Observation"
   ]
  },
  {
   "cell_type": "markdown",
   "id": "97f2e7d6",
   "metadata": {},
   "source": [
    "1. observation in the dataset were collected using statistically valid sampling method\n",
    "2. No Hidden relationship among observation"
   ]
  },
  {
   "cell_type": "markdown",
   "id": "bc0dba76",
   "metadata": {},
   "source": [
    "### 3. Normality"
   ]
  },
  {
   "cell_type": "markdown",
   "id": "a9395708",
   "metadata": {},
   "source": [
    "1. Data follows Normal Distribution"
   ]
  },
  {
   "cell_type": "markdown",
   "id": "74296133",
   "metadata": {},
   "source": [
    "### 4. Linearity"
   ]
  },
  {
   "cell_type": "markdown",
   "id": "1b85f85d",
   "metadata": {},
   "source": [
    "1. Relationship between the independent variable and dependent variable is linear\n",
    "2. The line of **Best fit** throgh the data points is straigt line (Rather than curve or some sort of grouping factor)"
   ]
  },
  {
   "cell_type": "markdown",
   "id": "751a87fd",
   "metadata": {},
   "source": [
    "1. If data do not meet the Assumption of Homoscedasticity or Normality, you may able to use **Non Parametric** test insted.\n",
    "2. If your data violate the Asssumption of Independent variable (Example: observation are repeated over time) you may able to perform a **linear mixed-effects model** that accounts addition structure of data"
   ]
  },
  {
   "cell_type": "markdown",
   "id": "b17cc678",
   "metadata": {},
   "source": [
    "## Perform a Simple Linear Regression"
   ]
  },
  {
   "cell_type": "markdown",
   "id": "a2c2f8c8",
   "metadata": {},
   "source": [
    "1. Formula for a simple linear Regression"
   ]
  },
  {
   "cell_type": "markdown",
   "id": "f155b2a4",
   "metadata": {},
   "source": [
    "![](https://encrypted-tbn0.gstatic.com/images?q=tbn:ANd9GcSqDDloCGwDdC_bH7fSaGAYdpjEIH5SlQNr6w&s)"
   ]
  },
  {
   "cell_type": "markdown",
   "id": "1715ced9",
   "metadata": {},
   "source": [
    "Where\n",
    "1. [Y_i] = Predicted value of Dependent variable (Y) for given value of the Independent variable\n",
    "2. B[0] = Intercept, Prdicted value of Y when x is 0\n",
    "3. B[1] = Regression Coefficient - How much we expect y to change as x increase\n",
    "4. X_i = Independent of Observation, (variable we expect influencing y)\n",
    "5. e = e is the error of estimate, How much variation there is in our estimate of the regression coefficient."
   ]
  },
  {
   "cell_type": "markdown",
   "id": "b9d6b9c3",
   "metadata": {},
   "source": [
    "Linear Regression finds the line of **Best Fit line** throgh data by searching regression coefficient (B_1) that minimizes the total error(e) of model"
   ]
  },
  {
   "cell_type": "markdown",
   "id": "9fbefcc9",
   "metadata": {},
   "source": [
    "## Error Calculated in a Linear Regression Model ?"
   ]
  },
  {
   "cell_type": "markdown",
   "id": "d8cd8d4d",
   "metadata": {},
   "source": [
    "1. Linear Regression most oftern uses mean-square-error (MSE) to calculate the error of the model, MSE is caluculatee by:\n",
    "    1. Measuring the distance of the observed [ Y ] value from Predicted Y value of each value of X.\n",
    "    2. Squaring each of these distance\n",
    "    3. Calculating Mean of each of the squared distance"
   ]
  },
  {
   "cell_type": "markdown",
   "id": "68446de7",
   "metadata": {},
   "source": [
    "**Note: Linear Regression fits a line to the data by finding the Regression coeffiecient that results in smaller MSE**"
   ]
  },
  {
   "cell_type": "markdown",
   "id": "40d39a63",
   "metadata": {},
   "source": [
    "### How to find Mean ?"
   ]
  },
  {
   "cell_type": "markdown",
   "id": "961eb178",
   "metadata": {},
   "source": [
    "1. Mean or Arithmatic Mean of a dataset is the sum of all value devided by total number of values\n",
    "2. Also called \"Average\""
   ]
  },
  {
   "cell_type": "markdown",
   "id": "6d6c8123",
   "metadata": {},
   "source": [
    "### What is Regression Model ?"
   ]
  },
  {
   "cell_type": "markdown",
   "id": "5b0a4f56",
   "metadata": {},
   "source": [
    "1. Regression model is statistical model that estimate relationship between one dependent variable and one or more independent variable using line (or a plane in the case of two or more independent variable)\n",
    "2. A regression model can used when the dependent variable is quanitative"
   ]
  },
  {
   "cell_type": "markdown",
   "id": "f744d21b",
   "metadata": {},
   "source": [
    "## Algorithm"
   ]
  },
  {
   "cell_type": "markdown",
   "id": "85554d10",
   "metadata": {},
   "source": [
    "![](https://i.ytimg.com/vi/2b7vJcoQ5qQ/maxresdefault.jpg)"
   ]
  },
  {
   "cell_type": "markdown",
   "id": "fbdd5b38",
   "metadata": {},
   "source": [
    "1. Independent variable on the [x_axis] **increasing** and does the dependent variable on the [y_axis] you will get the Positive Linear Regression.\n",
    "2. Independent variable on the [x_axis] **Increasing** and other hand the dependent variable on the [y_axis] **decreasing** you will get Negative Linear Regression.\n",
    "3. As slope of line is Negative and the perticular line that is forumala called **[y = mx + c]** in a linear Regression.\n",
    "4. This line shows relationship between independent variable and dependent variable and this is also called **Line of linear Regression**"
   ]
  },
  {
   "cell_type": "markdown",
   "id": "ca3ab579",
   "metadata": {},
   "source": [
    "![](https://lh5.googleusercontent.com/proxy/I5UGkJz9j7ICEUEqow_jdSO752uz_MhUyEKJhOQu4gyEuXpnmH8GzcL9BBcD8o1vpNVuBCjA4tGNFJ4vvfQVI6R_4Quhr7Xl-5FavbcOaLL4xidEcaGTv8DgN3WcquKl5yRoZn6A66gH7SFIDwaw-b6O1mlw)"
   ]
  },
  {
   "cell_type": "markdown",
   "id": "d46cf752",
   "metadata": {},
   "source": [
    "1. All data points are plotted , Now our task is to create Regression Line or Best Fit Line\n",
    "2. Now we get estimated, predicted and Actual Value\n",
    "3. Our main goal is to reduce this error that is distance between estimated value and Actual value or Predicted Value"
   ]
  },
  {
   "cell_type": "markdown",
   "id": "aaf892de",
   "metadata": {},
   "source": [
    "## Mathematical Implementation"
   ]
  },
  {
   "cell_type": "markdown",
   "id": "656ff490",
   "metadata": {},
   "source": [
    "### Step_1- Consider a Data Points"
   ]
  },
  {
   "cell_type": "code",
   "execution_count": 1,
   "id": "4b3ac202",
   "metadata": {},
   "outputs": [],
   "source": [
    "x_axis = [1, 2, 3, 4, 5]\n",
    "y_axis = [3, 4, 2, 4, 5]"
   ]
  },
  {
   "cell_type": "code",
   "execution_count": 2,
   "id": "a4cea6c1",
   "metadata": {},
   "outputs": [],
   "source": [
    "import matplotlib.pyplot as plt"
   ]
  },
  {
   "cell_type": "code",
   "execution_count": 3,
   "id": "ca78d773",
   "metadata": {},
   "outputs": [
    {
     "data": {
      "text/plain": [
       "<matplotlib.collections.PathCollection at 0x2552dd25c50>"
      ]
     },
     "execution_count": 3,
     "metadata": {},
     "output_type": "execute_result"
    },
    {
     "data": {
      "image/png": "[encoded data removed]",
      "text/plain": [
       "<Figure size 640x480 with 1 Axes>"
      ]
     },
     "metadata": {},
     "output_type": "display_data"
    }
   ],
   "source": [
    "plt.scatter(x_axis, y_axis)"
   ]
  },
  {
   "cell_type": "markdown",
   "id": "95fcdbd1",
   "metadata": {},
   "source": [
    "### Step_2- Now Calculate mean of [x_axis] and mean of [y_axis] and plot on the graph"
   ]
  },
  {
   "cell_type": "code",
   "execution_count": 7,
   "id": "8156c189",
   "metadata": {},
   "outputs": [
    {
     "name": "stdout",
     "output_type": "stream",
     "text": [
      "Sum of Observation is  15\n",
      "3.0\n"
     ]
    }
   ],
   "source": [
    "x_axis = 1 + 2 + 3 + 4 + 5 \n",
    "print(\"Sum of Observation is \",x_axis)\n",
    "mean_of_x = x_axis / 5\n",
    "print(mean_of_x)"
   ]
  },
  {
   "cell_type": "code",
   "execution_count": 8,
   "id": "c46ca35c",
   "metadata": {},
   "outputs": [],
   "source": [
    "import numpy as np"
   ]
  },
  {
   "cell_type": "code",
   "execution_count": 10,
   "id": "2b296a65",
   "metadata": {},
   "outputs": [
    {
     "name": "stdout",
     "output_type": "stream",
     "text": [
      "3.0\n"
     ]
    }
   ],
   "source": [
    "x_axis = [1, 2, 3, 4, 5]\n",
    "mean_of_x = np.mean(x_axis)\n",
    "print(mean_of_x)"
   ]
  },
  {
   "cell_type": "markdown",
   "id": "a59f7392",
   "metadata": {},
   "source": [
    "**Similearly y_axis**"
   ]
  },
  {
   "cell_type": "code",
   "execution_count": 11,
   "id": "0089fdf2",
   "metadata": {},
   "outputs": [
    {
     "name": "stdout",
     "output_type": "stream",
     "text": [
      "Sum of Observation is  18\n",
      "3.6\n"
     ]
    }
   ],
   "source": [
    "y_axis = 3 + 4 + 2 + 4 + 5\n",
    "print(\"Sum of Observation is \",y_axis)\n",
    "mean_of_y = y_axis / 5\n",
    "print(mean_of_y)"
   ]
  },
  {
   "cell_type": "code",
   "execution_count": 12,
   "id": "23f0fbbe",
   "metadata": {},
   "outputs": [
    {
     "name": "stdout",
     "output_type": "stream",
     "text": [
      "3.6\n"
     ]
    }
   ],
   "source": [
    "y_axis = [3, 4, 2, 4, 5]\n",
    "mean_of_y = np.mean(y_axis)\n",
    "print(mean_of_y)"
   ]
  },
  {
   "cell_type": "markdown",
   "id": "6ea54dce",
   "metadata": {},
   "source": [
    "### Now Plot a graph using Mean value"
   ]
  },
  {
   "cell_type": "code",
   "execution_count": 13,
   "id": "bfd8f3e6",
   "metadata": {},
   "outputs": [],
   "source": [
    "x_axis = [1, 2, 3, 4, 5, 3.0]\n",
    "y_axis = [3, 4, 2, 4, 5, 3.6]"
   ]
  },
  {
   "cell_type": "code",
   "execution_count": 14,
   "id": "8c82c47c",
   "metadata": {},
   "outputs": [
    {
     "data": {
      "text/plain": [
       "<matplotlib.collections.PathCollection at 0x2552fbb8510>"
      ]
     },
     "execution_count": 14,
     "metadata": {},
     "output_type": "execute_result"
    },
    {
     "data": {
      "image/png": "[encoded data removed]",
      "text/plain": [
       "<Figure size 640x480 with 1 Axes>"
      ]
     },
     "metadata": {},
     "output_type": "display_data"
    }
   ],
   "source": [
    "plt.scatter(x_axis, y_axis)"
   ]
  },
  {
   "cell_type": "markdown",
   "id": "f091c13c",
   "metadata": {},
   "source": [
    "1. Now our goal is to find or predict **Best fit Line** using **Least square Method**\n",
    "2. Now, we need first find the equation of line, so lets find the equation of our regression line\n",
    "3. use formula **[y = mx + c]**\n",
    "4. Now, we have equation of line, so we need to find line"
   ]
  },
  {
   "cell_type": "markdown",
   "id": "4c20968e",
   "metadata": {},
   "source": [
    "Where\n",
    "1. y = ?\n",
    "2. m = ?\n",
    "3. x = x_axis\n",
    "4. c = c "
   ]
  },
  {
   "cell_type": "markdown",
   "id": "3ac65a4e",
   "metadata": {},
   "source": [
    "![](https://qph.cf2.quoracdn.net/main-qimg-c409db9fadb9e0ac81136f81fd28fcf6)"
   ]
  },
  {
   "cell_type": "markdown",
   "id": "637d4382",
   "metadata": {},
   "source": [
    "**m = summation_of (x - x_bar) * (y - y_bar) / summation_of (x - x_bar) sqaure**"
   ]
  },
  {
   "cell_type": "markdown",
   "id": "204df7c3",
   "metadata": {},
   "source": [
    "#### Step I - Calculate [x - x_bar ] x = [1,2,3,4,5] x_bar =3"
   ]
  },
  {
   "cell_type": "code",
   "execution_count": 20,
   "id": "d20b3103",
   "metadata": {},
   "outputs": [
    {
     "name": "stdout",
     "output_type": "stream",
     "text": [
      "x - x_bar =\n",
      "1 - 3 = -2\n",
      "2 - 3 = -1\n",
      "3 - 3 = 0\n",
      "4 - 3 = 1\n",
      "5 - 3 = 2\n"
     ]
    }
   ],
   "source": [
    "print(\"x - x_bar =\")\n",
    "print(\"1 - 3 =\", 1 - 3)\n",
    "print(\"2 - 3 =\", 2 - 3)\n",
    "print(\"3 - 3 =\", 3 - 3)\n",
    "print(\"4 - 3 =\", 4 - 3)\n",
    "print(\"5 - 3 =\", 5 - 3)"
   ]
  },
  {
   "cell_type": "markdown",
   "id": "cd25d086",
   "metadata": {},
   "source": [
    "### step II - Calculate [y -y_bar] y = [3,4,2,4,5] y_bar = 3.6"
   ]
  },
  {
   "cell_type": "code",
   "execution_count": 21,
   "id": "30b42631",
   "metadata": {},
   "outputs": [
    {
     "name": "stdout",
     "output_type": "stream",
     "text": [
      "y - y_bar =\n",
      "3 - 3.6 = -0.6000000000000001\n",
      "4 - 3.6 = 0.3999999999999999\n",
      "2 - 3.6 = -1.6\n",
      "4 - 3.6 = 0.3999999999999999\n",
      "5 - 3.6 = 1.4\n"
     ]
    }
   ],
   "source": [
    "print(\"y - y_bar =\")\n",
    "print(\"3 - 3.6 =\", 3 - 3.6)\n",
    "print(\"4 - 3.6 =\", 4 - 3.6)\n",
    "print(\"2 - 3.6 =\", 2 - 3.6)\n",
    "print(\"4 - 3.6 =\", 4 - 3.6)\n",
    "print(\"5 - 3.6 =\", 5 - 3.6)"
   ]
  },
  {
   "cell_type": "markdown",
   "id": "7d2336ca",
   "metadata": {},
   "source": [
    "### step III - Now we need producto of (x - x_bar) * (y - y_bar)"
   ]
  },
  {
   "cell_type": "code",
   "execution_count": 23,
   "id": "b6dd500e",
   "metadata": {},
   "outputs": [
    {
     "name": "stdout",
     "output_type": "stream",
     "text": [
      "Product of x - x_bar and y - y_bar\n",
      "(-2) * (-0.6) =  1.2\n",
      "(-1) * (0.4) =  -0.4\n",
      "(0) * (-1.6) =  -0.0\n",
      "(1) * (0.4) =  0.4\n",
      "(2) * (1.4) =  2.8\n"
     ]
    }
   ],
   "source": [
    "print(\"Product of x - x_bar and y - y_bar\")\n",
    "print(\"(-2) * (-0.6) = \",(-2) * (-0.6))\n",
    "print(\"(-1) * (0.4) = \",(-1) * (0.4))\n",
    "print(\"(0) * (-1.6) = \",(0) * (-1.6))\n",
    "print(\"(1) * (0.4) = \",(1) * (0.4))\n",
    "print(\"(2) * (1.4) = \",(2) * (1.4))"
   ]
  },
  {
   "cell_type": "markdown",
   "id": "d54d3499",
   "metadata": {},
   "source": [
    "### Step IV - Calculate (x - x_bar)square"
   ]
  },
  {
   "cell_type": "code",
   "execution_count": 28,
   "id": "635f376b",
   "metadata": {},
   "outputs": [
    {
     "name": "stdout",
     "output_type": "stream",
     "text": [
      "(-2) ** 2 =  4\n",
      "(-1) ** 2 =  1\n",
      "(-0) ** 2 =  0\n",
      "(1) ** 2 =  1\n",
      "(2) ** 2 =  4\n"
     ]
    }
   ],
   "source": [
    "print(\"(-2) ** 2 = \",(-2) ** 2)\n",
    "print(\"(-1) ** 2 = \",(-1) ** 2)\n",
    "print(\"(-0) ** 2 = \",(0) ** 2)\n",
    "print(\"(1) ** 2 = \",(1) ** 2)\n",
    "print(\"(2) ** 2 = \",(2) ** 2)"
   ]
  },
  {
   "cell_type": "markdown",
   "id": "28beaeeb",
   "metadata": {},
   "source": [
    "### Now Summation of last two columns"
   ]
  },
  {
   "cell_type": "markdown",
   "id": "44d95d6b",
   "metadata": {},
   "source": [
    "![](https://qph.cf2.quoracdn.net/main-qimg-c409db9fadb9e0ac81136f81fd28fcf6)"
   ]
  },
  {
   "cell_type": "code",
   "execution_count": 29,
   "id": "93bcb050",
   "metadata": {},
   "outputs": [
    {
     "name": "stdout",
     "output_type": "stream",
     "text": [
      "0.4\n"
     ]
    }
   ],
   "source": [
    "m = 4 / 10\n",
    "print(m)"
   ]
  },
  {
   "cell_type": "markdown",
   "id": "01f1b703",
   "metadata": {},
   "source": [
    "1. Now, we have y as 3.6 mean_of_m = 0.4\n",
    "2. Now y = mx + c"
   ]
  },
  {
   "cell_type": "markdown",
   "id": "c4de91b9",
   "metadata": {},
   "source": [
    "1. y = 3.6\n",
    "2. m = 0.4\n",
    "3. x = 3\n",
    "4. c = ?"
   ]
  },
  {
   "cell_type": "markdown",
   "id": "1ec6aad5",
   "metadata": {},
   "source": [
    "1. 3.6 = 0.4 * 3 + c\n",
    "2. 3.6 = 1.2 + c\n",
    "3. 3.6 - 1.2"
   ]
  },
  {
   "cell_type": "markdown",
   "id": "2cb7427a",
   "metadata": {},
   "source": [
    "**c = 2.4**"
   ]
  },
  {
   "cell_type": "markdown",
   "id": "1951b9a1",
   "metadata": {},
   "source": [
    "# y = mx + c"
   ]
  },
  {
   "cell_type": "markdown",
   "id": "8b9ff5b5",
   "metadata": {},
   "source": [
    "1. y = ?\n",
    "2. m = 0.4\n",
    "3. x = [1,2,3,4,5]\n",
    "4. c = 2.4"
   ]
  },
  {
   "cell_type": "markdown",
   "id": "0e5e1291",
   "metadata": {},
   "source": [
    "### Now, calculate predict value of Y [y = mx + c]"
   ]
  },
  {
   "cell_type": "code",
   "execution_count": 30,
   "id": "c7513e6f",
   "metadata": {},
   "outputs": [
    {
     "name": "stdout",
     "output_type": "stream",
     "text": [
      "y = 0.4 * 1 + 2.4 = 2.8\n",
      "y = 0.4 * 2 + 2.4 = 3.2\n",
      "y = 0.4 * 3 + 2.4 = 3.6\n",
      "y = 0.4 * 4 + 2.4 = 4.0\n",
      "y = 0.4 * 5 + 2.4 = 4.4\n"
     ]
    }
   ],
   "source": [
    "print(\"y = 0.4 * 1 + 2.4 =\", 0.4 * 1 + 2.4)\n",
    "print(\"y = 0.4 * 2 + 2.4 =\", 0.4 * 2 + 2.4)\n",
    "print(\"y = 0.4 * 3 + 2.4 =\", 0.4 * 3 + 2.4)\n",
    "print(\"y = 0.4 * 4 + 2.4 =\", 0.4 * 4 + 2.4)\n",
    "print(\"y = 0.4 * 5 + 2.4 =\", 0.4 * 5 + 2.4)"
   ]
  },
  {
   "cell_type": "code",
   "execution_count": 44,
   "id": "cc6ded46",
   "metadata": {},
   "outputs": [],
   "source": [
    "x_axis = [1, 2, 3, 4, 5]\n",
    "y_pred = [2.8, 3.2, 3.6, 4.0, 4.4]"
   ]
  },
  {
   "cell_type": "code",
   "execution_count": 46,
   "id": "e047ec75",
   "metadata": {},
   "outputs": [
    {
     "data": {
      "text/plain": [
       "<matplotlib.collections.PathCollection at 0x255342822d0>"
      ]
     },
     "execution_count": 46,
     "metadata": {},
     "output_type": "execute_result"
    },
    {
     "data": {
      "image/png": "[encoded data removed]",
      "text/plain": [
       "<Figure size 640x480 with 1 Axes>"
      ]
     },
     "metadata": {},
     "output_type": "display_data"
    }
   ],
   "source": [
    "plt.scatter(x_axis, y_pred)"
   ]
  },
  {
   "cell_type": "markdown",
   "id": "25004ecc",
   "metadata": {},
   "source": [
    "1. Now, calculate distnace between actual value and Predicted value and reduce distance (Least Square Method)\n",
    "2. So it will perform n number of iteration for different value of m it will calculate equation of line [y = mx + c]\n",
    "3. So Value of m changes the line is changing\n",
    "4. If iteration from one it will perform n number of iteration, after every iteration it will calculate predicted value\n",
    "5. Accordig to line and composed distance of Actual value to the predicted value and value of M for which the distance between actual and predicted value is minimum will be selected as Best fit line\n",
    "6. Now we have calculated the best fit line, Now its time to check goodness of fit or check how good our model predicted\n",
    "7. In ordered to do that we have a method called **R-Squared Method** \n",
    "8. R-Square method used for check goodness of fit in Regression line"
   ]
  },
  {
   "cell_type": "markdown",
   "id": "91ca53a8",
   "metadata": {},
   "source": [
    "## What is R-Squared ?"
   ]
  },
  {
   "cell_type": "markdown",
   "id": "0b0429e3",
   "metadata": {},
   "source": [
    "1. R- Squared value is statistical measure of how close daata are to the fitted Regression line\n",
    "2. It also called as Coefficient of Determination or Coefficient of Multiple Determination\n",
    "3. In general it is considered as that High-Square value model is a good model but you can also have lower square value for a good model as well as Higher squared value for a model that does not fit at all"
   ]
  },
  {
   "cell_type": "markdown",
   "id": "9ebbbcfe",
   "metadata": {},
   "source": [
    "### Calculation of R_squared"
   ]
  },
  {
   "cell_type": "markdown",
   "id": "eb307303",
   "metadata": {},
   "source": [
    "#### Distance = Actual - Mean vs Distance = Predicted - Mean"
   ]
  },
  {
   "cell_type": "markdown",
   "id": "31f8b8d5",
   "metadata": {},
   "source": [
    "Nothing but R_squared"
   ]
  },
  {
   "cell_type": "markdown",
   "id": "8c63cd8a",
   "metadata": {},
   "source": [
    "#### R_squared = summation_of(Y_predicted - y_bar)squared / summation_of (Actual[y] - Predicted[y_bar])squared"
   ]
  },
  {
   "cell_type": "markdown",
   "id": "ffbb19c3",
   "metadata": {},
   "source": [
    "Where,\n",
    "1. y  = is Actual value\n",
    "2. Yp = is Predicted value\n",
    "3. y_bar = Mean value of Y (Y_bar)[3.6]"
   ]
  },
  {
   "cell_type": "code",
   "execution_count": 43,
   "id": "40407f09",
   "metadata": {},
   "outputs": [
    {
     "name": "stdout",
     "output_type": "stream",
     "text": [
      "0.3076923076923077\n"
     ]
    }
   ],
   "source": [
    "R_squared = 1.6 / 5.2\n",
    "print(R_squared)"
   ]
  },
  {
   "cell_type": "markdown",
   "id": "327fd2df",
   "metadata": {},
   "source": [
    "1. This is not good fit, it suggest that the data point are away from Regression Line\n",
    "2. When increase value of R2 to 0.7 tha actual value would like to closer the Regression line R2 ~~ 0.7\n",
    "3. When it comes to r2 ~~ 0.9 it comes to more close, and value approximately equals to 1, then actual value lies on Regression line itself"
   ]
  },
  {
   "cell_type": "code",
   "execution_count": null,
   "id": "01c2f3fa",
   "metadata": {},
   "outputs": [],
   "source": []
  }
 ],
 "metadata": {
  "kernelspec": {
   "display_name": "Python 3 (ipykernel)",
   "language": "python",
   "name": "python3"
  },
  "language_info": {
   "codemirror_mode": {
    "name": "ipython",
    "version": 3
   },
   "file_extension": ".py",
   "mimetype": "text/x-python",
   "name": "python",
   "nbconvert_exporter": "python",
   "pygments_lexer": "ipython3",
   "version": "3.11.5"
  }
 },
 "nbformat": 4,
 "nbformat_minor": 5
}
