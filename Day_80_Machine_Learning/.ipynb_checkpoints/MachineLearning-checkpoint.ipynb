{
 "cells": [
  {
   "cell_type": "markdown",
   "id": "6a85913d",
   "metadata": {},
   "source": [
    "# Machine Learning"
   ]
  },
  {
   "cell_type": "markdown",
   "id": "c47613da",
   "metadata": {},
   "source": [
    "1. What is Machine Learning ? Why Machine Learning ?\n",
    "2. Advantages\n",
    "3. Disadvatages\n",
    "4. Application of Machine Learning\n",
    "5. Types of Machine Learning:\n",
    "    1. Supervied Machine Learning\n",
    "    2. Unsupervied Machine Learning \n",
    "    3. Reinforcement Machine Learning"
   ]
  },
  {
   "cell_type": "code",
   "execution_count": null,
   "id": "f249691c",
   "metadata": {},
   "outputs": [],
   "source": [
    "1. Supervied Machine Learning Algorithm:\n",
    "    1. What is Supervised Machine Learning\n",
    "    2. Advantages\n",
    "    3. Disadvantages\n",
    "    4. Application\n",
    "    5. Types of Superviesed:\n",
    "        1. Regression:\n",
    "            1. What is Regression\n",
    "            2. Advatanges\n",
    "            3. Diadvantages\n",
    "            4. Application\n",
    "            5. Assumption \n",
    "            6. Types of Regression:\n",
    "                1. Simple Linear Regression\n",
    "                2. Logistic Regression\n",
    "                3. Multiple Linear Regression\n",
    "                4. L1 and L2 Regularization Techniques (Lasso and Ridge Regression)\n",
    "                5. Grandient Boosting Method\n",
    "        2. Classification:\n",
    "            1. What is classification:\n",
    "                1. What is Classification\n",
    "                2. Assumption\n",
    "                3. Advantages\n",
    "                4. Disadvantages\n",
    "                5. Application\n",
    "                6. Types of Classification Algorithm:\n",
    "                    1. Logistic Regression\n",
    "                    2. Support Vector Machine\n",
    "                    3. Navie Bayes\n",
    "                    4. Random Forest\n",
    "                    5. KNN (K- Nearest Neighbor)\n",
    "                    6. Decision Tree\n",
    "    6. Unsupervised Machine Learning:\n",
    "            1. What is UnSupervised Machine Learning\n",
    "            2. Advantages\n",
    "            3. Disadvantages\n",
    "            4. Application\n",
    "            5. Types of Unsupervised Machine Learning Algorithm:\n",
    "                1. Clustering:\n",
    "                    1. K -Means Clustering\n",
    "                    2. Hirarchical Clustering\n",
    "                2. Association Rule:\n",
    "                    1. Market Basket \n",
    "    7. Reinforcement Learning\n",
    "    8. Ensemble Techniques:\n",
    "        1. Bagging\n",
    "        2. Boosting\n",
    "    9. HyperParameter Tuning"
   ]
  }
 ],
 "metadata": {
  "kernelspec": {
   "display_name": "Python 3 (ipykernel)",
   "language": "python",
   "name": "python3"
  },
  "language_info": {
   "codemirror_mode": {
    "name": "ipython",
    "version": 3
   },
   "file_extension": ".py",
   "mimetype": "text/x-python",
   "name": "python",
   "nbconvert_exporter": "python",
   "pygments_lexer": "ipython3",
   "version": "3.11.5"
  }
 },
 "nbformat": 4,
 "nbformat_minor": 5
}
