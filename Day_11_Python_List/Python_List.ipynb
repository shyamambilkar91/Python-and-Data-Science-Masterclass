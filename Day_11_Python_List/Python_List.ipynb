{
 "cells": [
  {
   "cell_type": "markdown",
   "id": "80080295",
   "metadata": {},
   "source": [
    "# Python - Copy List"
   ]
  },
  {
   "cell_type": "markdown",
   "id": "03fa958a",
   "metadata": {},
   "source": [
    "1. You can not copy a list of content by typing my_list_1 = my_list_2\n",
    "2. In a list use copy() method to copy one list data into another list"
   ]
  },
  {
   "cell_type": "code",
   "execution_count": 1,
   "id": "165bfcd4",
   "metadata": {},
   "outputs": [
    {
     "name": "stdout",
     "output_type": "stream",
     "text": [
      "['apple', 'cherry', 'banana', 'watermelon', 'pineapple', 'blackcurrent']\n"
     ]
    }
   ],
   "source": [
    "my_list_1 = ['apple','cherry','banana','watermelon','pineapple','blackcurrent']\n",
    "print(my_list_1)"
   ]
  },
  {
   "cell_type": "code",
   "execution_count": 2,
   "id": "3aa9a2b0",
   "metadata": {},
   "outputs": [
    {
     "name": "stdout",
     "output_type": "stream",
     "text": [
      "['apple', 'cherry', 'banana', 'watermelon', 'pineapple', 'blackcurrent']\n"
     ]
    }
   ],
   "source": [
    "my_list_2 = my_list_1.copy()\n",
    "print(my_list_2)"
   ]
  },
  {
   "cell_type": "code",
   "execution_count": 3,
   "id": "a2d8dda8",
   "metadata": {},
   "outputs": [
    {
     "name": "stdout",
     "output_type": "stream",
     "text": [
      "Before copied My_list_3 ['apple', 'cherry', 10, 20, 30, 45.45, 85.23, 'watemelon']\n"
     ]
    }
   ],
   "source": [
    "my_list_3 = ['apple','cherry',10,20,30,45.45,85.23,'watemelon']\n",
    "print(\"Before copied My_list_3\",my_list_3)"
   ]
  },
  {
   "cell_type": "code",
   "execution_count": 4,
   "id": "6072fd12",
   "metadata": {},
   "outputs": [
    {
     "name": "stdout",
     "output_type": "stream",
     "text": [
      "['apple', 'cherry', 10, 20, 30, 45.45, 85.23, 'watemelon']\n"
     ]
    }
   ],
   "source": [
    "my_list_4 = my_list_3.copy()\n",
    "print(my_list_4)"
   ]
  },
  {
   "cell_type": "code",
   "execution_count": 5,
   "id": "b444863e",
   "metadata": {},
   "outputs": [
    {
     "name": "stdout",
     "output_type": "stream",
     "text": [
      "['apple', 'cherry', 10, 20, 30, 45.45, 85.23, 'watemelon', 76]\n"
     ]
    }
   ],
   "source": [
    "my_list_5 = ['apple','cherry',10,20,30,45.45,85.23,'watemelon',76]\n",
    "\n",
    "my_list_6 = list(my_list_5)\n",
    "print(my_list_6)"
   ]
  },
  {
   "cell_type": "markdown",
   "id": "616fe758",
   "metadata": {},
   "source": [
    "## Join Two List:\n",
    "    1. There are different ways to join, or concatnate two or more list in python\n",
    "    2. One of the easiest way to join two list in python using + operator\n",
    "    3. In list if you want to join two list is appending all the items from one list to another list, one by one."
   ]
  },
  {
   "cell_type": "code",
   "execution_count": 6,
   "id": "e90937f0",
   "metadata": {},
   "outputs": [
    {
     "name": "stdout",
     "output_type": "stream",
     "text": [
      "['apple', 'cherry', 'watemelon', 10, 20, 30, 45.45, 85.23]\n"
     ]
    }
   ],
   "source": [
    "my_list_1 = ['apple','cherry','watemelon']\n",
    "my_list_2 = [10,20,30,45.45,85.23]\n",
    "\n",
    "my_list_3 = my_list_1 + my_list_2\n",
    "print(my_list_3)"
   ]
  },
  {
   "cell_type": "code",
   "execution_count": 7,
   "id": "86e8ec45",
   "metadata": {},
   "outputs": [
    {
     "name": "stdout",
     "output_type": "stream",
     "text": [
      "[10, 20, 30, 45.45, 85.23, 'apple', 'cherry', 'watemelon']\n"
     ]
    }
   ],
   "source": [
    "my_list_1 = ['apple','cherry','watemelon']\n",
    "my_list_2 = [10,20,30,45.45,85.23]\n",
    "\n",
    "for i in my_list_1:\n",
    "    my_list_2.append(i)\n",
    "    \n",
    "print(my_list_2)"
   ]
  },
  {
   "cell_type": "code",
   "execution_count": 8,
   "id": "a115cecb",
   "metadata": {},
   "outputs": [
    {
     "name": "stdout",
     "output_type": "stream",
     "text": [
      "['apple', 'cherry', 'watemelon']\n"
     ]
    }
   ],
   "source": [
    "my_list_1 = ['apple','cherry','watemelon']\n",
    "my_list_2 = [10,20,30,45.45,85.23]\n",
    "\n",
    "my_list_3 = []\n",
    "\n",
    "for i in my_list_1:\n",
    "    my_list_3.append(i)\n",
    "    \n",
    "print(my_list_3)"
   ]
  },
  {
   "cell_type": "code",
   "execution_count": 9,
   "id": "24e7835c",
   "metadata": {},
   "outputs": [
    {
     "name": "stdout",
     "output_type": "stream",
     "text": [
      "['apple', 'cherry', 'watemelon', 10, 20, 30, 45.45, 85.23]\n"
     ]
    }
   ],
   "source": [
    "my_list_1 = ['apple','cherry','watemelon']\n",
    "my_list_2 = [10,20,30,45.45,85.23]\n",
    "\n",
    "for i in my_list_2:\n",
    "    my_list_1.append(i)\n",
    "\n",
    "print(my_list_1)"
   ]
  },
  {
   "cell_type": "code",
   "execution_count": 12,
   "id": "52e93355",
   "metadata": {},
   "outputs": [
    {
     "name": "stdout",
     "output_type": "stream",
     "text": [
      "['apple', 'cherry', 'watemelon', 10]\n",
      "['apple', 'cherry', 'watemelon', 10, 20]\n",
      "['apple', 'cherry', 'watemelon', 10, 20, 30]\n",
      "['apple', 'cherry', 'watemelon', 10, 20, 30, 45.45]\n",
      "['apple', 'cherry', 'watemelon', 10, 20, 30, 45.45, 85.23]\n"
     ]
    }
   ],
   "source": [
    "my_list_1 = ['apple','cherry','watemelon']\n",
    "my_list_2 = [10,20,30,45.45,85.23]\n",
    "\n",
    "for i in my_list_2:\n",
    "    my_list_1.append(i)\n",
    "\n",
    "    print(my_list_1)"
   ]
  },
  {
   "cell_type": "code",
   "execution_count": 13,
   "id": "98b5413e",
   "metadata": {},
   "outputs": [
    {
     "name": "stdout",
     "output_type": "stream",
     "text": [
      "['apple', 'cherry', 'watemelon', 10, 20, 30, 45.45, 85.23]\n"
     ]
    }
   ],
   "source": [
    "my_list_1 = ['apple','cherry','watemelon']\n",
    "my_list_2 = [10,20,30,45.45,85.23]\n",
    "\n",
    "\n",
    "my_list_1.extend(my_list_2)\n",
    "print(my_list_1)"
   ]
  },
  {
   "cell_type": "code",
   "execution_count": 14,
   "id": "0ffed1de",
   "metadata": {},
   "outputs": [
    {
     "name": "stdout",
     "output_type": "stream",
     "text": [
      "[10, 20, 30, 45.45, 85.23, 'apple', 'cherry', 'watemelon']\n"
     ]
    }
   ],
   "source": [
    "my_list_1 = ['apple','cherry','watemelon']\n",
    "my_list_2 = [10,20,30,45.45,85.23]\n",
    "\n",
    "my_list_2.extend(my_list_1)\n",
    "print(my_list_2)"
   ]
  },
  {
   "cell_type": "code",
   "execution_count": 15,
   "id": "8629dcdf",
   "metadata": {},
   "outputs": [
    {
     "name": "stdout",
     "output_type": "stream",
     "text": [
      "None\n"
     ]
    }
   ],
   "source": [
    "my_list_1 = ['apple','cherry','watemelon']\n",
    "my_list_2 = [10,20,30,45.45,85.23]\n",
    "\n",
    "my_list_3 = my_list_1.extend(my_list_2)\n",
    "print(my_list_3)"
   ]
  },
  {
   "cell_type": "markdown",
   "id": "c2d7fe7c",
   "metadata": {},
   "source": [
    "### 1. 1. Python Program to find the largest element in the list"
   ]
  },
  {
   "cell_type": "code",
   "execution_count": 17,
   "id": "b3b6aa3c",
   "metadata": {},
   "outputs": [
    {
     "name": "stdout",
     "output_type": "stream",
     "text": [
      "Largest element in My_list_1 is:  100\n"
     ]
    }
   ],
   "source": [
    "my_list_1 = [100,92,5,1,76,10,20,30]\n",
    "\n",
    "print(\"Largest element in My_list_1 is: \",max(my_list_1))"
   ]
  },
  {
   "cell_type": "code",
   "execution_count": 18,
   "id": "1d500a62",
   "metadata": {},
   "outputs": [
    {
     "name": "stdout",
     "output_type": "stream",
     "text": [
      "Largest element in My_list_1 is:  1\n"
     ]
    }
   ],
   "source": [
    "my_list_1 = [100,92,5,1,76,10,20,30]\n",
    "\n",
    "print(\"Largest element in My_list_1 is: \",min(my_list_1))"
   ]
  },
  {
   "cell_type": "code",
   "execution_count": 22,
   "id": "6e14e2ac",
   "metadata": {},
   "outputs": [
    {
     "name": "stdout",
     "output_type": "stream",
     "text": [
      "Before sorting list is:  [100, 92, 5, 1, 76, 10, 20, 30]\n",
      "After sorting list is:  [1, 5, 10, 20, 30, 76, 92, 100]\n",
      "Largest element in My_list_1 is:  100\n"
     ]
    }
   ],
   "source": [
    "my_list_1 = [100,92,5,1,76,10,20,30]\n",
    "print(\"Before sorting list is: \",my_list_1)\n",
    "\n",
    "my_list_1.sort()\n",
    "print(\"After sorting list is: \", my_list_1)\n",
    "\n",
    "print(\"Largest element in My_list_1 is: \",my_list_1[-1])"
   ]
  },
  {
   "cell_type": "code",
   "execution_count": 23,
   "id": "a15f51ef",
   "metadata": {},
   "outputs": [
    {
     "name": "stdout",
     "output_type": "stream",
     "text": [
      "Enter No of elements in list: 5\n",
      "Enter a elements: 45\n",
      "Enter a elements: 1\n",
      "Enter a elements: 89\n",
      "Enter a elements: 200\n",
      "Enter a elements: 45\n",
      "Largest element in My_list_1 is:  200\n"
     ]
    }
   ],
   "source": [
    "# Creating emtpy list\n",
    "my_list_1 = []\n",
    "\n",
    "# Asking number of elements to put in list \n",
    "my_num = int(input(\"Enter No of elements in list: \"))\n",
    "\n",
    "# Iterate num to append elements in list\n",
    "for i in range(1, my_num + 1):\n",
    "    my_elements = int(input(\"Enter a elements: \"))\n",
    "    my_list_1.append(my_elements)\n",
    "    \n",
    "#print maximum number inl list\n",
    "print(\"Largest element in My_list_1 is: \", max(my_list_1))"
   ]
  },
  {
   "cell_type": "code",
   "execution_count": 27,
   "id": "5eb9ee4b",
   "metadata": {},
   "outputs": [
    {
     "name": "stdout",
     "output_type": "stream",
     "text": [
      "Largest element in My_list_1 is:  100\n"
     ]
    }
   ],
   "source": [
    "def my_Funct(my_list_1):\n",
    "    # Assume first number in list is largest\n",
    "    \n",
    "    my_max = my_list_1[0]\n",
    "    \n",
    "    for i in my_list_1:\n",
    "        if i > my_max:\n",
    "            my_max = i\n",
    "    \n",
    "    return my_max\n",
    "\n",
    "# driver code\n",
    "my_list_1 = [42,100,92,5,1,76,10,20,30]\n",
    "print(\"Largest element in My_list_1 is: \", my_Funct(my_list_1))"
   ]
  },
  {
   "cell_type": "code",
   "execution_count": null,
   "id": "170479ba",
   "metadata": {},
   "outputs": [],
   "source": []
  }
 ],
 "metadata": {
  "kernelspec": {
   "display_name": "Python 3 (ipykernel)",
   "language": "python",
   "name": "python3"
  },
  "language_info": {
   "codemirror_mode": {
    "name": "ipython",
    "version": 3
   },
   "file_extension": ".py",
   "mimetype": "text/x-python",
   "name": "python",
   "nbconvert_exporter": "python",
   "pygments_lexer": "ipython3",
   "version": "3.11.5"
  }
 },
 "nbformat": 4,
 "nbformat_minor": 5
}
