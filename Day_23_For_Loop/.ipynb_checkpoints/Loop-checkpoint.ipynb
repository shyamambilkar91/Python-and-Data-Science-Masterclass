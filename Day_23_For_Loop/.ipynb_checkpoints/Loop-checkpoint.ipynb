{
 "cells": [
  {
   "cell_type": "raw",
   "id": "4c81143a",
   "metadata": {},
   "source": [
    "* \n",
    "* *\n",
    "* * *\n",
    "* * * *\n",
    "* * * * *"
   ]
  },
  {
   "cell_type": "code",
   "execution_count": 14,
   "id": "9dac2a0b",
   "metadata": {},
   "outputs": [
    {
     "name": "stdout",
     "output_type": "stream",
     "text": [
      "* \n",
      "* * \n",
      "* * * \n",
      "* * * * \n",
      "* * * * * \n"
     ]
    }
   ],
   "source": [
    "for i in range(1, 6):\n",
    "    for j in range(1,i+1):\n",
    "        print(\"*\", end= \" \")\n",
    "    print()"
   ]
  },
  {
   "cell_type": "raw",
   "id": "e64afc87",
   "metadata": {},
   "source": [
    "Step_1 \n",
    "i = 1, n = 6\n",
    "\n",
    "for i in range(1,6)\n",
    "\n",
    "i =1 [1 < 6 ] i = i + 1 = 2\n",
    "\n",
    "Inner loop Step_1\n",
    "j =1  n = i+1 \n",
    "\n",
    "j = 1 [j=1 j < i+1(2)]\n",
    "\n",
    "Step_2\n",
    "i = 2 n = 6\n",
    "\n",
    "i =2 [2 < 6] i = i + 1 =3\n",
    "Inner loop Step_2\n",
    "j = 2 n = i+1\n",
    "\n",
    "j = 1 [j(1) < i+1(3)]\n",
    "j = 2 [j(2) < i+1(3)]\n",
    "j = 3 [j(3) < i+1(3)]\n",
    "\n",
    "Step_3\n",
    "i = 3 n = 6\n",
    "i = 3 [3 < 6] i=i+1 = 4\n",
    "\n",
    "Inner loop Step_3\n",
    "j = 3 n = i+1\n",
    "\n",
    "j = 1 [j(1) < i+1(4)]\n",
    "j = 2 [j(2) < i+1(4)]\n",
    "j = 3 [j(3) < i+1(4)]\n",
    "j = 4 [j(4) < i+1(4)]\n",
    "\n",
    "Step_4\n",
    "i = 4 n = 6\n",
    "i = 4 [4 < 6] i=i+1 = 5\n",
    "Inner loop Step_4\n",
    "j = 4 n = i+1\n",
    "\n",
    "j = 1 [j(1) < i+1(5)]\n",
    "j = 2 [j(2) < i+1(5)]\n",
    "j = 3 [j(3) < i+1(5)]\n",
    "j = 4 [j(4) < i+1(5)]\n",
    "j = 5 [j(5) < i+1(5)]\n",
    "\n",
    "Step_5\n",
    "i = 5 n = 6\n",
    "i = 5 [5 < 6] i=i+1 = 6\n",
    "Inner loop Step_5\n",
    "j = 5 n = i+1\n",
    "\n",
    "j = 1 [j(1) < i+1(6)]\n",
    "j = 2 [j(2) < i+1(6)]\n",
    "j = 3 [j(3) < i+1(6)]\n",
    "j = 4 [j(4) < i+1(6)]\n",
    "j = 5 [j(5) < i+1(6)]\n",
    "j = 6 [j(6) < i+1(6)]\n",
    "\n",
    "Step_6 \n",
    "i = 6 n = 6\n",
    "i = 6 [6 < 6] condition False"
   ]
  },
  {
   "cell_type": "code",
   "execution_count": 17,
   "id": "1562de2f",
   "metadata": {},
   "outputs": [
    {
     "name": "stdout",
     "output_type": "stream",
     "text": [
      "1 \n",
      "2 2 \n",
      "3 3 3 \n",
      "4 4 4 4 \n",
      "5 5 5 5 5 \n"
     ]
    }
   ],
   "source": [
    "for i in range(1, 6):\n",
    "    for j in range(1,i+1):\n",
    "        print(i, end= \" \")\n",
    "    print()"
   ]
  },
  {
   "cell_type": "code",
   "execution_count": 18,
   "id": "11a6dfc6",
   "metadata": {},
   "outputs": [
    {
     "name": "stdout",
     "output_type": "stream",
     "text": [
      "1 \n",
      "1 2 \n",
      "1 2 3 \n",
      "1 2 3 4 \n",
      "1 2 3 4 5 \n"
     ]
    }
   ],
   "source": [
    "for i in range(1, 6):\n",
    "    for j in range(1,i+1):\n",
    "        print(j, end= \" \")\n",
    "    print()"
   ]
  },
  {
   "cell_type": "code",
   "execution_count": null,
   "id": "eb60df0c",
   "metadata": {},
   "outputs": [],
   "source": []
  }
 ],
 "metadata": {
  "kernelspec": {
   "display_name": "Python 3 (ipykernel)",
   "language": "python",
   "name": "python3"
  },
  "language_info": {
   "codemirror_mode": {
    "name": "ipython",
    "version": 3
   },
   "file_extension": ".py",
   "mimetype": "text/x-python",
   "name": "python",
   "nbconvert_exporter": "python",
   "pygments_lexer": "ipython3",
   "version": "3.11.5"
  }
 },
 "nbformat": 4,
 "nbformat_minor": 5
}
