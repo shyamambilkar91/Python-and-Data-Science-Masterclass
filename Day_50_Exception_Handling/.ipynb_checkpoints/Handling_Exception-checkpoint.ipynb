{
 "cells": [
  {
   "cell_type": "markdown",
   "id": "e7023f2e",
   "metadata": {},
   "source": [
    "# Exception Handling"
   ]
  },
  {
   "cell_type": "markdown",
   "id": "31395c6e",
   "metadata": {},
   "source": [
    "1. The try block lets you test a block of code for erros\n",
    "2. The except block lets you handle the error\n",
    "3. The else block lets you execute code when there is no error\n",
    "4. The Finally block let you execute code, regardless of the result of try and except block"
   ]
  },
  {
   "cell_type": "markdown",
   "id": "6ecbe05a",
   "metadata": {},
   "source": [
    "1. When an error occurs or exception as we call it. Python will normally stop and generate an error message\n",
    "2. These exception can be handled uisng the try statement"
   ]
  },
  {
   "cell_type": "code",
   "execution_count": 2,
   "id": "c441b1ee",
   "metadata": {},
   "outputs": [
    {
     "ename": "NameError",
     "evalue": "name 'x' is not defined",
     "output_type": "error",
     "traceback": [
      "\u001b[1;31m---------------------------------------------------------------------------\u001b[0m",
      "\u001b[1;31mNameError\u001b[0m                                 Traceback (most recent call last)",
      "Cell \u001b[1;32mIn[2], line 1\u001b[0m\n\u001b[1;32m----> 1\u001b[0m \u001b[38;5;28mprint\u001b[39m(x)\n",
      "\u001b[1;31mNameError\u001b[0m: name 'x' is not defined"
     ]
    }
   ],
   "source": [
    "print(x)"
   ]
  },
  {
   "cell_type": "code",
   "execution_count": 1,
   "id": "c3c107d2",
   "metadata": {},
   "outputs": [
    {
     "name": "stdout",
     "output_type": "stream",
     "text": [
      "An exception occured...!\n"
     ]
    }
   ],
   "source": [
    "try:\n",
    "    print(x)\n",
    "except:\n",
    "    print(\"An exception occured...!\")"
   ]
  },
  {
   "cell_type": "markdown",
   "id": "459e6f20",
   "metadata": {},
   "source": [
    "### Many Exceptions"
   ]
  },
  {
   "cell_type": "code",
   "execution_count": 3,
   "id": "2c7e734b",
   "metadata": {},
   "outputs": [
    {
     "name": "stdout",
     "output_type": "stream",
     "text": [
      "Variable x is not defined...!\n"
     ]
    }
   ],
   "source": [
    "try:\n",
    "    print(x)\n",
    "except NameError:\n",
    "    print(\"Variable x is not defined...!\")\n",
    "except:\n",
    "    print(\"Something else went wrong...!\")"
   ]
  },
  {
   "cell_type": "code",
   "execution_count": 4,
   "id": "ea485ad2",
   "metadata": {},
   "outputs": [
    {
     "name": "stdout",
     "output_type": "stream",
     "text": [
      "Welcome to Exception Handling...!\n"
     ]
    }
   ],
   "source": [
    "x = \"Welcome to Exception Handling...!\"\n",
    "\n",
    "try:\n",
    "    print(x)\n",
    "except NameError:\n",
    "    print(\"Variable x is not defined...!\")\n",
    "except:\n",
    "    print(\"Something else went wrong...!\")"
   ]
  },
  {
   "cell_type": "markdown",
   "id": "8a63db2c",
   "metadata": {},
   "source": [
    "1. When a Python Program meets an error, It stops the execution of the rest of the program."
   ]
  },
  {
   "cell_type": "code",
   "execution_count": 5,
   "id": "14a18401",
   "metadata": {},
   "outputs": [
    {
     "ename": "SyntaxError",
     "evalue": "invalid syntax (2355303180.py, line 4)",
     "output_type": "error",
     "traceback": [
      "\u001b[1;36m  Cell \u001b[1;32mIn[5], line 4\u001b[1;36m\u001b[0m\n\u001b[1;33m    if(i!=:\u001b[0m\n\u001b[1;37m          ^\u001b[0m\n\u001b[1;31mSyntaxError\u001b[0m\u001b[1;31m:\u001b[0m invalid syntax\n"
     ]
    }
   ],
   "source": [
    "my_text = \"Welcome to Python Programming...!\"\n",
    "\n",
    "for i in my_text:\n",
    "    if(i!=:\n",
    "       print(i)"
   ]
  },
  {
   "cell_type": "code",
   "execution_count": 6,
   "id": "88c311a5",
   "metadata": {},
   "outputs": [
    {
     "ename": "NameError",
     "evalue": "name 'o' is not defined",
     "output_type": "error",
     "traceback": [
      "\u001b[1;31m---------------------------------------------------------------------------\u001b[0m",
      "\u001b[1;31mNameError\u001b[0m                                 Traceback (most recent call last)",
      "Cell \u001b[1;32mIn[6], line 4\u001b[0m\n\u001b[0;32m      1\u001b[0m my_text \u001b[38;5;241m=\u001b[39m \u001b[38;5;124m\"\u001b[39m\u001b[38;5;124mWelcome to Python Programming...!\u001b[39m\u001b[38;5;124m\"\u001b[39m\n\u001b[0;32m      3\u001b[0m \u001b[38;5;28;01mfor\u001b[39;00m i \u001b[38;5;129;01min\u001b[39;00m my_text:\n\u001b[1;32m----> 4\u001b[0m     \u001b[38;5;28;01mif\u001b[39;00m(i\u001b[38;5;241m!=\u001b[39mo):\n\u001b[0;32m      5\u001b[0m         \u001b[38;5;28mprint\u001b[39m(i)\n",
      "\u001b[1;31mNameError\u001b[0m: name 'o' is not defined"
     ]
    }
   ],
   "source": [
    "my_text = \"Welcome to Python Programming...!\"\n",
    "\n",
    "for i in my_text:\n",
    "    if(i!=o):\n",
    "        print(i)"
   ]
  },
  {
   "cell_type": "code",
   "execution_count": 7,
   "id": "2c81bdf0",
   "metadata": {},
   "outputs": [
    {
     "name": "stdout",
     "output_type": "stream",
     "text": [
      "The index and element from the array:  0 apple\n",
      "The index and element from the array:  1 mango\n",
      "The index and element from the array:  2 cherry\n",
      "Index out of range...!\n"
     ]
    }
   ],
   "source": [
    "my_list = ['apple','mango','cherry']\n",
    "\n",
    "try:\n",
    "    for i in range(4):\n",
    "        print(\"The index and element from the array: \",i,my_list[i])\n",
    "except:\n",
    "    print(\"Index out of range...!\")"
   ]
  },
  {
   "cell_type": "code",
   "execution_count": 8,
   "id": "5c152a16",
   "metadata": {},
   "outputs": [
    {
     "name": "stdout",
     "output_type": "stream",
     "text": [
      "The index and element from the array:  0 apple\n",
      "The index and element from the array:  1 mango\n",
      "The index and element from the array:  2 cherry\n"
     ]
    },
    {
     "ename": "IndexError",
     "evalue": "list index out of range",
     "output_type": "error",
     "traceback": [
      "\u001b[1;31m---------------------------------------------------------------------------\u001b[0m",
      "\u001b[1;31mIndexError\u001b[0m                                Traceback (most recent call last)",
      "Cell \u001b[1;32mIn[8], line 4\u001b[0m\n\u001b[0;32m      1\u001b[0m my_list \u001b[38;5;241m=\u001b[39m [\u001b[38;5;124m'\u001b[39m\u001b[38;5;124mapple\u001b[39m\u001b[38;5;124m'\u001b[39m,\u001b[38;5;124m'\u001b[39m\u001b[38;5;124mmango\u001b[39m\u001b[38;5;124m'\u001b[39m,\u001b[38;5;124m'\u001b[39m\u001b[38;5;124mcherry\u001b[39m\u001b[38;5;124m'\u001b[39m]\n\u001b[0;32m      3\u001b[0m \u001b[38;5;28;01mfor\u001b[39;00m i \u001b[38;5;129;01min\u001b[39;00m \u001b[38;5;28mrange\u001b[39m(\u001b[38;5;241m4\u001b[39m):\n\u001b[1;32m----> 4\u001b[0m     \u001b[38;5;28mprint\u001b[39m(\u001b[38;5;124m\"\u001b[39m\u001b[38;5;124mThe index and element from the array: \u001b[39m\u001b[38;5;124m\"\u001b[39m,i,my_list[i])\n",
      "\u001b[1;31mIndexError\u001b[0m: list index out of range"
     ]
    }
   ],
   "source": [
    "my_list = ['apple','mango','cherry']\n",
    "\n",
    "for i in range(4):\n",
    "    print(\"The index and element from the array: \",i,my_list[i])\n",
    "    "
   ]
  },
  {
   "cell_type": "code",
   "execution_count": null,
   "id": "51b4eb3b",
   "metadata": {},
   "outputs": [],
   "source": []
  }
 ],
 "metadata": {
  "kernelspec": {
   "display_name": "Python 3 (ipykernel)",
   "language": "python",
   "name": "python3"
  },
  "language_info": {
   "codemirror_mode": {
    "name": "ipython",
    "version": 3
   },
   "file_extension": ".py",
   "mimetype": "text/x-python",
   "name": "python",
   "nbconvert_exporter": "python",
   "pygments_lexer": "ipython3",
   "version": "3.11.5"
  }
 },
 "nbformat": 4,
 "nbformat_minor": 5
}
