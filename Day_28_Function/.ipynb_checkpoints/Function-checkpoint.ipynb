{
 "cells": [
  {
   "cell_type": "markdown",
   "id": "4e106a82",
   "metadata": {},
   "source": [
    "# Python Function"
   ]
  },
  {
   "cell_type": "markdown",
   "id": "7781353d",
   "metadata": {},
   "source": [
    "1. A Function is block of code which only runs when it is called\n",
    "2. You can pass data, known as parameter, into function\n",
    "3. A function can return data as result\n",
    "4. def keyword is used to create function\n",
    "5. Synatax - def function_name():\n",
    "6. To call function, use the function name followed by paranthesis"
   ]
  },
  {
   "cell_type": "markdown",
   "id": "3ea1f635",
   "metadata": {},
   "source": [
    "### 1. Creating function"
   ]
  },
  {
   "cell_type": "code",
   "execution_count": 1,
   "id": "7b8692ed",
   "metadata": {},
   "outputs": [],
   "source": [
    "def my_function():\n",
    "    print(\"Welcome to Python Function..!\")"
   ]
  },
  {
   "cell_type": "markdown",
   "id": "afb03763",
   "metadata": {},
   "source": [
    "### 2. Calling Function"
   ]
  },
  {
   "cell_type": "code",
   "execution_count": 2,
   "id": "082bffdd",
   "metadata": {},
   "outputs": [
    {
     "name": "stdout",
     "output_type": "stream",
     "text": [
      "Welcome to Python Function..!\n"
     ]
    }
   ],
   "source": [
    "def my_function():\n",
    "    print(\"Welcome to Python Function..!\")\n",
    "my_function()"
   ]
  },
  {
   "cell_type": "code",
   "execution_count": 3,
   "id": "24ff3330",
   "metadata": {},
   "outputs": [
    {
     "name": "stdout",
     "output_type": "stream",
     "text": [
      "Welcome to Python Programming...!\n",
      "Welcome to Python Function..!\n"
     ]
    }
   ],
   "source": [
    "def my_funct():\n",
    "    print('Welcome to Python Programming...!')\n",
    "    print(\"Welcome to Python Function..!\")\n",
    "    \n",
    "my_funct()"
   ]
  },
  {
   "cell_type": "markdown",
   "id": "0e8887cd",
   "metadata": {},
   "source": [
    "### 3. Arguments"
   ]
  },
  {
   "cell_type": "markdown",
   "id": "27b9997c",
   "metadata": {},
   "source": [
    "1. Information can be passed into functions as arguments\n",
    "2. Arguments are specified after the function name, inside the paranthesis.\n",
    "3. You can add as many arguments as you want,just separate them with comma"
   ]
  },
  {
   "cell_type": "code",
   "execution_count": 8,
   "id": "fe6506e1",
   "metadata": {},
   "outputs": [
    {
     "name": "stdout",
     "output_type": "stream",
     "text": [
      "Shyam Ambilkar\n",
      "Tushar Pokale\n"
     ]
    }
   ],
   "source": [
    "def my_function(fname,lname):\n",
    "    print(fname +\" \"+ lname)\n",
    "    \n",
    "my_function(\"Shyam\",\"Ambilkar\")\n",
    "my_function(\"Tushar\",\"Pokale\")"
   ]
  },
  {
   "cell_type": "code",
   "execution_count": 10,
   "id": "1c3f7667",
   "metadata": {},
   "outputs": [
    {
     "name": "stdout",
     "output_type": "stream",
     "text": [
      "Shyam \n"
     ]
    }
   ],
   "source": [
    "def my_function(fname,lname):\n",
    "    print(fname +\" \"+ lname)\n",
    "    \n",
    "my_function(\"Shyam\",\"\")"
   ]
  },
  {
   "cell_type": "code",
   "execution_count": 11,
   "id": "56ac685a",
   "metadata": {},
   "outputs": [
    {
     "ename": "TypeError",
     "evalue": "my_function() missing 1 required positional argument: 'lname'",
     "output_type": "error",
     "traceback": [
      "\u001b[1;31m---------------------------------------------------------------------------\u001b[0m",
      "\u001b[1;31mTypeError\u001b[0m                                 Traceback (most recent call last)",
      "Cell \u001b[1;32mIn[11], line 4\u001b[0m\n\u001b[0;32m      1\u001b[0m \u001b[38;5;28;01mdef\u001b[39;00m \u001b[38;5;21mmy_function\u001b[39m(fname,lname):\n\u001b[0;32m      2\u001b[0m     \u001b[38;5;28mprint\u001b[39m(fname \u001b[38;5;241m+\u001b[39m\u001b[38;5;124m\"\u001b[39m\u001b[38;5;124m \u001b[39m\u001b[38;5;124m\"\u001b[39m\u001b[38;5;241m+\u001b[39m lname)\n\u001b[1;32m----> 4\u001b[0m my_function(\u001b[38;5;124m\"\u001b[39m\u001b[38;5;124mShyam\u001b[39m\u001b[38;5;124m\"\u001b[39m,)\n",
      "\u001b[1;31mTypeError\u001b[0m: my_function() missing 1 required positional argument: 'lname'"
     ]
    }
   ],
   "source": [
    "def my_function(fname,lname):\n",
    "    print(fname +\" \"+ lname)\n",
    "    \n",
    "my_function(\"Shyam\",)"
   ]
  },
  {
   "cell_type": "code",
   "execution_count": 12,
   "id": "f537cded",
   "metadata": {},
   "outputs": [
    {
     "ename": "TypeError",
     "evalue": "my_function() missing 2 required positional arguments: 'fname' and 'lname'",
     "output_type": "error",
     "traceback": [
      "\u001b[1;31m---------------------------------------------------------------------------\u001b[0m",
      "\u001b[1;31mTypeError\u001b[0m                                 Traceback (most recent call last)",
      "Cell \u001b[1;32mIn[12], line 4\u001b[0m\n\u001b[0;32m      1\u001b[0m \u001b[38;5;28;01mdef\u001b[39;00m \u001b[38;5;21mmy_function\u001b[39m(fname,lname):\n\u001b[0;32m      2\u001b[0m     \u001b[38;5;28mprint\u001b[39m(fname \u001b[38;5;241m+\u001b[39m\u001b[38;5;124m\"\u001b[39m\u001b[38;5;124m \u001b[39m\u001b[38;5;124m\"\u001b[39m\u001b[38;5;241m+\u001b[39m lname)\n\u001b[1;32m----> 4\u001b[0m my_function()\n",
      "\u001b[1;31mTypeError\u001b[0m: my_function() missing 2 required positional arguments: 'fname' and 'lname'"
     ]
    }
   ],
   "source": [
    "def my_function(fname,lname):\n",
    "    print(fname +\" \"+ lname)\n",
    "    \n",
    "my_function()"
   ]
  },
  {
   "cell_type": "markdown",
   "id": "9b5accd1",
   "metadata": {},
   "source": [
    "### Parameters or Arguments ?"
   ]
  },
  {
   "cell_type": "markdown",
   "id": "c499fc86",
   "metadata": {},
   "source": [
    "1. The terms parameter and arguments can be used for the same thing: Information that passed into a function\n",
    "2. From a Function perspective:\n",
    "    1. A parameter is variable listed inside the paranthesis in the **function definition.**\n",
    "    2. An Argument is the value that is sent to the function when it is called"
   ]
  },
  {
   "cell_type": "code",
   "execution_count": 13,
   "id": "4bfaa73b",
   "metadata": {},
   "outputs": [
    {
     "name": "stdout",
     "output_type": "stream",
     "text": [
      "Shyam Ambilkar\n"
     ]
    }
   ],
   "source": [
    "def my_function(first_name, last_name): #Paranthesis\n",
    "    print(first_name + \" \"+ last_name)\n",
    "    \n",
    "my_function(\"Shyam\",\"Ambilkar\")# Arguments"
   ]
  },
  {
   "cell_type": "code",
   "execution_count": 14,
   "id": "439e59f5",
   "metadata": {},
   "outputs": [
    {
     "ename": "TypeError",
     "evalue": "my_function() takes 1 positional argument but 2 were given",
     "output_type": "error",
     "traceback": [
      "\u001b[1;31m---------------------------------------------------------------------------\u001b[0m",
      "\u001b[1;31mTypeError\u001b[0m                                 Traceback (most recent call last)",
      "Cell \u001b[1;32mIn[14], line 4\u001b[0m\n\u001b[0;32m      1\u001b[0m \u001b[38;5;28;01mdef\u001b[39;00m \u001b[38;5;21mmy_function\u001b[39m(first_name): \u001b[38;5;66;03m#Paranthesis\u001b[39;00m\n\u001b[0;32m      2\u001b[0m     \u001b[38;5;28mprint\u001b[39m(first_name \u001b[38;5;241m+\u001b[39m \u001b[38;5;124m\"\u001b[39m\u001b[38;5;124m \u001b[39m\u001b[38;5;124m\"\u001b[39m\u001b[38;5;241m+\u001b[39m last_name)\n\u001b[1;32m----> 4\u001b[0m my_function(\u001b[38;5;124m\"\u001b[39m\u001b[38;5;124mShyam\u001b[39m\u001b[38;5;124m\"\u001b[39m,\u001b[38;5;124m\"\u001b[39m\u001b[38;5;124mAmbilkar\u001b[39m\u001b[38;5;124m\"\u001b[39m)\n",
      "\u001b[1;31mTypeError\u001b[0m: my_function() takes 1 positional argument but 2 were given"
     ]
    }
   ],
   "source": [
    "def my_function(first_name): #Parameter\n",
    "    print(first_name + \" \"+ last_name)\n",
    "    \n",
    "my_function(\"Shyam\",\"Ambilkar\")# Arguments"
   ]
  },
  {
   "cell_type": "markdown",
   "id": "f955452a",
   "metadata": {},
   "source": [
    "## Arbitary Arguments, *args"
   ]
  },
  {
   "cell_type": "markdown",
   "id": "3a652f58",
   "metadata": {},
   "source": [
    "1. If you do not know how many arguments that will be passed into function.\n",
    "2. Add * before the parameter name in the function definition\n",
    "3. This way the function will receive a tuple of arguments, and can access item accordingly"
   ]
  },
  {
   "cell_type": "code",
   "execution_count": 16,
   "id": "d8e3df4e",
   "metadata": {},
   "outputs": [
    {
     "ename": "TypeError",
     "evalue": "my_function() takes 1 positional argument but 5 were given",
     "output_type": "error",
     "traceback": [
      "\u001b[1;31m---------------------------------------------------------------------------\u001b[0m",
      "\u001b[1;31mTypeError\u001b[0m                                 Traceback (most recent call last)",
      "Cell \u001b[1;32mIn[16], line 4\u001b[0m\n\u001b[0;32m      1\u001b[0m \u001b[38;5;28;01mdef\u001b[39;00m \u001b[38;5;21mmy_function\u001b[39m(first_name):\n\u001b[0;32m      2\u001b[0m     \u001b[38;5;28mprint\u001b[39m(\u001b[38;5;124m\"\u001b[39m\u001b[38;5;124mStudent First name are: \u001b[39m\u001b[38;5;124m\"\u001b[39m,first_name[\u001b[38;5;241m2\u001b[39m])\n\u001b[1;32m----> 4\u001b[0m my_function(\u001b[38;5;124m\"\u001b[39m\u001b[38;5;124mTushar\u001b[39m\u001b[38;5;124m\"\u001b[39m,\u001b[38;5;124m\"\u001b[39m\u001b[38;5;124mVishal\u001b[39m\u001b[38;5;124m\"\u001b[39m,\u001b[38;5;124m\"\u001b[39m\u001b[38;5;124mAkash\u001b[39m\u001b[38;5;124m\"\u001b[39m,\u001b[38;5;124m\"\u001b[39m\u001b[38;5;124mAmbika\u001b[39m\u001b[38;5;124m\"\u001b[39m,\u001b[38;5;124m\"\u001b[39m\u001b[38;5;124mPranali\u001b[39m\u001b[38;5;124m\"\u001b[39m)\n",
      "\u001b[1;31mTypeError\u001b[0m: my_function() takes 1 positional argument but 5 were given"
     ]
    }
   ],
   "source": [
    "def my_function(first_name):\n",
    "    print(\"Student First name are: \",first_name[2])\n",
    "    \n",
    "my_function(\"Tushar\",\"Vishal\",\"Akash\",\"Ambika\",\"Pranali\")"
   ]
  },
  {
   "cell_type": "code",
   "execution_count": 15,
   "id": "31d2fdba",
   "metadata": {},
   "outputs": [
    {
     "name": "stdout",
     "output_type": "stream",
     "text": [
      "Student First name are:  Akash\n"
     ]
    }
   ],
   "source": [
    "def my_function(*first_name):\n",
    "    print(\"Student First name are: \",first_name[2])\n",
    "    \n",
    "my_function(\"Tushar\",\"Vishal\",\"Akash\",\"Ambika\",\"Pranali\")"
   ]
  },
  {
   "cell_type": "code",
   "execution_count": 17,
   "id": "5aff7192",
   "metadata": {},
   "outputs": [
    {
     "name": "stdout",
     "output_type": "stream",
     "text": [
      "Student First name are:  ('Tushar', 'Vishal', 'Akash', 'Ambika', 'Pranali')\n"
     ]
    }
   ],
   "source": [
    "def my_function(*first_name):\n",
    "    print(\"Student First name are: \",first_name)\n",
    "    \n",
    "my_function(\"Tushar\",\"Vishal\",\"Akash\",\"Ambika\",\"Pranali\")"
   ]
  },
  {
   "cell_type": "code",
   "execution_count": 18,
   "id": "465d89d2",
   "metadata": {},
   "outputs": [
    {
     "name": "stdout",
     "output_type": "stream",
     "text": [
      "Student First name are:  ('Tushar', 'Vishal', 'Akash', 'Ambika', 'Pranali')\n"
     ]
    }
   ],
   "source": [
    "def my_function(*first_name):\n",
    "    print(\"Student First name are: \",first_name[:])\n",
    "    \n",
    "my_function(\"Tushar\",\"Vishal\",\"Akash\",\"Ambika\",\"Pranali\")"
   ]
  },
  {
   "cell_type": "code",
   "execution_count": 19,
   "id": "09637b94",
   "metadata": {},
   "outputs": [
    {
     "name": "stdout",
     "output_type": "stream",
     "text": [
      "Student First name are:  ('Tushar', 'Vishal', 'Akash')\n"
     ]
    }
   ],
   "source": [
    "def my_function(*first_name):\n",
    "    print(\"Student First name are: \",first_name[:3])\n",
    "    \n",
    "my_function(\"Tushar\",\"Vishal\",\"Akash\",\"Ambika\",\"Pranali\")"
   ]
  },
  {
   "cell_type": "code",
   "execution_count": 20,
   "id": "12c13400",
   "metadata": {},
   "outputs": [
    {
     "name": "stdout",
     "output_type": "stream",
     "text": [
      "Student First name are:  ('Vishal', 'Akash')\n"
     ]
    }
   ],
   "source": [
    "def my_function(*first_name):\n",
    "    print(\"Student First name are: \",first_name[1:3])\n",
    "    \n",
    "my_function(\"Tushar\",\"Vishal\",\"Akash\",\"Ambika\",\"Pranali\")"
   ]
  },
  {
   "cell_type": "code",
   "execution_count": 22,
   "id": "ea720294",
   "metadata": {},
   "outputs": [
    {
     "name": "stdout",
     "output_type": "stream",
     "text": [
      "Student First name are:  ('Vishal', 'Ambika')\n"
     ]
    }
   ],
   "source": [
    "def my_function(*first_name):\n",
    "    print(\"Student First name are: \",first_name[1::2])\n",
    "    \n",
    "my_function(\"Tushar\",\"Vishal\",\"Akash\",\"Ambika\",\"Pranali\")"
   ]
  },
  {
   "cell_type": "code",
   "execution_count": null,
   "id": "4b33963b",
   "metadata": {},
   "outputs": [],
   "source": []
  }
 ],
 "metadata": {
  "kernelspec": {
   "display_name": "Python 3 (ipykernel)",
   "language": "python",
   "name": "python3"
  },
  "language_info": {
   "codemirror_mode": {
    "name": "ipython",
    "version": 3
   },
   "file_extension": ".py",
   "mimetype": "text/x-python",
   "name": "python",
   "nbconvert_exporter": "python",
   "pygments_lexer": "ipython3",
   "version": "3.11.5"
  }
 },
 "nbformat": 4,
 "nbformat_minor": 5
}
