{
 "cells": [
  {
   "cell_type": "markdown",
   "id": "a9a4e2d4",
   "metadata": {},
   "source": [
    "# Dictionary - Looping through value and Keys"
   ]
  },
  {
   "cell_type": "code",
   "execution_count": 3,
   "id": "ac307250",
   "metadata": {},
   "outputs": [
    {
     "name": "stdout",
     "output_type": "stream",
     "text": [
      "brand\n",
      "model\n",
      "year\n"
     ]
    }
   ],
   "source": [
    "my_dict = {\n",
    "    'brand':'Tata',\n",
    "    'model':'swift',\n",
    "    'year':2024\n",
    "}\n",
    "\n",
    "for i in my_dict:\n",
    "    print(i)"
   ]
  },
  {
   "cell_type": "code",
   "execution_count": 4,
   "id": "e59eb66a",
   "metadata": {},
   "outputs": [
    {
     "name": "stdout",
     "output_type": "stream",
     "text": [
      "Tata\n",
      "swift\n",
      "2024\n"
     ]
    }
   ],
   "source": [
    "my_dict = {\n",
    "    'brand':'Tata',\n",
    "    'model':'swift',\n",
    "    'year':2024\n",
    "}\n",
    "\n",
    "for i in my_dict:\n",
    "    print(my_dict[i])"
   ]
  },
  {
   "cell_type": "markdown",
   "id": "15ce4f9d",
   "metadata": {},
   "source": [
    "1. In dictionary values() method to return a values of a dictionary\n",
    "2. In dictionary Keys() method to return a Keys of a dictionary\n",
    "3. In dictionary looping throgh keys and values by using items() method"
   ]
  },
  {
   "cell_type": "code",
   "execution_count": 5,
   "id": "2358ee06",
   "metadata": {},
   "outputs": [
    {
     "name": "stdout",
     "output_type": "stream",
     "text": [
      "brand\n",
      "model\n",
      "year\n"
     ]
    }
   ],
   "source": [
    "my_dict = {\n",
    "    'brand':'Tata',\n",
    "    'model':'swift',\n",
    "    'year':2024\n",
    "}\n",
    "\n",
    "for i in my_dict.keys():\n",
    "    print(i)"
   ]
  },
  {
   "cell_type": "code",
   "execution_count": 6,
   "id": "1184322b",
   "metadata": {},
   "outputs": [
    {
     "name": "stdout",
     "output_type": "stream",
     "text": [
      "Tata\n",
      "swift\n",
      "2024\n"
     ]
    }
   ],
   "source": [
    "my_dict = {\n",
    "    'brand':'Tata',\n",
    "    'model':'swift',\n",
    "    'year':2024\n",
    "}\n",
    "\n",
    "for i in my_dict.values():\n",
    "    print(i)"
   ]
  },
  {
   "cell_type": "code",
   "execution_count": 7,
   "id": "b06f243e",
   "metadata": {},
   "outputs": [
    {
     "name": "stdout",
     "output_type": "stream",
     "text": [
      "brand Tata\n",
      "model swift\n",
      "year 2024\n"
     ]
    }
   ],
   "source": [
    "for i, j in my_dict.items():\n",
    "    print(i,j)"
   ]
  },
  {
   "cell_type": "markdown",
   "id": "ced4f9d1",
   "metadata": {},
   "source": [
    "### Dictionary - Copy dictinary"
   ]
  },
  {
   "cell_type": "markdown",
   "id": "9eb37a7f",
   "metadata": {},
   "source": [
    "1. You cannot copy a dictionary simply by typing dict2 = dict1, because dict2 will only a reference to dict, and changes made from dict1 will automatically also be made in dict2"
   ]
  },
  {
   "cell_type": "code",
   "execution_count": 9,
   "id": "b14f53e0",
   "metadata": {},
   "outputs": [
    {
     "name": "stdout",
     "output_type": "stream",
     "text": [
      "{'brand': 'Tata', 'model': 'swift', 'year': 2024}\n"
     ]
    }
   ],
   "source": [
    "my_dict = {\n",
    "    'brand':'Tata',\n",
    "    'model':'swift',\n",
    "    'year':2024\n",
    "}\n",
    "my_dict_1 = my_dict.copy()\n",
    "print(my_dict_1)"
   ]
  },
  {
   "cell_type": "markdown",
   "id": "27cef434",
   "metadata": {},
   "source": [
    "Another way to make copy to use the built in function dict()"
   ]
  },
  {
   "cell_type": "code",
   "execution_count": 10,
   "id": "7ce055b9",
   "metadata": {},
   "outputs": [
    {
     "name": "stdout",
     "output_type": "stream",
     "text": [
      "{'brand': 'Tata', 'model': 'swift', 'year': 2024}\n"
     ]
    }
   ],
   "source": [
    "my_dict = {\n",
    "    'brand':'Tata',\n",
    "    'model':'swift',\n",
    "    'year':2024\n",
    "}\n",
    "\n",
    "my_dict_2 = dict(my_dict)\n",
    "print(my_dict_2)"
   ]
  },
  {
   "cell_type": "markdown",
   "id": "72149e7a",
   "metadata": {},
   "source": [
    "### Nested Dictionary"
   ]
  },
  {
   "cell_type": "code",
   "execution_count": 12,
   "id": "c45b0859",
   "metadata": {},
   "outputs": [
    {
     "data": {
      "text/plain": [
       "{'student_1': {'stud_name': 'Vishal Shitole',\n",
       "  'stud_edu': 'BE',\n",
       "  'city': 'Pune',\n",
       "  'Mobile': 1234567890,\n",
       "  'dob': '20 April 2024'},\n",
       " 'student_2': {'stud_name': 'Ambika kadam',\n",
       "  'stud_edu': 'BE',\n",
       "  'city': 'Pune',\n",
       "  'Mobile': 1234567890,\n",
       "  'dob': '20 April 2024'},\n",
       " 'student_3': {'stud_name': 'Rohen Gandhi',\n",
       "  'stud_edu': 'BE',\n",
       "  'city': 'Pune',\n",
       "  'Mobile': 1234567890,\n",
       "  'dob': '20 April 2024'}}"
      ]
     },
     "execution_count": 12,
     "metadata": {},
     "output_type": "execute_result"
    }
   ],
   "source": [
    "my_class = {\n",
    "    \"student_1\":{\n",
    "        \"stud_name\": \"Vishal Shitole\",\n",
    "        \"stud_edu\": \"BE\",\n",
    "        \"city\":'Pune',\n",
    "        'Mobile': 1234567890,\n",
    "        'dob': '20 April 2024'\n",
    "    },\n",
    "    \"student_2\":{\n",
    "        \"stud_name\": \"Ambika kadam\",\n",
    "        \"stud_edu\": \"BE\",\n",
    "        \"city\":'Pune',\n",
    "        'Mobile': 1234567890,\n",
    "        'dob': '20 April 2024'\n",
    "    },\n",
    "    \"student_3\":{\n",
    "        \"stud_name\": \"Rohen Gandhi\",\n",
    "        \"stud_edu\": \"BE\",\n",
    "        \"city\":'Pune',\n",
    "        'Mobile': 1234567890,\n",
    "        'dob': '20 April 2024'\n",
    "    }\n",
    "}\n",
    "\n",
    "my_class"
   ]
  },
  {
   "cell_type": "code",
   "execution_count": 13,
   "id": "ef9902f6",
   "metadata": {},
   "outputs": [
    {
     "data": {
      "text/plain": [
       "'Pune'"
      ]
     },
     "execution_count": 13,
     "metadata": {},
     "output_type": "execute_result"
    }
   ],
   "source": [
    "my_class['student_2']['city']"
   ]
  },
  {
   "cell_type": "code",
   "execution_count": 15,
   "id": "594423da",
   "metadata": {},
   "outputs": [
    {
     "name": "stdout",
     "output_type": "stream",
     "text": [
      "{'stud_name': 'Rohen Gandhi', 'stud_edu': 'BE', 'city': 'Pune', 'Mobile': 1234567890, 'dob': '20 April 2024'}\n"
     ]
    }
   ],
   "source": [
    "print(my_class['student_3'])"
   ]
  },
  {
   "cell_type": "code",
   "execution_count": 16,
   "id": "093130b0",
   "metadata": {},
   "outputs": [
    {
     "name": "stdout",
     "output_type": "stream",
     "text": [
      "{'Akash': 7, 'Ambika': 15, 'Pranali': 30, 'Rohan': 11, 'Tushar': 1, 'Vishal': 5}\n"
     ]
    }
   ],
   "source": [
    "my_dict = {\n",
    "    'Rohan': 11, 'Ambika':15, 'Akash': 7,'Tushar': 1, 'Pranali': 30, 'Vishal': 5\n",
    "}\n",
    "\n",
    "my_keys = list(my_dict.keys())\n",
    "my_keys.sort()\n",
    "\n",
    "sorted_dict = {i: my_dict[i] for i in my_keys}\n",
    "print(sorted_dict)"
   ]
  },
  {
   "cell_type": "code",
   "execution_count": 17,
   "id": "aaa06283",
   "metadata": {},
   "outputs": [
    {
     "name": "stdout",
     "output_type": "stream",
     "text": [
      "OrderedDict([('Akash', 7), ('Ambika', 15), ('Pranali', 30), ('Rohan', 11), ('Tushar', 1), ('Vishal', 5)])\n"
     ]
    }
   ],
   "source": [
    "from collections import OrderedDict\n",
    "my_dict = {\n",
    "    'Rohan': 11, 'Ambika':15, 'Akash': 7,'Tushar': 1, 'Pranali': 30, 'Vishal': 5\n",
    "}\n",
    "\n",
    "sorted_dict = OrderedDict(sorted(my_dict.items()))\n",
    "print(sorted_dict)"
   ]
  },
  {
   "cell_type": "code",
   "execution_count": 22,
   "id": "0a385961",
   "metadata": {},
   "outputs": [
    {
     "name": "stdout",
     "output_type": "stream",
     "text": [
      "['Rohan', 'Ambika', 'Akash', 'Tushar', 'Pranali', 'Vishal']\n",
      "<class 'list'>\n",
      "['Akash', 'Ambika', 'Pranali', 'Rohan', 'Tushar', 'Vishal']\n",
      "{'Akash': 7, 'Ambika': 15, 'Pranali': 30, 'Rohan': 11, 'Tushar': 1, 'Vishal': 5}\n"
     ]
    }
   ],
   "source": [
    "my_dict = {\n",
    "    'Rohan': 11, 'Ambika':15, 'Akash': 7,'Tushar': 1, 'Pranali': 30, 'Vishal': 5\n",
    "}\n",
    "\n",
    "my_keys = list(my_dict.keys())\n",
    "print(my_keys)\n",
    "print(type(my_keys))\n",
    "\n",
    "my_keys.sort()\n",
    "\n",
    "print(my_keys)\n",
    "\n",
    "sorted_dict = {i: my_dict[i] for i in my_keys}\n",
    "print(sorted_dict)"
   ]
  },
  {
   "cell_type": "code",
   "execution_count": 27,
   "id": "e1ba8e92",
   "metadata": {},
   "outputs": [
    {
     "name": "stdout",
     "output_type": "stream",
     "text": [
      "OrderedDict([('Vishal', 5), ('Tushar', 1), ('Rohan', 11), ('Pranali', 30), ('Ambika', 15), ('Akash', 7)])\n"
     ]
    }
   ],
   "source": [
    "from collections import OrderedDict\n",
    "my_dict = {\n",
    "    'Rohan': 11, 'Ambika':15, 'Akash': 7,'Tushar': 1, 'Pranali': 30, 'Vishal': 5\n",
    "}\n",
    "\n",
    "sorted_dict = OrderedDict(sorted(my_dict.items(),reverse=True))\n",
    "print(sorted_dict)"
   ]
  },
  {
   "cell_type": "code",
   "execution_count": 24,
   "id": "c0e54914",
   "metadata": {},
   "outputs": [],
   "source": [
    "# help(OrderedDict)"
   ]
  },
  {
   "cell_type": "code",
   "execution_count": 25,
   "id": "9461c75e",
   "metadata": {},
   "outputs": [
    {
     "name": "stdout",
     "output_type": "stream",
     "text": [
      "Help on built-in function sorted in module builtins:\n",
      "\n",
      "sorted(iterable, /, *, key=None, reverse=False)\n",
      "    Return a new list containing all items from the iterable in ascending order.\n",
      "    \n",
      "    A custom key function can be supplied to customize the sort order, and the\n",
      "    reverse flag can be set to request the result in descending order.\n",
      "\n"
     ]
    }
   ],
   "source": [
    "help(sorted)"
   ]
  },
  {
   "cell_type": "code",
   "execution_count": null,
   "id": "01201de4",
   "metadata": {},
   "outputs": [],
   "source": []
  }
 ],
 "metadata": {
  "kernelspec": {
   "display_name": "Python 3 (ipykernel)",
   "language": "python",
   "name": "python3"
  },
  "language_info": {
   "codemirror_mode": {
    "name": "ipython",
    "version": 3
   },
   "file_extension": ".py",
   "mimetype": "text/x-python",
   "name": "python",
   "nbconvert_exporter": "python",
   "pygments_lexer": "ipython3",
   "version": "3.11.5"
  }
 },
 "nbformat": 4,
 "nbformat_minor": 5
}
