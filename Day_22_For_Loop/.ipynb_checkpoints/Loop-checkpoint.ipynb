{
 "cells": [
  {
   "cell_type": "markdown",
   "id": "e59fd7e9",
   "metadata": {},
   "source": [
    "## Python For Loop"
   ]
  },
  {
   "cell_type": "markdown",
   "id": "d2f41837",
   "metadata": {},
   "source": [
    "1. A for Loop is used to iterating over a sequence (that a either list, tuple, a dictionary, a set or string)\n",
    "2. This is less like the for keyword in other programming language and  words more like an iterator method found an other objects\n",
    "3. With the for loop we can execute set of statement once for each item in list, tuple, set etc."
   ]
  },
  {
   "cell_type": "code",
   "execution_count": 4,
   "id": "c52211f1",
   "metadata": {},
   "outputs": [
    {
     "name": "stdout",
     "output_type": "stream",
     "text": [
      "apple\n",
      "mango\n",
      "cherry\n",
      "banana\n",
      "pineapple\n",
      "watermelon\n"
     ]
    }
   ],
   "source": [
    "my_list = ['apple','mango','cherry','banana','pineapple','watermelon']\n",
    "\n",
    "print(my_list[0])\n",
    "print(my_list[1])\n",
    "print(my_list[2])\n",
    "print(my_list[3])\n",
    "print(my_list[4])\n",
    "print(my_list[5])"
   ]
  },
  {
   "cell_type": "raw",
   "id": "dc80bdeb",
   "metadata": {},
   "source": [
    "Other Programming\n",
    "\n",
    "for(intialization; operations; increment/descrement;  ){\n",
    "    \n",
    "}\n",
    "\n",
    "for(i=0, i >= n; i++){\n",
    "    print()\n",
    "}"
   ]
  },
  {
   "cell_type": "code",
   "execution_count": 5,
   "id": "c84b48cf",
   "metadata": {},
   "outputs": [
    {
     "name": "stdout",
     "output_type": "stream",
     "text": [
      "apple\n",
      "mango\n",
      "cherry\n",
      "banana\n",
      "pineapple\n",
      "watermelon\n"
     ]
    }
   ],
   "source": [
    "my_list = ['apple','mango','cherry','banana','pineapple','watermelon']\n",
    "\n",
    "for i in my_list:\n",
    "    print(i)"
   ]
  },
  {
   "cell_type": "raw",
   "id": "9fc332f5",
   "metadata": {},
   "source": [
    "for(i =0; i < 6, i++){\n",
    "    print(i)\n",
    "}\n",
    "\n",
    "Step_1 - i = 0 [ 0 < 6 ] i + 1 = 1\n",
    "\n",
    "Step_2 - i = 1 [ 1 < 6 ] i + 1 = 2\n",
    "\n",
    "Step_3 - i = 2 [ 2 < 6 ] i + 1 = 3\n",
    "\n",
    "Step_4 - i = 3 [ 3 < 6 ] i + 1 = 4\n",
    "\n",
    "Step_5 - i = 4 [ 4 < 6 ] i + 1 = 5\n",
    "\n",
    "Step_6 - i = 5 [ 5 < 6 ] i + 1 = 6\n",
    "\n",
    "Step_7 - i = 6 [ 6 < 6 ] loop end\n",
    "\n"
   ]
  },
  {
   "cell_type": "raw",
   "id": "27066716",
   "metadata": {},
   "source": [
    "1 1 1 1 1\n",
    "2 2 2 2 2\n",
    "3 3 3 3 3\n",
    "4 4 4 4 4\n",
    "5 5 5 5 5"
   ]
  },
  {
   "cell_type": "code",
   "execution_count": 11,
   "id": "c6258d4e",
   "metadata": {},
   "outputs": [
    {
     "name": "stdout",
     "output_type": "stream",
     "text": [
      "1 1 1 1 1 \n",
      "2 2 2 2 2 \n",
      "3 3 3 3 3 \n",
      "4 4 4 4 4 \n",
      "5 5 5 5 5 \n"
     ]
    }
   ],
   "source": [
    "for i in range(1, 6):\n",
    "    for j in range(1,6):\n",
    "        print(i, end=\" \")\n",
    "    print()"
   ]
  },
  {
   "cell_type": "raw",
   "id": "5abc5fa7",
   "metadata": {},
   "source": [
    "i = 1, n = 6\n",
    "\n",
    "for i in range(1,6)\n",
    "\n",
    "Step_1 = i = 1 [1 < 6] i + 1 = 2\n",
    "\n",
    "for j in range(1,6)\n",
    "j =1, n = 6\n",
    "\n",
    "Step_1 = j = 1 [ 1 < 6 ] j + 1 = 2\n",
    "Step_2 = j = 2 [ 2 < 6 ] j + 1 = 3\n",
    "Step_3 = j = 3 [ 3 < 6 ] j + 1 = 4\n",
    "Step_4 = j = 4 [ 4 < 6 ] j + 1 = 5\n",
    "Step_5 = j = 5 [ 5 < 6 ] j + 1 = 6\n",
    "Step_6 = j = 6 [ 6 < 6 ] Condition False\n",
    "\n",
    "\n",
    "Step_2 = i = 2 [2 < 6 ] i + 1 = 3\n",
    "\n",
    "Step_1 = j = 1 [ 1 < 6 ] j + 1 = 2\n",
    "Step_2 = j = 2 [ 2 < 6 ] j + 1 = 3\n",
    "Step_3 = j = 3 [ 3 < 6 ] j + 1 = 4\n",
    "Step_4 = j = 4 [ 4 < 6 ] j + 1 = 5\n",
    "Step_5 = j = 5 [ 5 < 6 ] j + 1 = 6\n",
    "Step_6 = j = 6 [ 6 < 6 ] Condition False\n",
    "\n",
    "\n",
    "Step_3 = i = 3 [3 < 6] i + 1 = 4\n",
    "\n",
    "Step_1 = j = 1 [ 1 < 6 ] j + 1 = 2\n",
    "Step_2 = j = 2 [ 2 < 6 ] j + 1 = 3\n",
    "Step_3 = j = 3 [ 3 < 6 ] j + 1 = 4\n",
    "Step_4 = j = 4 [ 4 < 6 ] j + 1 = 5\n",
    "Step_5 = j = 5 [ 5 < 6 ] j + 1 = 6\n",
    "Step_6 = j = 6 [ 6 < 6 ] Condition False\n",
    "\n",
    "Step_4 = i = 4 [4 < 6 ] i + 1 = 5\n",
    "\n",
    "Step_1 = j = 1 [ 1 < 6 ] j + 1 = 2\n",
    "Step_2 = j = 2 [ 2 < 6 ] j + 1 = 3\n",
    "Step_3 = j = 3 [ 3 < 6 ] j + 1 = 4\n",
    "Step_4 = j = 4 [ 4 < 6 ] j + 1 = 5\n",
    "Step_5 = j = 5 [ 5 < 6 ] j + 1 = 6\n",
    "Step_6 = j = 6 [ 6 < 6 ] Condition False\n",
    "\n",
    "Step_5 = i = 5 [ 5 < 6 ] i + 1 = 6\n",
    "\n",
    "Step_1 = j = 1 [ 1 < 6 ] j + 1 = 2\n",
    "Step_2 = j = 2 [ 2 < 6 ] j + 1 = 3\n",
    "Step_3 = j = 3 [ 3 < 6 ] j + 1 = 4\n",
    "Step_4 = j = 4 [ 4 < 6 ] j + 1 = 5\n",
    "Step_5 = j = 5 [ 5 < 6 ] j + 1 = 6\n",
    "Step_6 = j = 6 [ 6 < 6 ] Condition False\n",
    "\n",
    "\n",
    "Step_6 = i = 6 [6 < 6 ]  false condition \n"
   ]
  },
  {
   "cell_type": "code",
   "execution_count": 15,
   "id": "5aece19d",
   "metadata": {},
   "outputs": [
    {
     "name": "stdout",
     "output_type": "stream",
     "text": [
      "1 2 3 4 5 \n",
      "1 2 3 4 5 \n",
      "1 2 3 4 5 \n",
      "1 2 3 4 5 \n",
      "1 2 3 4 5 \n"
     ]
    }
   ],
   "source": [
    "for i in range(1, 6):\n",
    "    for j in range(1,6):\n",
    "        print(j, end=\" \")\n",
    "    print()"
   ]
  },
  {
   "cell_type": "code",
   "execution_count": null,
   "id": "b1e88e4e",
   "metadata": {},
   "outputs": [],
   "source": []
  }
 ],
 "metadata": {
  "kernelspec": {
   "display_name": "Python 3 (ipykernel)",
   "language": "python",
   "name": "python3"
  },
  "language_info": {
   "codemirror_mode": {
    "name": "ipython",
    "version": 3
   },
   "file_extension": ".py",
   "mimetype": "text/x-python",
   "name": "python",
   "nbconvert_exporter": "python",
   "pygments_lexer": "ipython3",
   "version": "3.11.5"
  }
 },
 "nbformat": 4,
 "nbformat_minor": 5
}
