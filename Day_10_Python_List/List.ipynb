{
 "cells": [
  {
   "cell_type": "markdown",
   "id": "d9427be0",
   "metadata": {},
   "source": [
    "# Python List Sort"
   ]
  },
  {
   "cell_type": "markdown",
   "id": "cd183e70",
   "metadata": {},
   "source": [
    "### There are diffrent ways to sort list:\n",
    "    1. Ascending Order [Alphanumerically]\n",
    "    2. Descending Order\n",
    "    3. Custom Sort"
   ]
  },
  {
   "cell_type": "markdown",
   "id": "c742d242",
   "metadata": {},
   "source": [
    "### 1. Sort List Alphanumerically [ Ascending Order ]:\n",
    "    1. List objects have sort() method that will alphanumerically\n",
    "    2. In list sort() method will sort list in Ascending order"
   ]
  },
  {
   "cell_type": "code",
   "execution_count": 1,
   "id": "8b0c32c7",
   "metadata": {},
   "outputs": [
    {
     "name": "stdout",
     "output_type": "stream",
     "text": [
      "['Avacodo', 'Grapes', 'apple', 'banana', 'cherry', 'mango', 'watermelon']\n"
     ]
    }
   ],
   "source": [
    "my_list = ['mango','banana','watermelon','cherry','Grapes','Avacodo','apple']\n",
    "\n",
    "my_list.sort()\n",
    "print(my_list)"
   ]
  },
  {
   "cell_type": "code",
   "execution_count": 2,
   "id": "8efc3e2a",
   "metadata": {},
   "outputs": [
    {
     "name": "stdout",
     "output_type": "stream",
     "text": [
      "[5, 10, 20, 23, 46, 75, 86, 90]\n"
     ]
    }
   ],
   "source": [
    "my_list = [90,75,10,5,46,86,23,20]\n",
    "\n",
    "my_list.sort()\n",
    "print(my_list)"
   ]
  },
  {
   "cell_type": "code",
   "execution_count": 3,
   "id": "95307567",
   "metadata": {},
   "outputs": [
    {
     "name": "stdout",
     "output_type": "stream",
     "text": [
      "[5, 10, 15.15, 20, 23, 46, 60.23, 75, 86, 90]\n"
     ]
    }
   ],
   "source": [
    "my_list = [90,75,60.23, 10,5,46,86,15.15,23,20]\n",
    "\n",
    "my_list.sort()\n",
    "print(my_list)"
   ]
  },
  {
   "cell_type": "code",
   "execution_count": 4,
   "id": "997b49c9",
   "metadata": {},
   "outputs": [
    {
     "name": "stdout",
     "output_type": "stream",
     "text": [
      "['Apple', 'Avacodo', 'Grapes', 'Orange', 'banana', 'cherry', 'mango', 'watermelon']\n"
     ]
    }
   ],
   "source": [
    "my_list = ['mango','banana','watermelon','cherry','Grapes','Avacodo','Apple','Orange',]\n",
    "\n",
    "my_list.sort()\n",
    "print(my_list)"
   ]
  },
  {
   "cell_type": "markdown",
   "id": "4d474ab0",
   "metadata": {},
   "source": [
    "### 1. Sort List Alphanumerically [ Ascending Order ]:\n",
    "    1. To sort list descending order use the keyword called as reverse =True"
   ]
  },
  {
   "cell_type": "code",
   "execution_count": 5,
   "id": "a8bbca63",
   "metadata": {},
   "outputs": [
    {
     "name": "stdout",
     "output_type": "stream",
     "text": [
      "['watermelon', 'mango', 'cherry', 'banana', 'apple', 'Grapes', 'Avacodo']\n"
     ]
    }
   ],
   "source": [
    "my_list = ['mango','banana','watermelon','cherry','Grapes','Avacodo','apple']\n",
    "\n",
    "my_list.sort(reverse= True)\n",
    "print(my_list)"
   ]
  },
  {
   "cell_type": "code",
   "execution_count": 6,
   "id": "8118d773",
   "metadata": {},
   "outputs": [
    {
     "name": "stdout",
     "output_type": "stream",
     "text": [
      "[90, 86, 75, 46, 23, 20, 10, 5]\n"
     ]
    }
   ],
   "source": [
    "my_list = [90,75,10,5,46,86,23,20]\n",
    "\n",
    "my_list.sort(reverse= True)\n",
    "print(my_list)"
   ]
  },
  {
   "cell_type": "markdown",
   "id": "f8803309",
   "metadata": {},
   "source": [
    "### 3. Custom Sort :\n",
    "    1. You can also cutomize your own function by using the keyword argument key = function\n",
    "    2. The function will return a number that will be used to sort the list (lowest number first)\n",
    "    3. Sort list based on the how close number is to 50"
   ]
  },
  {
   "cell_type": "code",
   "execution_count": 8,
   "id": "1f151dd5",
   "metadata": {},
   "outputs": [
    {
     "name": "stdout",
     "output_type": "stream",
     "text": [
      "Befor Applying Condition [100, 50, 45, 82, 23]\n",
      "[50, 45, 23, 82, 100]\n"
     ]
    }
   ],
   "source": [
    "def myFunction(my_num):\n",
    "    return abs(my_num - 50)\n",
    "\n",
    "\n",
    "my_list = [100, 50,45,82,23]\n",
    "print(\"Befor Applying Condition\",my_list)\n",
    "my_list.sort(key= myFunction)\n",
    "print(my_list)"
   ]
  },
  {
   "cell_type": "code",
   "execution_count": 10,
   "id": "b5db92d1",
   "metadata": {},
   "outputs": [
    {
     "name": "stdout",
     "output_type": "stream",
     "text": [
      "Before sort list [100, 50, 45, 82, 23]\n",
      "After sort list based on 50 number :  [50, 45, 23, 82, 100]\n"
     ]
    }
   ],
   "source": [
    "def myFunct(n):\n",
    "    return abs(n - 50)\n",
    "\n",
    "my_list = [100, 50,45,82,23]\n",
    "print(\"Before sort list\",my_list)\n",
    "my_list.sort(key= myFunct)\n",
    "print(\"After sort list based on 50 number : \",my_list)"
   ]
  },
  {
   "cell_type": "raw",
   "id": "46d6c6fa",
   "metadata": {},
   "source": [
    "100 - 50 = 50\n",
    "50 - 50 = 0\n",
    "45 - 50 = 5\n",
    "82 - 50 = 32\n",
    "23 - 50 = 27\n",
    "\n",
    "[50,45,23,82,100]"
   ]
  },
  {
   "cell_type": "code",
   "execution_count": 12,
   "id": "ee5834cf",
   "metadata": {},
   "outputs": [
    {
     "name": "stdout",
     "output_type": "stream",
     "text": [
      "['Avacodo', 'Grapes', 'apple', 'banana', 'cherry', 'mango', 'watermelon']\n"
     ]
    }
   ],
   "source": [
    "my_list = ['mango','banana','watermelon','cherry','Grapes','Avacodo','apple']\n",
    "\n",
    "my_list.sort()\n",
    "print(my_list)"
   ]
  },
  {
   "cell_type": "code",
   "execution_count": 13,
   "id": "148bd9e9",
   "metadata": {},
   "outputs": [
    {
     "name": "stdout",
     "output_type": "stream",
     "text": [
      "['apple', 'Avacodo', 'banana', 'cherry', 'Grapes', 'mango', 'watermelon']\n"
     ]
    }
   ],
   "source": [
    "my_list = ['mango','banana','watermelon','cherry','Grapes','Avacodo','apple']\n",
    "\n",
    "my_list.sort(key= str.lower)\n",
    "print(my_list)"
   ]
  },
  {
   "cell_type": "markdown",
   "id": "86196bae",
   "metadata": {},
   "source": [
    "### Reverse Order"
   ]
  },
  {
   "cell_type": "code",
   "execution_count": 14,
   "id": "0699d514",
   "metadata": {},
   "outputs": [
    {
     "name": "stdout",
     "output_type": "stream",
     "text": [
      "['apple', 'Avacodo', 'Grapes', 'cherry', 'watermelon', 'banana', 'mango']\n"
     ]
    }
   ],
   "source": [
    "my_list = ['mango','banana','watermelon','cherry','Grapes','Avacodo','apple']\n",
    "\n",
    "my_list.reverse()\n",
    "print(my_list)"
   ]
  },
  {
   "cell_type": "code",
   "execution_count": null,
   "id": "b5e18dbf",
   "metadata": {},
   "outputs": [],
   "source": []
  }
 ],
 "metadata": {
  "kernelspec": {
   "display_name": "Python 3 (ipykernel)",
   "language": "python",
   "name": "python3"
  },
  "language_info": {
   "codemirror_mode": {
    "name": "ipython",
    "version": 3
   },
   "file_extension": ".py",
   "mimetype": "text/x-python",
   "name": "python",
   "nbconvert_exporter": "python",
   "pygments_lexer": "ipython3",
   "version": "3.11.5"
  }
 },
 "nbformat": 4,
 "nbformat_minor": 5
}
