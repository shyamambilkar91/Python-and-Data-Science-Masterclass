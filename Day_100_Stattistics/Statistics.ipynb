{
 "cells": [
  {
   "cell_type": "markdown",
   "id": "1a38267e",
   "metadata": {},
   "source": [
    "## Types of Encoding Techniques"
   ]
  },
  {
   "cell_type": "markdown",
   "id": "d273c1f0",
   "metadata": {},
   "source": [
    "1. The variable only have definite possible values:\n",
    "    1. Ordinal Encoding \n",
    "    2. Nominal Data"
   ]
  },
  {
   "cell_type": "markdown",
   "id": "c16c9c18",
   "metadata": {},
   "source": [
    "### 1. Nominal Encoding Data"
   ]
  },
  {
   "cell_type": "markdown",
   "id": "b735f578",
   "metadata": {},
   "source": [
    "1. Variable comprise a finite set of data descrete value with no relationship between values\n",
    "2. Nominal Encoding uses three different techniques to Encoding Values:\n",
    "    1. One Hot Encoding\n",
    "    2. One Hot Encoding with Many categorical variable\n",
    "    3. Mean Encoding"
   ]
  },
  {
   "cell_type": "markdown",
   "id": "4755abbb",
   "metadata": {},
   "source": [
    "### 2. Ordinal Encoding"
   ]
  },
  {
   "cell_type": "markdown",
   "id": "b448d599",
   "metadata": {},
   "source": [
    "1. Variable comprises a finite set of descrete values with a ranked ordering between values\n",
    "2. Ordinal Encoding uses two different techniques of encoding techniques:\n",
    "    1. Label Encoding\n",
    "    2. Target Guided Ordinal Encoding"
   ]
  },
  {
   "cell_type": "markdown",
   "id": "b64ae71d",
   "metadata": {},
   "source": [
    "### 1. One Hot Encoding"
   ]
  },
  {
   "cell_type": "markdown",
   "id": "16d9d9e5",
   "metadata": {},
   "source": [
    "1. One Hot encoding, for each level of categorical feature, uses to create a new variable\n",
    "2. Each category is mapped with binary variable containing either 0 or 1\n",
    "    1. 0 - Represent absense of that variable\n",
    "    2. 1 - Represent Presence of that category "
   ]
  },
  {
   "cell_type": "markdown",
   "id": "af820d70",
   "metadata": {},
   "source": [
    "3. This newly created binary feature also called as Dummy variable\n",
    "4. Number of Dummy variable depends on the level present in Categorical Variable"
   ]
  },
  {
   "cell_type": "markdown",
   "id": "58a2653c",
   "metadata": {},
   "source": [
    "![](https://miro.medium.com/v2/resize:fit:837/1*d5-PQyRRjvzBZjI5f7X3hA.png)"
   ]
  },
  {
   "cell_type": "markdown",
   "id": "47d2bfd3",
   "metadata": {},
   "source": [
    "5. Some algorithm can work with categorical feaure directly\n",
    "6. For Example, Decision Tree can be learned directly from category data with no data transformation required depends on specific implementation."
   ]
  },
  {
   "cell_type": "markdown",
   "id": "b6af804f",
   "metadata": {},
   "source": [
    "### 3. Ordinal Encoding"
   ]
  },
  {
   "cell_type": "markdown",
   "id": "151cc5fa",
   "metadata": {},
   "source": [
    "1. Ordinal Encoding each unique category values is assigned an input value \n",
    "2. For example, Red is 1, Green is 2, Blue is 3\n",
    "3. This is called as ordinal encoding or integer encoding techniques"
   ]
  },
  {
   "cell_type": "markdown",
   "id": "d7c712d8",
   "metadata": {},
   "source": [
    "#### Application of One Hot Encoding:\n",
    "    1. Machine Learning\n",
    "    2. Digital Circuit Design"
   ]
  },
  {
   "cell_type": "markdown",
   "id": "0db93958",
   "metadata": {},
   "source": [
    "### Advantages and Diadvantages of One Hot Encoding"
   ]
  },
  {
   "cell_type": "markdown",
   "id": "203775c2",
   "metadata": {},
   "source": [
    "### Advantages of One Hot Encoding"
   ]
  },
  {
   "cell_type": "markdown",
   "id": "c779e51a",
   "metadata": {},
   "source": [
    "1. Determining the state of machine has low and constant because All it needs to be do access one flip-flop\n",
    "2. Easy Implementation\n",
    "3. Easy to Desgin and Modify\n",
    "4. One-Hot Implementation is known for being the fastest one, allowing a state machine to run of faster clock rate than any other encoding technique that state machine."
   ]
  },
  {
   "cell_type": "markdown",
   "id": "bd987521",
   "metadata": {},
   "source": [
    "### Disadvantages of One Hot Encoding"
   ]
  },
  {
   "cell_type": "markdown",
   "id": "77976933",
   "metadata": {},
   "source": [
    "1. It cant represent many values (N state, we would need n Digits or Flip-Flop)\n",
    "2. It can be also very expensive"
   ]
  },
  {
   "cell_type": "code",
   "execution_count": null,
   "id": "bef062bc",
   "metadata": {},
   "outputs": [],
   "source": []
  }
 ],
 "metadata": {
  "kernelspec": {
   "display_name": "Python 3 (ipykernel)",
   "language": "python",
   "name": "python3"
  },
  "language_info": {
   "codemirror_mode": {
    "name": "ipython",
    "version": 3
   },
   "file_extension": ".py",
   "mimetype": "text/x-python",
   "name": "python",
   "nbconvert_exporter": "python",
   "pygments_lexer": "ipython3",
   "version": "3.11.5"
  }
 },
 "nbformat": 4,
 "nbformat_minor": 5
}
