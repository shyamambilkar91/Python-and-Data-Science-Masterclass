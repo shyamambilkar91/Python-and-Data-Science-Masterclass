{
 "cells": [
  {
   "cell_type": "markdown",
   "id": "6dcd245d",
   "metadata": {},
   "source": [
    "# Arbitrary Keyword Arguments - **kwargs"
   ]
  },
  {
   "cell_type": "markdown",
   "id": "18444211",
   "metadata": {},
   "source": [
    "1. If you do not know how many arguments that will be passed into your function.\n",
    "2. add two asterisk: ** before the parameter name in the function definition"
   ]
  },
  {
   "cell_type": "code",
   "execution_count": 1,
   "id": "92d46efa",
   "metadata": {},
   "outputs": [
    {
     "name": "stdout",
     "output_type": "stream",
     "text": [
      "Student first name is Shyam\n"
     ]
    }
   ],
   "source": [
    "def my_function(**student):\n",
    "    print(\"Student first name is \"+student['first_name'])\n",
    "    \n",
    "my_function(first_name = \"Shyam\", last_name = \"Ambilkar\")"
   ]
  },
  {
   "cell_type": "code",
   "execution_count": 2,
   "id": "71d89d1e",
   "metadata": {},
   "outputs": [
    {
     "ename": "KeyError",
     "evalue": "'first_name'",
     "output_type": "error",
     "traceback": [
      "\u001b[1;31m---------------------------------------------------------------------------\u001b[0m",
      "\u001b[1;31mKeyError\u001b[0m                                  Traceback (most recent call last)",
      "Cell \u001b[1;32mIn[2], line 4\u001b[0m\n\u001b[0;32m      1\u001b[0m \u001b[38;5;28;01mdef\u001b[39;00m \u001b[38;5;21mmy_function\u001b[39m(\u001b[38;5;241m*\u001b[39m\u001b[38;5;241m*\u001b[39mstudent):\n\u001b[0;32m      2\u001b[0m     \u001b[38;5;28mprint\u001b[39m(\u001b[38;5;124m\"\u001b[39m\u001b[38;5;124mStudent first name is \u001b[39m\u001b[38;5;124m\"\u001b[39m\u001b[38;5;241m+\u001b[39mstudent[\u001b[38;5;124m'\u001b[39m\u001b[38;5;124mfirst_name\u001b[39m\u001b[38;5;124m'\u001b[39m])\n\u001b[1;32m----> 4\u001b[0m my_function(last_name \u001b[38;5;241m=\u001b[39m \u001b[38;5;124m\"\u001b[39m\u001b[38;5;124mAmbilkar\u001b[39m\u001b[38;5;124m\"\u001b[39m)\n",
      "Cell \u001b[1;32mIn[2], line 2\u001b[0m, in \u001b[0;36mmy_function\u001b[1;34m(**student)\u001b[0m\n\u001b[0;32m      1\u001b[0m \u001b[38;5;28;01mdef\u001b[39;00m \u001b[38;5;21mmy_function\u001b[39m(\u001b[38;5;241m*\u001b[39m\u001b[38;5;241m*\u001b[39mstudent):\n\u001b[1;32m----> 2\u001b[0m     \u001b[38;5;28mprint\u001b[39m(\u001b[38;5;124m\"\u001b[39m\u001b[38;5;124mStudent first name is \u001b[39m\u001b[38;5;124m\"\u001b[39m\u001b[38;5;241m+\u001b[39mstudent[\u001b[38;5;124m'\u001b[39m\u001b[38;5;124mfirst_name\u001b[39m\u001b[38;5;124m'\u001b[39m])\n",
      "\u001b[1;31mKeyError\u001b[0m: 'first_name'"
     ]
    }
   ],
   "source": [
    "def my_function(**student):\n",
    "    print(\"Student first name is \"+student['first_name'])\n",
    "    \n",
    "my_function(first_name = \"Shyam\",last_name = \"Ambilkar\")"
   ]
  },
  {
   "cell_type": "code",
   "execution_count": 3,
   "id": "60ade216",
   "metadata": {},
   "outputs": [
    {
     "name": "stdout",
     "output_type": "stream",
     "text": [
      "Student first name is Shyam\n",
      "Student first name is Rahul\n"
     ]
    }
   ],
   "source": [
    "def my_function(**student):\n",
    "    print(\"Student first name is \"+student['first_name'])\n",
    "    \n",
    "my_function(first_name = \"Shyam\",last_name = \"Ambilkar\")\n",
    "my_function(first_name = \"Rahul\", last_name = \"Sharma\")"
   ]
  },
  {
   "cell_type": "code",
   "execution_count": 4,
   "id": "165e8740",
   "metadata": {},
   "outputs": [
    {
     "ename": "TypeError",
     "evalue": "my_function() got an unexpected keyword argument 'first_name'",
     "output_type": "error",
     "traceback": [
      "\u001b[1;31m---------------------------------------------------------------------------\u001b[0m",
      "\u001b[1;31mTypeError\u001b[0m                                 Traceback (most recent call last)",
      "Cell \u001b[1;32mIn[4], line 4\u001b[0m\n\u001b[0;32m      1\u001b[0m \u001b[38;5;28;01mdef\u001b[39;00m \u001b[38;5;21mmy_function\u001b[39m(\u001b[38;5;241m*\u001b[39mstudent):\n\u001b[0;32m      2\u001b[0m     \u001b[38;5;28mprint\u001b[39m(\u001b[38;5;124m\"\u001b[39m\u001b[38;5;124mStudent first name is \u001b[39m\u001b[38;5;124m\"\u001b[39m\u001b[38;5;241m+\u001b[39mstudent[\u001b[38;5;124m'\u001b[39m\u001b[38;5;124mfirst_name\u001b[39m\u001b[38;5;124m'\u001b[39m])\n\u001b[1;32m----> 4\u001b[0m my_function(first_name \u001b[38;5;241m=\u001b[39m \u001b[38;5;124m\"\u001b[39m\u001b[38;5;124mShyam\u001b[39m\u001b[38;5;124m\"\u001b[39m,last_name \u001b[38;5;241m=\u001b[39m \u001b[38;5;124m\"\u001b[39m\u001b[38;5;124mAmbilkar\u001b[39m\u001b[38;5;124m\"\u001b[39m)\n\u001b[0;32m      5\u001b[0m my_function(first_name \u001b[38;5;241m=\u001b[39m \u001b[38;5;124m\"\u001b[39m\u001b[38;5;124mRahul\u001b[39m\u001b[38;5;124m\"\u001b[39m, last_name \u001b[38;5;241m=\u001b[39m \u001b[38;5;124m\"\u001b[39m\u001b[38;5;124mSharma\u001b[39m\u001b[38;5;124m\"\u001b[39m)\n",
      "\u001b[1;31mTypeError\u001b[0m: my_function() got an unexpected keyword argument 'first_name'"
     ]
    }
   ],
   "source": [
    "def my_function(*student):\n",
    "    print(\"Student first name is \"+student['first_name'])\n",
    "    \n",
    "my_function(first_name = \"Shyam\",last_name = \"Ambilkar\")\n",
    "my_function(first_name = \"Rahul\", last_name = \"Sharma\")"
   ]
  },
  {
   "cell_type": "code",
   "execution_count": 5,
   "id": "7ad30a5a",
   "metadata": {},
   "outputs": [
    {
     "name": "stdout",
     "output_type": "stream",
     "text": [
      "Student first name is Shyam\n",
      "Student first name is Rahul\n"
     ]
    }
   ],
   "source": [
    "def my_function(**student):\n",
    "    print(\"Student first name is \"+student['first_name'])\n",
    "    \n",
    "my_function(first_name = \"Shyam\",last_name = \"Ambilkar\")\n",
    "my_function(first_name = \"Rahul\", last_name = \"Sharma\")"
   ]
  },
  {
   "cell_type": "markdown",
   "id": "d2c80afb",
   "metadata": {},
   "source": [
    "# Default Parameter Value"
   ]
  },
  {
   "cell_type": "code",
   "execution_count": 6,
   "id": "800b66d7",
   "metadata": {},
   "outputs": [
    {
     "name": "stdout",
     "output_type": "stream",
     "text": [
      "I am from : Maharashtra\n"
     ]
    }
   ],
   "source": [
    "def my_function(country = \"India\"):\n",
    "    print(\"I am from :\", country)\n",
    "    \n",
    "my_function('Maharashtra')"
   ]
  },
  {
   "cell_type": "code",
   "execution_count": 7,
   "id": "2087660a",
   "metadata": {},
   "outputs": [
    {
     "name": "stdout",
     "output_type": "stream",
     "text": [
      "I am from : Maharashtra\n",
      "I am from : India\n"
     ]
    }
   ],
   "source": [
    "def my_function(country = \"India\"):\n",
    "    print(\"I am from :\", country)\n",
    "    \n",
    "my_function('Maharashtra')\n",
    "my_function()"
   ]
  },
  {
   "cell_type": "markdown",
   "id": "4a471b78",
   "metadata": {},
   "source": [
    "# Passing List as an Arguments"
   ]
  },
  {
   "cell_type": "markdown",
   "id": "ff9fb802",
   "metadata": {},
   "source": [
    "1. You can send any types of arguments to a function (string, number, list,dictionary, etc.) \n",
    "2. and it will treated as the same data type inside the function\n",
    "3. If you send list as an arguments, it will still be list when it is reaches the function"
   ]
  },
  {
   "cell_type": "code",
   "execution_count": 8,
   "id": "db054dac",
   "metadata": {},
   "outputs": [
    {
     "name": "stdout",
     "output_type": "stream",
     "text": [
      "apple\n",
      "mango\n",
      "cherry\n",
      "watermelon\n"
     ]
    }
   ],
   "source": [
    "def my_function(fruits):\n",
    "    for i in fruits:\n",
    "        print(i)\n",
    "        \n",
    "my_fruits = ['apple','mango','cherry','watermelon']\n",
    "\n",
    "my_function(my_fruits)"
   ]
  },
  {
   "cell_type": "code",
   "execution_count": 9,
   "id": "42a36d11",
   "metadata": {},
   "outputs": [
    {
     "ename": "TypeError",
     "evalue": "my_function() missing 1 required positional argument: 'first_name'",
     "output_type": "error",
     "traceback": [
      "\u001b[1;31m---------------------------------------------------------------------------\u001b[0m",
      "\u001b[1;31mTypeError\u001b[0m                                 Traceback (most recent call last)",
      "Cell \u001b[1;32mIn[9], line 7\u001b[0m\n\u001b[0;32m      3\u001b[0m         \u001b[38;5;28mprint\u001b[39m(i)\n\u001b[0;32m      5\u001b[0m stud_list \u001b[38;5;241m=\u001b[39m [\u001b[38;5;124m'\u001b[39m\u001b[38;5;124mshyam\u001b[39m\u001b[38;5;124m'\u001b[39m,\u001b[38;5;124m'\u001b[39m\u001b[38;5;124mambika\u001b[39m\u001b[38;5;124m'\u001b[39m,\u001b[38;5;124m'\u001b[39m\u001b[38;5;124mtushar\u001b[39m\u001b[38;5;124m'\u001b[39m,\u001b[38;5;124m'\u001b[39m\u001b[38;5;124makash\u001b[39m\u001b[38;5;124m'\u001b[39m,\u001b[38;5;124m'\u001b[39m\u001b[38;5;124mpranali\u001b[39m\u001b[38;5;124m'\u001b[39m,\u001b[38;5;124m'\u001b[39m\u001b[38;5;124mvishal\u001b[39m\u001b[38;5;124m'\u001b[39m]\n\u001b[1;32m----> 7\u001b[0m my_function()\n",
      "\u001b[1;31mTypeError\u001b[0m: my_function() missing 1 required positional argument: 'first_name'"
     ]
    }
   ],
   "source": [
    "def my_function(first_name):\n",
    "    for i in first_name:\n",
    "        print(i)\n",
    "        \n",
    "stud_list = ['shyam','ambika','tushar','akash','pranali','vishal']\n",
    "\n",
    "my_function()"
   ]
  },
  {
   "cell_type": "code",
   "execution_count": 10,
   "id": "15c85717",
   "metadata": {},
   "outputs": [
    {
     "name": "stdout",
     "output_type": "stream",
     "text": [
      "shyam\n",
      "ambika\n",
      "tushar\n",
      "akash\n",
      "pranali\n",
      "vishal\n"
     ]
    }
   ],
   "source": [
    "def my_function(first_name):\n",
    "    for i in first_name:\n",
    "        print(i)\n",
    "        \n",
    "stud_list = ['shyam','ambika','tushar','akash','pranali','vishal']\n",
    "\n",
    "my_function(stud_list)"
   ]
  },
  {
   "cell_type": "markdown",
   "id": "71329927",
   "metadata": {},
   "source": [
    "# Return Values"
   ]
  },
  {
   "cell_type": "code",
   "execution_count": 11,
   "id": "c7c41f17",
   "metadata": {},
   "outputs": [
    {
     "data": {
      "text/plain": [
       "100"
      ]
     },
     "execution_count": 11,
     "metadata": {},
     "output_type": "execute_result"
    }
   ],
   "source": [
    "def my_function(x):\n",
    "    return 10 * x\n",
    "\n",
    "my_function(10)"
   ]
  },
  {
   "cell_type": "code",
   "execution_count": 12,
   "id": "d870e94b",
   "metadata": {},
   "outputs": [
    {
     "data": {
      "text/plain": [
       "20"
      ]
     },
     "execution_count": 12,
     "metadata": {},
     "output_type": "execute_result"
    }
   ],
   "source": [
    "def my_function(x):\n",
    "    return 10 + x\n",
    "\n",
    "my_function(10)"
   ]
  },
  {
   "cell_type": "code",
   "execution_count": 13,
   "id": "7ca2459c",
   "metadata": {},
   "outputs": [
    {
     "data": {
      "text/plain": [
       "30"
      ]
     },
     "execution_count": 13,
     "metadata": {},
     "output_type": "execute_result"
    }
   ],
   "source": [
    "def addNumbers(x,y):\n",
    "    return x + y\n",
    "\n",
    "addNumbers(10,20)"
   ]
  },
  {
   "cell_type": "code",
   "execution_count": 14,
   "id": "33b00bcc",
   "metadata": {},
   "outputs": [],
   "source": [
    "def my_function():\n",
    "    pass"
   ]
  },
  {
   "cell_type": "markdown",
   "id": "f9550ee0",
   "metadata": {},
   "source": [
    "### Write a Program to devloped Calculator"
   ]
  },
  {
   "cell_type": "code",
   "execution_count": 19,
   "id": "170c05dc",
   "metadata": {},
   "outputs": [
    {
     "name": "stdout",
     "output_type": "stream",
     "text": [
      "Select Operation.\n",
      "1. Add\n",
      "2. Subtract\n",
      "3. Multiply\n",
      "4. Divide\n",
      "Enter a Choice(1/2/3/4): 2\n",
      "Enter First Number: 100\n",
      "Enter Second Number: 100\n",
      "100.0  -  100.0  =  0.0\n",
      "Lets do the next calculation? (Yes/No): Yes\n",
      "Enter a Choice(1/2/3/4): 4\n",
      "Enter First Number: 40\n",
      "Enter Second Number: 40\n",
      "40.0  /  40.0  =  1.0\n",
      "Lets do the next calculation? (Yes/No): no\n",
      "Enter a Choice(1/2/3/4): 4\n",
      "Enter First Number: 50\n",
      "Enter Second Number: 50\n",
      "50.0  /  50.0  =  1.0\n",
      "Lets do the next calculation? (Yes/No): No\n"
     ]
    }
   ],
   "source": [
    "def add(x ,y):\n",
    "    return x + y\n",
    "\n",
    "def subtract(x ,y):\n",
    "    return x - y\n",
    "\n",
    "def multiply(x, y):\n",
    "    return x * y\n",
    "\n",
    "def divide(x, y):\n",
    "    return x / y\n",
    "\n",
    "print(\"Select Operation.\")\n",
    "print(\"1. Add\")\n",
    "print(\"2. Subtract\")\n",
    "print(\"3. Multiply\")\n",
    "print(\"4. Divide\")\n",
    "\n",
    "while True:\n",
    "    # Take input from the user\n",
    "    choice = input(\"Enter a Choice(1/2/3/4): \")\n",
    "    \n",
    "    # Check if choice is one of the four options\n",
    "    if choice in ('1','2','3','4'):\n",
    "        try:\n",
    "            my_num_1 = float(input(\"Enter First Number: \"))\n",
    "            my_num_2 = float(input(\"Enter Second Number: \"))\n",
    "        except ValueError:\n",
    "            print(\"Invalid input, Please enter a valid Number\")\n",
    "            continue\n",
    "            \n",
    "    if choice == '1':\n",
    "        print(my_num_1, \" + \", my_num_2, \" = \", add(my_num_1, my_num_2))\n",
    "        \n",
    "    elif choice == '2':\n",
    "        print(my_num_1, \" - \", my_num_2, \" = \", subtract(my_num_1, my_num_2))\n",
    "        \n",
    "    elif choice == '3':\n",
    "        print(my_num_1, \" * \", my_num_2, \" = \", multiply(my_num_1, my_num_2))\n",
    "    \n",
    "    elif choice == '4':\n",
    "        print(my_num_1, \" / \", my_num_2, \" = \", divide(my_num_1, my_num_2))\n",
    "        \n",
    "    next_calculation = input(\"Lets do the next calculation? (Yes/No): \")\n",
    "    if next_calculation == \"No\":\n",
    "        break\n",
    "else:\n",
    "    print(\"Invalid Input\")"
   ]
  },
  {
   "cell_type": "code",
   "execution_count": null,
   "id": "fa064620",
   "metadata": {},
   "outputs": [],
   "source": []
  }
 ],
 "metadata": {
  "kernelspec": {
   "display_name": "Python 3 (ipykernel)",
   "language": "python",
   "name": "python3"
  },
  "language_info": {
   "codemirror_mode": {
    "name": "ipython",
    "version": 3
   },
   "file_extension": ".py",
   "mimetype": "text/x-python",
   "name": "python",
   "nbconvert_exporter": "python",
   "pygments_lexer": "ipython3",
   "version": "3.11.5"
  }
 },
 "nbformat": 4,
 "nbformat_minor": 5
}
