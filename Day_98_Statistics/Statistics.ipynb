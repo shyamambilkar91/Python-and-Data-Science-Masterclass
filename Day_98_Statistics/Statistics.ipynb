{
 "cells": [
  {
   "cell_type": "markdown",
   "id": "59f8c58f",
   "metadata": {},
   "source": [
    "# Why Do we need to Perform Feature Scalling ?"
   ]
  },
  {
   "cell_type": "markdown",
   "id": "aecb3192",
   "metadata": {},
   "source": [
    "## What is Feature Scalling ? "
   ]
  },
  {
   "cell_type": "markdown",
   "id": "28780850",
   "metadata": {},
   "source": [
    "1. Feature scalling is a technique to standardize independent variable present in the data in fixed range.\n",
    "2. It is performed during data-preprocessing to handle higly varing mangnitudes or values or units\n",
    "3. If feature scalling is not done, the machine learning trends to weight greater values, higher and consider smaller values as the lower values, regardless of the unit of the values."
   ]
  },
  {
   "cell_type": "markdown",
   "id": "de75a55a",
   "metadata": {},
   "source": [
    "## Why Scalling ?"
   ]
  },
  {
   "cell_type": "markdown",
   "id": "b15a4b80",
   "metadata": {},
   "source": [
    "1. Most of the times, your dataset will contain features highly variying in magnitudes, units and range.\n",
    "2. But Since, Machine learning algorithm use Ecludian Distance between two data points (variable) in there computation this is a problem"
   ]
  },
  {
   "cell_type": "markdown",
   "id": "014291b5",
   "metadata": {},
   "source": [
    "### Example:"
   ]
  },
  {
   "cell_type": "markdown",
   "id": "08db6fb6",
   "metadata": {},
   "source": [
    "### Let's consider an example of House Price Prediction"
   ]
  },
  {
   "cell_type": "markdown",
   "id": "102859eb",
   "metadata": {},
   "source": [
    "1. It willl have many features like No.Of Bedroom, No Square Feet Area, BHK etc.\n",
    "2. As you can guess the no. of Bedrooms will variying between 1 to 5, but No of Square feet area will range 500 to 2000\n",
    "2. Huge difference between in the range of both feature"
   ]
  },
  {
   "cell_type": "markdown",
   "id": "5c916528",
   "metadata": {},
   "source": [
    "### 1. There are several ways to handle feature scalling. There are 5 most common feature scalling techniques"
   ]
  },
  {
   "cell_type": "markdown",
   "id": "fccbf5df",
   "metadata": {},
   "source": [
    "1. Absoulte Maximum Scalling\n",
    "2. Min Max Scalling\n",
    "3. Normalization\n",
    "4. Standardization\n",
    "5. Robust Scalling"
   ]
  },
  {
   "cell_type": "markdown",
   "id": "060aa0dd",
   "metadata": {},
   "source": [
    "### 1. Absolute Maximum Scalling"
   ]
  },
  {
   "cell_type": "markdown",
   "id": "6b4e58f6",
   "metadata": {},
   "source": [
    "1. Find the Absolute value of the feature in datasets\n",
    "2. Devide all the values in the by that maximum values\n",
    "3. If we do this all for the numerical variables[column], then all values between -1 to 1"
   ]
  },
  {
   "cell_type": "markdown",
   "id": "4ca66f2f",
   "metadata": {},
   "source": [
    "#### This Method of scalling required two steps"
   ]
  },
  {
   "cell_type": "markdown",
   "id": "6ab1cb80",
   "metadata": {},
   "source": [
    "1. We should first select the maximum absolute value out of all the entries of perticular measure\n",
    "2. Then after this, We devide each entry of the column by this maximum value"
   ]
  },
  {
   "cell_type": "markdown",
   "id": "f16acd3e",
   "metadata": {},
   "source": [
    "**Forumula - X_scaled = X_[i] - max(|X|) / max(|X|)**"
   ]
  },
  {
   "cell_type": "code",
   "execution_count": 1,
   "id": "e8e69dfb",
   "metadata": {},
   "outputs": [],
   "source": [
    "data = {\n",
    "    'LotArea':[8450,9600,11250,9550,14623],\n",
    "    'SubClass':[60,20,60,70,60]\n",
    "}"
   ]
  },
  {
   "cell_type": "code",
   "execution_count": 2,
   "id": "0061b5af",
   "metadata": {},
   "outputs": [],
   "source": [
    "import pandas as pd"
   ]
  },
  {
   "cell_type": "code",
   "execution_count": 3,
   "id": "8cd4aaea",
   "metadata": {},
   "outputs": [],
   "source": [
    "df = pd.DataFrame(data)"
   ]
  },
  {
   "cell_type": "code",
   "execution_count": 4,
   "id": "49c9283c",
   "metadata": {},
   "outputs": [
    {
     "data": {
      "text/html": [
       "<div>\n",
       "<style scoped>\n",
       "    .dataframe tbody tr th:only-of-type {\n",
       "        vertical-align: middle;\n",
       "    }\n",
       "\n",
       "    .dataframe tbody tr th {\n",
       "        vertical-align: top;\n",
       "    }\n",
       "\n",
       "    .dataframe thead th {\n",
       "        text-align: right;\n",
       "    }\n",
       "</style>\n",
       "<table border=\"1\" class=\"dataframe\">\n",
       "  <thead>\n",
       "    <tr style=\"text-align: right;\">\n",
       "      <th></th>\n",
       "      <th>LotArea</th>\n",
       "      <th>SubClass</th>\n",
       "    </tr>\n",
       "  </thead>\n",
       "  <tbody>\n",
       "    <tr>\n",
       "      <th>0</th>\n",
       "      <td>8450</td>\n",
       "      <td>60</td>\n",
       "    </tr>\n",
       "    <tr>\n",
       "      <th>1</th>\n",
       "      <td>9600</td>\n",
       "      <td>20</td>\n",
       "    </tr>\n",
       "    <tr>\n",
       "      <th>2</th>\n",
       "      <td>11250</td>\n",
       "      <td>60</td>\n",
       "    </tr>\n",
       "    <tr>\n",
       "      <th>3</th>\n",
       "      <td>9550</td>\n",
       "      <td>70</td>\n",
       "    </tr>\n",
       "    <tr>\n",
       "      <th>4</th>\n",
       "      <td>14623</td>\n",
       "      <td>60</td>\n",
       "    </tr>\n",
       "  </tbody>\n",
       "</table>\n",
       "</div>"
      ],
      "text/plain": [
       "   LotArea  SubClass\n",
       "0     8450        60\n",
       "1     9600        20\n",
       "2    11250        60\n",
       "3     9550        70\n",
       "4    14623        60"
      ]
     },
     "execution_count": 4,
     "metadata": {},
     "output_type": "execute_result"
    }
   ],
   "source": [
    "df"
   ]
  },
  {
   "cell_type": "code",
   "execution_count": 5,
   "id": "67c6ec19",
   "metadata": {},
   "outputs": [],
   "source": [
    "df = df.to_csv('absoulute_scalling.csv')"
   ]
  },
  {
   "cell_type": "code",
   "execution_count": 6,
   "id": "8277474d",
   "metadata": {},
   "outputs": [],
   "source": [
    "df = pd.read_csv('absoulute_scalling.csv')"
   ]
  },
  {
   "cell_type": "code",
   "execution_count": 7,
   "id": "7d3ace52",
   "metadata": {},
   "outputs": [
    {
     "data": {
      "text/html": [
       "<div>\n",
       "<style scoped>\n",
       "    .dataframe tbody tr th:only-of-type {\n",
       "        vertical-align: middle;\n",
       "    }\n",
       "\n",
       "    .dataframe tbody tr th {\n",
       "        vertical-align: top;\n",
       "    }\n",
       "\n",
       "    .dataframe thead th {\n",
       "        text-align: right;\n",
       "    }\n",
       "</style>\n",
       "<table border=\"1\" class=\"dataframe\">\n",
       "  <thead>\n",
       "    <tr style=\"text-align: right;\">\n",
       "      <th></th>\n",
       "      <th>Unnamed: 0</th>\n",
       "      <th>LotArea</th>\n",
       "      <th>SubClass</th>\n",
       "    </tr>\n",
       "  </thead>\n",
       "  <tbody>\n",
       "    <tr>\n",
       "      <th>0</th>\n",
       "      <td>0</td>\n",
       "      <td>8450</td>\n",
       "      <td>60</td>\n",
       "    </tr>\n",
       "    <tr>\n",
       "      <th>1</th>\n",
       "      <td>1</td>\n",
       "      <td>9600</td>\n",
       "      <td>20</td>\n",
       "    </tr>\n",
       "    <tr>\n",
       "      <th>2</th>\n",
       "      <td>2</td>\n",
       "      <td>11250</td>\n",
       "      <td>60</td>\n",
       "    </tr>\n",
       "    <tr>\n",
       "      <th>3</th>\n",
       "      <td>3</td>\n",
       "      <td>9550</td>\n",
       "      <td>70</td>\n",
       "    </tr>\n",
       "    <tr>\n",
       "      <th>4</th>\n",
       "      <td>4</td>\n",
       "      <td>14623</td>\n",
       "      <td>60</td>\n",
       "    </tr>\n",
       "  </tbody>\n",
       "</table>\n",
       "</div>"
      ],
      "text/plain": [
       "   Unnamed: 0  LotArea  SubClass\n",
       "0           0     8450        60\n",
       "1           1     9600        20\n",
       "2           2    11250        60\n",
       "3           3     9550        70\n",
       "4           4    14623        60"
      ]
     },
     "execution_count": 7,
     "metadata": {},
     "output_type": "execute_result"
    }
   ],
   "source": [
    "df.head()"
   ]
  },
  {
   "cell_type": "code",
   "execution_count": 8,
   "id": "fd6b4795",
   "metadata": {},
   "outputs": [],
   "source": [
    "df = df.drop('Unnamed: 0', axis=1)"
   ]
  },
  {
   "cell_type": "code",
   "execution_count": 9,
   "id": "dce700c4",
   "metadata": {},
   "outputs": [
    {
     "data": {
      "text/html": [
       "<div>\n",
       "<style scoped>\n",
       "    .dataframe tbody tr th:only-of-type {\n",
       "        vertical-align: middle;\n",
       "    }\n",
       "\n",
       "    .dataframe tbody tr th {\n",
       "        vertical-align: top;\n",
       "    }\n",
       "\n",
       "    .dataframe thead th {\n",
       "        text-align: right;\n",
       "    }\n",
       "</style>\n",
       "<table border=\"1\" class=\"dataframe\">\n",
       "  <thead>\n",
       "    <tr style=\"text-align: right;\">\n",
       "      <th></th>\n",
       "      <th>LotArea</th>\n",
       "      <th>SubClass</th>\n",
       "    </tr>\n",
       "  </thead>\n",
       "  <tbody>\n",
       "    <tr>\n",
       "      <th>0</th>\n",
       "      <td>8450</td>\n",
       "      <td>60</td>\n",
       "    </tr>\n",
       "    <tr>\n",
       "      <th>1</th>\n",
       "      <td>9600</td>\n",
       "      <td>20</td>\n",
       "    </tr>\n",
       "    <tr>\n",
       "      <th>2</th>\n",
       "      <td>11250</td>\n",
       "      <td>60</td>\n",
       "    </tr>\n",
       "    <tr>\n",
       "      <th>3</th>\n",
       "      <td>9550</td>\n",
       "      <td>70</td>\n",
       "    </tr>\n",
       "    <tr>\n",
       "      <th>4</th>\n",
       "      <td>14623</td>\n",
       "      <td>60</td>\n",
       "    </tr>\n",
       "  </tbody>\n",
       "</table>\n",
       "</div>"
      ],
      "text/plain": [
       "   LotArea  SubClass\n",
       "0     8450        60\n",
       "1     9600        20\n",
       "2    11250        60\n",
       "3     9550        70\n",
       "4    14623        60"
      ]
     },
     "execution_count": 9,
     "metadata": {},
     "output_type": "execute_result"
    }
   ],
   "source": [
    "df.head()"
   ]
  },
  {
   "cell_type": "code",
   "execution_count": 10,
   "id": "25dc7c0c",
   "metadata": {},
   "outputs": [],
   "source": [
    "import numpy as np"
   ]
  },
  {
   "cell_type": "code",
   "execution_count": 11,
   "id": "fdda6465",
   "metadata": {},
   "outputs": [],
   "source": [
    "max_values = np.max(np.abs(df))"
   ]
  },
  {
   "cell_type": "code",
   "execution_count": 12,
   "id": "51f1c182",
   "metadata": {},
   "outputs": [
    {
     "data": {
      "text/plain": [
       "14623"
      ]
     },
     "execution_count": 12,
     "metadata": {},
     "output_type": "execute_result"
    }
   ],
   "source": [
    "max_values"
   ]
  },
  {
   "cell_type": "code",
   "execution_count": 13,
   "id": "5bf21da2",
   "metadata": {},
   "outputs": [
    {
     "name": "stdout",
     "output_type": "stream",
     "text": [
      "    LotArea  SubClass\n",
      "0 -0.422143 -0.995897\n",
      "1 -0.343500 -0.998632\n",
      "2 -0.230664 -0.995897\n",
      "3 -0.346919 -0.995213\n",
      "4  0.000000 -0.995897\n"
     ]
    }
   ],
   "source": [
    "print((df - max_values) / max_values)"
   ]
  },
  {
   "cell_type": "markdown",
   "id": "d3a631b3",
   "metadata": {},
   "source": [
    "## Disadvantages of Absolute Feature Scalling"
   ]
  },
  {
   "cell_type": "markdown",
   "id": "837edd04",
   "metadata": {},
   "source": [
    "1. Techniques is to sensitive to outliers, Like consider the feature of House Price Prediction [square_feet]\n",
    "2. If 99% of the house square_feet area of less than 1000, and even if just one House has a square_feet_area of 20000, then all those values will be scalled down to less than 0.5"
   ]
  },
  {
   "cell_type": "markdown",
   "id": "3f1570af",
   "metadata": {},
   "source": [
    "1. using [sin()] and [cos()] function will be used and will see range how feature scalling technique affect there is mangnitude sin() will be ranging between -1 to 1 and 50 *cos() will be ranging between -50 to 50"
   ]
  },
  {
   "cell_type": "code",
   "execution_count": 14,
   "id": "59ac4a63",
   "metadata": {},
   "outputs": [],
   "source": [
    "x = np.arange(0,20,0.4)"
   ]
  },
  {
   "cell_type": "code",
   "execution_count": 15,
   "id": "e9c30107",
   "metadata": {},
   "outputs": [
    {
     "data": {
      "text/plain": [
       "array([ 0. ,  0.4,  0.8,  1.2,  1.6,  2. ,  2.4,  2.8,  3.2,  3.6,  4. ,\n",
       "        4.4,  4.8,  5.2,  5.6,  6. ,  6.4,  6.8,  7.2,  7.6,  8. ,  8.4,\n",
       "        8.8,  9.2,  9.6, 10. , 10.4, 10.8, 11.2, 11.6, 12. , 12.4, 12.8,\n",
       "       13.2, 13.6, 14. , 14.4, 14.8, 15.2, 15.6, 16. , 16.4, 16.8, 17.2,\n",
       "       17.6, 18. , 18.4, 18.8, 19.2, 19.6])"
      ]
     },
     "execution_count": 15,
     "metadata": {},
     "output_type": "execute_result"
    }
   ],
   "source": [
    "x"
   ]
  },
  {
   "cell_type": "code",
   "execution_count": 16,
   "id": "46fd2d4d",
   "metadata": {},
   "outputs": [],
   "source": [
    "y1 = np.sin(x)"
   ]
  },
  {
   "cell_type": "code",
   "execution_count": 17,
   "id": "d5dc2368",
   "metadata": {},
   "outputs": [
    {
     "data": {
      "text/plain": [
       "array([ 0.        ,  0.38941834,  0.71735609,  0.93203909,  0.9995736 ,\n",
       "        0.90929743,  0.67546318,  0.33498815, -0.05837414, -0.44252044,\n",
       "       -0.7568025 , -0.95160207, -0.99616461, -0.88345466, -0.63126664,\n",
       "       -0.2794155 ,  0.1165492 ,  0.49411335,  0.79366786,  0.96791967,\n",
       "        0.98935825,  0.85459891,  0.58491719,  0.22288991, -0.17432678,\n",
       "       -0.54402111, -0.82782647, -0.98093623, -0.97917773, -0.82282859,\n",
       "       -0.53657292, -0.16560418,  0.23150983,  0.59207351,  0.85916181,\n",
       "        0.99060736,  0.96565778,  0.78825207,  0.48639869,  0.10775365,\n",
       "       -0.28790332, -0.63810668, -0.88756703, -0.99690007, -0.9488445 ,\n",
       "       -0.75098725, -0.43456562, -0.04953564,  0.34331493,  0.68196362])"
      ]
     },
     "execution_count": 17,
     "metadata": {},
     "output_type": "execute_result"
    }
   ],
   "source": [
    "y1"
   ]
  },
  {
   "cell_type": "code",
   "execution_count": 18,
   "id": "65709790",
   "metadata": {},
   "outputs": [],
   "source": [
    "y2 = np.cos(x)"
   ]
  },
  {
   "cell_type": "code",
   "execution_count": 19,
   "id": "c0b1c1f2",
   "metadata": {},
   "outputs": [
    {
     "data": {
      "text/plain": [
       "array([ 1.        ,  0.92106099,  0.69670671,  0.36235775, -0.02919952,\n",
       "       -0.41614684, -0.73739372, -0.94222234, -0.99829478, -0.89675842,\n",
       "       -0.65364362, -0.30733287,  0.08749898,  0.46851667,  0.77556588,\n",
       "        0.96017029,  0.99318492,  0.86939749,  0.60835131,  0.25125984,\n",
       "       -0.14550003, -0.51928865, -0.81109301, -0.97484362, -0.98468786,\n",
       "       -0.83907153, -0.56098426, -0.19432991,  0.20300486,  0.56828963,\n",
       "        0.84385396,  0.9861923 ,  0.97283257,  0.80588396,  0.51170399,\n",
       "        0.13673722, -0.25981736, -0.61535248, -0.87373698, -0.99417763,\n",
       "       -0.95765948, -0.76994796, -0.46067859, -0.07867819,  0.31574375,\n",
       "        0.66031671,  0.90064017,  0.99877236,  0.93922035,  0.7313861 ])"
      ]
     },
     "execution_count": 19,
     "metadata": {},
     "output_type": "execute_result"
    }
   ],
   "source": [
    "y2"
   ]
  },
  {
   "cell_type": "code",
   "execution_count": 20,
   "id": "a072fec1",
   "metadata": {},
   "outputs": [],
   "source": [
    "y2 = np.cos(x) * 50"
   ]
  },
  {
   "cell_type": "code",
   "execution_count": 21,
   "id": "7df76004",
   "metadata": {},
   "outputs": [
    {
     "data": {
      "text/plain": [
       "array([ 50.        ,  46.0530497 ,  34.83533547,  18.11788772,\n",
       "        -1.45997612, -20.80734183, -36.86968578, -47.11111703,\n",
       "       -49.91473879, -44.83792082, -32.68218104, -15.3666435 ,\n",
       "         4.37494917,  23.42583357,  38.77829393,  48.00851433,\n",
       "        49.65924594,  43.46987452,  30.41756573,  12.56299213,\n",
       "        -7.27500169, -25.96443271, -40.5546507 , -48.74218107,\n",
       "       -49.23439279, -41.95357645, -28.04921287,  -9.71649532,\n",
       "        10.15024319,  28.41448149,  42.19269794,  49.30961511,\n",
       "        48.64162828,  40.29419788,  25.58519962,   6.83686091,\n",
       "       -12.99086781, -30.76762415, -43.68684915, -49.70888126,\n",
       "       -47.88297402, -38.49739803, -23.03392937,  -3.93390974,\n",
       "        15.78718775,  33.01583541,  45.03200862,  49.93861783,\n",
       "        46.96101733,  36.56930478])"
      ]
     },
     "execution_count": 21,
     "metadata": {},
     "output_type": "execute_result"
    }
   ],
   "source": [
    "y2"
   ]
  },
  {
   "cell_type": "code",
   "execution_count": 22,
   "id": "deeb1ee9",
   "metadata": {},
   "outputs": [],
   "source": [
    "y1_new = y1 / max(y1)"
   ]
  },
  {
   "cell_type": "code",
   "execution_count": 23,
   "id": "382a26b7",
   "metadata": {},
   "outputs": [],
   "source": [
    "y2_new = y2/ max(y2)"
   ]
  },
  {
   "cell_type": "code",
   "execution_count": 24,
   "id": "82f42872",
   "metadata": {},
   "outputs": [
    {
     "data": {
      "text/plain": [
       "array([ 0.        ,  0.38958446,  0.7176621 ,  0.93243667,  1.        ,\n",
       "        0.90968531,  0.67575132,  0.33513105, -0.05839904, -0.44270921,\n",
       "       -0.75712533, -0.95200801, -0.99658955, -0.88383152, -0.63153592,\n",
       "       -0.27953469,  0.11659892,  0.49432413,  0.79400643,  0.96833257,\n",
       "        0.98978029,  0.85496346,  0.58516671,  0.22298499, -0.17440115,\n",
       "       -0.54425318, -0.8281796 , -0.98135468, -0.97959543, -0.8231796 ,\n",
       "       -0.53680181, -0.16567482,  0.23160858,  0.59232608,  0.85952832,\n",
       "        0.99102993,  0.96606971,  0.78858832,  0.48660618,  0.10779962,\n",
       "       -0.28802613, -0.63837889, -0.88794565, -0.99732532, -0.94924925,\n",
       "       -0.7513076 , -0.434751  , -0.04955677,  0.34346138,  0.68225453])"
      ]
     },
     "execution_count": 24,
     "metadata": {},
     "output_type": "execute_result"
    }
   ],
   "source": [
    "y1_new"
   ]
  },
  {
   "cell_type": "code",
   "execution_count": 25,
   "id": "8956683d",
   "metadata": {},
   "outputs": [
    {
     "data": {
      "text/plain": [
       "array([ 1.        ,  0.92106099,  0.69670671,  0.36235775, -0.02919952,\n",
       "       -0.41614684, -0.73739372, -0.94222234, -0.99829478, -0.89675842,\n",
       "       -0.65364362, -0.30733287,  0.08749898,  0.46851667,  0.77556588,\n",
       "        0.96017029,  0.99318492,  0.86939749,  0.60835131,  0.25125984,\n",
       "       -0.14550003, -0.51928865, -0.81109301, -0.97484362, -0.98468786,\n",
       "       -0.83907153, -0.56098426, -0.19432991,  0.20300486,  0.56828963,\n",
       "        0.84385396,  0.9861923 ,  0.97283257,  0.80588396,  0.51170399,\n",
       "        0.13673722, -0.25981736, -0.61535248, -0.87373698, -0.99417763,\n",
       "       -0.95765948, -0.76994796, -0.46067859, -0.07867819,  0.31574375,\n",
       "        0.66031671,  0.90064017,  0.99877236,  0.93922035,  0.7313861 ])"
      ]
     },
     "execution_count": 25,
     "metadata": {},
     "output_type": "execute_result"
    }
   ],
   "source": [
    "y2_new"
   ]
  },
  {
   "cell_type": "markdown",
   "id": "0c8263fc",
   "metadata": {},
   "source": [
    "## 2. Min-Max Scalling"
   ]
  },
  {
   "cell_type": "markdown",
   "id": "8a654101",
   "metadata": {},
   "source": [
    "1. This method of scalling requres two steps:\n",
    "    1. First, We are find the minimum value of our column\n",
    "    2. The we will substract the minimum value from the entry  and devide the result by the difference between the maximum and minimum value"
   ]
  },
  {
   "cell_type": "markdown",
   "id": "89b27827",
   "metadata": {},
   "source": [
    "![](https://substackcdn.com/image/fetch/f_auto,q_auto:good,fl_progressive:steep/https%3A%2F%2Fsubstack-post-media.s3.amazonaws.com%2Fpublic%2Fimages%2F742f0335-cc0f-46d6-84a7-f531c8f5aff5_547x140.png)"
   ]
  },
  {
   "cell_type": "code",
   "execution_count": 26,
   "id": "a94da0e6",
   "metadata": {},
   "outputs": [],
   "source": [
    "from sklearn.preprocessing import MinMaxScaler"
   ]
  },
  {
   "cell_type": "code",
   "execution_count": 27,
   "id": "7c50cba8",
   "metadata": {},
   "outputs": [],
   "source": [
    "scaler = MinMaxScaler()"
   ]
  },
  {
   "cell_type": "code",
   "execution_count": 28,
   "id": "78531203",
   "metadata": {},
   "outputs": [],
   "source": [
    "# help(scaler)"
   ]
  },
  {
   "cell_type": "code",
   "execution_count": 29,
   "id": "d6294dd0",
   "metadata": {},
   "outputs": [],
   "source": [
    "scaled_data = scaler.fit_transform(df)\n"
   ]
  },
  {
   "cell_type": "code",
   "execution_count": 30,
   "id": "9d4d563f",
   "metadata": {},
   "outputs": [
    {
     "data": {
      "text/plain": [
       "array([[0.        , 0.8       ],\n",
       "       [0.18629516, 0.        ],\n",
       "       [0.45358821, 0.8       ],\n",
       "       [0.17819537, 1.        ],\n",
       "       [1.        , 0.8       ]])"
      ]
     },
     "execution_count": 30,
     "metadata": {},
     "output_type": "execute_result"
    }
   ],
   "source": [
    "scaled_data"
   ]
  },
  {
   "cell_type": "code",
   "execution_count": 31,
   "id": "d1869e07",
   "metadata": {},
   "outputs": [],
   "source": [
    "scaled_df = pd.DataFrame(scaled_data, columns=df.columns)"
   ]
  },
  {
   "cell_type": "code",
   "execution_count": 32,
   "id": "5afdde27",
   "metadata": {},
   "outputs": [
    {
     "data": {
      "text/html": [
       "<div>\n",
       "<style scoped>\n",
       "    .dataframe tbody tr th:only-of-type {\n",
       "        vertical-align: middle;\n",
       "    }\n",
       "\n",
       "    .dataframe tbody tr th {\n",
       "        vertical-align: top;\n",
       "    }\n",
       "\n",
       "    .dataframe thead th {\n",
       "        text-align: right;\n",
       "    }\n",
       "</style>\n",
       "<table border=\"1\" class=\"dataframe\">\n",
       "  <thead>\n",
       "    <tr style=\"text-align: right;\">\n",
       "      <th></th>\n",
       "      <th>LotArea</th>\n",
       "      <th>SubClass</th>\n",
       "    </tr>\n",
       "  </thead>\n",
       "  <tbody>\n",
       "    <tr>\n",
       "      <th>0</th>\n",
       "      <td>0.000000</td>\n",
       "      <td>0.8</td>\n",
       "    </tr>\n",
       "    <tr>\n",
       "      <th>1</th>\n",
       "      <td>0.186295</td>\n",
       "      <td>0.0</td>\n",
       "    </tr>\n",
       "    <tr>\n",
       "      <th>2</th>\n",
       "      <td>0.453588</td>\n",
       "      <td>0.8</td>\n",
       "    </tr>\n",
       "    <tr>\n",
       "      <th>3</th>\n",
       "      <td>0.178195</td>\n",
       "      <td>1.0</td>\n",
       "    </tr>\n",
       "    <tr>\n",
       "      <th>4</th>\n",
       "      <td>1.000000</td>\n",
       "      <td>0.8</td>\n",
       "    </tr>\n",
       "  </tbody>\n",
       "</table>\n",
       "</div>"
      ],
      "text/plain": [
       "    LotArea  SubClass\n",
       "0  0.000000       0.8\n",
       "1  0.186295       0.0\n",
       "2  0.453588       0.8\n",
       "3  0.178195       1.0\n",
       "4  1.000000       0.8"
      ]
     },
     "execution_count": 32,
     "metadata": {},
     "output_type": "execute_result"
    }
   ],
   "source": [
    "scaled_df"
   ]
  },
  {
   "cell_type": "markdown",
   "id": "5bd798dc",
   "metadata": {},
   "source": [
    "### 3. Normalization"
   ]
  },
  {
   "cell_type": "markdown",
   "id": "f588e263",
   "metadata": {},
   "source": [
    "1. The method is more or less the same as the min-max method but insted of the minimum value\n",
    "2. We substract each entry by the mean value of whole data and then devide the result by the difference between the minimum and the maximum value"
   ]
  },
  {
   "cell_type": "code",
   "execution_count": 33,
   "id": "92c1ef38",
   "metadata": {},
   "outputs": [],
   "source": [
    "from sklearn.preprocessing import Normalizer"
   ]
  },
  {
   "cell_type": "code",
   "execution_count": 34,
   "id": "07a1832e",
   "metadata": {},
   "outputs": [],
   "source": [
    "scaler = Normalizer()"
   ]
  },
  {
   "cell_type": "code",
   "execution_count": 36,
   "id": "05d36cf6",
   "metadata": {},
   "outputs": [],
   "source": [
    "# help(scaler)"
   ]
  },
  {
   "cell_type": "code",
   "execution_count": 37,
   "id": "dc948cbe",
   "metadata": {},
   "outputs": [],
   "source": [
    "scaled_data = scaler.fit_transform(df)\n",
    "scaled_df = pd.DataFrame(scaled_data,columns=df.columns)"
   ]
  },
  {
   "cell_type": "code",
   "execution_count": 38,
   "id": "c1873bd7",
   "metadata": {},
   "outputs": [
    {
     "data": {
      "text/html": [
       "<div>\n",
       "<style scoped>\n",
       "    .dataframe tbody tr th:only-of-type {\n",
       "        vertical-align: middle;\n",
       "    }\n",
       "\n",
       "    .dataframe tbody tr th {\n",
       "        vertical-align: top;\n",
       "    }\n",
       "\n",
       "    .dataframe thead th {\n",
       "        text-align: right;\n",
       "    }\n",
       "</style>\n",
       "<table border=\"1\" class=\"dataframe\">\n",
       "  <thead>\n",
       "    <tr style=\"text-align: right;\">\n",
       "      <th></th>\n",
       "      <th>LotArea</th>\n",
       "      <th>SubClass</th>\n",
       "    </tr>\n",
       "  </thead>\n",
       "  <tbody>\n",
       "    <tr>\n",
       "      <th>0</th>\n",
       "      <td>0.999975</td>\n",
       "      <td>0.007100</td>\n",
       "    </tr>\n",
       "    <tr>\n",
       "      <th>1</th>\n",
       "      <td>0.999998</td>\n",
       "      <td>0.002083</td>\n",
       "    </tr>\n",
       "    <tr>\n",
       "      <th>2</th>\n",
       "      <td>0.999986</td>\n",
       "      <td>0.005333</td>\n",
       "    </tr>\n",
       "    <tr>\n",
       "      <th>3</th>\n",
       "      <td>0.999973</td>\n",
       "      <td>0.007330</td>\n",
       "    </tr>\n",
       "    <tr>\n",
       "      <th>4</th>\n",
       "      <td>0.999992</td>\n",
       "      <td>0.004103</td>\n",
       "    </tr>\n",
       "  </tbody>\n",
       "</table>\n",
       "</div>"
      ],
      "text/plain": [
       "    LotArea  SubClass\n",
       "0  0.999975  0.007100\n",
       "1  0.999998  0.002083\n",
       "2  0.999986  0.005333\n",
       "3  0.999973  0.007330\n",
       "4  0.999992  0.004103"
      ]
     },
     "execution_count": 38,
     "metadata": {},
     "output_type": "execute_result"
    }
   ],
   "source": [
    "scaled_df.head()"
   ]
  },
  {
   "cell_type": "markdown",
   "id": "750a9ca3",
   "metadata": {},
   "source": [
    "![](https://www.researchgate.net/publication/370281792/figure/fig1/AS:11431281153784125@1682531264234/Data-normalization-formula.png)"
   ]
  },
  {
   "cell_type": "markdown",
   "id": "5525057e",
   "metadata": {},
   "source": [
    "## 4. Standardization"
   ]
  },
  {
   "cell_type": "markdown",
   "id": "d5885796",
   "metadata": {},
   "source": [
    "1. We calculate the z-score value for each data points and replace those value with standardize value\n",
    "2. This method of scalling is basically based on central tendancies and variance of the data\n",
    "3. First, we should calculate the mean and standard deviation of the data we would like to normalize\n",
    "4. Then we are substract the mean value from each entry and then devide the result by the standard deviation"
   ]
  },
  {
   "cell_type": "markdown",
   "id": "a0b73cf4",
   "metadata": {},
   "source": [
    "**X[new] = X - Xmean / standard deviation**"
   ]
  },
  {
   "cell_type": "markdown",
   "id": "0a8ea64d",
   "metadata": {},
   "source": [
    "![](https://miro.medium.com/v2/resize:fit:399/1*cvrpJ9lx24D1AuXNpWskZA.jpeg)"
   ]
  },
  {
   "cell_type": "code",
   "execution_count": 39,
   "id": "f625c86c",
   "metadata": {},
   "outputs": [],
   "source": [
    "from sklearn.preprocessing import StandardScaler"
   ]
  },
  {
   "cell_type": "code",
   "execution_count": 40,
   "id": "0e0969d2",
   "metadata": {},
   "outputs": [],
   "source": [
    "scaler = StandardScaler()"
   ]
  },
  {
   "cell_type": "code",
   "execution_count": 41,
   "id": "75cb3513",
   "metadata": {},
   "outputs": [],
   "source": [
    "scaled_data = scaler.fit_transform(df)\n",
    "scaled_df = pd.DataFrame(scaled_data, columns=df.columns)"
   ]
  },
  {
   "cell_type": "code",
   "execution_count": 42,
   "id": "457ef4d5",
   "metadata": {},
   "outputs": [
    {
     "data": {
      "text/html": [
       "<div>\n",
       "<style scoped>\n",
       "    .dataframe tbody tr th:only-of-type {\n",
       "        vertical-align: middle;\n",
       "    }\n",
       "\n",
       "    .dataframe tbody tr th {\n",
       "        vertical-align: top;\n",
       "    }\n",
       "\n",
       "    .dataframe thead th {\n",
       "        text-align: right;\n",
       "    }\n",
       "</style>\n",
       "<table border=\"1\" class=\"dataframe\">\n",
       "  <thead>\n",
       "    <tr style=\"text-align: right;\">\n",
       "      <th></th>\n",
       "      <th>LotArea</th>\n",
       "      <th>SubClass</th>\n",
       "    </tr>\n",
       "  </thead>\n",
       "  <tbody>\n",
       "    <tr>\n",
       "      <th>0</th>\n",
       "      <td>-1.040075</td>\n",
       "      <td>0.344124</td>\n",
       "    </tr>\n",
       "    <tr>\n",
       "      <th>1</th>\n",
       "      <td>-0.507202</td>\n",
       "      <td>-1.950034</td>\n",
       "    </tr>\n",
       "    <tr>\n",
       "      <th>2</th>\n",
       "      <td>0.257354</td>\n",
       "      <td>0.344124</td>\n",
       "    </tr>\n",
       "    <tr>\n",
       "      <th>3</th>\n",
       "      <td>-0.530370</td>\n",
       "      <td>0.917663</td>\n",
       "    </tr>\n",
       "    <tr>\n",
       "      <th>4</th>\n",
       "      <td>1.820293</td>\n",
       "      <td>0.344124</td>\n",
       "    </tr>\n",
       "  </tbody>\n",
       "</table>\n",
       "</div>"
      ],
      "text/plain": [
       "    LotArea  SubClass\n",
       "0 -1.040075  0.344124\n",
       "1 -0.507202 -1.950034\n",
       "2  0.257354  0.344124\n",
       "3 -0.530370  0.917663\n",
       "4  1.820293  0.344124"
      ]
     },
     "execution_count": 42,
     "metadata": {},
     "output_type": "execute_result"
    }
   ],
   "source": [
    "scaled_df.head()"
   ]
  },
  {
   "cell_type": "markdown",
   "id": "3434e41e",
   "metadata": {},
   "source": [
    "**Note: Make sure that all the features are centered around the mean value with standard deviation value of 1**"
   ]
  },
  {
   "cell_type": "markdown",
   "id": "8a4e3f34",
   "metadata": {},
   "source": [
    "### 5. Robust Scalling"
   ]
  },
  {
   "cell_type": "markdown",
   "id": "d09e3989",
   "metadata": {},
   "source": [
    "1. In Robust scalling method we use two main statistical measure of the data:\n",
    "    1. Median\n",
    "    2. Inter-Quartile Range"
   ]
  },
  {
   "cell_type": "markdown",
   "id": "6758fd44",
   "metadata": {},
   "source": [
    "1. After calculating these two values we are supposed to substract the median from each entry and then devide by the result of IQR"
   ]
  },
  {
   "cell_type": "markdown",
   "id": "971b4c90",
   "metadata": {},
   "source": [
    "**X[new] = X - Xmedian / IQR**"
   ]
  },
  {
   "cell_type": "code",
   "execution_count": 43,
   "id": "8a7b6753",
   "metadata": {},
   "outputs": [],
   "source": [
    "df = pd.read_csv('absoulute_scalling.csv')"
   ]
  },
  {
   "cell_type": "code",
   "execution_count": 44,
   "id": "623c496b",
   "metadata": {},
   "outputs": [
    {
     "data": {
      "text/html": [
       "<div>\n",
       "<style scoped>\n",
       "    .dataframe tbody tr th:only-of-type {\n",
       "        vertical-align: middle;\n",
       "    }\n",
       "\n",
       "    .dataframe tbody tr th {\n",
       "        vertical-align: top;\n",
       "    }\n",
       "\n",
       "    .dataframe thead th {\n",
       "        text-align: right;\n",
       "    }\n",
       "</style>\n",
       "<table border=\"1\" class=\"dataframe\">\n",
       "  <thead>\n",
       "    <tr style=\"text-align: right;\">\n",
       "      <th></th>\n",
       "      <th>Unnamed: 0</th>\n",
       "      <th>LotArea</th>\n",
       "      <th>SubClass</th>\n",
       "    </tr>\n",
       "  </thead>\n",
       "  <tbody>\n",
       "    <tr>\n",
       "      <th>0</th>\n",
       "      <td>0</td>\n",
       "      <td>8450</td>\n",
       "      <td>60</td>\n",
       "    </tr>\n",
       "    <tr>\n",
       "      <th>1</th>\n",
       "      <td>1</td>\n",
       "      <td>9600</td>\n",
       "      <td>20</td>\n",
       "    </tr>\n",
       "    <tr>\n",
       "      <th>2</th>\n",
       "      <td>2</td>\n",
       "      <td>11250</td>\n",
       "      <td>60</td>\n",
       "    </tr>\n",
       "    <tr>\n",
       "      <th>3</th>\n",
       "      <td>3</td>\n",
       "      <td>9550</td>\n",
       "      <td>70</td>\n",
       "    </tr>\n",
       "    <tr>\n",
       "      <th>4</th>\n",
       "      <td>4</td>\n",
       "      <td>14623</td>\n",
       "      <td>60</td>\n",
       "    </tr>\n",
       "  </tbody>\n",
       "</table>\n",
       "</div>"
      ],
      "text/plain": [
       "   Unnamed: 0  LotArea  SubClass\n",
       "0           0     8450        60\n",
       "1           1     9600        20\n",
       "2           2    11250        60\n",
       "3           3     9550        70\n",
       "4           4    14623        60"
      ]
     },
     "execution_count": 44,
     "metadata": {},
     "output_type": "execute_result"
    }
   ],
   "source": [
    "df.head()"
   ]
  },
  {
   "cell_type": "code",
   "execution_count": 45,
   "id": "20ebc530",
   "metadata": {},
   "outputs": [],
   "source": [
    "df = df.drop('Unnamed: 0', axis=1)"
   ]
  },
  {
   "cell_type": "code",
   "execution_count": 46,
   "id": "f1eed135",
   "metadata": {},
   "outputs": [
    {
     "data": {
      "text/html": [
       "<div>\n",
       "<style scoped>\n",
       "    .dataframe tbody tr th:only-of-type {\n",
       "        vertical-align: middle;\n",
       "    }\n",
       "\n",
       "    .dataframe tbody tr th {\n",
       "        vertical-align: top;\n",
       "    }\n",
       "\n",
       "    .dataframe thead th {\n",
       "        text-align: right;\n",
       "    }\n",
       "</style>\n",
       "<table border=\"1\" class=\"dataframe\">\n",
       "  <thead>\n",
       "    <tr style=\"text-align: right;\">\n",
       "      <th></th>\n",
       "      <th>LotArea</th>\n",
       "      <th>SubClass</th>\n",
       "    </tr>\n",
       "  </thead>\n",
       "  <tbody>\n",
       "    <tr>\n",
       "      <th>0</th>\n",
       "      <td>8450</td>\n",
       "      <td>60</td>\n",
       "    </tr>\n",
       "    <tr>\n",
       "      <th>1</th>\n",
       "      <td>9600</td>\n",
       "      <td>20</td>\n",
       "    </tr>\n",
       "    <tr>\n",
       "      <th>2</th>\n",
       "      <td>11250</td>\n",
       "      <td>60</td>\n",
       "    </tr>\n",
       "    <tr>\n",
       "      <th>3</th>\n",
       "      <td>9550</td>\n",
       "      <td>70</td>\n",
       "    </tr>\n",
       "    <tr>\n",
       "      <th>4</th>\n",
       "      <td>14623</td>\n",
       "      <td>60</td>\n",
       "    </tr>\n",
       "  </tbody>\n",
       "</table>\n",
       "</div>"
      ],
      "text/plain": [
       "   LotArea  SubClass\n",
       "0     8450        60\n",
       "1     9600        20\n",
       "2    11250        60\n",
       "3     9550        70\n",
       "4    14623        60"
      ]
     },
     "execution_count": 46,
     "metadata": {},
     "output_type": "execute_result"
    }
   ],
   "source": [
    "df.head()"
   ]
  },
  {
   "cell_type": "code",
   "execution_count": 49,
   "id": "640ab995",
   "metadata": {},
   "outputs": [
    {
     "data": {
      "text/plain": [
       "array([ 8450,  9550,  9600, 11250, 14623], dtype=int64)"
      ]
     },
     "execution_count": 49,
     "metadata": {},
     "output_type": "execute_result"
    }
   ],
   "source": [
    "np.sort(df['LotArea'])"
   ]
  },
  {
   "cell_type": "code",
   "execution_count": 50,
   "id": "2a00ecd6",
   "metadata": {},
   "outputs": [
    {
     "data": {
      "text/plain": [
       "array([20, 60, 60, 60, 70], dtype=int64)"
      ]
     },
     "execution_count": 50,
     "metadata": {},
     "output_type": "execute_result"
    }
   ],
   "source": [
    "np.sort(df['SubClass'])"
   ]
  },
  {
   "cell_type": "code",
   "execution_count": 51,
   "id": "f1a3876d",
   "metadata": {},
   "outputs": [],
   "source": [
    "Median_value = [9600,60]"
   ]
  },
  {
   "cell_type": "code",
   "execution_count": 52,
   "id": "7af50e0c",
   "metadata": {},
   "outputs": [],
   "source": [
    "from sklearn.preprocessing import RobustScaler"
   ]
  },
  {
   "cell_type": "code",
   "execution_count": 53,
   "id": "0eeedab8",
   "metadata": {},
   "outputs": [],
   "source": [
    "scaler = RobustScaler()"
   ]
  },
  {
   "cell_type": "code",
   "execution_count": 54,
   "id": "9719f147",
   "metadata": {},
   "outputs": [],
   "source": [
    "scaled_data = scaler.fit_transform(df)\n",
    "scaled_df = pd.DataFrame(scaled_data, columns=df.columns)"
   ]
  },
  {
   "cell_type": "code",
   "execution_count": 55,
   "id": "f8939a88",
   "metadata": {},
   "outputs": [
    {
     "data": {
      "text/html": [
       "<div>\n",
       "<style scoped>\n",
       "    .dataframe tbody tr th:only-of-type {\n",
       "        vertical-align: middle;\n",
       "    }\n",
       "\n",
       "    .dataframe tbody tr th {\n",
       "        vertical-align: top;\n",
       "    }\n",
       "\n",
       "    .dataframe thead th {\n",
       "        text-align: right;\n",
       "    }\n",
       "</style>\n",
       "<table border=\"1\" class=\"dataframe\">\n",
       "  <thead>\n",
       "    <tr style=\"text-align: right;\">\n",
       "      <th></th>\n",
       "      <th>LotArea</th>\n",
       "      <th>SubClass</th>\n",
       "    </tr>\n",
       "  </thead>\n",
       "  <tbody>\n",
       "    <tr>\n",
       "      <th>0</th>\n",
       "      <td>-0.676471</td>\n",
       "      <td>0.0</td>\n",
       "    </tr>\n",
       "    <tr>\n",
       "      <th>1</th>\n",
       "      <td>0.000000</td>\n",
       "      <td>-40.0</td>\n",
       "    </tr>\n",
       "    <tr>\n",
       "      <th>2</th>\n",
       "      <td>0.970588</td>\n",
       "      <td>0.0</td>\n",
       "    </tr>\n",
       "    <tr>\n",
       "      <th>3</th>\n",
       "      <td>-0.029412</td>\n",
       "      <td>10.0</td>\n",
       "    </tr>\n",
       "    <tr>\n",
       "      <th>4</th>\n",
       "      <td>2.954706</td>\n",
       "      <td>0.0</td>\n",
       "    </tr>\n",
       "  </tbody>\n",
       "</table>\n",
       "</div>"
      ],
      "text/plain": [
       "    LotArea  SubClass\n",
       "0 -0.676471       0.0\n",
       "1  0.000000     -40.0\n",
       "2  0.970588       0.0\n",
       "3 -0.029412      10.0\n",
       "4  2.954706       0.0"
      ]
     },
     "execution_count": 55,
     "metadata": {},
     "output_type": "execute_result"
    }
   ],
   "source": [
    "scaled_df.head()"
   ]
  },
  {
   "cell_type": "markdown",
   "id": "30aa8180",
   "metadata": {},
   "source": [
    "## InterQuartile Range "
   ]
  },
  {
   "cell_type": "markdown",
   "id": "921673bc",
   "metadata": {},
   "source": [
    "InterQuartile Range is related to the quartile concept which comes under the parent topic"
   ]
  },
  {
   "cell_type": "markdown",
   "id": "a787f759",
   "metadata": {},
   "source": [
    "![](https://www.bachelorprint.com/wp-content/uploads/2023/07/Interquartile-range-Definition.jpg)"
   ]
  },
  {
   "cell_type": "markdown",
   "id": "feeded6a",
   "metadata": {},
   "source": [
    "![](https://upload.wikimedia.org/wikipedia/commons/1/1a/Boxplot_vs_PDF.svg)"
   ]
  },
  {
   "cell_type": "markdown",
   "id": "3727e188",
   "metadata": {},
   "source": [
    "![](https://www.scribbr.com/wp-content/uploads/2022/01/interquartile-range.png)"
   ]
  },
  {
   "cell_type": "markdown",
   "id": "e582250b",
   "metadata": {},
   "source": [
    "1. The Interqurtile range can be defined as the distance between the Upper Quartile and the Lower Quartile\n",
    "2. It is also called as Mid Spread.\n",
    "3. A Quartile is used to partition the given data into four parts by three cuts:\n",
    "    1. Quartile 1:\n",
    "        1. It is also called as the **Lower Quartile** which cuts the first half of sorted data\n",
    "    2. Quartile 2:\n",
    "        2. It is a **Median** value which is the center value in sorted data\n",
    "    3. Quartile 3:\n",
    "        3. It is also called as **Upper Quartile** that the last of of the ordered data"
   ]
  },
  {
   "cell_type": "markdown",
   "id": "7424ebda",
   "metadata": {},
   "source": [
    "#### InterQuartile Range Formula"
   ]
  },
  {
   "cell_type": "markdown",
   "id": "5b8cf1ef",
   "metadata": {},
   "source": [
    "1. InterQuartile Range formula is the difference between the Third/UpperQurtile and First/LowerQuartile\n",
    "2. It is calculation of variation while deviding the dataset into Quartile"
   ]
  },
  {
   "cell_type": "markdown",
   "id": "e135fc23",
   "metadata": {},
   "source": [
    "**IQR = Q3 - Q1**"
   ]
  },
  {
   "cell_type": "markdown",
   "id": "8bfb05dc",
   "metadata": {},
   "source": [
    "1. Q3 - Upper Quartile\n",
    "2. Q1 - Lower Quartile"
   ]
  },
  {
   "cell_type": "markdown",
   "id": "5f94df05",
   "metadata": {},
   "source": [
    "Upper Quartile is calculated using the Formula"
   ]
  },
  {
   "cell_type": "markdown",
   "id": "66841542",
   "metadata": {},
   "source": [
    "**Q3 = ((3 * (n + 1))/4)the term**"
   ]
  },
  {
   "cell_type": "markdown",
   "id": "a7d1b900",
   "metadata": {},
   "source": [
    "where n is the number of terms"
   ]
  },
  {
   "cell_type": "markdown",
   "id": "510d6960",
   "metadata": {},
   "source": [
    "**Q1 = (((n + 1))/4)the term**"
   ]
  },
  {
   "cell_type": "markdown",
   "id": "3158f10b",
   "metadata": {},
   "source": [
    "### Steps to Perform IQR"
   ]
  },
  {
   "cell_type": "markdown",
   "id": "b8ca26af",
   "metadata": {},
   "source": [
    "1. Step_1 - Sort the data in ascending order\n",
    "2. Step_2 - Find Upper Quartile and Lower Quartile for the given dataset\n",
    "3. Step_3 - Find Inter Quartile Range"
   ]
  },
  {
   "cell_type": "markdown",
   "id": "fa2079f9",
   "metadata": {},
   "source": [
    "## Question - Find the InterQuartile Range for the given data 20,10,50,40,25,70,30"
   ]
  },
  {
   "cell_type": "markdown",
   "id": "f94c1ef3",
   "metadata": {},
   "source": [
    "### Step_1 - Given data is unsorted manner so first need to sort in ascending order"
   ]
  },
  {
   "cell_type": "code",
   "execution_count": 56,
   "id": "f9d3f008",
   "metadata": {},
   "outputs": [],
   "source": [
    "lst = [20,10,50,40,25,70,30]"
   ]
  },
  {
   "cell_type": "code",
   "execution_count": 58,
   "id": "86f93ff3",
   "metadata": {},
   "outputs": [],
   "source": [
    "sorted_lst = np.sort(lst)"
   ]
  },
  {
   "cell_type": "code",
   "execution_count": 60,
   "id": "2e933fac",
   "metadata": {},
   "outputs": [
    {
     "name": "stdout",
     "output_type": "stream",
     "text": [
      "[10 20 25 30 40 50 70]\n"
     ]
    }
   ],
   "source": [
    "print(sorted_lst)"
   ]
  },
  {
   "cell_type": "markdown",
   "id": "9e3c0447",
   "metadata": {},
   "source": [
    "### Step_2 - Find the Quartile"
   ]
  },
  {
   "cell_type": "raw",
   "id": "d6aa2119",
   "metadata": {},
   "source": [
    "Q1 = (((n + 1))/4)the term\n",
    "\n",
    "Here, n = 7 [Total 7 terms]\n",
    "\n",
    "        = ((7 + 1)/4)the term\n",
    "        = (8/4)the term\n",
    "        = 2nd term\n",
    "        = 2nd Term is 20\n",
    "So Qurtile1 = 20"
   ]
  },
  {
   "cell_type": "markdown",
   "id": "61adb69a",
   "metadata": {},
   "source": [
    "### Find the Upper/Third Quartile"
   ]
  },
  {
   "cell_type": "raw",
   "id": "5af1c109",
   "metadata": {},
   "source": [
    "Q3 = ((3 * (n + 1))/4)the term\n",
    "\n",
    "Here n = 7 [total 7 terms]\n",
    "       = ((3 * (7 + 1))/4)th term\n",
    "       = ((3 * 8)/4)th term\n",
    "       = (24/4)th term\n",
    "       = 6th term\n",
    "        \n",
    "        6th term is 50\n",
    "Q3 = 50"
   ]
  },
  {
   "cell_type": "markdown",
   "id": "3c7854cc",
   "metadata": {},
   "source": [
    "### Step_3 - Find IQR (Inter Quartile Range)"
   ]
  },
  {
   "cell_type": "raw",
   "id": "8cca9a9f",
   "metadata": {},
   "source": [
    "IQR = Q3 - Q1\n",
    "    = 50 - 20\n",
    "    = 30"
   ]
  },
  {
   "cell_type": "code",
   "execution_count": null,
   "id": "806a17fb",
   "metadata": {},
   "outputs": [],
   "source": []
  }
 ],
 "metadata": {
  "kernelspec": {
   "display_name": "Python 3 (ipykernel)",
   "language": "python",
   "name": "python3"
  },
  "language_info": {
   "codemirror_mode": {
    "name": "ipython",
    "version": 3
   },
   "file_extension": ".py",
   "mimetype": "text/x-python",
   "name": "python",
   "nbconvert_exporter": "python",
   "pygments_lexer": "ipython3",
   "version": "3.11.5"
  }
 },
 "nbformat": 4,
 "nbformat_minor": 5
}
