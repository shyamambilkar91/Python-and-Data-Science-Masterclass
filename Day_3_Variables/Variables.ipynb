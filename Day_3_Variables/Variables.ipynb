{
 "cells": [
  {
   "cell_type": "markdown",
   "id": "049aa8e2",
   "metadata": {},
   "source": [
    "# Variables"
   ]
  },
  {
   "cell_type": "markdown",
   "id": "838f2f1d",
   "metadata": {},
   "source": [
    "1. Variable contain something\n",
    "2. A Variable can have short name or Descriptive name [age, high, carname, etc.]\n",
    "3. Example:\n",
    "    1. x = 'Shyam' [String]\n",
    "    2. y = 100 [Integer]\n",
    "    3. z = 100.45 [float]"
   ]
  },
  {
   "cell_type": "markdown",
   "id": "54eba1d3",
   "metadata": {},
   "source": [
    "1. Rules for Creating Python Variables:\n",
    "    1. Always start with later[a-zA-Z] or underscore character [_]\n",
    "    2. Variable contain alphanumeric value character and underscorre [a-z,A-Z,0-9,_]\n",
    "    3. Variable name always case sensitive [age, Age, AGE, etc.]\n",
    "    4. Variable name not start with any Numbers"
   ]
  },
  {
   "cell_type": "code",
   "execution_count": 7,
   "id": "8679b37b",
   "metadata": {},
   "outputs": [
    {
     "name": "stdout",
     "output_type": "stream",
     "text": [
      "10\n"
     ]
    }
   ],
   "source": [
    "x = 10\n",
    "y = 20\n",
    "print(x)"
   ]
  },
  {
   "cell_type": "code",
   "execution_count": 3,
   "id": "e5784d58",
   "metadata": {},
   "outputs": [
    {
     "ename": "SyntaxError",
     "evalue": "invalid syntax (2705564865.py, line 1)",
     "output_type": "error",
     "traceback": [
      "\u001b[1;36m  Cell \u001b[1;32mIn[3], line 1\u001b[1;36m\u001b[0m\n\u001b[1;33m    x = Shyam Ambilkar\u001b[0m\n\u001b[1;37m              ^\u001b[0m\n\u001b[1;31mSyntaxError\u001b[0m\u001b[1;31m:\u001b[0m invalid syntax\n"
     ]
    }
   ],
   "source": [
    "x = Shyam Ambilkar"
   ]
  },
  {
   "cell_type": "code",
   "execution_count": 4,
   "id": "f5bd89fa",
   "metadata": {},
   "outputs": [],
   "source": [
    "x = \"Shyam Ambilkar\"\n",
    "y = 'Shyam Ambilkar'"
   ]
  },
  {
   "cell_type": "code",
   "execution_count": 5,
   "id": "66bc2a8c",
   "metadata": {},
   "outputs": [
    {
     "name": "stdout",
     "output_type": "stream",
     "text": [
      "Shyam Ambilkar\n"
     ]
    }
   ],
   "source": [
    "print(x)"
   ]
  },
  {
   "cell_type": "code",
   "execution_count": 6,
   "id": "3f19e3a2",
   "metadata": {},
   "outputs": [
    {
     "name": "stdout",
     "output_type": "stream",
     "text": [
      "Shyam Ambilkar\n"
     ]
    }
   ],
   "source": [
    "print(y)"
   ]
  },
  {
   "cell_type": "code",
   "execution_count": 8,
   "id": "2a60a49c",
   "metadata": {},
   "outputs": [],
   "source": [
    "my_name = 20"
   ]
  },
  {
   "cell_type": "code",
   "execution_count": 9,
   "id": "b80afb0a",
   "metadata": {},
   "outputs": [
    {
     "name": "stdout",
     "output_type": "stream",
     "text": [
      "20\n"
     ]
    }
   ],
   "source": [
    "print(my_name)"
   ]
  },
  {
   "cell_type": "code",
   "execution_count": 10,
   "id": "dec641e4",
   "metadata": {},
   "outputs": [
    {
     "ename": "SyntaxError",
     "evalue": "cannot assign to expression here. Maybe you meant '==' instead of '='? (3683109980.py, line 1)",
     "output_type": "error",
     "traceback": [
      "\u001b[1;36m  Cell \u001b[1;32mIn[10], line 1\u001b[1;36m\u001b[0m\n\u001b[1;33m    my-name = 20\u001b[0m\n\u001b[1;37m    ^\u001b[0m\n\u001b[1;31mSyntaxError\u001b[0m\u001b[1;31m:\u001b[0m cannot assign to expression here. Maybe you meant '==' instead of '='?\n"
     ]
    }
   ],
   "source": [
    "my-name = 20"
   ]
  },
  {
   "cell_type": "code",
   "execution_count": 11,
   "id": "4997d0fd",
   "metadata": {},
   "outputs": [],
   "source": [
    "_myName = 45.23 "
   ]
  },
  {
   "cell_type": "code",
   "execution_count": 12,
   "id": "094adedd",
   "metadata": {},
   "outputs": [
    {
     "name": "stdout",
     "output_type": "stream",
     "text": [
      "45.23\n"
     ]
    }
   ],
   "source": [
    "print(_myName)"
   ]
  },
  {
   "cell_type": "code",
   "execution_count": 13,
   "id": "8e81027d",
   "metadata": {},
   "outputs": [
    {
     "ename": "SyntaxError",
     "evalue": "invalid decimal literal (346148512.py, line 1)",
     "output_type": "error",
     "traceback": [
      "\u001b[1;36m  Cell \u001b[1;32mIn[13], line 1\u001b[1;36m\u001b[0m\n\u001b[1;33m    2_myName = 45.23\u001b[0m\n\u001b[1;37m     ^\u001b[0m\n\u001b[1;31mSyntaxError\u001b[0m\u001b[1;31m:\u001b[0m invalid decimal literal\n"
     ]
    }
   ],
   "source": [
    "2_myName = 45.23"
   ]
  },
  {
   "cell_type": "code",
   "execution_count": 16,
   "id": "d29bac3f",
   "metadata": {},
   "outputs": [],
   "source": [
    "_myName_1 = 78.23\n",
    "my_Name_1 = 78"
   ]
  },
  {
   "cell_type": "code",
   "execution_count": 17,
   "id": "c5925b4a",
   "metadata": {},
   "outputs": [],
   "source": [
    "age = 80\n",
    "Age = 40\n",
    "AGE = 90"
   ]
  },
  {
   "cell_type": "code",
   "execution_count": 18,
   "id": "3b994f66",
   "metadata": {},
   "outputs": [
    {
     "name": "stdout",
     "output_type": "stream",
     "text": [
      "80\n"
     ]
    }
   ],
   "source": [
    "print(age)"
   ]
  },
  {
   "cell_type": "code",
   "execution_count": 19,
   "id": "40c797f9",
   "metadata": {},
   "outputs": [
    {
     "name": "stdout",
     "output_type": "stream",
     "text": [
      "40\n"
     ]
    }
   ],
   "source": [
    "print(Age)"
   ]
  },
  {
   "cell_type": "code",
   "execution_count": 20,
   "id": "fd45a1bd",
   "metadata": {},
   "outputs": [
    {
     "name": "stdout",
     "output_type": "stream",
     "text": [
      "90\n"
     ]
    }
   ],
   "source": [
    "print(AGE)"
   ]
  },
  {
   "cell_type": "markdown",
   "id": "5b96b237",
   "metadata": {},
   "source": [
    "### There are two types of Variables:\n",
    "    1. Local Variable\n",
    "    2. Global Variable"
   ]
  },
  {
   "cell_type": "markdown",
   "id": "1fbff881",
   "metadata": {},
   "source": [
    "### 1. Global Variable"
   ]
  },
  {
   "cell_type": "code",
   "execution_count": 21,
   "id": "b8bbbc87",
   "metadata": {},
   "outputs": [
    {
     "name": "stdout",
     "output_type": "stream",
     "text": [
      "Python & Data Science is Awesome\n"
     ]
    }
   ],
   "source": [
    "x = \"Awesome\" #Global Variable\n",
    "\n",
    "def myFunct():\n",
    "    print(\"Python & Data Science is \" + x)\n",
    "myFunct()"
   ]
  },
  {
   "cell_type": "markdown",
   "id": "0e8661d8",
   "metadata": {},
   "source": [
    "### 2. Local Variable"
   ]
  },
  {
   "cell_type": "code",
   "execution_count": 23,
   "id": "a7e3bcfe",
   "metadata": {},
   "outputs": [
    {
     "name": "stdout",
     "output_type": "stream",
     "text": [
      "Python & Data Science is Fantastic\n",
      "Python & Data Science is Awesome\n"
     ]
    }
   ],
   "source": [
    "x = \"Awesome\" #Global Variable\n",
    "\n",
    "def myFunct():\n",
    "    x = \"Fantastic\" # Local Variable\n",
    "    print(\"Python & Data Science is \" + x)\n",
    "myFunct()\n",
    "\n",
    "\n",
    "print(\"Python & Data Science is \" + x)"
   ]
  },
  {
   "cell_type": "code",
   "execution_count": 26,
   "id": "d18edec7",
   "metadata": {},
   "outputs": [
    {
     "name": "stdout",
     "output_type": "stream",
     "text": [
      "Python & Data Science is Fantastic\n"
     ]
    },
    {
     "ename": "TypeError",
     "evalue": "can only concatenate str (not \"int\") to str",
     "output_type": "error",
     "traceback": [
      "\u001b[1;31m---------------------------------------------------------------------------\u001b[0m",
      "\u001b[1;31mTypeError\u001b[0m                                 Traceback (most recent call last)",
      "Cell \u001b[1;32mIn[26], line 6\u001b[0m\n\u001b[0;32m      3\u001b[0m     \u001b[38;5;28mprint\u001b[39m(\u001b[38;5;124m\"\u001b[39m\u001b[38;5;124mPython & Data Science is \u001b[39m\u001b[38;5;124m\"\u001b[39m \u001b[38;5;241m+\u001b[39m y)\n\u001b[0;32m      4\u001b[0m myFunct()\n\u001b[1;32m----> 6\u001b[0m \u001b[38;5;28mprint\u001b[39m(\u001b[38;5;124m\"\u001b[39m\u001b[38;5;124mPython & Data Science is \u001b[39m\u001b[38;5;124m\"\u001b[39m \u001b[38;5;241m+\u001b[39m y)\n",
      "\u001b[1;31mTypeError\u001b[0m: can only concatenate str (not \"int\") to str"
     ]
    }
   ],
   "source": [
    "def myFunct():\n",
    "    y = \"Fantastic\" # Local Variable\n",
    "    print(\"Python & Data Science is \" + y)\n",
    "myFunct()\n",
    "\n",
    "print(\"Python & Data Science is \" + y)"
   ]
  },
  {
   "cell_type": "code",
   "execution_count": 27,
   "id": "efc2a188",
   "metadata": {},
   "outputs": [
    {
     "name": "stdout",
     "output_type": "stream",
     "text": [
      "Python & Data Science is Fantastic\n",
      "Python & Data Science is Fantastic\n"
     ]
    }
   ],
   "source": [
    "def myFunct():\n",
    "    global y\n",
    "    y = \"Fantastic\" # Local Variable\n",
    "    print(\"Python & Data Science is \" + y)\n",
    "myFunct()\n",
    "\n",
    "print(\"Python & Data Science is \" + y)"
   ]
  },
  {
   "cell_type": "markdown",
   "id": "d7ae030b",
   "metadata": {},
   "source": [
    "## Many Values to Multiple Variables"
   ]
  },
  {
   "cell_type": "code",
   "execution_count": 28,
   "id": "f86f4527",
   "metadata": {},
   "outputs": [
    {
     "ename": "ValueError",
     "evalue": "too many values to unpack (expected 3)",
     "output_type": "error",
     "traceback": [
      "\u001b[1;31m---------------------------------------------------------------------------\u001b[0m",
      "\u001b[1;31mValueError\u001b[0m                                Traceback (most recent call last)",
      "Cell \u001b[1;32mIn[28], line 1\u001b[0m\n\u001b[1;32m----> 1\u001b[0m x, y, z \u001b[38;5;241m=\u001b[39m \u001b[38;5;124m\"\u001b[39m\u001b[38;5;124mApple\u001b[39m\u001b[38;5;124m\"\u001b[39m\n",
      "\u001b[1;31mValueError\u001b[0m: too many values to unpack (expected 3)"
     ]
    }
   ],
   "source": [
    "x, y, z = \"Apple\""
   ]
  },
  {
   "cell_type": "code",
   "execution_count": 29,
   "id": "421dee70",
   "metadata": {},
   "outputs": [],
   "source": [
    "x = y = z = \"Apple\""
   ]
  },
  {
   "cell_type": "code",
   "execution_count": 30,
   "id": "61f0f9ee",
   "metadata": {},
   "outputs": [
    {
     "name": "stdout",
     "output_type": "stream",
     "text": [
      "Apple\n",
      "Apple\n",
      "Apple\n"
     ]
    }
   ],
   "source": [
    "print(x)\n",
    "print(y)\n",
    "print(z)"
   ]
  },
  {
   "cell_type": "code",
   "execution_count": 31,
   "id": "9e276454",
   "metadata": {},
   "outputs": [],
   "source": [
    "x = y = z = \"Apple\", \"Mango\",\"Orange\""
   ]
  },
  {
   "cell_type": "code",
   "execution_count": 32,
   "id": "6c0b9426",
   "metadata": {},
   "outputs": [
    {
     "name": "stdout",
     "output_type": "stream",
     "text": [
      "('Apple', 'Mango', 'Orange')\n",
      "('Apple', 'Mango', 'Orange')\n",
      "('Apple', 'Mango', 'Orange')\n"
     ]
    }
   ],
   "source": [
    "print(x)\n",
    "print(y)\n",
    "print(z)"
   ]
  },
  {
   "cell_type": "code",
   "execution_count": 33,
   "id": "47c8cfb3",
   "metadata": {},
   "outputs": [],
   "source": [
    "x, y, z = \"Apple\", \"Mango\",\"Orange\""
   ]
  },
  {
   "cell_type": "code",
   "execution_count": 34,
   "id": "f751c13c",
   "metadata": {},
   "outputs": [
    {
     "name": "stdout",
     "output_type": "stream",
     "text": [
      "Apple\n",
      "Mango\n",
      "Orange\n"
     ]
    }
   ],
   "source": [
    "print(x)\n",
    "print(y)\n",
    "print(z)"
   ]
  },
  {
   "cell_type": "code",
   "execution_count": 35,
   "id": "ad3ed160",
   "metadata": {},
   "outputs": [],
   "source": [
    "Fruits = ['Apple', 'Mango', 'Orange','Cherry']\n",
    "\n",
    "a, b, c, d = Fruits"
   ]
  },
  {
   "cell_type": "code",
   "execution_count": 36,
   "id": "ed6c1693",
   "metadata": {},
   "outputs": [
    {
     "name": "stdout",
     "output_type": "stream",
     "text": [
      "Apple\n",
      "Mango\n",
      "Orange\n",
      "Cherry\n"
     ]
    }
   ],
   "source": [
    "print(a)\n",
    "print(b)\n",
    "print(c)\n",
    "print(d)"
   ]
  },
  {
   "cell_type": "markdown",
   "id": "6046f598",
   "metadata": {},
   "source": [
    "## Output Variable:"
   ]
  },
  {
   "cell_type": "markdown",
   "id": "2e7e3f9a",
   "metadata": {},
   "source": [
    "1. print()\n",
    "2. To combine both text and variables python use + character"
   ]
  },
  {
   "cell_type": "code",
   "execution_count": 43,
   "id": "f36e8747",
   "metadata": {},
   "outputs": [
    {
     "name": "stdout",
     "output_type": "stream",
     "text": [
      "My fruit name is Apple and Mango\n",
      "My fruit name is Apple and Mango\n",
      "My fruit name is Mango\n"
     ]
    }
   ],
   "source": [
    "x = \"Apple\"\n",
    "y = 'Mango'\n",
    "\n",
    "print(\"My fruit name is \" + x,\"and\", y)\n",
    "print(\"My fruit name is \" + x + \" and \" + y)\n",
    "print(\"My fruit name is \" + y)"
   ]
  },
  {
   "cell_type": "code",
   "execution_count": 44,
   "id": "fa333c4a",
   "metadata": {},
   "outputs": [
    {
     "name": "stdout",
     "output_type": "stream",
     "text": [
      "AppleMango\n"
     ]
    }
   ],
   "source": [
    "x = \"Apple\"\n",
    "y = 'Mango'\n",
    "\n",
    "z = x + y\n",
    "print(z)"
   ]
  },
  {
   "cell_type": "code",
   "execution_count": 45,
   "id": "c76fe427",
   "metadata": {},
   "outputs": [
    {
     "name": "stdout",
     "output_type": "stream",
     "text": [
      "300\n"
     ]
    }
   ],
   "source": [
    "x = 100\n",
    "y = 200\n",
    "\n",
    "z = x + y\n",
    "print(z)"
   ]
  },
  {
   "cell_type": "code",
   "execution_count": 46,
   "id": "3f60e3ff",
   "metadata": {},
   "outputs": [
    {
     "ename": "TypeError",
     "evalue": "unsupported operand type(s) for +: 'int' and 'str'",
     "output_type": "error",
     "traceback": [
      "\u001b[1;31m---------------------------------------------------------------------------\u001b[0m",
      "\u001b[1;31mTypeError\u001b[0m                                 Traceback (most recent call last)",
      "Cell \u001b[1;32mIn[46], line 4\u001b[0m\n\u001b[0;32m      1\u001b[0m x \u001b[38;5;241m=\u001b[39m \u001b[38;5;241m100\u001b[39m\n\u001b[0;32m      2\u001b[0m y \u001b[38;5;241m=\u001b[39m \u001b[38;5;124m'\u001b[39m\u001b[38;5;124mMango\u001b[39m\u001b[38;5;124m'\u001b[39m\n\u001b[1;32m----> 4\u001b[0m z \u001b[38;5;241m=\u001b[39m x \u001b[38;5;241m+\u001b[39m y\n\u001b[0;32m      5\u001b[0m \u001b[38;5;28mprint\u001b[39m(z)\n",
      "\u001b[1;31mTypeError\u001b[0m: unsupported operand type(s) for +: 'int' and 'str'"
     ]
    }
   ],
   "source": [
    "x = 100\n",
    "y = 'Mango'\n",
    "\n",
    "z = x + y\n",
    "print(z)"
   ]
  },
  {
   "cell_type": "code",
   "execution_count": 47,
   "id": "b2eca114",
   "metadata": {},
   "outputs": [
    {
     "name": "stdout",
     "output_type": "stream",
     "text": [
      "20000\n"
     ]
    }
   ],
   "source": [
    "x = 100\n",
    "y = 200\n",
    "\n",
    "z = x * y\n",
    "print(z)"
   ]
  },
  {
   "cell_type": "code",
   "execution_count": null,
   "id": "bb9876e9",
   "metadata": {},
   "outputs": [],
   "source": []
  }
 ],
 "metadata": {
  "kernelspec": {
   "display_name": "Python 3 (ipykernel)",
   "language": "python",
   "name": "python3"
  },
  "language_info": {
   "codemirror_mode": {
    "name": "ipython",
    "version": 3
   },
   "file_extension": ".py",
   "mimetype": "text/x-python",
   "name": "python",
   "nbconvert_exporter": "python",
   "pygments_lexer": "ipython3",
   "version": "3.11.5"
  }
 },
 "nbformat": 4,
 "nbformat_minor": 5
}
