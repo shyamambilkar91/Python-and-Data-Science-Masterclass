{
 "cells": [
  {
   "cell_type": "markdown",
   "id": "5c88d56e",
   "metadata": {},
   "source": [
    "# Data Types"
   ]
  },
  {
   "cell_type": "markdown",
   "id": "0d7570d6",
   "metadata": {},
   "source": [
    "### There are 7 diffrent data types"
   ]
  },
  {
   "cell_type": "markdown",
   "id": "d6157739",
   "metadata": {},
   "source": [
    "1. Text Type:\n",
    "    1. String [str]\n",
    "    2. Example:\n",
    "        1. \"Shyam Ambilkar\", 'Rohen Gandhi', '12'\n",
    "        \n",
    "2. Numeric Type:\n",
    "    1. Integer [int] Example- 10,20,30\n",
    "    2. Float [float] Example - 10.15, 45.23\n",
    "    3. Complex [complex] Example - i6,\n",
    "3. Sequence Type:\n",
    "    1. List [list] Example - my_list = ['Tushar','Ambika','Shubham','Rohen']\n",
    "    2. Tuple [tuple] Example - my_tuple = ('Tushar','Ambika','Shubham','Rohen')\n",
    "    3. Range [range] Example - range(5)\n",
    "4. Mapping Type:\n",
    "    1. Dictionary [dict] Example - my_dict = {}\n",
    "5. Set Types:\n",
    "    1. Set [set]\n",
    "    2. Frozenset [frozenset]\n",
    "6. Boolean Types:\n",
    "    1. Boolean [bool]\n",
    "7. Binary Types:\n",
    "    1. Bytes [bytes]\n",
    "    2. Bytearrry [bytearray]\n",
    "    3. Memoryview [memoryview]"
   ]
  },
  {
   "cell_type": "markdown",
   "id": "1a5af154",
   "metadata": {},
   "source": [
    "### 1. Text Type - String [str]"
   ]
  },
  {
   "cell_type": "code",
   "execution_count": 3,
   "id": "40e1fa9f",
   "metadata": {},
   "outputs": [
    {
     "name": "stdout",
     "output_type": "stream",
     "text": [
      "Welcome to Python & Data Science Class\n",
      "<class 'str'>\n"
     ]
    }
   ],
   "source": [
    "my_str = \"Welcome to Python & Data Science Class\"\n",
    "print(my_str)\n",
    "print(type(my_str))"
   ]
  },
  {
   "cell_type": "code",
   "execution_count": 4,
   "id": "cde2f366",
   "metadata": {},
   "outputs": [
    {
     "name": "stdout",
     "output_type": "stream",
     "text": [
      "Welcome to Python & Data Science Class\n",
      "<class 'str'>\n"
     ]
    }
   ],
   "source": [
    "my_str = 'Welcome to Python & Data Science Class'\n",
    "print(my_str)\n",
    "print(type(my_str))"
   ]
  },
  {
   "cell_type": "code",
   "execution_count": 5,
   "id": "11f936c6",
   "metadata": {},
   "outputs": [
    {
     "name": "stdout",
     "output_type": "stream",
     "text": [
      " Welcome to Python & Data Science Class Welcome to \n",
      "Python & Data Science Class \n",
      "Welcome to Python & Data Science Class\n",
      "<class 'str'>\n"
     ]
    }
   ],
   "source": [
    "my_str = \"\"\" Welcome to Python & Data Science Class Welcome to \n",
    "Python & Data Science Class \n",
    "Welcome to Python & Data Science Class\"\"\"\n",
    "\n",
    "print(my_str)\n",
    "print(type(my_str))"
   ]
  },
  {
   "cell_type": "code",
   "execution_count": 7,
   "id": "dd5377cf",
   "metadata": {},
   "outputs": [
    {
     "name": "stdout",
     "output_type": "stream",
     "text": [
      "Welcome to Python & Data Science Class Welcome to \n",
      "Python & Data Science Class \n",
      "Welcome to Python & Data Science Class \n",
      "<class 'str'>\n"
     ]
    }
   ],
   "source": [
    "my_str = '''Welcome to Python & Data Science Class Welcome to \n",
    "Python & Data Science Class \n",
    "Welcome to Python & Data Science Class '''\n",
    "print(my_str)\n",
    "print(type(my_str))"
   ]
  },
  {
   "cell_type": "code",
   "execution_count": 6,
   "id": "1ebf6562",
   "metadata": {},
   "outputs": [
    {
     "ename": "SyntaxError",
     "evalue": "unterminated string literal (detected at line 1) (3797874677.py, line 1)",
     "output_type": "error",
     "traceback": [
      "\u001b[1;36m  Cell \u001b[1;32mIn[6], line 1\u001b[1;36m\u001b[0m\n\u001b[1;33m    my_str = \"Welcome to Python & Data Science Class Welcome to\u001b[0m\n\u001b[1;37m             ^\u001b[0m\n\u001b[1;31mSyntaxError\u001b[0m\u001b[1;31m:\u001b[0m unterminated string literal (detected at line 1)\n"
     ]
    }
   ],
   "source": [
    "my_str = \"Welcome to Python & Data Science Class Welcome to \n",
    "Python & Data Science Class \n",
    "Welcome to Python & Data Science Class\"\n",
    "\n",
    "print(my_str)"
   ]
  },
  {
   "cell_type": "markdown",
   "id": "c2e71929",
   "metadata": {},
   "source": [
    "## 2. Numeric "
   ]
  },
  {
   "cell_type": "markdown",
   "id": "a795c75f",
   "metadata": {},
   "source": [
    "### 1. Integer [int]"
   ]
  },
  {
   "cell_type": "code",
   "execution_count": 8,
   "id": "2633864e",
   "metadata": {},
   "outputs": [
    {
     "name": "stdout",
     "output_type": "stream",
     "text": [
      "100\n",
      "<class 'int'>\n"
     ]
    }
   ],
   "source": [
    "my_num = 100\n",
    "print(my_num)\n",
    "print(type(my_num))"
   ]
  },
  {
   "cell_type": "markdown",
   "id": "92ebbfba",
   "metadata": {},
   "source": [
    "### 2. Float"
   ]
  },
  {
   "cell_type": "code",
   "execution_count": 9,
   "id": "2a80f176",
   "metadata": {},
   "outputs": [
    {
     "name": "stdout",
     "output_type": "stream",
     "text": [
      "100.45\n",
      "<class 'float'>\n"
     ]
    }
   ],
   "source": [
    "my_num = 100.45\n",
    "print(my_num)\n",
    "print(type(my_num))"
   ]
  },
  {
   "cell_type": "code",
   "execution_count": 10,
   "id": "c235d43d",
   "metadata": {},
   "outputs": [
    {
     "name": "stdout",
     "output_type": "stream",
     "text": [
      "100.0\n",
      "<class 'float'>\n"
     ]
    }
   ],
   "source": [
    "my_num = 100.\n",
    "print(my_num)\n",
    "print(type(my_num))"
   ]
  },
  {
   "cell_type": "code",
   "execution_count": 11,
   "id": "7b69519c",
   "metadata": {},
   "outputs": [
    {
     "name": "stdout",
     "output_type": "stream",
     "text": [
      "100.0\n",
      "<class 'float'>\n"
     ]
    }
   ],
   "source": [
    "my_num = float(100)\n",
    "print(my_num)\n",
    "print(type(my_num))"
   ]
  },
  {
   "cell_type": "code",
   "execution_count": 13,
   "id": "82c28361",
   "metadata": {},
   "outputs": [
    {
     "name": "stdout",
     "output_type": "stream",
     "text": [
      "100\n",
      "<class 'int'>\n"
     ]
    }
   ],
   "source": [
    "my_num = int(100.85)\n",
    "print(my_num)\n",
    "print(type(my_num))"
   ]
  },
  {
   "cell_type": "markdown",
   "id": "513153ee",
   "metadata": {},
   "source": [
    "### 3. Complex"
   ]
  },
  {
   "cell_type": "code",
   "execution_count": 14,
   "id": "7a9615ad",
   "metadata": {},
   "outputs": [
    {
     "name": "stdout",
     "output_type": "stream",
     "text": [
      "4j\n",
      "<class 'complex'>\n"
     ]
    }
   ],
   "source": [
    "my_num = 4j\n",
    "print(my_num)\n",
    "print(type(my_num))"
   ]
  },
  {
   "cell_type": "code",
   "execution_count": 15,
   "id": "76679527",
   "metadata": {},
   "outputs": [
    {
     "ename": "TypeError",
     "evalue": "int() argument must be a string, a bytes-like object or a real number, not 'complex'",
     "output_type": "error",
     "traceback": [
      "\u001b[1;31m---------------------------------------------------------------------------\u001b[0m",
      "\u001b[1;31mTypeError\u001b[0m                                 Traceback (most recent call last)",
      "Cell \u001b[1;32mIn[15], line 1\u001b[0m\n\u001b[1;32m----> 1\u001b[0m my_num \u001b[38;5;241m=\u001b[39m \u001b[38;5;28mint\u001b[39m(\u001b[38;5;241m4\u001b[39mj)\n\u001b[0;32m      2\u001b[0m \u001b[38;5;28mprint\u001b[39m(my_num)\n\u001b[0;32m      3\u001b[0m \u001b[38;5;28mprint\u001b[39m(\u001b[38;5;28mtype\u001b[39m(my_num))\n",
      "\u001b[1;31mTypeError\u001b[0m: int() argument must be a string, a bytes-like object or a real number, not 'complex'"
     ]
    }
   ],
   "source": [
    "my_num = int(4j)\n",
    "print(my_num)\n",
    "print(type(my_num))"
   ]
  },
  {
   "cell_type": "code",
   "execution_count": 16,
   "id": "8186c66c",
   "metadata": {},
   "outputs": [
    {
     "name": "stdout",
     "output_type": "stream",
     "text": [
      "(100+0j)\n",
      "<class 'complex'>\n"
     ]
    }
   ],
   "source": [
    "my_num = complex(100)\n",
    "print(my_num)\n",
    "print(type(my_num))"
   ]
  },
  {
   "cell_type": "code",
   "execution_count": 17,
   "id": "97afab4e",
   "metadata": {},
   "outputs": [
    {
     "name": "stdout",
     "output_type": "stream",
     "text": [
      "(100.89+0j)\n",
      "<class 'complex'>\n"
     ]
    }
   ],
   "source": [
    "my_num = complex(100.89)\n",
    "print(my_num)\n",
    "print(type(my_num))"
   ]
  },
  {
   "cell_type": "markdown",
   "id": "5e3b29a1",
   "metadata": {},
   "source": [
    "# Type Conversion"
   ]
  },
  {
   "cell_type": "code",
   "execution_count": 23,
   "id": "af38232b",
   "metadata": {},
   "outputs": [
    {
     "name": "stdout",
     "output_type": "stream",
     "text": [
      "60.0 (60+0j)\n",
      "(60+0j)\n",
      "50\n",
      "(50.45+0j)\n",
      "<class 'float'>\n",
      "<class 'complex'>\n",
      "<class 'int'>\n",
      "<class 'complex'>\n"
     ]
    }
   ],
   "source": [
    "my_num_1 = 60 #Integer Number\n",
    "my_num_2 = 50.45 # Float Number\n",
    "my_num_3 = 1j # Complex Number\n",
    "\n",
    "# Convert Integer Number to float or complex\n",
    "op_1 = float(my_num_1)\n",
    "op_2 = complex(my_num_1)\n",
    "\n",
    "#Convert Float Number to Integer or Complex\n",
    "op_3 = int(my_num_2)\n",
    "op_4 = complex(my_num_2)\n",
    "\n",
    "print(op_1,op_2)\n",
    "print(op_2)\n",
    "\n",
    "print(op_3)\n",
    "print(op_4)\n",
    "\n",
    "print(type(op_1))\n",
    "print(type(op_2))\n",
    "print(type(op_3))\n",
    "print(type(op_4))"
   ]
  },
  {
   "cell_type": "markdown",
   "id": "f503338f",
   "metadata": {},
   "source": [
    "#### Note - You cannot convert complex number into another number type"
   ]
  },
  {
   "cell_type": "code",
   "execution_count": 24,
   "id": "da55d90b",
   "metadata": {},
   "outputs": [],
   "source": [
    "import random"
   ]
  },
  {
   "cell_type": "code",
   "execution_count": 25,
   "id": "aaf1f24c",
   "metadata": {},
   "outputs": [
    {
     "name": "stdout",
     "output_type": "stream",
     "text": [
      "3\n"
     ]
    }
   ],
   "source": [
    "print(random.randrange(1, 11))"
   ]
  },
  {
   "cell_type": "code",
   "execution_count": 27,
   "id": "5e2ce5c5",
   "metadata": {},
   "outputs": [
    {
     "name": "stdout",
     "output_type": "stream",
     "text": [
      "6\n"
     ]
    }
   ],
   "source": [
    "print(random.randint(1, 10))"
   ]
  },
  {
   "cell_type": "code",
   "execution_count": 30,
   "id": "2878d17f",
   "metadata": {},
   "outputs": [
    {
     "name": "stdout",
     "output_type": "stream",
     "text": [
      "0.10462208341298729\n"
     ]
    }
   ],
   "source": [
    "print(random.random())"
   ]
  },
  {
   "cell_type": "code",
   "execution_count": 31,
   "id": "c58030c9",
   "metadata": {},
   "outputs": [
    {
     "data": {
      "text/plain": [
       "0.07333455385731202"
      ]
     },
     "execution_count": 31,
     "metadata": {},
     "output_type": "execute_result"
    }
   ],
   "source": [
    "random.random()"
   ]
  },
  {
   "cell_type": "code",
   "execution_count": 34,
   "id": "4090d178",
   "metadata": {},
   "outputs": [
    {
     "data": {
      "text/plain": [
       "['mango']"
      ]
     },
     "execution_count": 34,
     "metadata": {},
     "output_type": "execute_result"
    }
   ],
   "source": [
    "my_list = ['apple','mango','cherry','blackcurrent','banana']\n",
    "\n",
    "my_list[1:2]"
   ]
  },
  {
   "cell_type": "code",
   "execution_count": 38,
   "id": "1b7206c8",
   "metadata": {},
   "outputs": [
    {
     "data": {
      "text/plain": [
       "'apple'"
      ]
     },
     "execution_count": 38,
     "metadata": {},
     "output_type": "execute_result"
    }
   ],
   "source": [
    "my_var = 'apple'\n",
    "\n",
    "my_var[:]"
   ]
  },
  {
   "cell_type": "code",
   "execution_count": null,
   "id": "ad72e61d",
   "metadata": {},
   "outputs": [],
   "source": []
  }
 ],
 "metadata": {
  "kernelspec": {
   "display_name": "Python 3 (ipykernel)",
   "language": "python",
   "name": "python3"
  },
  "language_info": {
   "codemirror_mode": {
    "name": "ipython",
    "version": 3
   },
   "file_extension": ".py",
   "mimetype": "text/x-python",
   "name": "python",
   "nbconvert_exporter": "python",
   "pygments_lexer": "ipython3",
   "version": "3.11.5"
  }
 },
 "nbformat": 4,
 "nbformat_minor": 5
}
