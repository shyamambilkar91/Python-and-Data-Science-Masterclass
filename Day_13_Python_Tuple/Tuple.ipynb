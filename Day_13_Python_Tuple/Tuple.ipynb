{
 "cells": [
  {
   "cell_type": "markdown",
   "id": "37b3996e",
   "metadata": {},
   "source": [
    "# Python Tuple"
   ]
  },
  {
   "cell_type": "markdown",
   "id": "9645a14e",
   "metadata": {},
   "source": [
    "1. Tuples are used to store multiple elements in single variable\n",
    "2. Tuples are used store collection of data\n",
    "3. Tuples are used to store **heterogeneous** of data but commonly use **homogeneous data**\n",
    "4. Tuples is a collection which is ordered and unchangeble\n",
    "5. Tuples are written with **round paranthesis**\n",
    "6. Tuples used paranthesis, whereas list are used square brackets\n",
    "7. Sequence value of tuple can be any type and indexing\n",
    "8. Tuple are created by placing sequence of value separated by comma\n",
    "9. Creation of Python without use of paranthesis is known as tuple packing.\n",
    "10. Tuple are used indexing duplicate elements allowed in tuple\n",
    "11. Tuple elements are **immutable**"
   ]
  },
  {
   "cell_type": "markdown",
   "id": "52667c49",
   "metadata": {},
   "source": [
    "### 1. Create Tuple"
   ]
  },
  {
   "cell_type": "code",
   "execution_count": 1,
   "id": "f0b74bc1",
   "metadata": {},
   "outputs": [],
   "source": [
    "my_tuple = (\"apple\",'mango','cherry',10,20,30,'banana',45.45,3.12)"
   ]
  },
  {
   "cell_type": "code",
   "execution_count": 2,
   "id": "64d164ff",
   "metadata": {},
   "outputs": [
    {
     "data": {
      "text/plain": [
       "('apple', 'mango', 'cherry', 10, 20, 30, 'banana', 45.45, 3.12)"
      ]
     },
     "execution_count": 2,
     "metadata": {},
     "output_type": "execute_result"
    }
   ],
   "source": [
    "my_tuple"
   ]
  },
  {
   "cell_type": "code",
   "execution_count": 3,
   "id": "451c9420",
   "metadata": {},
   "outputs": [
    {
     "data": {
      "text/plain": [
       "tuple"
      ]
     },
     "execution_count": 3,
     "metadata": {},
     "output_type": "execute_result"
    }
   ],
   "source": [
    "type(my_tuple)"
   ]
  },
  {
   "cell_type": "markdown",
   "id": "549bda29",
   "metadata": {},
   "source": [
    "### 2. Tuple Items"
   ]
  },
  {
   "cell_type": "markdown",
   "id": "8fae1344",
   "metadata": {},
   "source": [
    "1. Tuple items are ordered, unchangeble, and allow duplicate elements\n",
    "2. Tuple are indexed, first item has indexed position[0], second elements indexed positon [1]....."
   ]
  },
  {
   "cell_type": "code",
   "execution_count": 4,
   "id": "dd687fca",
   "metadata": {},
   "outputs": [],
   "source": [
    "my_tuple = (\"apple\",'mango','cherry','apple','mango')"
   ]
  },
  {
   "cell_type": "code",
   "execution_count": 5,
   "id": "2543eb39",
   "metadata": {},
   "outputs": [
    {
     "data": {
      "text/plain": [
       "('apple', 'mango', 'cherry', 'apple', 'mango')"
      ]
     },
     "execution_count": 5,
     "metadata": {},
     "output_type": "execute_result"
    }
   ],
   "source": [
    "my_tuple"
   ]
  },
  {
   "cell_type": "code",
   "execution_count": 6,
   "id": "168f01c9",
   "metadata": {},
   "outputs": [
    {
     "data": {
      "text/plain": [
       "'apple'"
      ]
     },
     "execution_count": 6,
     "metadata": {},
     "output_type": "execute_result"
    }
   ],
   "source": [
    "my_tuple[0]"
   ]
  },
  {
   "cell_type": "code",
   "execution_count": 7,
   "id": "31a78782",
   "metadata": {},
   "outputs": [
    {
     "data": {
      "text/plain": [
       "'apple'"
      ]
     },
     "execution_count": 7,
     "metadata": {},
     "output_type": "execute_result"
    }
   ],
   "source": [
    "my_tuple[3]"
   ]
  },
  {
   "cell_type": "markdown",
   "id": "ec930a6d",
   "metadata": {},
   "source": [
    "3. Ordered:\n",
    "    1. Tuple are ordered, that means item have a defined ordered that order will not change\n",
    "    \n",
    "4. Unchangeble(Immutable):\n",
    "    1. Tuple are unchangeble, that means we can not changge , add, or remove items in tuple after its creation\n",
    "    \n",
    "5. Allow Duplicates:\n",
    "    1. Tuples are indexed, tuple can have items with same value\n",
    "6. Tuple length:\n",
    "    1. how many elements in the tuple\n",
    "7. Creating a Tuple with single elements:\n",
    "    1. my_tuple = (\"apple\")\n",
    "8. Tuple items with DataTypes\n",
    "9. Tuple as Constructor\n",
    "10. Access Tuple Items:\n",
    "    1. Negative Indexing\n",
    "    2. Positive Indexing\n",
    "    3. Range Indexing"
   ]
  },
  {
   "cell_type": "markdown",
   "id": "7af3364b",
   "metadata": {},
   "source": [
    "### 1. Create Tuple"
   ]
  },
  {
   "cell_type": "code",
   "execution_count": 8,
   "id": "d431dded",
   "metadata": {},
   "outputs": [],
   "source": [
    "my_tuple = (\"apple\")"
   ]
  },
  {
   "cell_type": "code",
   "execution_count": 9,
   "id": "1bf7d833",
   "metadata": {},
   "outputs": [
    {
     "data": {
      "text/plain": [
       "'apple'"
      ]
     },
     "execution_count": 9,
     "metadata": {},
     "output_type": "execute_result"
    }
   ],
   "source": [
    "my_tuple"
   ]
  },
  {
   "cell_type": "code",
   "execution_count": 10,
   "id": "e3b74b38",
   "metadata": {},
   "outputs": [
    {
     "data": {
      "text/plain": [
       "str"
      ]
     },
     "execution_count": 10,
     "metadata": {},
     "output_type": "execute_result"
    }
   ],
   "source": [
    "type(my_tuple)"
   ]
  },
  {
   "cell_type": "code",
   "execution_count": 11,
   "id": "e87dc1ee",
   "metadata": {},
   "outputs": [
    {
     "data": {
      "text/plain": [
       "('apple',)"
      ]
     },
     "execution_count": 11,
     "metadata": {},
     "output_type": "execute_result"
    }
   ],
   "source": [
    "my_tuple = (\"apple\",)\n",
    "my_tuple"
   ]
  },
  {
   "cell_type": "code",
   "execution_count": 12,
   "id": "d16e84e0",
   "metadata": {},
   "outputs": [
    {
     "data": {
      "text/plain": [
       "tuple"
      ]
     },
     "execution_count": 12,
     "metadata": {},
     "output_type": "execute_result"
    }
   ],
   "source": [
    "type(my_tuple)"
   ]
  },
  {
   "cell_type": "code",
   "execution_count": 13,
   "id": "28fe6757",
   "metadata": {},
   "outputs": [
    {
     "name": "stdout",
     "output_type": "stream",
     "text": [
      "('apple', 'mango', 'cherry', 'apple', 'mango')\n",
      "<class 'tuple'>\n"
     ]
    }
   ],
   "source": [
    "my_tuple = (\"apple\",'mango','cherry','apple','mango')\n",
    "print(my_tuple)\n",
    "print(type(my_tuple))"
   ]
  },
  {
   "cell_type": "markdown",
   "id": "39866839",
   "metadata": {},
   "source": [
    "### 2. Tuple Elements"
   ]
  },
  {
   "cell_type": "code",
   "execution_count": 17,
   "id": "91b875a7",
   "metadata": {},
   "outputs": [],
   "source": [
    "my_tuple = (\"apple\",'mango','cherry','apple','mango','apple')"
   ]
  },
  {
   "cell_type": "code",
   "execution_count": 18,
   "id": "d3393aee",
   "metadata": {},
   "outputs": [
    {
     "data": {
      "text/plain": [
       "'mango'"
      ]
     },
     "execution_count": 18,
     "metadata": {},
     "output_type": "execute_result"
    }
   ],
   "source": [
    "my_tuple[1]"
   ]
  },
  {
   "cell_type": "code",
   "execution_count": 19,
   "id": "4fc6dc29",
   "metadata": {},
   "outputs": [
    {
     "data": {
      "text/plain": [
       "3"
      ]
     },
     "execution_count": 19,
     "metadata": {},
     "output_type": "execute_result"
    }
   ],
   "source": [
    "my_tuple.count(\"apple\")"
   ]
  },
  {
   "cell_type": "markdown",
   "id": "bbb11c93",
   "metadata": {},
   "source": [
    "### 3. Tuple Length"
   ]
  },
  {
   "cell_type": "code",
   "execution_count": 20,
   "id": "cf0a0161",
   "metadata": {},
   "outputs": [],
   "source": [
    "my_tuple = (\"apple\",'mango','cherry','apple','mango','apple')"
   ]
  },
  {
   "cell_type": "code",
   "execution_count": 21,
   "id": "c2bbce11",
   "metadata": {},
   "outputs": [
    {
     "data": {
      "text/plain": [
       "('apple', 'mango', 'cherry', 'apple', 'mango', 'apple')"
      ]
     },
     "execution_count": 21,
     "metadata": {},
     "output_type": "execute_result"
    }
   ],
   "source": [
    "my_tuple"
   ]
  },
  {
   "cell_type": "code",
   "execution_count": 22,
   "id": "82d59a22",
   "metadata": {},
   "outputs": [
    {
     "name": "stdout",
     "output_type": "stream",
     "text": [
      "6\n"
     ]
    }
   ],
   "source": [
    "print(len(my_tuple))"
   ]
  },
  {
   "cell_type": "markdown",
   "id": "5c979f41",
   "metadata": {},
   "source": [
    "### 4. Tuples Elements - Data Types"
   ]
  },
  {
   "cell_type": "code",
   "execution_count": 23,
   "id": "b303b49d",
   "metadata": {},
   "outputs": [],
   "source": [
    "my_tuple_1 = (\"apple\",'mango','cherry','apple','mango','apple')\n",
    "my_tuple_2 = (10,20,30,80,45,75)\n",
    "my_tuple_3 = (78.23,45.23,78.78)\n",
    "my_tuple_4 = (True, False, False, False, True)"
   ]
  },
  {
   "cell_type": "code",
   "execution_count": 24,
   "id": "fafcdd22",
   "metadata": {},
   "outputs": [
    {
     "name": "stdout",
     "output_type": "stream",
     "text": [
      "('apple', 'mango', 'cherry', 'apple', 'mango', 'apple')\n",
      "(10, 20, 30, 80, 45, 75)\n",
      "(78.23, 45.23, 78.78)\n",
      "(True, False, False, False, True)\n"
     ]
    }
   ],
   "source": [
    "print(my_tuple_1)\n",
    "print(my_tuple_2)\n",
    "print(my_tuple_3)\n",
    "print(my_tuple_4)"
   ]
  },
  {
   "cell_type": "code",
   "execution_count": 26,
   "id": "1cea7660",
   "metadata": {},
   "outputs": [
    {
     "name": "stdout",
     "output_type": "stream",
     "text": [
      "<class 'tuple'>\n",
      "<class 'tuple'>\n",
      "<class 'tuple'>\n",
      "<class 'tuple'>\n"
     ]
    }
   ],
   "source": [
    "print(type(my_tuple_1))\n",
    "print(type(my_tuple_2))\n",
    "print(type(my_tuple_3))\n",
    "print(type(my_tuple_4))"
   ]
  },
  {
   "cell_type": "markdown",
   "id": "db8d24f0",
   "metadata": {},
   "source": [
    "### 5. Access Elements:\n",
    "    1. Positive\n",
    "    2. Negative\n",
    "    3. Range"
   ]
  },
  {
   "cell_type": "markdown",
   "id": "62dfe519",
   "metadata": {},
   "source": [
    "### 1. Positive Indexing"
   ]
  },
  {
   "cell_type": "code",
   "execution_count": 29,
   "id": "b8baaf89",
   "metadata": {},
   "outputs": [],
   "source": [
    "my_tuple_1 = (\"apple\",'mango','cherry','watermelon','blackcurrent','apple', 'orange')"
   ]
  },
  {
   "cell_type": "code",
   "execution_count": 30,
   "id": "5531d9a0",
   "metadata": {},
   "outputs": [
    {
     "data": {
      "text/plain": [
       "('apple', 'mango', 'cherry', 'watermelon', 'blackcurrent', 'apple', 'orange')"
      ]
     },
     "execution_count": 30,
     "metadata": {},
     "output_type": "execute_result"
    }
   ],
   "source": [
    "my_tuple_1"
   ]
  },
  {
   "cell_type": "code",
   "execution_count": 31,
   "id": "9b2b8cd3",
   "metadata": {},
   "outputs": [
    {
     "data": {
      "text/plain": [
       "'blackcurrent'"
      ]
     },
     "execution_count": 31,
     "metadata": {},
     "output_type": "execute_result"
    }
   ],
   "source": [
    "my_tuple_1[4]"
   ]
  },
  {
   "cell_type": "code",
   "execution_count": 32,
   "id": "692e4c2f",
   "metadata": {},
   "outputs": [
    {
     "data": {
      "text/plain": [
       "'apple'"
      ]
     },
     "execution_count": 32,
     "metadata": {},
     "output_type": "execute_result"
    }
   ],
   "source": [
    "my_tuple_1[0]"
   ]
  },
  {
   "cell_type": "markdown",
   "id": "8262cb74",
   "metadata": {},
   "source": [
    "### 2. Negative Indexing"
   ]
  },
  {
   "cell_type": "code",
   "execution_count": 33,
   "id": "7665afa9",
   "metadata": {},
   "outputs": [],
   "source": [
    "my_tuple_1 = (\"apple\",'mango','cherry','watermelon','blackcurrent','apple', 'orange')"
   ]
  },
  {
   "cell_type": "code",
   "execution_count": 34,
   "id": "23d7b4ac",
   "metadata": {},
   "outputs": [
    {
     "data": {
      "text/plain": [
       "('apple', 'mango', 'cherry', 'watermelon', 'blackcurrent', 'apple', 'orange')"
      ]
     },
     "execution_count": 34,
     "metadata": {},
     "output_type": "execute_result"
    }
   ],
   "source": [
    "my_tuple_1"
   ]
  },
  {
   "cell_type": "code",
   "execution_count": 35,
   "id": "cc42f9a4",
   "metadata": {},
   "outputs": [
    {
     "data": {
      "text/plain": [
       "'orange'"
      ]
     },
     "execution_count": 35,
     "metadata": {},
     "output_type": "execute_result"
    }
   ],
   "source": [
    "my_tuple_1[-1]"
   ]
  },
  {
   "cell_type": "code",
   "execution_count": 36,
   "id": "f1edcb2a",
   "metadata": {},
   "outputs": [
    {
     "data": {
      "text/plain": [
       "'blackcurrent'"
      ]
     },
     "execution_count": 36,
     "metadata": {},
     "output_type": "execute_result"
    }
   ],
   "source": [
    "my_tuple_1[-3]"
   ]
  },
  {
   "cell_type": "markdown",
   "id": "db79f1ff",
   "metadata": {},
   "source": [
    "### 3. Range Indexing:\n",
    "    1. Positive Indexing\n",
    "    2. Negative Indexing"
   ]
  },
  {
   "cell_type": "markdown",
   "id": "0e756473",
   "metadata": {},
   "source": [
    "#### 1. Positive Indexing"
   ]
  },
  {
   "cell_type": "code",
   "execution_count": 39,
   "id": "f93793b3",
   "metadata": {},
   "outputs": [],
   "source": [
    "my_tuple = (\"apple\",'mango','cherry','watermelon','blackcurrent','apple', 'orange')"
   ]
  },
  {
   "cell_type": "code",
   "execution_count": 40,
   "id": "af7becc5",
   "metadata": {},
   "outputs": [
    {
     "data": {
      "text/plain": [
       "('apple', 'mango', 'cherry', 'watermelon', 'blackcurrent', 'apple', 'orange')"
      ]
     },
     "execution_count": 40,
     "metadata": {},
     "output_type": "execute_result"
    }
   ],
   "source": [
    "my_tuple"
   ]
  },
  {
   "cell_type": "code",
   "execution_count": 42,
   "id": "43c68790",
   "metadata": {},
   "outputs": [
    {
     "data": {
      "text/plain": [
       "('apple', 'mango', 'cherry', 'watermelon', 'blackcurrent', 'apple', 'orange')"
      ]
     },
     "execution_count": 42,
     "metadata": {},
     "output_type": "execute_result"
    }
   ],
   "source": [
    "my_tuple[:]"
   ]
  },
  {
   "cell_type": "code",
   "execution_count": 43,
   "id": "c5bfb3a3",
   "metadata": {},
   "outputs": [
    {
     "data": {
      "text/plain": [
       "('mango', 'cherry', 'watermelon', 'blackcurrent', 'apple', 'orange')"
      ]
     },
     "execution_count": 43,
     "metadata": {},
     "output_type": "execute_result"
    }
   ],
   "source": [
    "my_tuple[1:]"
   ]
  },
  {
   "cell_type": "code",
   "execution_count": 44,
   "id": "921bcc36",
   "metadata": {},
   "outputs": [
    {
     "data": {
      "text/plain": [
       "('mango', 'cherry', 'watermelon')"
      ]
     },
     "execution_count": 44,
     "metadata": {},
     "output_type": "execute_result"
    }
   ],
   "source": [
    "my_tuple[1:4]"
   ]
  },
  {
   "cell_type": "markdown",
   "id": "f5bf5ccb",
   "metadata": {},
   "source": [
    "### 2. Negative Indexing"
   ]
  },
  {
   "cell_type": "code",
   "execution_count": 45,
   "id": "711335c8",
   "metadata": {},
   "outputs": [],
   "source": [
    "my_tuple_1 = (\"apple\",'mango','cherry','watermelon','blackcurrent','apple', 'orange')"
   ]
  },
  {
   "cell_type": "code",
   "execution_count": 46,
   "id": "a75207c2",
   "metadata": {},
   "outputs": [
    {
     "data": {
      "text/plain": [
       "('apple', 'mango', 'cherry', 'watermelon', 'blackcurrent', 'apple')"
      ]
     },
     "execution_count": 46,
     "metadata": {},
     "output_type": "execute_result"
    }
   ],
   "source": [
    "my_tuple[:-1]"
   ]
  },
  {
   "cell_type": "code",
   "execution_count": 47,
   "id": "f433beeb",
   "metadata": {},
   "outputs": [
    {
     "data": {
      "text/plain": [
       "('orange',)"
      ]
     },
     "execution_count": 47,
     "metadata": {},
     "output_type": "execute_result"
    }
   ],
   "source": [
    "my_tuple[-1:]"
   ]
  },
  {
   "cell_type": "code",
   "execution_count": 49,
   "id": "dde96852",
   "metadata": {},
   "outputs": [
    {
     "data": {
      "text/plain": [
       "('cherry', 'watermelon', 'blackcurrent', 'apple')"
      ]
     },
     "execution_count": 49,
     "metadata": {},
     "output_type": "execute_result"
    }
   ],
   "source": [
    "my_tuple[-5:-1]"
   ]
  },
  {
   "cell_type": "markdown",
   "id": "38d42a58",
   "metadata": {},
   "source": [
    "## Tuples Updates"
   ]
  },
  {
   "cell_type": "code",
   "execution_count": 51,
   "id": "7da79e94",
   "metadata": {},
   "outputs": [],
   "source": [
    "my_tuple = (\"apple\",'mango','cherry','watermelon','blackcurrent','apple', 'orange')"
   ]
  },
  {
   "cell_type": "code",
   "execution_count": 52,
   "id": "9f098372",
   "metadata": {},
   "outputs": [
    {
     "ename": "TypeError",
     "evalue": "'tuple' object does not support item assignment",
     "output_type": "error",
     "traceback": [
      "\u001b[1;31m---------------------------------------------------------------------------\u001b[0m",
      "\u001b[1;31mTypeError\u001b[0m                                 Traceback (most recent call last)",
      "Cell \u001b[1;32mIn[52], line 1\u001b[0m\n\u001b[1;32m----> 1\u001b[0m my_tuple[\u001b[38;5;241m1\u001b[39m] \u001b[38;5;241m=\u001b[39m \u001b[38;5;124m'\u001b[39m\u001b[38;5;124mpapaya\u001b[39m\u001b[38;5;124m'\u001b[39m\n",
      "\u001b[1;31mTypeError\u001b[0m: 'tuple' object does not support item assignment"
     ]
    }
   ],
   "source": [
    "my_tuple[1] = 'papaya'"
   ]
  },
  {
   "cell_type": "code",
   "execution_count": 54,
   "id": "124999fe",
   "metadata": {},
   "outputs": [],
   "source": [
    "my_tuple = (\"apple\",'mango','cherry','watermelon','blackcurrent','apple', 'orange')"
   ]
  },
  {
   "cell_type": "code",
   "execution_count": 55,
   "id": "ceb47e1d",
   "metadata": {},
   "outputs": [],
   "source": [
    "my_list = list(my_tuple)"
   ]
  },
  {
   "cell_type": "code",
   "execution_count": 56,
   "id": "629fab8f",
   "metadata": {},
   "outputs": [
    {
     "data": {
      "text/plain": [
       "['apple', 'mango', 'cherry', 'watermelon', 'blackcurrent', 'apple', 'orange']"
      ]
     },
     "execution_count": 56,
     "metadata": {},
     "output_type": "execute_result"
    }
   ],
   "source": [
    "my_list"
   ]
  },
  {
   "cell_type": "code",
   "execution_count": 58,
   "id": "b3eed742",
   "metadata": {},
   "outputs": [
    {
     "name": "stdout",
     "output_type": "stream",
     "text": [
      "<class 'list'>\n",
      "<class 'tuple'>\n"
     ]
    }
   ],
   "source": [
    "print(type(my_list))\n",
    "print(type(my_tuple))"
   ]
  },
  {
   "cell_type": "code",
   "execution_count": 66,
   "id": "6ee2c9d0",
   "metadata": {},
   "outputs": [
    {
     "name": "stdout",
     "output_type": "stream",
     "text": [
      "<class 'tuple'>\n",
      "<class 'list'>\n",
      "After converting tuple into list:  ['apple', 'mango', 'cherry', 'watermelon', 'blackcurrent', 'apple', 'orange']\n",
      "After Replacing List elements:  ['apple', 'papaya', 'cherry', 'watermelon', 'blackcurrent', 'apple', 'orange']\n",
      "<class 'list'>\n",
      "('apple', 'papaya', 'cherry', 'watermelon', 'blackcurrent', 'apple', 'orange')\n"
     ]
    }
   ],
   "source": [
    "my_tuple_1 = (\"apple\",'mango','cherry','watermelon','blackcurrent','apple', 'orange')\n",
    "print(type(my_tuple_1))\n",
    "\n",
    "my_list = list(my_tuple_1)\n",
    "print(type(my_list))\n",
    "print(\"After converting tuple into list: \", my_list)\n",
    "\n",
    "my_list[1] = 'papaya'\n",
    "print(\"After Replacing List elements: \",my_list)\n",
    "print(type(my_list))\n",
    "\n",
    "my_tuple_1 = tuple(my_list)\n",
    "print(my_tuple_1)"
   ]
  },
  {
   "cell_type": "code",
   "execution_count": 77,
   "id": "df177719",
   "metadata": {},
   "outputs": [
    {
     "name": "stdout",
     "output_type": "stream",
     "text": [
      "('apple', 'mango', 'cherry', 'watermelon', 'blackcurrent', 'apple', 'orange')\n",
      "<class 'tuple'>\n",
      "['apple', 'papaya', 'cherry', 'watermelon', 'blackcurrent', 'apple', 'orange']\n",
      "<class 'list'>\n",
      "('apple', 'papaya', 'cherry', 'watermelon', 'blackcurrent', 'apple', 'orange')\n",
      "<class 'tuple'>\n"
     ]
    }
   ],
   "source": [
    "my_tuple = (\"apple\",'mango','cherry','watermelon','blackcurrent','apple', 'orange')\n",
    "# my_tuple[1] = \"papaya\"\n",
    "\n",
    "# Convert tuple into list by using list() function\n",
    "my_list = list(my_tuple)\n",
    "\n",
    "# Replace list elements \n",
    "my_list[1] = 'papaya'\n",
    "\n",
    "print(my_tuple)\n",
    "print(type(my_tuple))\n",
    "print(my_list)\n",
    "print(type(my_list))\n",
    "\n",
    "# Convert list into tuple by using tuple() function\n",
    "\n",
    "my_tuple = tuple(my_list)\n",
    "print(my_tuple)\n",
    "print(type(my_tuple))"
   ]
  },
  {
   "cell_type": "code",
   "execution_count": null,
   "id": "54cbf41d",
   "metadata": {},
   "outputs": [],
   "source": []
  }
 ],
 "metadata": {
  "kernelspec": {
   "display_name": "Python 3 (ipykernel)",
   "language": "python",
   "name": "python3"
  },
  "language_info": {
   "codemirror_mode": {
    "name": "ipython",
    "version": 3
   },
   "file_extension": ".py",
   "mimetype": "text/x-python",
   "name": "python",
   "nbconvert_exporter": "python",
   "pygments_lexer": "ipython3",
   "version": "3.11.5"
  }
 },
 "nbformat": 4,
 "nbformat_minor": 5
}
