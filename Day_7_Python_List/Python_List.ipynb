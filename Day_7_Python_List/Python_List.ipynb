{
 "cells": [
  {
   "cell_type": "markdown",
   "id": "e2378abc",
   "metadata": {},
   "source": [
    "# Python_List"
   ]
  },
  {
   "cell_type": "markdown",
   "id": "784ad88e",
   "metadata": {},
   "source": [
    "1. List are used to store collection of data\n",
    "2. List are used to store multiple item in single variable Example: my_list = ['apple','mango','cherry']\n",
    "3. List are like dynamic array\n",
    "4. List are used to store **hetrogeneous** of data such as integer, float, string, tuple, list, dictinary etc.\n",
    "5. List are used commonly ***homogeneous** of data or List are used to store collection of homogeneous of object [elements or data]\n",
    "6. List are **mutable** (can be change after creation)\n",
    "7. List should always used when we want to stoe some kind of data in some kind of order\n",
    "8. List elements are **indexed according to define sequence**\n",
    "9. List Indexing start from [0] being first elements\n",
    "10. List are allowed store duplicate elements in list\n",
    "11. Each elements in list are definite place in a list"
   ]
  },
  {
   "cell_type": "markdown",
   "id": "3d261fca",
   "metadata": {},
   "source": [
    "### There are diffrent parameters used in List:\n",
    "    1. List Items:\n",
    "        1. List Items or elements are changeble, and that allowed duplicates elements or object\n",
    "        2. List Items or elements are indexed first Item has indexed position [0], second elements [1]...etc.\n",
    "    2. Ordered:\n",
    "        1. List Items define order and that order will not change\n",
    "        2. In List new Items or elements added in list, new elements are store end of list\n",
    "    3. Changeble:\n",
    "        1. List are changeble means we can change, add, remove, insert elements of list after creation of list\n",
    "    4. Allowed Duplicates:\n",
    "        1. Allowed duplicates elements\n",
    "    5. List Items - Data Types:\n",
    "        1. List Items or elements are any data type (int, float, string)\n",
    "    6. Type -type()\n",
    "    7. List Constructor()\n",
    "    8. List Length:\n",
    "        1. How many number of elements in List"
   ]
  },
  {
   "cell_type": "code",
   "execution_count": 2,
   "id": "73a0cd72",
   "metadata": {},
   "outputs": [],
   "source": [
    "my_list = [] # Empty list"
   ]
  },
  {
   "cell_type": "code",
   "execution_count": 3,
   "id": "c16d13e7",
   "metadata": {},
   "outputs": [],
   "source": [
    "my_list = [10,20,30, 10.10,15.14, 'python','data','science',(10,'science',15.12),[10.10,15.14, 'python','data']]"
   ]
  },
  {
   "cell_type": "code",
   "execution_count": 4,
   "id": "6b950614",
   "metadata": {},
   "outputs": [
    {
     "name": "stdout",
     "output_type": "stream",
     "text": [
      "[10, 20, 30, 10.1, 15.14, 'python', 'data', 'science', (10, 'science', 15.12), [10.1, 15.14, 'python', 'data']]\n"
     ]
    }
   ],
   "source": [
    "print(my_list)"
   ]
  },
  {
   "cell_type": "code",
   "execution_count": 5,
   "id": "70d43db8",
   "metadata": {},
   "outputs": [],
   "source": [
    "my_list_1 = [10,20,30,40,50]\n",
    "my_list_2 = ['python','data','science']"
   ]
  },
  {
   "cell_type": "code",
   "execution_count": 7,
   "id": "5edd6be9",
   "metadata": {},
   "outputs": [
    {
     "name": "stdout",
     "output_type": "stream",
     "text": [
      "['python', 'data', 'science']\n"
     ]
    }
   ],
   "source": [
    "my_list_1 = ['python','data','science']\n",
    "print(my_list_1)"
   ]
  },
  {
   "cell_type": "code",
   "execution_count": 9,
   "id": "aecc5ef0",
   "metadata": {},
   "outputs": [],
   "source": [
    "my_list_1.insert(0,'apple')"
   ]
  },
  {
   "cell_type": "code",
   "execution_count": 10,
   "id": "9b27ab8d",
   "metadata": {},
   "outputs": [
    {
     "name": "stdout",
     "output_type": "stream",
     "text": [
      "['apple', 'python', 'data', 'science']\n"
     ]
    }
   ],
   "source": [
    "print(my_list_1)"
   ]
  },
  {
   "cell_type": "code",
   "execution_count": 11,
   "id": "f548a5c3",
   "metadata": {},
   "outputs": [
    {
     "data": {
      "text/plain": [
       "'science'"
      ]
     },
     "execution_count": 11,
     "metadata": {},
     "output_type": "execute_result"
    }
   ],
   "source": [
    "my_list_1.pop()"
   ]
  },
  {
   "cell_type": "code",
   "execution_count": 12,
   "id": "3fee4a5c",
   "metadata": {},
   "outputs": [],
   "source": [
    "my_list_1 = ['python','data','science']\n",
    "my_list_1.append('python')"
   ]
  },
  {
   "cell_type": "code",
   "execution_count": 13,
   "id": "81ecb3cd",
   "metadata": {},
   "outputs": [
    {
     "data": {
      "text/plain": [
       "['python', 'data', 'science', 'python']"
      ]
     },
     "execution_count": 13,
     "metadata": {},
     "output_type": "execute_result"
    }
   ],
   "source": [
    "my_list_1"
   ]
  },
  {
   "cell_type": "code",
   "execution_count": 14,
   "id": "53db40cf",
   "metadata": {},
   "outputs": [],
   "source": [
    "my_list_1 = ['python','data','science','akash']"
   ]
  },
  {
   "cell_type": "code",
   "execution_count": 15,
   "id": "beebff51",
   "metadata": {},
   "outputs": [],
   "source": [
    "my_list_1.append('akash')"
   ]
  },
  {
   "cell_type": "code",
   "execution_count": 16,
   "id": "3a5dbb41",
   "metadata": {},
   "outputs": [
    {
     "name": "stdout",
     "output_type": "stream",
     "text": [
      "['python', 'data', 'science', 'akash', 'akash']\n"
     ]
    }
   ],
   "source": [
    "print(my_list_1)"
   ]
  },
  {
   "cell_type": "markdown",
   "id": "904d38f3",
   "metadata": {},
   "source": [
    "### Access Elements in List"
   ]
  },
  {
   "cell_type": "markdown",
   "id": "1efa8669",
   "metadata": {},
   "source": [
    "### There are diffrent types to Access List Elements:\n",
    "    1. Positive Indexing\n",
    "    2. Negative Indexing\n",
    "    3. Range of Indexing:\n",
    "        1. Positive Indexing\n",
    "        2. Negative Indexing"
   ]
  },
  {
   "cell_type": "markdown",
   "id": "af61929f",
   "metadata": {},
   "source": [
    "### 1. Positive Indexing"
   ]
  },
  {
   "cell_type": "code",
   "execution_count": 17,
   "id": "3b65e508",
   "metadata": {},
   "outputs": [
    {
     "data": {
      "text/plain": [
       "10"
      ]
     },
     "execution_count": 17,
     "metadata": {},
     "output_type": "execute_result"
    }
   ],
   "source": [
    "my_list = [10,20,30, 10.10,15.14, 'python','data','science',(10,'science',15.12),[10.10,15.14, 'python','data']]\n",
    "\n",
    "my_list[0]"
   ]
  },
  {
   "cell_type": "code",
   "execution_count": 18,
   "id": "29907f2e",
   "metadata": {},
   "outputs": [
    {
     "data": {
      "text/plain": [
       "'python'"
      ]
     },
     "execution_count": 18,
     "metadata": {},
     "output_type": "execute_result"
    }
   ],
   "source": [
    "my_list[5]"
   ]
  },
  {
   "cell_type": "code",
   "execution_count": 19,
   "id": "a4b8df70",
   "metadata": {},
   "outputs": [
    {
     "data": {
      "text/plain": [
       "[10, 20, 30, 10.1, 15.14, 'python', 'data']"
      ]
     },
     "execution_count": 19,
     "metadata": {},
     "output_type": "execute_result"
    }
   ],
   "source": [
    "my_list[0:7] #[start_index : end_index [end_index - 1]]"
   ]
  },
  {
   "cell_type": "code",
   "execution_count": 20,
   "id": "e4b7607d",
   "metadata": {},
   "outputs": [
    {
     "data": {
      "text/plain": [
       "[10, 20, 30, 10.1, 15.14, 'python', 'data', 'science', (10, 'science', 15.12)]"
      ]
     },
     "execution_count": 20,
     "metadata": {},
     "output_type": "execute_result"
    }
   ],
   "source": [
    "my_list[:9]"
   ]
  },
  {
   "cell_type": "code",
   "execution_count": 21,
   "id": "e4b0bb1d",
   "metadata": {},
   "outputs": [
    {
     "ename": "IndexError",
     "evalue": "list index out of range",
     "output_type": "error",
     "traceback": [
      "\u001b[1;31m---------------------------------------------------------------------------\u001b[0m",
      "\u001b[1;31mIndexError\u001b[0m                                Traceback (most recent call last)",
      "Cell \u001b[1;32mIn[21], line 1\u001b[0m\n\u001b[1;32m----> 1\u001b[0m my_list[\u001b[38;5;241m10\u001b[39m][\u001b[38;5;241m1\u001b[39m]\n",
      "\u001b[1;31mIndexError\u001b[0m: list index out of range"
     ]
    }
   ],
   "source": [
    "my_list[10][1]"
   ]
  },
  {
   "cell_type": "code",
   "execution_count": 25,
   "id": "e3d31372",
   "metadata": {},
   "outputs": [
    {
     "data": {
      "text/plain": [
       "[10.1, 15.14, 'python', 'data']"
      ]
     },
     "execution_count": 25,
     "metadata": {},
     "output_type": "execute_result"
    }
   ],
   "source": [
    "my_list[9]"
   ]
  },
  {
   "cell_type": "code",
   "execution_count": 26,
   "id": "87f38972",
   "metadata": {},
   "outputs": [
    {
     "data": {
      "text/plain": [
       "10.1"
      ]
     },
     "execution_count": 26,
     "metadata": {},
     "output_type": "execute_result"
    }
   ],
   "source": [
    "my_list[9][0]"
   ]
  },
  {
   "cell_type": "code",
   "execution_count": 27,
   "id": "adfa86e6",
   "metadata": {},
   "outputs": [
    {
     "data": {
      "text/plain": [
       "[10.1, 15.14]"
      ]
     },
     "execution_count": 27,
     "metadata": {},
     "output_type": "execute_result"
    }
   ],
   "source": [
    "my_list[9][0:2]"
   ]
  },
  {
   "cell_type": "code",
   "execution_count": 28,
   "id": "0c515a66",
   "metadata": {},
   "outputs": [
    {
     "data": {
      "text/plain": [
       "(10, 'science', 15.12)"
      ]
     },
     "execution_count": 28,
     "metadata": {},
     "output_type": "execute_result"
    }
   ],
   "source": [
    "my_list[8]"
   ]
  },
  {
   "cell_type": "code",
   "execution_count": 29,
   "id": "b8f9f73f",
   "metadata": {},
   "outputs": [
    {
     "data": {
      "text/plain": [
       "'science'"
      ]
     },
     "execution_count": 29,
     "metadata": {},
     "output_type": "execute_result"
    }
   ],
   "source": [
    "my_list[8][1]"
   ]
  },
  {
   "cell_type": "code",
   "execution_count": 30,
   "id": "fa53a872",
   "metadata": {},
   "outputs": [
    {
     "data": {
      "text/plain": [
       "15.12"
      ]
     },
     "execution_count": 30,
     "metadata": {},
     "output_type": "execute_result"
    }
   ],
   "source": [
    "my_list[8][2]"
   ]
  },
  {
   "cell_type": "markdown",
   "id": "ee8b51d5",
   "metadata": {},
   "source": [
    "### 2. Negative Indexing"
   ]
  },
  {
   "cell_type": "code",
   "execution_count": 31,
   "id": "9168de0f",
   "metadata": {},
   "outputs": [
    {
     "data": {
      "text/plain": [
       "10"
      ]
     },
     "execution_count": 31,
     "metadata": {},
     "output_type": "execute_result"
    }
   ],
   "source": [
    "my_list = [10,20,30, 10.10,15.14, 'python','data','science',(10,'science',15.12),[10.10,15.14, 'python','data']]\n",
    "\n",
    "my_list[0]"
   ]
  },
  {
   "cell_type": "code",
   "execution_count": 32,
   "id": "53ccc2b1",
   "metadata": {},
   "outputs": [
    {
     "data": {
      "text/plain": [
       "[10.1, 15.14, 'python', 'data']"
      ]
     },
     "execution_count": 32,
     "metadata": {},
     "output_type": "execute_result"
    }
   ],
   "source": [
    "my_list[-1]"
   ]
  },
  {
   "cell_type": "code",
   "execution_count": 33,
   "id": "dab3b10e",
   "metadata": {},
   "outputs": [
    {
     "data": {
      "text/plain": [
       "[10.1, 15.14]"
      ]
     },
     "execution_count": 33,
     "metadata": {},
     "output_type": "execute_result"
    }
   ],
   "source": [
    "my_list[-1][:2]"
   ]
  },
  {
   "cell_type": "code",
   "execution_count": 35,
   "id": "dfdf5697",
   "metadata": {},
   "outputs": [
    {
     "data": {
      "text/plain": [
       "(10, 'science', 15.12)"
      ]
     },
     "execution_count": 35,
     "metadata": {},
     "output_type": "execute_result"
    }
   ],
   "source": [
    "my_list[-2]"
   ]
  },
  {
   "cell_type": "code",
   "execution_count": 37,
   "id": "04a70d51",
   "metadata": {},
   "outputs": [
    {
     "name": "stdout",
     "output_type": "stream",
     "text": [
      "Help on list object:\n",
      "\n",
      "class list(object)\n",
      " |  list(iterable=(), /)\n",
      " |  \n",
      " |  Built-in mutable sequence.\n",
      " |  \n",
      " |  If no argument is given, the constructor creates a new empty list.\n",
      " |  The argument must be an iterable if specified.\n",
      " |  \n",
      " |  Methods defined here:\n",
      " |  \n",
      " |  __add__(self, value, /)\n",
      " |      Return self+value.\n",
      " |  \n",
      " |  __contains__(self, key, /)\n",
      " |      Return key in self.\n",
      " |  \n",
      " |  __delitem__(self, key, /)\n",
      " |      Delete self[key].\n",
      " |  \n",
      " |  __eq__(self, value, /)\n",
      " |      Return self==value.\n",
      " |  \n",
      " |  __ge__(self, value, /)\n",
      " |      Return self>=value.\n",
      " |  \n",
      " |  __getattribute__(self, name, /)\n",
      " |      Return getattr(self, name).\n",
      " |  \n",
      " |  __getitem__(...)\n",
      " |      x.__getitem__(y) <==> x[y]\n",
      " |  \n",
      " |  __gt__(self, value, /)\n",
      " |      Return self>value.\n",
      " |  \n",
      " |  __iadd__(self, value, /)\n",
      " |      Implement self+=value.\n",
      " |  \n",
      " |  __imul__(self, value, /)\n",
      " |      Implement self*=value.\n",
      " |  \n",
      " |  __init__(self, /, *args, **kwargs)\n",
      " |      Initialize self.  See help(type(self)) for accurate signature.\n",
      " |  \n",
      " |  __iter__(self, /)\n",
      " |      Implement iter(self).\n",
      " |  \n",
      " |  __le__(self, value, /)\n",
      " |      Return self<=value.\n",
      " |  \n",
      " |  __len__(self, /)\n",
      " |      Return len(self).\n",
      " |  \n",
      " |  __lt__(self, value, /)\n",
      " |      Return self<value.\n",
      " |  \n",
      " |  __mul__(self, value, /)\n",
      " |      Return self*value.\n",
      " |  \n",
      " |  __ne__(self, value, /)\n",
      " |      Return self!=value.\n",
      " |  \n",
      " |  __repr__(self, /)\n",
      " |      Return repr(self).\n",
      " |  \n",
      " |  __reversed__(self, /)\n",
      " |      Return a reverse iterator over the list.\n",
      " |  \n",
      " |  __rmul__(self, value, /)\n",
      " |      Return value*self.\n",
      " |  \n",
      " |  __setitem__(self, key, value, /)\n",
      " |      Set self[key] to value.\n",
      " |  \n",
      " |  __sizeof__(self, /)\n",
      " |      Return the size of the list in memory, in bytes.\n",
      " |  \n",
      " |  append(self, object, /)\n",
      " |      Append object to the end of the list.\n",
      " |  \n",
      " |  clear(self, /)\n",
      " |      Remove all items from list.\n",
      " |  \n",
      " |  copy(self, /)\n",
      " |      Return a shallow copy of the list.\n",
      " |  \n",
      " |  count(self, value, /)\n",
      " |      Return number of occurrences of value.\n",
      " |  \n",
      " |  extend(self, iterable, /)\n",
      " |      Extend list by appending elements from the iterable.\n",
      " |  \n",
      " |  index(self, value, start=0, stop=9223372036854775807, /)\n",
      " |      Return first index of value.\n",
      " |      \n",
      " |      Raises ValueError if the value is not present.\n",
      " |  \n",
      " |  insert(self, index, object, /)\n",
      " |      Insert object before index.\n",
      " |  \n",
      " |  pop(self, index=-1, /)\n",
      " |      Remove and return item at index (default last).\n",
      " |      \n",
      " |      Raises IndexError if list is empty or index is out of range.\n",
      " |  \n",
      " |  remove(self, value, /)\n",
      " |      Remove first occurrence of value.\n",
      " |      \n",
      " |      Raises ValueError if the value is not present.\n",
      " |  \n",
      " |  reverse(self, /)\n",
      " |      Reverse *IN PLACE*.\n",
      " |  \n",
      " |  sort(self, /, *, key=None, reverse=False)\n",
      " |      Sort the list in ascending order and return None.\n",
      " |      \n",
      " |      The sort is in-place (i.e. the list itself is modified) and stable (i.e. the\n",
      " |      order of two equal elements is maintained).\n",
      " |      \n",
      " |      If a key function is given, apply it once to each list item and sort them,\n",
      " |      ascending or descending, according to their function values.\n",
      " |      \n",
      " |      The reverse flag can be set to sort in descending order.\n",
      " |  \n",
      " |  ----------------------------------------------------------------------\n",
      " |  Class methods defined here:\n",
      " |  \n",
      " |  __class_getitem__(...) from builtins.type\n",
      " |      See PEP 585\n",
      " |  \n",
      " |  ----------------------------------------------------------------------\n",
      " |  Static methods defined here:\n",
      " |  \n",
      " |  __new__(*args, **kwargs) from builtins.type\n",
      " |      Create and return a new object.  See help(type) for accurate signature.\n",
      " |  \n",
      " |  ----------------------------------------------------------------------\n",
      " |  Data and other attributes defined here:\n",
      " |  \n",
      " |  __hash__ = None\n",
      "\n"
     ]
    }
   ],
   "source": [
    "help(my_list)"
   ]
  },
  {
   "cell_type": "code",
   "execution_count": null,
   "id": "aeac9400",
   "metadata": {},
   "outputs": [],
   "source": []
  }
 ],
 "metadata": {
  "kernelspec": {
   "display_name": "Python 3 (ipykernel)",
   "language": "python",
   "name": "python3"
  },
  "language_info": {
   "codemirror_mode": {
    "name": "ipython",
    "version": 3
   },
   "file_extension": ".py",
   "mimetype": "text/x-python",
   "name": "python",
   "nbconvert_exporter": "python",
   "pygments_lexer": "ipython3",
   "version": "3.11.5"
  }
 },
 "nbformat": 4,
 "nbformat_minor": 5
}
