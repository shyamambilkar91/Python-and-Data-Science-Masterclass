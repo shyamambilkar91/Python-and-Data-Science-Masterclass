{
 "cells": [
  {
   "cell_type": "markdown",
   "id": "70e4b7a6",
   "metadata": {},
   "source": [
    "# Python Condition and If else Statement"
   ]
  },
  {
   "cell_type": "markdown",
   "id": "235a704e",
   "metadata": {},
   "source": [
    "1. Python supports the usual logical conditions from mathematics:\n",
    "    1. Equals a == b\n",
    "    2. Not Equals a != b\n",
    "    3. Less than a < b\n",
    "    4. Less than or equal to a <= b\n",
    "    5. Greater than a > b\n",
    "    6. Greater than or equal to a >= b"
   ]
  },
  {
   "cell_type": "markdown",
   "id": "f18792ee",
   "metadata": {},
   "source": [
    "These condition can be used in several ways, most commonly in if statement and loop"
   ]
  },
  {
   "cell_type": "code",
   "execution_count": 1,
   "id": "14375f46",
   "metadata": {},
   "outputs": [
    {
     "name": "stdout",
     "output_type": "stream",
     "text": [
      "y is greater than x\n"
     ]
    }
   ],
   "source": [
    "x = 56\n",
    "y = 100\n",
    "\n",
    "if y > x:\n",
    "    print(\"y is greater than x\")"
   ]
  },
  {
   "cell_type": "markdown",
   "id": "477cb7b7",
   "metadata": {},
   "source": [
    "**If statement without Indentation (it will raise an error)**"
   ]
  },
  {
   "cell_type": "code",
   "execution_count": 4,
   "id": "04847888",
   "metadata": {},
   "outputs": [
    {
     "ename": "IndentationError",
     "evalue": "expected an indented block after 'if' statement on line 4 (1995590534.py, line 5)",
     "output_type": "error",
     "traceback": [
      "\u001b[1;36m  Cell \u001b[1;32mIn[4], line 5\u001b[1;36m\u001b[0m\n\u001b[1;33m    print(\"y is greater than x\")\u001b[0m\n\u001b[1;37m    ^\u001b[0m\n\u001b[1;31mIndentationError\u001b[0m\u001b[1;31m:\u001b[0m expected an indented block after 'if' statement on line 4\n"
     ]
    }
   ],
   "source": [
    "x = 56\n",
    "y = 100\n",
    "\n",
    "if y > x:\n",
    "print(\"y is greater than x\")"
   ]
  },
  {
   "cell_type": "code",
   "execution_count": 8,
   "id": "6a2eaa71",
   "metadata": {},
   "outputs": [],
   "source": [
    "x = 56\n",
    "y = 100\n",
    "\n",
    "if y < x:\n",
    "    print(\"y is greater than x\")"
   ]
  },
  {
   "cell_type": "code",
   "execution_count": 12,
   "id": "5d86c955",
   "metadata": {},
   "outputs": [
    {
     "name": "stdout",
     "output_type": "stream",
     "text": [
      "y is not less than x\n"
     ]
    }
   ],
   "source": [
    "x = 56\n",
    "y = 100\n",
    "\n",
    "if y < x:\n",
    "    print(\"y is less than x\")\n",
    "else:\n",
    "    print(\"y is not less than x\")"
   ]
  },
  {
   "cell_type": "markdown",
   "id": "cd03539d",
   "metadata": {},
   "source": [
    "## Elif"
   ]
  },
  {
   "cell_type": "code",
   "execution_count": 6,
   "id": "9a4eb8d2",
   "metadata": {},
   "outputs": [],
   "source": [
    "x = 56\n",
    "y = 100\n",
    "\n",
    "if y < x:\n",
    "    print(\"y is greater than x\")\n",
    "elif y == x:\n",
    "    print(\" Y is eqaul to x\")"
   ]
  },
  {
   "cell_type": "code",
   "execution_count": 7,
   "id": "f9595937",
   "metadata": {},
   "outputs": [
    {
     "name": "stdout",
     "output_type": "stream",
     "text": [
      "y is not less than x\n"
     ]
    }
   ],
   "source": [
    "x = 56\n",
    "y = 100\n",
    "\n",
    "if y < x:\n",
    "    print(\"y is less than x\")\n",
    "elif y == x:\n",
    "    print(\" Y is eqaul to x\")\n",
    "else:\n",
    "    print(\"y is not less than x\")"
   ]
  },
  {
   "cell_type": "markdown",
   "id": "34c650b9",
   "metadata": {},
   "source": [
    "## 1. Write a Program to findout given number is Even or Odd"
   ]
  },
  {
   "cell_type": "code",
   "execution_count": 17,
   "id": "348c4458",
   "metadata": {},
   "outputs": [
    {
     "name": "stdout",
     "output_type": "stream",
     "text": [
      "Enter any Number to calculate Even or Odd: 40\n",
      "The 40 number is Even Number\n"
     ]
    }
   ],
   "source": [
    "my_num = int(input(\"Enter any Number to calculate Even or Odd: \"))\n",
    "\n",
    "if my_num % 2 == 0:\n",
    "    print(\"The {} number is Even Number\".format(my_num))\n",
    "else:\n",
    "    print(\"The given number is odd Number\")"
   ]
  },
  {
   "cell_type": "markdown",
   "id": "93424c49",
   "metadata": {},
   "source": [
    "## 2. Leap Year or Not"
   ]
  },
  {
   "cell_type": "code",
   "execution_count": 22,
   "id": "8e54e1fa",
   "metadata": {},
   "outputs": [
    {
     "name": "stdout",
     "output_type": "stream",
     "text": [
      "Enter any Year to be check Leap year or Not2025\n",
      "2025 is not leap year\n"
     ]
    }
   ],
   "source": [
    "my_year = int(input(\"Enter any Year to be check Leap year or Not\"))\n",
    "\n",
    "if (my_year % 4 == 0):\n",
    "    print(\"{} is leap year\".format(my_year))\n",
    "else:\n",
    "    print(\"{} is not leap year\".format(my_year))"
   ]
  },
  {
   "cell_type": "code",
   "execution_count": 23,
   "id": "75939ed3",
   "metadata": {},
   "outputs": [
    {
     "name": "stdout",
     "output_type": "stream",
     "text": [
      "y is not less than x and y is not eqal x\n"
     ]
    }
   ],
   "source": [
    "x = 56\n",
    "y = 100\n",
    "\n",
    "if y < x:\n",
    "    print(\"y is less than x\")\n",
    "elif y == x:\n",
    "    print(\" Y is eqaul to x\")\n",
    "else:\n",
    "    print(\"y is not less than x and y is not eqal x\")"
   ]
  },
  {
   "cell_type": "code",
   "execution_count": 27,
   "id": "f7d1adb8",
   "metadata": {},
   "outputs": [
    {
     "name": "stdout",
     "output_type": "stream",
     "text": [
      "Both condition are True\n"
     ]
    }
   ],
   "source": [
    "x = 200\n",
    "y = 56\n",
    "z = 400\n",
    "\n",
    "if x > y and z > x:\n",
    "    print(\"Both condition are True\")\n",
    "else:\n",
    "    print(\"Both condition are not true\")"
   ]
  },
  {
   "cell_type": "code",
   "execution_count": 28,
   "id": "63d33458",
   "metadata": {},
   "outputs": [
    {
     "name": "stdout",
     "output_type": "stream",
     "text": [
      "Both condition are not true\n"
     ]
    }
   ],
   "source": [
    "x = 200\n",
    "y = 56\n",
    "z = 400\n",
    "\n",
    "if x > y and z < x:\n",
    "    print(\"Both condition are True\")\n",
    "else:\n",
    "    print(\"Both condition are not true\")"
   ]
  },
  {
   "cell_type": "code",
   "execution_count": 29,
   "id": "916947cb",
   "metadata": {},
   "outputs": [
    {
     "name": "stdout",
     "output_type": "stream",
     "text": [
      "Any one condition are True\n"
     ]
    }
   ],
   "source": [
    "x = 200\n",
    "y = 56\n",
    "z = 400\n",
    "\n",
    "if x > y or z < x:\n",
    "    print(\"Any one condition are True\")\n",
    "else:\n",
    "    print(\"Both condition are False\")"
   ]
  },
  {
   "cell_type": "code",
   "execution_count": 30,
   "id": "19574f6a",
   "metadata": {},
   "outputs": [
    {
     "ename": "SyntaxError",
     "evalue": "incomplete input (2356684099.py, line 5)",
     "output_type": "error",
     "traceback": [
      "\u001b[1;36m  Cell \u001b[1;32mIn[30], line 5\u001b[1;36m\u001b[0m\n\u001b[1;33m    \u001b[0m\n\u001b[1;37m    ^\u001b[0m\n\u001b[1;31mSyntaxError\u001b[0m\u001b[1;31m:\u001b[0m incomplete input\n"
     ]
    }
   ],
   "source": [
    "x = 200\n",
    "y = 56\n",
    "\n",
    "if x > y:\n",
    "    "
   ]
  },
  {
   "cell_type": "code",
   "execution_count": 31,
   "id": "b422be23",
   "metadata": {},
   "outputs": [],
   "source": [
    "x = 200\n",
    "y = 56\n",
    "\n",
    "if x > y:\n",
    "    pass"
   ]
  },
  {
   "cell_type": "code",
   "execution_count": null,
   "id": "8114ec37",
   "metadata": {},
   "outputs": [],
   "source": []
  }
 ],
 "metadata": {
  "kernelspec": {
   "display_name": "Python 3 (ipykernel)",
   "language": "python",
   "name": "python3"
  },
  "language_info": {
   "codemirror_mode": {
    "name": "ipython",
    "version": 3
   },
   "file_extension": ".py",
   "mimetype": "text/x-python",
   "name": "python",
   "nbconvert_exporter": "python",
   "pygments_lexer": "ipython3",
   "version": "3.11.5"
  }
 },
 "nbformat": 4,
 "nbformat_minor": 5
}
