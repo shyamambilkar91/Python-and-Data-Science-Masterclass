{
 "cells": [
  {
   "cell_type": "markdown",
   "id": "229dd9a2",
   "metadata": {},
   "source": [
    "## Python - Two Sets"
   ]
  },
  {
   "cell_type": "code",
   "execution_count": 1,
   "id": "c8f7371c",
   "metadata": {},
   "outputs": [
    {
     "name": "stdout",
     "output_type": "stream",
     "text": [
      "{'cherry', 10, 45, 45.23, 78.2, 'apple', 25.23, 'watermelon', 62, 'mango'}\n"
     ]
    }
   ],
   "source": [
    "my_set_1 = {'apple','mango','cherry',10,62,45,'watermelon'}\n",
    "my_set_2 = {45.23, 78.20, 25.23}\n",
    "\n",
    "my_set_3 = my_set_1.union(my_set_2)\n",
    "print(my_set_3)"
   ]
  },
  {
   "cell_type": "code",
   "execution_count": 2,
   "id": "e92e3d1c",
   "metadata": {},
   "outputs": [
    {
     "name": "stdout",
     "output_type": "stream",
     "text": [
      "None\n"
     ]
    }
   ],
   "source": [
    "my_set_1 = {'apple','mango','cherry',10,62,45,'watermelon'}\n",
    "my_set_2 = {45.23, 78.20, 25.23}\n",
    "\n",
    "my_set_3 = my_set_1.update(my_set_2)\n",
    "print(my_set_3)"
   ]
  },
  {
   "cell_type": "code",
   "execution_count": 3,
   "id": "fb9f8472",
   "metadata": {},
   "outputs": [
    {
     "name": "stdout",
     "output_type": "stream",
     "text": [
      "{'cherry', 10, 45, 45.23, 78.2, 'apple', 25.23, 'watermelon', 62, 'mango'}\n"
     ]
    }
   ],
   "source": [
    "my_set_1 = {'apple','mango','cherry',10,62,45,'watermelon'}\n",
    "my_set_2 = {45.23, 78.20, 25.23}\n",
    "\n",
    "my_set_1.update(my_set_2)\n",
    "print(my_set_1)"
   ]
  },
  {
   "cell_type": "code",
   "execution_count": 5,
   "id": "0b0a6a54",
   "metadata": {},
   "outputs": [
    {
     "name": "stdout",
     "output_type": "stream",
     "text": [
      "{'cherry', 10, 45.23, 78.2, 45, 'apple', 25.23, 'watermelon', 62, 'mango'}\n"
     ]
    }
   ],
   "source": [
    "my_set_1 = {'apple','mango','cherry',10,62,45,'watermelon'}\n",
    "my_set_2 = {45.23, 78.20, 25.23}\n",
    "\n",
    "my_set_2.update(my_set_1)\n",
    "print(my_set_2)"
   ]
  },
  {
   "cell_type": "code",
   "execution_count": 6,
   "id": "3902fe11",
   "metadata": {},
   "outputs": [
    {
     "name": "stdout",
     "output_type": "stream",
     "text": [
      "{'cherry', 10, 45.23, 78.2, 45, 'apple', 25.23, 'watermelon', 62, 'mango'}\n"
     ]
    }
   ],
   "source": [
    "my_set_1 = {'apple','mango','cherry',10,62,45,'watermelon'}\n",
    "my_set_2 = {45.23, 78.20, 25.23,'apple','mango'}\n",
    "\n",
    "my_set_2.update(my_set_1)\n",
    "print(my_set_2)"
   ]
  },
  {
   "cell_type": "markdown",
   "id": "c86767f2",
   "metadata": {},
   "source": [
    "**Note : Both union() and update() will exclude any duplicate item**"
   ]
  },
  {
   "cell_type": "markdown",
   "id": "83ed8d27",
   "metadata": {},
   "source": [
    "## Keep ONly The Duplicate:\n",
    "    1. The intersection_upate() method will keep only duplicate elements from set that are present in the current both sets."
   ]
  },
  {
   "cell_type": "code",
   "execution_count": 7,
   "id": "37009a52",
   "metadata": {},
   "outputs": [
    {
     "name": "stdout",
     "output_type": "stream",
     "text": [
      "{'apple', 'mango'}\n"
     ]
    }
   ],
   "source": [
    "my_set_1 = {'apple','mango','cherry',10,62,45,'watermelon'}\n",
    "my_set_2 = {45.23, 78.20, 25.23,'apple','mango'}\n",
    "\n",
    "my_set_1.intersection_update(my_set_2)\n",
    "print(my_set_1)"
   ]
  },
  {
   "cell_type": "code",
   "execution_count": 9,
   "id": "ab77ce46",
   "metadata": {},
   "outputs": [
    {
     "name": "stdout",
     "output_type": "stream",
     "text": [
      "None\n"
     ]
    }
   ],
   "source": [
    "my_set_1 = {'apple','mango','cherry',10,62,45,'watermelon'}\n",
    "my_set_2 = {45.23, 78.20, 25.23,'apple','mango'}\n",
    "\n",
    "my_set_3 = my_set_1.intersection_update(my_set_2)\n",
    "print(my_set_3)"
   ]
  },
  {
   "cell_type": "code",
   "execution_count": 11,
   "id": "7847c817",
   "metadata": {},
   "outputs": [
    {
     "name": "stdout",
     "output_type": "stream",
     "text": [
      "{'apple', 'mango'}\n"
     ]
    }
   ],
   "source": [
    "my_set_1 = {'apple','mango','cherry',10,62,45,'watermelon'}\n",
    "my_set_2 = {45.23, 78.20, 25.23,'apple','mango'}\n",
    "\n",
    "my_set_2.intersection_update(my_set_1)\n",
    "print(my_set_2)"
   ]
  },
  {
   "cell_type": "markdown",
   "id": "c86fb833",
   "metadata": {},
   "source": [
    "**In a set intersection() method will return a new set, that only contains duplicate elements from both sets**"
   ]
  },
  {
   "cell_type": "code",
   "execution_count": 10,
   "id": "7f941d19",
   "metadata": {},
   "outputs": [
    {
     "name": "stdout",
     "output_type": "stream",
     "text": [
      "{'apple', 'mango'}\n"
     ]
    }
   ],
   "source": [
    "my_set_1 = {'apple','mango','cherry',10,62,45,'watermelon'}\n",
    "my_set_2 = {45.23, 78.20, 25.23,'apple','mango'}\n",
    "\n",
    "my_set_3 = my_set_1.intersection(my_set_2)\n",
    "print(my_set_3)"
   ]
  },
  {
   "cell_type": "markdown",
   "id": "9128914e",
   "metadata": {},
   "source": [
    "### Keep all, but not duplicate elements:\n",
    "    1. The symmetric_difference_update() method will keep only the elements that are NOT present in both sets"
   ]
  },
  {
   "cell_type": "code",
   "execution_count": 12,
   "id": "02c2fd7a",
   "metadata": {},
   "outputs": [
    {
     "name": "stdout",
     "output_type": "stream",
     "text": [
      "{'cherry', 10, 78.2, 25.23, 45.23, 45, 'watermelon', 62}\n"
     ]
    }
   ],
   "source": [
    "my_set_1 = {'apple','mango','cherry',10,62,45,'watermelon'}\n",
    "my_set_2 = {45.23, 78.20, 25.23,'apple','mango'}\n",
    "\n",
    "my_set_1.symmetric_difference_update(my_set_2)\n",
    "print(my_set_1)"
   ]
  },
  {
   "cell_type": "code",
   "execution_count": 14,
   "id": "06a86ff4",
   "metadata": {},
   "outputs": [
    {
     "name": "stdout",
     "output_type": "stream",
     "text": [
      "None\n"
     ]
    }
   ],
   "source": [
    "my_set_1 = {'apple','mango','cherry',10,62,45,'watermelon'}\n",
    "my_set_2 = {45.23, 78.20, 25.23,'apple','mango'}\n",
    "\n",
    "my_set_3 = my_set_1.symmetric_difference_update(my_set_2)\n",
    "print(my_set_3)"
   ]
  },
  {
   "cell_type": "code",
   "execution_count": 13,
   "id": "cbe60fc6",
   "metadata": {},
   "outputs": [
    {
     "name": "stdout",
     "output_type": "stream",
     "text": [
      "{'cherry', 10, 78.2, 25.23, 45, 45.23, 'watermelon', 62}\n"
     ]
    }
   ],
   "source": [
    "my_set_1 = {'apple','mango','cherry',10,62,45,'watermelon'}\n",
    "my_set_2 = {45.23, 78.20, 25.23,'apple','mango'}\n",
    "\n",
    "my_set_3 = my_set_1.symmetric_difference(my_set_2)\n",
    "print(my_set_3)"
   ]
  },
  {
   "cell_type": "code",
   "execution_count": 15,
   "id": "f93642e0",
   "metadata": {},
   "outputs": [
    {
     "name": "stdout",
     "output_type": "stream",
     "text": [
      "{'cherry', 10, 78.2, 25.23, 45, 45.23, 'watermelon', 62}\n"
     ]
    }
   ],
   "source": [
    "my_set_1 = {'apple','mango','cherry',10,62,45,'watermelon',True}\n",
    "my_set_2 = {45.23, 78.20, 25.23,'apple','mango', 1}\n",
    "\n",
    "my_set_3 = my_set_1.symmetric_difference(my_set_2)\n",
    "print(my_set_3)"
   ]
  },
  {
   "cell_type": "code",
   "execution_count": 16,
   "id": "d58dfab3",
   "metadata": {},
   "outputs": [
    {
     "name": "stdout",
     "output_type": "stream",
     "text": [
      "{False, 1, 'cherry', 10, 78.2, 25.23, 45.23, 45, 'watermelon', 62}\n"
     ]
    }
   ],
   "source": [
    "my_set_1 = {'apple','mango','cherry',10,62,45,'watermelon',False}\n",
    "my_set_2 = {45.23, 78.20, 25.23,'apple','mango', 1}\n",
    "\n",
    "my_set_3 = my_set_1.symmetric_difference(my_set_2)\n",
    "print(my_set_3)"
   ]
  },
  {
   "cell_type": "code",
   "execution_count": 17,
   "id": "29550469",
   "metadata": {},
   "outputs": [
    {
     "name": "stdout",
     "output_type": "stream",
     "text": [
      "{'cherry', 10, 78.2, 25.23, 45, 45.23, 'watermelon', 62}\n"
     ]
    }
   ],
   "source": [
    "my_set_1 = {'apple','mango','cherry',10,62,45,'watermelon',False}\n",
    "my_set_2 = {45.23, 78.20, 25.23,'apple','mango', 0}\n",
    "\n",
    "my_set_3 = my_set_1.symmetric_difference(my_set_2)\n",
    "print(my_set_3)"
   ]
  },
  {
   "cell_type": "markdown",
   "id": "a5550047",
   "metadata": {},
   "source": [
    "**Note : The value True and 1 are considered the same value in sets, and are treated as duplicate value**"
   ]
  },
  {
   "cell_type": "markdown",
   "id": "808dba79",
   "metadata": {},
   "source": [
    "## 1. isdisjoint() method:\n",
    "    1. Return True if No elements(items) in set (my_set_1) is present in (my_set_2)\n",
    "    2. The isdisjoint() method return True if none of the same elements are present in both sets, otherwise it will return False"
   ]
  },
  {
   "cell_type": "code",
   "execution_count": 18,
   "id": "9d98676c",
   "metadata": {},
   "outputs": [
    {
     "name": "stdout",
     "output_type": "stream",
     "text": [
      "False\n"
     ]
    }
   ],
   "source": [
    "my_set_1 = {'apple','mango','cherry',10,62,45,'watermelon',False}\n",
    "my_set_2 = {45.23, 78.20, 25.23,'apple','mango', 0}\n",
    "\n",
    "my_set_3 = my_set_1.isdisjoint(my_set_2)\n",
    "print(my_set_3)"
   ]
  },
  {
   "cell_type": "code",
   "execution_count": 19,
   "id": "24145c50",
   "metadata": {},
   "outputs": [
    {
     "name": "stdout",
     "output_type": "stream",
     "text": [
      "True\n"
     ]
    }
   ],
   "source": [
    "my_set_1 = {'apple','mango','cherry',10,62,45,'watermelon',False}\n",
    "my_set_2 = {45.23, 78.20, 25.23}\n",
    "\n",
    "my_set_3 = my_set_1.isdisjoint(my_set_2)\n",
    "print(my_set_3)"
   ]
  },
  {
   "cell_type": "code",
   "execution_count": 21,
   "id": "8b10aa1f",
   "metadata": {},
   "outputs": [
    {
     "name": "stdout",
     "output_type": "stream",
     "text": [
      "True\n"
     ]
    }
   ],
   "source": [
    "my_set_1 = {'apple','mango','cherry'}\n",
    "my_set_2 = {'watermelon','banana'}\n",
    "\n",
    "my_set_3 = my_set_1.isdisjoint(my_set_2)\n",
    "print(my_set_3)"
   ]
  },
  {
   "cell_type": "code",
   "execution_count": 22,
   "id": "28d3effb",
   "metadata": {},
   "outputs": [
    {
     "name": "stdout",
     "output_type": "stream",
     "text": [
      "False\n"
     ]
    }
   ],
   "source": [
    "my_set_1 = {'apple','mango','cherry'}\n",
    "my_set_2 = {'watermelon','banana','apple'}\n",
    "\n",
    "my_set_3 = my_set_1.isdisjoint(my_set_2)\n",
    "print(my_set_3)"
   ]
  },
  {
   "cell_type": "markdown",
   "id": "f53dea4c",
   "metadata": {},
   "source": [
    "## 2. issubset() Method"
   ]
  },
  {
   "cell_type": "markdown",
   "id": "5efe494f",
   "metadata": {},
   "source": [
    "1. Return True if all items are set 1 are present in set 2"
   ]
  },
  {
   "cell_type": "code",
   "execution_count": 23,
   "id": "1f1c3d98",
   "metadata": {},
   "outputs": [
    {
     "name": "stdout",
     "output_type": "stream",
     "text": [
      "False\n"
     ]
    }
   ],
   "source": [
    "my_set_1 = {'apple','mango','cherry'}\n",
    "my_set_2 = {'watermelon','banana','apple'}\n",
    "\n",
    "my_set_3 = my_set_1.issubset(my_set_2)\n",
    "print(my_set_3)"
   ]
  },
  {
   "cell_type": "code",
   "execution_count": 25,
   "id": "b8d8de5e",
   "metadata": {},
   "outputs": [
    {
     "name": "stdout",
     "output_type": "stream",
     "text": [
      "True\n"
     ]
    }
   ],
   "source": [
    "my_set_1 = {'apple','mango','cherry'}\n",
    "my_set_2 = {'apple','mango','cherry','banana'}\n",
    "\n",
    "my_set_3 = my_set_1.issubset(my_set_2)\n",
    "print(my_set_3)"
   ]
  },
  {
   "cell_type": "code",
   "execution_count": 26,
   "id": "9ffc5bcd",
   "metadata": {},
   "outputs": [
    {
     "name": "stdout",
     "output_type": "stream",
     "text": [
      "False\n"
     ]
    }
   ],
   "source": [
    "my_set_1 = {'apple','mango','cherry','banana'}\n",
    "my_set_2 = {'apple','mango','cherry'}\n",
    "\n",
    "my_set_3 = my_set_1.issubset(my_set_2)\n",
    "print(my_set_3)"
   ]
  },
  {
   "cell_type": "markdown",
   "id": "225e6ad8",
   "metadata": {},
   "source": [
    "## 3. Superset() Method"
   ]
  },
  {
   "cell_type": "markdown",
   "id": "6f5a8c21",
   "metadata": {},
   "source": [
    "1. Return True if all elements of my_set_2 are present in my_set_1"
   ]
  },
  {
   "cell_type": "code",
   "execution_count": 27,
   "id": "46477e48",
   "metadata": {},
   "outputs": [
    {
     "name": "stdout",
     "output_type": "stream",
     "text": [
      "True\n"
     ]
    }
   ],
   "source": [
    "my_set_1 = {'apple','mango','cherry','banana'}\n",
    "my_set_2 = {'apple','mango','cherry'}\n",
    "\n",
    "my_set_3 = my_set_1.issuperset(my_set_2)\n",
    "print(my_set_3)"
   ]
  },
  {
   "cell_type": "code",
   "execution_count": 28,
   "id": "692d7792",
   "metadata": {},
   "outputs": [
    {
     "name": "stdout",
     "output_type": "stream",
     "text": [
      "False\n"
     ]
    }
   ],
   "source": [
    "my_set_1 = {'apple','mango','cherry'}\n",
    "my_set_2 = {'apple','mango','cherry','banana'}\n",
    "\n",
    "my_set_3 = my_set_1.issuperset(my_set_2)\n",
    "print(my_set_3)"
   ]
  },
  {
   "cell_type": "raw",
   "id": "180eed20",
   "metadata": {},
   "source": [
    "* * * * *\n",
    "* * * * *\n",
    "* * * * *\n",
    "* * * * *\n",
    "* * * * *"
   ]
  },
  {
   "cell_type": "code",
   "execution_count": 35,
   "id": "1144a012",
   "metadata": {},
   "outputs": [
    {
     "name": "stdout",
     "output_type": "stream",
     "text": [
      "0 0 0 0 0 \n",
      "1 1 1 1 1 \n",
      "2 2 2 2 2 \n",
      "3 3 3 3 3 \n",
      "4 4 4 4 4 \n"
     ]
    }
   ],
   "source": [
    "for i in range(0, 5):\n",
    "    for j in range(0, 5):\n",
    "        print(i, end=\" \")\n",
    "    print()"
   ]
  },
  {
   "cell_type": "code",
   "execution_count": null,
   "id": "fead4420",
   "metadata": {},
   "outputs": [],
   "source": []
  }
 ],
 "metadata": {
  "kernelspec": {
   "display_name": "Python 3 (ipykernel)",
   "language": "python",
   "name": "python3"
  },
  "language_info": {
   "codemirror_mode": {
    "name": "ipython",
    "version": 3
   },
   "file_extension": ".py",
   "mimetype": "text/x-python",
   "name": "python",
   "nbconvert_exporter": "python",
   "pygments_lexer": "ipython3",
   "version": "3.11.5"
  }
 },
 "nbformat": 4,
 "nbformat_minor": 5
}
