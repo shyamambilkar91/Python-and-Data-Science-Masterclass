{
 "cells": [
  {
   "cell_type": "markdown",
   "id": "462ea6bf",
   "metadata": {},
   "source": [
    "# Set"
   ]
  },
  {
   "cell_type": "code",
   "execution_count": 2,
   "id": "1d3b97bf",
   "metadata": {},
   "outputs": [
    {
     "name": "stdout",
     "output_type": "stream",
     "text": [
      "{}\n",
      "<class 'dict'>\n"
     ]
    }
   ],
   "source": [
    "my_set = {}\n",
    "print(my_set)\n",
    "print(type(my_set))"
   ]
  },
  {
   "cell_type": "code",
   "execution_count": 4,
   "id": "4526ce41",
   "metadata": {},
   "outputs": [
    {
     "name": "stdout",
     "output_type": "stream",
     "text": [
      "{'shyam'}\n",
      "<class 'set'>\n"
     ]
    }
   ],
   "source": [
    "my_set = {'shyam'}\n",
    "print(my_set)\n",
    "print(type(my_set))"
   ]
  },
  {
   "cell_type": "markdown",
   "id": "138eb1cb",
   "metadata": {},
   "source": [
    "1. Sets are used to store multiple elements(items) in a single variable\n",
    "2. Sets are used to store collection of data\n",
    "3. A sets is a collection of data which is unordered, unchangeble, and unindexed\n",
    "4. **Sets items are unchangeble, but you can remove items and new items**\n",
    "5. **Sets are unordered, so you cannot be sure in which order the items will appear**\n",
    "6. In sets **Duplicate elements are not allowed**\n",
    "7. Once set is created you cannot change its items (elements), but remove items and add new items"
   ]
  },
  {
   "cell_type": "markdown",
   "id": "ea6327ae",
   "metadata": {},
   "source": [
    "**Duplicate values are not allowed in Set**"
   ]
  },
  {
   "cell_type": "code",
   "execution_count": 10,
   "id": "68d32236",
   "metadata": {},
   "outputs": [
    {
     "name": "stdout",
     "output_type": "stream",
     "text": [
      "{'mango', 'cherry', 'pineapple', 'watermelon', 'banana', 'apple'}\n"
     ]
    }
   ],
   "source": [
    "my_set = {\"apple\",'mango','cherry','banana','pineapple','watermelon','apple','mango','banana'}\n",
    "print(my_set)"
   ]
  },
  {
   "cell_type": "code",
   "execution_count": 5,
   "id": "55a0a320",
   "metadata": {},
   "outputs": [
    {
     "name": "stdout",
     "output_type": "stream",
     "text": [
      "{'mango', 'cherry', 'pineapple', 'watermelon', 'banana', 'apple'}\n"
     ]
    }
   ],
   "source": [
    "my_set = {\"apple\",'mango','cherry','banana','pineapple','watermelon'}\n",
    "print(my_set)"
   ]
  },
  {
   "cell_type": "code",
   "execution_count": 6,
   "id": "b3e74902",
   "metadata": {},
   "outputs": [
    {
     "name": "stdout",
     "output_type": "stream",
     "text": [
      "{'mango', 'cherry', 'pineapple', 'watermelon', 'banana', 'apple'}\n"
     ]
    }
   ],
   "source": [
    "my_set = {\"apple\",'mango','cherry','banana','pineapple','watermelon','apple'}\n",
    "print(my_set)"
   ]
  },
  {
   "cell_type": "markdown",
   "id": "8966876b",
   "metadata": {},
   "source": [
    "**Note: The value True and 1 are considered the same value in sets, and are treated as duplicate**"
   ]
  },
  {
   "cell_type": "code",
   "execution_count": 8,
   "id": "c4e3b69e",
   "metadata": {},
   "outputs": [
    {
     "name": "stdout",
     "output_type": "stream",
     "text": [
      "{True, 2, 'cherry', 'pineapple', 'apple', 'mango', 'watermelon', 'banana'}\n"
     ]
    }
   ],
   "source": [
    "my_set = {\"apple\",'mango','cherry','banana','pineapple','watermelon','apple',True, 1, 2}\n",
    "print(my_set)"
   ]
  },
  {
   "cell_type": "code",
   "execution_count": 9,
   "id": "c4ecf4f3",
   "metadata": {},
   "outputs": [
    {
     "name": "stdout",
     "output_type": "stream",
     "text": [
      "{1, 2, 'cherry', 'pineapple', 'apple', 'mango', 'watermelon', 'banana'}\n"
     ]
    }
   ],
   "source": [
    "my_set = {\"apple\",'mango','cherry','banana','pineapple','watermelon','apple', 1,True, 2}\n",
    "print(my_set)"
   ]
  },
  {
   "cell_type": "code",
   "execution_count": 11,
   "id": "25be7c50",
   "metadata": {},
   "outputs": [
    {
     "name": "stdout",
     "output_type": "stream",
     "text": [
      "{1, 2, 'cherry', 'pineapple', 'apple', 'mango', 'watermelon', 'banana'}\n"
     ]
    }
   ],
   "source": [
    "my_set = {\"apple\",'mango','cherry','banana','pineapple','watermelon','apple', 1,True, 2}\n",
    "print(my_set)"
   ]
  },
  {
   "cell_type": "markdown",
   "id": "e27012d5",
   "metadata": {},
   "source": [
    "**Note: The value False and 0 are considered the same value in sets, and are treated as duplicate**"
   ]
  },
  {
   "cell_type": "code",
   "execution_count": 12,
   "id": "50000745",
   "metadata": {},
   "outputs": [
    {
     "name": "stdout",
     "output_type": "stream",
     "text": [
      "{False, 1, 2, 'cherry', 'pineapple', 'apple', 'mango', 'watermelon', 'banana'}\n"
     ]
    }
   ],
   "source": [
    "my_set = {\"apple\",'mango','cherry','banana','pineapple','watermelon', False, 0, 1, 2}\n",
    "print(my_set)"
   ]
  },
  {
   "cell_type": "markdown",
   "id": "445e0ff1",
   "metadata": {},
   "source": [
    "### Length of a Set"
   ]
  },
  {
   "cell_type": "code",
   "execution_count": 13,
   "id": "00a5c21b",
   "metadata": {},
   "outputs": [
    {
     "name": "stdout",
     "output_type": "stream",
     "text": [
      "{'mango', 'cherry', 'pineapple', 'watermelon', 'banana', 'apple'}\n",
      "6\n"
     ]
    }
   ],
   "source": [
    "my_set = {\"apple\",'mango','cherry','banana','pineapple','watermelon'}\n",
    "print(my_set)\n",
    "\n",
    "print(len(my_set))"
   ]
  },
  {
   "cell_type": "markdown",
   "id": "4c4ba1e7",
   "metadata": {},
   "source": [
    "### Data Types"
   ]
  },
  {
   "cell_type": "code",
   "execution_count": 15,
   "id": "323a792a",
   "metadata": {},
   "outputs": [
    {
     "name": "stdout",
     "output_type": "stream",
     "text": [
      "{'mango', 'cherry', 'pineapple', 'watermelon', 'banana', 'apple'}\n",
      "{False, True}\n",
      "{1, 5, 6, 7}\n",
      "<class 'set'>\n",
      "<class 'set'>\n",
      "<class 'set'>\n"
     ]
    }
   ],
   "source": [
    "my_set_1 = {\"apple\",'mango','cherry','banana','pineapple','watermelon'}\n",
    "my_set_2 = {True,False, False,True}\n",
    "my_set_3 = {1, 5, 6 , 7 , 5, 6}\n",
    "\n",
    "\n",
    "print(my_set_1)\n",
    "print(my_set_2)\n",
    "print(my_set_3)\n",
    "\n",
    "print(type(my_set_1))\n",
    "print(type(my_set_2))\n",
    "print(type(my_set_3))"
   ]
  },
  {
   "cell_type": "code",
   "execution_count": 16,
   "id": "6084652b",
   "metadata": {},
   "outputs": [],
   "source": [
    "my_set = {\"apple\",'mango','cherry',86,'banana','pineapple','watermelon', True, 34}"
   ]
  },
  {
   "cell_type": "code",
   "execution_count": 17,
   "id": "0f09d63a",
   "metadata": {},
   "outputs": [
    {
     "name": "stdout",
     "output_type": "stream",
     "text": [
      "{True, 34, 'cherry', 'pineapple', 'apple', 'mango', 86, 'watermelon', 'banana'}\n"
     ]
    }
   ],
   "source": [
    "print(my_set)"
   ]
  },
  {
   "cell_type": "code",
   "execution_count": 18,
   "id": "27740993",
   "metadata": {},
   "outputs": [
    {
     "name": "stdout",
     "output_type": "stream",
     "text": [
      "<class 'set'>\n"
     ]
    }
   ],
   "source": [
    "print(type(my_set))"
   ]
  },
  {
   "cell_type": "code",
   "execution_count": 20,
   "id": "0eb03e6f",
   "metadata": {},
   "outputs": [],
   "source": [
    "# help(my_set)"
   ]
  },
  {
   "cell_type": "code",
   "execution_count": 21,
   "id": "763683b5",
   "metadata": {},
   "outputs": [
    {
     "name": "stdout",
     "output_type": "stream",
     "text": [
      "mango\n",
      "cherry\n",
      "pineapple\n",
      "watermelon\n",
      "banana\n",
      "apple\n"
     ]
    }
   ],
   "source": [
    "my_set = {\"apple\",'mango','cherry','banana','pineapple','watermelon'}\n",
    "\n",
    "for i in my_set:\n",
    "    print(i)"
   ]
  },
  {
   "cell_type": "code",
   "execution_count": 22,
   "id": "9d433728",
   "metadata": {},
   "outputs": [
    {
     "name": "stdout",
     "output_type": "stream",
     "text": [
      "True\n"
     ]
    }
   ],
   "source": [
    "my_set = {\"apple\",'mango','cherry','banana','pineapple','watermelon'}\n",
    "\n",
    "print('apple' in my_set)"
   ]
  },
  {
   "cell_type": "code",
   "execution_count": 25,
   "id": "423e1da0",
   "metadata": {},
   "outputs": [
    {
     "name": "stdout",
     "output_type": "stream",
     "text": [
      "No, element is not present\n"
     ]
    }
   ],
   "source": [
    "my_set = {\"apple\",'mango','cherry','banana','pineapple','watermelon'}\n",
    "\n",
    "if 'Apple' in my_set:\n",
    "    print('Yes, element is present')\n",
    "else:\n",
    "    print(\"No, element is not present\")"
   ]
  },
  {
   "cell_type": "code",
   "execution_count": null,
   "id": "bc978ce6",
   "metadata": {},
   "outputs": [],
   "source": []
  }
 ],
 "metadata": {
  "kernelspec": {
   "display_name": "Python 3 (ipykernel)",
   "language": "python",
   "name": "python3"
  },
  "language_info": {
   "codemirror_mode": {
    "name": "ipython",
    "version": 3
   },
   "file_extension": ".py",
   "mimetype": "text/x-python",
   "name": "python",
   "nbconvert_exporter": "python",
   "pygments_lexer": "ipython3",
   "version": "3.11.5"
  }
 },
 "nbformat": 4,
 "nbformat_minor": 5
}
