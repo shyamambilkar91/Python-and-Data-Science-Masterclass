{
 "cells": [
  {
   "cell_type": "markdown",
   "id": "588adf29",
   "metadata": {},
   "source": [
    "# Multilevel Inheritance"
   ]
  },
  {
   "cell_type": "code",
   "execution_count": 1,
   "id": "447076c1",
   "metadata": {},
   "outputs": [
    {
     "name": "stdout",
     "output_type": "stream",
     "text": [
      "My name is Vishal Shitole and My Post is Data Scientist and my work location is Pune\n"
     ]
    }
   ],
   "source": [
    "class Base(object):\n",
    "    # constructor\n",
    "    def __init__(self, fname, lname):\n",
    "        self.fname = fname\n",
    "        self.lname = lname\n",
    "        \n",
    "    def getName(self):\n",
    "        return \"My name is \" + self.fname +\" \"+ self.lname\n",
    "    \n",
    "class Child(Base):\n",
    "    # constructor\n",
    "    def __init__(self, fname,lname, post):\n",
    "        Base.__init__(self, fname, lname)\n",
    "        self.post = post\n",
    "        \n",
    "    def getPost(self):\n",
    "        return \"and My Post is \" + self.post\n",
    "\n",
    "# Inherited or sub class\n",
    "\n",
    "class GrandChild(Child):\n",
    "    # constructor\n",
    "    def __init__(self, fname, lname, post, location):\n",
    "        Child.__init__(self, fname, lname, post)\n",
    "        self.location = location\n",
    "        \n",
    "    # to get location\n",
    "    def getLocation(self):\n",
    "        return \"and my work location is \" + self.location\n",
    "    \n",
    "\n",
    "gc_1 = GrandChild(\"Vishal\", \"Shitole\", \"Data Scientist\", \"Pune\")\n",
    "print(gc_1.getName(),gc_1.getPost(),gc_1.getLocation())"
   ]
  },
  {
   "cell_type": "markdown",
   "id": "16cf06dc",
   "metadata": {},
   "source": [
    "# Multiple Inheritance"
   ]
  },
  {
   "cell_type": "markdown",
   "id": "0dc6f516",
   "metadata": {},
   "source": [
    "![](https://www.scientecheasy.com/wp-content/uploads/2023/09/python-multiple-inheritance.png)"
   ]
  },
  {
   "cell_type": "markdown",
   "id": "0c675dd9",
   "metadata": {},
   "source": [
    "### Syntax "
   ]
  },
  {
   "cell_type": "raw",
   "id": "889f5af5",
   "metadata": {},
   "source": [
    "class Base_1:\n",
    "    statement\n",
    "\n",
    "class Base_2:\n",
    "    statement\n",
    "    \n",
    "class Base_N:\n",
    "    statement\n",
    "    \n",
    "    \n",
    "class Derived(Base_1,Base_2,Base_N):\n",
    "    statement"
   ]
  },
  {
   "cell_type": "code",
   "execution_count": 2,
   "id": "56a73a2d",
   "metadata": {},
   "outputs": [
    {
     "name": "stdout",
     "output_type": "stream",
     "text": [
      "30\n",
      "-10\n",
      "200\n",
      "0.5\n"
     ]
    }
   ],
   "source": [
    "class Calculation_1:\n",
    "    def addition(self, x, y):\n",
    "        return x + y\n",
    "    \n",
    "class Calculation_2:\n",
    "    def subtraction(self, x, y):\n",
    "        return x - y\n",
    "    \n",
    "class Calculation_3:\n",
    "    def multiplication(self, x, y):\n",
    "        return x * y\n",
    "    \n",
    "class Derived(Calculation_1, Calculation_2, Calculation_3):\n",
    "    def devide(self, x, y):\n",
    "        return x / y\n",
    "    \n",
    "d1 = Derived()\n",
    "print(d1.addition(10, 20))\n",
    "print(d1.subtraction(10,20))\n",
    "print(d1.multiplication(10,20))\n",
    "print(d1.devide(10, 20))"
   ]
  },
  {
   "cell_type": "code",
   "execution_count": 3,
   "id": "35436429",
   "metadata": {},
   "outputs": [
    {
     "name": "stdout",
     "output_type": "stream",
     "text": [
      "True\n",
      "False\n"
     ]
    }
   ],
   "source": [
    "class Calculation_1:\n",
    "    def addition(self, x, y):\n",
    "        return x + y\n",
    "    \n",
    "class Calculation_2:\n",
    "    def subtraction(self, x, y):\n",
    "        return x - y\n",
    "    \n",
    "class Calculation_3:\n",
    "    def multiplication(self, x, y):\n",
    "        return x * y\n",
    "    \n",
    "class Derived(Calculation_1, Calculation_2, Calculation_3):\n",
    "    def devide(self, x, y):\n",
    "        return x / y\n",
    "    \n",
    "d1 = Derived()\n",
    "print(issubclass(Derived, Calculation_1))\n",
    "print(issubclass(Calculation_1, Calculation_2))"
   ]
  },
  {
   "cell_type": "raw",
   "id": "ec845c32",
   "metadata": {},
   "source": [
    "Parent_1 = Mother\n",
    "Parent_2 = Father\n",
    "Child = (Parent_1, Parent_2)"
   ]
  },
  {
   "cell_type": "code",
   "execution_count": 14,
   "id": "cfedfaad",
   "metadata": {},
   "outputs": [],
   "source": [
    "class Mother:\n",
    "    def myFunct(self, fname, lname, occupation):\n",
    "        return self.fname \n",
    "        self.fname = fname\n",
    "        self.lname = lname\n",
    "        self.occupation = occupation\n",
    "        \n",
    "    def getDisplay(self):\n",
    "        return self.fname + self.lname + self.occupation\n",
    "    \n",
    "class Father:\n",
    "    def myFunct_2(self, fname, lname, occupation):\n",
    "        self.occupation = occupation\n",
    "        \n",
    "    def printInfo(self):\n",
    "        return self.fname + self.lname + self.occupation\n",
    "    \n",
    "\n",
    "class Child(Mother,Father):\n",
    "    def myInfo(self, fname, lname, occupation):\n",
    "        self.fname = fname\n",
    "        self.lname = lname\n",
    "        self.occupation = occupation\n",
    "        \n",
    "    def displayInfo(self):\n",
    "        return \"My name is \" + self.fname +\" \" +self.lname + \" \"+ \" and my Occupation is \"+self.occupation\n",
    "\n",
    "c1 = Child()"
   ]
  },
  {
   "cell_type": "code",
   "execution_count": 17,
   "id": "273153d0",
   "metadata": {},
   "outputs": [
    {
     "data": {
      "text/plain": [
       "'My name is Shyam Ambilkar  and my Occupation is Data Engineer'"
      ]
     },
     "execution_count": 17,
     "metadata": {},
     "output_type": "execute_result"
    }
   ],
   "source": [
    "c1.myInfo(\"Shyam\",\"Ambilkar\",\"Data Engineer\")\n",
    "c1.displayInfo()"
   ]
  },
  {
   "cell_type": "code",
   "execution_count": null,
   "id": "d1b88490",
   "metadata": {},
   "outputs": [],
   "source": []
  }
 ],
 "metadata": {
  "kernelspec": {
   "display_name": "Python 3 (ipykernel)",
   "language": "python",
   "name": "python3"
  },
  "language_info": {
   "codemirror_mode": {
    "name": "ipython",
    "version": 3
   },
   "file_extension": ".py",
   "mimetype": "text/x-python",
   "name": "python",
   "nbconvert_exporter": "python",
   "pygments_lexer": "ipython3",
   "version": "3.11.5"
  }
 },
 "nbformat": 4,
 "nbformat_minor": 5
}
