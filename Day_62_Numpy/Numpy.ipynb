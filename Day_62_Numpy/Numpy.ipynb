{
 "cells": [
  {
   "cell_type": "markdown",
   "id": "b9b6d085",
   "metadata": {},
   "source": [
    "# Numpy"
   ]
  },
  {
   "cell_type": "markdown",
   "id": "45121d29",
   "metadata": {},
   "source": [
    "### Reshaping Numpy Array"
   ]
  },
  {
   "cell_type": "markdown",
   "id": "376f3155",
   "metadata": {},
   "source": [
    "1. Reshaping means changing the shape of the array\n",
    "2. The shape of any is the number of elements in each dimension\n",
    "3. By reshaping we can add or remove diemension or change number of elements in each dimension"
   ]
  },
  {
   "cell_type": "markdown",
   "id": "be635a2f",
   "metadata": {},
   "source": [
    "## Reshape From 1-D to 2-D"
   ]
  },
  {
   "cell_type": "code",
   "execution_count": 2,
   "id": "9217d7e8",
   "metadata": {},
   "outputs": [
    {
     "name": "stdout",
     "output_type": "stream",
     "text": [
      "[[ 10  20  30  40  50  60]\n",
      " [ 70  80  90 100 110 120]]\n",
      "2\n"
     ]
    }
   ],
   "source": [
    "import numpy as np\n",
    "\n",
    "my_array = np.array([10,20,30,40,50,60,70,80,90,100,110,120])\n",
    "\n",
    "new_array = my_array.reshape(2, 6)\n",
    "\n",
    "print(new_array)\n",
    "\n",
    "print(new_array.ndim)"
   ]
  },
  {
   "cell_type": "code",
   "execution_count": 3,
   "id": "179a74dd",
   "metadata": {},
   "outputs": [
    {
     "name": "stdout",
     "output_type": "stream",
     "text": [
      "[[ 10  20  30  40]\n",
      " [ 50  60  70  80]\n",
      " [ 90 100 110 120]]\n",
      "2\n"
     ]
    }
   ],
   "source": [
    "import numpy as np\n",
    "\n",
    "my_array = np.array([10,20,30,40,50,60,70,80,90,100,110,120])\n",
    "\n",
    "new_array = my_array.reshape(3, 4)\n",
    "\n",
    "print(new_array)\n",
    "\n",
    "print(new_array.ndim)"
   ]
  },
  {
   "cell_type": "code",
   "execution_count": 4,
   "id": "518e09b1",
   "metadata": {},
   "outputs": [
    {
     "name": "stdout",
     "output_type": "stream",
     "text": [
      "[[ 10  20  30]\n",
      " [ 40  50  60]\n",
      " [ 70  80  90]\n",
      " [100 110 120]]\n",
      "2\n"
     ]
    }
   ],
   "source": [
    "import numpy as np\n",
    "\n",
    "my_array = np.array([10,20,30,40,50,60,70,80,90,100,110,120])\n",
    "\n",
    "new_array = my_array.reshape(4, 3)\n",
    "\n",
    "print(new_array)\n",
    "\n",
    "print(new_array.ndim)"
   ]
  },
  {
   "cell_type": "code",
   "execution_count": 5,
   "id": "45753c0a",
   "metadata": {},
   "outputs": [
    {
     "name": "stdout",
     "output_type": "stream",
     "text": [
      "[[ 10  20]\n",
      " [ 30  40]\n",
      " [ 50  60]\n",
      " [ 70  80]\n",
      " [ 90 100]\n",
      " [110 120]]\n",
      "2\n"
     ]
    }
   ],
   "source": [
    "import numpy as np\n",
    "\n",
    "my_array = np.array([10,20,30,40,50,60,70,80,90,100,110,120])\n",
    "\n",
    "new_array = my_array.reshape(6, 2)\n",
    "\n",
    "print(new_array)\n",
    "\n",
    "print(new_array.ndim)"
   ]
  },
  {
   "cell_type": "markdown",
   "id": "f096e305",
   "metadata": {},
   "source": [
    "### Reshaping 1-D to 3-D Array"
   ]
  },
  {
   "cell_type": "markdown",
   "id": "1cc608a9",
   "metadata": {},
   "source": [
    "**new_array = my_array.reshape(dimension, dimension, Elements)**"
   ]
  },
  {
   "cell_type": "code",
   "execution_count": 8,
   "id": "37a151cd",
   "metadata": {},
   "outputs": [
    {
     "name": "stdout",
     "output_type": "stream",
     "text": [
      "[[[ 10  20]\n",
      "  [ 30  40]\n",
      "  [ 50  60]]\n",
      "\n",
      " [[ 70  80]\n",
      "  [ 90 100]\n",
      "  [110 120]]]\n",
      "3\n"
     ]
    }
   ],
   "source": [
    "import numpy as np\n",
    "\n",
    "my_array = np.array([10,20,30,40,50,60,70,80,90,100,110,120])\n",
    "\n",
    "new_array = my_array.reshape(2,3,2)\n",
    "\n",
    "print(new_array)\n",
    "print(new_array.ndim)"
   ]
  },
  {
   "cell_type": "code",
   "execution_count": 9,
   "id": "fb75ac8c",
   "metadata": {},
   "outputs": [
    {
     "name": "stdout",
     "output_type": "stream",
     "text": [
      "[[[ 10  20]\n",
      "  [ 30  40]]\n",
      "\n",
      " [[ 50  60]\n",
      "  [ 70  80]]\n",
      "\n",
      " [[ 90 100]\n",
      "  [110 120]]]\n",
      "3\n"
     ]
    }
   ],
   "source": [
    "import numpy as np\n",
    "\n",
    "my_array = np.array([10,20,30,40,50,60,70,80,90,100,110,120])\n",
    "\n",
    "new_array = my_array.reshape(3,2,2)\n",
    "\n",
    "print(new_array)\n",
    "print(new_array.ndim)"
   ]
  },
  {
   "cell_type": "code",
   "execution_count": 10,
   "id": "09281401",
   "metadata": {},
   "outputs": [
    {
     "name": "stdout",
     "output_type": "stream",
     "text": [
      "[[[ 10  20  30]\n",
      "  [ 40  50  60]]\n",
      "\n",
      " [[ 70  80  90]\n",
      "  [100 110 120]]]\n",
      "3\n"
     ]
    }
   ],
   "source": [
    "import numpy as np\n",
    "\n",
    "my_array = np.array([10,20,30,40,50,60,70,80,90,100,110,120])\n",
    "\n",
    "new_array = my_array.reshape(2,2,3)\n",
    "\n",
    "print(new_array)\n",
    "print(new_array.ndim)"
   ]
  },
  {
   "cell_type": "markdown",
   "id": "5805634d",
   "metadata": {},
   "source": [
    "### Can We Reshape into any Shape ?"
   ]
  },
  {
   "cell_type": "code",
   "execution_count": 11,
   "id": "45a3a6e7",
   "metadata": {},
   "outputs": [
    {
     "ename": "ValueError",
     "evalue": "cannot reshape array of size 8 into shape (3,3)",
     "output_type": "error",
     "traceback": [
      "\u001b[1;31m---------------------------------------------------------------------------\u001b[0m",
      "\u001b[1;31mValueError\u001b[0m                                Traceback (most recent call last)",
      "Cell \u001b[1;32mIn[11], line 5\u001b[0m\n\u001b[0;32m      1\u001b[0m \u001b[38;5;28;01mimport\u001b[39;00m \u001b[38;5;21;01mnumpy\u001b[39;00m \u001b[38;5;28;01mas\u001b[39;00m \u001b[38;5;21;01mnp\u001b[39;00m\n\u001b[0;32m      3\u001b[0m my_array \u001b[38;5;241m=\u001b[39m np\u001b[38;5;241m.\u001b[39marray([\u001b[38;5;241m10\u001b[39m,\u001b[38;5;241m20\u001b[39m,\u001b[38;5;241m30\u001b[39m,\u001b[38;5;241m40\u001b[39m,\u001b[38;5;241m50\u001b[39m,\u001b[38;5;241m60\u001b[39m,\u001b[38;5;241m70\u001b[39m,\u001b[38;5;241m80\u001b[39m])\n\u001b[1;32m----> 5\u001b[0m new_array \u001b[38;5;241m=\u001b[39m my_array\u001b[38;5;241m.\u001b[39mreshape(\u001b[38;5;241m3\u001b[39m,\u001b[38;5;241m3\u001b[39m)\n\u001b[0;32m      6\u001b[0m \u001b[38;5;28mprint\u001b[39m(new_array)\n",
      "\u001b[1;31mValueError\u001b[0m: cannot reshape array of size 8 into shape (3,3)"
     ]
    }
   ],
   "source": [
    "import numpy as np\n",
    "\n",
    "my_array = np.array([10,20,30,40,50,60,70,80])\n",
    "\n",
    "new_array = my_array.reshape(3,3)\n",
    "print(new_array)"
   ]
  },
  {
   "cell_type": "markdown",
   "id": "0e232942",
   "metadata": {},
   "source": [
    "#### 1. As long as the elements required for reshaping are equal number of elements in both shape"
   ]
  },
  {
   "cell_type": "markdown",
   "id": "70cef545",
   "metadata": {},
   "source": [
    "### Unknown Dimension"
   ]
  },
  {
   "cell_type": "markdown",
   "id": "d1731829",
   "metadata": {},
   "source": [
    "1. You arr allowed to have one unknown dimension\n",
    "2. Meaning that you do not have to specify an exact number for one dimension in reshape method\n",
    "3. Pass -1 as the value, and numpy will calculate this number for you"
   ]
  },
  {
   "cell_type": "code",
   "execution_count": 12,
   "id": "f6380131",
   "metadata": {},
   "outputs": [
    {
     "ename": "ValueError",
     "evalue": "cannot reshape array of size 8 into shape (2,2)",
     "output_type": "error",
     "traceback": [
      "\u001b[1;31m---------------------------------------------------------------------------\u001b[0m",
      "\u001b[1;31mValueError\u001b[0m                                Traceback (most recent call last)",
      "Cell \u001b[1;32mIn[12], line 5\u001b[0m\n\u001b[0;32m      1\u001b[0m \u001b[38;5;28;01mimport\u001b[39;00m \u001b[38;5;21;01mnumpy\u001b[39;00m \u001b[38;5;28;01mas\u001b[39;00m \u001b[38;5;21;01mnp\u001b[39;00m\n\u001b[0;32m      3\u001b[0m my_array \u001b[38;5;241m=\u001b[39m np\u001b[38;5;241m.\u001b[39marray([\u001b[38;5;241m10\u001b[39m,\u001b[38;5;241m20\u001b[39m,\u001b[38;5;241m30\u001b[39m,\u001b[38;5;241m40\u001b[39m,\u001b[38;5;241m50\u001b[39m,\u001b[38;5;241m60\u001b[39m,\u001b[38;5;241m70\u001b[39m,\u001b[38;5;241m80\u001b[39m])\n\u001b[1;32m----> 5\u001b[0m new_array \u001b[38;5;241m=\u001b[39m my_array\u001b[38;5;241m.\u001b[39mreshape(\u001b[38;5;241m2\u001b[39m,\u001b[38;5;241m2\u001b[39m)\n\u001b[0;32m      6\u001b[0m \u001b[38;5;28mprint\u001b[39m(new_array)\n",
      "\u001b[1;31mValueError\u001b[0m: cannot reshape array of size 8 into shape (2,2)"
     ]
    }
   ],
   "source": [
    "import numpy as np\n",
    "\n",
    "my_array = np.array([10,20,30,40,50,60,70,80])\n",
    "\n",
    "new_array = my_array.reshape(2,2)\n",
    "print(new_array)"
   ]
  },
  {
   "cell_type": "code",
   "execution_count": 13,
   "id": "bb9e78e2",
   "metadata": {},
   "outputs": [
    {
     "name": "stdout",
     "output_type": "stream",
     "text": [
      "[[[10 20]\n",
      "  [30 40]]\n",
      "\n",
      " [[50 60]\n",
      "  [70 80]]]\n"
     ]
    }
   ],
   "source": [
    "import numpy as np\n",
    "\n",
    "my_array = np.array([10,20,30,40,50,60,70,80])\n",
    "\n",
    "new_array = my_array.reshape(2,2,-1)\n",
    "print(new_array)"
   ]
  },
  {
   "cell_type": "code",
   "execution_count": 14,
   "id": "d03d9616",
   "metadata": {},
   "outputs": [
    {
     "ename": "ValueError",
     "evalue": "cannot reshape array of size 8 into shape (3,2,newaxis)",
     "output_type": "error",
     "traceback": [
      "\u001b[1;31m---------------------------------------------------------------------------\u001b[0m",
      "\u001b[1;31mValueError\u001b[0m                                Traceback (most recent call last)",
      "Cell \u001b[1;32mIn[14], line 5\u001b[0m\n\u001b[0;32m      1\u001b[0m \u001b[38;5;28;01mimport\u001b[39;00m \u001b[38;5;21;01mnumpy\u001b[39;00m \u001b[38;5;28;01mas\u001b[39;00m \u001b[38;5;21;01mnp\u001b[39;00m\n\u001b[0;32m      3\u001b[0m my_array \u001b[38;5;241m=\u001b[39m np\u001b[38;5;241m.\u001b[39marray([\u001b[38;5;241m10\u001b[39m,\u001b[38;5;241m20\u001b[39m,\u001b[38;5;241m30\u001b[39m,\u001b[38;5;241m40\u001b[39m,\u001b[38;5;241m50\u001b[39m,\u001b[38;5;241m60\u001b[39m,\u001b[38;5;241m70\u001b[39m,\u001b[38;5;241m80\u001b[39m])\n\u001b[1;32m----> 5\u001b[0m new_array \u001b[38;5;241m=\u001b[39m my_array\u001b[38;5;241m.\u001b[39mreshape(\u001b[38;5;241m3\u001b[39m,\u001b[38;5;241m2\u001b[39m,\u001b[38;5;241m-\u001b[39m\u001b[38;5;241m1\u001b[39m)\n\u001b[0;32m      6\u001b[0m \u001b[38;5;28mprint\u001b[39m(new_array)\n",
      "\u001b[1;31mValueError\u001b[0m: cannot reshape array of size 8 into shape (3,2,newaxis)"
     ]
    }
   ],
   "source": [
    "import numpy as np\n",
    "\n",
    "my_array = np.array([10,20,30,40,50,60,70,80])\n",
    "\n",
    "new_array = my_array.reshape(3,2,-1)\n",
    "print(new_array)"
   ]
  },
  {
   "cell_type": "code",
   "execution_count": 16,
   "id": "ee428837",
   "metadata": {},
   "outputs": [
    {
     "name": "stdout",
     "output_type": "stream",
     "text": [
      "[ 10  20  30  40  50  60  70  80  90 100 110 120 130 140 150 160]\n"
     ]
    }
   ],
   "source": [
    "import numpy as np\n",
    "\n",
    "my_array = np.array([[10,20,30,40,50,60,70,80],[90,100,110,120,130,140,150,160]])\n",
    "\n",
    "new_array = my_array.reshape(-1)\n",
    "print(new_array)"
   ]
  },
  {
   "cell_type": "code",
   "execution_count": 20,
   "id": "19a425d3",
   "metadata": {},
   "outputs": [
    {
     "name": "stdout",
     "output_type": "stream",
     "text": [
      "[10 20 30 40 50 60 70 80]\n"
     ]
    }
   ],
   "source": [
    "my_array = np.array([[[10, 20],[30, 40]],[[50, 60],[70, 80]]])\n",
    "\n",
    "new_array = my_array.reshape(-1)\n",
    "print(new_array)"
   ]
  },
  {
   "cell_type": "markdown",
   "id": "f3dd5780",
   "metadata": {},
   "source": [
    "## Numpy Array Iterating"
   ]
  },
  {
   "cell_type": "markdown",
   "id": "5f86c5f9",
   "metadata": {},
   "source": [
    "1. Iterating means going through elements one by one\n",
    "2. As we deal with multi-dimensional array in numpy, we can this using for loop\n",
    "2. If we Iterate 1-D arrya it will go throgh each element one by one"
   ]
  },
  {
   "cell_type": "code",
   "execution_count": 22,
   "id": "587c0d92",
   "metadata": {},
   "outputs": [
    {
     "name": "stdout",
     "output_type": "stream",
     "text": [
      "10\n",
      "20\n",
      "30\n",
      "40\n",
      "50\n",
      "60\n",
      "70\n",
      "80\n",
      "90\n",
      "100\n",
      "110\n",
      "120\n"
     ]
    }
   ],
   "source": [
    "import numpy as np\n",
    "\n",
    "my_array = np.array([10,20,30,40,50,60,70,80,90,100,110,120])\n",
    "\n",
    "for i in my_array:\n",
    "    print(i)"
   ]
  },
  {
   "cell_type": "markdown",
   "id": "1c2c6b52",
   "metadata": {},
   "source": [
    "## Itrating 2-D Array"
   ]
  },
  {
   "cell_type": "code",
   "execution_count": 25,
   "id": "5efe71b7",
   "metadata": {},
   "outputs": [
    {
     "name": "stdout",
     "output_type": "stream",
     "text": [
      "[10 20 30 40]\n",
      "[50 60 70 80]\n"
     ]
    }
   ],
   "source": [
    "my_array = np.array([[10, 20, 30, 40],[50, 60,70, 80]])\n",
    "\n",
    "for i in my_array:\n",
    "    print(i)"
   ]
  },
  {
   "cell_type": "code",
   "execution_count": 26,
   "id": "3ff8cbed",
   "metadata": {},
   "outputs": [
    {
     "name": "stdout",
     "output_type": "stream",
     "text": [
      "10\n",
      "20\n",
      "30\n",
      "40\n",
      "50\n",
      "60\n",
      "70\n",
      "80\n"
     ]
    }
   ],
   "source": [
    "my_array = np.array([[10, 20, 30, 40],[50, 60,70, 80]])\n",
    "\n",
    "for i in my_array:\n",
    "    for j in i:\n",
    "        print(j)"
   ]
  },
  {
   "cell_type": "markdown",
   "id": "16d4f265",
   "metadata": {},
   "source": [
    "## Itrating 3-D Array"
   ]
  },
  {
   "cell_type": "code",
   "execution_count": 30,
   "id": "90d23cd2",
   "metadata": {},
   "outputs": [
    {
     "name": "stdout",
     "output_type": "stream",
     "text": [
      "10\n",
      "20\n",
      "30\n",
      "40\n",
      "50\n",
      "60\n",
      "70\n",
      "80\n"
     ]
    }
   ],
   "source": [
    "my_array = np.array([[[10, 20],[30, 40]],[[50, 60],[70, 80]]])\n",
    "\n",
    "for i in my_array:\n",
    "    for j in i:\n",
    "        for k in j:\n",
    "            print(k)"
   ]
  },
  {
   "cell_type": "markdown",
   "id": "e30787e3",
   "metadata": {},
   "source": [
    "## Iterating Arrays using nditer()"
   ]
  },
  {
   "cell_type": "markdown",
   "id": "23edc0ca",
   "metadata": {},
   "source": [
    "1. The Function nditer() is helping function that can be used form very basic to very advanced iteration. \n",
    "2. It solves some basic issues which we face an iteration"
   ]
  },
  {
   "cell_type": "code",
   "execution_count": 31,
   "id": "6676e94a",
   "metadata": {},
   "outputs": [
    {
     "name": "stdout",
     "output_type": "stream",
     "text": [
      "10\n",
      "20\n",
      "30\n",
      "40\n",
      "50\n",
      "60\n",
      "70\n",
      "80\n"
     ]
    }
   ],
   "source": [
    "my_array = np.array([[[10, 20],[30, 40]],[[50, 60],[70, 80]]])\n",
    "\n",
    "\n",
    "for i in np.nditer(my_array):\n",
    "    print(i)"
   ]
  },
  {
   "cell_type": "code",
   "execution_count": 34,
   "id": "54094ed6",
   "metadata": {},
   "outputs": [],
   "source": [
    "# help(np.nditer(my_array))"
   ]
  },
  {
   "cell_type": "markdown",
   "id": "3af8b291",
   "metadata": {},
   "source": [
    "### Itrating Arrays with Different Data Types"
   ]
  },
  {
   "cell_type": "markdown",
   "id": "934ef503",
   "metadata": {},
   "source": [
    "1. we can use op_dtypes arguments and pass the expected datatypes to change the datatype of elements while iterating\n",
    "2. Numpy does not change that data type of elements in-place( where the elements is in array)\n",
    "3. I needs some other space to perform this action, that extra space is called buffer, and in order to enable nditer() we pass flasgs = ['buffered']"
   ]
  },
  {
   "cell_type": "code",
   "execution_count": 35,
   "id": "1dec827b",
   "metadata": {},
   "outputs": [
    {
     "name": "stdout",
     "output_type": "stream",
     "text": [
      "b'10'\n",
      "b'20'\n",
      "b'30'\n",
      "b'40'\n",
      "b'50'\n",
      "b'60'\n",
      "b'70'\n",
      "b'80'\n"
     ]
    }
   ],
   "source": [
    "my_array = np.array([[[10, 20],[30, 40]],[[50, 60],[70, 80]]])\n",
    "\n",
    "for i in np.nditer(my_array, flags = ['buffered'], op_dtypes = ['S']):\n",
    "    print(i)"
   ]
  },
  {
   "cell_type": "code",
   "execution_count": 41,
   "id": "8e6bca89",
   "metadata": {},
   "outputs": [
    {
     "name": "stdout",
     "output_type": "stream",
     "text": [
      "50\n"
     ]
    }
   ],
   "source": [
    "my_array = np.array([[10, 20,30, 40],[50, 60,70, 80]])\n",
    "\n",
    "for i in np.nditer(my_array[1:,:2:2]):\n",
    "    print(i)"
   ]
  },
  {
   "cell_type": "code",
   "execution_count": 44,
   "id": "b3ef6e37",
   "metadata": {},
   "outputs": [
    {
     "name": "stdout",
     "output_type": "stream",
     "text": [
      "10\n",
      "20\n",
      "30\n",
      "40\n"
     ]
    }
   ],
   "source": [
    "my_array = np.array([[10, 20,30, 40],[50, 60,70, 80]])\n",
    "\n",
    "for i in np.nditer(my_array[:1]):\n",
    "    print(i)"
   ]
  },
  {
   "cell_type": "code",
   "execution_count": 47,
   "id": "a8658142",
   "metadata": {},
   "outputs": [
    {
     "name": "stdout",
     "output_type": "stream",
     "text": [
      "10\n",
      "30\n"
     ]
    }
   ],
   "source": [
    "my_array = np.array([[10, 20,30, 40],[50, 60,70, 80]])\n",
    "\n",
    "for i in np.nditer(my_array[:1,::2]):\n",
    "    print(i)"
   ]
  },
  {
   "cell_type": "code",
   "execution_count": 48,
   "id": "67183e4d",
   "metadata": {},
   "outputs": [
    {
     "name": "stdout",
     "output_type": "stream",
     "text": [
      "50\n",
      "70\n"
     ]
    }
   ],
   "source": [
    "my_array = np.array([[10, 20,30, 40],[50, 60,70, 80]])\n",
    "\n",
    "for i in np.nditer(my_array[1:,::2]):\n",
    "    print(i)"
   ]
  },
  {
   "cell_type": "code",
   "execution_count": null,
   "id": "bfbe6350",
   "metadata": {},
   "outputs": [],
   "source": []
  }
 ],
 "metadata": {
  "kernelspec": {
   "display_name": "Python 3 (ipykernel)",
   "language": "python",
   "name": "python3"
  },
  "language_info": {
   "codemirror_mode": {
    "name": "ipython",
    "version": 3
   },
   "file_extension": ".py",
   "mimetype": "text/x-python",
   "name": "python",
   "nbconvert_exporter": "python",
   "pygments_lexer": "ipython3",
   "version": "3.11.5"
  }
 },
 "nbformat": 4,
 "nbformat_minor": 5
}
