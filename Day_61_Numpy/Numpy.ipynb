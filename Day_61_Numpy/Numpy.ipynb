{
 "cells": [
  {
   "cell_type": "markdown",
   "id": "f4fbb92f",
   "metadata": {},
   "source": [
    "# Converting Data Type on Existing Arrays"
   ]
  },
  {
   "cell_type": "markdown",
   "id": "3b33ebc9",
   "metadata": {},
   "source": [
    "1. The best way to change data type of on existing array, is to make a copy of the array with the astype() method\n",
    "2. The astype() function creates a copy of the array and allows you to specify the data type as a parameter\n",
    "3. The data type can be specified using a string like 'f' for float, 'i' for integer etc. \n",
    "4. you can use the data type directly the float"
   ]
  },
  {
   "cell_type": "code",
   "execution_count": 1,
   "id": "a4c8c9a3",
   "metadata": {},
   "outputs": [],
   "source": [
    "import numpy as np"
   ]
  },
  {
   "cell_type": "code",
   "execution_count": 2,
   "id": "8835a85d",
   "metadata": {},
   "outputs": [
    {
     "name": "stdout",
     "output_type": "stream",
     "text": [
      "After convering array are:  [10 20 30 40 50 30]\n",
      "int32\n"
     ]
    }
   ],
   "source": [
    "my_array = np.array([10.10,20.20,30.30,40.50,50.10,30.56])\n",
    "\n",
    "new_array = my_array.astype('i')\n",
    "\n",
    "print(\"After convering array are: \", new_array)\n",
    "\n",
    "print(new_array.dtype)"
   ]
  },
  {
   "cell_type": "code",
   "execution_count": 3,
   "id": "33e174b4",
   "metadata": {},
   "outputs": [
    {
     "name": "stdout",
     "output_type": "stream",
     "text": [
      "After convering array are:  [10 20 30 40 50 30]\n",
      "int32\n"
     ]
    }
   ],
   "source": [
    "my_array = np.array([10.10,20.20,30.30,40.50,50.10,30.56])\n",
    "\n",
    "new_array = my_array.astype(int)\n",
    "\n",
    "print(\"After convering array are: \", new_array)\n",
    "\n",
    "print(new_array.dtype)"
   ]
  },
  {
   "cell_type": "code",
   "execution_count": 5,
   "id": "bcbabf30",
   "metadata": {},
   "outputs": [
    {
     "name": "stdout",
     "output_type": "stream",
     "text": [
      "After convering array are:  [ True  True  True  True  True  True]\n",
      "bool\n"
     ]
    }
   ],
   "source": [
    "my_array = np.array([10, 20, 30, 40, 50, 30])\n",
    "\n",
    "new_array = my_array.astype(bool)\n",
    "\n",
    "print(\"After convering array are: \", new_array)\n",
    "\n",
    "print(new_array.dtype)"
   ]
  },
  {
   "cell_type": "code",
   "execution_count": 6,
   "id": "f19fb50f",
   "metadata": {},
   "outputs": [
    {
     "name": "stdout",
     "output_type": "stream",
     "text": [
      "After convering array are:  ['10.1' '20.2' '30.3' '40.5' '50.1' '30.56']\n",
      "<U32\n"
     ]
    }
   ],
   "source": [
    "my_array = np.array([10.10,20.20,30.30,40.50,50.10,30.56])\n",
    "\n",
    "new_array = my_array.astype(str)\n",
    "\n",
    "print(\"After convering array are: \", new_array)\n",
    "\n",
    "print(new_array.dtype)"
   ]
  },
  {
   "cell_type": "markdown",
   "id": "14060e5a",
   "metadata": {},
   "source": [
    "# Numpy Array Copy vs View"
   ]
  },
  {
   "cell_type": "markdown",
   "id": "c288792f",
   "metadata": {},
   "source": [
    "1. The main difference between a copy and view of an array that the copy is new array, and the view is just view of the original array\n",
    "2. The copy owns the data and any changes made to the copy will not affect original array, and any changes made to the original array will not affect the copy\n",
    "3. The viw does not own the data and any changes made to the view will affect the original array, and any changes made to the original array will affect the view"
   ]
  },
  {
   "cell_type": "markdown",
   "id": "a3b53673",
   "metadata": {},
   "source": [
    "## 1. Copy"
   ]
  },
  {
   "cell_type": "code",
   "execution_count": 7,
   "id": "00573bab",
   "metadata": {},
   "outputs": [
    {
     "name": "stdout",
     "output_type": "stream",
     "text": [
      "Old Array:  [45 20 30 40 50 60]\n",
      "New Array:  [10 20 30 40 50 60]\n"
     ]
    }
   ],
   "source": [
    "import numpy as np\n",
    "\n",
    "my_array = np.array([10,20,30,40,50,60])\n",
    "\n",
    "new_array = my_array.copy()\n",
    "\n",
    "my_array[0] = 45\n",
    "\n",
    "print(\"Old Array: \", my_array)\n",
    "\n",
    "print(\"New Array: \", new_array)"
   ]
  },
  {
   "cell_type": "code",
   "execution_count": 13,
   "id": "2924cc32",
   "metadata": {},
   "outputs": [
    {
     "name": "stdout",
     "output_type": "stream",
     "text": [
      "Before changes original Array:  [10 20 30 40 50 60]\n",
      "Before changes View Of Original Array:  [10 20 30 40 50 60]\n",
      "After changes original Array:  [10 20 30 40 50 60]\n",
      "After changes View Of Original Array:  [150  20  30  40  50  60]\n"
     ]
    }
   ],
   "source": [
    "import numpy as np\n",
    "\n",
    "my_array = np.array([10,20,30,40,50,60])\n",
    "new_array = my_array.copy()\n",
    "\n",
    "print(\"Before changes original Array: \", my_array)\n",
    "print(\"Before changes View Of Original Array: \", new_array)\n",
    "\n",
    "new_array[0] = 150\n",
    "\n",
    "print(\"After changes original Array: \", my_array)\n",
    "print(\"After changes View Of Original Array: \", new_array)"
   ]
  },
  {
   "cell_type": "markdown",
   "id": "baa71ade",
   "metadata": {},
   "source": [
    "**Note : The copy Should Not be affected by the changes made to the original**"
   ]
  },
  {
   "cell_type": "markdown",
   "id": "4c0855a5",
   "metadata": {},
   "source": [
    "# 2. View"
   ]
  },
  {
   "cell_type": "code",
   "execution_count": 10,
   "id": "0a373b3a",
   "metadata": {},
   "outputs": [
    {
     "name": "stdout",
     "output_type": "stream",
     "text": [
      "After changes on original Array:  [89 20 30 40 50 60]\n",
      "After changes View Of Original Array:  [89 20 30 40 50 60]\n"
     ]
    }
   ],
   "source": [
    "import numpy as np\n",
    "\n",
    "my_array = np.array([10,20,30,40,50,60])\n",
    "\n",
    "new_array = my_array.view()\n",
    "\n",
    "# print(\"Before changes original Array: \", my_array)\n",
    "# print(\"Before changes View Of Original Array: \", new_array)\n",
    "\n",
    "my_array[0] = 89\n",
    "\n",
    "print(\"After changes on original Array: \", my_array)\n",
    "print(\"After changes View Of Original Array: \", new_array)"
   ]
  },
  {
   "cell_type": "markdown",
   "id": "d7629921",
   "metadata": {},
   "source": [
    "**Note : The view Should be affected by the changes made to the original array**"
   ]
  },
  {
   "cell_type": "code",
   "execution_count": 11,
   "id": "a6cd00c2",
   "metadata": {},
   "outputs": [
    {
     "name": "stdout",
     "output_type": "stream",
     "text": [
      "Before changes on View Array:  [10 20 30 40 50 60]\n",
      "After changes Original Array [23 20 30 40 50 60]\n",
      "After changes on View new Array are:  [23 20 30 40 50 60]\n"
     ]
    }
   ],
   "source": [
    "import numpy as np\n",
    "\n",
    "my_array = np.array([10,20,30,40,50,60])\n",
    "\n",
    "new_array = my_array.view()\n",
    "\n",
    "print(\"Before changes on View Array: \", new_array)\n",
    "\n",
    "new_array[0] = 23\n",
    "\n",
    "print(\"After changes Original Array\",my_array)\n",
    "print(\"After changes on View new Array are: \", new_array)"
   ]
  },
  {
   "cell_type": "markdown",
   "id": "940239fd",
   "metadata": {},
   "source": [
    "**Note : The view Should be affected by the changes made to the View Changes**"
   ]
  },
  {
   "cell_type": "markdown",
   "id": "ae70f875",
   "metadata": {},
   "source": [
    "### Check if Array owns its Data"
   ]
  },
  {
   "cell_type": "code",
   "execution_count": 14,
   "id": "c889d1eb",
   "metadata": {},
   "outputs": [
    {
     "name": "stdout",
     "output_type": "stream",
     "text": [
      "None\n",
      "[10 20 30 40 50 60]\n"
     ]
    }
   ],
   "source": [
    "import numpy as np\n",
    "\n",
    "my_array = np.array([10,20,30,40,50,60])\n",
    "\n",
    "x = my_array.copy()\n",
    "y = my_array.view()\n",
    "\n",
    "print(x.base)\n",
    "print(y.base)"
   ]
  },
  {
   "cell_type": "markdown",
   "id": "f9eb108d",
   "metadata": {},
   "source": [
    "### Numpy Shape of an Array"
   ]
  },
  {
   "cell_type": "markdown",
   "id": "1d7961fc",
   "metadata": {},
   "source": [
    "1. The shape of an arrya is the number of elements in each elements\n",
    "2. Numpy array have attribute called shape that returns a tuple with each having number of corresponding array"
   ]
  },
  {
   "cell_type": "code",
   "execution_count": 15,
   "id": "3917cb87",
   "metadata": {},
   "outputs": [
    {
     "data": {
      "text/plain": [
       "(2, 4)"
      ]
     },
     "execution_count": 15,
     "metadata": {},
     "output_type": "execute_result"
    }
   ],
   "source": [
    "import numpy as np\n",
    "\n",
    "my_array = np.array([[10,20,30,40],[50,60,70,80]])\n",
    "\n",
    "my_array.shape"
   ]
  },
  {
   "cell_type": "markdown",
   "id": "f7724107",
   "metadata": {},
   "source": [
    "**which means that 2 dimension, where each dimension has 4 elements**"
   ]
  },
  {
   "cell_type": "code",
   "execution_count": 17,
   "id": "71820c65",
   "metadata": {},
   "outputs": [
    {
     "name": "stdout",
     "output_type": "stream",
     "text": [
      "[[[[[10 20 30 40 50 60 70 80]]]]]\n",
      "Shape of Array:  (1, 1, 1, 1, 8)\n"
     ]
    }
   ],
   "source": [
    "import numpy as np\n",
    "\n",
    "my_array = np.array([10,20,30,40,50,60,70,80],ndmin=5)\n",
    "\n",
    "print(my_array)\n",
    "print(\"Shape of Array: \", my_array.shape)"
   ]
  },
  {
   "cell_type": "markdown",
   "id": "3c271bf2",
   "metadata": {},
   "source": [
    "# Numpy Array Reshaping"
   ]
  },
  {
   "cell_type": "code",
   "execution_count": 18,
   "id": "21c55a43",
   "metadata": {},
   "outputs": [
    {
     "name": "stdout",
     "output_type": "stream",
     "text": [
      "[[ 10  20  30]\n",
      " [ 40  50  60]\n",
      " [ 70  80  90]\n",
      " [100 110 120]]\n"
     ]
    }
   ],
   "source": [
    "import numpy as np\n",
    "\n",
    "my_array = np.array([10,20,30,40,50,60,70,80,90,100,110,120])\n",
    "\n",
    "new_array = my_array.reshape(4,3)\n",
    "print(new_array)"
   ]
  },
  {
   "cell_type": "code",
   "execution_count": 19,
   "id": "2a38f43a",
   "metadata": {},
   "outputs": [
    {
     "name": "stdout",
     "output_type": "stream",
     "text": [
      "[[ 10  20  30  40]\n",
      " [ 50  60  70  80]\n",
      " [ 90 100 110 120]]\n"
     ]
    }
   ],
   "source": [
    "import numpy as np\n",
    "\n",
    "my_array = np.array([10,20,30,40,50,60,70,80,90,100,110,120])\n",
    "\n",
    "new_array = my_array.reshape(3, 4)\n",
    "print(new_array)"
   ]
  },
  {
   "cell_type": "code",
   "execution_count": 21,
   "id": "a6147b19",
   "metadata": {},
   "outputs": [
    {
     "name": "stdout",
     "output_type": "stream",
     "text": [
      "[[ 10  20  30  40  50  60]\n",
      " [ 70  80  90 100 110 120]]\n"
     ]
    }
   ],
   "source": [
    "import numpy as np\n",
    "\n",
    "my_array = np.array([10,20,30,40,50,60,70,80,90,100,110,120])\n",
    "\n",
    "new_array = my_array.reshape(2, 6)\n",
    "print(new_array)"
   ]
  },
  {
   "cell_type": "code",
   "execution_count": 24,
   "id": "0115c774",
   "metadata": {},
   "outputs": [
    {
     "name": "stdout",
     "output_type": "stream",
     "text": [
      "[[ 10  20]\n",
      " [ 30  40]\n",
      " [ 50  60]\n",
      " [ 70  80]\n",
      " [ 90 100]\n",
      " [110 120]]\n",
      "2\n"
     ]
    }
   ],
   "source": [
    "import numpy as np\n",
    "\n",
    "my_array = np.array([10,20,30,40,50,60,70,80,90,100,110,120])\n",
    "\n",
    "new_array = my_array.reshape(6, 2)\n",
    "print(new_array)\n",
    "print(new_array.ndim)"
   ]
  },
  {
   "cell_type": "code",
   "execution_count": 25,
   "id": "24875428",
   "metadata": {},
   "outputs": [
    {
     "name": "stdout",
     "output_type": "stream",
     "text": [
      "[[[ 10  20  30]\n",
      "  [ 40  50  60]]\n",
      "\n",
      " [[ 70  80  90]\n",
      "  [100 110 120]]]\n",
      "3\n"
     ]
    }
   ],
   "source": [
    "import numpy as np\n",
    "\n",
    "my_array = np.array([10,20,30,40,50,60,70,80,90,100,110,120])\n",
    "\n",
    "new_array = my_array.reshape(2, 2, 3)\n",
    "print(new_array)\n",
    "print(new_array.ndim)"
   ]
  },
  {
   "cell_type": "code",
   "execution_count": null,
   "id": "dc2813f7",
   "metadata": {},
   "outputs": [],
   "source": []
  }
 ],
 "metadata": {
  "kernelspec": {
   "display_name": "Python 3 (ipykernel)",
   "language": "python",
   "name": "python3"
  },
  "language_info": {
   "codemirror_mode": {
    "name": "ipython",
    "version": 3
   },
   "file_extension": ".py",
   "mimetype": "text/x-python",
   "name": "python",
   "nbconvert_exporter": "python",
   "pygments_lexer": "ipython3",
   "version": "3.11.5"
  }
 },
 "nbformat": 4,
 "nbformat_minor": 5
}
