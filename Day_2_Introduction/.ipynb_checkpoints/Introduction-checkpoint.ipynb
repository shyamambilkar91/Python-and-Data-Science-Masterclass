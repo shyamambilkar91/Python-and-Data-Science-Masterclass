{
 "cells": [
  {
   "cell_type": "markdown",
   "id": "26270e2a",
   "metadata": {},
   "source": [
    "# Introduction to Python"
   ]
  },
  {
   "cell_type": "markdown",
   "id": "23a2a1b2",
   "metadata": {},
   "source": [
    "# What is Python ?"
   ]
  },
  {
   "cell_type": "markdown",
   "id": "433eee88",
   "metadata": {},
   "source": [
    "1. Python is general purpose high level Programming language\n",
    "2. Python is interpreted, interactive programming language\n",
    "3. Python is object oriented Programming language\n",
    "4. Easy to Understand\n",
    "5. Open Source (Free to anybody to use)\n",
    "6. Portability (Same work on machine)\n",
    "7. Embedded and Extension\n",
    "8. Huge Library supports"
   ]
  },
  {
   "cell_type": "markdown",
   "id": "6bcc270a",
   "metadata": {},
   "source": [
    "# Example"
   ]
  },
  {
   "cell_type": "markdown",
   "id": "cefd745c",
   "metadata": {},
   "source": [
    "1. Google:\n",
    "    1. Better Search results are provided based on ranking of the websites and much more\n",
    "2. DropBox:\n",
    "    2. The Server and client application are coded using Python programming\n",
    "3. Netflix:\n",
    "    1. Machine learning is used to cluster user based on there interest on shows using Python\n",
    "4. NCS:\n",
    "    1. Cyber Security Analysis an other Encryption and Decryption work done using Python\n",
    "5. Bittorent:\n",
    "    1. Transfer of Files between peer to peer network which started Normal python\n",
    "6. NASA / ISRO:\n",
    "    1. Scientific calculation to Reduce time"
   ]
  },
  {
   "cell_type": "markdown",
   "id": "4eafcaba",
   "metadata": {},
   "source": [
    "# Why Python ?"
   ]
  },
  {
   "cell_type": "markdown",
   "id": "ecfe527a",
   "metadata": {},
   "source": [
    "1. Easy to use Programming Language\n",
    "2. Multiple Paradigms\n",
    "3. A lot of Application (Apps, Games, WebBased, Rasberry pi)\n",
    "4. Web Frameworks:\n",
    "    1. Django\n",
    "    2. Flask\n",
    "    3. Frameworks\n",
    "5. Data Science\n",
    "6. Most used is Artificial Intelligence and Machine Learning \n",
    "7. Works on diffrent Platform\n",
    "8. Simple Syntax, Similar to english language"
   ]
  },
  {
   "cell_type": "markdown",
   "id": "4b198b8b",
   "metadata": {},
   "source": [
    "# What Python can Do ?"
   ]
  },
  {
   "cell_type": "markdown",
   "id": "658cddc3",
   "metadata": {},
   "source": [
    "1. Server to Create Web Application\n",
    "2. Python can be used to create software workflow\n",
    "3. Connect to Database System, also read and modify files\n",
    "4. Handling Big Data and Perform complex mathematics\n",
    "5. Used for rapid Prototyping\n",
    "6. For Production - Ready software Develpement"
   ]
  },
  {
   "cell_type": "markdown",
   "id": "c43a6a53",
   "metadata": {},
   "source": [
    "# Other Programming - Java"
   ]
  },
  {
   "cell_type": "code",
   "execution_count": null,
   "id": "47069cac",
   "metadata": {},
   "outputs": [],
   "source": [
    "class HelloWorld {\n",
    "    public static void main(String[] args){\n",
    "        System.out.println(\"Welcome to Data Science Placement Batch\");\n",
    "    }\n",
    "}"
   ]
  },
  {
   "cell_type": "code",
   "execution_count": 4,
   "id": "37a190db",
   "metadata": {},
   "outputs": [
    {
     "name": "stdout",
     "output_type": "stream",
     "text": [
      "Welcome to Data Science Placement Batch\n"
     ]
    }
   ],
   "source": [
    "print(\"Welcome to Data Science Placement Batch\")"
   ]
  },
  {
   "cell_type": "code",
   "execution_count": null,
   "id": "e49d1bb6",
   "metadata": {},
   "outputs": [],
   "source": [
    "public class SumofNumers {\n",
    "    public static void main(String[] args){\n",
    "        int num_1 = 10, num_2 = 20, sum;\n",
    "        sum = num_1 + num_2;\n",
    "        System.out.println(\"The sum of Two number is: \" + sum);\n",
    "    }\n",
    "}"
   ]
  },
  {
   "cell_type": "code",
   "execution_count": 6,
   "id": "ec6397ac",
   "metadata": {},
   "outputs": [
    {
     "name": "stdout",
     "output_type": "stream",
     "text": [
      "The sum of Two number is:  60\n"
     ]
    }
   ],
   "source": [
    "num_1 = 20\n",
    "num_2 = 40\n",
    "\n",
    "sum = num_1 + num_2\n",
    "print(\"The sum of Two number is: \",sum)"
   ]
  },
  {
   "cell_type": "code",
   "execution_count": null,
   "id": "177e1e5e",
   "metadata": {},
   "outputs": [],
   "source": [
    "Basic Concepts and Computations:\n",
    "    1. Variable:\n",
    "        1. Local Variable\n",
    "        2. Global Varible\n",
    "    2. Operators\n",
    "    3. Data Types:\n",
    "        1. Text Type (String -str)\n",
    "        2. Numric Types:\n",
    "            1. Integer\n",
    "            2. Float\n",
    "            3. Complex\n",
    "    4. Sequence Type:\n",
    "        1. List\n",
    "        2. Tuple\n",
    "        3. Range\n",
    "    5. Mapping Type:\n",
    "        1. Dict\n",
    "    6. Set Types:\n",
    "        1. Set\n",
    "        2. Frozenset\n",
    "    7. Boolean Types:\n",
    "        1. Bool\n",
    "    8. Binary Types:\n",
    "        1. Bytes\n",
    "        2. ByteArray\n",
    "        3. MemoryView\n",
    "    9. Functions\n",
    "    10. Looping Statement\n",
    "    11. Conditional Statement\n",
    "        "
   ]
  }
 ],
 "metadata": {
  "kernelspec": {
   "display_name": "Python 3 (ipykernel)",
   "language": "python",
   "name": "python3"
  },
  "language_info": {
   "codemirror_mode": {
    "name": "ipython",
    "version": 3
   },
   "file_extension": ".py",
   "mimetype": "text/x-python",
   "name": "python",
   "nbconvert_exporter": "python",
   "pygments_lexer": "ipython3",
   "version": "3.11.5"
  }
 },
 "nbformat": 4,
 "nbformat_minor": 5
}
