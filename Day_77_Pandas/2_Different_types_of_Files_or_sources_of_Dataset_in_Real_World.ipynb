{
 "cells": [
  {
   "cell_type": "markdown",
   "id": "fa7b928f",
   "metadata": {},
   "source": [
    "# Different Types of Files or Source Of"
   ]
  },
  {
   "cell_type": "markdown",
   "id": "bae88a12",
   "metadata": {},
   "source": [
    "### 1. Excel:\n",
    "    1. Analyze and Organized Data\n",
    "    2. Rows and Column within Cell\n",
    "\n",
    "![](https://cdn.analyticsvidhya.com/wp-content/uploads/2023/06/excel_ms.png)"
   ]
  },
  {
   "cell_type": "markdown",
   "id": "4c5aefee",
   "metadata": {},
   "source": [
    "### 2. CSV - Comma Separated Value:\n",
    "    1. Delimated Text File\n",
    "    2. Store Tabular data\n",
    "    3. data field separated by comma\n",
    "\n",
    "![](https://media.licdn.com/dms/image/D5612AQHC2nx9rC9FQg/article-cover_image-shrink_600_2000/0/1687377146849?e=2147483647&v=beta&t=t8BQ7HJi-SkLtfee3jIRef_8Ry2X45BZTsGVuHS2lwU)"
   ]
  },
  {
   "cell_type": "markdown",
   "id": "03c12c91",
   "metadata": {},
   "source": [
    "### 3. JSON - Java Script Object Notation:\n",
    "    1. Open standard file format\n",
    "    2. Lightweight\n",
    "    3. Language Independent\n",
    "    \n",
    "![](https://www.opc-router.de/wp-content/uploads/2023/12/icon_json-datei_format_1200-1-1024x410.png)"
   ]
  },
  {
   "cell_type": "markdown",
   "id": "2c9dba15",
   "metadata": {},
   "source": [
    "### 4. HDFS - Hadoop Distrubuted File System:\n",
    "    1. Design for Large Data \n",
    "    2. Default size of HDFS Block is 128MB\n",
    "\n",
    "![](https://miro.medium.com/v2/resize:fit:575/1*TpKqKWq1YokFOBB8FTqmwQ.jpeg)"
   ]
  },
  {
   "cell_type": "markdown",
   "id": "e6cf9fa0",
   "metadata": {},
   "source": [
    "### 5. SAS - Statistical Analysis System:\n",
    "    1. Organized in Row and Column\n",
    "    2. Rows are called Observations\n",
    "    3. Columns are called SAS variable\n",
    "    4. Easy to Read\n",
    "    \n",
    "![](https://upload.wikimedia.org/wikipedia/commons/thumb/1/10/SAS_logo_horiz.svg/2560px-SAS_logo_horiz.svg.png)"
   ]
  },
  {
   "cell_type": "markdown",
   "id": "2598e1eb",
   "metadata": {},
   "source": [
    "### 6. SPSS - Statistical Package for Social Science:\n",
    "    1. Market Researchers\n",
    "    2. Health Researchers\n",
    "    3. Survey Companies \n",
    "    4. Governments\n",
    "    \n",
    "![](https://higherlogicdownload.s3.amazonaws.com/IMWUC/UploadedImages/a3k5TbfStSMwrZcR20bg_ProcessDiagram-L.png)"
   ]
  },
  {
   "cell_type": "code",
   "execution_count": null,
   "id": "125d538b",
   "metadata": {},
   "outputs": [],
   "source": []
  }
 ],
 "metadata": {
  "kernelspec": {
   "display_name": "Python 3 (ipykernel)",
   "language": "python",
   "name": "python3"
  },
  "language_info": {
   "codemirror_mode": {
    "name": "ipython",
    "version": 3
   },
   "file_extension": ".py",
   "mimetype": "text/x-python",
   "name": "python",
   "nbconvert_exporter": "python",
   "pygments_lexer": "ipython3",
   "version": "3.11.5"
  }
 },
 "nbformat": 4,
 "nbformat_minor": 5
}
