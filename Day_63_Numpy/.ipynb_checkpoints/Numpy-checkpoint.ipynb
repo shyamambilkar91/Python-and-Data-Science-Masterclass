{
 "cells": [
  {
   "cell_type": "markdown",
   "id": "c02a234a",
   "metadata": {},
   "source": [
    "# Numpy Joining Array"
   ]
  },
  {
   "cell_type": "markdown",
   "id": "66df9143",
   "metadata": {},
   "source": [
    "1. Joining means content of two or more arrays in single array\n",
    "2. In SQl we join table based on a key, whereas in Numpy we join arrays by axis\n",
    "3. We pass sequence of array that we want to join the concatnate() function along with axis\n",
    "4. If axis is not explicitly passed if it taken 0"
   ]
  },
  {
   "cell_type": "code",
   "execution_count": 1,
   "id": "0a5072c5",
   "metadata": {},
   "outputs": [],
   "source": [
    "import numpy as np"
   ]
  },
  {
   "cell_type": "code",
   "execution_count": 2,
   "id": "710ee4f9",
   "metadata": {},
   "outputs": [
    {
     "name": "stdout",
     "output_type": "stream",
     "text": [
      "[ 10  20  30  40  50  60  70  80  90 100]\n"
     ]
    }
   ],
   "source": [
    "my_array_1 = np.array([10,20,30,40,50])\n",
    "\n",
    "my_array_2 = np.array([60,70,80,90,100])\n",
    "\n",
    "new_array = np.concatenate((my_array_1,my_array_2))\n",
    "\n",
    "print(new_array)"
   ]
  },
  {
   "cell_type": "code",
   "execution_count": 3,
   "id": "6a462bb5",
   "metadata": {},
   "outputs": [
    {
     "name": "stdout",
     "output_type": "stream",
     "text": [
      "[[ 10  20  30  40]\n",
      " [ 50  60  70  80]\n",
      " [ 90 100 110 120]\n",
      " [130 140 150 160]]\n"
     ]
    }
   ],
   "source": [
    "my_array_1 = np.array([[10,20,30,40],[50,60,70,80]])\n",
    "\n",
    "my_array_2 = np.array([[90,100,110,120],[130,140,150,160]])\n",
    "\n",
    "new_array = np.concatenate((my_array_1,my_array_2))\n",
    "\n",
    "print(new_array)"
   ]
  },
  {
   "cell_type": "code",
   "execution_count": 4,
   "id": "61565740",
   "metadata": {},
   "outputs": [
    {
     "name": "stdout",
     "output_type": "stream",
     "text": [
      "[[ 10  20  30  40  90 100 110 120]\n",
      " [ 50  60  70  80 130 140 150 160]]\n"
     ]
    }
   ],
   "source": [
    "my_array_1 = np.array([[10,20,30,40],[50,60,70,80]])\n",
    "\n",
    "my_array_2 = np.array([[90,100,110,120],[130,140,150,160]])\n",
    "\n",
    "new_array = np.concatenate((my_array_1,my_array_2), axis =1)\n",
    "\n",
    "print(new_array)"
   ]
  },
  {
   "cell_type": "markdown",
   "id": "44350d36",
   "metadata": {},
   "source": [
    "## Joining Array using Stack function"
   ]
  },
  {
   "cell_type": "code",
   "execution_count": 5,
   "id": "ceec752d",
   "metadata": {},
   "outputs": [
    {
     "name": "stdout",
     "output_type": "stream",
     "text": [
      "[[ 10  20  30  40  50]\n",
      " [ 60  70  80  90 100]]\n"
     ]
    }
   ],
   "source": [
    "my_array_1 = np.array([10,20,30,40,50])\n",
    "\n",
    "my_array_2 = np.array([60,70,80,90,100])\n",
    "\n",
    "new_array = np.stack((my_array_1,my_array_2))\n",
    "print(new_array)"
   ]
  },
  {
   "cell_type": "code",
   "execution_count": 6,
   "id": "6a0785d2",
   "metadata": {},
   "outputs": [
    {
     "name": "stdout",
     "output_type": "stream",
     "text": [
      "[[ 10  60]\n",
      " [ 20  70]\n",
      " [ 30  80]\n",
      " [ 40  90]\n",
      " [ 50 100]]\n"
     ]
    }
   ],
   "source": [
    "my_array_1 = np.array([10,20,30,40,50])\n",
    "\n",
    "my_array_2 = np.array([60,70,80,90,100])\n",
    "\n",
    "new_array = np.stack((my_array_1,my_array_2),axis = 1)\n",
    "print(new_array)"
   ]
  },
  {
   "cell_type": "markdown",
   "id": "4bb6cc35",
   "metadata": {},
   "source": [
    "## Stacking with Rows"
   ]
  },
  {
   "cell_type": "code",
   "execution_count": 7,
   "id": "ca827153",
   "metadata": {},
   "outputs": [
    {
     "name": "stdout",
     "output_type": "stream",
     "text": [
      "[ 10  20  30  40  50  60  70  80  90 100]\n"
     ]
    }
   ],
   "source": [
    "my_array_1 = np.array([10,20,30,40,50])\n",
    "\n",
    "my_array_2 = np.array([60,70,80,90,100])\n",
    "\n",
    "new_array = np.hstack((my_array_1,my_array_2))\n",
    "print(new_array)"
   ]
  },
  {
   "cell_type": "markdown",
   "id": "c51ed8cb",
   "metadata": {},
   "source": [
    "## Stacking with Column"
   ]
  },
  {
   "cell_type": "code",
   "execution_count": 8,
   "id": "fb600f42",
   "metadata": {},
   "outputs": [
    {
     "name": "stdout",
     "output_type": "stream",
     "text": [
      "[[ 10  20  30  40  50]\n",
      " [ 60  70  80  90 100]]\n"
     ]
    }
   ],
   "source": [
    "my_array_1 = np.array([10,20,30,40,50])\n",
    "\n",
    "my_array_2 = np.array([60,70,80,90,100])\n",
    "\n",
    "new_array = np.vstack((my_array_1,my_array_2))\n",
    "print(new_array)"
   ]
  },
  {
   "cell_type": "code",
   "execution_count": 9,
   "id": "1ca67d0f",
   "metadata": {},
   "outputs": [
    {
     "name": "stdout",
     "output_type": "stream",
     "text": [
      "[[[ 10  60]\n",
      "  [ 20  70]\n",
      "  [ 30  80]\n",
      "  [ 40  90]\n",
      "  [ 50 100]]]\n"
     ]
    }
   ],
   "source": [
    "my_array_1 = np.array([10,20,30,40,50])\n",
    "\n",
    "my_array_2 = np.array([60,70,80,90,100])\n",
    "\n",
    "new_array = np.dstack((my_array_1,my_array_2))\n",
    "print(new_array)"
   ]
  },
  {
   "cell_type": "markdown",
   "id": "2e9450b8",
   "metadata": {},
   "source": [
    "## Numpy Splitting Array"
   ]
  },
  {
   "cell_type": "markdown",
   "id": "57a6a0a0",
   "metadata": {},
   "source": [
    "1. Splitting is reverse operation of Joining\n",
    "2. Joining merges multiple arrays into one and splitting break one array to multiple array.\n",
    "3. We use array_split() for splitting arrays, we pass it in the array we want to split and number of arrays(splits)"
   ]
  },
  {
   "cell_type": "code",
   "execution_count": 10,
   "id": "5847d30c",
   "metadata": {},
   "outputs": [
    {
     "name": "stdout",
     "output_type": "stream",
     "text": [
      "[array([10, 20, 30]), array([40, 50, 60]), array([70, 80])]\n"
     ]
    }
   ],
   "source": [
    "my_array_1 = np.array([10,20,30,40,50,60,70,80])\n",
    "\n",
    "new_array = np.array_split(my_array_1, 3)\n",
    "\n",
    "print(new_array)"
   ]
  },
  {
   "cell_type": "code",
   "execution_count": 11,
   "id": "5416a9b8",
   "metadata": {},
   "outputs": [
    {
     "name": "stdout",
     "output_type": "stream",
     "text": [
      "[array([10, 20]), array([30, 40]), array([50, 60]), array([70, 80])]\n"
     ]
    }
   ],
   "source": [
    "my_array_1 = np.array([10,20,30,40,50,60,70,80])\n",
    "\n",
    "new_array = np.array_split(my_array_1, 4)\n",
    "\n",
    "print(new_array)"
   ]
  },
  {
   "cell_type": "code",
   "execution_count": 12,
   "id": "84fa1c79",
   "metadata": {},
   "outputs": [
    {
     "name": "stdout",
     "output_type": "stream",
     "text": [
      "[array([10, 20]), array([30, 40]), array([50, 60]), array([70]), array([80])]\n"
     ]
    }
   ],
   "source": [
    "my_array_1 = np.array([10,20,30,40,50,60,70,80])\n",
    "\n",
    "new_array = np.array_split(my_array_1, 5)\n",
    "\n",
    "print(new_array)"
   ]
  },
  {
   "cell_type": "code",
   "execution_count": 13,
   "id": "f70e6616",
   "metadata": {},
   "outputs": [
    {
     "name": "stdout",
     "output_type": "stream",
     "text": [
      "[array([10, 20, 30]), array([40, 50, 60]), array([70, 80])]\n"
     ]
    }
   ],
   "source": [
    "my_array_1 = np.array([10,20,30,40,50,60,70,80])\n",
    "\n",
    "new_array = np.array_split(my_array_1, 3)\n",
    "\n",
    "print(new_array)"
   ]
  },
  {
   "cell_type": "code",
   "execution_count": 15,
   "id": "e722edfe",
   "metadata": {},
   "outputs": [
    {
     "name": "stdout",
     "output_type": "stream",
     "text": [
      "50\n"
     ]
    }
   ],
   "source": [
    "print(new_array[1][1])"
   ]
  },
  {
   "cell_type": "code",
   "execution_count": 16,
   "id": "da92a715",
   "metadata": {},
   "outputs": [
    {
     "name": "stdout",
     "output_type": "stream",
     "text": [
      "[40 50]\n"
     ]
    }
   ],
   "source": [
    "print(new_array[1][:2])"
   ]
  },
  {
   "cell_type": "markdown",
   "id": "09233593",
   "metadata": {},
   "source": [
    "# Splitting 2-D Arrays"
   ]
  },
  {
   "cell_type": "markdown",
   "id": "a9b9a53c",
   "metadata": {},
   "source": [
    "1. Use the same syntax while splitting 2-D arryas\n",
    "2. Use array_split() method pass the array you want to split and number of split"
   ]
  },
  {
   "cell_type": "code",
   "execution_count": 17,
   "id": "0f8dfa70",
   "metadata": {},
   "outputs": [
    {
     "name": "stdout",
     "output_type": "stream",
     "text": [
      "[array([[10, 20, 30, 40]]), array([[50, 60, 70, 80]]), array([], shape=(0, 4), dtype=int32)]\n"
     ]
    }
   ],
   "source": [
    "my_array_1 = np.array([[10,20,30,40],[50,60,70,80]])\n",
    "\n",
    "new_array = np.array_split(my_array_1, 3)\n",
    "print(new_array)"
   ]
  },
  {
   "cell_type": "code",
   "execution_count": 18,
   "id": "a55e7a70",
   "metadata": {},
   "outputs": [
    {
     "name": "stdout",
     "output_type": "stream",
     "text": [
      "[array([[10, 20, 30, 40]]), array([[50, 60, 70, 80]]), array([], shape=(0, 4), dtype=int32), array([], shape=(0, 4), dtype=int32)]\n"
     ]
    }
   ],
   "source": [
    "my_array_1 = np.array([[10,20,30,40],[50,60,70,80]])\n",
    "\n",
    "new_array = np.array_split(my_array_1, 4)\n",
    "print(new_array)"
   ]
  },
  {
   "cell_type": "markdown",
   "id": "446ce3cb",
   "metadata": {},
   "source": [
    "# Numpy Searching Arrays"
   ]
  },
  {
   "cell_type": "code",
   "execution_count": 19,
   "id": "b652fdc6",
   "metadata": {},
   "outputs": [],
   "source": [
    "import numpy as np"
   ]
  },
  {
   "cell_type": "code",
   "execution_count": 20,
   "id": "e1741eea",
   "metadata": {},
   "outputs": [
    {
     "name": "stdout",
     "output_type": "stream",
     "text": [
      "(array([], dtype=int64),)\n"
     ]
    }
   ],
   "source": [
    "my_array_1 = np.array([10,20,30,40,50,60,70,80])\n",
    "\n",
    "new_array = np.where(my_array_1 == 4)\n",
    "\n",
    "print(new_array)"
   ]
  },
  {
   "cell_type": "code",
   "execution_count": 21,
   "id": "14fdcb0a",
   "metadata": {},
   "outputs": [
    {
     "name": "stdout",
     "output_type": "stream",
     "text": [
      "(array([3], dtype=int64),)\n"
     ]
    }
   ],
   "source": [
    "my_array_1 = np.array([10,20,30,40,50,60,70,80])\n",
    "\n",
    "new_array = np.where(my_array_1 == 40)\n",
    "\n",
    "print(new_array)"
   ]
  },
  {
   "cell_type": "code",
   "execution_count": 22,
   "id": "f5f3133d",
   "metadata": {},
   "outputs": [
    {
     "name": "stdout",
     "output_type": "stream",
     "text": [
      "(array([0, 1, 2, 3, 4, 5, 6, 7], dtype=int64),)\n"
     ]
    }
   ],
   "source": [
    "my_array_1 = np.array([10,20,30,40,50,60,70,80])\n",
    "\n",
    "new_array = np.where(my_array_1 % 2 == 0)\n",
    "print(new_array)"
   ]
  },
  {
   "cell_type": "code",
   "execution_count": 23,
   "id": "3350d112",
   "metadata": {},
   "outputs": [
    {
     "name": "stdout",
     "output_type": "stream",
     "text": [
      "(array([0, 1, 3, 4, 6, 7], dtype=int64),)\n"
     ]
    }
   ],
   "source": [
    "my_array_1 = np.array([10,20,31,40,50,61,70,80])\n",
    "\n",
    "new_array = np.where(my_array_1 % 2 == 0)\n",
    "print(new_array)"
   ]
  },
  {
   "cell_type": "code",
   "execution_count": 24,
   "id": "d8fb6c5a",
   "metadata": {},
   "outputs": [
    {
     "name": "stdout",
     "output_type": "stream",
     "text": [
      "(array([2, 5], dtype=int64),)\n"
     ]
    }
   ],
   "source": [
    "my_array_1 = np.array([10,20,31,40,50,61,70,80])\n",
    "\n",
    "new_array = np.where(my_array_1 % 2 == 1)\n",
    "print(new_array)"
   ]
  },
  {
   "cell_type": "markdown",
   "id": "1e72b5c3",
   "metadata": {},
   "source": [
    "# Numpy Array Sorting"
   ]
  },
  {
   "cell_type": "code",
   "execution_count": 25,
   "id": "e41d2eb1",
   "metadata": {},
   "outputs": [
    {
     "name": "stdout",
     "output_type": "stream",
     "text": [
      "[  2   5   7  31  45  61  85 100]\n"
     ]
    }
   ],
   "source": [
    "my_array_1 = np.array([100,2,31,45,5,61,7,85])\n",
    "\n",
    "new_array = np.sort(my_array_1)\n",
    "print(new_array)"
   ]
  },
  {
   "cell_type": "code",
   "execution_count": 26,
   "id": "eea8907f",
   "metadata": {},
   "outputs": [
    {
     "name": "stdout",
     "output_type": "stream",
     "text": [
      "['apple' 'banana' 'cherry' 'fruit' 'grapes' 'mango' 'pineapple']\n"
     ]
    }
   ],
   "source": [
    "my_array_1 = np.array(['banana','apple','pineapple','mango','cherry','fruit','grapes'])\n",
    "\n",
    "new_array = np.sort(my_array_1)\n",
    "print(new_array)"
   ]
  },
  {
   "cell_type": "code",
   "execution_count": 28,
   "id": "66514684",
   "metadata": {},
   "outputs": [],
   "source": [
    "# help(np.sort(my_array_1))"
   ]
  },
  {
   "cell_type": "markdown",
   "id": "ce754fa0",
   "metadata": {},
   "source": [
    "## Create Filter Array"
   ]
  },
  {
   "cell_type": "code",
   "execution_count": 31,
   "id": "23af4a44",
   "metadata": {},
   "outputs": [
    {
     "name": "stdout",
     "output_type": "stream",
     "text": [
      "[ 42  43  44  85  70 100]\n",
      "[False, True, True, True, True, True, True]\n"
     ]
    }
   ],
   "source": [
    "import numpy as np\n",
    "\n",
    "my_array_1 = np.array([41,42,43,44,85,70,100])\n",
    "\n",
    "# create empty list\n",
    "filter_array = []\n",
    "\n",
    "output = []\n",
    "\n",
    "for element in my_array_1:\n",
    "    if element >= 42:\n",
    "        filter_array.append(True)\n",
    "    else:\n",
    "        filter_array.append(False)\n",
    "        \n",
    "new_array = my_array_1[filter_array]\n",
    "\n",
    "print(new_array)\n",
    "\n",
    "print(filter_array)\n"
   ]
  },
  {
   "cell_type": "code",
   "execution_count": 35,
   "id": "86a7b79a",
   "metadata": {},
   "outputs": [
    {
     "name": "stdout",
     "output_type": "stream",
     "text": [
      "[ 42  43  44  85  70 100]\n",
      "[41]\n"
     ]
    }
   ],
   "source": [
    "import numpy as np\n",
    "\n",
    "my_array_1 = np.array([41,42,43,44,85,70,100])\n",
    "\n",
    "# create empty list\n",
    "filter_array = []\n",
    "\n",
    "output = []\n",
    "\n",
    "for element in my_array_1:\n",
    "    if element >= 42:\n",
    "        filter_array.append(element)\n",
    "    else:\n",
    "        output.append(element)\n",
    "        \n",
    "# new_array = my_array_1[filter_array]\n",
    "\n",
    "print(new_array)\n",
    "\n",
    "print(output)\n"
   ]
  },
  {
   "cell_type": "code",
   "execution_count": 37,
   "id": "3e9d3baa",
   "metadata": {},
   "outputs": [
    {
     "name": "stdout",
     "output_type": "stream",
     "text": [
      "{41: 3, 42: 1, 43: 2, 44: 4, 85: 1, 70: 1, 100: 1}\n"
     ]
    }
   ],
   "source": [
    "my_array_1 = [41,42,43,44,85,70,100,41,41,43,44,44,44]\n",
    "\n",
    "output = {}\n",
    "\n",
    "for i in my_array_1:\n",
    "    if i in output:\n",
    "        output[i] = output[i] + 1\n",
    "    else:\n",
    "        output[i] = 1\n",
    "        \n",
    "print(output)"
   ]
  },
  {
   "cell_type": "code",
   "execution_count": 38,
   "id": "e25ff705",
   "metadata": {},
   "outputs": [
    {
     "name": "stdout",
     "output_type": "stream",
     "text": [
      "{41: 3, 42: 1, 43: 2, 44: 4, 85: 1, 70: 1, 100: 1}\n",
      "[13]\n"
     ]
    }
   ],
   "source": [
    "my_array_1 = [41,42,43,44,85,70,100,41,41,43,44,44,44]\n",
    "\n",
    "output = {}\n",
    "\n",
    "addtion_op = []\n",
    "\n",
    "for i in my_array_1:\n",
    "    if i in output:\n",
    "        output[i] = output[i] + 1\n",
    "    else:\n",
    "        output[i] = 1\n",
    "        \n",
    "        \n",
    "addtion_op.append(sum(output.values()))\n",
    "        \n",
    "print(output)\n",
    "print(addtion_op)"
   ]
  },
  {
   "cell_type": "code",
   "execution_count": null,
   "id": "bf5f1bec",
   "metadata": {},
   "outputs": [],
   "source": []
  }
 ],
 "metadata": {
  "kernelspec": {
   "display_name": "Python 3 (ipykernel)",
   "language": "python",
   "name": "python3"
  },
  "language_info": {
   "codemirror_mode": {
    "name": "ipython",
    "version": 3
   },
   "file_extension": ".py",
   "mimetype": "text/x-python",
   "name": "python",
   "nbconvert_exporter": "python",
   "pygments_lexer": "ipython3",
   "version": "3.11.5"
  }
 },
 "nbformat": 4,
 "nbformat_minor": 5
}
