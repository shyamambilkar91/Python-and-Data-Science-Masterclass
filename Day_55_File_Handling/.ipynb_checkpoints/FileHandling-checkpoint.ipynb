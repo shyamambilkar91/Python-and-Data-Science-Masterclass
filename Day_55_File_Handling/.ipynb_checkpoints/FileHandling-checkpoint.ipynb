{
 "cells": [
  {
   "cell_type": "markdown",
   "id": "031e39eb",
   "metadata": {},
   "source": [
    "# Python Write Files"
   ]
  },
  {
   "cell_type": "markdown",
   "id": "b1b68273",
   "metadata": {},
   "source": [
    "1. To write to an existing file, you must add a parameter to the open() function:\n",
    "    1. \"a\" = Append = Will append to the end of the file\n",
    "    2. \"w\" = Write = will overwrite any existing content"
   ]
  },
  {
   "cell_type": "code",
   "execution_count": 3,
   "id": "95f8cad3",
   "metadata": {},
   "outputs": [
    {
     "name": "stdout",
     "output_type": "stream",
     "text": [
      "Welcome to Python File Handling Conceptwelcome to Python & Data Science Class...!! welcome to Python & Data Science Class...!!\n"
     ]
    }
   ],
   "source": [
    "file = open(\"my_file.txt\", \"a\")\n",
    "file.write(\" welcome to Python & Data Science Class...!!\")\n",
    "file.close()\n",
    "\n",
    "file = open(\"my_file.txt\", \"r\")\n",
    "print(file.read())"
   ]
  },
  {
   "cell_type": "code",
   "execution_count": 7,
   "id": "479b3be9",
   "metadata": {},
   "outputs": [],
   "source": [
    "file = open(\"my_file.txt\",\"w\")\n",
    "file.write(\"Woops..!!, I have deleted the content of file...!!\")\n",
    "file.close()"
   ]
  },
  {
   "cell_type": "code",
   "execution_count": 8,
   "id": "66374335",
   "metadata": {},
   "outputs": [
    {
     "name": "stdout",
     "output_type": "stream",
     "text": [
      "Woops..!!, I have deleted the content of file...!!\n"
     ]
    }
   ],
   "source": [
    "file = open(\"my_file.txt\",\"r\")\n",
    "print(file.read())"
   ]
  },
  {
   "cell_type": "markdown",
   "id": "d83b680f",
   "metadata": {},
   "source": [
    "## Create a New File "
   ]
  },
  {
   "cell_type": "markdown",
   "id": "dbce8181",
   "metadata": {},
   "source": [
    "1. To create new file in Python, use the open() method, with one of the following parameters:\n",
    "    1. \"x\" = Create = Will create a new file, return an error if the file has already exist\n",
    "    2. \"a\" = Will create a new file if the specified file does not exist in the specified location\n",
    "    3. \"w\" = Will create a new file if the specified file does not exist in the specified location"
   ]
  },
  {
   "cell_type": "code",
   "execution_count": 9,
   "id": "94f5362f",
   "metadata": {},
   "outputs": [],
   "source": [
    "my_file = open(\"my_data.txt\", \"x\")"
   ]
  },
  {
   "cell_type": "markdown",
   "id": "65874af7",
   "metadata": {},
   "source": [
    "**Note : A new empty file is created**"
   ]
  },
  {
   "cell_type": "code",
   "execution_count": 10,
   "id": "e7b7bf44",
   "metadata": {},
   "outputs": [],
   "source": [
    "my_file = open(\"my_data_1.txt\",\"a\")"
   ]
  },
  {
   "cell_type": "code",
   "execution_count": 11,
   "id": "398da7ff",
   "metadata": {},
   "outputs": [],
   "source": [
    "my_file = open(\"my_data_2.txt\",\"w\")"
   ]
  },
  {
   "cell_type": "code",
   "execution_count": 16,
   "id": "deb406ec",
   "metadata": {},
   "outputs": [],
   "source": [
    "my_file.close()"
   ]
  },
  {
   "cell_type": "markdown",
   "id": "c120e002",
   "metadata": {},
   "source": [
    "## Python Delete File"
   ]
  },
  {
   "cell_type": "code",
   "execution_count": 12,
   "id": "d6f8ce59",
   "metadata": {},
   "outputs": [],
   "source": [
    "import os"
   ]
  },
  {
   "cell_type": "code",
   "execution_count": 14,
   "id": "896c56a7",
   "metadata": {},
   "outputs": [],
   "source": [
    "# help(os)"
   ]
  },
  {
   "cell_type": "markdown",
   "id": "4996fc3f",
   "metadata": {},
   "source": [
    "1. To delete a file, must import the OS module and run the os.remove() function"
   ]
  },
  {
   "cell_type": "code",
   "execution_count": 17,
   "id": "c660be09",
   "metadata": {},
   "outputs": [],
   "source": [
    "import os\n",
    "os.remove(\"my_data_2.txt\")"
   ]
  },
  {
   "cell_type": "markdown",
   "id": "cfeb4c6a",
   "metadata": {},
   "source": [
    "### Check if file exists"
   ]
  },
  {
   "cell_type": "code",
   "execution_count": 18,
   "id": "2c74bec5",
   "metadata": {},
   "outputs": [
    {
     "name": "stdout",
     "output_type": "stream",
     "text": [
      "The file does not exist...!!\n"
     ]
    }
   ],
   "source": [
    "import os\n",
    "\n",
    "if os.path.exists(\"my_data_2.txt\"):\n",
    "    os.remove(\"my_data_2.txt\")\n",
    "else:\n",
    "    print(\"The file does not exist...!!\")"
   ]
  },
  {
   "cell_type": "code",
   "execution_count": 19,
   "id": "6d9553f5",
   "metadata": {},
   "outputs": [
    {
     "name": "stdout",
     "output_type": "stream",
     "text": [
      "The file deleted Successfully...!!\n"
     ]
    }
   ],
   "source": [
    "import os\n",
    "\n",
    "if os.path.exists(\"my_data_1.txt\"):\n",
    "    os.remove(\"my_data_1.txt\")\n",
    "    print(\"The file deleted Successfully...!!\")\n",
    "else:\n",
    "    print(\"The file does not exist...!!\")"
   ]
  },
  {
   "cell_type": "markdown",
   "id": "f568dd24",
   "metadata": {},
   "source": [
    "### Delete Directory"
   ]
  },
  {
   "cell_type": "markdown",
   "id": "2839a59c",
   "metadata": {},
   "source": [
    "1. To delete an entire directory (Folder) os.rmdir() method"
   ]
  },
  {
   "cell_type": "code",
   "execution_count": 20,
   "id": "3b024fd4",
   "metadata": {},
   "outputs": [
    {
     "ename": "OSError",
     "evalue": "[WinError 145] The directory is not empty: 'Data/'",
     "output_type": "error",
     "traceback": [
      "\u001b[1;31m---------------------------------------------------------------------------\u001b[0m",
      "\u001b[1;31mOSError\u001b[0m                                   Traceback (most recent call last)",
      "Cell \u001b[1;32mIn[20], line 3\u001b[0m\n\u001b[0;32m      1\u001b[0m \u001b[38;5;28;01mimport\u001b[39;00m \u001b[38;5;21;01mos\u001b[39;00m\n\u001b[1;32m----> 3\u001b[0m os\u001b[38;5;241m.\u001b[39mrmdir(\u001b[38;5;124m\"\u001b[39m\u001b[38;5;124mData/\u001b[39m\u001b[38;5;124m\"\u001b[39m)\n",
      "\u001b[1;31mOSError\u001b[0m: [WinError 145] The directory is not empty: 'Data/'"
     ]
    }
   ],
   "source": [
    "import os\n",
    "\n",
    "os.rmdir(\"Data/\")"
   ]
  },
  {
   "cell_type": "code",
   "execution_count": 22,
   "id": "ed75a474",
   "metadata": {},
   "outputs": [
    {
     "name": "stdout",
     "output_type": "stream",
     "text": [
      "The file deleted Successfully...!!\n"
     ]
    }
   ],
   "source": [
    "import os\n",
    "\n",
    "if os.path.exists(\"Data/my_data.txt\"):\n",
    "    os.remove(\"Data/my_data.txt\")\n",
    "    print(\"The file deleted Successfully...!!\")\n",
    "else:\n",
    "    print(\"The file does not exist...!!\")"
   ]
  },
  {
   "cell_type": "code",
   "execution_count": 25,
   "id": "c8bdd1da",
   "metadata": {},
   "outputs": [],
   "source": [
    "import os\n",
    "\n",
    "os.rmdir(\"Data_1/\")"
   ]
  },
  {
   "cell_type": "markdown",
   "id": "f522a9e9",
   "metadata": {},
   "source": [
    "1. Iterator\n",
    "2. Generator\n",
    "3. Async vs Sync\n",
    "4. Memory Management"
   ]
  },
  {
   "cell_type": "markdown",
   "id": "54ec5b9e",
   "metadata": {},
   "source": [
    "## Interview Question"
   ]
  },
  {
   "cell_type": "markdown",
   "id": "2c840003",
   "metadata": {},
   "source": [
    "1. List\n",
    "2. Tuple\n",
    "3. Dict\n",
    "4. Set\n",
    "5. OOPS\n",
    "6. Data Structure - \n",
    "7. Function:\n",
    "    1. Local\n",
    "    2. Global\n",
    "8. Iterator\n",
    "9. Generator\n",
    "10 Async vs Sync\n",
    "11. Memory Management\n",
    "13. Variable:\n",
    "    1. Local Variable\n",
    "    2. Global Variable\n",
    "14. Mutable vs Immutable\n",
    "15. Lambda Function\n",
    "16. List Comprehension"
   ]
  },
  {
   "cell_type": "code",
   "execution_count": null,
   "id": "814c8769",
   "metadata": {},
   "outputs": [],
   "source": []
  }
 ],
 "metadata": {
  "kernelspec": {
   "display_name": "Python 3 (ipykernel)",
   "language": "python",
   "name": "python3"
  },
  "language_info": {
   "codemirror_mode": {
    "name": "ipython",
    "version": 3
   },
   "file_extension": ".py",
   "mimetype": "text/x-python",
   "name": "python",
   "nbconvert_exporter": "python",
   "pygments_lexer": "ipython3",
   "version": "3.11.5"
  }
 },
 "nbformat": 4,
 "nbformat_minor": 5
}
