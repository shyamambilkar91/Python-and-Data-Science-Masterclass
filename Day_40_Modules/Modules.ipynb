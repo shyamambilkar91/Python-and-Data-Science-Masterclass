{
 "cells": [
  {
   "cell_type": "markdown",
   "id": "b393b276",
   "metadata": {},
   "source": [
    "## Python Dates"
   ]
  },
  {
   "cell_type": "markdown",
   "id": "037f5c06",
   "metadata": {},
   "source": [
    "1. A date in Python is not a data type of its own, but we can import date as module named datetime to work with dates as  date object"
   ]
  },
  {
   "cell_type": "code",
   "execution_count": 1,
   "id": "a67dbb11",
   "metadata": {},
   "outputs": [],
   "source": [
    "import datetime"
   ]
  },
  {
   "cell_type": "code",
   "execution_count": 2,
   "id": "e5794648",
   "metadata": {},
   "outputs": [
    {
     "name": "stdout",
     "output_type": "stream",
     "text": [
      "2024-04-05 19:25:06.129431\n"
     ]
    }
   ],
   "source": [
    "my_date = datetime.datetime.now()\n",
    "print(my_date)"
   ]
  },
  {
   "cell_type": "markdown",
   "id": "1ae99405",
   "metadata": {},
   "source": [
    "## Date Output"
   ]
  },
  {
   "cell_type": "markdown",
   "id": "c5302399",
   "metadata": {},
   "source": [
    "1. When execute a code from the above example the result will display\n",
    "2. Result - **2024-04-05 19:25:06.129431**\n",
    "3. The date contains year, month, date, **Time** Hours, minute,second and microseconds\n",
    "4. The datetime modules has many method to return information about the date object"
   ]
  },
  {
   "cell_type": "code",
   "execution_count": 8,
   "id": "196824d0",
   "metadata": {},
   "outputs": [
    {
     "name": "stdout",
     "output_type": "stream",
     "text": [
      "2024\n",
      "4\n",
      "5\n"
     ]
    }
   ],
   "source": [
    "import datetime\n",
    "\n",
    "my_date = datetime.datetime.now()\n",
    "print(my_date.year)\n",
    "print(my_date.month)\n",
    "print(my_date.day)"
   ]
  },
  {
   "cell_type": "code",
   "execution_count": 9,
   "id": "f7a19daf",
   "metadata": {},
   "outputs": [
    {
     "name": "stdout",
     "output_type": "stream",
     "text": [
      "Friday\n"
     ]
    }
   ],
   "source": [
    "import datetime\n",
    "\n",
    "my_date = datetime.datetime.now()\n",
    "\n",
    "print(my_date.strftime(\"%A\"))"
   ]
  },
  {
   "cell_type": "code",
   "execution_count": 10,
   "id": "cb933b87",
   "metadata": {},
   "outputs": [
    {
     "name": "stdout",
     "output_type": "stream",
     "text": [
      "Fri\n"
     ]
    }
   ],
   "source": [
    "import datetime\n",
    "\n",
    "my_date = datetime.datetime.now()\n",
    "\n",
    "print(my_date.strftime(\"%a\"))"
   ]
  },
  {
   "cell_type": "code",
   "execution_count": 11,
   "id": "7523d38e",
   "metadata": {},
   "outputs": [
    {
     "name": "stdout",
     "output_type": "stream",
     "text": [
      "5\n"
     ]
    }
   ],
   "source": [
    "import datetime\n",
    "\n",
    "my_date = datetime.datetime.now()\n",
    "\n",
    "print(my_date.strftime(\"%w\"))"
   ]
  },
  {
   "cell_type": "code",
   "execution_count": 12,
   "id": "e30b0ed5",
   "metadata": {},
   "outputs": [
    {
     "name": "stdout",
     "output_type": "stream",
     "text": [
      "05\n"
     ]
    }
   ],
   "source": [
    "import datetime\n",
    "\n",
    "my_date = datetime.datetime.now()\n",
    "\n",
    "print(my_date.strftime(\"%d\"))"
   ]
  },
  {
   "cell_type": "code",
   "execution_count": 14,
   "id": "63456a71",
   "metadata": {},
   "outputs": [
    {
     "name": "stdout",
     "output_type": "stream",
     "text": [
      "April\n"
     ]
    }
   ],
   "source": [
    "import datetime\n",
    "\n",
    "my_date = datetime.datetime.now()\n",
    "\n",
    "print(my_date.strftime(\"%B\"))"
   ]
  },
  {
   "cell_type": "code",
   "execution_count": 15,
   "id": "726e21e1",
   "metadata": {},
   "outputs": [
    {
     "name": "stdout",
     "output_type": "stream",
     "text": [
      "Apr\n"
     ]
    }
   ],
   "source": [
    "import datetime\n",
    "\n",
    "my_date = datetime.datetime.now()\n",
    "\n",
    "print(my_date.strftime(\"%b\"))"
   ]
  },
  {
   "cell_type": "markdown",
   "id": "2ee7bff7",
   "metadata": {},
   "source": [
    "## Creating Date Object"
   ]
  },
  {
   "cell_type": "markdown",
   "id": "08c932c7",
   "metadata": {},
   "source": [
    "1. To create a date we can use datetime() class(constructor) of the datetime module\n",
    "2. The datetime() class requires three parameter to create a date - year month day\n",
    "3. The datetime() class can also takes parameters for time and timzone(hours, minutes, seconds, and microseconds, tzone)\n",
    "4. But time options are optional and has a default value of 0 (None for timezone)"
   ]
  },
  {
   "cell_type": "code",
   "execution_count": 16,
   "id": "ff9e74d7",
   "metadata": {},
   "outputs": [
    {
     "name": "stdout",
     "output_type": "stream",
     "text": [
      "2024-04-01 00:00:00\n"
     ]
    }
   ],
   "source": [
    "import datetime\n",
    "\n",
    "my_date = datetime.datetime(2024, 4, 1)\n",
    "print(my_date)"
   ]
  },
  {
   "cell_type": "markdown",
   "id": "5509dc5b",
   "metadata": {},
   "source": [
    "## The Strftime() Method"
   ]
  },
  {
   "cell_type": "markdown",
   "id": "505e3ee8",
   "metadata": {},
   "source": [
    "1. The datetime object has a method for formatting date object into readable string\n",
    "2. The method is called strftime() and takes one parameter, format to specify the format of the return string"
   ]
  },
  {
   "cell_type": "code",
   "execution_count": 18,
   "id": "e7ea3c5f",
   "metadata": {},
   "outputs": [
    {
     "name": "stdout",
     "output_type": "stream",
     "text": [
      "July\n"
     ]
    }
   ],
   "source": [
    "import datetime\n",
    "\n",
    "my_date = datetime.datetime(2018, 7, 12)\n",
    "print(my_date.strftime(\"%B\"))"
   ]
  },
  {
   "cell_type": "markdown",
   "id": "727765a5",
   "metadata": {},
   "source": [
    "### There are multiple legal format codes:"
   ]
  },
  {
   "cell_type": "raw",
   "id": "e355e368",
   "metadata": {},
   "source": [
    "### There are multiple legal format code\n",
    "1. [ \"%a\"] = Weeekday, Short version\n",
    "2. [ \"A\" ] = Weeekday, Full version\n",
    "3. [ \"%w\"] = Weekdday as a number 0-6, 0 is Sunday\n",
    "4. [ \"%d\"] = Day of Month 0-31\n",
    "5. [ \"%b\"] = Month name, Short version\n",
    "6  [ \"%B\"] = Month name, Full version\n",
    "7. [ \"%m\"] = Month as a number - 01-12\n",
    "8. [ \"%y\"] = Year, Short version, without century\n",
    "9. [ \"%Y\"] = year, Full version\n",
    "10.[ \"%H\"] = Hour 00-24\n",
    "11.[ \"%I\"] = Hour 00-12\n",
    "12.[ \"%p\"] = AM/PM\n",
    "13.[ \"%M\"] = Minute 00 - 60\n",
    "14.[ \"%S\"] = Second 00 - 60\n",
    "15.[ \"%f\"] = microsecond 000000 - 999999\n",
    "16.[ \"%z\"] = UTC offset\n",
    "17.[ \"%Z\"] = Timezone\n",
    "18.[ \"%j\"] = Day number of year 001 - 366\n",
    "19.[ \"%U\"] = Week number of year, Sunday is the first day of week, 00 - 53\n",
    "20.[ \"%W\"] = Week number of year, Monday is the first day of week, 00 - 53\n",
    "21.[ \"%c\"] = Local version of date and time\n",
    "22.[ \"%C\"] = Century\n",
    "23.[ \"%x\"] = Local version of date\n",
    "24.[ \"X\" ] = Local version of time\n",
    "25.[ \"%%\"] = A % Character\n",
    "26.[ \"%G\"] = ISO 8601 Year\n",
    "27.[ \"%u\"] = ISO 8601 Weekday(1-7)\n",
    "28.[ \"%V\"] = ISO 8601 WeekNumber (01-53)"
   ]
  },
  {
   "cell_type": "code",
   "execution_count": null,
   "id": "226c3e96",
   "metadata": {},
   "outputs": [],
   "source": []
  }
 ],
 "metadata": {
  "kernelspec": {
   "display_name": "Python 3 (ipykernel)",
   "language": "python",
   "name": "python3"
  },
  "language_info": {
   "codemirror_mode": {
    "name": "ipython",
    "version": 3
   },
   "file_extension": ".py",
   "mimetype": "text/x-python",
   "name": "python",
   "nbconvert_exporter": "python",
   "pygments_lexer": "ipython3",
   "version": "3.11.5"
  }
 },
 "nbformat": 4,
 "nbformat_minor": 5
}
