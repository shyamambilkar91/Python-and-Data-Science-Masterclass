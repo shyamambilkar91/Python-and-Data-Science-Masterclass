{
 "cells": [
  {
   "cell_type": "markdown",
   "id": "e8278868",
   "metadata": {},
   "source": [
    "# Python Operators"
   ]
  },
  {
   "cell_type": "markdown",
   "id": "9286dddd",
   "metadata": {},
   "source": [
    "#### 1. Operators are used to perform operations using variable and values"
   ]
  },
  {
   "cell_type": "code",
   "execution_count": 1,
   "id": "6eb153fa",
   "metadata": {},
   "outputs": [
    {
     "name": "stdout",
     "output_type": "stream",
     "text": [
      "30\n"
     ]
    }
   ],
   "source": [
    "x = 10\n",
    "y = 20\n",
    "\n",
    "z = x + y\n",
    "print(z)"
   ]
  },
  {
   "cell_type": "markdown",
   "id": "ddfb5fa9",
   "metadata": {},
   "source": [
    "#### 2. Python devides the Operators in different groups:\n",
    "    1. Arithmatic Operators\n",
    "    2. Assignment Operators\n",
    "    3. Comparison Operators\n",
    "    4. Logical Operators\n",
    "    5. Identity Operators\n",
    "    6. Membership Operators\n",
    "    7. Bitwise Operators"
   ]
  },
  {
   "cell_type": "markdown",
   "id": "80e01026",
   "metadata": {},
   "source": [
    "### 1. Arithmatic Operators:\n",
    "    1. Addition [+]\n",
    "    2. Subtraction [-]\n",
    "    3. Multiplication [*]\n",
    "    4. Division [/]\n",
    "    5. Modulus [ % ]\n",
    "    6. Exponentitation [ ** ]\n",
    "    7. Floor Division [ // ]"
   ]
  },
  {
   "cell_type": "code",
   "execution_count": 2,
   "id": "35d3a970",
   "metadata": {},
   "outputs": [
    {
     "name": "stdout",
     "output_type": "stream",
     "text": [
      "60\n"
     ]
    }
   ],
   "source": [
    "x = 10\n",
    "y = 50\n",
    "\n",
    "z = x + y\n",
    "print(z)"
   ]
  },
  {
   "cell_type": "code",
   "execution_count": 3,
   "id": "65d804e8",
   "metadata": {},
   "outputs": [
    {
     "name": "stdout",
     "output_type": "stream",
     "text": [
      "-40\n"
     ]
    }
   ],
   "source": [
    "x = 10\n",
    "y = 50\n",
    "\n",
    "z = x - y\n",
    "print(z)"
   ]
  },
  {
   "cell_type": "code",
   "execution_count": 4,
   "id": "571ca4b0",
   "metadata": {},
   "outputs": [
    {
     "name": "stdout",
     "output_type": "stream",
     "text": [
      "500\n"
     ]
    }
   ],
   "source": [
    "x = 10\n",
    "y = 50\n",
    "\n",
    "z = x * y\n",
    "print(z)"
   ]
  },
  {
   "cell_type": "code",
   "execution_count": 5,
   "id": "e1c177e5",
   "metadata": {},
   "outputs": [
    {
     "name": "stdout",
     "output_type": "stream",
     "text": [
      "0.2\n"
     ]
    }
   ],
   "source": [
    "x = 10\n",
    "y = 50\n",
    "\n",
    "z = x / y\n",
    "print(z)"
   ]
  },
  {
   "cell_type": "code",
   "execution_count": 14,
   "id": "e3683b8f",
   "metadata": {},
   "outputs": [
    {
     "name": "stdout",
     "output_type": "stream",
     "text": [
      "1\n"
     ]
    }
   ],
   "source": [
    "x = 101\n",
    "y = 5\n",
    "\n",
    "z = x % y\n",
    "print(z)"
   ]
  },
  {
   "cell_type": "code",
   "execution_count": 9,
   "id": "fbc2d465",
   "metadata": {},
   "outputs": [
    {
     "name": "stdout",
     "output_type": "stream",
     "text": [
      "64\n"
     ]
    }
   ],
   "source": [
    "x = 4\n",
    "y = 3\n",
    "\n",
    "z = x ** y\n",
    "print(z)"
   ]
  },
  {
   "cell_type": "code",
   "execution_count": 13,
   "id": "7fec11af",
   "metadata": {},
   "outputs": [
    {
     "name": "stdout",
     "output_type": "stream",
     "text": [
      "20\n"
     ]
    }
   ],
   "source": [
    "x = 101\n",
    "y = 5\n",
    "\n",
    "z = x // y\n",
    "print(z)"
   ]
  },
  {
   "cell_type": "markdown",
   "id": "721f7161",
   "metadata": {},
   "source": [
    "## 2.Assignment Operators"
   ]
  },
  {
   "cell_type": "markdown",
   "id": "400e406f",
   "metadata": {},
   "source": [
    "1. = Equal:\n",
    "    1. Example - myVar = 56"
   ]
  },
  {
   "cell_type": "markdown",
   "id": "74d47957",
   "metadata": {},
   "source": [
    "#### 2. += :\n",
    "    1. x = x + 3"
   ]
  },
  {
   "cell_type": "code",
   "execution_count": 18,
   "id": "e2e9d08e",
   "metadata": {},
   "outputs": [
    {
     "name": "stdout",
     "output_type": "stream",
     "text": [
      "90\n"
     ]
    }
   ],
   "source": [
    "x = 45\n",
    "\n",
    "x = x + 45\n",
    "print(x)"
   ]
  },
  {
   "cell_type": "code",
   "execution_count": 19,
   "id": "efc70aaf",
   "metadata": {},
   "outputs": [
    {
     "name": "stdout",
     "output_type": "stream",
     "text": [
      "100\n"
     ]
    }
   ],
   "source": [
    "y = 40\n",
    "\n",
    "y+= 60\n",
    "print(y)"
   ]
  },
  {
   "cell_type": "markdown",
   "id": "eb1f98eb",
   "metadata": {},
   "source": [
    "#### 3. -= :"
   ]
  },
  {
   "cell_type": "code",
   "execution_count": 20,
   "id": "23d9115a",
   "metadata": {},
   "outputs": [
    {
     "name": "stdout",
     "output_type": "stream",
     "text": [
      "50\n"
     ]
    }
   ],
   "source": [
    "x = 100\n",
    "\n",
    "x = x - 50\n",
    "print(x)"
   ]
  },
  {
   "cell_type": "code",
   "execution_count": 21,
   "id": "5c299786",
   "metadata": {},
   "outputs": [
    {
     "name": "stdout",
     "output_type": "stream",
     "text": [
      "25\n"
     ]
    }
   ],
   "source": [
    "x-= 25\n",
    "print(x)"
   ]
  },
  {
   "cell_type": "markdown",
   "id": "52e7bb66",
   "metadata": {},
   "source": [
    "#### 3. *= "
   ]
  },
  {
   "cell_type": "code",
   "execution_count": 22,
   "id": "92b302f7",
   "metadata": {},
   "outputs": [
    {
     "name": "stdout",
     "output_type": "stream",
     "text": [
      "500\n"
     ]
    }
   ],
   "source": [
    "x = 100\n",
    "\n",
    "x = x * 5\n",
    "print(x)"
   ]
  },
  {
   "cell_type": "code",
   "execution_count": 24,
   "id": "71ad6e5f",
   "metadata": {},
   "outputs": [
    {
     "name": "stdout",
     "output_type": "stream",
     "text": [
      "500\n"
     ]
    }
   ],
   "source": [
    "x = 100\n",
    "\n",
    "x *= 5\n",
    "print(x)"
   ]
  },
  {
   "cell_type": "markdown",
   "id": "462a37d0",
   "metadata": {},
   "source": [
    "### 4. /="
   ]
  },
  {
   "cell_type": "code",
   "execution_count": 25,
   "id": "7bb962a0",
   "metadata": {},
   "outputs": [
    {
     "name": "stdout",
     "output_type": "stream",
     "text": [
      "20.0\n"
     ]
    }
   ],
   "source": [
    "x = 100\n",
    "\n",
    "x = x / 5\n",
    "print(x)"
   ]
  },
  {
   "cell_type": "code",
   "execution_count": 26,
   "id": "4f3ea737",
   "metadata": {},
   "outputs": [
    {
     "name": "stdout",
     "output_type": "stream",
     "text": [
      "20.0\n"
     ]
    }
   ],
   "source": [
    "x = 100\n",
    "\n",
    "x /= 5\n",
    "print(x)"
   ]
  },
  {
   "cell_type": "markdown",
   "id": "b833f59b",
   "metadata": {},
   "source": [
    "## 5. %="
   ]
  },
  {
   "cell_type": "code",
   "execution_count": 28,
   "id": "eb3dbe23",
   "metadata": {},
   "outputs": [
    {
     "name": "stdout",
     "output_type": "stream",
     "text": [
      "1\n"
     ]
    }
   ],
   "source": [
    "x = 101\n",
    "\n",
    "x = x % 5\n",
    "print(x)"
   ]
  },
  {
   "cell_type": "code",
   "execution_count": 29,
   "id": "3f9c0f69",
   "metadata": {},
   "outputs": [
    {
     "name": "stdout",
     "output_type": "stream",
     "text": [
      "1\n"
     ]
    }
   ],
   "source": [
    "x = 101\n",
    "\n",
    "x %= 5\n",
    "print(x)"
   ]
  },
  {
   "cell_type": "markdown",
   "id": "072ee863",
   "metadata": {},
   "source": [
    "### 6. //="
   ]
  },
  {
   "cell_type": "code",
   "execution_count": 30,
   "id": "3ef69420",
   "metadata": {},
   "outputs": [
    {
     "name": "stdout",
     "output_type": "stream",
     "text": [
      "20\n"
     ]
    }
   ],
   "source": [
    "x = 100\n",
    "\n",
    "x = x // 5\n",
    "print(x)"
   ]
  },
  {
   "cell_type": "code",
   "execution_count": 31,
   "id": "b57c9b1d",
   "metadata": {},
   "outputs": [
    {
     "name": "stdout",
     "output_type": "stream",
     "text": [
      "20\n"
     ]
    }
   ],
   "source": [
    "x = 100\n",
    "\n",
    "x //= 5\n",
    "print(x)"
   ]
  },
  {
   "cell_type": "markdown",
   "id": "d880b8c4",
   "metadata": {},
   "source": [
    "### 7. **= "
   ]
  },
  {
   "cell_type": "code",
   "execution_count": 34,
   "id": "cdc35996",
   "metadata": {},
   "outputs": [
    {
     "name": "stdout",
     "output_type": "stream",
     "text": [
      "25\n"
     ]
    }
   ],
   "source": [
    "x = 5\n",
    "\n",
    "x = x ** 2\n",
    "print(x)"
   ]
  },
  {
   "cell_type": "code",
   "execution_count": 35,
   "id": "1cfdcbcb",
   "metadata": {},
   "outputs": [
    {
     "name": "stdout",
     "output_type": "stream",
     "text": [
      "243\n"
     ]
    }
   ],
   "source": [
    "x = 3\n",
    "\n",
    "x **= 5\n",
    "print(x)"
   ]
  },
  {
   "cell_type": "markdown",
   "id": "70fdcc50",
   "metadata": {},
   "source": [
    "### 8. &="
   ]
  },
  {
   "cell_type": "code",
   "execution_count": 37,
   "id": "9ec7fd43",
   "metadata": {},
   "outputs": [
    {
     "name": "stdout",
     "output_type": "stream",
     "text": [
      "1\n"
     ]
    }
   ],
   "source": [
    "x = 5\n",
    "\n",
    "x = x & 3\n",
    "print(x)"
   ]
  },
  {
   "cell_type": "code",
   "execution_count": 38,
   "id": "22bc121b",
   "metadata": {},
   "outputs": [
    {
     "name": "stdout",
     "output_type": "stream",
     "text": [
      "1\n"
     ]
    }
   ],
   "source": [
    "x = 5\n",
    "\n",
    "x &= 3\n",
    "print(x)"
   ]
  },
  {
   "cell_type": "markdown",
   "id": "d023015a",
   "metadata": {},
   "source": [
    "### 9. |="
   ]
  },
  {
   "cell_type": "code",
   "execution_count": 39,
   "id": "340e4f1f",
   "metadata": {},
   "outputs": [
    {
     "name": "stdout",
     "output_type": "stream",
     "text": [
      "7\n"
     ]
    }
   ],
   "source": [
    "x = 5\n",
    "\n",
    "x = x | 3\n",
    "print(x)"
   ]
  },
  {
   "cell_type": "code",
   "execution_count": 40,
   "id": "79fb4eab",
   "metadata": {},
   "outputs": [
    {
     "name": "stdout",
     "output_type": "stream",
     "text": [
      "7\n"
     ]
    }
   ],
   "source": [
    "x = 5\n",
    "\n",
    "x |= 3\n",
    "print(x)"
   ]
  },
  {
   "cell_type": "markdown",
   "id": "daae5849",
   "metadata": {},
   "source": [
    "# 3. Comparison Operators"
   ]
  },
  {
   "cell_type": "markdown",
   "id": "3c7505d5",
   "metadata": {},
   "source": [
    "1. [ == ] Equal\n",
    "2. [ != ] Not Equal\n",
    "3. [ > ] Greater than\n",
    "4. [ < ] Less than\n",
    "5. [ >= ] Greater than or Equal to\n",
    "6. [ <= ] Less than or Equal to"
   ]
  },
  {
   "cell_type": "code",
   "execution_count": 41,
   "id": "f61e7cdb",
   "metadata": {},
   "outputs": [
    {
     "data": {
      "text/plain": [
       "True"
      ]
     },
     "execution_count": 41,
     "metadata": {},
     "output_type": "execute_result"
    }
   ],
   "source": [
    "x = 50\n",
    "y = 50\n",
    "\n",
    "x == y"
   ]
  },
  {
   "cell_type": "code",
   "execution_count": 42,
   "id": "d08c3116",
   "metadata": {},
   "outputs": [
    {
     "data": {
      "text/plain": [
       "False"
      ]
     },
     "execution_count": 42,
     "metadata": {},
     "output_type": "execute_result"
    }
   ],
   "source": [
    "x = 50\n",
    "y = 56\n",
    "\n",
    "x == y"
   ]
  },
  {
   "cell_type": "code",
   "execution_count": 44,
   "id": "01c7efab",
   "metadata": {},
   "outputs": [
    {
     "data": {
      "text/plain": [
       "True"
      ]
     },
     "execution_count": 44,
     "metadata": {},
     "output_type": "execute_result"
    }
   ],
   "source": [
    "x = 50\n",
    "y = 54\n",
    "\n",
    "x != y"
   ]
  },
  {
   "cell_type": "code",
   "execution_count": 45,
   "id": "f98414aa",
   "metadata": {},
   "outputs": [
    {
     "data": {
      "text/plain": [
       "False"
      ]
     },
     "execution_count": 45,
     "metadata": {},
     "output_type": "execute_result"
    }
   ],
   "source": [
    "x = 50\n",
    "y = 50\n",
    "\n",
    "x != y"
   ]
  },
  {
   "cell_type": "code",
   "execution_count": 46,
   "id": "181c14c4",
   "metadata": {},
   "outputs": [
    {
     "data": {
      "text/plain": [
       "False"
      ]
     },
     "execution_count": 46,
     "metadata": {},
     "output_type": "execute_result"
    }
   ],
   "source": [
    "num_1 = 45\n",
    "\n",
    "num_2 = 50\n",
    "\n",
    "num_1 > num_2"
   ]
  },
  {
   "cell_type": "code",
   "execution_count": 47,
   "id": "c523d56d",
   "metadata": {},
   "outputs": [
    {
     "data": {
      "text/plain": [
       "True"
      ]
     },
     "execution_count": 47,
     "metadata": {},
     "output_type": "execute_result"
    }
   ],
   "source": [
    "num_1 = 45\n",
    "\n",
    "num_2 = 50\n",
    "\n",
    "num_1 < num_2"
   ]
  },
  {
   "cell_type": "code",
   "execution_count": 49,
   "id": "2efc7ef3",
   "metadata": {},
   "outputs": [
    {
     "data": {
      "text/plain": [
       "True"
      ]
     },
     "execution_count": 49,
     "metadata": {},
     "output_type": "execute_result"
    }
   ],
   "source": [
    "num_1 = 50\n",
    "num_2 = 50\n",
    "\n",
    "num_1 >= num_2"
   ]
  },
  {
   "cell_type": "code",
   "execution_count": 50,
   "id": "c21b8bf8",
   "metadata": {},
   "outputs": [
    {
     "data": {
      "text/plain": [
       "True"
      ]
     },
     "execution_count": 50,
     "metadata": {},
     "output_type": "execute_result"
    }
   ],
   "source": [
    "num_1 = 50\n",
    "num_2 = 50\n",
    "\n",
    "num_1 <= num_2"
   ]
  },
  {
   "cell_type": "code",
   "execution_count": 51,
   "id": "81bcb4fc",
   "metadata": {},
   "outputs": [
    {
     "data": {
      "text/plain": [
       "False"
      ]
     },
     "execution_count": 51,
     "metadata": {},
     "output_type": "execute_result"
    }
   ],
   "source": [
    "num_1 = 52\n",
    "num_2 = 50\n",
    "\n",
    "num_1 <= num_2"
   ]
  },
  {
   "cell_type": "markdown",
   "id": "e818f3e9",
   "metadata": {},
   "source": [
    "# 4. Logical Operators"
   ]
  },
  {
   "cell_type": "markdown",
   "id": "aab905eb",
   "metadata": {},
   "source": [
    "#### 1. Logical Operators are used to combine conditional statements"
   ]
  },
  {
   "cell_type": "markdown",
   "id": "65857d0e",
   "metadata": {},
   "source": [
    "1. and:\n",
    "    1. Return True if Both statement are true\n",
    "2. or:\n",
    "    1. Return True If one the statements are True\n",
    "3. not:\n",
    "    2. Reverse the Result, Return false if the result is true"
   ]
  },
  {
   "cell_type": "code",
   "execution_count": 52,
   "id": "7ae974cd",
   "metadata": {},
   "outputs": [
    {
     "data": {
      "text/plain": [
       "True"
      ]
     },
     "execution_count": 52,
     "metadata": {},
     "output_type": "execute_result"
    }
   ],
   "source": [
    "num_1 = 42\n",
    "num_2 = 63\n",
    "\n",
    "num_1 < num_2 and num_2 > num_1"
   ]
  },
  {
   "cell_type": "code",
   "execution_count": 53,
   "id": "0e4fd8ba",
   "metadata": {},
   "outputs": [
    {
     "data": {
      "text/plain": [
       "False"
      ]
     },
     "execution_count": 53,
     "metadata": {},
     "output_type": "execute_result"
    }
   ],
   "source": [
    "num_1 = 42\n",
    "num_2 = 63\n",
    "\n",
    "num_1 < num_2 and num_1 > num_2"
   ]
  },
  {
   "cell_type": "code",
   "execution_count": 54,
   "id": "7a2df43a",
   "metadata": {},
   "outputs": [
    {
     "data": {
      "text/plain": [
       "True"
      ]
     },
     "execution_count": 54,
     "metadata": {},
     "output_type": "execute_result"
    }
   ],
   "source": [
    "num_1 = 42\n",
    "num_2 = 63\n",
    "\n",
    "num_1 < num_2 or num_1 > num_2"
   ]
  },
  {
   "cell_type": "code",
   "execution_count": 55,
   "id": "a0223567",
   "metadata": {},
   "outputs": [
    {
     "data": {
      "text/plain": [
       "False"
      ]
     },
     "execution_count": 55,
     "metadata": {},
     "output_type": "execute_result"
    }
   ],
   "source": [
    "num_1 = 42\n",
    "num_2 = 63\n",
    "\n",
    "num_2 < num_1 or num_1 > num_2"
   ]
  },
  {
   "cell_type": "code",
   "execution_count": 57,
   "id": "be564ba7",
   "metadata": {},
   "outputs": [
    {
     "data": {
      "text/plain": [
       "True"
      ]
     },
     "execution_count": 57,
     "metadata": {},
     "output_type": "execute_result"
    }
   ],
   "source": [
    "num_1 = 42\n",
    "num_2 = 63\n",
    "\n",
    "not(num_2 < num_1 and num_1 > num_2)"
   ]
  },
  {
   "cell_type": "code",
   "execution_count": 58,
   "id": "fd82804a",
   "metadata": {},
   "outputs": [
    {
     "data": {
      "text/plain": [
       "False"
      ]
     },
     "execution_count": 58,
     "metadata": {},
     "output_type": "execute_result"
    }
   ],
   "source": [
    "num_1 = 42\n",
    "num_2 = 63\n",
    "\n",
    "not(num_2 > num_1 and num_1 < num_2)"
   ]
  },
  {
   "cell_type": "code",
   "execution_count": 59,
   "id": "f1c09002",
   "metadata": {},
   "outputs": [
    {
     "data": {
      "text/plain": [
       "True"
      ]
     },
     "execution_count": 59,
     "metadata": {},
     "output_type": "execute_result"
    }
   ],
   "source": [
    "num_1 = 42\n",
    "num_2 = 63\n",
    "\n",
    "not(num_2 < num_1 or num_1 > num_2)"
   ]
  },
  {
   "cell_type": "code",
   "execution_count": null,
   "id": "80eb5a5a",
   "metadata": {},
   "outputs": [],
   "source": []
  }
 ],
 "metadata": {
  "kernelspec": {
   "display_name": "Python 3 (ipykernel)",
   "language": "python",
   "name": "python3"
  },
  "language_info": {
   "codemirror_mode": {
    "name": "ipython",
    "version": 3
   },
   "file_extension": ".py",
   "mimetype": "text/x-python",
   "name": "python",
   "nbconvert_exporter": "python",
   "pygments_lexer": "ipython3",
   "version": "3.11.5"
  }
 },
 "nbformat": 4,
 "nbformat_minor": 5
}
