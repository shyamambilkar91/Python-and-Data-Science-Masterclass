{
 "cells": [
  {
   "cell_type": "markdown",
   "id": "c6601546",
   "metadata": {},
   "source": [
    "# Python Numpy"
   ]
  },
  {
   "cell_type": "markdown",
   "id": "d0e71c40",
   "metadata": {},
   "source": [
    "## 1. What is Numpy ?"
   ]
  },
  {
   "cell_type": "markdown",
   "id": "51f799b3",
   "metadata": {},
   "source": [
    "1. Numpy is library used for **working with Array**\n",
    "2. Numpy stands for **Numerical Python**\n",
    "3. Numpy library consistancy of **multidimensional** arrya object and collection\n",
    "4. Using Numpy **mathematical and logical operations** on can be performed\n",
    "5. Numpy also has function working in domain **linear algebra**, **fourier transform** and **matrics**\n",
    "6. Numpy is open source core Python library for scintific calculation"
   ]
  },
  {
   "cell_type": "markdown",
   "id": "3be6a9dc",
   "metadata": {},
   "source": [
    "## Feature of Python"
   ]
  },
  {
   "cell_type": "markdown",
   "id": "25e40614",
   "metadata": {},
   "source": [
    "1. High Performance\n",
    "2. Itegrity code from C and C++\n",
    "3. Multidimensinal Function\n",
    "4. Broadcasting Function\n",
    "5. Worked with Varied Databases\n",
    "6. Additonal Linear Algebra"
   ]
  },
  {
   "cell_type": "markdown",
   "id": "6624a81f",
   "metadata": {},
   "source": [
    "#### 1. High Performance [N- Dimensional array object]"
   ]
  },
  {
   "cell_type": "markdown",
   "id": "45ad2c98",
   "metadata": {},
   "source": [
    "1. It is Homogeneous array object\n",
    "2. Peform all operations an array elements\n",
    "3. Array in Numpy Unidimensional or One Dimensional or Multidimensional:\n",
    "    1. Unidimensional Array:\n",
    "        1. Onle single elements called as Unidimensional array\n",
    "        2. Example - my_array =[10]\n",
    "    2. One Dimensinal array:\n",
    "        1. One dimensional array consisting of single row or single column\n",
    "        2. Elements of array the homogeneous nature\n",
    "        3. Example - my_array = [10,20,30,40,50]\n",
    "    3. Multidimensional array:\n",
    "        1. We have multiple rows and column\n",
    "        2. Each column as dimesions, elements, are homogeneous"
   ]
  },
  {
   "cell_type": "markdown",
   "id": "a4f55e39",
   "metadata": {},
   "source": [
    "### 2. Integrating codes from c/c++ and Forton"
   ]
  },
  {
   "cell_type": "markdown",
   "id": "a73886f6",
   "metadata": {},
   "source": [
    "1. Integrating the functionalities in various programing language this help us to implements inter Platform function"
   ]
  },
  {
   "cell_type": "markdown",
   "id": "87ee4171",
   "metadata": {},
   "source": [
    "### 3. Multidimensional Container"
   ]
  },
  {
   "cell_type": "markdown",
   "id": "ed4c9732",
   "metadata": {},
   "source": [
    "1. Generic data refers to the parameterized data type of array\n",
    "2. It can Perform functions on the generic datatype\n",
    "3. Parameter helps increase the diversity of Array"
   ]
  },
  {
   "cell_type": "markdown",
   "id": "a340eaaa",
   "metadata": {},
   "source": [
    "### 4. Bradcasting Function"
   ]
  },
  {
   "cell_type": "markdown",
   "id": "309c298b",
   "metadata": {},
   "source": [
    "1. It is very useful work with Arrya of uneven shape\n",
    "2. Some rules for limitations and its implementation\n",
    "3. For broadcasting one array need to be **one dimensional**"
   ]
  },
  {
   "cell_type": "markdown",
   "id": "e3bb2c70",
   "metadata": {},
   "source": [
    "### 5. Worked with Varied Database"
   ]
  },
  {
   "cell_type": "markdown",
   "id": "c4eb8d20",
   "metadata": {},
   "source": [
    "1. Work with different data types\n",
    "2. d type function can be used"
   ]
  },
  {
   "cell_type": "markdown",
   "id": "8d36b2c1",
   "metadata": {},
   "source": [
    "### 6. Additional Algebra"
   ]
  },
  {
   "cell_type": "markdown",
   "id": "7453bf2f",
   "metadata": {},
   "source": [
    "1. Additional Algebra, Fourier transform, Random Number, capabilities\n",
    "2. It is ability to perform complex operations of elements like algebra, fourier transform etc.\n",
    "3. We have separate function for each of complex performs:\n",
    "    1. Linear Algebra - [ linalg ]\n",
    "    2. Fourier Transform [ fft]\n",
    "    3. Matrics - [matrics]\n",
    "    4. Plotting Graph [ matplotlib ]"
   ]
  },
  {
   "cell_type": "markdown",
   "id": "c8249fe0",
   "metadata": {},
   "source": [
    "## How to Install Numpy ?"
   ]
  },
  {
   "cell_type": "markdown",
   "id": "76131ad2",
   "metadata": {},
   "source": [
    "1. PIP install Numpy [pip install numpy]\n",
    "2. Import in applicatio using [import] keyword\n",
    "3. import numpy [import numpy]\n",
    "4. using alies [import numpy as np]"
   ]
  },
  {
   "cell_type": "markdown",
   "id": "d0bf57f2",
   "metadata": {},
   "source": [
    "### Numpy using alies as np"
   ]
  },
  {
   "cell_type": "code",
   "execution_count": 1,
   "id": "27410585",
   "metadata": {},
   "outputs": [],
   "source": [
    "import numpy as np"
   ]
  },
  {
   "cell_type": "code",
   "execution_count": 3,
   "id": "d68da0cf",
   "metadata": {},
   "outputs": [],
   "source": [
    "# help(np)"
   ]
  },
  {
   "cell_type": "code",
   "execution_count": 4,
   "id": "b8697897",
   "metadata": {},
   "outputs": [
    {
     "name": "stdout",
     "output_type": "stream",
     "text": [
      "[1 2 3 4 5 6]\n"
     ]
    }
   ],
   "source": [
    "my_array = np.array([1,2,3,4,5,6])\n",
    "print(my_array)"
   ]
  },
  {
   "cell_type": "code",
   "execution_count": 5,
   "id": "139a5b3f",
   "metadata": {},
   "outputs": [
    {
     "name": "stdout",
     "output_type": "stream",
     "text": [
      "<class 'numpy.ndarray'>\n"
     ]
    }
   ],
   "source": [
    "print(type(my_array))"
   ]
  },
  {
   "cell_type": "markdown",
   "id": "55d469c9",
   "metadata": {},
   "source": [
    "## Numpy with alies"
   ]
  },
  {
   "cell_type": "code",
   "execution_count": 6,
   "id": "54c25228",
   "metadata": {},
   "outputs": [],
   "source": [
    "import numpy"
   ]
  },
  {
   "cell_type": "code",
   "execution_count": 8,
   "id": "63dbe079",
   "metadata": {},
   "outputs": [],
   "source": [
    "# help(numpy)"
   ]
  },
  {
   "cell_type": "code",
   "execution_count": 9,
   "id": "cd4480f3",
   "metadata": {},
   "outputs": [
    {
     "name": "stdout",
     "output_type": "stream",
     "text": [
      "[1 2 3 4 5 6]\n"
     ]
    }
   ],
   "source": [
    "my_array = numpy.array([1,2,3,4,5,6])\n",
    "print(my_array)"
   ]
  },
  {
   "cell_type": "code",
   "execution_count": 10,
   "id": "9c284d2f",
   "metadata": {},
   "outputs": [
    {
     "name": "stdout",
     "output_type": "stream",
     "text": [
      "<class 'numpy.ndarray'>\n"
     ]
    }
   ],
   "source": [
    "print(type(my_array))"
   ]
  },
  {
   "cell_type": "markdown",
   "id": "dd68e65b",
   "metadata": {},
   "source": [
    "### Checking Numpy Version"
   ]
  },
  {
   "cell_type": "code",
   "execution_count": 11,
   "id": "f6016a14",
   "metadata": {},
   "outputs": [],
   "source": [
    "import numpy as np"
   ]
  },
  {
   "cell_type": "markdown",
   "id": "bfff9d29",
   "metadata": {},
   "source": [
    "1. Version of string stored under [__version__]attributes"
   ]
  },
  {
   "cell_type": "code",
   "execution_count": 12,
   "id": "4d85f8b3",
   "metadata": {},
   "outputs": [
    {
     "name": "stdout",
     "output_type": "stream",
     "text": [
      "1.24.3\n"
     ]
    }
   ],
   "source": [
    "print(np.__version__)"
   ]
  },
  {
   "cell_type": "markdown",
   "id": "f3b238f7",
   "metadata": {},
   "source": [
    "### type()"
   ]
  },
  {
   "cell_type": "code",
   "execution_count": 13,
   "id": "28a1ca4f",
   "metadata": {},
   "outputs": [
    {
     "name": "stdout",
     "output_type": "stream",
     "text": [
      "[1 2 3 4 5 6]\n",
      "<class 'numpy.ndarray'>\n"
     ]
    }
   ],
   "source": [
    "my_array = numpy.array([1,2,3,4,5,6])\n",
    "print(my_array)\n",
    "print(type(my_array))"
   ]
  },
  {
   "cell_type": "markdown",
   "id": "21250462",
   "metadata": {},
   "source": [
    "### Type of Array"
   ]
  },
  {
   "cell_type": "markdown",
   "id": "9133ba54",
   "metadata": {},
   "source": [
    "1. Numpy is used to work with array\n",
    "2. The array object in Numpy is called **ndarray**\n",
    "3. We can create a numpy ndarray object by using **array() function**\n",
    "4. The built in function in python tell us type of object passed it\n",
    "5. To creae ndarray we can pas a list, tuple, or any array object into array() method\n",
    "6. then convert that array to ndarray"
   ]
  },
  {
   "cell_type": "code",
   "execution_count": 14,
   "id": "b76ed13f",
   "metadata": {},
   "outputs": [
    {
     "name": "stdout",
     "output_type": "stream",
     "text": [
      "10\n",
      "<class 'numpy.ndarray'>\n"
     ]
    }
   ],
   "source": [
    "my_array = numpy.array(10)\n",
    "print(my_array)\n",
    "print(type(my_array))"
   ]
  },
  {
   "cell_type": "markdown",
   "id": "f30aca91",
   "metadata": {},
   "source": [
    "### There are different Types of Array object"
   ]
  },
  {
   "cell_type": "markdown",
   "id": "3b4419dc",
   "metadata": {},
   "source": [
    "1. 0-D Array\n",
    "2. 1-D Array\n",
    "3. 2-D Array\n",
    "4. 3-D Array"
   ]
  },
  {
   "cell_type": "markdown",
   "id": "fcc3d84b",
   "metadata": {},
   "source": [
    "### Numpy will devide in to three major categories:\n",
    "  #### 1. Basic Numpy:\n",
    "        1. Introduction\n",
    "        2. Gettting Started\n",
    "        3. creating Array\n",
    "        4. Array Indexing\n",
    "        5. Array slicing\n",
    "        6. Data Types\n",
    "        7. Copy vs View\n",
    "        8. Array Shape\n",
    "        9. Array Reshape\n",
    "        10. Array Iterating\n",
    "        11. Array Join\n",
    "        12. Array Split\n",
    "        13. Array search\n",
    "        14. Array Sort\n",
    "        15. Array Filter\n",
    "   ### 2. Random:**\n",
    "        1. Random Introduction\n",
    "        2. Data Distribution\n",
    "        3. Radom Permutation\n",
    "        4. Seaborn Module\n",
    "        5. Normal Dist\n",
    "        6. Binomial Dist\n",
    "        7. Poisson Dist\n",
    "        8. Uniform Dist\n",
    "        9. Logistic Dist\n",
    "        10. Multinomial Dist\n",
    "        11. Exposnitial Dist\n",
    "        12. Chi Square Dist\n",
    "        13. Rayligh Dist.\n",
    "   ### 3. ufunct:**\n",
    "        1. ufunct Introduction\n",
    "        2. Create function\n",
    "        3. Simple Arithmatic\n",
    "        4. Rounding Decimals\n",
    "        5. Logs\n",
    "        6. Summation\n",
    "        7. Products\n",
    "        8. Differences\n",
    "        9. Finding LCM\n",
    "        10. Finding GCD\n",
    "        11. Trignomatric\n",
    "        12. Hyperbolic\n",
    "        13. Set Operations"
   ]
  },
  {
   "cell_type": "code",
   "execution_count": null,
   "id": "293b54c3",
   "metadata": {},
   "outputs": [],
   "source": []
  }
 ],
 "metadata": {
  "kernelspec": {
   "display_name": "Python 3 (ipykernel)",
   "language": "python",
   "name": "python3"
  },
  "language_info": {
   "codemirror_mode": {
    "name": "ipython",
    "version": 3
   },
   "file_extension": ".py",
   "mimetype": "text/x-python",
   "name": "python",
   "nbconvert_exporter": "python",
   "pygments_lexer": "ipython3",
   "version": "3.11.5"
  }
 },
 "nbformat": 4,
 "nbformat_minor": 5
}
