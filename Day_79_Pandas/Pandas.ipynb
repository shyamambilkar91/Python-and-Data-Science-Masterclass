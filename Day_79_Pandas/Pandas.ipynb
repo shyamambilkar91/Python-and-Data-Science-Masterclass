{
 "cells": [
  {
   "cell_type": "markdown",
   "id": "8e3b6c54",
   "metadata": {},
   "source": [
    "# Pandas - Data Correlation"
   ]
  },
  {
   "cell_type": "markdown",
   "id": "a0f33889",
   "metadata": {},
   "source": [
    "1. A great aspect of the Pandas module corr() method\n",
    "2. The corr() method calculation the relationship between each column in your dataset\n",
    "3. The corr() method ignores 'not numeric' column"
   ]
  },
  {
   "cell_type": "code",
   "execution_count": 1,
   "id": "8712559a",
   "metadata": {},
   "outputs": [],
   "source": [
    "import pandas as pd"
   ]
  },
  {
   "cell_type": "code",
   "execution_count": 2,
   "id": "ae839d77",
   "metadata": {},
   "outputs": [],
   "source": [
    "df = pd.read_csv('data.csv')"
   ]
  },
  {
   "cell_type": "code",
   "execution_count": 3,
   "id": "81260e41",
   "metadata": {},
   "outputs": [
    {
     "data": {
      "text/html": [
       "<div>\n",
       "<style scoped>\n",
       "    .dataframe tbody tr th:only-of-type {\n",
       "        vertical-align: middle;\n",
       "    }\n",
       "\n",
       "    .dataframe tbody tr th {\n",
       "        vertical-align: top;\n",
       "    }\n",
       "\n",
       "    .dataframe thead th {\n",
       "        text-align: right;\n",
       "    }\n",
       "</style>\n",
       "<table border=\"1\" class=\"dataframe\">\n",
       "  <thead>\n",
       "    <tr style=\"text-align: right;\">\n",
       "      <th></th>\n",
       "      <th>Unnamed: 0</th>\n",
       "      <th>Duration</th>\n",
       "      <th>Date</th>\n",
       "      <th>Pulse</th>\n",
       "      <th>Maxpulse</th>\n",
       "      <th>Calories</th>\n",
       "    </tr>\n",
       "  </thead>\n",
       "  <tbody>\n",
       "    <tr>\n",
       "      <th>0</th>\n",
       "      <td>0</td>\n",
       "      <td>60</td>\n",
       "      <td>168.333333</td>\n",
       "      <td>110.0</td>\n",
       "      <td>130.0</td>\n",
       "      <td>409.1</td>\n",
       "    </tr>\n",
       "    <tr>\n",
       "      <th>1</th>\n",
       "      <td>1</td>\n",
       "      <td>60</td>\n",
       "      <td>84.166667</td>\n",
       "      <td>117.0</td>\n",
       "      <td>145.0</td>\n",
       "      <td>479.0</td>\n",
       "    </tr>\n",
       "    <tr>\n",
       "      <th>2</th>\n",
       "      <td>2</td>\n",
       "      <td>60</td>\n",
       "      <td>56.111111</td>\n",
       "      <td>103.0</td>\n",
       "      <td>135.0</td>\n",
       "      <td>NaN</td>\n",
       "    </tr>\n",
       "    <tr>\n",
       "      <th>3</th>\n",
       "      <td>3</td>\n",
       "      <td>45</td>\n",
       "      <td>42.083333</td>\n",
       "      <td>109.0</td>\n",
       "      <td>175.0</td>\n",
       "      <td>300.1</td>\n",
       "    </tr>\n",
       "    <tr>\n",
       "      <th>4</th>\n",
       "      <td>4</td>\n",
       "      <td>45</td>\n",
       "      <td>33.666667</td>\n",
       "      <td>117.0</td>\n",
       "      <td>148.0</td>\n",
       "      <td>195.0</td>\n",
       "    </tr>\n",
       "    <tr>\n",
       "      <th>5</th>\n",
       "      <td>5</td>\n",
       "      <td>60</td>\n",
       "      <td>28.055556</td>\n",
       "      <td>102.0</td>\n",
       "      <td>NaN</td>\n",
       "      <td>145.0</td>\n",
       "    </tr>\n",
       "    <tr>\n",
       "      <th>6</th>\n",
       "      <td>6</td>\n",
       "      <td>450</td>\n",
       "      <td>24.047619</td>\n",
       "      <td>NaN</td>\n",
       "      <td>136.0</td>\n",
       "      <td>160.1</td>\n",
       "    </tr>\n",
       "    <tr>\n",
       "      <th>7</th>\n",
       "      <td>7</td>\n",
       "      <td>30</td>\n",
       "      <td>21.041667</td>\n",
       "      <td>104.0</td>\n",
       "      <td>NaN</td>\n",
       "      <td>NaN</td>\n",
       "    </tr>\n",
       "    <tr>\n",
       "      <th>8</th>\n",
       "      <td>8</td>\n",
       "      <td>60</td>\n",
       "      <td>18.703704</td>\n",
       "      <td>109.0</td>\n",
       "      <td>124.0</td>\n",
       "      <td>146.0</td>\n",
       "    </tr>\n",
       "    <tr>\n",
       "      <th>9</th>\n",
       "      <td>9</td>\n",
       "      <td>45</td>\n",
       "      <td>16.833333</td>\n",
       "      <td>36.0</td>\n",
       "      <td>120.0</td>\n",
       "      <td>123.7</td>\n",
       "    </tr>\n",
       "  </tbody>\n",
       "</table>\n",
       "</div>"
      ],
      "text/plain": [
       "   Unnamed: 0  Duration        Date  Pulse  Maxpulse  Calories\n",
       "0           0        60  168.333333  110.0     130.0     409.1\n",
       "1           1        60   84.166667  117.0     145.0     479.0\n",
       "2           2        60   56.111111  103.0     135.0       NaN\n",
       "3           3        45   42.083333  109.0     175.0     300.1\n",
       "4           4        45   33.666667  117.0     148.0     195.0\n",
       "5           5        60   28.055556  102.0       NaN     145.0\n",
       "6           6       450   24.047619    NaN     136.0     160.1\n",
       "7           7        30   21.041667  104.0       NaN       NaN\n",
       "8           8        60   18.703704  109.0     124.0     146.0\n",
       "9           9        45   16.833333   36.0     120.0     123.7"
      ]
     },
     "execution_count": 3,
     "metadata": {},
     "output_type": "execute_result"
    }
   ],
   "source": [
    "df"
   ]
  },
  {
   "cell_type": "code",
   "execution_count": 6,
   "id": "c0565391",
   "metadata": {},
   "outputs": [],
   "source": [
    "df_1 = df.drop('Unnamed: 0', axis= 1)"
   ]
  },
  {
   "cell_type": "code",
   "execution_count": 7,
   "id": "39c5a688",
   "metadata": {},
   "outputs": [
    {
     "data": {
      "text/html": [
       "<div>\n",
       "<style scoped>\n",
       "    .dataframe tbody tr th:only-of-type {\n",
       "        vertical-align: middle;\n",
       "    }\n",
       "\n",
       "    .dataframe tbody tr th {\n",
       "        vertical-align: top;\n",
       "    }\n",
       "\n",
       "    .dataframe thead th {\n",
       "        text-align: right;\n",
       "    }\n",
       "</style>\n",
       "<table border=\"1\" class=\"dataframe\">\n",
       "  <thead>\n",
       "    <tr style=\"text-align: right;\">\n",
       "      <th></th>\n",
       "      <th>Duration</th>\n",
       "      <th>Date</th>\n",
       "      <th>Pulse</th>\n",
       "      <th>Maxpulse</th>\n",
       "      <th>Calories</th>\n",
       "    </tr>\n",
       "  </thead>\n",
       "  <tbody>\n",
       "    <tr>\n",
       "      <th>0</th>\n",
       "      <td>60</td>\n",
       "      <td>168.333333</td>\n",
       "      <td>110.0</td>\n",
       "      <td>130.0</td>\n",
       "      <td>409.1</td>\n",
       "    </tr>\n",
       "    <tr>\n",
       "      <th>1</th>\n",
       "      <td>60</td>\n",
       "      <td>84.166667</td>\n",
       "      <td>117.0</td>\n",
       "      <td>145.0</td>\n",
       "      <td>479.0</td>\n",
       "    </tr>\n",
       "    <tr>\n",
       "      <th>2</th>\n",
       "      <td>60</td>\n",
       "      <td>56.111111</td>\n",
       "      <td>103.0</td>\n",
       "      <td>135.0</td>\n",
       "      <td>NaN</td>\n",
       "    </tr>\n",
       "    <tr>\n",
       "      <th>3</th>\n",
       "      <td>45</td>\n",
       "      <td>42.083333</td>\n",
       "      <td>109.0</td>\n",
       "      <td>175.0</td>\n",
       "      <td>300.1</td>\n",
       "    </tr>\n",
       "    <tr>\n",
       "      <th>4</th>\n",
       "      <td>45</td>\n",
       "      <td>33.666667</td>\n",
       "      <td>117.0</td>\n",
       "      <td>148.0</td>\n",
       "      <td>195.0</td>\n",
       "    </tr>\n",
       "    <tr>\n",
       "      <th>5</th>\n",
       "      <td>60</td>\n",
       "      <td>28.055556</td>\n",
       "      <td>102.0</td>\n",
       "      <td>NaN</td>\n",
       "      <td>145.0</td>\n",
       "    </tr>\n",
       "    <tr>\n",
       "      <th>6</th>\n",
       "      <td>450</td>\n",
       "      <td>24.047619</td>\n",
       "      <td>NaN</td>\n",
       "      <td>136.0</td>\n",
       "      <td>160.1</td>\n",
       "    </tr>\n",
       "    <tr>\n",
       "      <th>7</th>\n",
       "      <td>30</td>\n",
       "      <td>21.041667</td>\n",
       "      <td>104.0</td>\n",
       "      <td>NaN</td>\n",
       "      <td>NaN</td>\n",
       "    </tr>\n",
       "    <tr>\n",
       "      <th>8</th>\n",
       "      <td>60</td>\n",
       "      <td>18.703704</td>\n",
       "      <td>109.0</td>\n",
       "      <td>124.0</td>\n",
       "      <td>146.0</td>\n",
       "    </tr>\n",
       "    <tr>\n",
       "      <th>9</th>\n",
       "      <td>45</td>\n",
       "      <td>16.833333</td>\n",
       "      <td>36.0</td>\n",
       "      <td>120.0</td>\n",
       "      <td>123.7</td>\n",
       "    </tr>\n",
       "  </tbody>\n",
       "</table>\n",
       "</div>"
      ],
      "text/plain": [
       "   Duration        Date  Pulse  Maxpulse  Calories\n",
       "0        60  168.333333  110.0     130.0     409.1\n",
       "1        60   84.166667  117.0     145.0     479.0\n",
       "2        60   56.111111  103.0     135.0       NaN\n",
       "3        45   42.083333  109.0     175.0     300.1\n",
       "4        45   33.666667  117.0     148.0     195.0\n",
       "5        60   28.055556  102.0       NaN     145.0\n",
       "6       450   24.047619    NaN     136.0     160.1\n",
       "7        30   21.041667  104.0       NaN       NaN\n",
       "8        60   18.703704  109.0     124.0     146.0\n",
       "9        45   16.833333   36.0     120.0     123.7"
      ]
     },
     "execution_count": 7,
     "metadata": {},
     "output_type": "execute_result"
    }
   ],
   "source": [
    "df_1"
   ]
  },
  {
   "cell_type": "code",
   "execution_count": 9,
   "id": "36450c46",
   "metadata": {},
   "outputs": [
    {
     "data": {
      "text/html": [
       "<div>\n",
       "<style scoped>\n",
       "    .dataframe tbody tr th:only-of-type {\n",
       "        vertical-align: middle;\n",
       "    }\n",
       "\n",
       "    .dataframe tbody tr th {\n",
       "        vertical-align: top;\n",
       "    }\n",
       "\n",
       "    .dataframe thead th {\n",
       "        text-align: right;\n",
       "    }\n",
       "</style>\n",
       "<table border=\"1\" class=\"dataframe\">\n",
       "  <thead>\n",
       "    <tr style=\"text-align: right;\">\n",
       "      <th></th>\n",
       "      <th>Duration</th>\n",
       "      <th>Date</th>\n",
       "      <th>Pulse</th>\n",
       "      <th>Maxpulse</th>\n",
       "      <th>Calories</th>\n",
       "    </tr>\n",
       "  </thead>\n",
       "  <tbody>\n",
       "    <tr>\n",
       "      <th>0</th>\n",
       "      <td>60</td>\n",
       "      <td>168.333333</td>\n",
       "      <td>110.0</td>\n",
       "      <td>130.0</td>\n",
       "      <td>409.1</td>\n",
       "    </tr>\n",
       "    <tr>\n",
       "      <th>1</th>\n",
       "      <td>60</td>\n",
       "      <td>84.166667</td>\n",
       "      <td>117.0</td>\n",
       "      <td>145.0</td>\n",
       "      <td>479.0</td>\n",
       "    </tr>\n",
       "    <tr>\n",
       "      <th>3</th>\n",
       "      <td>45</td>\n",
       "      <td>42.083333</td>\n",
       "      <td>109.0</td>\n",
       "      <td>175.0</td>\n",
       "      <td>300.1</td>\n",
       "    </tr>\n",
       "    <tr>\n",
       "      <th>4</th>\n",
       "      <td>45</td>\n",
       "      <td>33.666667</td>\n",
       "      <td>117.0</td>\n",
       "      <td>148.0</td>\n",
       "      <td>195.0</td>\n",
       "    </tr>\n",
       "    <tr>\n",
       "      <th>8</th>\n",
       "      <td>60</td>\n",
       "      <td>18.703704</td>\n",
       "      <td>109.0</td>\n",
       "      <td>124.0</td>\n",
       "      <td>146.0</td>\n",
       "    </tr>\n",
       "    <tr>\n",
       "      <th>9</th>\n",
       "      <td>45</td>\n",
       "      <td>16.833333</td>\n",
       "      <td>36.0</td>\n",
       "      <td>120.0</td>\n",
       "      <td>123.7</td>\n",
       "    </tr>\n",
       "  </tbody>\n",
       "</table>\n",
       "</div>"
      ],
      "text/plain": [
       "   Duration        Date  Pulse  Maxpulse  Calories\n",
       "0        60  168.333333  110.0     130.0     409.1\n",
       "1        60   84.166667  117.0     145.0     479.0\n",
       "3        45   42.083333  109.0     175.0     300.1\n",
       "4        45   33.666667  117.0     148.0     195.0\n",
       "8        60   18.703704  109.0     124.0     146.0\n",
       "9        45   16.833333   36.0     120.0     123.7"
      ]
     },
     "execution_count": 9,
     "metadata": {},
     "output_type": "execute_result"
    }
   ],
   "source": [
    "df_1.dropna()"
   ]
  },
  {
   "cell_type": "code",
   "execution_count": 10,
   "id": "67f26036",
   "metadata": {},
   "outputs": [
    {
     "data": {
      "text/html": [
       "<div>\n",
       "<style scoped>\n",
       "    .dataframe tbody tr th:only-of-type {\n",
       "        vertical-align: middle;\n",
       "    }\n",
       "\n",
       "    .dataframe tbody tr th {\n",
       "        vertical-align: top;\n",
       "    }\n",
       "\n",
       "    .dataframe thead th {\n",
       "        text-align: right;\n",
       "    }\n",
       "</style>\n",
       "<table border=\"1\" class=\"dataframe\">\n",
       "  <thead>\n",
       "    <tr style=\"text-align: right;\">\n",
       "      <th></th>\n",
       "      <th>Duration</th>\n",
       "      <th>Date</th>\n",
       "      <th>Pulse</th>\n",
       "      <th>Maxpulse</th>\n",
       "      <th>Calories</th>\n",
       "    </tr>\n",
       "  </thead>\n",
       "  <tbody>\n",
       "    <tr>\n",
       "      <th>Duration</th>\n",
       "      <td>1.000000</td>\n",
       "      <td>-0.153939</td>\n",
       "      <td>0.234188</td>\n",
       "      <td>-0.094097</td>\n",
       "      <td>-0.234593</td>\n",
       "    </tr>\n",
       "    <tr>\n",
       "      <th>Date</th>\n",
       "      <td>-0.153939</td>\n",
       "      <td>1.000000</td>\n",
       "      <td>0.320230</td>\n",
       "      <td>-0.023439</td>\n",
       "      <td>0.800631</td>\n",
       "    </tr>\n",
       "    <tr>\n",
       "      <th>Pulse</th>\n",
       "      <td>0.234188</td>\n",
       "      <td>0.320230</td>\n",
       "      <td>1.000000</td>\n",
       "      <td>0.484030</td>\n",
       "      <td>0.488748</td>\n",
       "    </tr>\n",
       "    <tr>\n",
       "      <th>Maxpulse</th>\n",
       "      <td>-0.094097</td>\n",
       "      <td>-0.023439</td>\n",
       "      <td>0.484030</td>\n",
       "      <td>1.000000</td>\n",
       "      <td>0.347103</td>\n",
       "    </tr>\n",
       "    <tr>\n",
       "      <th>Calories</th>\n",
       "      <td>-0.234593</td>\n",
       "      <td>0.800631</td>\n",
       "      <td>0.488748</td>\n",
       "      <td>0.347103</td>\n",
       "      <td>1.000000</td>\n",
       "    </tr>\n",
       "  </tbody>\n",
       "</table>\n",
       "</div>"
      ],
      "text/plain": [
       "          Duration      Date     Pulse  Maxpulse  Calories\n",
       "Duration  1.000000 -0.153939  0.234188 -0.094097 -0.234593\n",
       "Date     -0.153939  1.000000  0.320230 -0.023439  0.800631\n",
       "Pulse     0.234188  0.320230  1.000000  0.484030  0.488748\n",
       "Maxpulse -0.094097 -0.023439  0.484030  1.000000  0.347103\n",
       "Calories -0.234593  0.800631  0.488748  0.347103  1.000000"
      ]
     },
     "execution_count": 10,
     "metadata": {},
     "output_type": "execute_result"
    }
   ],
   "source": [
    "df_1.corr()"
   ]
  },
  {
   "cell_type": "code",
   "execution_count": 11,
   "id": "99057a3c",
   "metadata": {},
   "outputs": [
    {
     "data": {
      "text/plain": [
       "0.23418841462566994"
      ]
     },
     "execution_count": 11,
     "metadata": {},
     "output_type": "execute_result"
    }
   ],
   "source": [
    "df_1['Duration'].corr(df_1['Pulse'])"
   ]
  },
  {
   "cell_type": "code",
   "execution_count": 17,
   "id": "c85306e3",
   "metadata": {},
   "outputs": [
    {
     "data": {
      "text/plain": [
       "-0.09409726913499497"
      ]
     },
     "execution_count": 17,
     "metadata": {},
     "output_type": "execute_result"
    }
   ],
   "source": [
    "df_1['Duration'].corr(df_1['Maxpulse'])"
   ]
  },
  {
   "cell_type": "code",
   "execution_count": 12,
   "id": "511af55c",
   "metadata": {},
   "outputs": [],
   "source": [
    "import seaborn as sns"
   ]
  },
  {
   "cell_type": "code",
   "execution_count": 14,
   "id": "46f3b2d7",
   "metadata": {},
   "outputs": [
    {
     "data": {
      "text/plain": [
       "<Axes: >"
      ]
     },
     "execution_count": 14,
     "metadata": {},
     "output_type": "execute_result"
    },
    {
     "data": {
      "image/png": "[encoded data removed]",
      "text/plain": [
       "<Figure size 640x480 with 2 Axes>"
      ]
     },
     "metadata": {},
     "output_type": "display_data"
    }
   ],
   "source": [
    "sns.heatmap(df_1.corr(), annot= True)"
   ]
  },
  {
   "cell_type": "markdown",
   "id": "d3890094",
   "metadata": {},
   "source": [
    "## Result Explained"
   ]
  },
  {
   "cell_type": "markdown",
   "id": "c609dba5",
   "metadata": {},
   "source": [
    "1. The Result of the corr() method is a table with a lot of numbers that represent how well the relationship between two columns\n",
    "2. The number varies from -1 to 1:\n",
    "    1. [1] means that there is a 1 to 1 relationship [a perfect correlation] and for this datset, each time a value went up in the first column, the offer one went as well.\n",
    "    2. [0.9] is also a good relationship, and if you increase one value, the other value will probably increase a well\n",
    "    3. [-0.9] is also good relationship as 0.9 but if you increase one valu, the other value will probably increase as well\n",
    "    4. [0.4] means NOT a good realationship, meaning that if one value goes up does not means that the other will"
   ]
  },
  {
   "cell_type": "markdown",
   "id": "37e6d453",
   "metadata": {},
   "source": [
    "#### What is Good Relationship ?"
   ]
  },
  {
   "cell_type": "markdown",
   "id": "da15e0e7",
   "metadata": {},
   "source": [
    "**It depends on the use, but it is safe to say you have at least 0.6 (or -0.6) to call it is good correlationship**"
   ]
  },
  {
   "cell_type": "markdown",
   "id": "de55cec9",
   "metadata": {},
   "source": [
    "### There are three diffrenet types of Correlations"
   ]
  },
  {
   "cell_type": "markdown",
   "id": "7ab47bd2",
   "metadata": {},
   "source": [
    "1. Perfect Correlation\n",
    "2. Good Correlation\n",
    "3. Bad Correlation"
   ]
  },
  {
   "cell_type": "code",
   "execution_count": 27,
   "id": "b40edd43",
   "metadata": {},
   "outputs": [],
   "source": [
    "x_train = df_1[:80]\n",
    "y_train = df_1[:80]\n",
    "\n",
    "x_test = df_1[:80]\n",
    "y_test = df_1[:80]"
   ]
  },
  {
   "cell_type": "code",
   "execution_count": 28,
   "id": "0cedbdbe",
   "metadata": {},
   "outputs": [],
   "source": [
    "import matplotlib.pyplot as plt"
   ]
  },
  {
   "cell_type": "code",
   "execution_count": 29,
   "id": "0e895a8b",
   "metadata": {},
   "outputs": [
    {
     "data": {
      "text/plain": [
       "<matplotlib.collections.PathCollection at 0x2d64a48f2d0>"
      ]
     },
     "execution_count": 29,
     "metadata": {},
     "output_type": "execute_result"
    },
    {
     "data": {
      "image/png": "[encoded data removed]",
      "text/plain": [
       "<Figure size 640x480 with 1 Axes>"
      ]
     },
     "metadata": {},
     "output_type": "display_data"
    }
   ],
   "source": [
    "plt.scatter(x_train, y_train)"
   ]
  },
  {
   "cell_type": "code",
   "execution_count": 30,
   "id": "d8b28053",
   "metadata": {},
   "outputs": [
    {
     "data": {
      "text/plain": [
       "<matplotlib.collections.PathCollection at 0x2d64a4d3e90>"
      ]
     },
     "execution_count": 30,
     "metadata": {},
     "output_type": "execute_result"
    },
    {
     "data": {
      "image/png": "[encoded data removed]",
      "text/plain": [
       "<Figure size 640x480 with 1 Axes>"
      ]
     },
     "metadata": {},
     "output_type": "display_data"
    }
   ],
   "source": [
    "plt.scatter(x_test, y_test)"
   ]
  },
  {
   "cell_type": "code",
   "execution_count": null,
   "id": "00a280d9",
   "metadata": {},
   "outputs": [],
   "source": []
  },
  {
   "cell_type": "code",
   "execution_count": null,
   "id": "495949b2",
   "metadata": {},
   "outputs": [],
   "source": []
  }
 ],
 "metadata": {
  "kernelspec": {
   "display_name": "Python 3 (ipykernel)",
   "language": "python",
   "name": "python3"
  },
  "language_info": {
   "codemirror_mode": {
    "name": "ipython",
    "version": 3
   },
   "file_extension": ".py",
   "mimetype": "text/x-python",
   "name": "python",
   "nbconvert_exporter": "python",
   "pygments_lexer": "ipython3",
   "version": "3.11.5"
  }
 },
 "nbformat": 4,
 "nbformat_minor": 5
}
