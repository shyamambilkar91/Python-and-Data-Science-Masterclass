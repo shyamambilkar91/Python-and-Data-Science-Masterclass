{
 "cells": [
  {
   "cell_type": "markdown",
   "id": "1aba9f7c",
   "metadata": {},
   "source": [
    "# KNN - K NEAREST NEIGHBOR"
   ]
  },
  {
   "cell_type": "markdown",
   "id": "b883e7d3",
   "metadata": {},
   "source": [
    "1. KNN is supervised Machine Learning algorithm\n",
    "2. KNN is one of the simple machine learning algorithm based on Supervised ML algorithm\n",
    "3. KNN algorithm assumes the similirity between the new data\n",
    "4. Devide a new data into different categories\n",
    "5. KNN algorithm stores all available data and classifies a new data points on similirity\n",
    "6. This means when a new data appears then it can be easily classified into a well suite category by using KNN algorithm\n",
    "7. KNN algorithm can be used for both Classification as well as Regression but mostly used for classification Problem\n",
    "8. KNN is non parametric algorithm whcih means it does not make any assumption on underlying data\n",
    "9. KNN algorithm also called as **Lazy learner Algorithm** because it does not learn from training dataset immedietly insted it stores the dataset\n",
    "10. Times of classfication it performs the action on the dataset"
   ]
  },
  {
   "cell_type": "markdown",
   "id": "98155211",
   "metadata": {},
   "source": [
    "![](https://static.javatpoint.com/tutorial/machine-learning/images/k-nearest-neighbor-algorithm-for-machine-learning2.png)"
   ]
  },
  {
   "cell_type": "markdown",
   "id": "7989256d",
   "metadata": {},
   "source": [
    "1. Suppose there are two categories i.e. category A and Category B\n",
    "2. We have new data points X1, so this data points will lie in which category\n",
    "3. This type of Problem solve using the KNN algorithm\n",
    "4. Using the KNN we can easily identified category of class"
   ]
  },
  {
   "cell_type": "markdown",
   "id": "0f6b2648",
   "metadata": {},
   "source": [
    "### How Does KNN Works ?"
   ]
  },
  {
   "cell_type": "markdown",
   "id": "fff0dc89",
   "metadata": {},
   "source": [
    "#### Using the following steps to performs KNN algorithm"
   ]
  },
  {
   "cell_type": "markdown",
   "id": "71692c24",
   "metadata": {},
   "source": [
    "**Step 1** : Select the number of K of the Neighbors"
   ]
  },
  {
   "cell_type": "markdown",
   "id": "7ca059a5",
   "metadata": {},
   "source": [
    "**Step 2** : Calculate **Ecludian Distance** of K numbers of Neighbors"
   ]
  },
  {
   "cell_type": "markdown",
   "id": "2fb7066d",
   "metadata": {},
   "source": [
    "**Step 3** : Take the K Nearest Neighbors as the calculated Ecludian distance"
   ]
  },
  {
   "cell_type": "markdown",
   "id": "0b730ef4",
   "metadata": {},
   "source": [
    "**Step 4** : Among the K-Neighbors, count the number of data points in each category"
   ]
  },
  {
   "cell_type": "markdown",
   "id": "9f43b217",
   "metadata": {},
   "source": [
    "**Step 6**: Our Model is Ready"
   ]
  },
  {
   "cell_type": "markdown",
   "id": "87ac2ef0",
   "metadata": {},
   "source": [
    "**There are two ways to Calculate distance from datapoints**"
   ]
  },
  {
   "cell_type": "markdown",
   "id": "4884dda7",
   "metadata": {},
   "source": [
    "1. Ecludian Distance\n",
    "2. Manhatten Distance"
   ]
  },
  {
   "cell_type": "markdown",
   "id": "d3e9ddde",
   "metadata": {},
   "source": [
    "### 1. Ecludian Distance"
   ]
  },
  {
   "cell_type": "markdown",
   "id": "7cc5a98c",
   "metadata": {},
   "source": [
    "![](https://www.gstatic.com/education/formulas2/553212783/en/euclidean_distance.svg)"
   ]
  },
  {
   "cell_type": "markdown",
   "id": "9ae979d6",
   "metadata": {},
   "source": [
    "1. p,q\t=\ttwo points in Euclidean n-space\n",
    "2. q_i, p_i\t=\tEuclidean vectors, starting from the origin of the space (initial point)\n",
    "3. n\t=\tn-space"
   ]
  },
  {
   "cell_type": "raw",
   "id": "30a16bba",
   "metadata": {},
   "source": [
    "AB2 = AC2 + BC2\n",
    "\n",
    "D2 = (X2 - X1) ** 2 + (Y2 - Y1) ** 2,\n",
    "\n",
    "Taking the square root on the both side\n",
    "\n",
    "d = (x - a) ** 2 + (y - b) ** 2\n",
    "\n",
    "Hence, Ecludian distance formula is derived"
   ]
  },
  {
   "cell_type": "raw",
   "id": "89b536fd",
   "metadata": {},
   "source": [
    "P(3, 2) = [X1 =3, Y1 = 2]\n",
    "Q(4,1)  = [X2 = 4, Y2 = 1]\n",
    "\n",
    "D = Underroot_of [(X2 - X1) ** 2 + (Y2 -Y1) ** 2]\n",
    "PQ = Underroot_of[(4 - 3) ** 2 + (1 - 2) ** 2]\n",
    "PQ = Underroot_of[(1)**2 + (-1)**2]\n",
    "PQ = Underroot_of[2]"
   ]
  },
  {
   "cell_type": "markdown",
   "id": "54f7403f",
   "metadata": {},
   "source": [
    "## 2. Manhatten Distance"
   ]
  },
  {
   "cell_type": "markdown",
   "id": "e6cbb583",
   "metadata": {},
   "source": [
    "1. Take the sum of absolute value of the difference of th coordinates\n",
    "2. Example:\n",
    "    1. If X = (a,b) and Y = (c,d)\n",
    "3. Manhatten Distance between X and Y:\n",
    "    1. |A - C| + |B - D|"
   ]
  },
  {
   "cell_type": "markdown",
   "id": "bae2a578",
   "metadata": {},
   "source": [
    "### How to select the value of K in the KNN-Algorithm"
   ]
  },
  {
   "cell_type": "markdown",
   "id": "eab541e6",
   "metadata": {},
   "source": [
    "1. There is no perticular way to determine the best value of K\n",
    "2. The most Preferred value for K is 5\n",
    "3. The low value for K such as K = 1\n",
    "4. K = 2 can be noise and lead the efffect of the outliers in the model\n",
    "5. Large value of K are good, but it may find some difficulties"
   ]
  },
  {
   "cell_type": "markdown",
   "id": "acd90f07",
   "metadata": {},
   "source": [
    "### Advantages of KNN"
   ]
  },
  {
   "cell_type": "markdown",
   "id": "26d4cc96",
   "metadata": {},
   "source": [
    "1. It is simple to Implement\n",
    "2. It is robust to noisy training data\n",
    "3. It can be more effective if the training data is to large"
   ]
  },
  {
   "cell_type": "markdown",
   "id": "51899941",
   "metadata": {},
   "source": [
    "### Disadvantages of KNN"
   ]
  },
  {
   "cell_type": "markdown",
   "id": "837642f7",
   "metadata": {},
   "source": [
    "1. Always needs to determine the value of K which may be complex some time\n",
    "2. Computation cost is high because calculating the distance between the data points for all training "
   ]
  },
  {
   "cell_type": "code",
   "execution_count": null,
   "id": "b437e3a4",
   "metadata": {},
   "outputs": [],
   "source": []
  }
 ],
 "metadata": {
  "kernelspec": {
   "display_name": "Python 3 (ipykernel)",
   "language": "python",
   "name": "python3"
  },
  "language_info": {
   "codemirror_mode": {
    "name": "ipython",
    "version": 3
   },
   "file_extension": ".py",
   "mimetype": "text/x-python",
   "name": "python",
   "nbconvert_exporter": "python",
   "pygments_lexer": "ipython3",
   "version": "3.11.5"
  }
 },
 "nbformat": 4,
 "nbformat_minor": 5
}
