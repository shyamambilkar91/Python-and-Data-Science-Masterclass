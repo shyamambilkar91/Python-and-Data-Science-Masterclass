{
 "cells": [
  {
   "cell_type": "markdown",
   "id": "499cfe2f",
   "metadata": {},
   "source": [
    "# SETUP"
   ]
  },
  {
   "cell_type": "markdown",
   "id": "d78d9185",
   "metadata": {},
   "source": [
    "1. Set a name that is identifiable for credit when review version history:\n",
    "    1. git config --global user.name '[First_Name Last_Name]'\n",
    "2. Set an email address that will be associated with each history marker:\n",
    "    2.  git config --global user.name '[valid_email]'\n",
    "3. Set automatic command line coloring for git for easy reviewing\n",
    "    3. git config --global color.ui auto:"
   ]
  },
  {
   "cell_type": "markdown",
   "id": "b396ceab",
   "metadata": {},
   "source": [
    "### 1. Configuring user information intaializing and cloning repositories"
   ]
  },
  {
   "cell_type": "markdown",
   "id": "6170df88",
   "metadata": {},
   "source": [
    "![](https://www.pablogonzalez.io/content/images/2023/05/CI_CD-inner-images_Gitflow-workflow.png)"
   ]
  },
  {
   "cell_type": "markdown",
   "id": "becf0144",
   "metadata": {},
   "source": [
    "![](https://media.geeksforgeeks.org/wp-content/uploads/20240226111013/image-258.webp)"
   ]
  },
  {
   "cell_type": "code",
   "execution_count": null,
   "id": "1bb8dabb",
   "metadata": {},
   "outputs": [],
   "source": []
  }
 ],
 "metadata": {
  "kernelspec": {
   "display_name": "Python 3 (ipykernel)",
   "language": "python",
   "name": "python3"
  },
  "language_info": {
   "codemirror_mode": {
    "name": "ipython",
    "version": 3
   },
   "file_extension": ".py",
   "mimetype": "text/x-python",
   "name": "python",
   "nbconvert_exporter": "python",
   "pygments_lexer": "ipython3",
   "version": "3.11.5"
  }
 },
 "nbformat": 4,
 "nbformat_minor": 5
}
