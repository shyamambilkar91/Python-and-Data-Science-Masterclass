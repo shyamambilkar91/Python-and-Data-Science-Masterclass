{
 "cells": [
  {
   "cell_type": "markdown",
   "id": "59077705",
   "metadata": {},
   "source": [
    "# Step By Step Process EDA and Feature Engineering"
   ]
  },
  {
   "cell_type": "markdown",
   "id": "b48eff21",
   "metadata": {},
   "source": [
    "1. What is the order to complete the Feature Engineering Process\n",
    "2. In data science project, If I consider Feature Engineering it takes somewhere around 30% of entire project time, it is huge"
   ]
  },
  {
   "cell_type": "markdown",
   "id": "a1d6162a",
   "metadata": {},
   "source": [
    "### What is the exact order see after I get the data the raw data what should First do ?"
   ]
  },
  {
   "cell_type": "markdown",
   "id": "56c66875",
   "metadata": {},
   "source": [
    "If you know remember in the life cycle of a Data Science is part of the first module that actually comes in Feature Engineering and after that"
   ]
  },
  {
   "cell_type": "markdown",
   "id": "410c4a73",
   "metadata": {},
   "source": [
    "1. Feature Selection\n",
    "2. Model Creation\n",
    "3. Model Deployement\n",
    "4. Hyper Parameter Tunning (Before Model Deployement)\n",
    "5. Incremental Learning"
   ]
  },
  {
   "cell_type": "markdown",
   "id": "fd63f27f",
   "metadata": {},
   "source": [
    "Feature Engineering is the backbone of Data Science Project"
   ]
  },
  {
   "cell_type": "markdown",
   "id": "390c5918",
   "metadata": {},
   "source": [
    "### Step by Step Feature Engineering"
   ]
  },
  {
   "cell_type": "markdown",
   "id": "ccc7258b",
   "metadata": {},
   "source": [
    "1. EDA (Exploratory Data Analysis)\n",
    "2. Handling Missing Datasets\n",
    "3. Handling Imbalanced Datasets\n",
    "4. Treating the Outliers\n",
    "5. Scalling the Data\n",
    "6. Converting Categorical Feature in to Numerical Feature"
   ]
  },
  {
   "cell_type": "markdown",
   "id": "6b0ca7a9",
   "metadata": {},
   "source": [
    "### 1. EDA - Exploratory Data Analysis"
   ]
  },
  {
   "cell_type": "markdown",
   "id": "9ff9f6d3",
   "metadata": {},
   "source": [
    "1. There are different steps in EDA, In EDA as soon as we get the data\n",
    "2. The entire Feature Engineering is actually done on the raw data\n",
    "3. Once we get the dataset [raw], we perform the EDA on the raw data\n",
    "4. There are different kind of analysis perform on raw data:\n",
    "    1. Numerical Feature present in datasets (Histogram, Barplot, PDF etc.)\n",
    "    2. How many Categorical or Descrete Feature Present in Datasets\n",
    "    3. Findout Missing Values [Visualize all the graphs - pairplot]\n",
    "    4. Outliers [BoxPlot]\n",
    "    5. Cleaning or Not"
   ]
  },
  {
   "cell_type": "markdown",
   "id": "f92b99b2",
   "metadata": {},
   "source": [
    "**5. for step 1 to 5 sent to this Analytics Manager to take decision on the basis of EDA**"
   ]
  },
  {
   "cell_type": "markdown",
   "id": "70ce13ba",
   "metadata": {},
   "source": [
    "**Our main goal is to convert data into a useful information data so that our Machine Learning algorithm will be able to ingest them Properly for amazing prediction.**"
   ]
  },
  {
   "cell_type": "markdown",
   "id": "e2da3c0c",
   "metadata": {},
   "source": [
    "### 2. Handling the Missing Value"
   ]
  },
  {
   "cell_type": "markdown",
   "id": "65a593a4",
   "metadata": {},
   "source": [
    "1. There are different ways to handle missing values, are as follows:\n",
    "    1. Mean [Numerical]\n",
    "    2. Mode [Categorical]\n",
    "    3. Median [Categorical]"
   ]
  },
  {
   "cell_type": "markdown",
   "id": "35f51544",
   "metadata": {},
   "source": [
    "2. There are different ways to handle missing data\n",
    "3. Replace some of the feature by considering some different Techniques \n",
    "4. Create a Number of Box plot to see it, utilizing IQR in Removing the outliers\n",
    "5. After Removing the Outliers Missing Values in our Datasets"
   ]
  },
  {
   "cell_type": "markdown",
   "id": "b5153c18",
   "metadata": {},
   "source": [
    "**If you dont want to impact the outlier you can directly use median or mode right this is perform in Handling Missing Data**"
   ]
  },
  {
   "cell_type": "markdown",
   "id": "a0581e03",
   "metadata": {},
   "source": [
    "### 3. Handling Imbalanced Dataset"
   ]
  },
  {
   "cell_type": "markdown",
   "id": "adef873f",
   "metadata": {},
   "source": [
    "1. Important steps in Feature Engineering\n",
    "2. All machine learning algorithm not works well with an imbalanced datasets, you may get bad accuracy\n",
    "3. We Need to Handle Imbalanced dataset because of toa avoid or reduce **Underfitting** and **Overfitting** Problem:\n",
    "    1. Under Sampling - Majority Class\n",
    "    2. Over Sampling - Minority Class by duplication\n",
    "    3. Over Sampling Minority Class using Synthetic Oversampling Technique [SMOTE]"
   ]
  },
  {
   "cell_type": "markdown",
   "id": "74cd6078",
   "metadata": {},
   "source": [
    "### 4. Treating the Outliers"
   ]
  },
  {
   "cell_type": "markdown",
   "id": "e759a008",
   "metadata": {},
   "source": [
    "1. First, Calculate the **Skewness** of the Featue and checked whether they are positively skewed, Negatively skewed or Normally skewed another method is to plot the Boxplot to Feature and check if any values are out of bound or Not. If they are called as Outliers"
   ]
  },
  {
   "cell_type": "markdown",
   "id": "19a6a765",
   "metadata": {},
   "source": [
    "![](https://editor.analyticsvidhya.com/uploads/12311IQR.png)"
   ]
  },
  {
   "cell_type": "markdown",
   "id": "85f6032e",
   "metadata": {},
   "source": [
    "1. First, Calculate 25% and 75%\n",
    "2. Next Calculate InterQuartile Range (IQR = Q3 - Q1)\n",
    "3. Next Calculate Upper Extreme and Lower Extreame values\n",
    "4. LE = Q1 - 1.5 * IQR\n",
    "5. UE = Q3 - 1.5 * IQR\n",
    "6. Lastly check the values will be above the Upper extreame or below Lower Extreame:\n",
    "    1. If it present then remove or replace them with median or any quantile value\n",
    "7. Replace outliers with mean values\n",
    "8. Replace Outliers with Quantile\n",
    "9. Drop Outliers"
   ]
  },
  {
   "cell_type": "markdown",
   "id": "fdfe4540",
   "metadata": {},
   "source": [
    "### 5.Scalling the Datasets"
   ]
  },
  {
   "cell_type": "markdown",
   "id": "9d2d5c5a",
   "metadata": {},
   "source": [
    "1. There are different ways to scale data using different methods:\n",
    "    1. Standardization [z-score Normalization]\n",
    "    2. Normalization [Min-Max Scalling]"
   ]
  },
  {
   "cell_type": "markdown",
   "id": "f4c2fe74",
   "metadata": {},
   "source": [
    "### 6. Converting Categorical feature into Numerical Feature"
   ]
  },
  {
   "cell_type": "markdown",
   "id": "485e394e",
   "metadata": {},
   "source": [
    "1. One Hot Encoding\n",
    "2. Label Encoding"
   ]
  },
  {
   "cell_type": "markdown",
   "id": "5cddbdc5",
   "metadata": {},
   "source": [
    "1. In Data Science, Performance of the model is depending on the preprocessing and data handling\n",
    "2. Suppose we build a model without handling data, we got accuracy around 70%\n",
    "3. By applying the feature Engineering on the same model there is chance to performance from 70% to more [close to 100]\n",
    "4. Using the Feature Engineering we improve the performance of model"
   ]
  },
  {
   "cell_type": "markdown",
   "id": "11ebecda",
   "metadata": {},
   "source": [
    "#### 1. One Hot Enconding"
   ]
  },
  {
   "cell_type": "markdown",
   "id": "b7dab8b2",
   "metadata": {},
   "source": [
    "![](https://miro.medium.com/v2/resize:fit:1400/1*ggtP4a5YaRx6l09KQaYOnw.png)"
   ]
  },
  {
   "cell_type": "markdown",
   "id": "0bbcd837",
   "metadata": {},
   "source": [
    "#### 2. Label Encoding"
   ]
  },
  {
   "cell_type": "markdown",
   "id": "b40582d7",
   "metadata": {},
   "source": [
    "![](data:image/png;base64,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)"
   ]
  },
  {
   "cell_type": "code",
   "execution_count": null,
   "id": "50877947",
   "metadata": {},
   "outputs": [],
   "source": []
  }
 ],
 "metadata": {
  "kernelspec": {
   "display_name": "Python 3 (ipykernel)",
   "language": "python",
   "name": "python3"
  },
  "language_info": {
   "codemirror_mode": {
    "name": "ipython",
    "version": 3
   },
   "file_extension": ".py",
   "mimetype": "text/x-python",
   "name": "python",
   "nbconvert_exporter": "python",
   "pygments_lexer": "ipython3",
   "version": "3.11.5"
  }
 },
 "nbformat": 4,
 "nbformat_minor": 5
}
