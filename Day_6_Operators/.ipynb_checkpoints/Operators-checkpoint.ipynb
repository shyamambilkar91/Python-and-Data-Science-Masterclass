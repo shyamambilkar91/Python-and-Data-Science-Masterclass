{
 "cells": [
  {
   "cell_type": "markdown",
   "id": "f87c9353",
   "metadata": {},
   "source": [
    "# Identity Operators"
   ]
  },
  {
   "cell_type": "markdown",
   "id": "ab519c8c",
   "metadata": {},
   "source": [
    "1. is - Returns True if both variable are the same object.\n",
    "2. is not - Return True if both variable are not the same object"
   ]
  },
  {
   "cell_type": "markdown",
   "id": "a73a756d",
   "metadata": {},
   "source": [
    "### 1. Is Operators"
   ]
  },
  {
   "cell_type": "code",
   "execution_count": 1,
   "id": "bb1c3b20",
   "metadata": {},
   "outputs": [
    {
     "name": "stdout",
     "output_type": "stream",
     "text": [
      "True\n"
     ]
    }
   ],
   "source": [
    "x = ['mango','cherry','apple']\n",
    "y = ['mango','cherry','apple']\n",
    "z = x\n",
    "\n",
    "print(x is z) # Return True because z is the same elements "
   ]
  },
  {
   "cell_type": "code",
   "execution_count": 2,
   "id": "537cc880",
   "metadata": {},
   "outputs": [
    {
     "name": "stdout",
     "output_type": "stream",
     "text": [
      "False\n"
     ]
    }
   ],
   "source": [
    "print(x is y) # Return False because x is not the same object as y, if they have same elements [content]"
   ]
  },
  {
   "cell_type": "code",
   "execution_count": 3,
   "id": "38696127",
   "metadata": {},
   "outputs": [
    {
     "name": "stdout",
     "output_type": "stream",
     "text": [
      "True\n"
     ]
    }
   ],
   "source": [
    "print(x == y) "
   ]
  },
  {
   "cell_type": "code",
   "execution_count": 5,
   "id": "2aaf4486",
   "metadata": {},
   "outputs": [],
   "source": [
    "x = y"
   ]
  },
  {
   "cell_type": "code",
   "execution_count": 6,
   "id": "72c308eb",
   "metadata": {},
   "outputs": [
    {
     "name": "stdout",
     "output_type": "stream",
     "text": [
      "True\n"
     ]
    }
   ],
   "source": [
    "print(x is y)"
   ]
  },
  {
   "cell_type": "markdown",
   "id": "d9a1fdf8",
   "metadata": {},
   "source": [
    "## 2. Is not Operators"
   ]
  },
  {
   "cell_type": "code",
   "execution_count": 7,
   "id": "391d1ef3",
   "metadata": {},
   "outputs": [
    {
     "name": "stdout",
     "output_type": "stream",
     "text": [
      "False\n"
     ]
    }
   ],
   "source": [
    "x = ['mango','cherry','apple']\n",
    "y = ['mango','cherry','apple']\n",
    "z = x\n",
    "\n",
    "print(x is not z) # Returns false beacause z is the same object  as x"
   ]
  },
  {
   "cell_type": "code",
   "execution_count": 8,
   "id": "e71f1f41",
   "metadata": {},
   "outputs": [
    {
     "name": "stdout",
     "output_type": "stream",
     "text": [
      "False\n"
     ]
    }
   ],
   "source": [
    "print(x is y) # Returns True beacause x is not the same object as y, even if they have same content"
   ]
  },
  {
   "cell_type": "code",
   "execution_count": 9,
   "id": "ba0964c9",
   "metadata": {},
   "outputs": [
    {
     "data": {
      "text/plain": [
       "False"
      ]
     },
     "execution_count": 9,
     "metadata": {},
     "output_type": "execute_result"
    }
   ],
   "source": [
    "x != y"
   ]
  },
  {
   "cell_type": "markdown",
   "id": "871738a5",
   "metadata": {},
   "source": [
    "# Membership Operators"
   ]
  },
  {
   "cell_type": "markdown",
   "id": "5e6b69de",
   "metadata": {},
   "source": [
    "1. Membership operators are used to test if a sequence is present in an object.\n",
    "2. To findout specific value in given range of elements or object \n",
    "3. There are two different types of membership operators:\n",
    "    1. in\n",
    "    2. not in "
   ]
  },
  {
   "cell_type": "markdown",
   "id": "8e895dc3",
   "metadata": {},
   "source": [
    "### 1. In Operators [in] - Return true if a sequence with the specified value is present in the object."
   ]
  },
  {
   "cell_type": "code",
   "execution_count": 10,
   "id": "2802c56e",
   "metadata": {},
   "outputs": [
    {
     "name": "stdout",
     "output_type": "stream",
     "text": [
      "True\n"
     ]
    }
   ],
   "source": [
    "my_list = ['apple','mango','cherry','banana','blackcurrent','peru','grapes']\n",
    "\n",
    "print( 'banana' in my_list)"
   ]
  },
  {
   "cell_type": "code",
   "execution_count": 11,
   "id": "699c2c11",
   "metadata": {},
   "outputs": [
    {
     "name": "stdout",
     "output_type": "stream",
     "text": [
      "False\n"
     ]
    }
   ],
   "source": [
    "print('Banana' in my_list)"
   ]
  },
  {
   "cell_type": "code",
   "execution_count": 12,
   "id": "8dad7379",
   "metadata": {},
   "outputs": [
    {
     "name": "stdout",
     "output_type": "stream",
     "text": [
      "Element are present\n"
     ]
    }
   ],
   "source": [
    "if 'banana' in my_list:\n",
    "    print(\"Element are present\")\n",
    "else:\n",
    "    print(\"Not Present\")"
   ]
  },
  {
   "cell_type": "code",
   "execution_count": 13,
   "id": "b718b858",
   "metadata": {},
   "outputs": [
    {
     "name": "stdout",
     "output_type": "stream",
     "text": [
      "Not Present\n"
     ]
    }
   ],
   "source": [
    "if 'Banana' in my_list:\n",
    "    print(\"Element are present\")\n",
    "else:\n",
    "    print(\"Not Present\")"
   ]
  },
  {
   "cell_type": "markdown",
   "id": "f85f5046",
   "metadata": {},
   "source": [
    "### 2. Not In Operators - Return True if a sequence with the specified value is not present in the object"
   ]
  },
  {
   "cell_type": "code",
   "execution_count": 15,
   "id": "b3838b2a",
   "metadata": {},
   "outputs": [
    {
     "name": "stdout",
     "output_type": "stream",
     "text": [
      "False\n"
     ]
    }
   ],
   "source": [
    "my_list = ['apple','mango','cherry','banana','blackcurrent','peru','grapes']\n",
    "\n",
    "print( 'banana' not in my_list)"
   ]
  },
  {
   "cell_type": "code",
   "execution_count": 17,
   "id": "3c900c53",
   "metadata": {},
   "outputs": [
    {
     "name": "stdout",
     "output_type": "stream",
     "text": [
      "True\n"
     ]
    }
   ],
   "source": [
    "my_list = ['apple','mango','cherry','banana','blackcurrent','peru','grapes']\n",
    "\n",
    "print( 'Banana' not in my_list)"
   ]
  },
  {
   "cell_type": "markdown",
   "id": "deb4baaa",
   "metadata": {},
   "source": [
    "# String - Slicing\n",
    "\n",
    "1. You can return range of characters by using slicing syntax\n",
    "2. First character starts from 0"
   ]
  },
  {
   "cell_type": "code",
   "execution_count": 18,
   "id": "77caa0a1",
   "metadata": {},
   "outputs": [],
   "source": [
    "my_string = \"Welcome to Python & Data Science Class\""
   ]
  },
  {
   "cell_type": "code",
   "execution_count": 19,
   "id": "c0dcf4c4",
   "metadata": {},
   "outputs": [
    {
     "data": {
      "text/plain": [
       "'Welcome to Python & Data Science Class'"
      ]
     },
     "execution_count": 19,
     "metadata": {},
     "output_type": "execute_result"
    }
   ],
   "source": [
    "my_string"
   ]
  },
  {
   "cell_type": "markdown",
   "id": "49c5104a",
   "metadata": {},
   "source": [
    "#### my_string[start_index : end_index]"
   ]
  },
  {
   "cell_type": "code",
   "execution_count": 22,
   "id": "34d46f36",
   "metadata": {},
   "outputs": [
    {
     "data": {
      "text/plain": [
       "'Welcome'"
      ]
     },
     "execution_count": 22,
     "metadata": {},
     "output_type": "execute_result"
    }
   ],
   "source": [
    "my_string[0:7] "
   ]
  },
  {
   "cell_type": "code",
   "execution_count": 23,
   "id": "008eb6cc",
   "metadata": {},
   "outputs": [
    {
     "data": {
      "text/plain": [
       "'come'"
      ]
     },
     "execution_count": 23,
     "metadata": {},
     "output_type": "execute_result"
    }
   ],
   "source": [
    "my_string[3:7] "
   ]
  },
  {
   "cell_type": "code",
   "execution_count": 24,
   "id": "2bbc676e",
   "metadata": {},
   "outputs": [
    {
     "data": {
      "text/plain": [
       "'Welcome to Python & Data Science Class'"
      ]
     },
     "execution_count": 24,
     "metadata": {},
     "output_type": "execute_result"
    }
   ],
   "source": [
    "my_string[:]"
   ]
  },
  {
   "cell_type": "markdown",
   "id": "e50933e5",
   "metadata": {},
   "source": [
    "### starts with"
   ]
  },
  {
   "cell_type": "code",
   "execution_count": 25,
   "id": "7032d1b9",
   "metadata": {},
   "outputs": [
    {
     "data": {
      "text/plain": [
       "'Python & Data Science Class'"
      ]
     },
     "execution_count": 25,
     "metadata": {},
     "output_type": "execute_result"
    }
   ],
   "source": [
    "my_string[11:]"
   ]
  },
  {
   "cell_type": "markdown",
   "id": "86a495e1",
   "metadata": {},
   "source": [
    "### 2. ends with "
   ]
  },
  {
   "cell_type": "code",
   "execution_count": 26,
   "id": "8cf8f11f",
   "metadata": {},
   "outputs": [
    {
     "data": {
      "text/plain": [
       "'Welcome to P'"
      ]
     },
     "execution_count": 26,
     "metadata": {},
     "output_type": "execute_result"
    }
   ],
   "source": [
    "my_string[:12]"
   ]
  },
  {
   "cell_type": "code",
   "execution_count": 29,
   "id": "e5e68f81",
   "metadata": {},
   "outputs": [],
   "source": [
    "my_string = \"Welcome to Python & Data Science Class.machine learning is best.\""
   ]
  },
  {
   "cell_type": "markdown",
   "id": "323fe465",
   "metadata": {},
   "source": [
    "### 1. Capitalize Case"
   ]
  },
  {
   "cell_type": "code",
   "execution_count": 30,
   "id": "6e561364",
   "metadata": {},
   "outputs": [
    {
     "data": {
      "text/plain": [
       "'Welcome to python & data science class. machine learning is best.'"
      ]
     },
     "execution_count": 30,
     "metadata": {},
     "output_type": "execute_result"
    }
   ],
   "source": [
    "my_string.capitalize()"
   ]
  },
  {
   "cell_type": "markdown",
   "id": "630ca31b",
   "metadata": {},
   "source": [
    "### 2. Upper Case"
   ]
  },
  {
   "cell_type": "code",
   "execution_count": 31,
   "id": "4dd4c81b",
   "metadata": {},
   "outputs": [
    {
     "data": {
      "text/plain": [
       "'WELCOME TO PYTHON & DATA SCIENCE CLASS. MACHINE LEARNING IS BEST.'"
      ]
     },
     "execution_count": 31,
     "metadata": {},
     "output_type": "execute_result"
    }
   ],
   "source": [
    "my_string = \"Welcome to Python & Data Science Class. machine learning is best.\"\n",
    "\n",
    "my_string.upper()"
   ]
  },
  {
   "cell_type": "markdown",
   "id": "fa1fa35d",
   "metadata": {},
   "source": [
    "## 3. Lower Case"
   ]
  },
  {
   "cell_type": "code",
   "execution_count": 32,
   "id": "ab6402c4",
   "metadata": {},
   "outputs": [
    {
     "name": "stdout",
     "output_type": "stream",
     "text": [
      "Help on built-in function capitalize:\n",
      "\n",
      "capitalize() method of builtins.str instance\n",
      "    Return a capitalized version of the string.\n",
      "    \n",
      "    More specifically, make the first character have upper case and the rest lower\n",
      "    case.\n",
      "\n"
     ]
    }
   ],
   "source": [
    "help(my_string.capitalize)"
   ]
  },
  {
   "cell_type": "code",
   "execution_count": 33,
   "id": "9a59589f",
   "metadata": {},
   "outputs": [
    {
     "data": {
      "text/plain": [
       "'welcome to python & data science class. machine learning is best.'"
      ]
     },
     "execution_count": 33,
     "metadata": {},
     "output_type": "execute_result"
    }
   ],
   "source": [
    "my_string = 'WELCOME TO PYTHON & DATA SCIENCE CLASS. MACHINE LEARNING IS BEST.'\n",
    "\n",
    "my_string.lower()"
   ]
  },
  {
   "cell_type": "code",
   "execution_count": 34,
   "id": "7ac91767",
   "metadata": {},
   "outputs": [
    {
     "name": "stdout",
     "output_type": "stream",
     "text": [
      "Help on built-in function lower:\n",
      "\n",
      "lower() method of builtins.str instance\n",
      "    Return a copy of the string converted to lowercase.\n",
      "\n"
     ]
    }
   ],
   "source": [
    "help(my_string.lower)"
   ]
  },
  {
   "cell_type": "markdown",
   "id": "46c7f8b2",
   "metadata": {},
   "source": [
    "## 3. Whitespace "
   ]
  },
  {
   "cell_type": "code",
   "execution_count": 35,
   "id": "c0f49a26",
   "metadata": {},
   "outputs": [
    {
     "data": {
      "text/plain": [
       "'WELCOME TO PYTHON & DATA SCIENCE CLASS.   MACHINE LEARNING IS BEST!'"
      ]
     },
     "execution_count": 35,
     "metadata": {},
     "output_type": "execute_result"
    }
   ],
   "source": [
    "my_string = '   WELCOME TO PYTHON & DATA SCIENCE CLASS.   MACHINE LEARNING IS BEST!   '\n",
    "\n",
    "my_string.strip()"
   ]
  },
  {
   "cell_type": "code",
   "execution_count": 36,
   "id": "c0e9a561",
   "metadata": {},
   "outputs": [
    {
     "name": "stdout",
     "output_type": "stream",
     "text": [
      "Help on built-in function strip:\n",
      "\n",
      "strip(chars=None, /) method of builtins.str instance\n",
      "    Return a copy of the string with leading and trailing whitespace removed.\n",
      "    \n",
      "    If chars is given and not None, remove characters in chars instead.\n",
      "\n"
     ]
    }
   ],
   "source": [
    "help(my_string.strip)"
   ]
  },
  {
   "cell_type": "code",
   "execution_count": 42,
   "id": "8980a65c",
   "metadata": {},
   "outputs": [
    {
     "name": "stdout",
     "output_type": "stream",
     "text": [
      "   WELCOME TO PYTHON & DATA SCIENCE CLASS.   MACHINE LEARNING IS BEST!   \n"
     ]
    }
   ],
   "source": [
    "print(my_string.center(1))"
   ]
  },
  {
   "cell_type": "code",
   "execution_count": 43,
   "id": "f7cf2623",
   "metadata": {},
   "outputs": [
    {
     "name": "stdout",
     "output_type": "stream",
     "text": [
      "Help on built-in function count:\n",
      "\n",
      "count(...) method of builtins.str instance\n",
      "    S.count(sub[, start[, end]]) -> int\n",
      "    \n",
      "    Return the number of non-overlapping occurrences of substring sub in\n",
      "    string S[start:end].  Optional arguments start and end are\n",
      "    interpreted as in slice notation.\n",
      "\n"
     ]
    }
   ],
   "source": [
    "help(my_string.count)"
   ]
  },
  {
   "cell_type": "code",
   "execution_count": 45,
   "id": "4854dc65",
   "metadata": {},
   "outputs": [
    {
     "data": {
      "text/plain": [
       "'Welcome to Python & Data Science Class.Deep Learning learning is best.'"
      ]
     },
     "execution_count": 45,
     "metadata": {},
     "output_type": "execute_result"
    }
   ],
   "source": [
    "my_string = \"Welcome to Python & Data Science Class.machine learning is best.\"\n",
    "\n",
    "my_string.replace(\"machine\", \"Deep Learning\")"
   ]
  },
  {
   "cell_type": "code",
   "execution_count": null,
   "id": "0792bf6e",
   "metadata": {},
   "outputs": [],
   "source": []
  }
 ],
 "metadata": {
  "kernelspec": {
   "display_name": "Python 3 (ipykernel)",
   "language": "python",
   "name": "python3"
  },
  "language_info": {
   "codemirror_mode": {
    "name": "ipython",
    "version": 3
   },
   "file_extension": ".py",
   "mimetype": "text/x-python",
   "name": "python",
   "nbconvert_exporter": "python",
   "pygments_lexer": "ipython3",
   "version": "3.11.5"
  }
 },
 "nbformat": 4,
 "nbformat_minor": 5
}
