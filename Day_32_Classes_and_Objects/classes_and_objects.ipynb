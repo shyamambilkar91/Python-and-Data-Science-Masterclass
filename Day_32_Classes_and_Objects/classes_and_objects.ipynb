{
 "cells": [
  {
   "cell_type": "markdown",
   "id": "6088a963",
   "metadata": {},
   "source": [
    "# Object Method"
   ]
  },
  {
   "cell_type": "code",
   "execution_count": 6,
   "id": "e1b7b44a",
   "metadata": {},
   "outputs": [
    {
     "name": "stdout",
     "output_type": "stream",
     "text": [
      "Hello My name is Shyam Ambilkar and my age is 58\n"
     ]
    }
   ],
   "source": [
    "class Person:\n",
    "    def __init__(self, name, age):\n",
    "        self.name = name\n",
    "        self.age = age\n",
    "    \n",
    "    def myFunction(self):\n",
    "        print(\"Hello My name is\",self.name,\"and my age is\",self.age)\n",
    "        \n",
    "p1 = Person(\"Shyam Ambilkar\",58)\n",
    "p1.myFunction()"
   ]
  },
  {
   "cell_type": "markdown",
   "id": "092211a1",
   "metadata": {},
   "source": [
    "**Note: The self parameter is a reference to the current instace of the class and used to access variable that belongs to the class**"
   ]
  },
  {
   "cell_type": "markdown",
   "id": "a0c6d088",
   "metadata": {},
   "source": [
    "## The Self Parameter"
   ]
  },
  {
   "cell_type": "markdown",
   "id": "dc766c0f",
   "metadata": {},
   "source": [
    "**It does not have to be named self. you can call it whatever you like, but it has to be first parameter of any function in the class**"
   ]
  },
  {
   "cell_type": "code",
   "execution_count": 8,
   "id": "64e0b5c2",
   "metadata": {},
   "outputs": [
    {
     "name": "stdout",
     "output_type": "stream",
     "text": [
      "Hello My name is Vishal Shitole\n"
     ]
    }
   ],
   "source": [
    "class Person:\n",
    "    def __init__(sillypoint, fname, lname):\n",
    "        sillypoint.fname = fname\n",
    "        sillypoint.lname = lname\n",
    "        \n",
    "    def myFunct(vishal):\n",
    "        print(\"Hello My name is\", vishal.fname,vishal.lname)\n",
    "        \n",
    "\n",
    "p1 = Person(\"Vishal\",\"Shitole\")\n",
    "p1.myFunct()"
   ]
  },
  {
   "cell_type": "code",
   "execution_count": 10,
   "id": "6635054a",
   "metadata": {},
   "outputs": [
    {
     "name": "stdout",
     "output_type": "stream",
     "text": [
      "Hello My name is Vishal Shitole\n",
      "Hello My name is Rohan Gandhi\n"
     ]
    }
   ],
   "source": [
    "class Person:\n",
    "    def __init__(sillypoint, fname, lname):\n",
    "        sillypoint.fname = fname\n",
    "        sillypoint.lname = lname\n",
    "        \n",
    "    def myFunct(vishal):\n",
    "        print(\"Hello My name is\", vishal.fname,vishal.lname)\n",
    "        \n",
    "\n",
    "p1 = Person(\"Vishal\",\"Shitole\")\n",
    "p1.myFunct()\n",
    "\n",
    "p1.fname = \"Rohan\"\n",
    "p1.lname = \"Gandhi\"\n",
    "\n",
    "p1.myFunct()\n"
   ]
  },
  {
   "cell_type": "code",
   "execution_count": 11,
   "id": "4bde91d3",
   "metadata": {},
   "outputs": [
    {
     "name": "stdout",
     "output_type": "stream",
     "text": [
      "Hello My name is Shyam Ambilkar and my age is 25\n"
     ]
    }
   ],
   "source": [
    "class Person:\n",
    "    def __init__(self, name, age):\n",
    "        self.name = name\n",
    "        self.age = age\n",
    "    \n",
    "    def myFunction(self):\n",
    "        print(\"Hello My name is\",self.name,\"and my age is\",self.age)\n",
    "        \n",
    "p1 = Person(\"Shyam Ambilkar\",58)\n",
    "# p1.myFunction()\n",
    "\n",
    "p1.age = 25\n",
    "p1.myFunction()"
   ]
  },
  {
   "cell_type": "markdown",
   "id": "9058b586",
   "metadata": {},
   "source": [
    "### Delete Properties of Class"
   ]
  },
  {
   "cell_type": "code",
   "execution_count": 13,
   "id": "24deecd0",
   "metadata": {},
   "outputs": [
    {
     "name": "stdout",
     "output_type": "stream",
     "text": [
      "Hello My name is Shyam Ambilkar and my age is 58\n"
     ]
    },
    {
     "ename": "AttributeError",
     "evalue": "'Person' object has no attribute 'age'",
     "output_type": "error",
     "traceback": [
      "\u001b[1;31m---------------------------------------------------------------------------\u001b[0m",
      "\u001b[1;31mAttributeError\u001b[0m                            Traceback (most recent call last)",
      "Cell \u001b[1;32mIn[13], line 13\u001b[0m\n\u001b[0;32m     11\u001b[0m p1\u001b[38;5;241m.\u001b[39mmyFunction()\n\u001b[0;32m     12\u001b[0m \u001b[38;5;28;01mdel\u001b[39;00m p1\u001b[38;5;241m.\u001b[39mage\n\u001b[1;32m---> 13\u001b[0m p1\u001b[38;5;241m.\u001b[39mmyFunction()\n",
      "Cell \u001b[1;32mIn[13], line 7\u001b[0m, in \u001b[0;36mPerson.myFunction\u001b[1;34m(self)\u001b[0m\n\u001b[0;32m      6\u001b[0m \u001b[38;5;28;01mdef\u001b[39;00m \u001b[38;5;21mmyFunction\u001b[39m(\u001b[38;5;28mself\u001b[39m):\n\u001b[1;32m----> 7\u001b[0m     \u001b[38;5;28mprint\u001b[39m(\u001b[38;5;124m\"\u001b[39m\u001b[38;5;124mHello My name is\u001b[39m\u001b[38;5;124m\"\u001b[39m,\u001b[38;5;28mself\u001b[39m\u001b[38;5;241m.\u001b[39mname,\u001b[38;5;124m\"\u001b[39m\u001b[38;5;124mand my age is\u001b[39m\u001b[38;5;124m\"\u001b[39m,\u001b[38;5;28mself\u001b[39m\u001b[38;5;241m.\u001b[39mage)\n",
      "\u001b[1;31mAttributeError\u001b[0m: 'Person' object has no attribute 'age'"
     ]
    }
   ],
   "source": [
    "class Person:\n",
    "    def __init__(self, name, age):\n",
    "        self.name = name\n",
    "        self.age = age\n",
    "    \n",
    "    def myFunction(self):\n",
    "        print(\"Hello My name is\",self.name,\"and my age is\",self.age)\n",
    "        \n",
    "p1 = Person(\"Shyam Ambilkar\",58)\n",
    "p1.myFunction()\n",
    "\n",
    "# Delete Property of class\n",
    "del p1.age\n",
    "p1.myFunction()"
   ]
  },
  {
   "cell_type": "markdown",
   "id": "947fa4e6",
   "metadata": {},
   "source": [
    "## Delete Objects"
   ]
  },
  {
   "cell_type": "code",
   "execution_count": 14,
   "id": "8912a064",
   "metadata": {},
   "outputs": [
    {
     "ename": "NameError",
     "evalue": "name 'p1' is not defined",
     "output_type": "error",
     "traceback": [
      "\u001b[1;31m---------------------------------------------------------------------------\u001b[0m",
      "\u001b[1;31mNameError\u001b[0m                                 Traceback (most recent call last)",
      "Cell \u001b[1;32mIn[14], line 13\u001b[0m\n\u001b[0;32m      9\u001b[0m p1 \u001b[38;5;241m=\u001b[39m Person(\u001b[38;5;124m\"\u001b[39m\u001b[38;5;124mShyam Ambilkar\u001b[39m\u001b[38;5;124m\"\u001b[39m,\u001b[38;5;241m58\u001b[39m)\n\u001b[0;32m     11\u001b[0m \u001b[38;5;28;01mdel\u001b[39;00m p1\n\u001b[1;32m---> 13\u001b[0m p1\u001b[38;5;241m.\u001b[39mmyFunction()\n",
      "\u001b[1;31mNameError\u001b[0m: name 'p1' is not defined"
     ]
    }
   ],
   "source": [
    "class Person:\n",
    "    def __init__(self, name, age):\n",
    "        self.name = name\n",
    "        self.age = age\n",
    "    \n",
    "    def myFunction(self):\n",
    "        print(\"Hello My name is\",self.name,\"and my age is\",self.age)\n",
    "        \n",
    "p1 = Person(\"Shyam Ambilkar\",58)\n",
    "\n",
    "del p1\n",
    "\n",
    "p1.myFunction()"
   ]
  },
  {
   "cell_type": "code",
   "execution_count": null,
   "id": "6c974d58",
   "metadata": {},
   "outputs": [],
   "source": []
  }
 ],
 "metadata": {
  "kernelspec": {
   "display_name": "Python 3 (ipykernel)",
   "language": "python",
   "name": "python3"
  },
  "language_info": {
   "codemirror_mode": {
    "name": "ipython",
    "version": 3
   },
   "file_extension": ".py",
   "mimetype": "text/x-python",
   "name": "python",
   "nbconvert_exporter": "python",
   "pygments_lexer": "ipython3",
   "version": "3.11.5"
  }
 },
 "nbformat": 4,
 "nbformat_minor": 5
}
