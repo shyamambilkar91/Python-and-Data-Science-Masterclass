{
 "cells": [
  {
   "cell_type": "markdown",
   "id": "79067f45",
   "metadata": {},
   "source": [
    "# Regular Expression"
   ]
  },
  {
   "cell_type": "markdown",
   "id": "90fb4ce3",
   "metadata": {},
   "source": [
    "## Metacharacters"
   ]
  },
  {
   "cell_type": "markdown",
   "id": "9c4be767",
   "metadata": {},
   "source": [
    "**Metacharacters are character with special meaning**"
   ]
  },
  {
   "cell_type": "markdown",
   "id": "f1b54d57",
   "metadata": {},
   "source": [
    "1. [ [] ]- A set of characters\n",
    "2. [ \\ ] - Signal a special sequence (can also be used to escape special character)\n",
    "3. [ . ] - Any Character (except newline character)\n",
    "4. [ ^ ] - Starts With\n",
    "5. [ $ ] - Ends with\n",
    "6. [ * ] - Zero or More occurrences\n",
    "7. [ + ] - One or More occurrences\n",
    "8. [ ? ] - Zero or One occurrences\n",
    "9. [ {} ] - Exactly specified number of occurrences\n",
    "10. [ | ] - Either or\n",
    "11. [ ()] - Capture and group"
   ]
  },
  {
   "cell_type": "code",
   "execution_count": 9,
   "id": "03ee0eca",
   "metadata": {},
   "outputs": [
    {
     "name": "stdout",
     "output_type": "stream",
     "text": [
      "['9923090436']\n"
     ]
    }
   ],
   "source": [
    "import re\n",
    "my_string = \"Welcome Shyam, to Python Programming and contact number is 9923090436\"\n",
    "\n",
    "my_exp = re.findall(\"[\\d]{10}\",my_string)\n",
    "print(my_exp)"
   ]
  },
  {
   "cell_type": "code",
   "execution_count": 17,
   "id": "b47f7229",
   "metadata": {},
   "outputs": [
    {
     "name": "stdout",
     "output_type": "stream",
     "text": [
      "['9923090436', '91', '99230', '90436']\n"
     ]
    }
   ],
   "source": [
    "import re\n",
    "my_string = \"Welcome Shyam, to Python Programming and contact number is 9923090436 and +91 99230 90436\"\n",
    "\n",
    "my_exp = re.findall(\"[0-9]{1,10}\",my_string)\n",
    "print(my_exp)"
   ]
  },
  {
   "cell_type": "markdown",
   "id": "8fecf852",
   "metadata": {},
   "source": [
    "## Set"
   ]
  },
  {
   "cell_type": "markdown",
   "id": "055b1dd8",
   "metadata": {},
   "source": [
    "**A set is set of characters inside pair of square brackets [] with a special meaning**"
   ]
  },
  {
   "cell_type": "markdown",
   "id": "65195c52",
   "metadata": {},
   "source": [
    "### 1. [arn]  = Return a match where one of the specified characters (\"a\",\"r\" or \"n\") is present"
   ]
  },
  {
   "cell_type": "code",
   "execution_count": 20,
   "id": "1d595cf5",
   "metadata": {},
   "outputs": [
    {
     "name": "stdout",
     "output_type": "stream",
     "text": [
      "['a', 'n', 'r', 'r', 'a', 'n', 'a', 'n', 'n', 'a', 'n', 'r']\n",
      "Yes, there is at least one match...!\n"
     ]
    }
   ],
   "source": [
    "import re\n",
    "my_string = \"Welcome Shyam, to Python Programming and contact number is 9923090436\"\n",
    "\n",
    "my_exp = re.findall(\"[arn]\",my_string)\n",
    "print(my_exp)\n",
    "\n",
    "if my_exp:\n",
    "    print(\"Yes, there is at least one match...!\")\n",
    "else:\n",
    "    print(\"No match\")"
   ]
  },
  {
   "cell_type": "code",
   "execution_count": 22,
   "id": "529f313d",
   "metadata": {},
   "outputs": [
    {
     "name": "stdout",
     "output_type": "stream",
     "text": [
      "[]\n",
      "No match\n"
     ]
    }
   ],
   "source": [
    "import re\n",
    "my_string = \"Welcome\"\n",
    "\n",
    "my_exp = re.findall(\"[arn]\",my_string)\n",
    "print(my_exp)\n",
    "\n",
    "if my_exp:\n",
    "    print(\"Yes, there is at least one match...!\")\n",
    "else:\n",
    "    print(\"No match\")"
   ]
  },
  {
   "cell_type": "markdown",
   "id": "afcfc203",
   "metadata": {},
   "source": [
    "### **2. [ a-n ] = Returns a match for any lower case character, alphabetically between a and n**"
   ]
  },
  {
   "cell_type": "code",
   "execution_count": 25,
   "id": "69e385d5",
   "metadata": {},
   "outputs": [
    {
     "name": "stdout",
     "output_type": "stream",
     "text": [
      "[]\n",
      "No match\n"
     ]
    }
   ],
   "source": [
    "import re\n",
    "my_string = \"Welcome Shyam, to Python Programming and contact number is 9923090436\"\n",
    "\n",
    "my_text = my_string.upper()\n",
    "\n",
    "my_exp = re.findall(\"[a-n]\",my_text)\n",
    "print(my_exp)\n",
    "\n",
    "if my_exp:\n",
    "    print(\"Yes, there is at least one match...!\")\n",
    "else:\n",
    "    print(\"No match\")"
   ]
  },
  {
   "cell_type": "code",
   "execution_count": 26,
   "id": "21fae3b7",
   "metadata": {},
   "outputs": [
    {
     "name": "stdout",
     "output_type": "stream",
     "text": [
      "['e', 'l', 'c', 'm', 'e', 'h', 'a', 'm', 'h', 'n', 'g', 'a', 'm', 'm', 'i', 'n', 'g', 'a', 'n', 'd', 'c', 'n', 'a', 'c', 'n', 'm', 'b', 'e', 'i']\n",
      "Yes, there is at least one match...!\n"
     ]
    }
   ],
   "source": [
    "import re\n",
    "my_string = \"Welcome Shyam, to Python Programming and contact number is 9923090436\"\n",
    "\n",
    "my_text = my_string.upper()\n",
    "\n",
    "my_exp = re.findall(\"[a-n]\",my_string)\n",
    "print(my_exp)\n",
    "\n",
    "if my_exp:\n",
    "    print(\"Yes, there is at least one match...!\")\n",
    "else:\n",
    "    print(\"No match\")"
   ]
  },
  {
   "cell_type": "code",
   "execution_count": 32,
   "id": "0a3f6cdc",
   "metadata": {},
   "outputs": [
    {
     "name": "stdout",
     "output_type": "stream",
     "text": [
      "['amming']\n",
      "Yes, there is at least one match...!\n"
     ]
    }
   ],
   "source": [
    "import re\n",
    "my_string = \"Welcome Shyam, to Python Programming and contact number is 9923090436\"\n",
    "\n",
    "my_text = my_string.upper()\n",
    "\n",
    "my_exp = re.findall(\"[a-n]{6}\",my_string)\n",
    "print(my_exp)\n",
    "\n",
    "if my_exp:\n",
    "    print(\"Yes, there is at least one match...!\")\n",
    "else:\n",
    "    print(\"No match\")"
   ]
  },
  {
   "cell_type": "markdown",
   "id": "b43a1072",
   "metadata": {},
   "source": [
    "### 3. [^arn] = Returns a match any character Except \"a\", \"r\", and \"n\""
   ]
  },
  {
   "cell_type": "code",
   "execution_count": 33,
   "id": "3f5b6169",
   "metadata": {},
   "outputs": [
    {
     "name": "stdout",
     "output_type": "stream",
     "text": [
      "['W', 'e', 'l', 'c', 'o', 'm', 'e', ' ', 'S', 'h', 'y', 'm', ',', ' ', 't', 'o', ' ', 'P', 'y', 't', 'h', 'o', ' ', 'P', 'o', 'g', 'm', 'm', 'i', 'g', ' ', 'd', ' ', 'c', 'o', 't', 'c', 't', ' ', 'u', 'm', 'b', 'e', ' ', 'i', 's', ' ', '9', '9', '2', '3', '0', '9', '0', '4', '3', '6']\n",
      "Yes, there is at least one match...!\n"
     ]
    }
   ],
   "source": [
    "import re\n",
    "my_string = \"Welcome Shyam, to Python Programming and contact number is 9923090436\"\n",
    "\n",
    "my_exp = re.findall(\"[^arn]\",my_string)\n",
    "print(my_exp)\n",
    "\n",
    "if my_exp:\n",
    "    print(\"Yes, there is at least one match...!\")\n",
    "else:\n",
    "    print(\"No match\")"
   ]
  },
  {
   "cell_type": "code",
   "execution_count": 35,
   "id": "a400d53e",
   "metadata": {},
   "outputs": [
    {
     "name": "stdout",
     "output_type": "stream",
     "text": [
      "['W', 'e', 'l', 'c', 'o', 'm', 'e', ' ', 'S', 'h', 'y', 'm', ',', ' ', 't', 'o', ' ', 'P', 'y', 't', 'h', 'o', 'n', ' ', 'P', 'r', 'o', 'g', 'r', 'm', 'm', 'i', 'n', 'g', ' ', 'n', 'd', ' ', 'c', 'o', 'n', 't', 'c', 't', ' ', 'n', 'u', 'm', 'b', 'e', 'r', ' ', 'i', 's', ' ', '9', '9', '2', '3', '0', '9', '0', '4', '3', '6']\n",
      "Yes, there is at least one match...!\n"
     ]
    }
   ],
   "source": [
    "import re\n",
    "my_string = \"Welcome Shyam, to Python Programming and contact number is 9923090436\"\n",
    "\n",
    "my_exp = re.findall(\"[^az]\",my_string)\n",
    "print(my_exp)\n",
    "\n",
    "if my_exp:\n",
    "    print(\"Yes, there is at least one match...!\")\n",
    "else:\n",
    "    print(\"No match\")"
   ]
  },
  {
   "cell_type": "markdown",
   "id": "c4374117",
   "metadata": {},
   "source": [
    "### 4. [0123] = Return a match where any of the specified digits ['0','1','2' or '3'] are present"
   ]
  },
  {
   "cell_type": "code",
   "execution_count": 37,
   "id": "e35b0e55",
   "metadata": {},
   "outputs": [
    {
     "name": "stdout",
     "output_type": "stream",
     "text": [
      "['2', '3', '0', '0', '3']\n"
     ]
    }
   ],
   "source": [
    "import re\n",
    "my_string = \"Welcome Shyam, to Python Programming and contact number is 9923090436\"\n",
    "\n",
    "my_exp = re.findall(\"[0123]\",my_string)\n",
    "print(my_exp)"
   ]
  },
  {
   "cell_type": "code",
   "execution_count": 38,
   "id": "38274271",
   "metadata": {},
   "outputs": [
    {
     "name": "stdout",
     "output_type": "stream",
     "text": [
      "['9', '9', '2', '3', '0', '9', '0', '4', '3', '6']\n"
     ]
    }
   ],
   "source": [
    "import re\n",
    "my_string = \"Welcome Shyam, to Python Programming and contact number is 9923090436\"\n",
    "\n",
    "my_exp = re.findall(\"[0-9]\",my_string)\n",
    "print(my_exp)"
   ]
  },
  {
   "cell_type": "markdown",
   "id": "42a8e235",
   "metadata": {},
   "source": [
    "### 5. [0-9] Returns a match for any digits between 0 and 9"
   ]
  },
  {
   "cell_type": "code",
   "execution_count": 1,
   "id": "da70c5d5",
   "metadata": {},
   "outputs": [
    {
     "name": "stdout",
     "output_type": "stream",
     "text": [
      "['9923090436']\n"
     ]
    }
   ],
   "source": [
    "import re\n",
    "my_string = \"Welcome Shyam, to Python Programming and contact number is 9923090436\"\n",
    "\n",
    "my_exp = re.findall(\"[0-9]{1,10}\",my_string)\n",
    "print(my_exp)"
   ]
  },
  {
   "cell_type": "markdown",
   "id": "f2bc796b",
   "metadata": {},
   "source": [
    "#### 6. [0-5][0-9] Returns a match for two-digit numbers from 00 and 59"
   ]
  },
  {
   "cell_type": "code",
   "execution_count": 4,
   "id": "9b0038d1",
   "metadata": {},
   "outputs": [
    {
     "name": "stdout",
     "output_type": "stream",
     "text": [
      "['23', '09', '04', '36', '11', '45']\n"
     ]
    }
   ],
   "source": [
    "import re\n",
    "my_string = \"Welcome Shyam, to Python Programming and contact number is 9923090436 and time is 11:45 AM\"\n",
    "\n",
    "my_exp = re.findall(\"[0-5][0-9]\",my_string)\n",
    "print(my_exp)"
   ]
  },
  {
   "cell_type": "markdown",
   "id": "99619853",
   "metadata": {},
   "source": [
    "#### 7. [a-zA-Z] Returns a match for any character alphabetically between a and z, lower case or upper case"
   ]
  },
  {
   "cell_type": "code",
   "execution_count": 6,
   "id": "f6d70886",
   "metadata": {},
   "outputs": [
    {
     "name": "stdout",
     "output_type": "stream",
     "text": [
      "['W', 'e', 'l', 'c', 'o', 'm', 'e', 'S', 'h', 'y', 'a', 'm', 't', 'o', 'P', 'y', 't', 'h', 'o', 'n', 'P', 'r', 'o', 'g', 'r', 'a', 'm', 'm', 'i', 'n', 'g', 'a', 'n', 'd', 'c', 'o', 'n', 't', 'a', 'c', 't', 'n', 'u', 'm', 'b', 'e', 'r', 'i', 's', 'a', 'n', 'd', 't', 'i', 'm', 'e', 'i', 's', 'A', 'M']\n"
     ]
    }
   ],
   "source": [
    "import re\n",
    "my_string = \"Welcome Shyam, to Python Programming and contact number is 9923090436 and time is 11:45 AM\"\n",
    "\n",
    "my_exp = re.findall(\"[a-zA-Z]\",my_string)\n",
    "print(my_exp)"
   ]
  },
  {
   "cell_type": "code",
   "execution_count": 7,
   "id": "80176ff4",
   "metadata": {},
   "outputs": [
    {
     "name": "stdout",
     "output_type": "stream",
     "text": [
      "['e', 'l', 'c', 'o', 'm', 'e', 'h', 'y', 'a', 'm', 't', 'o', 'y', 't', 'h', 'o', 'n', 'r', 'o', 'g', 'r', 'a', 'm', 'm', 'i', 'n', 'g', 'a', 'n', 'd', 'c', 'o', 'n', 't', 'a', 'c', 't', 'n', 'u', 'm', 'b', 'e', 'r', 'i', 's', 'a', 'n', 'd', 't', 'i', 'm', 'e', 'i', 's']\n"
     ]
    }
   ],
   "source": [
    "import re\n",
    "my_string = \"Welcome Shyam, to Python Programming and contact number is 9923090436 and time is 11:45 AM\"\n",
    "\n",
    "my_exp = re.findall(\"[a-z]\",my_string)\n",
    "print(my_exp)"
   ]
  },
  {
   "cell_type": "code",
   "execution_count": 8,
   "id": "ba7b7ab6",
   "metadata": {},
   "outputs": [
    {
     "name": "stdout",
     "output_type": "stream",
     "text": [
      "['W', 'S', 'P', 'P', 'A', 'M']\n"
     ]
    }
   ],
   "source": [
    "import re\n",
    "my_string = \"Welcome Shyam, to Python Programming and contact number is 9923090436 and time is 11:45 AM\"\n",
    "\n",
    "my_exp = re.findall(\"[A-Z]\",my_string)\n",
    "print(my_exp)"
   ]
  },
  {
   "cell_type": "code",
   "execution_count": 9,
   "id": "337084f1",
   "metadata": {},
   "outputs": [
    {
     "name": "stdout",
     "output_type": "stream",
     "text": [
      "['shyam91@gmail.com', 'shyam12@rediffmail.com', 'shyam1234@jspm.co.in']\n"
     ]
    }
   ],
   "source": [
    "import re\n",
    "\n",
    "my_mails = \"\"\"\n",
    "1. shyam@gmail.com\n",
    "2. shyam91@gmail.com\n",
    "3. shyam.12@gmail.com\n",
    "4. shyam.12ambilkar@gmail.com\n",
    "5. shyam12@rediffmail.com\n",
    "6. shyam@jspm.edu.in\n",
    "7. ._shyam@gmail.com\n",
    "8. shyam1234@jspm.co.in\n",
    "9. shyam.AMBILKAR12@gmail.com\n",
    "\"\"\"\n",
    "\n",
    "my_pattern = re.findall(\"[a-z]{1,15}[0-9]{1,5}[@]{1}[a-z.]{1,15}\", my_mails)\n",
    "print(my_pattern)"
   ]
  },
  {
   "cell_type": "code",
   "execution_count": 13,
   "id": "c6036e66",
   "metadata": {},
   "outputs": [
    {
     "name": "stdout",
     "output_type": "stream",
     "text": [
      "['shyam@gmail.com', 'shyam91@gmail.com', 'shyam.12@gmail.com', 'shyam.12ambilkar@gmail.com', 'shyam12@rediffmail.com', 'shyam@jspm.edu.in', 'shyam@gmail.com', 'shyam1234@jspm.co.in', '12@gmail.com']\n"
     ]
    }
   ],
   "source": [
    "import re\n",
    "\n",
    "my_mails = \"\"\"\n",
    "1. shyam@gmail.com\n",
    "2. shyam91@gmail.com\n",
    "3. shyam.12@gmail.com\n",
    "4. shyam.12ambilkar@gmail.com\n",
    "5. shyam12@rediffmail.com\n",
    "6. shyam@jspm.edu.in\n",
    "7. ._shyam@gmail.com\n",
    "8. shyam1234@jspm.co.in\n",
    "9. shyam.AMBILKAR12@gmail.com\n",
    "\"\"\"\n",
    "\n",
    "my_pattern = re.findall(\"[a-z0-9.]{1,20}[@]{1}[a-z.]{1,15}\", my_mails)\n",
    "print(my_pattern)"
   ]
  },
  {
   "cell_type": "markdown",
   "id": "1d38f8a4",
   "metadata": {},
   "source": [
    "### aadhar card"
   ]
  },
  {
   "cell_type": "code",
   "execution_count": 16,
   "id": "9a00f4ea",
   "metadata": {},
   "outputs": [
    {
     "name": "stdout",
     "output_type": "stream",
     "text": [
      "['2345 5678 9874', '9876 4562 1234', '7894 5612 2314', '4567 8963 6512']\n"
     ]
    }
   ],
   "source": [
    "my_text = \"\"\" \n",
    "1. 123456789123\n",
    "2. 12345 5678 9874\n",
    "3. 123 4567 12\n",
    "4. 9876 4562 1234\n",
    "5. 7894 5612 23145\n",
    "6. 4567 8963 6512\n",
    "\"\"\"\n",
    "\n",
    "my_pattern = re.findall('[0-9]{4}[ ]{1}[0-9]{4}[ ][0-9]{4}',my_text)\n",
    "print(my_pattern)"
   ]
  },
  {
   "cell_type": "markdown",
   "id": "33636c6d",
   "metadata": {},
   "source": [
    "### 1. Driving License\n",
    "### 2. MAIL ID\n",
    "### 3. uid Number\n",
    "### 4. Mobile Number\n",
    "### 5. PAN CARD"
   ]
  },
  {
   "cell_type": "code",
   "execution_count": null,
   "id": "2fc65721",
   "metadata": {},
   "outputs": [],
   "source": [
    "MY_LIST = [1, 5,6,1,1,40,5,6]"
   ]
  }
 ],
 "metadata": {
  "kernelspec": {
   "display_name": "Python 3 (ipykernel)",
   "language": "python",
   "name": "python3"
  },
  "language_info": {
   "codemirror_mode": {
    "name": "ipython",
    "version": 3
   },
   "file_extension": ".py",
   "mimetype": "text/x-python",
   "name": "python",
   "nbconvert_exporter": "python",
   "pygments_lexer": "ipython3",
   "version": "3.11.5"
  }
 },
 "nbformat": 4,
 "nbformat_minor": 5
}
