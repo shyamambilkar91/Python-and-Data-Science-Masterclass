{
 "cells": [
  {
   "cell_type": "markdown",
   "id": "9da28a2a",
   "metadata": {},
   "source": [
    "# Web Scrapping"
   ]
  },
  {
   "cell_type": "markdown",
   "id": "7c647405",
   "metadata": {},
   "source": [
    "https://www.indiacustomercare.com/"
   ]
  },
  {
   "cell_type": "code",
   "execution_count": 7,
   "id": "d6897819",
   "metadata": {},
   "outputs": [],
   "source": [
    "from bs4 import BeautifulSoup\n",
    "import requests\n",
    "import re"
   ]
  },
  {
   "cell_type": "code",
   "execution_count": 2,
   "id": "1fd5c29b",
   "metadata": {},
   "outputs": [],
   "source": [
    "url = \"https://www.indiacustomercare.com/\""
   ]
  },
  {
   "cell_type": "code",
   "execution_count": 3,
   "id": "685ce2fa",
   "metadata": {},
   "outputs": [
    {
     "name": "stdout",
     "output_type": "stream",
     "text": [
      "https://www.indiacustomercare.com/\n"
     ]
    }
   ],
   "source": [
    "print(url)"
   ]
  },
  {
   "cell_type": "code",
   "execution_count": 4,
   "id": "927d51a5",
   "metadata": {},
   "outputs": [
    {
     "name": "stdout",
     "output_type": "stream",
     "text": [
      "<Response [200]>\n"
     ]
    }
   ],
   "source": [
    "my_data = requests.get(url)\n",
    "print(my_data)"
   ]
  },
  {
   "cell_type": "code",
   "execution_count": 5,
   "id": "aa143a52",
   "metadata": {},
   "outputs": [],
   "source": [
    "extracted_data = BeautifulSoup(my_data.content,'html.parser')"
   ]
  },
  {
   "cell_type": "code",
   "execution_count": 76,
   "id": "0e82dc4c",
   "metadata": {},
   "outputs": [],
   "source": [
    "# print(extracted_data)"
   ]
  },
  {
   "cell_type": "code",
   "execution_count": 8,
   "id": "16545584",
   "metadata": {},
   "outputs": [],
   "source": [
    "my_text = re.sub(\"<.*?>\",\" \", str(extracted_data))"
   ]
  },
  {
   "cell_type": "code",
   "execution_count": 77,
   "id": "ddb6eace",
   "metadata": {},
   "outputs": [],
   "source": [
    "# print(my_text)"
   ]
  },
  {
   "cell_type": "code",
   "execution_count": 78,
   "id": "41482f0d",
   "metadata": {},
   "outputs": [],
   "source": [
    "my_pattern = re.findall(\"[a-z0-9]{2,15}[@]{1}[a-z.]{3,10}\",my_text)"
   ]
  },
  {
   "cell_type": "code",
   "execution_count": 63,
   "id": "56c2d446",
   "metadata": {},
   "outputs": [
    {
     "name": "stdout",
     "output_type": "stream",
     "text": [
      "['raggupta@gmail.com']\n"
     ]
    }
   ],
   "source": [
    "print(my_pattern)"
   ]
  },
  {
   "cell_type": "code",
   "execution_count": 74,
   "id": "5dfa3db2",
   "metadata": {},
   "outputs": [],
   "source": [
    "my_website = re.findall(\"[www]{3}[.][a-z]{2,25}[.a-z]{4}\",my_text)"
   ]
  },
  {
   "cell_type": "code",
   "execution_count": 75,
   "id": "be944042",
   "metadata": {},
   "outputs": [
    {
     "data": {
      "text/plain": [
       "['www.addthis.com']"
      ]
     },
     "execution_count": 75,
     "metadata": {},
     "output_type": "execute_result"
    }
   ],
   "source": [
    "my_website"
   ]
  },
  {
   "cell_type": "code",
   "execution_count": 81,
   "id": "f6c5ae28",
   "metadata": {},
   "outputs": [],
   "source": [
    "url = \"https://www.indiacom.com/pune/the-heritage-hotel_pune_pne_1168677.html\"\n",
    "\n",
    "my_data = requests.get(url)"
   ]
  },
  {
   "cell_type": "code",
   "execution_count": 82,
   "id": "5bc81ca7",
   "metadata": {},
   "outputs": [],
   "source": [
    "my_text = BeautifulSoup(my_data.content,\"html.parser\")"
   ]
  },
  {
   "cell_type": "code",
   "execution_count": 88,
   "id": "f7b01493",
   "metadata": {},
   "outputs": [],
   "source": [
    "extracted_data = re.sub(\"<.*?>\",\" \", str(my_text))\n",
    "# print(extracted_data)"
   ]
  },
  {
   "cell_type": "code",
   "execution_count": 96,
   "id": "f24e0c42",
   "metadata": {},
   "outputs": [],
   "source": [
    "my_website = re.findall(\"[www]{3}[.][a-z]{2,25}[.a-z]{4}\",extracted_data)\n",
    "my_mail = re.findall(\"[a-z0-9]{2,15}[@]{1}[a-z.]{3,25}\",extracted_data)"
   ]
  },
  {
   "cell_type": "code",
   "execution_count": 98,
   "id": "e6fc26f1",
   "metadata": {},
   "outputs": [],
   "source": [
    "import pandas as pd"
   ]
  },
  {
   "cell_type": "code",
   "execution_count": 99,
   "id": "f0697f90",
   "metadata": {},
   "outputs": [],
   "source": [
    "df = pd.DataFrame(my_website)"
   ]
  },
  {
   "cell_type": "code",
   "execution_count": 101,
   "id": "3d08dd80",
   "metadata": {},
   "outputs": [],
   "source": [
    "df.to_json(\"myfile.json\")"
   ]
  },
  {
   "cell_type": "code",
   "execution_count": 102,
   "id": "158e1cce",
   "metadata": {},
   "outputs": [],
   "source": [
    "df_1 = pd.read_json(\"myfile.json\")"
   ]
  },
  {
   "cell_type": "code",
   "execution_count": 104,
   "id": "545af2ee",
   "metadata": {},
   "outputs": [
    {
     "data": {
      "text/html": [
       "<div>\n",
       "<style scoped>\n",
       "    .dataframe tbody tr th:only-of-type {\n",
       "        vertical-align: middle;\n",
       "    }\n",
       "\n",
       "    .dataframe tbody tr th {\n",
       "        vertical-align: top;\n",
       "    }\n",
       "\n",
       "    .dataframe thead th {\n",
       "        text-align: right;\n",
       "    }\n",
       "</style>\n",
       "<table border=\"1\" class=\"dataframe\">\n",
       "  <thead>\n",
       "    <tr style=\"text-align: right;\">\n",
       "      <th></th>\n",
       "      <th>0</th>\n",
       "    </tr>\n",
       "  </thead>\n",
       "  <tbody>\n",
       "    <tr>\n",
       "      <th>0</th>\n",
       "      <td>www.indiacom.com</td>\n",
       "    </tr>\n",
       "    <tr>\n",
       "      <th>1</th>\n",
       "      <td>www.indiacom.com</td>\n",
       "    </tr>\n",
       "    <tr>\n",
       "      <th>10</th>\n",
       "      <td>www.indiaocom.com</td>\n",
       "    </tr>\n",
       "    <tr>\n",
       "      <th>11</th>\n",
       "      <td>www.indiacom.com</td>\n",
       "    </tr>\n",
       "    <tr>\n",
       "      <th>12</th>\n",
       "      <td>www.googletagmanager.com</td>\n",
       "    </tr>\n",
       "  </tbody>\n",
       "</table>\n",
       "</div>"
      ],
      "text/plain": [
       "                           0\n",
       "0           www.indiacom.com\n",
       "1           www.indiacom.com\n",
       "10         www.indiaocom.com\n",
       "11          www.indiacom.com\n",
       "12  www.googletagmanager.com"
      ]
     },
     "execution_count": 104,
     "metadata": {},
     "output_type": "execute_result"
    }
   ],
   "source": [
    "df_1.head()"
   ]
  },
  {
   "cell_type": "code",
   "execution_count": 107,
   "id": "54a2e1ad",
   "metadata": {},
   "outputs": [],
   "source": [
    "df.to_csv(\"myfile.csv\",index= False)"
   ]
  },
  {
   "cell_type": "code",
   "execution_count": 109,
   "id": "bf8dc259",
   "metadata": {},
   "outputs": [],
   "source": [
    "df_2 = pd.read_csv(\"myfile.csv\")"
   ]
  },
  {
   "cell_type": "code",
   "execution_count": 111,
   "id": "f249038f",
   "metadata": {},
   "outputs": [
    {
     "data": {
      "text/html": [
       "<div>\n",
       "<style scoped>\n",
       "    .dataframe tbody tr th:only-of-type {\n",
       "        vertical-align: middle;\n",
       "    }\n",
       "\n",
       "    .dataframe tbody tr th {\n",
       "        vertical-align: top;\n",
       "    }\n",
       "\n",
       "    .dataframe thead th {\n",
       "        text-align: right;\n",
       "    }\n",
       "</style>\n",
       "<table border=\"1\" class=\"dataframe\">\n",
       "  <thead>\n",
       "    <tr style=\"text-align: right;\">\n",
       "      <th></th>\n",
       "      <th>0</th>\n",
       "    </tr>\n",
       "  </thead>\n",
       "  <tbody>\n",
       "    <tr>\n",
       "      <th>0</th>\n",
       "      <td>www.indiacom.com</td>\n",
       "    </tr>\n",
       "    <tr>\n",
       "      <th>1</th>\n",
       "      <td>www.indiacom.com</td>\n",
       "    </tr>\n",
       "    <tr>\n",
       "      <th>2</th>\n",
       "      <td>www.indiacom.com</td>\n",
       "    </tr>\n",
       "    <tr>\n",
       "      <th>3</th>\n",
       "      <td>www.indiacom.com</td>\n",
       "    </tr>\n",
       "    <tr>\n",
       "      <th>4</th>\n",
       "      <td>www.indiacom.com</td>\n",
       "    </tr>\n",
       "  </tbody>\n",
       "</table>\n",
       "</div>"
      ],
      "text/plain": [
       "                  0\n",
       "0  www.indiacom.com\n",
       "1  www.indiacom.com\n",
       "2  www.indiacom.com\n",
       "3  www.indiacom.com\n",
       "4  www.indiacom.com"
      ]
     },
     "execution_count": 111,
     "metadata": {},
     "output_type": "execute_result"
    }
   ],
   "source": [
    "df_2.head()"
   ]
  },
  {
   "cell_type": "code",
   "execution_count": null,
   "id": "9ba24a15",
   "metadata": {},
   "outputs": [],
   "source": []
  }
 ],
 "metadata": {
  "kernelspec": {
   "display_name": "Python 3 (ipykernel)",
   "language": "python",
   "name": "python3"
  },
  "language_info": {
   "codemirror_mode": {
    "name": "ipython",
    "version": 3
   },
   "file_extension": ".py",
   "mimetype": "text/x-python",
   "name": "python",
   "nbconvert_exporter": "python",
   "pygments_lexer": "ipython3",
   "version": "3.11.5"
  }
 },
 "nbformat": 4,
 "nbformat_minor": 5
}
