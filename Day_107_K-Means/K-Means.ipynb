{
 "cells": [
  {
   "cell_type": "markdown",
   "id": "eb7c9a7e",
   "metadata": {},
   "source": [
    "# K-Means Clustering"
   ]
  },
  {
   "cell_type": "markdown",
   "id": "8693861c",
   "metadata": {},
   "source": [
    "1. Clustering is deviding data points into homogeneous classes or cluster\n",
    "2. points in the same group are as similar as possible\n",
    "3. Points in different group are dissimilar as possible\n",
    "4. When a collection of objects is given, we put objects into group based on similarity"
   ]
  },
  {
   "cell_type": "markdown",
   "id": "175dbee5",
   "metadata": {},
   "source": [
    "## Application of Clustering"
   ]
  },
  {
   "cell_type": "markdown",
   "id": "dbf28fa3",
   "metadata": {},
   "source": [
    "1. Clustering is used is almost all the fields.:\n",
    "    1. Clustering helps for marketers improve their customer base and work on the target areas.\n",
    "    2. It helps group people (According to criteria such as willingness to purchase power etc.) based on their similarity in many ways related to the product under consideration."
   ]
  },
  {
   "cell_type": "markdown",
   "id": "682ef2d4",
   "metadata": {},
   "source": [
    "## Clustering Algorithm"
   ]
  },
  {
   "cell_type": "markdown",
   "id": "9f420b8f",
   "metadata": {},
   "source": [
    "1. clustering Algorithm tries to analysis natural groups of data on the basis of some similarity.\n",
    "2. Locate the centroid of the group of data points.\n",
    "3. To carry out effective clustering the algorithm evaluates the distance between each points from the centroids of the cluster.\n",
    "4. The goal of clustering is to determine the intrinsic grouping in a set of unlabelled data"
   ]
  },
  {
   "cell_type": "markdown",
   "id": "5cea2f7f",
   "metadata": {},
   "source": [
    "## K-Means Clustering - Example 1"
   ]
  },
  {
   "cell_type": "markdown",
   "id": "3779cb8a",
   "metadata": {},
   "source": [
    "**1. A Pizza chain wants to open its delivery centres across a city. What do you think would be the possible challenges ?**"
   ]
  },
  {
   "cell_type": "markdown",
   "id": "d10d16df",
   "metadata": {},
   "source": [
    "1. They need to analyze the areas from where the pizza is being ordered frequently\n",
    "2. They need to understand as to how many pizza stores has to opened to cover delivery in the areas\n",
    "3. They need to figure out the location for the pizza stores within all these areas in order to keep the distance between the store and delivery points minimum"
   ]
  },
  {
   "cell_type": "markdown",
   "id": "a5e7a969",
   "metadata": {},
   "source": [
    "## K-Means Clustering Method"
   ]
  },
  {
   "cell_type": "markdown",
   "id": "00df73b7",
   "metadata": {},
   "source": [
    "**If K is given, the K-Means algorithm can be executed using following steps**"
   ]
  },
  {
   "cell_type": "markdown",
   "id": "a07ce8e9",
   "metadata": {},
   "source": [
    "1. Partition of obects into K non empty subsets\n",
    "2. Identifying the cluster centroid (mean point) of the current partition\n",
    "3. Asssigning each point to specific cluster\n",
    "4. Compute the distance from each points and allot points to the cluster where the distance from the centroid is minimum\n",
    "5. After re-alloting the points, find the centroid of the new cluster formed"
   ]
  },
  {
   "cell_type": "markdown",
   "id": "ff0dcdac",
   "metadata": {},
   "source": [
    "![](https://editor.analyticsvidhya.com/uploads/34513k%20means.png)"
   ]
  },
  {
   "cell_type": "markdown",
   "id": "5a11affa",
   "metadata": {},
   "source": [
    "### Mathematical Formulation for K-Means"
   ]
  },
  {
   "cell_type": "markdown",
   "id": "8eaf53b2",
   "metadata": {},
   "source": [
    "1. D = {x1,x2,.....xi,---xm} dataset of m of records\n",
    "2. xi = (x_i_1,x_i_2,......x_i_n) each records is an n-dimensional vectors"
   ]
  },
  {
   "cell_type": "code",
   "execution_count": null,
   "id": "36e16b44",
   "metadata": {},
   "outputs": [],
   "source": []
  }
 ],
 "metadata": {
  "kernelspec": {
   "display_name": "Python 3 (ipykernel)",
   "language": "python",
   "name": "python3"
  },
  "language_info": {
   "codemirror_mode": {
    "name": "ipython",
    "version": 3
   },
   "file_extension": ".py",
   "mimetype": "text/x-python",
   "name": "python",
   "nbconvert_exporter": "python",
   "pygments_lexer": "ipython3",
   "version": "3.11.5"
  }
 },
 "nbformat": 4,
 "nbformat_minor": 5
}
