{
 "cells": [
  {
   "cell_type": "markdown",
   "id": "aeaa5322",
   "metadata": {},
   "source": [
    "# Python Dictionary"
   ]
  },
  {
   "cell_type": "markdown",
   "id": "5c60242c",
   "metadata": {},
   "source": [
    "1. Dictionary are stored data values in [Key:Value] pairs.\n",
    "2. Dictionary is collection which is unordered, changeble and does not allowed duplicate value\n",
    "3. written with curly bracket and [Key:Value] \n",
    "4. Using [Key:value] the dictionary are more optimized\n",
    "5. dictionary dosent allowed polymorphism\n",
    "6. Key cant duplicate and must be immutable\n",
    "7. As a Python version 3.7, dictionary are ordered but in the earlier version of Python (3.6) dictionary are unordered\n",
    "8. Dictionary are mutable and immutable sequence"
   ]
  },
  {
   "cell_type": "markdown",
   "id": "ec6a8832",
   "metadata": {},
   "source": [
    "### Dictionary Type"
   ]
  },
  {
   "cell_type": "markdown",
   "id": "ea4999cc",
   "metadata": {},
   "source": [
    "1. Dictionary elements are unordered, changeble\n",
    "2. Dictionary does not allowed duplicate value\n",
    "3. Dictionary can be represent using [Key:value] pair\n",
    "4. Dictionary [Key] are immutable that means we can not change key in dictionary"
   ]
  },
  {
   "cell_type": "markdown",
   "id": "11702cf9",
   "metadata": {},
   "source": [
    "### Unordered"
   ]
  },
  {
   "cell_type": "markdown",
   "id": "401bd81e",
   "metadata": {},
   "source": [
    "1. Dictionary are unordered, that means does not allowed defined order"
   ]
  },
  {
   "cell_type": "markdown",
   "id": "cdf1b871",
   "metadata": {},
   "source": [
    "### Changeble"
   ]
  },
  {
   "cell_type": "markdown",
   "id": "5aa3e4ea",
   "metadata": {},
   "source": [
    "1. Dictionary are changeble, that means we can change, add, or remove elements of dictionary"
   ]
  },
  {
   "cell_type": "markdown",
   "id": "e261148a",
   "metadata": {},
   "source": [
    "### Duplicate Not allowed"
   ]
  },
  {
   "cell_type": "markdown",
   "id": "a3a550ac",
   "metadata": {},
   "source": [
    "1. Dictinary can not have two item with same key"
   ]
  },
  {
   "cell_type": "code",
   "execution_count": 1,
   "id": "ee81db94",
   "metadata": {},
   "outputs": [
    {
     "name": "stdout",
     "output_type": "stream",
     "text": [
      "{}\n",
      "<class 'dict'>\n"
     ]
    }
   ],
   "source": [
    "my_dict = {}\n",
    "print(my_dict)\n",
    "print(type(my_dict))"
   ]
  },
  {
   "cell_type": "code",
   "execution_count": 2,
   "id": "81ca1f44",
   "metadata": {},
   "outputs": [
    {
     "name": "stdout",
     "output_type": "stream",
     "text": [
      "{'apple'}\n",
      "<class 'set'>\n"
     ]
    }
   ],
   "source": [
    "my_dict = {'apple'}\n",
    "print(my_dict)\n",
    "print(type(my_dict))"
   ]
  },
  {
   "cell_type": "markdown",
   "id": "e630a24d",
   "metadata": {},
   "source": [
    "**Syntax : my_dict = {'Key': 'Value'}**"
   ]
  },
  {
   "cell_type": "code",
   "execution_count": 3,
   "id": "a0935de7",
   "metadata": {},
   "outputs": [
    {
     "name": "stdout",
     "output_type": "stream",
     "text": [
      "{'fruits': 'apple'}\n",
      "<class 'dict'>\n"
     ]
    }
   ],
   "source": [
    "my_dict = {'fruits':'apple'}\n",
    "print(my_dict)\n",
    "print(type(my_dict))"
   ]
  },
  {
   "cell_type": "code",
   "execution_count": 4,
   "id": "1c10f17b",
   "metadata": {},
   "outputs": [
    {
     "name": "stdout",
     "output_type": "stream",
     "text": [
      "{'Brand': 'Tata', 'Model': 'Neo', 'Year': 2024, 'price': 15000}\n",
      "<class 'dict'>\n"
     ]
    }
   ],
   "source": [
    "my_dict = {\n",
    "    'Brand':'Tata',\n",
    "    'Model':'Neo',\n",
    "    'Year':2024,\n",
    "    'price':15000\n",
    "}\n",
    "\n",
    "print(my_dict)\n",
    "print(type(my_dict))"
   ]
  },
  {
   "cell_type": "code",
   "execution_count": 5,
   "id": "5b093cb7",
   "metadata": {},
   "outputs": [
    {
     "name": "stdout",
     "output_type": "stream",
     "text": [
      "{'Brand': 'Tata', 'Model': 'Neo', 'Year': 2024, 'price': 15000}\n",
      "<class 'dict'>\n"
     ]
    }
   ],
   "source": [
    "my_dict = {\n",
    "    'Brand':'Tata',\n",
    "    'Model':'Neo',\n",
    "    'Year':2023,\n",
    "    'Year': 2024,\n",
    "    'price':15000\n",
    "}\n",
    "\n",
    "print(my_dict)\n",
    "print(type(my_dict))"
   ]
  },
  {
   "cell_type": "code",
   "execution_count": 6,
   "id": "24c503a0",
   "metadata": {},
   "outputs": [
    {
     "name": "stdout",
     "output_type": "stream",
     "text": [
      "4\n"
     ]
    }
   ],
   "source": [
    "print(len(my_dict))"
   ]
  },
  {
   "cell_type": "markdown",
   "id": "8e03b255",
   "metadata": {},
   "source": [
    "## Accessing Items"
   ]
  },
  {
   "cell_type": "code",
   "execution_count": 7,
   "id": "674c5ced",
   "metadata": {},
   "outputs": [
    {
     "name": "stdout",
     "output_type": "stream",
     "text": [
      "Neo\n"
     ]
    }
   ],
   "source": [
    "my_dict = {\n",
    "    'Brand':'Tata',\n",
    "    'Model':'Neo',\n",
    "    'Year': 2024,\n",
    "    'price':15000\n",
    "}\n",
    "\n",
    "x = my_dict['Model']\n",
    "print(x)"
   ]
  },
  {
   "cell_type": "markdown",
   "id": "ce0ee757",
   "metadata": {},
   "source": [
    "There is also a method called get() that will give you same result"
   ]
  },
  {
   "cell_type": "code",
   "execution_count": 8,
   "id": "9dae899d",
   "metadata": {},
   "outputs": [
    {
     "name": "stdout",
     "output_type": "stream",
     "text": [
      "Neo\n"
     ]
    }
   ],
   "source": [
    "my_dict = {\n",
    "    'Brand':'Tata',\n",
    "    'Model':'Neo',\n",
    "    'Year': 2024,\n",
    "    'price':15000\n",
    "}\n",
    "\n",
    "x = my_dict.get('Model')\n",
    "print(x)"
   ]
  },
  {
   "cell_type": "code",
   "execution_count": 10,
   "id": "cec6fa5c",
   "metadata": {},
   "outputs": [
    {
     "name": "stdout",
     "output_type": "stream",
     "text": [
      "dict_keys(['Brand', 'Model', 'Year', 'price'])\n"
     ]
    }
   ],
   "source": [
    "my_dict = {\n",
    "    'Brand':'Tata',\n",
    "    'Model':'Neo',\n",
    "    'Year': 2024,\n",
    "    'price':15000\n",
    "}\n",
    "\n",
    "x = my_dict.keys()\n",
    "print(x)"
   ]
  },
  {
   "cell_type": "code",
   "execution_count": 11,
   "id": "dc25ffd9",
   "metadata": {},
   "outputs": [
    {
     "name": "stdout",
     "output_type": "stream",
     "text": [
      "dict_values(['Tata', 'Neo', 2024, 15000])\n"
     ]
    }
   ],
   "source": [
    "my_dict = {\n",
    "    'Brand':'Tata',\n",
    "    'Model':'Neo',\n",
    "    'Year': 2024,\n",
    "    'price':15000\n",
    "}\n",
    "\n",
    "x = my_dict.values()\n",
    "print(x)"
   ]
  },
  {
   "cell_type": "code",
   "execution_count": null,
   "id": "cd0ece01",
   "metadata": {},
   "outputs": [],
   "source": []
  }
 ],
 "metadata": {
  "kernelspec": {
   "display_name": "Python 3 (ipykernel)",
   "language": "python",
   "name": "python3"
  },
  "language_info": {
   "codemirror_mode": {
    "name": "ipython",
    "version": 3
   },
   "file_extension": ".py",
   "mimetype": "text/x-python",
   "name": "python",
   "nbconvert_exporter": "python",
   "pygments_lexer": "ipython3",
   "version": "3.11.5"
  }
 },
 "nbformat": 4,
 "nbformat_minor": 5
}
