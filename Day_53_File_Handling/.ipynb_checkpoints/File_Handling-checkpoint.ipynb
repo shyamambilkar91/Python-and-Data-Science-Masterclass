{
 "cells": [
  {
   "cell_type": "markdown",
   "id": "d0759662",
   "metadata": {},
   "source": [
    "# File Handling"
   ]
  },
  {
   "cell_type": "markdown",
   "id": "816497d9",
   "metadata": {},
   "source": [
    "1. File Handling is an important part of any web application\n",
    "2. Python has several function for creating, Reading, Upadating, and Deleting File (CRUD)\n",
    "3. The Key function for working with file in Python is use open() function\n",
    "4. The open() function takes two Parameter, filename and Mode\n",
    "5. There are four different types of modes for opening a file:\n",
    "    1. [ \"r\" ] = (Read) Default values opens a file for reading, error if the file does not exist.\n",
    "    2. [ \"a\" ] = (Append) Opens a file for appending creates the file. if it does not exist\n",
    "    3. [ \"w\" ] = (Write) Open a file for writting, creates the file it it does not exist\n",
    "    4. [ \"x\" ] = (Create) Creates the specified file, return an error if the file exist."
   ]
  },
  {
   "cell_type": "markdown",
   "id": "427d70fe",
   "metadata": {},
   "source": [
    "**In addition you can specify if the file should handled as binary or text mode**"
   ]
  },
  {
   "cell_type": "markdown",
   "id": "f484b9e7",
   "metadata": {},
   "source": [
    "1. [ \"t\" ] = Text - Default value. Text Mode\n",
    "2. [ \"b\" ] = Binary - Binary Mode. [Example. Images]"
   ]
  },
  {
   "cell_type": "markdown",
   "id": "ca777cee",
   "metadata": {},
   "source": [
    "**Note: Make sure file exist or else you will get error**"
   ]
  },
  {
   "cell_type": "code",
   "execution_count": 1,
   "id": "0696bd98",
   "metadata": {},
   "outputs": [
    {
     "ename": "FileNotFoundError",
     "evalue": "[Errno 2] No such file or directory: 'my_data.txt'",
     "output_type": "error",
     "traceback": [
      "\u001b[1;31m---------------------------------------------------------------------------\u001b[0m",
      "\u001b[1;31mFileNotFoundError\u001b[0m                         Traceback (most recent call last)",
      "Cell \u001b[1;32mIn[1], line 1\u001b[0m\n\u001b[1;32m----> 1\u001b[0m my_file \u001b[38;5;241m=\u001b[39m \u001b[38;5;28mopen\u001b[39m(\u001b[38;5;124m\"\u001b[39m\u001b[38;5;124mmy_data.txt\u001b[39m\u001b[38;5;124m\"\u001b[39m)\n",
      "File \u001b[1;32m~\\anaconda3\\Lib\\site-packages\\IPython\\core\\interactiveshell.py:286\u001b[0m, in \u001b[0;36m_modified_open\u001b[1;34m(file, *args, **kwargs)\u001b[0m\n\u001b[0;32m    279\u001b[0m \u001b[38;5;28;01mif\u001b[39;00m file \u001b[38;5;129;01min\u001b[39;00m {\u001b[38;5;241m0\u001b[39m, \u001b[38;5;241m1\u001b[39m, \u001b[38;5;241m2\u001b[39m}:\n\u001b[0;32m    280\u001b[0m     \u001b[38;5;28;01mraise\u001b[39;00m \u001b[38;5;167;01mValueError\u001b[39;00m(\n\u001b[0;32m    281\u001b[0m         \u001b[38;5;124mf\u001b[39m\u001b[38;5;124m\"\u001b[39m\u001b[38;5;124mIPython won\u001b[39m\u001b[38;5;124m'\u001b[39m\u001b[38;5;124mt let you open fd=\u001b[39m\u001b[38;5;132;01m{\u001b[39;00mfile\u001b[38;5;132;01m}\u001b[39;00m\u001b[38;5;124m by default \u001b[39m\u001b[38;5;124m\"\u001b[39m\n\u001b[0;32m    282\u001b[0m         \u001b[38;5;124m\"\u001b[39m\u001b[38;5;124mas it is likely to crash IPython. If you know what you are doing, \u001b[39m\u001b[38;5;124m\"\u001b[39m\n\u001b[0;32m    283\u001b[0m         \u001b[38;5;124m\"\u001b[39m\u001b[38;5;124myou can use builtins\u001b[39m\u001b[38;5;124m'\u001b[39m\u001b[38;5;124m open.\u001b[39m\u001b[38;5;124m\"\u001b[39m\n\u001b[0;32m    284\u001b[0m     )\n\u001b[1;32m--> 286\u001b[0m \u001b[38;5;28;01mreturn\u001b[39;00m io_open(file, \u001b[38;5;241m*\u001b[39margs, \u001b[38;5;241m*\u001b[39m\u001b[38;5;241m*\u001b[39mkwargs)\n",
      "\u001b[1;31mFileNotFoundError\u001b[0m: [Errno 2] No such file or directory: 'my_data.txt'"
     ]
    }
   ],
   "source": [
    "my_file = open(\"my_data.txt\")"
   ]
  },
  {
   "cell_type": "code",
   "execution_count": 2,
   "id": "c5c69d64",
   "metadata": {},
   "outputs": [
    {
     "ename": "FileNotFoundError",
     "evalue": "[Errno 2] No such file or directory: 'my_data.txt'",
     "output_type": "error",
     "traceback": [
      "\u001b[1;31m---------------------------------------------------------------------------\u001b[0m",
      "\u001b[1;31mFileNotFoundError\u001b[0m                         Traceback (most recent call last)",
      "Cell \u001b[1;32mIn[2], line 1\u001b[0m\n\u001b[1;32m----> 1\u001b[0m my_file \u001b[38;5;241m=\u001b[39m \u001b[38;5;28mopen\u001b[39m(\u001b[38;5;124m\"\u001b[39m\u001b[38;5;124mmy_data.txt\u001b[39m\u001b[38;5;124m\"\u001b[39m,\u001b[38;5;124m\"\u001b[39m\u001b[38;5;124mrt\u001b[39m\u001b[38;5;124m\"\u001b[39m)\n",
      "File \u001b[1;32m~\\anaconda3\\Lib\\site-packages\\IPython\\core\\interactiveshell.py:286\u001b[0m, in \u001b[0;36m_modified_open\u001b[1;34m(file, *args, **kwargs)\u001b[0m\n\u001b[0;32m    279\u001b[0m \u001b[38;5;28;01mif\u001b[39;00m file \u001b[38;5;129;01min\u001b[39;00m {\u001b[38;5;241m0\u001b[39m, \u001b[38;5;241m1\u001b[39m, \u001b[38;5;241m2\u001b[39m}:\n\u001b[0;32m    280\u001b[0m     \u001b[38;5;28;01mraise\u001b[39;00m \u001b[38;5;167;01mValueError\u001b[39;00m(\n\u001b[0;32m    281\u001b[0m         \u001b[38;5;124mf\u001b[39m\u001b[38;5;124m\"\u001b[39m\u001b[38;5;124mIPython won\u001b[39m\u001b[38;5;124m'\u001b[39m\u001b[38;5;124mt let you open fd=\u001b[39m\u001b[38;5;132;01m{\u001b[39;00mfile\u001b[38;5;132;01m}\u001b[39;00m\u001b[38;5;124m by default \u001b[39m\u001b[38;5;124m\"\u001b[39m\n\u001b[0;32m    282\u001b[0m         \u001b[38;5;124m\"\u001b[39m\u001b[38;5;124mas it is likely to crash IPython. If you know what you are doing, \u001b[39m\u001b[38;5;124m\"\u001b[39m\n\u001b[0;32m    283\u001b[0m         \u001b[38;5;124m\"\u001b[39m\u001b[38;5;124myou can use builtins\u001b[39m\u001b[38;5;124m'\u001b[39m\u001b[38;5;124m open.\u001b[39m\u001b[38;5;124m\"\u001b[39m\n\u001b[0;32m    284\u001b[0m     )\n\u001b[1;32m--> 286\u001b[0m \u001b[38;5;28;01mreturn\u001b[39;00m io_open(file, \u001b[38;5;241m*\u001b[39margs, \u001b[38;5;241m*\u001b[39m\u001b[38;5;241m*\u001b[39mkwargs)\n",
      "\u001b[1;31mFileNotFoundError\u001b[0m: [Errno 2] No such file or directory: 'my_data.txt'"
     ]
    }
   ],
   "source": [
    "my_file = open(\"my_data.txt\",\"rt\")"
   ]
  },
  {
   "cell_type": "code",
   "execution_count": 3,
   "id": "4f1853d1",
   "metadata": {},
   "outputs": [
    {
     "name": "stdout",
     "output_type": "stream",
     "text": [
      "Welcome to File Handling Concept in Python\n",
      "This file is for Testing Purpose\n",
      "Good Luck...!!\n"
     ]
    }
   ],
   "source": [
    "my_file = open(\"myData.txt\",'r')\n",
    "print(my_file.read())"
   ]
  },
  {
   "cell_type": "code",
   "execution_count": 4,
   "id": "bbd030b6",
   "metadata": {},
   "outputs": [
    {
     "ename": "SyntaxError",
     "evalue": "(unicode error) 'unicodeescape' codec can't decode bytes in position 2-3: truncated \\UXXXXXXXX escape (1221568730.py, line 1)",
     "output_type": "error",
     "traceback": [
      "\u001b[1;36m  Cell \u001b[1;32mIn[4], line 1\u001b[1;36m\u001b[0m\n\u001b[1;33m    my_file = open(\"C:\\Users\\shyam\\OneDrive\\Pictures\",\"r\")\u001b[0m\n\u001b[1;37m                                                     ^\u001b[0m\n\u001b[1;31mSyntaxError\u001b[0m\u001b[1;31m:\u001b[0m (unicode error) 'unicodeescape' codec can't decode bytes in position 2-3: truncated \\UXXXXXXXX escape\n"
     ]
    }
   ],
   "source": [
    "my_file = open(\"C:\\Users\\shyam\\OneDrive\\Pictures\",\"r\")\n",
    "print(my_file.read())"
   ]
  },
  {
   "cell_type": "code",
   "execution_count": 20,
   "id": "f22a8200",
   "metadata": {},
   "outputs": [
    {
     "name": "stdout",
     "output_type": "stream",
     "text": [
      "Welcome to File Handling Concept in Python\n",
      "This file is for Testing Purpose\n",
      "Good Luck...!!\n"
     ]
    }
   ],
   "source": [
    "my_file = open(\"C:/Users/shyam/OneDrive/Pictures/my_data.txt.txt\",\"r\")\n",
    "print(my_file.read())"
   ]
  },
  {
   "cell_type": "code",
   "execution_count": 17,
   "id": "3c20a69c",
   "metadata": {},
   "outputs": [
    {
     "name": "stdout",
     "output_type": "stream",
     "text": [
      "Welcome to File Handling Concept in Python\n",
      "This file is for Testing Purpose\n",
      "Good Luck...!!\n"
     ]
    }
   ],
   "source": [
    "my_file = open(\"D:my_data.txt\",\"r\")\n",
    "print(my_file.read())"
   ]
  },
  {
   "cell_type": "code",
   "execution_count": 19,
   "id": "1e8baf0d",
   "metadata": {},
   "outputs": [
    {
     "name": "stdout",
     "output_type": "stream",
     "text": [
      "Welcome to File Handling Concept in Python\n",
      "This file is for Testing Purpose\n",
      "Good Luck...!!\n"
     ]
    }
   ],
   "source": [
    "my_file = open(\"D:/NOTES/my_data.txt\",\"r\")\n",
    "print(my_file.read())"
   ]
  },
  {
   "cell_type": "code",
   "execution_count": 26,
   "id": "83d97007",
   "metadata": {},
   "outputs": [
    {
     "name": "stdout",
     "output_type": "stream",
     "text": [
      "Welcome to File Handling Concept in Python\n"
     ]
    }
   ],
   "source": [
    "my_file = open(\"D:/NOTES/my_data.txt\",\"r\")\n",
    "print(my_file.read(42))"
   ]
  },
  {
   "cell_type": "code",
   "execution_count": 27,
   "id": "777e0e4b",
   "metadata": {},
   "outputs": [
    {
     "name": "stdout",
     "output_type": "stream",
     "text": [
      "Welcome to File Handling Concept in Python\n",
      "\n"
     ]
    }
   ],
   "source": [
    "my_file = open(\"D:/NOTES/my_data.txt\",\"r\")\n",
    "\n",
    "print(my_file.readline())"
   ]
  },
  {
   "cell_type": "code",
   "execution_count": 28,
   "id": "dbf44684",
   "metadata": {},
   "outputs": [
    {
     "name": "stdout",
     "output_type": "stream",
     "text": [
      "['Welcome to File Handling Concept in Python\\n', 'This file is for Testing Purpose\\n', 'Good Luck...!!']\n"
     ]
    }
   ],
   "source": [
    "my_file = open(\"D:/NOTES/my_data.txt\",\"r\")\n",
    "\n",
    "print(my_file.readlines())"
   ]
  },
  {
   "cell_type": "code",
   "execution_count": 29,
   "id": "0b6ac505",
   "metadata": {},
   "outputs": [
    {
     "data": {
      "text/plain": [
       "['Welcome to File Handling Concept in Python\\n',\n",
       " 'This file is for Testing Purpose\\n',\n",
       " 'Good Luck...!!']"
      ]
     },
     "execution_count": 29,
     "metadata": {},
     "output_type": "execute_result"
    }
   ],
   "source": [
    "my_file = open(\"D:/NOTES/my_data.txt\",\"r\")\n",
    "\n",
    "my_file.readlines()"
   ]
  },
  {
   "cell_type": "code",
   "execution_count": 30,
   "id": "310931cf",
   "metadata": {},
   "outputs": [
    {
     "name": "stdout",
     "output_type": "stream",
     "text": [
      "Welcome to File Handling Concept in Python\n",
      "\n",
      "This file is for Testing Purpose\n",
      "\n",
      "Good Luck...!!\n"
     ]
    }
   ],
   "source": [
    "my_file = open(\"D:/NOTES/my_data.txt\",\"r\")\n",
    "\n",
    "for i in my_file:\n",
    "    print(i)"
   ]
  },
  {
   "cell_type": "code",
   "execution_count": 31,
   "id": "e6fbf69c",
   "metadata": {},
   "outputs": [
    {
     "name": "stdout",
     "output_type": "stream",
     "text": [
      "Welcome to File Handling Concept in Python\n",
      "\n",
      "This file is for Testing Purpose\n",
      "\n",
      "Good Luck...!!\n"
     ]
    }
   ],
   "source": [
    "my_file = open(\"D:/NOTES/my_data.txt\",\"r\")\n",
    "\n",
    "for i in my_file:\n",
    "    print(i)\n",
    "    \n",
    "my_file.close()"
   ]
  },
  {
   "cell_type": "markdown",
   "id": "8c3ffde8",
   "metadata": {},
   "source": [
    "### Write to an Existing File"
   ]
  },
  {
   "cell_type": "code",
   "execution_count": 35,
   "id": "098fc316",
   "metadata": {},
   "outputs": [
    {
     "name": "stdout",
     "output_type": "stream",
     "text": [
      "Welcome to File Handling Concept in Python\n",
      "This file is for Testing Purpose\n",
      "Good Luck...!!Now existing file has more content...!!Now existing file has more content...!!Now existing file has more content...!!\n"
     ]
    }
   ],
   "source": [
    "my_file = open(\"D:/NOTES/my_data.txt\",\"a\")\n",
    "my_file.write(\"Now existing file has more content...!!\")\n",
    "my_file.close()\n",
    "\n",
    "my_file = open(\"D:/NOTES/my_data.txt\",\"r\")\n",
    "print(my_file.read())"
   ]
  },
  {
   "cell_type": "code",
   "execution_count": null,
   "id": "fd5dd3bc",
   "metadata": {},
   "outputs": [],
   "source": []
  }
 ],
 "metadata": {
  "kernelspec": {
   "display_name": "Python 3 (ipykernel)",
   "language": "python",
   "name": "python3"
  },
  "language_info": {
   "codemirror_mode": {
    "name": "ipython",
    "version": 3
   },
   "file_extension": ".py",
   "mimetype": "text/x-python",
   "name": "python",
   "nbconvert_exporter": "python",
   "pygments_lexer": "ipython3",
   "version": "3.11.5"
  }
 },
 "nbformat": 4,
 "nbformat_minor": 5
}
