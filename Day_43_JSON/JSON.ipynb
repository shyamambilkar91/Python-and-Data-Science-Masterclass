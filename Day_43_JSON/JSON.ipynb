{
 "cells": [
  {
   "cell_type": "markdown",
   "id": "e89408ee",
   "metadata": {},
   "source": [
    "# JSON"
   ]
  },
  {
   "cell_type": "code",
   "execution_count": 1,
   "id": "cb94ac1e",
   "metadata": {},
   "outputs": [],
   "source": [
    "import json"
   ]
  },
  {
   "cell_type": "code",
   "execution_count": 2,
   "id": "6bc76193",
   "metadata": {},
   "outputs": [],
   "source": [
    "x = {\n",
    "    \"name\":\"Vishal\",\n",
    "    \"age\":25,\n",
    "    \"married\":True,\n",
    "    \"divorced\":False,\n",
    "    \"Children\":(\"A\",\"B\"),\n",
    "    \"pets\":None,\n",
    "    \"Cars\":[\n",
    "        {\"model\": \"BMW\", \"mpg\":27.5},\n",
    "        {\"model\": \"Ford\",\"mpg\":24.1}\n",
    "    ]\n",
    "}"
   ]
  },
  {
   "cell_type": "code",
   "execution_count": 3,
   "id": "e99f9541",
   "metadata": {},
   "outputs": [
    {
     "name": "stdout",
     "output_type": "stream",
     "text": [
      "{\"name\": \"Vishal\", \"age\": 25, \"married\": true, \"divorced\": false, \"Children\": [\"A\", \"B\"], \"pets\": null, \"Cars\": [{\"model\": \"BMW\", \"mpg\": 27.5}, {\"model\": \"Ford\", \"mpg\": 24.1}]}\n"
     ]
    }
   ],
   "source": [
    "print(json.dumps(x))"
   ]
  },
  {
   "cell_type": "markdown",
   "id": "c4ec404f",
   "metadata": {},
   "source": [
    "### Format the Result"
   ]
  },
  {
   "cell_type": "markdown",
   "id": "86330b09",
   "metadata": {},
   "source": [
    "1. The above example print JSON string, but it is not very easy to read, with no indentation and line breaks\n",
    "2. json.dumps() method has parameter to make it easier to read the result\n",
    "3.  Use the indent parameter to define number of indents\n",
    "4. You can also define the separators, default value is (\",\",\":\"),which means using a comma and space to separate each object, and a colon and space to seaparate keys from values.\n",
    "5. sort_keys parameter to specify if the result should be sorted or not"
   ]
  },
  {
   "cell_type": "code",
   "execution_count": 4,
   "id": "3535f16b",
   "metadata": {},
   "outputs": [
    {
     "name": "stdout",
     "output_type": "stream",
     "text": [
      "{\n",
      "    \"name\": \"Vishal\",\n",
      "    \"age\": 25,\n",
      "    \"married\": true,\n",
      "    \"divorced\": false,\n",
      "    \"Children\": [\n",
      "        \"A\",\n",
      "        \"B\"\n",
      "    ],\n",
      "    \"pets\": null,\n",
      "    \"Cars\": [\n",
      "        {\n",
      "            \"model\": \"BMW\",\n",
      "            \"mpg\": 27.5\n",
      "        },\n",
      "        {\n",
      "            \"model\": \"Ford\",\n",
      "            \"mpg\": 24.1\n",
      "        }\n",
      "    ]\n",
      "}\n"
     ]
    }
   ],
   "source": [
    "import json\n",
    "\n",
    "x = {\n",
    "    \"name\":\"Vishal\",\n",
    "    \"age\":25,\n",
    "    \"married\":True,\n",
    "    \"divorced\":False,\n",
    "    \"Children\":(\"A\",\"B\"),\n",
    "    \"pets\":None,\n",
    "    \"Cars\":[\n",
    "        {\"model\": \"BMW\", \"mpg\":27.5},\n",
    "        {\"model\": \"Ford\",\"mpg\":24.1}\n",
    "    ]\n",
    "}\n",
    "\n",
    "print(json.dumps(x, indent=4))"
   ]
  },
  {
   "cell_type": "code",
   "execution_count": 5,
   "id": "351c5b33",
   "metadata": {},
   "outputs": [
    {
     "name": "stdout",
     "output_type": "stream",
     "text": [
      "{\n",
      "    \"name\" = \"Vishal\". \n",
      "    \"age\" = 25. \n",
      "    \"married\" = true. \n",
      "    \"divorced\" = false. \n",
      "    \"Children\" = [\n",
      "        \"A\". \n",
      "        \"B\"\n",
      "    ]. \n",
      "    \"pets\" = null. \n",
      "    \"Cars\" = [\n",
      "        {\n",
      "            \"model\" = \"BMW\". \n",
      "            \"mpg\" = 27.5\n",
      "        }. \n",
      "        {\n",
      "            \"model\" = \"Ford\". \n",
      "            \"mpg\" = 24.1\n",
      "        }\n",
      "    ]\n",
      "}\n"
     ]
    }
   ],
   "source": [
    "import json\n",
    "\n",
    "x = {\n",
    "    \"name\":\"Vishal\",\n",
    "    \"age\":25,\n",
    "    \"married\":True,\n",
    "    \"divorced\":False,\n",
    "    \"Children\":(\"A\",\"B\"),\n",
    "    \"pets\":None,\n",
    "    \"Cars\":[\n",
    "        {\"model\": \"BMW\", \"mpg\":27.5},\n",
    "        {\"model\": \"Ford\",\"mpg\":24.1}\n",
    "    ]\n",
    "}\n",
    "\n",
    "print(json.dumps(x, indent=4, separators= (\". \", \" = \")))"
   ]
  },
  {
   "cell_type": "markdown",
   "id": "5372459b",
   "metadata": {},
   "source": [
    "## Order the Result"
   ]
  },
  {
   "cell_type": "code",
   "execution_count": 6,
   "id": "7fff3913",
   "metadata": {},
   "outputs": [
    {
     "name": "stdout",
     "output_type": "stream",
     "text": [
      "{\n",
      "    \"Cars\": [\n",
      "        {\n",
      "            \"model\": \"BMW\",\n",
      "            \"mpg\": 27.5\n",
      "        },\n",
      "        {\n",
      "            \"model\": \"Ford\",\n",
      "            \"mpg\": 24.1\n",
      "        }\n",
      "    ],\n",
      "    \"Children\": [\n",
      "        \"A\",\n",
      "        \"B\"\n",
      "    ],\n",
      "    \"age\": 25,\n",
      "    \"divorced\": false,\n",
      "    \"married\": true,\n",
      "    \"name\": \"Vishal\",\n",
      "    \"pets\": null\n",
      "}\n"
     ]
    }
   ],
   "source": [
    "import json\n",
    "\n",
    "x = {\n",
    "    \"name\":\"Vishal\",\n",
    "    \"age\":25,\n",
    "    \"married\":True,\n",
    "    \"divorced\":False,\n",
    "    \"Children\":(\"A\",\"B\"),\n",
    "    \"pets\":None,\n",
    "    \"Cars\":[\n",
    "        {\"model\": \"BMW\", \"mpg\":27.5},\n",
    "        {\"model\": \"Ford\",\"mpg\":24.1}\n",
    "    ]\n",
    "}\n",
    "\n",
    "print(json.dumps(x, indent=4, sort_keys= True))"
   ]
  },
  {
   "cell_type": "code",
   "execution_count": null,
   "id": "4ff926ce",
   "metadata": {},
   "outputs": [],
   "source": []
  }
 ],
 "metadata": {
  "kernelspec": {
   "display_name": "Python 3 (ipykernel)",
   "language": "python",
   "name": "python3"
  },
  "language_info": {
   "codemirror_mode": {
    "name": "ipython",
    "version": 3
   },
   "file_extension": ".py",
   "mimetype": "text/x-python",
   "name": "python",
   "nbconvert_exporter": "python",
   "pygments_lexer": "ipython3",
   "version": "3.11.5"
  }
 },
 "nbformat": 4,
 "nbformat_minor": 5
}
