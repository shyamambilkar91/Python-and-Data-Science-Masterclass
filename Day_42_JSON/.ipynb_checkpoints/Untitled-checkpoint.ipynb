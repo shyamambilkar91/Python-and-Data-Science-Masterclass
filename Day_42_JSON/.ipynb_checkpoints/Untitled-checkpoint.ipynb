{
 "cells": [
  {
   "cell_type": "markdown",
   "id": "a32f56d4",
   "metadata": {},
   "source": [
    "# Python JSON"
   ]
  },
  {
   "cell_type": "markdown",
   "id": "ff531336",
   "metadata": {},
   "source": [
    "1. JSON is a syntax for storing and exchanging data\n",
    "2. JSON is text, written with Javascript object notation\n",
    "3. Python has built-in package called JSON, which can be used to work with JSON data"
   ]
  },
  {
   "cell_type": "code",
   "execution_count": 1,
   "id": "5bf5d371",
   "metadata": {},
   "outputs": [],
   "source": [
    "import json"
   ]
  },
  {
   "cell_type": "markdown",
   "id": "f3697b06",
   "metadata": {},
   "source": [
    "### Parse JSON -Convert from JSON to Python"
   ]
  },
  {
   "cell_type": "markdown",
   "id": "26669521",
   "metadata": {},
   "source": [
    "1. If you have JSON string and you can parse by using **json.load()** method\n",
    "2. The result will be in Python Dictionary"
   ]
  },
  {
   "cell_type": "code",
   "execution_count": 7,
   "id": "af1f9690",
   "metadata": {},
   "outputs": [
    {
     "name": "stdout",
     "output_type": "stream",
     "text": [
      "{'Student_Name': 'Shyam Ambilkar', 'Class': 'BE', 'Age': 45}\n"
     ]
    }
   ],
   "source": [
    "import json\n",
    "\n",
    "x = '{\"Student_Name\":\"Shyam Ambilkar\",\"Class\":\"BE\", \"Age\":45}'\n",
    "\n",
    "y = json.loads(x)\n",
    "print(y)"
   ]
  },
  {
   "cell_type": "code",
   "execution_count": 8,
   "id": "cef76bd6",
   "metadata": {},
   "outputs": [
    {
     "name": "stdout",
     "output_type": "stream",
     "text": [
      "<class 'dict'>\n"
     ]
    }
   ],
   "source": [
    "print(type(y))"
   ]
  },
  {
   "cell_type": "markdown",
   "id": "188a7c04",
   "metadata": {},
   "source": [
    "### Convert from Python to JSON"
   ]
  },
  {
   "cell_type": "markdown",
   "id": "4f05c991",
   "metadata": {},
   "source": [
    "1. If you have a python object, you can convert it into JSON string using **json.dumps()** method"
   ]
  },
  {
   "cell_type": "code",
   "execution_count": 9,
   "id": "f3bad61e",
   "metadata": {},
   "outputs": [
    {
     "name": "stdout",
     "output_type": "stream",
     "text": [
      "{\"Student_Name\": \"Shyam Ambilkar\", \"Class\": \"BE\", \"Age\": 45}\n"
     ]
    }
   ],
   "source": [
    "x = {\n",
    "    'Student_Name': 'Shyam Ambilkar', \n",
    "    'Class': 'BE', \n",
    "    'Age': 45\n",
    "}\n",
    "\n",
    "y = json.dumps(x)\n",
    "\n",
    "print(y)"
   ]
  },
  {
   "cell_type": "code",
   "execution_count": 10,
   "id": "5f94d98f",
   "metadata": {},
   "outputs": [
    {
     "name": "stdout",
     "output_type": "stream",
     "text": [
      "<class 'str'>\n"
     ]
    }
   ],
   "source": [
    "print(type(y))"
   ]
  },
  {
   "cell_type": "markdown",
   "id": "c63717df",
   "metadata": {},
   "source": [
    "#### You can convert Python object of the below types, into JSON string"
   ]
  },
  {
   "cell_type": "markdown",
   "id": "0ca881bb",
   "metadata": {},
   "source": [
    "1. dict\n",
    "2. list\n",
    "3. tuple\n",
    "4. string\n",
    "5. int\n",
    "6. float\n",
    "7. True\n",
    "8. False\n",
    "9. None"
   ]
  },
  {
   "cell_type": "code",
   "execution_count": 11,
   "id": "6a845119",
   "metadata": {},
   "outputs": [
    {
     "name": "stdout",
     "output_type": "stream",
     "text": [
      "{\"Student_Name\": \"Shyam Ambilkar\", \"Class\": \"BE\", \"Age\": 45}\n"
     ]
    }
   ],
   "source": [
    "print(json.dumps({\"Student_Name\": \"Shyam Ambilkar\", \"Class\": \"BE\", \"Age\": 45}))"
   ]
  },
  {
   "cell_type": "code",
   "execution_count": 12,
   "id": "86945d55",
   "metadata": {},
   "outputs": [
    {
     "name": "stdout",
     "output_type": "stream",
     "text": [
      "[\"apple\", \"mango\", \"cherry\", \"banana\"]\n"
     ]
    }
   ],
   "source": [
    "print(json.dumps([\"apple\",'mango','cherry','banana']))"
   ]
  },
  {
   "cell_type": "code",
   "execution_count": 13,
   "id": "37117723",
   "metadata": {},
   "outputs": [
    {
     "name": "stdout",
     "output_type": "stream",
     "text": [
      "[\"apple\", \"mango\", \"cherry\", \"banana\"]\n"
     ]
    }
   ],
   "source": [
    "print(json.dumps((\"apple\",'mango','cherry','banana')))"
   ]
  },
  {
   "cell_type": "code",
   "execution_count": 14,
   "id": "463a6ab4",
   "metadata": {},
   "outputs": [
    {
     "name": "stdout",
     "output_type": "stream",
     "text": [
      "\"apple\"\n"
     ]
    }
   ],
   "source": [
    "print(json.dumps(\"apple\"))"
   ]
  },
  {
   "cell_type": "code",
   "execution_count": 15,
   "id": "121673e2",
   "metadata": {},
   "outputs": [
    {
     "name": "stdout",
     "output_type": "stream",
     "text": [
      "42\n"
     ]
    }
   ],
   "source": [
    "print(json.dumps(42))"
   ]
  },
  {
   "cell_type": "code",
   "execution_count": 16,
   "id": "a2e1e98d",
   "metadata": {},
   "outputs": [
    {
     "name": "stdout",
     "output_type": "stream",
     "text": [
      "45.45\n"
     ]
    }
   ],
   "source": [
    "print(json.dumps(45.45))"
   ]
  },
  {
   "cell_type": "code",
   "execution_count": 17,
   "id": "02b7551f",
   "metadata": {},
   "outputs": [
    {
     "name": "stdout",
     "output_type": "stream",
     "text": [
      "true\n"
     ]
    }
   ],
   "source": [
    "print(json.dumps(True))"
   ]
  },
  {
   "cell_type": "code",
   "execution_count": 18,
   "id": "8b7b75cc",
   "metadata": {},
   "outputs": [
    {
     "name": "stdout",
     "output_type": "stream",
     "text": [
      "null\n"
     ]
    }
   ],
   "source": [
    "print(json.dumps(None))"
   ]
  },
  {
   "cell_type": "code",
   "execution_count": 19,
   "id": "5961bcf9",
   "metadata": {},
   "outputs": [
    {
     "name": "stdout",
     "output_type": "stream",
     "text": [
      "<class 'str'>\n"
     ]
    }
   ],
   "source": [
    "print(type(json.dumps(True)))"
   ]
  },
  {
   "cell_type": "code",
   "execution_count": 30,
   "id": "18bc5431",
   "metadata": {},
   "outputs": [],
   "source": [
    "import json\n",
    "\n",
    "x = {\n",
    "    \"name\":\"Vishal\",\n",
    "    \"age\":25,\n",
    "    \"married\":True,\n",
    "    \"divorced\":False,\n",
    "    \"Children\":(\"A\",\"B\"),\n",
    "    \"pets\":None,\n",
    "    \"Cars\":[\n",
    "        {\"model\": \"BMW\", \"mpg\":27.5},\n",
    "        {\"model\": \"Ford\",\"mpg\":24.1}\n",
    "    ]\n",
    "}\n",
    "\n",
    "y = json.dumps(x, indent= 2)"
   ]
  },
  {
   "cell_type": "code",
   "execution_count": 31,
   "id": "e780bb28",
   "metadata": {},
   "outputs": [
    {
     "name": "stdout",
     "output_type": "stream",
     "text": [
      "{\n",
      "  \"name\": \"Vishal\",\n",
      "  \"age\": 25,\n",
      "  \"married\": true,\n",
      "  \"divorced\": false,\n",
      "  \"Children\": [\n",
      "    \"A\",\n",
      "    \"B\"\n",
      "  ],\n",
      "  \"pets\": null,\n",
      "  \"Cars\": [\n",
      "    {\n",
      "      \"model\": \"BMW\",\n",
      "      \"mpg\": 27.5\n",
      "    },\n",
      "    {\n",
      "      \"model\": \"Ford\",\n",
      "      \"mpg\": 24.1\n",
      "    }\n",
      "  ]\n",
      "}\n"
     ]
    }
   ],
   "source": [
    "print(y)"
   ]
  },
  {
   "cell_type": "code",
   "execution_count": 35,
   "id": "4b4655f7",
   "metadata": {},
   "outputs": [
    {
     "name": "stdout",
     "output_type": "stream",
     "text": [
      "{\n",
      "  \"Cars\": [\n",
      "    {\n",
      "      \"model\": \"BMW\",\n",
      "      \"mpg\": 27.5\n",
      "    },\n",
      "    {\n",
      "      \"model\": \"Ford\",\n",
      "      \"mpg\": 24.1\n",
      "    }\n",
      "  ],\n",
      "  \"Children\": [\n",
      "    \"A\",\n",
      "    \"B\"\n",
      "  ],\n",
      "  \"age\": 25,\n",
      "  \"divorced\": false,\n",
      "  \"married\": true,\n",
      "  \"name\": \"Vishal\",\n",
      "  \"pets\": null\n",
      "}\n"
     ]
    }
   ],
   "source": [
    "y = json.dumps(x, indent= 2, sort_keys= True)\n",
    "print(y)"
   ]
  },
  {
   "cell_type": "code",
   "execution_count": null,
   "id": "cb6c7385",
   "metadata": {},
   "outputs": [],
   "source": []
  }
 ],
 "metadata": {
  "kernelspec": {
   "display_name": "Python 3 (ipykernel)",
   "language": "python",
   "name": "python3"
  },
  "language_info": {
   "codemirror_mode": {
    "name": "ipython",
    "version": 3
   },
   "file_extension": ".py",
   "mimetype": "text/x-python",
   "name": "python",
   "nbconvert_exporter": "python",
   "pygments_lexer": "ipython3",
   "version": "3.11.5"
  }
 },
 "nbformat": 4,
 "nbformat_minor": 5
}
