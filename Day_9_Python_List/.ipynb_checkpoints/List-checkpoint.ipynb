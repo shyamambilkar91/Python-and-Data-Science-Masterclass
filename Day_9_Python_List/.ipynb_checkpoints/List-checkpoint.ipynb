{
 "cells": [
  {
   "cell_type": "markdown",
   "id": "14fdf079",
   "metadata": {},
   "source": [
    "# List using Loop"
   ]
  },
  {
   "cell_type": "code",
   "execution_count": 1,
   "id": "6ba9665d",
   "metadata": {},
   "outputs": [
    {
     "data": {
      "text/plain": [
       "['apple', 'banana', 'cherry', 'watermelon', 'grapes']"
      ]
     },
     "execution_count": 1,
     "metadata": {},
     "output_type": "execute_result"
    }
   ],
   "source": [
    "my_list = ['apple','banana','cherry','watermelon','grapes']\n",
    "\n",
    "my_list"
   ]
  },
  {
   "cell_type": "code",
   "execution_count": 2,
   "id": "d4cdb194",
   "metadata": {},
   "outputs": [
    {
     "name": "stdout",
     "output_type": "stream",
     "text": [
      "apple\n",
      "banana\n",
      "cherry\n",
      "watermelon\n",
      "grapes\n"
     ]
    }
   ],
   "source": [
    "for i in my_list:\n",
    "    print(i)"
   ]
  },
  {
   "cell_type": "code",
   "execution_count": null,
   "id": "065e0de8",
   "metadata": {},
   "outputs": [],
   "source": [
    "for i in my_list[range 0 to 4]\n",
    "my_list =4\n",
    "\n",
    "i = 5 -> i <=4 ->"
   ]
  },
  {
   "cell_type": "markdown",
   "id": "400651a4",
   "metadata": {},
   "source": [
    "### Loop through Indexed Numbers"
   ]
  },
  {
   "cell_type": "code",
   "execution_count": 3,
   "id": "3eb798dd",
   "metadata": {},
   "outputs": [
    {
     "name": "stdout",
     "output_type": "stream",
     "text": [
      "apple\n",
      "banana\n",
      "cherry\n",
      "watermelon\n",
      "grapes\n"
     ]
    }
   ],
   "source": [
    "my_list = ['apple','banana','cherry','watermelon','grapes']\n",
    "\n",
    "for i in range(len(my_list)):\n",
    "    print(my_list[i])"
   ]
  },
  {
   "cell_type": "code",
   "execution_count": 5,
   "id": "73f8122c",
   "metadata": {},
   "outputs": [
    {
     "name": "stdout",
     "output_type": "stream",
     "text": [
      "0\n",
      "1\n",
      "2\n",
      "3\n",
      "4\n"
     ]
    }
   ],
   "source": [
    "my_list = ['apple','banana','cherry','watermelon','grapes']\n",
    "\n",
    "for i in range(len(my_list)):\n",
    "    print(i)"
   ]
  },
  {
   "cell_type": "code",
   "execution_count": null,
   "id": "e758023d",
   "metadata": {},
   "outputs": [],
   "source": [
    "my_list = 4\n",
    "i = 0"
   ]
  },
  {
   "cell_type": "code",
   "execution_count": 4,
   "id": "22522585",
   "metadata": {},
   "outputs": [
    {
     "name": "stdout",
     "output_type": "stream",
     "text": [
      "Help on class range in module builtins:\n",
      "\n",
      "class range(object)\n",
      " |  range(stop) -> range object\n",
      " |  range(start, stop[, step]) -> range object\n",
      " |  \n",
      " |  Return an object that produces a sequence of integers from start (inclusive)\n",
      " |  to stop (exclusive) by step.  range(i, j) produces i, i+1, i+2, ..., j-1.\n",
      " |  start defaults to 0, and stop is omitted!  range(4) produces 0, 1, 2, 3.\n",
      " |  These are exactly the valid indices for a list of 4 elements.\n",
      " |  When step is given, it specifies the increment (or decrement).\n",
      " |  \n",
      " |  Methods defined here:\n",
      " |  \n",
      " |  __bool__(self, /)\n",
      " |      True if self else False\n",
      " |  \n",
      " |  __contains__(self, key, /)\n",
      " |      Return key in self.\n",
      " |  \n",
      " |  __eq__(self, value, /)\n",
      " |      Return self==value.\n",
      " |  \n",
      " |  __ge__(self, value, /)\n",
      " |      Return self>=value.\n",
      " |  \n",
      " |  __getattribute__(self, name, /)\n",
      " |      Return getattr(self, name).\n",
      " |  \n",
      " |  __getitem__(self, key, /)\n",
      " |      Return self[key].\n",
      " |  \n",
      " |  __gt__(self, value, /)\n",
      " |      Return self>value.\n",
      " |  \n",
      " |  __hash__(self, /)\n",
      " |      Return hash(self).\n",
      " |  \n",
      " |  __iter__(self, /)\n",
      " |      Implement iter(self).\n",
      " |  \n",
      " |  __le__(self, value, /)\n",
      " |      Return self<=value.\n",
      " |  \n",
      " |  __len__(self, /)\n",
      " |      Return len(self).\n",
      " |  \n",
      " |  __lt__(self, value, /)\n",
      " |      Return self<value.\n",
      " |  \n",
      " |  __ne__(self, value, /)\n",
      " |      Return self!=value.\n",
      " |  \n",
      " |  __reduce__(...)\n",
      " |      Helper for pickle.\n",
      " |  \n",
      " |  __repr__(self, /)\n",
      " |      Return repr(self).\n",
      " |  \n",
      " |  __reversed__(...)\n",
      " |      Return a reverse iterator.\n",
      " |  \n",
      " |  count(...)\n",
      " |      rangeobject.count(value) -> integer -- return number of occurrences of value\n",
      " |  \n",
      " |  index(...)\n",
      " |      rangeobject.index(value) -> integer -- return index of value.\n",
      " |      Raise ValueError if the value is not present.\n",
      " |  \n",
      " |  ----------------------------------------------------------------------\n",
      " |  Static methods defined here:\n",
      " |  \n",
      " |  __new__(*args, **kwargs) from builtins.type\n",
      " |      Create and return a new object.  See help(type) for accurate signature.\n",
      " |  \n",
      " |  ----------------------------------------------------------------------\n",
      " |  Data descriptors defined here:\n",
      " |  \n",
      " |  start\n",
      " |  \n",
      " |  step\n",
      " |  \n",
      " |  stop\n",
      "\n"
     ]
    }
   ],
   "source": [
    "help(range)"
   ]
  },
  {
   "cell_type": "markdown",
   "id": "3181f0a3",
   "metadata": {},
   "source": [
    "## Looping using List Compreshension"
   ]
  },
  {
   "cell_type": "code",
   "execution_count": 6,
   "id": "83beb614",
   "metadata": {},
   "outputs": [
    {
     "name": "stdout",
     "output_type": "stream",
     "text": [
      "apple\n",
      "banana\n",
      "cherry\n",
      "watermelon\n",
      "grapes\n"
     ]
    }
   ],
   "source": [
    "my_list = ['apple','banana','cherry','watermelon','grapes']\n",
    "\n",
    "for i in range(len(my_list)):\n",
    "    print(my_list[i])"
   ]
  },
  {
   "cell_type": "code",
   "execution_count": 7,
   "id": "29e4011d",
   "metadata": {},
   "outputs": [
    {
     "name": "stdout",
     "output_type": "stream",
     "text": [
      "['apple', 'banana', 'cherry', 'watermelon', 'grapes']\n",
      "['apple', 'banana', 'cherry', 'watermelon', 'grapes']\n",
      "['apple', 'banana', 'cherry', 'watermelon', 'grapes']\n",
      "['apple', 'banana', 'cherry', 'watermelon', 'grapes']\n",
      "['apple', 'banana', 'cherry', 'watermelon', 'grapes']\n"
     ]
    },
    {
     "data": {
      "text/plain": [
       "[None, None, None, None, None]"
      ]
     },
     "execution_count": 7,
     "metadata": {},
     "output_type": "execute_result"
    }
   ],
   "source": [
    "my_list = ['apple','banana','cherry','watermelon','grapes']\n",
    "\n",
    "[print(my_list) for i in my_list]"
   ]
  },
  {
   "cell_type": "code",
   "execution_count": 8,
   "id": "e68cda33",
   "metadata": {},
   "outputs": [
    {
     "name": "stdout",
     "output_type": "stream",
     "text": [
      "apple\n",
      "banana\n",
      "cherry\n",
      "watermelon\n",
      "grapes\n"
     ]
    },
    {
     "data": {
      "text/plain": [
       "[None, None, None, None, None]"
      ]
     },
     "execution_count": 8,
     "metadata": {},
     "output_type": "execute_result"
    }
   ],
   "source": [
    "my_list = ['apple','banana','cherry','watermelon','grapes']\n",
    "\n",
    "[print(i) for i in my_list]"
   ]
  },
  {
   "cell_type": "code",
   "execution_count": 9,
   "id": "59db791c",
   "metadata": {},
   "outputs": [
    {
     "name": "stdout",
     "output_type": "stream",
     "text": [
      "[]\n"
     ]
    }
   ],
   "source": [
    "my_list = ['apple','banana','cherry','watermelon','grapes']\n",
    "\n",
    "my_list_1 = []\n",
    "\n",
    "for i in my_list:\n",
    "    if \"a\" in my_list:\n",
    "        my_list_1.append(i)\n",
    "        \n",
    "print(my_list_1)"
   ]
  },
  {
   "cell_type": "code",
   "execution_count": 10,
   "id": "6e842b87",
   "metadata": {},
   "outputs": [
    {
     "name": "stdout",
     "output_type": "stream",
     "text": [
      "['apple', 'banana', 'watermelon', 'grapes']\n"
     ]
    }
   ],
   "source": [
    "my_list = ['apple','banana','cherry','watermelon','grapes']\n",
    "\n",
    "my_list_1 = []\n",
    "\n",
    "for i in my_list:\n",
    "    if \"a\" in i:\n",
    "        my_list_1.append(i)\n",
    "        \n",
    "print(my_list_1)"
   ]
  },
  {
   "cell_type": "code",
   "execution_count": 11,
   "id": "636db107",
   "metadata": {},
   "outputs": [
    {
     "name": "stdout",
     "output_type": "stream",
     "text": [
      "['apple', 'banana', 'cherry', 'watermelon', 'grapes']\n"
     ]
    }
   ],
   "source": [
    "my_list = ['apple','banana','cherry','watermelon','grapes']\n",
    "print(my_list)"
   ]
  },
  {
   "cell_type": "code",
   "execution_count": 12,
   "id": "26b635a2",
   "metadata": {},
   "outputs": [
    {
     "name": "stdout",
     "output_type": "stream",
     "text": [
      "apple\n",
      "banana\n",
      "cherry\n",
      "watermelon\n",
      "grapes\n"
     ]
    }
   ],
   "source": [
    "for i in my_list:\n",
    "    print(i)"
   ]
  },
  {
   "cell_type": "code",
   "execution_count": null,
   "id": "794fd274",
   "metadata": {},
   "outputs": [],
   "source": [
    "my_list = 4\n",
    "i = 5\n",
    "\n",
    "for (i =0; i <= 4; i++) i =0 i = 4 + 1"
   ]
  },
  {
   "cell_type": "code",
   "execution_count": 14,
   "id": "a3a2f97e",
   "metadata": {},
   "outputs": [
    {
     "name": "stdout",
     "output_type": "stream",
     "text": [
      "['apple', 'banana', 'watermelon', 'grapes']\n"
     ]
    }
   ],
   "source": [
    "my_list = ['apple','banana','cherry','watermelon','grapes']\n",
    "\n",
    "my_list_1 = []\n",
    "\n",
    "for i in my_list:\n",
    "    if \"a\" in i:\n",
    "        my_list_1.append(i)\n",
    "        \n",
    "print(my_list_1)"
   ]
  },
  {
   "cell_type": "code",
   "execution_count": 13,
   "id": "5d8f25b4",
   "metadata": {},
   "outputs": [
    {
     "name": "stdout",
     "output_type": "stream",
     "text": [
      "['banana']\n"
     ]
    }
   ],
   "source": [
    "my_list = ['apple','banana','cherry','watermelon','grapes']\n",
    "\n",
    "my_list_1 = [i for i in my_list if \"b\" in i]\n",
    "print(my_list_1)"
   ]
  },
  {
   "cell_type": "markdown",
   "id": "bc9e98cc",
   "metadata": {},
   "source": [
    "### syntax - my_list_1 = [expression for item in iterable if condition == True]"
   ]
  },
  {
   "cell_type": "code",
   "execution_count": 15,
   "id": "17c48e30",
   "metadata": {},
   "outputs": [],
   "source": [
    "my_list_1 = [i for i in range(20)]"
   ]
  },
  {
   "cell_type": "code",
   "execution_count": 16,
   "id": "799cfcdf",
   "metadata": {},
   "outputs": [
    {
     "data": {
      "text/plain": [
       "[0, 1, 2, 3, 4, 5, 6, 7, 8, 9, 10, 11, 12, 13, 14, 15, 16, 17, 18, 19]"
      ]
     },
     "execution_count": 16,
     "metadata": {},
     "output_type": "execute_result"
    }
   ],
   "source": [
    "my_list_1"
   ]
  },
  {
   "cell_type": "code",
   "execution_count": 17,
   "id": "66ae0c09",
   "metadata": {},
   "outputs": [],
   "source": [
    "my_list_1 = [i for i in range(1, 21)]"
   ]
  },
  {
   "cell_type": "code",
   "execution_count": 18,
   "id": "9a87a011",
   "metadata": {},
   "outputs": [
    {
     "data": {
      "text/plain": [
       "[1, 2, 3, 4, 5, 6, 7, 8, 9, 10, 11, 12, 13, 14, 15, 16, 17, 18, 19, 20]"
      ]
     },
     "execution_count": 18,
     "metadata": {},
     "output_type": "execute_result"
    }
   ],
   "source": [
    "my_list_1"
   ]
  },
  {
   "cell_type": "code",
   "execution_count": 19,
   "id": "73d7f219",
   "metadata": {},
   "outputs": [
    {
     "name": "stdout",
     "output_type": "stream",
     "text": [
      "1\n",
      "2\n",
      "3\n",
      "4\n",
      "5\n",
      "6\n",
      "7\n",
      "8\n",
      "9\n",
      "10\n",
      "11\n",
      "12\n",
      "13\n",
      "14\n",
      "15\n",
      "16\n",
      "17\n",
      "18\n",
      "19\n",
      "20\n"
     ]
    }
   ],
   "source": [
    "for i in range(1,21):\n",
    "    print(i)"
   ]
  },
  {
   "cell_type": "code",
   "execution_count": 20,
   "id": "6395df8e",
   "metadata": {},
   "outputs": [
    {
     "name": "stdout",
     "output_type": "stream",
     "text": [
      "12 X 1 = 12\n",
      "12 X 2 = 24\n",
      "12 X 3 = 36\n",
      "12 X 4 = 48\n",
      "12 X 5 = 60\n",
      "12 X 6 = 72\n",
      "12 X 7 = 84\n",
      "12 X 8 = 96\n",
      "12 X 9 = 108\n",
      "12 X 10 = 120\n"
     ]
    }
   ],
   "source": [
    "my_num = 12\n",
    "\n",
    "for i in range(1,11):\n",
    "    print(my_num, 'X', i, '=', my_num * i)"
   ]
  },
  {
   "cell_type": "code",
   "execution_count": 21,
   "id": "0d4299e5",
   "metadata": {},
   "outputs": [
    {
     "name": "stdout",
     "output_type": "stream",
     "text": [
      "12\n",
      "24\n",
      "36\n",
      "48\n",
      "60\n",
      "72\n",
      "84\n",
      "96\n",
      "108\n",
      "120\n"
     ]
    }
   ],
   "source": [
    "my_num = 12\n",
    "\n",
    "for i in range(1,11):\n",
    "    print(my_num * i)"
   ]
  },
  {
   "cell_type": "code",
   "execution_count": 25,
   "id": "239c3fb7",
   "metadata": {},
   "outputs": [
    {
     "name": "stdout",
     "output_type": "stream",
     "text": [
      "Enter Number to calculate Multiplication Table: 15\n",
      "0\n",
      "15\n",
      "30\n",
      "45\n",
      "60\n",
      "75\n",
      "90\n",
      "105\n",
      "120\n",
      "135\n",
      "150\n",
      "165\n",
      "180\n",
      "195\n",
      "210\n"
     ]
    }
   ],
   "source": [
    "my_num = int(input(\"Enter Number to calculate Multiplication Table: \"))\n",
    "\n",
    "for i in range(my_num):\n",
    "    print(my_num * i)"
   ]
  },
  {
   "cell_type": "code",
   "execution_count": 26,
   "id": "445ad1ac",
   "metadata": {},
   "outputs": [
    {
     "name": "stdout",
     "output_type": "stream",
     "text": [
      "Enter Number to calculate Multiplication Table: 4\n",
      "4\n",
      "8\n",
      "12\n",
      "16\n"
     ]
    }
   ],
   "source": [
    "my_num = int(input(\"Enter Number to calculate Multiplication Table: \"))\n",
    "\n",
    "for i in range(1, my_num + 1):\n",
    "    print(my_num * i)"
   ]
  },
  {
   "cell_type": "code",
   "execution_count": 38,
   "id": "234cbccb",
   "metadata": {},
   "outputs": [
    {
     "name": "stdout",
     "output_type": "stream",
     "text": [
      "Enter Number to calculate Multiplication Table: 8\n",
      "8 * 1 = 8\n",
      "8 * 2 = 16\n",
      "8 * 3 = 24\n",
      "8 * 4 = 32\n",
      "8 * 5 = 40\n",
      "8 * 6 = 48\n",
      "8 * 7 = 56\n",
      "8 * 8 = 64\n",
      "8 * 9 = 72\n",
      "8 * 10 = 80\n"
     ]
    }
   ],
   "source": [
    "my_num = int(input(\"Enter Number to calculate Multiplication Table: \"))\n",
    "\n",
    "for i in range(1,11):\n",
    "    print(my_num, \"*\",i, \"=\", my_num * i)"
   ]
  },
  {
   "cell_type": "code",
   "execution_count": null,
   "id": "5bb65ec3",
   "metadata": {},
   "outputs": [],
   "source": []
  }
 ],
 "metadata": {
  "kernelspec": {
   "display_name": "Python 3 (ipykernel)",
   "language": "python",
   "name": "python3"
  },
  "language_info": {
   "codemirror_mode": {
    "name": "ipython",
    "version": 3
   },
   "file_extension": ".py",
   "mimetype": "text/x-python",
   "name": "python",
   "nbconvert_exporter": "python",
   "pygments_lexer": "ipython3",
   "version": "3.11.5"
  }
 },
 "nbformat": 4,
 "nbformat_minor": 5
}
