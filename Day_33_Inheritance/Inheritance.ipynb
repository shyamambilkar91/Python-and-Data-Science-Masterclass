{
 "cells": [
  {
   "cell_type": "markdown",
   "id": "68023b7b",
   "metadata": {},
   "source": [
    "# Inheritance"
   ]
  },
  {
   "cell_type": "markdown",
   "id": "b802a745",
   "metadata": {},
   "source": [
    "1. Inheritance allows us to definedf a class that inherits all the methods and properties from another class:\n",
    "    1. Parent Class:\n",
    "        1. Parent class is the class being inherited from also called as **base class**\n",
    "    2. Child Class:\n",
    "        2. is the class that inherits from another class and also called as **derived class**"
   ]
  },
  {
   "cell_type": "markdown",
   "id": "b44c909a",
   "metadata": {},
   "source": [
    "## Create a Parent Class"
   ]
  },
  {
   "cell_type": "code",
   "execution_count": 1,
   "id": "47c80e97",
   "metadata": {},
   "outputs": [
    {
     "name": "stdout",
     "output_type": "stream",
     "text": [
      "Ambika Kadam\n"
     ]
    }
   ],
   "source": [
    "class Person:\n",
    "    def __init__(self, fname, lname):\n",
    "        self.fname = fname\n",
    "        self.lname = lname\n",
    "        \n",
    "    def displayInfo(self):\n",
    "        print(self.fname,self.lname)\n",
    "        \n",
    "p1 = Person(\"Ambika\",\"Kadam\")\n",
    "p1.displayInfo()"
   ]
  },
  {
   "cell_type": "markdown",
   "id": "24f822eb",
   "metadata": {},
   "source": [
    "## Create Child Class"
   ]
  },
  {
   "cell_type": "markdown",
   "id": "a18cfbfe",
   "metadata": {},
   "source": [
    "1. To create child class that inherits the functionality from another class, **send the parent class as parameter** when creating the child class"
   ]
  },
  {
   "cell_type": "code",
   "execution_count": 4,
   "id": "c77bf65b",
   "metadata": {},
   "outputs": [],
   "source": [
    "class Student(Person):\n",
    "    pass"
   ]
  },
  {
   "cell_type": "markdown",
   "id": "fb04af42",
   "metadata": {},
   "source": [
    "**Note : Use the pass keyword when you do not have to want to add any other properties**"
   ]
  },
  {
   "cell_type": "code",
   "execution_count": 8,
   "id": "9ab10724",
   "metadata": {},
   "outputs": [
    {
     "name": "stdout",
     "output_type": "stream",
     "text": [
      "My name is: Tushar Pokale\n"
     ]
    }
   ],
   "source": [
    "class Person:\n",
    "    def __init__(self, fname, lname):\n",
    "        self.fname = fname\n",
    "        self.lname = lname\n",
    "        \n",
    "    def displayInfo(self):\n",
    "        print(\"My name is:\",self.fname,self.lname)\n",
    "        \n",
    "class Student(Person):\n",
    "    pass\n",
    "\n",
    "stud_1 = Student(\"Tushar\",\"Pokale\")\n",
    "stud_1.displayInfo()"
   ]
  },
  {
   "cell_type": "code",
   "execution_count": null,
   "id": "1f90454b",
   "metadata": {},
   "outputs": [],
   "source": []
  }
 ],
 "metadata": {
  "kernelspec": {
   "display_name": "Python 3 (ipykernel)",
   "language": "python",
   "name": "python3"
  },
  "language_info": {
   "codemirror_mode": {
    "name": "ipython",
    "version": 3
   },
   "file_extension": ".py",
   "mimetype": "text/x-python",
   "name": "python",
   "nbconvert_exporter": "python",
   "pygments_lexer": "ipython3",
   "version": "3.11.5"
  }
 },
 "nbformat": 4,
 "nbformat_minor": 5
}
