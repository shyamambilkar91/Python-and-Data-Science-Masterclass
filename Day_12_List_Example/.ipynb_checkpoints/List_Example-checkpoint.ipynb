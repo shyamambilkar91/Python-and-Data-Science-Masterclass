{
 "cells": [
  {
   "cell_type": "markdown",
   "id": "967dbae0",
   "metadata": {},
   "source": [
    "## Write a Program to calculate Factorial of given Number"
   ]
  },
  {
   "cell_type": "markdown",
   "id": "7aa59698",
   "metadata": {},
   "source": [
    "1. Factorial of a number is the product of all the integers from 1 that number\n",
    "2. Factorial is not defined for negative numbers\n",
    "3. Factorial of zero is **one**\n",
    "2. For Example:\n",
    "    1. To calculate factorial of 6 number\n",
    "    2.  1 * 2 * 3 * 4 * 5 * 6"
   ]
  },
  {
   "cell_type": "code",
   "execution_count": 5,
   "id": "32b1f7eb",
   "metadata": {},
   "outputs": [
    {
     "name": "stdout",
     "output_type": "stream",
     "text": [
      "Enter any number to calculate Factorial: 6\n",
      "The Factorial of  6 is:  720\n"
     ]
    }
   ],
   "source": [
    "my_num = int(input(\"Enter any number to calculate Factorial: \"))\n",
    "fact = 1\n",
    "\n",
    "if my_num < 0 :\n",
    "    print(\"Sorry, Factorial cannot calculate for Negative Number\" )\n",
    "elif my_num == 0:\n",
    "    print(\"Factorial of 0 is 1\")\n",
    "else:\n",
    "    for i in range(1, my_num + 1):\n",
    "        fact = fact * i\n",
    "    print(\"The Factorial of \",my_num,'is: ', fact)"
   ]
  },
  {
   "cell_type": "raw",
   "id": "04a3d8dd",
   "metadata": {},
   "source": [
    "1. if 6 < 0 -> False condition\n",
    "\n",
    "2. elif 6 == 0 ->False \n",
    "\n",
    "3. Number is Positive\n",
    "\n",
    "for i in range(1, 7):\n",
    "    fact = fact * i\n",
    "    \n",
    "fact = 1\n",
    "i = 1\n",
    "fact = 1 * 1\n",
    "\n",
    "\n",
    "fact = 2\n",
    "i = 2\n",
    "fact = 1 * 2\n",
    "\n",
    "fact = 6\n",
    "i = 3\n",
    "fact = 2 * 3\n",
    "\n",
    "fact = 24\n",
    "i = 4\n",
    "fact = 6 * 4\n",
    "\n",
    "fact = 120\n",
    "i = 5\n",
    "fact = 24 * 5\n",
    "\n",
    "\n",
    "fact = 720\n",
    "i = 6\n",
    "fact = 120 * 6\n",
    "\n",
    "\n",
    "i = 1   1 * 1 = 1\n",
    "i = 2   1 * 2 = 2\n",
    "i = 3   2 * 3 = 6\n",
    "i = 4   6 * 4 = 24\n",
    "i = 5   24 * 5 = 120\n",
    "i = 6   120 * 6 = 720\n"
   ]
  },
  {
   "cell_type": "code",
   "execution_count": 7,
   "id": "ba0fb5cf",
   "metadata": {},
   "outputs": [
    {
     "name": "stdout",
     "output_type": "stream",
     "text": [
      "Enter any number to calculate Factorial: 7\n",
      "The Factorial of  7 is:  1\n",
      "The Factorial of  7 is:  2\n",
      "The Factorial of  7 is:  6\n",
      "The Factorial of  7 is:  24\n",
      "The Factorial of  7 is:  120\n",
      "The Factorial of  7 is:  720\n",
      "The Factorial of  7 is:  5040\n"
     ]
    }
   ],
   "source": [
    "my_num = int(input(\"Enter any number to calculate Factorial: \"))\n",
    "fact = 1\n",
    "\n",
    "if my_num < 0 :\n",
    "    print(\"Sorry, Factorial cannot calculate for Negative Number\" )\n",
    "elif my_num == 0:\n",
    "    print(\"Factorial of 0 is 1\")\n",
    "else:\n",
    "    for i in range(1, my_num + 1):\n",
    "        fact = fact * i\n",
    "        print(\"The Factorial of \",my_num,'is: ', fact)"
   ]
  },
  {
   "cell_type": "code",
   "execution_count": 12,
   "id": "0513cc18",
   "metadata": {},
   "outputs": [
    {
     "name": "stdout",
     "output_type": "stream",
     "text": [
      "Enter any number to check Even or Odd45\n",
      "The Number is Odd Number \n"
     ]
    }
   ],
   "source": [
    "my_num = int(input(\"Enter any number to check Even or Odd\"))\n",
    "\n",
    "if my_num % 2 == 0:\n",
    "    print(\"The number is Even Number \")\n",
    "else:\n",
    "    print(\"The Number is Odd Number \")"
   ]
  },
  {
   "cell_type": "code",
   "execution_count": 14,
   "id": "2f44296e",
   "metadata": {},
   "outputs": [
    {
     "name": "stdout",
     "output_type": "stream",
     "text": [
      "   1    2    3    4    5    6    7    8    9   10 \n",
      "   2    4    6    8   10   12   14   16   18   20 \n",
      "   3    6    9   12   15   18   21   24   27   30 \n",
      "   4    8   12   16   20   24   28   32   36   40 \n",
      "   5   10   15   20   25   30   35   40   45   50 \n",
      "   6   12   18   24   30   36   42   48   54   60 \n",
      "   7   14   21   28   35   42   49   56   63   70 \n",
      "   8   16   24   32   40   48   56   64   72   80 \n",
      "   9   18   27   36   45   54   63   72   81   90 \n"
     ]
    }
   ],
   "source": [
    "for x in range(1,10):\n",
    "    for y in range(1, 11):\n",
    "        print(\"%4d\" % (x*y), end=' ')\n",
    "    print()"
   ]
  },
  {
   "cell_type": "code",
   "execution_count": null,
   "id": "0babc0af",
   "metadata": {},
   "outputs": [
    {
     "name": "stdout",
     "output_type": "stream",
     "text": [
      "Zero operation terminates program !\n",
      "Choose operator(+, -, *, /): +\n",
      "Enter the value of x = 10\n",
      "Enter the value of y = 10\n",
      "20.00\n",
      "Choose operator(+, -, *, /): /\n",
      "Enter the value of x = 5\n",
      "Enter the value of y = 100\n",
      "0.05\n"
     ]
    }
   ],
   "source": [
    "print(\"Zero operation terminates program !\")\n",
    "while True:\n",
    "    op = input(\"Choose operator(+, -, *, /): \")\n",
    "    if op == \"0\":\n",
    "        break\n",
    "    if op in ('+', '-', '*', '/'):\n",
    "        x = float(input(\"Enter the value of x = \"))\n",
    "        y = float(input(\"Enter the value of y = \"))\n",
    "        if op == '+':\n",
    "            print(\"%.2f\" % (x+y))\n",
    "        elif op == '-':\n",
    "            print(\"%.2f\" % (x-y))\n",
    "        elif op == '*':\n",
    "            print(\"%.2f\" % (x*y))\n",
    "        elif op == '/':\n",
    "            if y != 0:\n",
    "                print(\"%.2f\" % (x/y))\n",
    "            else:\n",
    "                print(\"Error! Division by zero error...\")\n",
    "        else:\n",
    "            print(\"Invalid operator! \")"
   ]
  },
  {
   "cell_type": "code",
   "execution_count": null,
   "id": "66fbbe4a",
   "metadata": {},
   "outputs": [],
   "source": []
  }
 ],
 "metadata": {
  "kernelspec": {
   "display_name": "Python 3 (ipykernel)",
   "language": "python",
   "name": "python3"
  },
  "language_info": {
   "codemirror_mode": {
    "name": "ipython",
    "version": 3
   },
   "file_extension": ".py",
   "mimetype": "text/x-python",
   "name": "python",
   "nbconvert_exporter": "python",
   "pygments_lexer": "ipython3",
   "version": "3.11.5"
  }
 },
 "nbformat": 4,
 "nbformat_minor": 5
}
