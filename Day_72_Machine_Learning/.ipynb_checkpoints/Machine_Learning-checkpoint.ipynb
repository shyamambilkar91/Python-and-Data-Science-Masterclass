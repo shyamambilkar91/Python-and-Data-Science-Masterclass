{
 "cells": [
  {
   "cell_type": "markdown",
   "id": "797b0fbe",
   "metadata": {},
   "source": [
    "# Machine Learning"
   ]
  },
  {
   "cell_type": "markdown",
   "id": "43a11e01",
   "metadata": {},
   "source": [
    "# Dataset"
   ]
  },
  {
   "cell_type": "markdown",
   "id": "70cf64db",
   "metadata": {},
   "source": [
    "#### 1. It can be anything from an array to a computer database\n",
    "#### 2. Example"
   ]
  },
  {
   "cell_type": "code",
   "execution_count": 1,
   "id": "2448a3b4",
   "metadata": {},
   "outputs": [],
   "source": [
    "my_array = [98,45,36,25,14,45,65,75]"
   ]
  },
  {
   "cell_type": "markdown",
   "id": "5c59a99a",
   "metadata": {},
   "source": [
    "#### Example of Database"
   ]
  },
  {
   "cell_type": "code",
   "execution_count": 2,
   "id": "dc6fad89",
   "metadata": {},
   "outputs": [],
   "source": [
    "import pandas as pd\n",
    "my_dict = {\n",
    "    'carname': ['BMW','VOLVO','Ford','Tesla','Tata','Toyato','Hundai'],\n",
    "    'color':['Red','Blue','Green','orange','white','yellow','black'],\n",
    "    'age':[5,7,8,7,2,17,6],\n",
    "    'speed':[99,88,87,88,110,100,90],\n",
    "    'AutoPass':['y','y','n','n','n','y','y']\n",
    "}"
   ]
  },
  {
   "cell_type": "code",
   "execution_count": 3,
   "id": "ea6b22e8",
   "metadata": {},
   "outputs": [],
   "source": [
    "df = pd.DataFrame(my_dict)"
   ]
  },
  {
   "cell_type": "code",
   "execution_count": 4,
   "id": "d44e7e67",
   "metadata": {},
   "outputs": [
    {
     "data": {
      "text/html": [
       "<div>\n",
       "<style scoped>\n",
       "    .dataframe tbody tr th:only-of-type {\n",
       "        vertical-align: middle;\n",
       "    }\n",
       "\n",
       "    .dataframe tbody tr th {\n",
       "        vertical-align: top;\n",
       "    }\n",
       "\n",
       "    .dataframe thead th {\n",
       "        text-align: right;\n",
       "    }\n",
       "</style>\n",
       "<table border=\"1\" class=\"dataframe\">\n",
       "  <thead>\n",
       "    <tr style=\"text-align: right;\">\n",
       "      <th></th>\n",
       "      <th>carname</th>\n",
       "      <th>color</th>\n",
       "      <th>age</th>\n",
       "      <th>speed</th>\n",
       "      <th>AutoPass</th>\n",
       "    </tr>\n",
       "  </thead>\n",
       "  <tbody>\n",
       "    <tr>\n",
       "      <th>0</th>\n",
       "      <td>BMW</td>\n",
       "      <td>Red</td>\n",
       "      <td>5</td>\n",
       "      <td>99</td>\n",
       "      <td>y</td>\n",
       "    </tr>\n",
       "    <tr>\n",
       "      <th>1</th>\n",
       "      <td>VOLVO</td>\n",
       "      <td>Blue</td>\n",
       "      <td>7</td>\n",
       "      <td>88</td>\n",
       "      <td>y</td>\n",
       "    </tr>\n",
       "    <tr>\n",
       "      <th>2</th>\n",
       "      <td>Ford</td>\n",
       "      <td>Green</td>\n",
       "      <td>8</td>\n",
       "      <td>87</td>\n",
       "      <td>n</td>\n",
       "    </tr>\n",
       "    <tr>\n",
       "      <th>3</th>\n",
       "      <td>Tesla</td>\n",
       "      <td>orange</td>\n",
       "      <td>7</td>\n",
       "      <td>88</td>\n",
       "      <td>n</td>\n",
       "    </tr>\n",
       "    <tr>\n",
       "      <th>4</th>\n",
       "      <td>Tata</td>\n",
       "      <td>white</td>\n",
       "      <td>2</td>\n",
       "      <td>110</td>\n",
       "      <td>n</td>\n",
       "    </tr>\n",
       "    <tr>\n",
       "      <th>5</th>\n",
       "      <td>Toyato</td>\n",
       "      <td>yellow</td>\n",
       "      <td>17</td>\n",
       "      <td>100</td>\n",
       "      <td>y</td>\n",
       "    </tr>\n",
       "    <tr>\n",
       "      <th>6</th>\n",
       "      <td>Hundai</td>\n",
       "      <td>black</td>\n",
       "      <td>6</td>\n",
       "      <td>90</td>\n",
       "      <td>y</td>\n",
       "    </tr>\n",
       "  </tbody>\n",
       "</table>\n",
       "</div>"
      ],
      "text/plain": [
       "  carname   color  age  speed AutoPass\n",
       "0     BMW     Red    5     99        y\n",
       "1   VOLVO    Blue    7     88        y\n",
       "2    Ford   Green    8     87        n\n",
       "3   Tesla  orange    7     88        n\n",
       "4    Tata   white    2    110        n\n",
       "5  Toyato  yellow   17    100        y\n",
       "6  Hundai   black    6     90        y"
      ]
     },
     "execution_count": 4,
     "metadata": {},
     "output_type": "execute_result"
    }
   ],
   "source": [
    "df"
   ]
  },
  {
   "cell_type": "markdown",
   "id": "45468c16",
   "metadata": {},
   "source": [
    "### Data Types"
   ]
  },
  {
   "cell_type": "markdown",
   "id": "7b99d2a2",
   "metadata": {},
   "source": [
    "1. To analyze it is important to know that what type of data we are dealing with\n",
    "2. We can split the data types into three categories:\n",
    "    1. Numerical\n",
    "    2. Categorical\n",
    "    3. Ordinal"
   ]
  },
  {
   "cell_type": "markdown",
   "id": "2a0a69cd",
   "metadata": {},
   "source": [
    "### 1. Numerical Data Types"
   ]
  },
  {
   "cell_type": "markdown",
   "id": "019931db",
   "metadata": {},
   "source": [
    "1. Numerical data are numbers, and can be split into two numerical categories:\n",
    "    1. Contineous:\n",
    "        1. Measured data can be number\n",
    "        2. Example:\n",
    "            1. The numbers of car passing by\n",
    "    2. Descrete:\n",
    "        1. counted data that arr limited to integer\n",
    "        1. The price of of an item or the size of an item"
   ]
  },
  {
   "cell_type": "markdown",
   "id": "e4c01a3f",
   "metadata": {},
   "source": [
    "### 2. Categorical Data Types"
   ]
  },
  {
   "cell_type": "markdown",
   "id": "0028c95e",
   "metadata": {},
   "source": [
    "1. Categorical data are values that cannot be measured up against each other\n",
    "2. Example:\n",
    "    1. color value, or any yes/no values"
   ]
  },
  {
   "cell_type": "markdown",
   "id": "7e2c2891",
   "metadata": {},
   "source": [
    "### 3. Ordinal Data Types"
   ]
  },
  {
   "cell_type": "markdown",
   "id": "6dbb9ac4",
   "metadata": {},
   "source": [
    "1. Ordinal data are also categorical data, but that catgories measured up against each other\n",
    "2. Example:\n",
    "    1. School grades where A is better than B and so on "
   ]
  },
  {
   "cell_type": "code",
   "execution_count": 5,
   "id": "2ac7361a",
   "metadata": {},
   "outputs": [],
   "source": [
    "df.to_csv('data.csv')"
   ]
  },
  {
   "cell_type": "code",
   "execution_count": 6,
   "id": "065129cf",
   "metadata": {},
   "outputs": [],
   "source": [
    "df_1 = pd.read_csv('data.csv')"
   ]
  },
  {
   "cell_type": "code",
   "execution_count": 7,
   "id": "e8a20e07",
   "metadata": {},
   "outputs": [
    {
     "data": {
      "text/html": [
       "<div>\n",
       "<style scoped>\n",
       "    .dataframe tbody tr th:only-of-type {\n",
       "        vertical-align: middle;\n",
       "    }\n",
       "\n",
       "    .dataframe tbody tr th {\n",
       "        vertical-align: top;\n",
       "    }\n",
       "\n",
       "    .dataframe thead th {\n",
       "        text-align: right;\n",
       "    }\n",
       "</style>\n",
       "<table border=\"1\" class=\"dataframe\">\n",
       "  <thead>\n",
       "    <tr style=\"text-align: right;\">\n",
       "      <th></th>\n",
       "      <th>Unnamed: 0</th>\n",
       "      <th>carname</th>\n",
       "      <th>color</th>\n",
       "      <th>age</th>\n",
       "      <th>speed</th>\n",
       "      <th>AutoPass</th>\n",
       "    </tr>\n",
       "  </thead>\n",
       "  <tbody>\n",
       "    <tr>\n",
       "      <th>0</th>\n",
       "      <td>0</td>\n",
       "      <td>BMW</td>\n",
       "      <td>Red</td>\n",
       "      <td>5</td>\n",
       "      <td>99</td>\n",
       "      <td>y</td>\n",
       "    </tr>\n",
       "    <tr>\n",
       "      <th>1</th>\n",
       "      <td>1</td>\n",
       "      <td>VOLVO</td>\n",
       "      <td>Blue</td>\n",
       "      <td>7</td>\n",
       "      <td>88</td>\n",
       "      <td>y</td>\n",
       "    </tr>\n",
       "    <tr>\n",
       "      <th>2</th>\n",
       "      <td>2</td>\n",
       "      <td>Ford</td>\n",
       "      <td>Green</td>\n",
       "      <td>8</td>\n",
       "      <td>87</td>\n",
       "      <td>n</td>\n",
       "    </tr>\n",
       "    <tr>\n",
       "      <th>3</th>\n",
       "      <td>3</td>\n",
       "      <td>Tesla</td>\n",
       "      <td>orange</td>\n",
       "      <td>7</td>\n",
       "      <td>88</td>\n",
       "      <td>n</td>\n",
       "    </tr>\n",
       "    <tr>\n",
       "      <th>4</th>\n",
       "      <td>4</td>\n",
       "      <td>Tata</td>\n",
       "      <td>white</td>\n",
       "      <td>2</td>\n",
       "      <td>110</td>\n",
       "      <td>n</td>\n",
       "    </tr>\n",
       "  </tbody>\n",
       "</table>\n",
       "</div>"
      ],
      "text/plain": [
       "   Unnamed: 0 carname   color  age  speed AutoPass\n",
       "0           0     BMW     Red    5     99        y\n",
       "1           1   VOLVO    Blue    7     88        y\n",
       "2           2    Ford   Green    8     87        n\n",
       "3           3   Tesla  orange    7     88        n\n",
       "4           4    Tata   white    2    110        n"
      ]
     },
     "execution_count": 7,
     "metadata": {},
     "output_type": "execute_result"
    }
   ],
   "source": [
    "df_1.head()"
   ]
  },
  {
   "cell_type": "markdown",
   "id": "b4b5cb3f",
   "metadata": {},
   "source": [
    "# 1. Imputation Technique"
   ]
  },
  {
   "cell_type": "markdown",
   "id": "1fe6d9af",
   "metadata": {},
   "source": [
    "1. There are three diffrent types of Imputation Techniques:\n",
    "    1. Mean [Average Value]\n",
    "    2. Mode [Most Frequent Value]\n",
    "    3. Median [Center Value]"
   ]
  },
  {
   "cell_type": "markdown",
   "id": "71f3c3c9",
   "metadata": {},
   "source": [
    "### Example:\n",
    "    1. We have registered the speed of 13 cars\n",
    "    2. speed = [99,86,87,88,111,86,103,87,94,78,77,85,86]\n",
    "    3. What is the average, middle or most frequent [common] speed value ?"
   ]
  },
  {
   "cell_type": "markdown",
   "id": "b870c100",
   "metadata": {},
   "source": [
    "# 1. Mean"
   ]
  },
  {
   "cell_type": "markdown",
   "id": "c4cc57c8",
   "metadata": {},
   "source": [
    "1. The mean value is average value\n",
    "2. To calculate mean, find the sum of all values, and devide the sum by the numbers of value"
   ]
  },
  {
   "cell_type": "code",
   "execution_count": 8,
   "id": "a73c262e",
   "metadata": {},
   "outputs": [
    {
     "name": "stdout",
     "output_type": "stream",
     "text": [
      "89.76923076923077\n"
     ]
    }
   ],
   "source": [
    "speed = 99 + 86 + 87 + 88 + 111 + 86 + 103 + 87 + 94 + 78 + 77 + 85 + 86\n",
    "average_value = speed / 13\n",
    "print(average_value)"
   ]
  },
  {
   "cell_type": "code",
   "execution_count": 9,
   "id": "bfd62f12",
   "metadata": {},
   "outputs": [
    {
     "name": "stdout",
     "output_type": "stream",
     "text": [
      "89.76923076923077\n"
     ]
    }
   ],
   "source": [
    "import numpy as np\n",
    "\n",
    "speed = [99,86,87,88,111,86,103,87,94,78,77,85,86]\n",
    "average_value = np.mean(speed)\n",
    "print(average_value)"
   ]
  },
  {
   "cell_type": "markdown",
   "id": "29554593",
   "metadata": {},
   "source": [
    "# 2. Median"
   ]
  },
  {
   "cell_type": "markdown",
   "id": "542888fe",
   "metadata": {},
   "source": [
    "1. The median value is the value of middile\n",
    "2. Before selecting a middle value make sure all the elements should be in sorted order\n",
    "3. It is important that the numbers are sorted before you can find the middle value or Median value"
   ]
  },
  {
   "cell_type": "code",
   "execution_count": 10,
   "id": "ff21087d",
   "metadata": {},
   "outputs": [],
   "source": [
    "speed = [99,86,87,88,111,86,103,87,94,78,77,85,86]\n",
    "\n",
    "sorted_ele = [77, 78, 85, 86, 86, 86, 87, 87, 88, 94, 99, 103, 111]\n"
   ]
  },
  {
   "cell_type": "code",
   "execution_count": 14,
   "id": "51bf1ba2",
   "metadata": {},
   "outputs": [
    {
     "name": "stdout",
     "output_type": "stream",
     "text": [
      "87.0\n"
     ]
    }
   ],
   "source": [
    "import numpy as np\n",
    "\n",
    "speed = [99,86,87,88,111,86,103,87,94,78,77,85,86]\n",
    "\n",
    "median_value = np.median(speed)\n",
    "print(median_value)"
   ]
  },
  {
   "cell_type": "markdown",
   "id": "a11f1cc3",
   "metadata": {},
   "source": [
    "#### 1. If there are two numbers in the middle:\n",
    "    1. Devide the sum of those number and devide by numbers two"
   ]
  },
  {
   "cell_type": "code",
   "execution_count": 16,
   "id": "1990a29c",
   "metadata": {},
   "outputs": [],
   "source": [
    "sorted_ele = [77, 78, 85, 86, 86, 86, 87, 87, 88, 94, 99, 103]"
   ]
  },
  {
   "cell_type": "code",
   "execution_count": 19,
   "id": "c128a574",
   "metadata": {},
   "outputs": [
    {
     "name": "stdout",
     "output_type": "stream",
     "text": [
      "173\n"
     ]
    },
    {
     "data": {
      "text/plain": [
       "86.5"
      ]
     },
     "execution_count": 19,
     "metadata": {},
     "output_type": "execute_result"
    }
   ],
   "source": [
    "median_value = 86 + 87 \n",
    "print(median_value)\n",
    "\n",
    "median_value / 2\n",
    "\n"
   ]
  },
  {
   "cell_type": "code",
   "execution_count": 20,
   "id": "2b80c19f",
   "metadata": {},
   "outputs": [
    {
     "name": "stdout",
     "output_type": "stream",
     "text": [
      "86.5\n"
     ]
    }
   ],
   "source": [
    "speed = [99,86,87,88,86,103,87,94,78,77,85,86]\n",
    "\n",
    "median_value = np.median(speed)\n",
    "print(median_value)"
   ]
  },
  {
   "cell_type": "markdown",
   "id": "680402af",
   "metadata": {},
   "source": [
    "## 3. Mode [ Most Frequnt Value]"
   ]
  },
  {
   "cell_type": "code",
   "execution_count": 21,
   "id": "c0e49c1c",
   "metadata": {},
   "outputs": [],
   "source": [
    "speed = [77, 78, 85, 86, 86, 86, 87, 87, 88, 94, 99, 103, 111]"
   ]
  },
  {
   "cell_type": "code",
   "execution_count": 25,
   "id": "d41452d0",
   "metadata": {},
   "outputs": [
    {
     "name": "stdout",
     "output_type": "stream",
     "text": [
      "ModeResult(mode=86, count=3)\n"
     ]
    }
   ],
   "source": [
    "from scipy import stats\n",
    "\n",
    "speed = [77, 78, 85, 86, 86, 86, 87, 87, 88, 94, 99, 103, 111]\n",
    "\n",
    "most_frequent_value = stats.mode(speed)\n",
    "print(most_frequent_value)"
   ]
  },
  {
   "cell_type": "code",
   "execution_count": 27,
   "id": "c750524f",
   "metadata": {},
   "outputs": [
    {
     "name": "stdout",
     "output_type": "stream",
     "text": [
      "ModeResult(mode=94, count=4)\n"
     ]
    }
   ],
   "source": [
    "from scipy import stats\n",
    "\n",
    "speed = [94,77, 78, 85, 86,94,86, 86, 87, 87, 88, 94, 99, 103, 111,94]\n",
    "\n",
    "most_frequent_value = stats.mode(speed)\n",
    "print(most_frequent_value)"
   ]
  },
  {
   "cell_type": "code",
   "execution_count": 29,
   "id": "89c871ec",
   "metadata": {},
   "outputs": [
    {
     "data": {
      "text/html": [
       "<div>\n",
       "<style scoped>\n",
       "    .dataframe tbody tr th:only-of-type {\n",
       "        vertical-align: middle;\n",
       "    }\n",
       "\n",
       "    .dataframe tbody tr th {\n",
       "        vertical-align: top;\n",
       "    }\n",
       "\n",
       "    .dataframe thead th {\n",
       "        text-align: right;\n",
       "    }\n",
       "</style>\n",
       "<table border=\"1\" class=\"dataframe\">\n",
       "  <thead>\n",
       "    <tr style=\"text-align: right;\">\n",
       "      <th></th>\n",
       "      <th>Unnamed: 0</th>\n",
       "      <th>age</th>\n",
       "      <th>speed</th>\n",
       "    </tr>\n",
       "  </thead>\n",
       "  <tbody>\n",
       "    <tr>\n",
       "      <th>count</th>\n",
       "      <td>7.000000</td>\n",
       "      <td>7.000000</td>\n",
       "      <td>7.000000</td>\n",
       "    </tr>\n",
       "    <tr>\n",
       "      <th>mean</th>\n",
       "      <td>3.000000</td>\n",
       "      <td>7.428571</td>\n",
       "      <td>94.571429</td>\n",
       "    </tr>\n",
       "    <tr>\n",
       "      <th>std</th>\n",
       "      <td>2.160247</td>\n",
       "      <td>4.649629</td>\n",
       "      <td>8.676734</td>\n",
       "    </tr>\n",
       "    <tr>\n",
       "      <th>min</th>\n",
       "      <td>0.000000</td>\n",
       "      <td>2.000000</td>\n",
       "      <td>87.000000</td>\n",
       "    </tr>\n",
       "    <tr>\n",
       "      <th>25%</th>\n",
       "      <td>1.500000</td>\n",
       "      <td>5.500000</td>\n",
       "      <td>88.000000</td>\n",
       "    </tr>\n",
       "    <tr>\n",
       "      <th>50%</th>\n",
       "      <td>3.000000</td>\n",
       "      <td>7.000000</td>\n",
       "      <td>90.000000</td>\n",
       "    </tr>\n",
       "    <tr>\n",
       "      <th>75%</th>\n",
       "      <td>4.500000</td>\n",
       "      <td>7.500000</td>\n",
       "      <td>99.500000</td>\n",
       "    </tr>\n",
       "    <tr>\n",
       "      <th>max</th>\n",
       "      <td>6.000000</td>\n",
       "      <td>17.000000</td>\n",
       "      <td>110.000000</td>\n",
       "    </tr>\n",
       "  </tbody>\n",
       "</table>\n",
       "</div>"
      ],
      "text/plain": [
       "       Unnamed: 0        age       speed\n",
       "count    7.000000   7.000000    7.000000\n",
       "mean     3.000000   7.428571   94.571429\n",
       "std      2.160247   4.649629    8.676734\n",
       "min      0.000000   2.000000   87.000000\n",
       "25%      1.500000   5.500000   88.000000\n",
       "50%      3.000000   7.000000   90.000000\n",
       "75%      4.500000   7.500000   99.500000\n",
       "max      6.000000  17.000000  110.000000"
      ]
     },
     "execution_count": 29,
     "metadata": {},
     "output_type": "execute_result"
    }
   ],
   "source": [
    "df_1.describe()"
   ]
  },
  {
   "cell_type": "code",
   "execution_count": 30,
   "id": "6c8e79e3",
   "metadata": {},
   "outputs": [],
   "source": [
    "df= pd.read_csv('C:/Users/shyam/Downloads/Iris.csv')"
   ]
  },
  {
   "cell_type": "code",
   "execution_count": 31,
   "id": "441fa9fd",
   "metadata": {},
   "outputs": [
    {
     "data": {
      "text/html": [
       "<div>\n",
       "<style scoped>\n",
       "    .dataframe tbody tr th:only-of-type {\n",
       "        vertical-align: middle;\n",
       "    }\n",
       "\n",
       "    .dataframe tbody tr th {\n",
       "        vertical-align: top;\n",
       "    }\n",
       "\n",
       "    .dataframe thead th {\n",
       "        text-align: right;\n",
       "    }\n",
       "</style>\n",
       "<table border=\"1\" class=\"dataframe\">\n",
       "  <thead>\n",
       "    <tr style=\"text-align: right;\">\n",
       "      <th></th>\n",
       "      <th>Id</th>\n",
       "      <th>SepalLengthCm</th>\n",
       "      <th>SepalWidthCm</th>\n",
       "      <th>PetalLengthCm</th>\n",
       "      <th>PetalWidthCm</th>\n",
       "      <th>Species</th>\n",
       "    </tr>\n",
       "  </thead>\n",
       "  <tbody>\n",
       "    <tr>\n",
       "      <th>0</th>\n",
       "      <td>1</td>\n",
       "      <td>5.1</td>\n",
       "      <td>3.5</td>\n",
       "      <td>1.4</td>\n",
       "      <td>0.2</td>\n",
       "      <td>Iris-setosa</td>\n",
       "    </tr>\n",
       "    <tr>\n",
       "      <th>1</th>\n",
       "      <td>2</td>\n",
       "      <td>4.9</td>\n",
       "      <td>3.0</td>\n",
       "      <td>1.4</td>\n",
       "      <td>0.2</td>\n",
       "      <td>Iris-setosa</td>\n",
       "    </tr>\n",
       "    <tr>\n",
       "      <th>2</th>\n",
       "      <td>3</td>\n",
       "      <td>4.7</td>\n",
       "      <td>3.2</td>\n",
       "      <td>1.3</td>\n",
       "      <td>0.2</td>\n",
       "      <td>Iris-setosa</td>\n",
       "    </tr>\n",
       "    <tr>\n",
       "      <th>3</th>\n",
       "      <td>4</td>\n",
       "      <td>4.6</td>\n",
       "      <td>3.1</td>\n",
       "      <td>1.5</td>\n",
       "      <td>0.2</td>\n",
       "      <td>Iris-setosa</td>\n",
       "    </tr>\n",
       "    <tr>\n",
       "      <th>4</th>\n",
       "      <td>5</td>\n",
       "      <td>5.0</td>\n",
       "      <td>3.6</td>\n",
       "      <td>1.4</td>\n",
       "      <td>0.2</td>\n",
       "      <td>Iris-setosa</td>\n",
       "    </tr>\n",
       "  </tbody>\n",
       "</table>\n",
       "</div>"
      ],
      "text/plain": [
       "   Id  SepalLengthCm  SepalWidthCm  PetalLengthCm  PetalWidthCm      Species\n",
       "0   1            5.1           3.5            1.4           0.2  Iris-setosa\n",
       "1   2            4.9           3.0            1.4           0.2  Iris-setosa\n",
       "2   3            4.7           3.2            1.3           0.2  Iris-setosa\n",
       "3   4            4.6           3.1            1.5           0.2  Iris-setosa\n",
       "4   5            5.0           3.6            1.4           0.2  Iris-setosa"
      ]
     },
     "execution_count": 31,
     "metadata": {},
     "output_type": "execute_result"
    }
   ],
   "source": [
    "df.head()"
   ]
  },
  {
   "cell_type": "code",
   "execution_count": 32,
   "id": "c2d63f89",
   "metadata": {},
   "outputs": [
    {
     "data": {
      "text/html": [
       "<div>\n",
       "<style scoped>\n",
       "    .dataframe tbody tr th:only-of-type {\n",
       "        vertical-align: middle;\n",
       "    }\n",
       "\n",
       "    .dataframe tbody tr th {\n",
       "        vertical-align: top;\n",
       "    }\n",
       "\n",
       "    .dataframe thead th {\n",
       "        text-align: right;\n",
       "    }\n",
       "</style>\n",
       "<table border=\"1\" class=\"dataframe\">\n",
       "  <thead>\n",
       "    <tr style=\"text-align: right;\">\n",
       "      <th></th>\n",
       "      <th>Id</th>\n",
       "      <th>SepalLengthCm</th>\n",
       "      <th>SepalWidthCm</th>\n",
       "      <th>PetalLengthCm</th>\n",
       "      <th>PetalWidthCm</th>\n",
       "    </tr>\n",
       "  </thead>\n",
       "  <tbody>\n",
       "    <tr>\n",
       "      <th>count</th>\n",
       "      <td>150.000000</td>\n",
       "      <td>150.000000</td>\n",
       "      <td>150.000000</td>\n",
       "      <td>150.000000</td>\n",
       "      <td>150.000000</td>\n",
       "    </tr>\n",
       "    <tr>\n",
       "      <th>mean</th>\n",
       "      <td>75.500000</td>\n",
       "      <td>5.843333</td>\n",
       "      <td>3.054000</td>\n",
       "      <td>3.758667</td>\n",
       "      <td>1.198667</td>\n",
       "    </tr>\n",
       "    <tr>\n",
       "      <th>std</th>\n",
       "      <td>43.445368</td>\n",
       "      <td>0.828066</td>\n",
       "      <td>0.433594</td>\n",
       "      <td>1.764420</td>\n",
       "      <td>0.763161</td>\n",
       "    </tr>\n",
       "    <tr>\n",
       "      <th>min</th>\n",
       "      <td>1.000000</td>\n",
       "      <td>4.300000</td>\n",
       "      <td>2.000000</td>\n",
       "      <td>1.000000</td>\n",
       "      <td>0.100000</td>\n",
       "    </tr>\n",
       "    <tr>\n",
       "      <th>25%</th>\n",
       "      <td>38.250000</td>\n",
       "      <td>5.100000</td>\n",
       "      <td>2.800000</td>\n",
       "      <td>1.600000</td>\n",
       "      <td>0.300000</td>\n",
       "    </tr>\n",
       "    <tr>\n",
       "      <th>50%</th>\n",
       "      <td>75.500000</td>\n",
       "      <td>5.800000</td>\n",
       "      <td>3.000000</td>\n",
       "      <td>4.350000</td>\n",
       "      <td>1.300000</td>\n",
       "    </tr>\n",
       "    <tr>\n",
       "      <th>75%</th>\n",
       "      <td>112.750000</td>\n",
       "      <td>6.400000</td>\n",
       "      <td>3.300000</td>\n",
       "      <td>5.100000</td>\n",
       "      <td>1.800000</td>\n",
       "    </tr>\n",
       "    <tr>\n",
       "      <th>max</th>\n",
       "      <td>150.000000</td>\n",
       "      <td>7.900000</td>\n",
       "      <td>4.400000</td>\n",
       "      <td>6.900000</td>\n",
       "      <td>2.500000</td>\n",
       "    </tr>\n",
       "  </tbody>\n",
       "</table>\n",
       "</div>"
      ],
      "text/plain": [
       "               Id  SepalLengthCm  SepalWidthCm  PetalLengthCm  PetalWidthCm\n",
       "count  150.000000     150.000000    150.000000     150.000000    150.000000\n",
       "mean    75.500000       5.843333      3.054000       3.758667      1.198667\n",
       "std     43.445368       0.828066      0.433594       1.764420      0.763161\n",
       "min      1.000000       4.300000      2.000000       1.000000      0.100000\n",
       "25%     38.250000       5.100000      2.800000       1.600000      0.300000\n",
       "50%     75.500000       5.800000      3.000000       4.350000      1.300000\n",
       "75%    112.750000       6.400000      3.300000       5.100000      1.800000\n",
       "max    150.000000       7.900000      4.400000       6.900000      2.500000"
      ]
     },
     "execution_count": 32,
     "metadata": {},
     "output_type": "execute_result"
    }
   ],
   "source": [
    "df.describe()"
   ]
  },
  {
   "cell_type": "code",
   "execution_count": null,
   "id": "060b11cc",
   "metadata": {},
   "outputs": [],
   "source": []
  }
 ],
 "metadata": {
  "kernelspec": {
   "display_name": "Python 3 (ipykernel)",
   "language": "python",
   "name": "python3"
  },
  "language_info": {
   "codemirror_mode": {
    "name": "ipython",
    "version": 3
   },
   "file_extension": ".py",
   "mimetype": "text/x-python",
   "name": "python",
   "nbconvert_exporter": "python",
   "pygments_lexer": "ipython3",
   "version": "3.11.5"
  }
 },
 "nbformat": 4,
 "nbformat_minor": 5
}
