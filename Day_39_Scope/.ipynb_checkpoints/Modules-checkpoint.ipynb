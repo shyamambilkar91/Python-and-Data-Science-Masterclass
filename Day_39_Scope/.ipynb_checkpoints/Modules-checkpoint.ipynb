{
 "cells": [
  {
   "cell_type": "markdown",
   "id": "607ea4bb",
   "metadata": {},
   "source": [
    "# Python Modules"
   ]
  },
  {
   "cell_type": "markdown",
   "id": "af559db2",
   "metadata": {},
   "source": [
    "Install Pycharm on Windows - https://www.jetbrains.com/pycharm/download/other.html"
   ]
  },
  {
   "cell_type": "markdown",
   "id": "ac983623",
   "metadata": {},
   "source": [
    "## What is Module ?"
   ]
  },
  {
   "cell_type": "markdown",
   "id": "961123e4",
   "metadata": {},
   "source": [
    "1. Consider a module to be the same as a code library\n",
    "2. A file containing set of functions you want to include in your application"
   ]
  },
  {
   "cell_type": "markdown",
   "id": "1bb998f5",
   "metadata": {},
   "source": [
    "## Create a Module"
   ]
  },
  {
   "cell_type": "markdown",
   "id": "18ff4c63",
   "metadata": {},
   "source": [
    "1. To create a module just save the code you want in a file with the extension .py"
   ]
  },
  {
   "cell_type": "code",
   "execution_count": 1,
   "id": "6f7f506e",
   "metadata": {},
   "outputs": [],
   "source": [
    "def welocmeuser(name):\n",
    "    print(\"Hello,\" + name, \"Welcome to Python Modules\")"
   ]
  },
  {
   "cell_type": "markdown",
   "id": "798b750e",
   "metadata": {},
   "source": [
    "### Use a Module"
   ]
  },
  {
   "cell_type": "markdown",
   "id": "1f67dd13",
   "metadata": {},
   "source": [
    "1. We can use the module we just created by using the import statement\n",
    "2. Import the module name myModule and call the welcomeuser function"
   ]
  },
  {
   "cell_type": "markdown",
   "id": "fd3b46e2",
   "metadata": {},
   "source": [
    "import myModule\n",
    "\n",
    "myModule.welocmeuser(\"Vishal Shitole\")"
   ]
  },
  {
   "cell_type": "markdown",
   "id": "d678e592",
   "metadata": {},
   "source": [
    "**Note : When using a function from a module, use syntax module_name.function_name**"
   ]
  },
  {
   "cell_type": "markdown",
   "id": "e1038ec8",
   "metadata": {},
   "source": [
    "## Variable in Modules"
   ]
  },
  {
   "cell_type": "code",
   "execution_count": 3,
   "id": "07645301",
   "metadata": {},
   "outputs": [],
   "source": [
    "Person_1 = {\n",
    "    \"first_name\":\"Ambika Kadam\",\n",
    "    \"location\":\"Pune\",\n",
    "    \"state\":\"Maharashtra\",\n",
    "    'pincode': 412204,\n",
    "    'contact': 1234567890\n",
    "}"
   ]
  },
  {
   "cell_type": "markdown",
   "id": "d7f73b8f",
   "metadata": {},
   "source": [
    "**import the module name myModule and access the Person_1 dictionary**"
   ]
  },
  {
   "cell_type": "raw",
   "id": "c3001661",
   "metadata": {},
   "source": [
    "import myModule\n",
    "\n",
    "my_var = myModule.Person_1['location']\n",
    "print(my_var)\n",
    "\n",
    "my_var_1 = myModule.Person_1.keys()\n",
    "print(my_var_1)\n",
    "print(type(my_var_1))"
   ]
  },
  {
   "cell_type": "markdown",
   "id": "3a61c98c",
   "metadata": {},
   "source": [
    "## Naming a Module"
   ]
  },
  {
   "cell_type": "markdown",
   "id": "a12d85d9",
   "metadata": {},
   "source": [
    "**You can assign name the module file whatever you like, but a must have file extension .py**"
   ]
  },
  {
   "cell_type": "markdown",
   "id": "3e3db468",
   "metadata": {},
   "source": [
    "## Re-naming Module"
   ]
  },
  {
   "cell_type": "markdown",
   "id": "c347e362",
   "metadata": {},
   "source": [
    "**you can create an alias when you import module, by using as keyword**"
   ]
  },
  {
   "cell_type": "code",
   "execution_count": 4,
   "id": "dadff8ba",
   "metadata": {},
   "outputs": [],
   "source": [
    "Person_1 = {\n",
    "    \"first_name\":\"Ambika Kadam\",\n",
    "    \"location\":\"Pune\",\n",
    "    \"state\":\"Maharashtra\",\n",
    "    'pincode': 412204,\n",
    "    'contact': 1234567890\n",
    "}"
   ]
  },
  {
   "cell_type": "raw",
   "id": "0ba21609",
   "metadata": {},
   "source": [
    "import myModule as mm\n",
    "\n",
    "my_var = mm.Person_1.values()\n",
    "print(my_var)"
   ]
  },
  {
   "cell_type": "markdown",
   "id": "eb1c0a37",
   "metadata": {},
   "source": [
    "## Built-in Modules"
   ]
  },
  {
   "cell_type": "markdown",
   "id": "758ab61f",
   "metadata": {},
   "source": [
    "There are several built-in Modules in Python, which you can import whenever you like or required"
   ]
  },
  {
   "cell_type": "code",
   "execution_count": 5,
   "id": "95023f4e",
   "metadata": {},
   "outputs": [],
   "source": [
    "import math"
   ]
  },
  {
   "cell_type": "code",
   "execution_count": 11,
   "id": "026b5d86",
   "metadata": {},
   "outputs": [],
   "source": [
    "# help(math)"
   ]
  },
  {
   "cell_type": "code",
   "execution_count": 8,
   "id": "4fc5694b",
   "metadata": {},
   "outputs": [
    {
     "data": {
      "text/plain": [
       "3628800"
      ]
     },
     "execution_count": 8,
     "metadata": {},
     "output_type": "execute_result"
    }
   ],
   "source": [
    "math.factorial(10)"
   ]
  },
  {
   "cell_type": "code",
   "execution_count": 9,
   "id": "99009d21",
   "metadata": {},
   "outputs": [
    {
     "data": {
      "text/plain": [
       "100"
      ]
     },
     "execution_count": 9,
     "metadata": {},
     "output_type": "execute_result"
    }
   ],
   "source": [
    "math.floor(100.25)"
   ]
  },
  {
   "cell_type": "code",
   "execution_count": 12,
   "id": "1b6f6878",
   "metadata": {},
   "outputs": [],
   "source": [
    "import datetime"
   ]
  },
  {
   "cell_type": "code",
   "execution_count": 16,
   "id": "3e0a5ce6",
   "metadata": {},
   "outputs": [
    {
     "data": {
      "text/plain": [
       "datetime.date(2024, 4, 3)"
      ]
     },
     "execution_count": 16,
     "metadata": {},
     "output_type": "execute_result"
    }
   ],
   "source": [
    "datetime.date(2024,4,3)"
   ]
  },
  {
   "cell_type": "code",
   "execution_count": 21,
   "id": "dfbdd327",
   "metadata": {},
   "outputs": [],
   "source": [
    "# help(datetime)"
   ]
  },
  {
   "cell_type": "code",
   "execution_count": 20,
   "id": "c0c5e67d",
   "metadata": {},
   "outputs": [],
   "source": [
    "# datetime.timezone()"
   ]
  },
  {
   "cell_type": "code",
   "execution_count": 22,
   "id": "0e5e452a",
   "metadata": {},
   "outputs": [],
   "source": [
    "import time"
   ]
  },
  {
   "cell_type": "code",
   "execution_count": 25,
   "id": "7db09758",
   "metadata": {},
   "outputs": [
    {
     "name": "stdout",
     "output_type": "stream",
     "text": [
      "Help on struct_time in module time object:\n",
      "\n",
      "class struct_time(builtins.tuple)\n",
      " |  struct_time(iterable=(), /)\n",
      " |  \n",
      " |  The time value as returned by gmtime(), localtime(), and strptime(), and\n",
      " |  accepted by asctime(), mktime() and strftime().  May be considered as a\n",
      " |  sequence of 9 integers.\n",
      " |  \n",
      " |  Note that several fields' values are not the same as those defined by\n",
      " |  the C language standard for struct tm.  For example, the value of the\n",
      " |  field tm_year is the actual year, not year - 1900.  See individual\n",
      " |  fields' descriptions for details.\n",
      " |  \n",
      " |  Method resolution order:\n",
      " |      struct_time\n",
      " |      builtins.tuple\n",
      " |      builtins.object\n",
      " |  \n",
      " |  Methods defined here:\n",
      " |  \n",
      " |  __reduce__(...)\n",
      " |      Helper for pickle.\n",
      " |  \n",
      " |  __repr__(self, /)\n",
      " |      Return repr(self).\n",
      " |  \n",
      " |  ----------------------------------------------------------------------\n",
      " |  Static methods defined here:\n",
      " |  \n",
      " |  __new__(*args, **kwargs) from builtins.type\n",
      " |      Create and return a new object.  See help(type) for accurate signature.\n",
      " |  \n",
      " |  ----------------------------------------------------------------------\n",
      " |  Data descriptors defined here:\n",
      " |  \n",
      " |  tm_gmtoff\n",
      " |      offset from UTC in seconds\n",
      " |  \n",
      " |  tm_hour\n",
      " |      hours, range [0, 23]\n",
      " |  \n",
      " |  tm_isdst\n",
      " |      1 if summer time is in effect, 0 if not, and -1 if unknown\n",
      " |  \n",
      " |  tm_mday\n",
      " |      day of month, range [1, 31]\n",
      " |  \n",
      " |  tm_min\n",
      " |      minutes, range [0, 59]\n",
      " |  \n",
      " |  tm_mon\n",
      " |      month of year, range [1, 12]\n",
      " |  \n",
      " |  tm_sec\n",
      " |      seconds, range [0, 61])\n",
      " |  \n",
      " |  tm_wday\n",
      " |      day of week, range [0, 6], Monday is 0\n",
      " |  \n",
      " |  tm_yday\n",
      " |      day of year, range [1, 366]\n",
      " |  \n",
      " |  tm_year\n",
      " |      year, for example, 1993\n",
      " |  \n",
      " |  tm_zone\n",
      " |      abbreviation of timezone name\n",
      " |  \n",
      " |  ----------------------------------------------------------------------\n",
      " |  Data and other attributes defined here:\n",
      " |  \n",
      " |  __match_args__ = ('tm_year', 'tm_mon', 'tm_mday', 'tm_hour', 'tm_min',...\n",
      " |  \n",
      " |  n_fields = 11\n",
      " |  \n",
      " |  n_sequence_fields = 9\n",
      " |  \n",
      " |  n_unnamed_fields = 0\n",
      " |  \n",
      " |  ----------------------------------------------------------------------\n",
      " |  Methods inherited from builtins.tuple:\n",
      " |  \n",
      " |  __add__(self, value, /)\n",
      " |      Return self+value.\n",
      " |  \n",
      " |  __contains__(self, key, /)\n",
      " |      Return key in self.\n",
      " |  \n",
      " |  __eq__(self, value, /)\n",
      " |      Return self==value.\n",
      " |  \n",
      " |  __ge__(self, value, /)\n",
      " |      Return self>=value.\n",
      " |  \n",
      " |  __getattribute__(self, name, /)\n",
      " |      Return getattr(self, name).\n",
      " |  \n",
      " |  __getitem__(self, key, /)\n",
      " |      Return self[key].\n",
      " |  \n",
      " |  __getnewargs__(self, /)\n",
      " |  \n",
      " |  __gt__(self, value, /)\n",
      " |      Return self>value.\n",
      " |  \n",
      " |  __hash__(self, /)\n",
      " |      Return hash(self).\n",
      " |  \n",
      " |  __iter__(self, /)\n",
      " |      Implement iter(self).\n",
      " |  \n",
      " |  __le__(self, value, /)\n",
      " |      Return self<=value.\n",
      " |  \n",
      " |  __len__(self, /)\n",
      " |      Return len(self).\n",
      " |  \n",
      " |  __lt__(self, value, /)\n",
      " |      Return self<value.\n",
      " |  \n",
      " |  __mul__(self, value, /)\n",
      " |      Return self*value.\n",
      " |  \n",
      " |  __ne__(self, value, /)\n",
      " |      Return self!=value.\n",
      " |  \n",
      " |  __rmul__(self, value, /)\n",
      " |      Return value*self.\n",
      " |  \n",
      " |  count(self, value, /)\n",
      " |      Return number of occurrences of value.\n",
      " |  \n",
      " |  index(self, value, start=0, stop=9223372036854775807, /)\n",
      " |      Return first index of value.\n",
      " |      \n",
      " |      Raises ValueError if the value is not present.\n",
      " |  \n",
      " |  ----------------------------------------------------------------------\n",
      " |  Class methods inherited from builtins.tuple:\n",
      " |  \n",
      " |  __class_getitem__(...) from builtins.type\n",
      " |      See PEP 585\n",
      "\n"
     ]
    }
   ],
   "source": [
    "help(time.localtime())"
   ]
  },
  {
   "cell_type": "code",
   "execution_count": null,
   "id": "bd279b35",
   "metadata": {},
   "outputs": [],
   "source": []
  }
 ],
 "metadata": {
  "kernelspec": {
   "display_name": "Python 3 (ipykernel)",
   "language": "python",
   "name": "python3"
  },
  "language_info": {
   "codemirror_mode": {
    "name": "ipython",
    "version": 3
   },
   "file_extension": ".py",
   "mimetype": "text/x-python",
   "name": "python",
   "nbconvert_exporter": "python",
   "pygments_lexer": "ipython3",
   "version": "3.11.5"
  }
 },
 "nbformat": 4,
 "nbformat_minor": 5
}
