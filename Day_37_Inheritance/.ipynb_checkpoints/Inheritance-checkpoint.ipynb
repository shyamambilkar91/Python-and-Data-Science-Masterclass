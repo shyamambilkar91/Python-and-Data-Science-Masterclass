{
 "cells": [
  {
   "cell_type": "code",
   "execution_count": 4,
   "id": "a4aa7a8c",
   "metadata": {},
   "outputs": [
    {
     "name": "stdout",
     "output_type": "stream",
     "text": [
      "First Base Class....!!\n",
      "Second Base Class...!!\n",
      "I am accessing Properties of Father and Mother\n"
     ]
    }
   ],
   "source": [
    "class Father:\n",
    "    def my_father(self):\n",
    "        print(\"First Base Class....!!\")\n",
    "        \n",
    "class Mother:\n",
    "    def my_mother(self):\n",
    "        print(\"Second Base Class...!!\")\n",
    "        \n",
    "class Child(Father, Mother):\n",
    "    def my_function(self):\n",
    "        print(\"I am accessing Properties of Father and Mother\")\n",
    "        \n",
    "\n",
    "c1 = Child()\n",
    "c1.my_father()\n",
    "c1.my_mother()\n",
    "c1.my_function()"
   ]
  },
  {
   "cell_type": "markdown",
   "id": "656ce03d",
   "metadata": {},
   "source": [
    "## Hirarchical Inheritance"
   ]
  },
  {
   "cell_type": "markdown",
   "id": "7d2e90e4",
   "metadata": {},
   "source": [
    "![](https://simplesnippets.tech/wp-content/uploads/2018/03/Hierarchical-Inheritance-in-C.png)"
   ]
  },
  {
   "cell_type": "code",
   "execution_count": 5,
   "id": "5da796f9",
   "metadata": {},
   "outputs": [
    {
     "name": "stdout",
     "output_type": "stream",
     "text": [
      "This function is in child class 1......!!\n",
      "This Function is in Parent class or Base Class....!!\n",
      "This function is in child class 2......!!\n",
      "This Function is in Parent class or Base Class....!!\n"
     ]
    }
   ],
   "source": [
    "class Parent:\n",
    "    def myFunction(self):\n",
    "        print(\"This Function is in Parent class or Base Class....!!\")\n",
    "        \n",
    "# Derived class\n",
    "class Child_1(Parent):\n",
    "    def child_function_1(self):\n",
    "        print(\"This function is in child class 1......!!\")\n",
    "        \n",
    "class Child_2(Parent):\n",
    "    def child_function_2(self):\n",
    "        print(\"This function is in child class 2......!!\")\n",
    "        \n",
    "#Driver Code\n",
    "\n",
    "c1 = Child_1()\n",
    "c2 = Child_2()\n",
    "\n",
    "\n",
    "c1.child_function_1()\n",
    "c1.myFunction()\n",
    "\n",
    "c2.child_function_2()\n",
    "c2.myFunction()"
   ]
  },
  {
   "cell_type": "code",
   "execution_count": 14,
   "id": "c9c8d656",
   "metadata": {},
   "outputs": [
    {
     "name": "stdout",
     "output_type": "stream",
     "text": [
      "This function is in child class 2......!!\n",
      "My name is Shyam Ambilkar and my post is Data Engineer\n",
      "This Function is in Parent class or Base Class....!!\n"
     ]
    }
   ],
   "source": [
    "class Parent:\n",
    "    def __init__(self, fname, lname, post):\n",
    "        self.fname = fname\n",
    "        self.lname = lname\n",
    "        self.post = post\n",
    "        \n",
    "    def myFunction(self):\n",
    "        print(\"My name is \" + self.fname + \" \"+self.lname + \" \"+ \"and my post is \"+ self.post)\n",
    "        print(\"This Function is in Parent class or Base Class....!!\")\n",
    "        \n",
    "\n",
    "class Child_1(Parent):\n",
    "    def child_function_1(self):\n",
    "        print(\"This function is in child class 1......!!\")\n",
    "        \n",
    "    def printInfo(self, mobile):\n",
    "        self.mobile = mobile\n",
    "        print(self.mobile)\n",
    "        \n",
    "class Child_2(Parent):\n",
    "    def child_function_2(self):\n",
    "        print(\"This function is in child class 2......!!\")\n",
    "        \n",
    "        \n",
    "# c1 = Child_1(\"Vishal\",\"Shitole\")\n",
    "\n",
    "# c1.child_function_1()\n",
    "# c1.printInfo(9066031097)\n",
    "# c1.myFunction()\n",
    "\n",
    "c2 = Child_2(\"Shyam\",\"Ambilkar\",\"Data Engineer\")\n",
    "c2.child_function_2()\n",
    "c2.myFunction()"
   ]
  },
  {
   "cell_type": "code",
   "execution_count": null,
   "id": "f604ad31",
   "metadata": {},
   "outputs": [],
   "source": []
  }
 ],
 "metadata": {
  "kernelspec": {
   "display_name": "Python 3 (ipykernel)",
   "language": "python",
   "name": "python3"
  },
  "language_info": {
   "codemirror_mode": {
    "name": "ipython",
    "version": 3
   },
   "file_extension": ".py",
   "mimetype": "text/x-python",
   "name": "python",
   "nbconvert_exporter": "python",
   "pygments_lexer": "ipython3",
   "version": "3.11.5"
  }
 },
 "nbformat": 4,
 "nbformat_minor": 5
}
