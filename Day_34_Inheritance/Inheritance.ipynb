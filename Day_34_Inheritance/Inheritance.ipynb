{
 "cells": [
  {
   "cell_type": "markdown",
   "id": "9347645a",
   "metadata": {},
   "source": [
    "## Inheritance"
   ]
  },
  {
   "cell_type": "markdown",
   "id": "30ca6bdf",
   "metadata": {},
   "source": [
    "1. Inheritance allows us to define class that inherits all the methods and properties from another class\n",
    "2. Inheritance is capability of one class to derive or inherits the properties or method from another class\n",
    "3. The new class called(Derived Class or Child) and one from inherits is calles as (Parent class or Base Class)\n",
    "4. Inheritance has been two terms:\n",
    "    1. Parent Class:\n",
    "        1. Parent class is being inherited from, also called as Base Class\n",
    "    2. Chlid Class:\n",
    "        1. Child class is being class inherits from another class, also called as Derived Class\n",
    "        \n",
    "5. It provides reusability of code\n",
    "6. It allow us to more feature without modifying it\n",
    "7. It Transitive in nature, which means that:\n",
    "    1. If class B inherits from another class A, then all the subclasses as B would automatically inherits class A"
   ]
  },
  {
   "cell_type": "markdown",
   "id": "447398b6",
   "metadata": {},
   "source": [
    "### There are different types of Inheritance:\n",
    "    1. Single Inheritance\n",
    "    2. Multiple Inheritance\n",
    "    3. Multilevel Inheritance\n",
    "    4. Hirarchical Inheritance\n",
    "    5. Hybrid Inheritance"
   ]
  },
  {
   "cell_type": "markdown",
   "id": "62035d67",
   "metadata": {},
   "source": [
    "![](https://static.javatpoint.com/images/core/typesofinheritance.jpg)"
   ]
  },
  {
   "cell_type": "markdown",
   "id": "0a602609",
   "metadata": {},
   "source": [
    "## 1. Single Inheritance"
   ]
  },
  {
   "cell_type": "markdown",
   "id": "0202c202",
   "metadata": {},
   "source": [
    "### Parent Class"
   ]
  },
  {
   "cell_type": "code",
   "execution_count": 4,
   "id": "bd8be478",
   "metadata": {},
   "outputs": [
    {
     "name": "stdout",
     "output_type": "stream",
     "text": [
      "Welcome TusharPokale in Python & Data Science Placement Batch\n"
     ]
    }
   ],
   "source": [
    "class Person:\n",
    "    def __init__(self, fname,lname):\n",
    "        self.fname = fname\n",
    "        self.lname = lname\n",
    "        \n",
    "    def displayInfo(self):\n",
    "        print(\"Welcome\",self.fname + self.lname, \"in Python & Data Science Placement Batch\")\n",
    "        \n",
    "p1 = Person(\"Tushar\",\"Pokale\")\n",
    "p1.displayInfo()"
   ]
  },
  {
   "cell_type": "markdown",
   "id": "586a5458",
   "metadata": {},
   "source": [
    "### Child Class"
   ]
  },
  {
   "cell_type": "code",
   "execution_count": 8,
   "id": "f436509b",
   "metadata": {},
   "outputs": [
    {
     "name": "stdout",
     "output_type": "stream",
     "text": [
      "Akash Chude\n",
      "Welcome AkashChude in Python & Data Science Placement Batch\n",
      "Welcome AkashChude in Python & Data Science Placement Batch\n"
     ]
    }
   ],
   "source": [
    "class Person:\n",
    "    def __init__(self, fname,lname):\n",
    "        self.fname = fname\n",
    "        self.lname = lname\n",
    "        \n",
    "    def displayInfo(self):\n",
    "        print(\"Welcome\",self.fname + self.lname, \"in Python & Data Science Placement Batch\")\n",
    "        \n",
    "class Child(Person):\n",
    "    def printInfo(self):\n",
    "        print(self.fname, self.lname)\n",
    "        \n",
    "        \n",
    "p1 = Child(\"Akash\",\"Chude\")\n",
    "p1.printInfo()\n",
    "\n",
    "p2 = Person(\"Akash\",\"Chude\")\n",
    "p2.displayInfo()\n",
    "\n",
    "p1 = Child(\"Akash\",\"Chude\")\n",
    "p1.displayInfo()"
   ]
  },
  {
   "cell_type": "code",
   "execution_count": 12,
   "id": "c57c3316",
   "metadata": {},
   "outputs": [
    {
     "name": "stdout",
     "output_type": "stream",
     "text": [
      "Enter First Name: 52\n",
      "Enter Second Name: 52\n",
      "52 52\n",
      "Welcome 5252 in Python & Data Science Placement Batch\n"
     ]
    }
   ],
   "source": [
    "class Person:\n",
    "    def __init__(self, fname,lname):\n",
    "        self.fname = fname\n",
    "        self.lname = lname\n",
    "        \n",
    "    def displayInfo(self):\n",
    "        print(\"Welcome\",self.fname + self.lname, \"in Python & Data Science Placement Batch\")\n",
    "        \n",
    "class Child(Person):\n",
    "    def printInfo(self):\n",
    "        print(self.fname, self.lname)\n",
    "        \n",
    "my_name_1 = input(\"Enter First Name: \")\n",
    "my_name_2 = input(\"Enter Second Name: \")\n",
    "\n",
    "c1 = Child(my_name_1,my_name_2)\n",
    "c1.printInfo()\n",
    "c1.displayInfo()"
   ]
  },
  {
   "cell_type": "code",
   "execution_count": 15,
   "id": "1e56eea7",
   "metadata": {},
   "outputs": [
    {
     "name": "stdout",
     "output_type": "stream",
     "text": [
      "Enter Radius to calculate Area of Circle and Perimeter of Circle: 20\n",
      "Area of Circle is:  1256.0 mm2\n",
      "Perimeter of Circle is:  125.6 mm\n"
     ]
    },
    {
     "data": {
      "text/plain": [
       "1256.0"
      ]
     },
     "execution_count": 15,
     "metadata": {},
     "output_type": "execute_result"
    }
   ],
   "source": [
    "class Circle:\n",
    "    def __init__(self, radius):\n",
    "        self.radius = radius\n",
    "        \n",
    "    def area_of_circle(self):\n",
    "        area = (3.14) * self.radius ** 2\n",
    "        return area\n",
    "        \n",
    "    def perimeter_of_circle(self):\n",
    "        perimeter = 2 * (3.14) * self.radius\n",
    "        return perimeter\n",
    "    \n",
    "my_radius = int(input(\"Enter Radius to calculate Area of Circle and Perimeter of Circle: \"))\n",
    "\n",
    "c1 = Circle(my_radius)\n",
    "print(\"Area of Circle is: \", round(c1.area_of_circle(),2),\"mm2\")\n",
    "print(\"Perimeter of Circle is: \", round(c1.perimeter_of_circle(),2),\"mm\")\n",
    "c1.area_of_circle()"
   ]
  },
  {
   "cell_type": "code",
   "execution_count": 16,
   "id": "7c3519ae",
   "metadata": {},
   "outputs": [
    {
     "name": "stdout",
     "output_type": "stream",
     "text": [
      "Help on built-in function round in module builtins:\n",
      "\n",
      "round(number, ndigits=None)\n",
      "    Round a number to a given precision in decimal digits.\n",
      "    \n",
      "    The return value is an integer if ndigits is omitted or None.  Otherwise\n",
      "    the return value has the same type as the number.  ndigits may be negative.\n",
      "\n"
     ]
    }
   ],
   "source": [
    "help(round)"
   ]
  },
  {
   "cell_type": "code",
   "execution_count": null,
   "id": "c0189774",
   "metadata": {},
   "outputs": [],
   "source": [
    "Input\n",
    "my_list = [10,20,4,5,7,2,1,4,8,6,10,6,5,20]\n",
    "\n",
    "Output = []\n",
    "\n",
    "output = \n",
    "\n",
    "\n",
    "\n"
   ]
  },
  {
   "cell_type": "code",
   "execution_count": 24,
   "id": "bf80d75d",
   "metadata": {},
   "outputs": [
    {
     "name": "stdout",
     "output_type": "stream",
     "text": [
      "[4, 10, 6, 5, 20]\n",
      "[10, 20, 4, 5, 7, 2, 1, 8, 6]\n"
     ]
    }
   ],
   "source": [
    "my_list = [10,20,4,5,7,2,1,4,8,6,10,6,5,20]\n",
    "\n",
    "unique_list = []\n",
    "duplicate_list = []\n",
    "\n",
    "for i in my_list:\n",
    "    if i not in unique_list:\n",
    "        unique_list.append(i)\n",
    "    elif i not in duplicate_list:\n",
    "        duplicate_list.append(i)\n",
    "        \n",
    "print(duplicate_list)\n",
    "print(unique_list)"
   ]
  },
  {
   "cell_type": "code",
   "execution_count": null,
   "id": "05a1bde9",
   "metadata": {},
   "outputs": [],
   "source": []
  }
 ],
 "metadata": {
  "kernelspec": {
   "display_name": "Python 3 (ipykernel)",
   "language": "python",
   "name": "python3"
  },
  "language_info": {
   "codemirror_mode": {
    "name": "ipython",
    "version": 3
   },
   "file_extension": ".py",
   "mimetype": "text/x-python",
   "name": "python",
   "nbconvert_exporter": "python",
   "pygments_lexer": "ipython3",
   "version": "3.11.5"
  }
 },
 "nbformat": 4,
 "nbformat_minor": 5
}
