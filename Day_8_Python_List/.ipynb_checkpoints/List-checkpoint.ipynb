{
 "cells": [
  {
   "cell_type": "markdown",
   "id": "de442d22",
   "metadata": {},
   "source": [
    "## Range of Indexes "
   ]
  },
  {
   "cell_type": "code",
   "execution_count": 1,
   "id": "d02219f3",
   "metadata": {},
   "outputs": [
    {
     "name": "stdout",
     "output_type": "stream",
     "text": [
      "['apple', 'mango', 'cherry', 'blackcurrent', 'banana', 'grapes']\n"
     ]
    }
   ],
   "source": [
    "my_list = ['apple','mango','cherry','blackcurrent','banana','grapes']\n",
    "\n",
    "print(my_list)"
   ]
  },
  {
   "cell_type": "markdown",
   "id": "7ea7e4d5",
   "metadata": {},
   "source": [
    "### 1. Positive Range of Indexing:\n",
    "    1. Starts with\n",
    "    2. Ends with\n",
    "    3. Range "
   ]
  },
  {
   "cell_type": "code",
   "execution_count": 4,
   "id": "ad5fe4df",
   "metadata": {},
   "outputs": [
    {
     "data": {
      "text/plain": [
       "['cherry', 'blackcurrent', 'banana', 'grapes']"
      ]
     },
     "execution_count": 4,
     "metadata": {},
     "output_type": "execute_result"
    }
   ],
   "source": [
    "my_list[2:]"
   ]
  },
  {
   "cell_type": "code",
   "execution_count": 5,
   "id": "52590a05",
   "metadata": {},
   "outputs": [
    {
     "data": {
      "text/plain": [
       "['grapes']"
      ]
     },
     "execution_count": 5,
     "metadata": {},
     "output_type": "execute_result"
    }
   ],
   "source": [
    "my_list[5:]"
   ]
  },
  {
   "cell_type": "code",
   "execution_count": 6,
   "id": "07eb21a6",
   "metadata": {},
   "outputs": [
    {
     "data": {
      "text/plain": [
       "['apple', 'mango', 'cherry']"
      ]
     },
     "execution_count": 6,
     "metadata": {},
     "output_type": "execute_result"
    }
   ],
   "source": [
    "my_list[:3]"
   ]
  },
  {
   "cell_type": "code",
   "execution_count": 7,
   "id": "37730b2d",
   "metadata": {},
   "outputs": [
    {
     "data": {
      "text/plain": [
       "['mango', 'cherry', 'blackcurrent', 'banana']"
      ]
     },
     "execution_count": 7,
     "metadata": {},
     "output_type": "execute_result"
    }
   ],
   "source": [
    "my_list[1:5]"
   ]
  },
  {
   "cell_type": "markdown",
   "id": "1f3a5fb4",
   "metadata": {},
   "source": [
    "### 2. Negative Range of Indexing:\n",
    "    1. Starts with\n",
    "    2. Ends with\n",
    "    3. Range"
   ]
  },
  {
   "cell_type": "code",
   "execution_count": 8,
   "id": "0ca22749",
   "metadata": {},
   "outputs": [
    {
     "name": "stdout",
     "output_type": "stream",
     "text": [
      "['apple', 'mango', 'cherry', 'blackcurrent', 'banana', 'grapes']\n"
     ]
    }
   ],
   "source": [
    "my_list = ['apple','mango','cherry','blackcurrent','banana','grapes']\n",
    "\n",
    "print(my_list)"
   ]
  },
  {
   "cell_type": "code",
   "execution_count": 9,
   "id": "c19264db",
   "metadata": {},
   "outputs": [
    {
     "data": {
      "text/plain": [
       "'grapes'"
      ]
     },
     "execution_count": 9,
     "metadata": {},
     "output_type": "execute_result"
    }
   ],
   "source": [
    "my_list[-1]"
   ]
  },
  {
   "cell_type": "code",
   "execution_count": 10,
   "id": "ac3bbc91",
   "metadata": {},
   "outputs": [
    {
     "data": {
      "text/plain": [
       "['banana', 'grapes']"
      ]
     },
     "execution_count": 10,
     "metadata": {},
     "output_type": "execute_result"
    }
   ],
   "source": [
    "my_list[-2:]"
   ]
  },
  {
   "cell_type": "code",
   "execution_count": 11,
   "id": "7278c47f",
   "metadata": {},
   "outputs": [
    {
     "data": {
      "text/plain": [
       "['apple', 'mango', 'cherry', 'blackcurrent']"
      ]
     },
     "execution_count": 11,
     "metadata": {},
     "output_type": "execute_result"
    }
   ],
   "source": [
    "my_list[:-2]"
   ]
  },
  {
   "cell_type": "code",
   "execution_count": 12,
   "id": "82382615",
   "metadata": {},
   "outputs": [
    {
     "data": {
      "text/plain": [
       "['apple', 'mango', 'cherry', 'blackcurrent', 'banana']"
      ]
     },
     "execution_count": 12,
     "metadata": {},
     "output_type": "execute_result"
    }
   ],
   "source": [
    "my_list[:-1]"
   ]
  },
  {
   "cell_type": "code",
   "execution_count": 13,
   "id": "3f5cbc78",
   "metadata": {},
   "outputs": [
    {
     "name": "stdout",
     "output_type": "stream",
     "text": [
      "['apple', 'mango', 'cherry', 'blackcurrent', 'banana', 'grapes']\n"
     ]
    }
   ],
   "source": [
    "my_list = ['apple','mango','cherry','blackcurrent','banana','grapes']\n",
    "\n",
    "print(my_list)"
   ]
  },
  {
   "cell_type": "code",
   "execution_count": 14,
   "id": "4d145fc6",
   "metadata": {},
   "outputs": [
    {
     "name": "stdout",
     "output_type": "stream",
     "text": [
      "Yes, the elements present in list\n"
     ]
    }
   ],
   "source": [
    "my_list = ['apple','mango','cherry','blackcurrent','banana','grapes']\n",
    "\n",
    "if \"blackcurrent\" in my_list:\n",
    "    print(\"Yes, the elements present in list\")\n",
    "else:\n",
    "    print(\"No, the elements not present in list\")"
   ]
  },
  {
   "cell_type": "code",
   "execution_count": 17,
   "id": "71b68f7a",
   "metadata": {},
   "outputs": [
    {
     "ename": "IndentationError",
     "evalue": "expected an indented block after 'else' statement on line 5 (3574231271.py, line 6)",
     "output_type": "error",
     "traceback": [
      "\u001b[1;36m  Cell \u001b[1;32mIn[17], line 6\u001b[1;36m\u001b[0m\n\u001b[1;33m    print(\"No, the elements not present in list\")\u001b[0m\n\u001b[1;37m    ^\u001b[0m\n\u001b[1;31mIndentationError\u001b[0m\u001b[1;31m:\u001b[0m expected an indented block after 'else' statement on line 5\n"
     ]
    }
   ],
   "source": [
    "my_list = ['apple','mango','cherry','blackcurrent','banana','grapes']\n",
    "\n",
    "if \"blackcurrent\" in my_list:\n",
    "    print(\"Yes, the elements present in list\")\n",
    "else:\n",
    "print(\"No, the elements not present in list\")"
   ]
  },
  {
   "cell_type": "markdown",
   "id": "10eae0bc",
   "metadata": {},
   "source": [
    "## Python - Change List Item"
   ]
  },
  {
   "cell_type": "code",
   "execution_count": 18,
   "id": "f033a43e",
   "metadata": {},
   "outputs": [
    {
     "name": "stdout",
     "output_type": "stream",
     "text": [
      "['apple', 'watermelon', 'cherry', 'blackcurrent', 'banana', 'grapes']\n"
     ]
    }
   ],
   "source": [
    "my_list = ['apple','mango','cherry','blackcurrent','banana','grapes']\n",
    "\n",
    "my_list[1] = \"watermelon\"\n",
    "print(my_list)"
   ]
  },
  {
   "cell_type": "code",
   "execution_count": 19,
   "id": "85521fcf",
   "metadata": {},
   "outputs": [],
   "source": [
    "my_list = ['apple', 'watermelon', 'cherry', 'blackcurrent', 'banana', 'grapes']\n",
    "\n",
    "my_list[1:3] = ['Mango','peru']"
   ]
  },
  {
   "cell_type": "code",
   "execution_count": 20,
   "id": "6c7059bc",
   "metadata": {},
   "outputs": [
    {
     "name": "stdout",
     "output_type": "stream",
     "text": [
      "['apple', 'Mango', 'peru', 'blackcurrent', 'banana', 'grapes']\n"
     ]
    }
   ],
   "source": [
    "print(my_list)"
   ]
  },
  {
   "cell_type": "code",
   "execution_count": 21,
   "id": "e572362d",
   "metadata": {},
   "outputs": [],
   "source": [
    "my_list = ['apple', 'Mango', 'peru', 'blackcurrent', 'banana', 'grapes']\n",
    "\n",
    "my_list[1:3] = 'avacoda'"
   ]
  },
  {
   "cell_type": "code",
   "execution_count": 22,
   "id": "4f7bb8c2",
   "metadata": {},
   "outputs": [
    {
     "name": "stdout",
     "output_type": "stream",
     "text": [
      "['apple', 'a', 'v', 'a', 'c', 'o', 'd', 'a', 'blackcurrent', 'banana', 'grapes']\n"
     ]
    }
   ],
   "source": [
    "print(my_list)"
   ]
  },
  {
   "cell_type": "code",
   "execution_count": 23,
   "id": "89095068",
   "metadata": {},
   "outputs": [
    {
     "name": "stdout",
     "output_type": "stream",
     "text": [
      "['apple', 'avacoda', 'blackcurrent', 'banana', 'grapes']\n"
     ]
    }
   ],
   "source": [
    "my_list = ['apple', 'Mango', 'peru', 'blackcurrent', 'banana', 'grapes']\n",
    "\n",
    "my_list[1:3] = ['avacoda']\n",
    "print(my_list)"
   ]
  },
  {
   "cell_type": "markdown",
   "id": "ed91dfec",
   "metadata": {},
   "source": [
    "## Insert Method:\n",
    "    1. To insert a new elements in list, without replacing any existing value of list, we can used insert() method\n",
    "    2. Insert method insert an elements on specified position\n",
    "    3. Insert() method will required two positional arguments (indexed positon, values)"
   ]
  },
  {
   "cell_type": "code",
   "execution_count": 24,
   "id": "e1ee0f03",
   "metadata": {},
   "outputs": [],
   "source": [
    "my_list = ['apple', 'avacoda', 'blackcurrent', 'banana', 'grapes']\n",
    "\n",
    "my_list.insert(1,'mango')"
   ]
  },
  {
   "cell_type": "code",
   "execution_count": 25,
   "id": "b73e7379",
   "metadata": {},
   "outputs": [
    {
     "data": {
      "text/plain": [
       "['apple', 'mango', 'avacoda', 'blackcurrent', 'banana', 'grapes']"
      ]
     },
     "execution_count": 25,
     "metadata": {},
     "output_type": "execute_result"
    }
   ],
   "source": [
    "my_list"
   ]
  },
  {
   "cell_type": "markdown",
   "id": "cb6d8e91",
   "metadata": {},
   "source": [
    "## Append Method"
   ]
  },
  {
   "cell_type": "code",
   "execution_count": 26,
   "id": "b6183d03",
   "metadata": {},
   "outputs": [
    {
     "name": "stdout",
     "output_type": "stream",
     "text": [
      "['apple', 'avacoda', 'blackcurrent', 'banana', 'grapes', 'orange']\n"
     ]
    }
   ],
   "source": [
    "my_list = ['apple', 'avacoda', 'blackcurrent', 'banana', 'grapes']\n",
    "\n",
    "my_list.append(\"orange\")\n",
    "print(my_list)"
   ]
  },
  {
   "cell_type": "markdown",
   "id": "cc6d4f49",
   "metadata": {},
   "source": [
    "## Extend Method"
   ]
  },
  {
   "cell_type": "code",
   "execution_count": 27,
   "id": "57259c85",
   "metadata": {},
   "outputs": [
    {
     "name": "stdout",
     "output_type": "stream",
     "text": [
      "None\n"
     ]
    }
   ],
   "source": [
    "my_list_1 = ['apple', 'avacoda', 'blackcurrent', 'banana', 'grapes']\n",
    "my_list_2 = ['orange','watermelon','avacoda','peru']\n",
    "\n",
    "my_list_3 = my_list_1.extend(my_list_2)\n",
    "print(my_list_3)"
   ]
  },
  {
   "cell_type": "code",
   "execution_count": 29,
   "id": "24d30111",
   "metadata": {},
   "outputs": [
    {
     "name": "stdout",
     "output_type": "stream",
     "text": [
      "['apple', 'avacoda', 'blackcurrent', 'banana', 'grapes', 'orange', 'watermelon', 'avacoda', 'peru']\n"
     ]
    }
   ],
   "source": [
    "my_list_1 = ['apple', 'avacoda', 'blackcurrent', 'banana', 'grapes']\n",
    "my_list_2 = ['orange','watermelon','avacoda','peru']\n",
    "\n",
    "my_list_1.extend(my_list_2)\n",
    "print(my_list_1)"
   ]
  },
  {
   "cell_type": "code",
   "execution_count": 30,
   "id": "b297757a",
   "metadata": {},
   "outputs": [
    {
     "name": "stdout",
     "output_type": "stream",
     "text": [
      "['orange', 'watermelon', 'avacoda', 'peru', 'apple', 'avacoda', 'blackcurrent', 'banana', 'grapes']\n"
     ]
    }
   ],
   "source": [
    "my_list_1 = ['apple', 'avacoda', 'blackcurrent', 'banana', 'grapes']\n",
    "my_list_2 = ['orange','watermelon','avacoda','peru']\n",
    "\n",
    "my_list_2.extend(my_list_1)\n",
    "print(my_list_2)"
   ]
  },
  {
   "cell_type": "code",
   "execution_count": 31,
   "id": "4e752516",
   "metadata": {},
   "outputs": [
    {
     "name": "stdout",
     "output_type": "stream",
     "text": [
      "['apple', 'avacoda', 'blackcurrent', 'banana', 'grapes', 'orange', 'watermelon', 'avacoda', 'peru']\n"
     ]
    }
   ],
   "source": [
    "my_list_1 = ['apple', 'avacoda', 'blackcurrent', 'banana', 'grapes']\n",
    "my_tuple_1 = ('orange','watermelon','avacoda','peru')\n",
    "\n",
    "my_list_1.extend(my_tuple_1)\n",
    "print(my_list_1)"
   ]
  },
  {
   "cell_type": "markdown",
   "id": "e675e155",
   "metadata": {},
   "source": [
    "### Remove List Elements:\n",
    "    1. There are diffrent method to remove elements of list:\n",
    "        1. remove\n",
    "        2. pop\n",
    "        3. del\n",
    "        4. clear"
   ]
  },
  {
   "cell_type": "markdown",
   "id": "1b938864",
   "metadata": {},
   "source": [
    "### 1. Remove Method:\n",
    "    1. The Remove method removes the specified elements\n",
    "    1. If there are one elements with specified positon, remove method removes the elements of first position"
   ]
  },
  {
   "cell_type": "code",
   "execution_count": 32,
   "id": "90d669f3",
   "metadata": {},
   "outputs": [
    {
     "name": "stdout",
     "output_type": "stream",
     "text": [
      "['apple', 'avacoda', 'blackcurrent', 'banana']\n"
     ]
    }
   ],
   "source": [
    "my_list_1 = ['apple', 'avacoda', 'blackcurrent', 'banana', 'grapes']\n",
    "my_list_1.remove(\"grapes\")\n",
    "print(my_list_1)"
   ]
  },
  {
   "cell_type": "code",
   "execution_count": 33,
   "id": "7b711a8e",
   "metadata": {},
   "outputs": [
    {
     "name": "stdout",
     "output_type": "stream",
     "text": [
      "['avacoda', 'blackcurrent', 'banana', 'grapes', 'apple']\n"
     ]
    }
   ],
   "source": [
    "my_list_1 = ['apple', 'avacoda', 'blackcurrent', 'banana', 'grapes', 'apple']\n",
    "\n",
    "my_list_1.remove('apple')\n",
    "print(my_list_1)"
   ]
  },
  {
   "cell_type": "markdown",
   "id": "aba273bb",
   "metadata": {},
   "source": [
    "## 2. Pop Method:\n",
    "    1. The pop() method removes last elements of list\n",
    "    2. If you do not specify the index, the pop() method removes last elements of list\n",
    "    3. The pop() method delete specified elements of list"
   ]
  },
  {
   "cell_type": "code",
   "execution_count": 34,
   "id": "342dae14",
   "metadata": {},
   "outputs": [
    {
     "data": {
      "text/plain": [
       "'apple'"
      ]
     },
     "execution_count": 34,
     "metadata": {},
     "output_type": "execute_result"
    }
   ],
   "source": [
    "my_list_1 = ['apple', 'avacoda', 'blackcurrent', 'banana', 'grapes', 'apple']\n",
    "\n",
    "my_list_1.pop()"
   ]
  },
  {
   "cell_type": "code",
   "execution_count": 35,
   "id": "fb71a76d",
   "metadata": {},
   "outputs": [
    {
     "name": "stdout",
     "output_type": "stream",
     "text": [
      "['apple', 'avacoda', 'blackcurrent', 'banana', 'grapes']\n"
     ]
    }
   ],
   "source": [
    "print(my_list_1)"
   ]
  },
  {
   "cell_type": "code",
   "execution_count": 36,
   "id": "5184e086",
   "metadata": {},
   "outputs": [
    {
     "name": "stdout",
     "output_type": "stream",
     "text": [
      "['avacoda', 'blackcurrent', 'banana', 'grapes', 'apple']\n"
     ]
    }
   ],
   "source": [
    "my_list_1 = ['apple', 'avacoda', 'blackcurrent', 'banana', 'grapes', 'apple']\n",
    "\n",
    "my_list_1.pop(0)\n",
    "print(my_list_1)"
   ]
  },
  {
   "cell_type": "markdown",
   "id": "77723a97",
   "metadata": {},
   "source": [
    "## 3. Delete Keyword:\n",
    "    1. The delete keyword also removed specified position elements in list\n",
    "    2. The delete keyword also delete the entire list completly"
   ]
  },
  {
   "cell_type": "code",
   "execution_count": 37,
   "id": "8235e0cb",
   "metadata": {},
   "outputs": [
    {
     "name": "stdout",
     "output_type": "stream",
     "text": [
      "['avacoda', 'blackcurrent', 'banana', 'grapes', 'apple']\n"
     ]
    }
   ],
   "source": [
    "my_list_1 = ['apple', 'avacoda', 'blackcurrent', 'banana', 'grapes', 'apple']\n",
    "\n",
    "del my_list_1[0]\n",
    "print(my_list_1)"
   ]
  },
  {
   "cell_type": "code",
   "execution_count": 38,
   "id": "e8c50060",
   "metadata": {},
   "outputs": [
    {
     "name": "stdout",
     "output_type": "stream",
     "text": [
      "['grapes', 'apple']\n"
     ]
    }
   ],
   "source": [
    "my_list_1 = ['apple', 'avacoda', 'blackcurrent', 'banana', 'grapes', 'apple']\n",
    "\n",
    "del my_list_1[0:4]\n",
    "print(my_list_1)"
   ]
  },
  {
   "cell_type": "code",
   "execution_count": 39,
   "id": "22246bf9",
   "metadata": {},
   "outputs": [
    {
     "name": "stdout",
     "output_type": "stream",
     "text": [
      "['apple', 'avacoda', 'blackcurrent', 'apple']\n"
     ]
    }
   ],
   "source": [
    "my_list_1 = ['apple', 'avacoda', 'blackcurrent', 'banana', 'grapes', 'apple']\n",
    "\n",
    "del my_list_1[-3:-1]\n",
    "print(my_list_1)"
   ]
  },
  {
   "cell_type": "code",
   "execution_count": 40,
   "id": "2c3d27fb",
   "metadata": {},
   "outputs": [
    {
     "name": "stdout",
     "output_type": "stream",
     "text": [
      "['apple', 'avacoda', 'blackcurrent']\n"
     ]
    }
   ],
   "source": [
    "my_list_1 = ['apple', 'avacoda', 'blackcurrent', 'banana', 'grapes', 'apple']\n",
    "\n",
    "del my_list_1[-3:]\n",
    "print(my_list_1)"
   ]
  },
  {
   "cell_type": "code",
   "execution_count": 41,
   "id": "1224de08",
   "metadata": {},
   "outputs": [],
   "source": [
    "my_list_1 = ['apple', 'avacoda', 'blackcurrent', 'banana', 'grapes', 'apple']\n",
    "\n",
    "del my_list_1"
   ]
  },
  {
   "cell_type": "code",
   "execution_count": 42,
   "id": "a0967312",
   "metadata": {},
   "outputs": [
    {
     "ename": "NameError",
     "evalue": "name 'my_list_1' is not defined",
     "output_type": "error",
     "traceback": [
      "\u001b[1;31m---------------------------------------------------------------------------\u001b[0m",
      "\u001b[1;31mNameError\u001b[0m                                 Traceback (most recent call last)",
      "Cell \u001b[1;32mIn[42], line 1\u001b[0m\n\u001b[1;32m----> 1\u001b[0m \u001b[38;5;28mprint\u001b[39m(my_list_1)\n",
      "\u001b[1;31mNameError\u001b[0m: name 'my_list_1' is not defined"
     ]
    }
   ],
   "source": [
    "print(my_list_1)"
   ]
  },
  {
   "cell_type": "markdown",
   "id": "32994493",
   "metadata": {},
   "source": [
    "## Clear Method"
   ]
  },
  {
   "cell_type": "code",
   "execution_count": 43,
   "id": "80fa148c",
   "metadata": {},
   "outputs": [],
   "source": [
    "my_list_1 = ['apple', 'avacoda', 'blackcurrent', 'banana', 'grapes', 'apple']\n",
    "\n",
    "my_list_1.clear()"
   ]
  },
  {
   "cell_type": "code",
   "execution_count": 44,
   "id": "9f495cf2",
   "metadata": {},
   "outputs": [
    {
     "data": {
      "text/plain": [
       "[]"
      ]
     },
     "execution_count": 44,
     "metadata": {},
     "output_type": "execute_result"
    }
   ],
   "source": [
    "my_list_1"
   ]
  },
  {
   "cell_type": "code",
   "execution_count": null,
   "id": "9917f8f1",
   "metadata": {},
   "outputs": [],
   "source": []
  }
 ],
 "metadata": {
  "kernelspec": {
   "display_name": "Python 3 (ipykernel)",
   "language": "python",
   "name": "python3"
  },
  "language_info": {
   "codemirror_mode": {
    "name": "ipython",
    "version": 3
   },
   "file_extension": ".py",
   "mimetype": "text/x-python",
   "name": "python",
   "nbconvert_exporter": "python",
   "pygments_lexer": "ipython3",
   "version": "3.11.5"
  }
 },
 "nbformat": 4,
 "nbformat_minor": 5
}
