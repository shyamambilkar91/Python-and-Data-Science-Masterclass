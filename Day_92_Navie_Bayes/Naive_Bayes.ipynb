{
 "cells": [
  {
   "cell_type": "markdown",
   "id": "8bacec03",
   "metadata": {},
   "source": [
    "# Game Predictiion using Naive_Bayes"
   ]
  },
  {
   "cell_type": "code",
   "execution_count": 1,
   "id": "07f7bad9",
   "metadata": {},
   "outputs": [],
   "source": [
    "import pandas as pd\n",
    "import numpy as np"
   ]
  },
  {
   "cell_type": "code",
   "execution_count": 2,
   "id": "4e9c0922",
   "metadata": {},
   "outputs": [],
   "source": [
    "df = pd.read_csv('data.csv')"
   ]
  },
  {
   "cell_type": "code",
   "execution_count": 3,
   "id": "62af5301",
   "metadata": {},
   "outputs": [
    {
     "data": {
      "text/html": [
       "<div>\n",
       "<style scoped>\n",
       "    .dataframe tbody tr th:only-of-type {\n",
       "        vertical-align: middle;\n",
       "    }\n",
       "\n",
       "    .dataframe tbody tr th {\n",
       "        vertical-align: top;\n",
       "    }\n",
       "\n",
       "    .dataframe thead th {\n",
       "        text-align: right;\n",
       "    }\n",
       "</style>\n",
       "<table border=\"1\" class=\"dataframe\">\n",
       "  <thead>\n",
       "    <tr style=\"text-align: right;\">\n",
       "      <th></th>\n",
       "      <th>Day</th>\n",
       "      <th>Outlook</th>\n",
       "      <th>Humadity</th>\n",
       "      <th>Wind</th>\n",
       "      <th>Play</th>\n",
       "    </tr>\n",
       "  </thead>\n",
       "  <tbody>\n",
       "    <tr>\n",
       "      <th>0</th>\n",
       "      <td>1</td>\n",
       "      <td>sunny</td>\n",
       "      <td>High</td>\n",
       "      <td>weak</td>\n",
       "      <td>No</td>\n",
       "    </tr>\n",
       "    <tr>\n",
       "      <th>1</th>\n",
       "      <td>2</td>\n",
       "      <td>sunny</td>\n",
       "      <td>High</td>\n",
       "      <td>strong</td>\n",
       "      <td>No</td>\n",
       "    </tr>\n",
       "    <tr>\n",
       "      <th>2</th>\n",
       "      <td>3</td>\n",
       "      <td>Overcast</td>\n",
       "      <td>High</td>\n",
       "      <td>weak</td>\n",
       "      <td>Yes</td>\n",
       "    </tr>\n",
       "    <tr>\n",
       "      <th>3</th>\n",
       "      <td>4</td>\n",
       "      <td>Rain</td>\n",
       "      <td>High</td>\n",
       "      <td>weak</td>\n",
       "      <td>Yes</td>\n",
       "    </tr>\n",
       "    <tr>\n",
       "      <th>4</th>\n",
       "      <td>5</td>\n",
       "      <td>Rain</td>\n",
       "      <td>Normal</td>\n",
       "      <td>weak</td>\n",
       "      <td>Yes</td>\n",
       "    </tr>\n",
       "    <tr>\n",
       "      <th>5</th>\n",
       "      <td>6</td>\n",
       "      <td>Rain</td>\n",
       "      <td>Normal</td>\n",
       "      <td>strong</td>\n",
       "      <td>No</td>\n",
       "    </tr>\n",
       "    <tr>\n",
       "      <th>6</th>\n",
       "      <td>7</td>\n",
       "      <td>Overcast</td>\n",
       "      <td>Normal</td>\n",
       "      <td>strong</td>\n",
       "      <td>Yes</td>\n",
       "    </tr>\n",
       "    <tr>\n",
       "      <th>7</th>\n",
       "      <td>8</td>\n",
       "      <td>sunny</td>\n",
       "      <td>High</td>\n",
       "      <td>weak</td>\n",
       "      <td>No</td>\n",
       "    </tr>\n",
       "    <tr>\n",
       "      <th>8</th>\n",
       "      <td>9</td>\n",
       "      <td>sunny</td>\n",
       "      <td>Normal</td>\n",
       "      <td>weak</td>\n",
       "      <td>Yes</td>\n",
       "    </tr>\n",
       "    <tr>\n",
       "      <th>9</th>\n",
       "      <td>10</td>\n",
       "      <td>Rain</td>\n",
       "      <td>Normal</td>\n",
       "      <td>weak</td>\n",
       "      <td>Yes</td>\n",
       "    </tr>\n",
       "    <tr>\n",
       "      <th>10</th>\n",
       "      <td>11</td>\n",
       "      <td>sunny</td>\n",
       "      <td>Normal</td>\n",
       "      <td>strong</td>\n",
       "      <td>Yes</td>\n",
       "    </tr>\n",
       "    <tr>\n",
       "      <th>11</th>\n",
       "      <td>12</td>\n",
       "      <td>Overcast</td>\n",
       "      <td>High</td>\n",
       "      <td>strong</td>\n",
       "      <td>Yes</td>\n",
       "    </tr>\n",
       "    <tr>\n",
       "      <th>12</th>\n",
       "      <td>13</td>\n",
       "      <td>Overcast</td>\n",
       "      <td>Normal</td>\n",
       "      <td>weak</td>\n",
       "      <td>Yes</td>\n",
       "    </tr>\n",
       "    <tr>\n",
       "      <th>13</th>\n",
       "      <td>14</td>\n",
       "      <td>Rain</td>\n",
       "      <td>High</td>\n",
       "      <td>strong</td>\n",
       "      <td>No</td>\n",
       "    </tr>\n",
       "  </tbody>\n",
       "</table>\n",
       "</div>"
      ],
      "text/plain": [
       "    Day   Outlook Humadity    Wind Play\n",
       "0     1     sunny     High    weak   No\n",
       "1     2     sunny     High  strong   No\n",
       "2     3  Overcast     High    weak  Yes\n",
       "3     4      Rain     High    weak  Yes\n",
       "4     5      Rain   Normal    weak  Yes\n",
       "5     6      Rain   Normal  strong   No\n",
       "6     7  Overcast   Normal  strong  Yes\n",
       "7     8     sunny     High    weak   No\n",
       "8     9     sunny   Normal    weak  Yes\n",
       "9    10      Rain   Normal    weak  Yes\n",
       "10   11     sunny   Normal  strong  Yes\n",
       "11   12  Overcast     High  strong  Yes\n",
       "12   13  Overcast   Normal    weak  Yes\n",
       "13   14      Rain     High  strong   No"
      ]
     },
     "execution_count": 3,
     "metadata": {},
     "output_type": "execute_result"
    }
   ],
   "source": [
    "df"
   ]
  },
  {
   "cell_type": "code",
   "execution_count": 4,
   "id": "4dc057c6",
   "metadata": {},
   "outputs": [
    {
     "data": {
      "text/plain": [
       "array(['sunny', 'Overcast', 'Rain'], dtype=object)"
      ]
     },
     "execution_count": 4,
     "metadata": {},
     "output_type": "execute_result"
    }
   ],
   "source": [
    "df['Outlook'].unique()"
   ]
  },
  {
   "cell_type": "code",
   "execution_count": 5,
   "id": "cdd7c283",
   "metadata": {},
   "outputs": [
    {
     "data": {
      "text/plain": [
       "array(['High', 'Normal'], dtype=object)"
      ]
     },
     "execution_count": 5,
     "metadata": {},
     "output_type": "execute_result"
    }
   ],
   "source": [
    "df['Humadity'].unique()"
   ]
  },
  {
   "cell_type": "code",
   "execution_count": 6,
   "id": "09cb05ee",
   "metadata": {},
   "outputs": [
    {
     "data": {
      "text/plain": [
       "array(['weak', 'strong'], dtype=object)"
      ]
     },
     "execution_count": 6,
     "metadata": {},
     "output_type": "execute_result"
    }
   ],
   "source": [
    "df['Wind'].unique()"
   ]
  },
  {
   "cell_type": "raw",
   "id": "6fda17dd",
   "metadata": {},
   "source": [
    "P[yes] = 10\n",
    "P[NO] = 4"
   ]
  },
  {
   "cell_type": "markdown",
   "id": "da24e918",
   "metadata": {},
   "source": [
    "### P(H | E) = P(E | H) * P(H) / P(E)"
   ]
  },
  {
   "cell_type": "markdown",
   "id": "458ad3f1",
   "metadata": {},
   "source": [
    "### Step 1: Frequency Table"
   ]
  },
  {
   "cell_type": "markdown",
   "id": "567c8c21",
   "metadata": {},
   "source": [
    "### Step 2 : Likelihood Table"
   ]
  },
  {
   "cell_type": "raw",
   "id": "77ba7e71",
   "metadata": {},
   "source": [
    "P(E | H) = P(SUNNY | YES) = 3/10 = 0.3\n",
    "\n",
    "P(H) = P(SUNNY) = 5/14 = 0.35\n",
    "\n",
    "P(E) = P(YES) = 10/14 = 0.71\n"
   ]
  },
  {
   "cell_type": "markdown",
   "id": "a5e8b7a7",
   "metadata": {},
   "source": [
    "#### Likelihood of Yes given Sunny is "
   ]
  },
  {
   "cell_type": "raw",
   "id": "c8a911fd",
   "metadata": {},
   "source": [
    "P(YES | SUNNY) = P(SUNNY | YES) * P(YES) / P(SUNNY)\n",
    "               = (0.3) * (0.71) / 0.35 \n",
    "               = 0.60"
   ]
  },
  {
   "cell_type": "markdown",
   "id": "73b2158b",
   "metadata": {},
   "source": [
    "### Likelihood of No given Sunny is "
   ]
  },
  {
   "cell_type": "raw",
   "id": "d9529077",
   "metadata": {},
   "source": [
    "P(E | H) = P(SUNNY | NO) = 2/4 = 0.5\n",
    "\n",
    "P(H) = P(SUNNY) = 5/14 = 0.35\n",
    "\n",
    "P(E) = P(NO) = 10/14 = 0.28"
   ]
  },
  {
   "cell_type": "code",
   "execution_count": null,
   "id": "48fc04c6",
   "metadata": {},
   "outputs": [],
   "source": [
    "P(YES | SUNNY) = P(SUNNY | NO) * P(NO) / P(SUNNY)\n",
    "               = (0.5) * (0.28) / 0.35 \n",
    "               = 0.40"
   ]
  },
  {
   "cell_type": "code",
   "execution_count": 9,
   "id": "20195cb1",
   "metadata": {},
   "outputs": [
    {
     "data": {
      "text/plain": [
       "1.0"
      ]
     },
     "execution_count": 9,
     "metadata": {},
     "output_type": "execute_result"
    }
   ],
   "source": [
    "0.60 + 0.40"
   ]
  },
  {
   "cell_type": "markdown",
   "id": "05c89ba7",
   "metadata": {},
   "source": [
    "### Suppose we have a Day with the following condition "
   ]
  },
  {
   "cell_type": "markdown",
   "id": "c88a9766",
   "metadata": {},
   "source": [
    "1. Outlook = Rain\n",
    "2. Humadity = High\n",
    "3. Wind = Weak\n",
    "4. Play = ?"
   ]
  },
  {
   "cell_type": "markdown",
   "id": "165aaa57",
   "metadata": {},
   "source": [
    "### Step 1 : Likelihood Table - Humadity"
   ]
  },
  {
   "cell_type": "raw",
   "id": "e6cd6b44",
   "metadata": {},
   "source": [
    "P(E | H) = P(HIGH | YES) = 4/10 = 0.4\n",
    "\n",
    "P(H) = P(HIGH) = 7/14 = 0.5\n",
    "\n",
    "P(E) = P(YES) = 10/14 = 0.71"
   ]
  },
  {
   "cell_type": "raw",
   "id": "f1010baf",
   "metadata": {},
   "source": [
    "P(E | H) = P(HIGH | NO) = 3/4 = 0.75\n",
    "\n",
    "P(H) = P(HIGH) = 7/14 = 0.5\n",
    "\n",
    "P(E) = P(N0) = 10/14 = 0.28"
   ]
  },
  {
   "cell_type": "code",
   "execution_count": null,
   "id": "41b4d893",
   "metadata": {},
   "outputs": [],
   "source": [
    "P(YES | HIGH) = P(HIGH | YES) * P(YES) / P(HIGH)\n",
    "               = (0.4) * (0.71) / 0.5\n",
    "               = 0.56"
   ]
  },
  {
   "cell_type": "raw",
   "id": "86bbd232",
   "metadata": {},
   "source": [
    "P(NO | HIGH) = P(HIGH | NO) * P(NO) / P(HIGH)\n",
    "               = (0.75) * (0.28) / 0.5\n",
    "               = 0.44"
   ]
  },
  {
   "cell_type": "markdown",
   "id": "a2840bc5",
   "metadata": {},
   "source": [
    "## Step 2 : Likelihood Table - Wind"
   ]
  },
  {
   "cell_type": "code",
   "execution_count": null,
   "id": "9f5d6c61",
   "metadata": {},
   "outputs": [],
   "source": [
    "P(YES | STRONG) = P(STRONG | YES) * P(YES) / P(STRONG)\n",
    "               = (0.3) * (0.71) / 0.42\n",
    "               = 0."
   ]
  },
  {
   "cell_type": "code",
   "execution_count": 7,
   "id": "f16c883e",
   "metadata": {},
   "outputs": [
    {
     "data": {
      "text/plain": [
       "0.5071428571428571"
      ]
     },
     "execution_count": 7,
     "metadata": {},
     "output_type": "execute_result"
    }
   ],
   "source": [
    "(0.3) * (0.71) / 0.42"
   ]
  },
  {
   "cell_type": "code",
   "execution_count": null,
   "id": "be5c8568",
   "metadata": {},
   "outputs": [],
   "source": [
    "P(NO | STRONG) = P(STRONG | NO) * P(NO) / P(STRONG)\n",
    "               = (0.75) * (0.28) / 0.42\n",
    "               = 0."
   ]
  },
  {
   "cell_type": "code",
   "execution_count": 8,
   "id": "44d3541c",
   "metadata": {},
   "outputs": [
    {
     "data": {
      "text/plain": [
       "0.5000000000000001"
      ]
     },
     "execution_count": 8,
     "metadata": {},
     "output_type": "execute_result"
    }
   ],
   "source": [
    "(0.75) * (0.28) / 0.42"
   ]
  },
  {
   "cell_type": "markdown",
   "id": "ab2fc54e",
   "metadata": {},
   "source": [
    "1. Outlook = Rain\n",
    "2. Humadity = High\n",
    "3. Wind = Weak\n",
    "4. Play = ?"
   ]
  },
  {
   "cell_type": "raw",
   "id": "bdf21389",
   "metadata": {},
   "source": [
    "= P(RAIN | YES) * P(HIGH | YES) * P(WEAK | YES) * P(YES)\n",
    "\n",
    "= 3/10 * 4/10 * 7/10 * 10/14\n",
    "= 0.3 * 0.4 * 0.7 * 0.71"
   ]
  },
  {
   "cell_type": "code",
   "execution_count": 12,
   "id": "a9dcb753",
   "metadata": {},
   "outputs": [
    {
     "data": {
      "text/plain": [
       "0.05963999999999999"
      ]
     },
     "execution_count": 12,
     "metadata": {},
     "output_type": "execute_result"
    }
   ],
   "source": [
    "0.3 * 0.4 * 0.7 * 0.71"
   ]
  },
  {
   "cell_type": "raw",
   "id": "a00b4045",
   "metadata": {},
   "source": [
    "= P(RAIN | NO) * P(HIGH | NO) * P(WEAK | NO) * P(NO)\n",
    "= 2/4 * 3/4 * 1/4 * 4/14\n",
    "= 0.5 * 0.75 * 0.25 * 0.28"
   ]
  },
  {
   "cell_type": "code",
   "execution_count": 13,
   "id": "1df0d5aa",
   "metadata": {},
   "outputs": [
    {
     "data": {
      "text/plain": [
       "0.026250000000000002"
      ]
     },
     "execution_count": 13,
     "metadata": {},
     "output_type": "execute_result"
    }
   ],
   "source": [
    "0.5 * 0.75 * 0.25 * 0.28"
   ]
  },
  {
   "cell_type": "markdown",
   "id": "04ee31cf",
   "metadata": {},
   "source": [
    "### We Normalize the value"
   ]
  },
  {
   "cell_type": "raw",
   "id": "39de17a5",
   "metadata": {},
   "source": [
    "P(YES) = P(YES) / P(YES) + P(NO)\n",
    "P(YES) = 0.05963999999999999 / (0.05963999999999999 + 0.026250000000000002)\n",
    "P(YES) = 0.6943765281173594"
   ]
  },
  {
   "cell_type": "code",
   "execution_count": 14,
   "id": "169aa31f",
   "metadata": {},
   "outputs": [
    {
     "data": {
      "text/plain": [
       "0.6943765281173594"
      ]
     },
     "execution_count": 14,
     "metadata": {},
     "output_type": "execute_result"
    }
   ],
   "source": [
    "0.05963999999999999 / (0.05963999999999999 + 0.026250000000000002)"
   ]
  },
  {
   "cell_type": "raw",
   "id": "78ede2aa",
   "metadata": {},
   "source": [
    "P(NO) = P(NO) / P(NO) + P(YES)\n",
    "P(NO) = 0.026250000000000002 / (0.05963999999999999 + 0.026250000000000002)\n",
    "P(NO) = 0.30562347188264066"
   ]
  },
  {
   "cell_type": "code",
   "execution_count": 15,
   "id": "976920e1",
   "metadata": {},
   "outputs": [
    {
     "data": {
      "text/plain": [
       "0.30562347188264066"
      ]
     },
     "execution_count": 15,
     "metadata": {},
     "output_type": "execute_result"
    }
   ],
   "source": [
    "0.026250000000000002 / (0.05963999999999999 + 0.026250000000000002)"
   ]
  },
  {
   "cell_type": "code",
   "execution_count": 16,
   "id": "ff88c776",
   "metadata": {},
   "outputs": [
    {
     "data": {
      "text/plain": [
       "1.0"
      ]
     },
     "execution_count": 16,
     "metadata": {},
     "output_type": "execute_result"
    }
   ],
   "source": [
    "0.30562347188264066 + 0.6943765281173594"
   ]
  },
  {
   "cell_type": "markdown",
   "id": "7c25d7ab",
   "metadata": {},
   "source": [
    "## Naive Bayes in Industry"
   ]
  },
  {
   "cell_type": "markdown",
   "id": "2a75f876",
   "metadata": {},
   "source": [
    "1. News Categorization\n",
    "2. Spam Filtering\n",
    "3. Medical Dignosis\n",
    "4. Weather Prediction"
   ]
  },
  {
   "cell_type": "code",
   "execution_count": null,
   "id": "078438b0",
   "metadata": {},
   "outputs": [],
   "source": []
  }
 ],
 "metadata": {
  "kernelspec": {
   "display_name": "Python 3 (ipykernel)",
   "language": "python",
   "name": "python3"
  },
  "language_info": {
   "codemirror_mode": {
    "name": "ipython",
    "version": 3
   },
   "file_extension": ".py",
   "mimetype": "text/x-python",
   "name": "python",
   "nbconvert_exporter": "python",
   "pygments_lexer": "ipython3",
   "version": "3.11.5"
  }
 },
 "nbformat": 4,
 "nbformat_minor": 5
}
