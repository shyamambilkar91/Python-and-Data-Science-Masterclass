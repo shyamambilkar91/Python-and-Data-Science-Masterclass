{
 "cells": [
  {
   "cell_type": "markdown",
   "id": "3539b7a4",
   "metadata": {},
   "source": [
    "# Generators"
   ]
  },
  {
   "cell_type": "markdown",
   "id": "879d88d5",
   "metadata": {},
   "source": [
    "1. A Generator in Python is a function that returns an iterator using the **yeild** keyword.\n",
    "2. A Generator function in Python is defined like a normal function, but whenever it needs to generate values\n",
    "3. It does so with the yeild keyword rather the return.\n",
    "4. If the body of a def contains yeild, the function automatically becomes a Python generator function"
   ]
  },
  {
   "cell_type": "markdown",
   "id": "707a1496",
   "metadata": {},
   "source": [
    "### Create a Generator in Python"
   ]
  },
  {
   "cell_type": "code",
   "execution_count": 3,
   "id": "4eaab977",
   "metadata": {},
   "outputs": [],
   "source": [
    "def function_name():\n",
    "    # yeild statement\n",
    "    pass"
   ]
  },
  {
   "cell_type": "code",
   "execution_count": 4,
   "id": "f86f99e9",
   "metadata": {},
   "outputs": [
    {
     "name": "stdout",
     "output_type": "stream",
     "text": [
      "1\n",
      "2\n",
      "3\n"
     ]
    }
   ],
   "source": [
    "def simpleGeneratorFun():\n",
    "    yield 1\n",
    "    yield 2\n",
    "    yield 3\n",
    "    \n",
    "for value in simpleGeneratorFun():\n",
    "    print(value)"
   ]
  },
  {
   "cell_type": "markdown",
   "id": "69efd327",
   "metadata": {},
   "source": [
    "### Generator Object"
   ]
  },
  {
   "cell_type": "markdown",
   "id": "4ef214cd",
   "metadata": {},
   "source": [
    "1. Python Generator function return a generator object that is itrable\n",
    "2. "
   ]
  },
  {
   "cell_type": "code",
   "execution_count": 5,
   "id": "6d5ece87",
   "metadata": {},
   "outputs": [
    {
     "name": "stdout",
     "output_type": "stream",
     "text": [
      "1\n",
      "2\n",
      "3\n"
     ]
    }
   ],
   "source": [
    "def simpleGeneratorFun():\n",
    "    yield 1\n",
    "    yield 2\n",
    "    yield 3\n",
    "    \n",
    "x = simpleGeneratorFun()\n",
    "\n",
    "# Iterating over the generator object  using next \n",
    "\n",
    "print(next(x))\n",
    "print(next(x))\n",
    "print(next(x))"
   ]
  },
  {
   "cell_type": "code",
   "execution_count": 7,
   "id": "5b733271",
   "metadata": {},
   "outputs": [
    {
     "name": "stdout",
     "output_type": "stream",
     "text": [
      "0\n",
      "1\n",
      "1\n",
      "2\n",
      "3\n",
      "\n",
      " Using for in loop\n",
      "0\n",
      "1\n",
      "1\n",
      "2\n",
      "3\n"
     ]
    }
   ],
   "source": [
    "def fib(limit):\n",
    "    \n",
    "    # Intialize first two Fibonacci Numbers\n",
    "    a, b = 0, 1\n",
    "    \n",
    "    #one by one yield next Fibonacci Numbers\n",
    "    while a < limit:\n",
    "        yield a\n",
    "        \n",
    "        a, b = b, a + b\n",
    "        \n",
    "# Create a Generator object\n",
    "x = fib(5)\n",
    "\n",
    "print(next(x))\n",
    "print(next(x))\n",
    "print(next(x))\n",
    "print(next(x))\n",
    "print(next(x))\n",
    "\n",
    "print(\"\\n Using for in loop\")\n",
    "for i in fib(5):\n",
    "    print(i)"
   ]
  },
  {
   "cell_type": "code",
   "execution_count": 8,
   "id": "a3e3f57d",
   "metadata": {},
   "outputs": [
    {
     "name": "stdout",
     "output_type": "stream",
     "text": [
      "0\n",
      "10\n",
      "20\n"
     ]
    }
   ],
   "source": [
    "generator_exp = (i * 5 for i in range(5) if i % 2 == 0)\n",
    "\n",
    "for i in generator_exp:\n",
    "    print(i)"
   ]
  },
  {
   "cell_type": "code",
   "execution_count": 12,
   "id": "932510b0",
   "metadata": {},
   "outputs": [
    {
     "name": "stdout",
     "output_type": "stream",
     "text": [
      "1\n",
      "2\n",
      "3\n",
      "4\n"
     ]
    }
   ],
   "source": [
    "def my_generator(num):\n",
    "    # Initalize counter\n",
    "    value = 1\n",
    "    \n",
    "    # Loop untill counter is less than num\n",
    "    while value < num:\n",
    "        \n",
    "        # Produce the current valur of the counter\n",
    "        yield value\n",
    "        \n",
    "        # increment the counter\n",
    "        value = value + 1\n",
    "        \n",
    "for value in my_generator(5):\n",
    "    print(value)\n",
    "        "
   ]
  },
  {
   "cell_type": "markdown",
   "id": "32003445",
   "metadata": {},
   "source": [
    "1. Numpy - Mathematical Calculation \n",
    "2. Pandas - Data Preprocess\n",
    "3. Matplotlib - \n",
    "4. Seaborn \n",
    "5. scikit - learn\n",
    "6. ML Prerequisite - Statistics"
   ]
  },
  {
   "cell_type": "code",
   "execution_count": 13,
   "id": "5a6b0371",
   "metadata": {},
   "outputs": [
    {
     "data": {
      "text/plain": [
       "10"
      ]
     },
     "execution_count": 13,
     "metadata": {},
     "output_type": "execute_result"
    }
   ],
   "source": [
    "lst= [10,20,100]\n",
    "min(lst)"
   ]
  },
  {
   "cell_type": "code",
   "execution_count": 14,
   "id": "4b59ed9e",
   "metadata": {},
   "outputs": [
    {
     "data": {
      "text/plain": [
       "100"
      ]
     },
     "execution_count": 14,
     "metadata": {},
     "output_type": "execute_result"
    }
   ],
   "source": [
    "max(lst)"
   ]
  },
  {
   "cell_type": "code",
   "execution_count": 15,
   "id": "a755ae37",
   "metadata": {},
   "outputs": [],
   "source": [
    "import math"
   ]
  },
  {
   "cell_type": "code",
   "execution_count": 20,
   "id": "ba6db289",
   "metadata": {},
   "outputs": [
    {
     "name": "stdout",
     "output_type": "stream",
     "text": [
      "[130, 130, 130]\n"
     ]
    }
   ],
   "source": [
    "lst= [10,20,100]\n",
    "\n",
    "output = []\n",
    "\n",
    "for i in lst:\n",
    "    output.append(sum(lst))\n",
    "    \n",
    "print(output)"
   ]
  },
  {
   "cell_type": "code",
   "execution_count": 22,
   "id": "7f0b2d2c",
   "metadata": {},
   "outputs": [
    {
     "name": "stdout",
     "output_type": "stream",
     "text": [
      "40.0\n"
     ]
    }
   ],
   "source": [
    "x = 10 + 10 + 100\n",
    "y = x / 3\n",
    "print(y)"
   ]
  },
  {
   "cell_type": "code",
   "execution_count": 23,
   "id": "e985964a",
   "metadata": {},
   "outputs": [],
   "source": [
    "import numpy as np"
   ]
  },
  {
   "cell_type": "code",
   "execution_count": 24,
   "id": "a7739f6e",
   "metadata": {},
   "outputs": [
    {
     "data": {
      "text/plain": [
       "40.27681991198191"
      ]
     },
     "execution_count": 24,
     "metadata": {},
     "output_type": "execute_result"
    }
   ],
   "source": [
    "np.std(lst)"
   ]
  },
  {
   "cell_type": "code",
   "execution_count": 25,
   "id": "4aa83b4a",
   "metadata": {},
   "outputs": [
    {
     "data": {
      "text/plain": [
       "43.333333333333336"
      ]
     },
     "execution_count": 25,
     "metadata": {},
     "output_type": "execute_result"
    }
   ],
   "source": [
    "np.mean(lst)"
   ]
  },
  {
   "cell_type": "code",
   "execution_count": null,
   "id": "54b42d9f",
   "metadata": {},
   "outputs": [],
   "source": []
  }
 ],
 "metadata": {
  "kernelspec": {
   "display_name": "Python 3 (ipykernel)",
   "language": "python",
   "name": "python3"
  },
  "language_info": {
   "codemirror_mode": {
    "name": "ipython",
    "version": 3
   },
   "file_extension": ".py",
   "mimetype": "text/x-python",
   "name": "python",
   "nbconvert_exporter": "python",
   "pygments_lexer": "ipython3",
   "version": "3.11.5"
  }
 },
 "nbformat": 4,
 "nbformat_minor": 5
}
