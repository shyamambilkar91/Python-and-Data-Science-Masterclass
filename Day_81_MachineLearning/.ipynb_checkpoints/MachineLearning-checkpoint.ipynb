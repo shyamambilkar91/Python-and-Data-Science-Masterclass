{
 "cells": [
  {
   "cell_type": "markdown",
   "id": "5352a464",
   "metadata": {},
   "source": [
    "# Machine Learning"
   ]
  },
  {
   "cell_type": "markdown",
   "id": "8b4efa37",
   "metadata": {},
   "source": [
    "1. Machine Learning is sub branch (subset) of Artificial Intelligence\n",
    "2. It is focuses mainly on the designing of a system thereby allowing them learn\n",
    "3. Make prediction based on some experiences which is data in case of Machine Learning\n",
    "4. Machine learning is the study making machine more like humans:\n",
    "    1. Behaviour and Decision their program by with explicity and program\n",
    "5. Machine learning can be perform on:\n",
    "    1. Training Data\n",
    "    2. Testing Data"
   ]
  },
  {
   "cell_type": "markdown",
   "id": "f73a81d2",
   "metadata": {},
   "source": [
    "![](https://www.corpnce.com/wp-content/uploads/2020/05/How-Does-Machine-Learning-Work.png)"
   ]
  },
  {
   "cell_type": "markdown",
   "id": "7c3ff7f9",
   "metadata": {},
   "source": [
    "## 1. How Does Machine Learning Works ?"
   ]
  },
  {
   "cell_type": "markdown",
   "id": "f955c91f",
   "metadata": {},
   "source": [
    "![](https://static.javatpoint.com/tutorial/machine-learning/images/how-does-machine-learning-work.png)"
   ]
  },
  {
   "cell_type": "markdown",
   "id": "a8f0cc54",
   "metadata": {},
   "source": [
    "## There are different types of Machine Learning"
   ]
  },
  {
   "cell_type": "markdown",
   "id": "272673e1",
   "metadata": {},
   "source": [
    "1. Supervised Machine Learning \n",
    "2. Unsupervised Machine Learning\n",
    "3. Reinforcement Machine Learning"
   ]
  },
  {
   "cell_type": "markdown",
   "id": "23fd9f21",
   "metadata": {},
   "source": [
    "## 1. Supervised Machine Learning Algorithm"
   ]
  },
  {
   "cell_type": "markdown",
   "id": "c21e0718",
   "metadata": {},
   "source": [
    "1. Supevised machine Learning Algorithm is input variable [X] and output variable [Y]\n",
    "2. Supervised Machine algorithm to learning mapping function from input to output [ y = fx ]\n",
    "3. Goal is to approriate function so well that the whenever new data (input X) good output predicted variable\n",
    "4. Example:\n",
    "    1. Fruits Data\n",
    "    2. Animal Data\n",
    "    3. Sales Data\n",
    "    4. Petrol Price\n",
    "5. There are two diffrent types of Supervised machine learning algorithm:\n",
    "    1. Regression\n",
    "    2. Classification"
   ]
  },
  {
   "cell_type": "markdown",
   "id": "3ab3e31a",
   "metadata": {},
   "source": [
    "![](https://media.geeksforgeeks.org/wp-content/uploads/20231121154747/Supervised-learning.png)"
   ]
  },
  {
   "cell_type": "markdown",
   "id": "a8b67ed5",
   "metadata": {},
   "source": [
    "### 1. Regression Algorithm"
   ]
  },
  {
   "cell_type": "markdown",
   "id": "83dc414d",
   "metadata": {},
   "source": [
    "1. Linear Regression:\n",
    "    1. Simple Linear Regression\n",
    "    2. Multiple Linear Regression\n",
    "2. Logistic Regression\n",
    "3. Ridge Regression\n",
    "4. Lasso Regression"
   ]
  },
  {
   "cell_type": "markdown",
   "id": "f7c680a5",
   "metadata": {},
   "source": [
    "### 2. Classification Algorithm:"
   ]
  },
  {
   "cell_type": "markdown",
   "id": "7378954c",
   "metadata": {},
   "source": [
    "1. Logistic Regression\n",
    "2. Navie Bayes [NB]\n",
    "3. Support Vector Machine [SVM]\n",
    "4. Decision Tree [DT]\n",
    "5. Random Forest \n",
    "6. K-Nearest Neighbor"
   ]
  },
  {
   "cell_type": "markdown",
   "id": "c5bac04d",
   "metadata": {},
   "source": [
    "# 2. Unsupervised Machine Learning Algorithm"
   ]
  },
  {
   "cell_type": "markdown",
   "id": "24c7dcfa",
   "metadata": {},
   "source": [
    "1. Unsupervised Machine Learning algorithm only have input variable [X] and no corresponding output variable [Y]\n",
    "2. Goal of unsupervised learning algorithm is model underlying structure\n",
    "3. Distribution in the data in order to more about the data\n",
    "4. There are three diffrent types of Unsupervised Algorthm:\n",
    "    1. Clustering\n",
    "    2. Association Analysis\n",
    "    3. Dimensionality Reduction"
   ]
  },
  {
   "cell_type": "markdown",
   "id": "188b31a0",
   "metadata": {},
   "source": [
    "![](https://media.geeksforgeeks.org/wp-content/uploads/20231124111325/Unsupervised-learning.png)"
   ]
  },
  {
   "cell_type": "markdown",
   "id": "a208ff5b",
   "metadata": {},
   "source": [
    "1. K -Means\n",
    "2. PCA\n",
    "3. Market Basket Analysis"
   ]
  },
  {
   "cell_type": "markdown",
   "id": "69102cb0",
   "metadata": {},
   "source": [
    "# 3. Reinforcement Algorithm"
   ]
  },
  {
   "cell_type": "markdown",
   "id": "d7075d0f",
   "metadata": {},
   "source": [
    "1. Reinforcement algorithm soft age on Machine Automatically determine ideal behaviour with in specific context to maximum its performance\n",
    "2. There are diffrent types of Reinforcement Algorithm:\n",
    "    1. Model Free - Q Learning\n",
    "    2. Model Base"
   ]
  },
  {
   "cell_type": "markdown",
   "id": "8516c82c",
   "metadata": {},
   "source": [
    "![](https://techvidvan.com/tutorials/wp-content/uploads/sites/2/2020/08/Reinforcement-Learning-in-ML-TV.jpg)"
   ]
  },
  {
   "cell_type": "markdown",
   "id": "0b4a4388",
   "metadata": {},
   "source": [
    "## 2. Machine Learning Pipeline ?"
   ]
  },
  {
   "cell_type": "markdown",
   "id": "47b39ae4",
   "metadata": {},
   "source": [
    "1. Data Collection\n",
    "2. Data PreProcessing\n",
    "3. Feature Engineering / Feature Extraction\n",
    "4. Model Bulding\n",
    "5. Evalution\n",
    "6. Deployement"
   ]
  },
  {
   "cell_type": "markdown",
   "id": "db7ddd5e",
   "metadata": {},
   "source": [
    "### 1. Data Collection"
   ]
  },
  {
   "cell_type": "markdown",
   "id": "00cd1f6e",
   "metadata": {},
   "source": [
    "1. Free Website [Kaggle]\n",
    "2. Client Side:\n",
    "    1. API\n",
    "    2. Wordfile\n",
    "    3. Images\n",
    "    4. PDF\n",
    "    5. Excel\n",
    "    6. CSV [Comma Separated value]\n",
    "3. Web Scrapping [Webpages]"
   ]
  },
  {
   "cell_type": "markdown",
   "id": "b7b88943",
   "metadata": {},
   "source": [
    "### 2. Data PreProcessing"
   ]
  },
  {
   "cell_type": "markdown",
   "id": "897e1eae",
   "metadata": {},
   "source": [
    "1. Missing Value\n",
    "2. Wrong Format\n",
    "3. Cleaning Data etc."
   ]
  },
  {
   "cell_type": "markdown",
   "id": "906f4eb6",
   "metadata": {},
   "source": [
    "### 3. Feature Engineering / Feture Extraction"
   ]
  },
  {
   "cell_type": "markdown",
   "id": "5ee86f1f",
   "metadata": {},
   "source": [
    "1. EDA [Exploratory Data Analysis]\n",
    "2. Handiling Missing Values\n",
    "3. Handling Imbalanced Dataset\n",
    "4. Treating Outliers\n",
    "5. Scalling Data\n",
    "6. Handle Categorical Data"
   ]
  },
  {
   "cell_type": "markdown",
   "id": "4b5bfd02",
   "metadata": {},
   "source": [
    "### 4. Model Building"
   ]
  },
  {
   "cell_type": "markdown",
   "id": "62afbc20",
   "metadata": {},
   "source": [
    "1. Devide our Data into two Parts [Independent(input variable X) and Dependent or target [output variable Y]]:\n",
    "    1. Training [80]\n",
    "    2. Testing [20]\n",
    "2. Model Selection"
   ]
  },
  {
   "cell_type": "markdown",
   "id": "69edb4e7",
   "metadata": {},
   "source": [
    "### 5. Evalution"
   ]
  },
  {
   "cell_type": "markdown",
   "id": "eb0e19ce",
   "metadata": {},
   "source": [
    "1. Accuracy\n",
    "2. Error\n",
    "3. Validation Techniques\n",
    "4. AUC-ROC Curve"
   ]
  },
  {
   "cell_type": "markdown",
   "id": "1f23932f",
   "metadata": {},
   "source": [
    "### 6. Deployement"
   ]
  },
  {
   "cell_type": "markdown",
   "id": "10823ce0",
   "metadata": {},
   "source": [
    "1. JSON\n",
    "2. .Pickle\n",
    "3. .yaml"
   ]
  },
  {
   "cell_type": "markdown",
   "id": "722f214b",
   "metadata": {},
   "source": [
    "## 3. Diffrent Format of Data Set"
   ]
  },
  {
   "cell_type": "markdown",
   "id": "9ac82984",
   "metadata": {},
   "source": [
    "1. CSV File [Comma Separated Value] - [.csv]\n",
    "2. JSON File [Java Script Object Notation] - [.json]\n",
    "3. SQL File [Structure Query Language] - [.sql]\n",
    "4. HTML [Hypertext Text Markup Language] - [.html]"
   ]
  },
  {
   "cell_type": "code",
   "execution_count": null,
   "id": "5d811567",
   "metadata": {},
   "outputs": [],
   "source": []
  }
 ],
 "metadata": {
  "kernelspec": {
   "display_name": "Python 3 (ipykernel)",
   "language": "python",
   "name": "python3"
  },
  "language_info": {
   "codemirror_mode": {
    "name": "ipython",
    "version": 3
   },
   "file_extension": ".py",
   "mimetype": "text/x-python",
   "name": "python",
   "nbconvert_exporter": "python",
   "pygments_lexer": "ipython3",
   "version": "3.11.5"
  }
 },
 "nbformat": 4,
 "nbformat_minor": 5
}
