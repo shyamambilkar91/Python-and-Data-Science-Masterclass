{
 "cells": [
  {
   "cell_type": "markdown",
   "id": "f5010896",
   "metadata": {},
   "source": [
    "# Access Mode"
   ]
  },
  {
   "cell_type": "markdown",
   "id": "de2c694a",
   "metadata": {},
   "source": [
    "### 1. [\"r\"]:\n",
    "    1. \"r\" means read, so It opens a file for read-only operation.\n",
    "    2. The file pointer exist at the begining. \n",
    "    3. File is by default open in this mode if no access mode is passed"
   ]
  },
  {
   "cell_type": "markdown",
   "id": "f8a341d8",
   "metadata": {},
   "source": [
    "### 2. \"rb\":\n",
    "    1. It opens file read-only in binary format.\n",
    "    2. file pointer exist at the begining of the file"
   ]
  },
  {
   "cell_type": "markdown",
   "id": "9f6756ee",
   "metadata": {},
   "source": [
    "### 3. \"r+\":\n",
    "    1. It opens the file to read and write both.\n",
    "    2. file pointer exist at the begining of the file"
   ]
  },
  {
   "cell_type": "markdown",
   "id": "022c364a",
   "metadata": {},
   "source": [
    "### 4. \"rb+\":\n",
    "    1. It opens file read and write both in binary format.\n",
    "    2. file pointer exist at the begining of the file"
   ]
  },
  {
   "cell_type": "markdown",
   "id": "6794abd5",
   "metadata": {},
   "source": [
    "### 5. \"w\":\n",
    "    1. It opens file to write only. \n",
    "    2. It overwrites the file if previously exist or create new file if not file exist with the same name\n",
    "    3. file pointer exist at the begining of the file"
   ]
  },
  {
   "cell_type": "markdown",
   "id": "5d05f059",
   "metadata": {},
   "source": [
    "### 6. \"wb\":\n",
    "    1. It opens file to write only in binary format. \n",
    "    2. It overwrites the file if previously exist or create new file if not file exist with the same name\n",
    "    3. file pointer exist at the begining of the file"
   ]
  },
  {
   "cell_type": "markdown",
   "id": "a1928926",
   "metadata": {},
   "source": [
    "### 7. \"w+\":\n",
    "    1. It opens file to write to write and read both\n",
    "    2. It is differnt from \"r+\" in the sense that it overwrites the previous file. \n",
    "    3. if one exist whereas \"r+\" dosent overwrite the previously written file\n",
    "    4. It creates new file if nof file exists.\n",
    "    5. file pointer exist at the begining of the file"
   ]
  },
  {
   "cell_type": "markdown",
   "id": "a3aec443",
   "metadata": {},
   "source": [
    "### 8. \"wb+\":\n",
    "    1. It opens the file to write and read both in binary format.\n",
    "    2. file pointer exist at the begining of the file"
   ]
  },
  {
   "cell_type": "markdown",
   "id": "33c0f6cb",
   "metadata": {},
   "source": [
    "### 9. \"a\":\n",
    "    1. It opens file in the append mode\n",
    "    2. file pointer exists at the end of the previously written file\n",
    "    3. It create new file if no files exist with the same name"
   ]
  },
  {
   "cell_type": "markdown",
   "id": "64f834f7",
   "metadata": {},
   "source": [
    "### 10. \"ab\":\n",
    "    1. It opens file in the append mode in binary format\n",
    "    2. file pointer exists at the end of the previously written file\n",
    "    3. It create new file if no files exist with the same name"
   ]
  },
  {
   "cell_type": "markdown",
   "id": "c1fc6a32",
   "metadata": {},
   "source": [
    "### 11. \"a+\":\n",
    "    1. It opens file in the append and read both\n",
    "    2. file pointer exists at the end of the previously written file\n",
    "    3. It create new file if no files exist with the same name"
   ]
  },
  {
   "cell_type": "markdown",
   "id": "1d5b4517",
   "metadata": {},
   "source": [
    "### 12. \"ab+\":\n",
    "    1. It opens a file append and read both in binary format.\n",
    "    2. file pointer remains at the end of the file"
   ]
  },
  {
   "cell_type": "code",
   "execution_count": 1,
   "id": "8bb3b08c",
   "metadata": {},
   "outputs": [
    {
     "name": "stdout",
     "output_type": "stream",
     "text": [
      "Hello Welcome to File Handling concept...!!\n"
     ]
    }
   ],
   "source": [
    "my_file = open(\"my_file.txt\", \"r\")\n",
    "print(my_file.read())"
   ]
  },
  {
   "cell_type": "code",
   "execution_count": null,
   "id": "447003c5",
   "metadata": {},
   "outputs": [],
   "source": []
  },
  {
   "cell_type": "code",
   "execution_count": 2,
   "id": "121ca698",
   "metadata": {},
   "outputs": [
    {
     "name": "stdout",
     "output_type": "stream",
     "text": [
      "Now the file has more content..!!ncept...!!\n"
     ]
    }
   ],
   "source": [
    "my_file = open(\"my_file.txt\", \"r+\")\n",
    "my_file.write(\"Now the file has more content..!!\")\n",
    "my_file.close()\n",
    "\n",
    "my_file = open(\"my_file.txt\",\"r+\")\n",
    "print(my_file.read())"
   ]
  },
  {
   "cell_type": "code",
   "execution_count": 5,
   "id": "88530ed1",
   "metadata": {},
   "outputs": [
    {
     "name": "stdout",
     "output_type": "stream",
     "text": [
      "\n"
     ]
    }
   ],
   "source": [
    "my_file = open(\"my_file.txt\", \"r\")\n",
    "print(my_file.read())"
   ]
  },
  {
   "cell_type": "code",
   "execution_count": 9,
   "id": "e618e7bb",
   "metadata": {},
   "outputs": [
    {
     "name": "stdout",
     "output_type": "stream",
     "text": [
      "Hello User, Welcome to File handling in Python...!!\n"
     ]
    }
   ],
   "source": [
    "my_file = open(\"my_file_3.txt\", \"w\")\n",
    "my_file.write(\"Hello User, Welcome to File handling in Python...!!\")\n",
    "my_file.close()\n",
    "\n",
    "# To Read file\n",
    "my_file = open(\"my_file_3.txt\", \"r\")\n",
    "print(my_file.read())"
   ]
  },
  {
   "cell_type": "code",
   "execution_count": 12,
   "id": "351071bf",
   "metadata": {},
   "outputs": [
    {
     "name": "stdout",
     "output_type": "stream",
     "text": [
      "This is append method...!!This is append method...!!\n"
     ]
    }
   ],
   "source": [
    "my_file = open(\"my_file.txt\", \"a\")\n",
    "my_file.write(\"This is append method...!!\")\n",
    "my_file.close()\n",
    "\n",
    "my_file = open(\"my_file.txt\", \"r\")\n",
    "print(my_file.read())"
   ]
  },
  {
   "cell_type": "code",
   "execution_count": 13,
   "id": "f1e7d803",
   "metadata": {},
   "outputs": [
    {
     "name": "stdout",
     "output_type": "stream",
     "text": [
      "This is append method...!!This is append method...!!Now append file has more content...!!\n"
     ]
    }
   ],
   "source": [
    "my_file = open(\"my_file.txt\", \"a\")\n",
    "my_file.write(\"Now append file has more content...!!\")\n",
    "my_file.close()\n",
    "\n",
    "my_file = open(\"my_file.txt\", \"r\")\n",
    "print(my_file.read())"
   ]
  },
  {
   "cell_type": "code",
   "execution_count": 14,
   "id": "43b5d6f0",
   "metadata": {},
   "outputs": [
    {
     "name": "stdout",
     "output_type": "stream",
     "text": [
      "Now append file has more content...!!\n"
     ]
    }
   ],
   "source": [
    "my_file = open(\"my_file_4.txt\", \"a\")\n",
    "my_file.write(\"Now append file has more content...!!\")\n",
    "my_file.close()\n",
    "\n",
    "my_file = open(\"my_file_4.txt\", \"r\")\n",
    "print(my_file.read())"
   ]
  },
  {
   "cell_type": "code",
   "execution_count": null,
   "id": "4145a574",
   "metadata": {},
   "outputs": [],
   "source": []
  }
 ],
 "metadata": {
  "kernelspec": {
   "display_name": "Python 3 (ipykernel)",
   "language": "python",
   "name": "python3"
  },
  "language_info": {
   "codemirror_mode": {
    "name": "ipython",
    "version": 3
   },
   "file_extension": ".py",
   "mimetype": "text/x-python",
   "name": "python",
   "nbconvert_exporter": "python",
   "pygments_lexer": "ipython3",
   "version": "3.11.5"
  }
 },
 "nbformat": 4,
 "nbformat_minor": 5
}
