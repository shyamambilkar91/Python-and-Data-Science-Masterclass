{
 "cells": [
  {
   "cell_type": "markdown",
   "id": "6fc89fbc",
   "metadata": {},
   "source": [
    "# ufunc"
   ]
  },
  {
   "cell_type": "markdown",
   "id": "93133bbe",
   "metadata": {},
   "source": [
    "1. ufunct means \"Universal Function\" and Numpy function that operate the ndarray object"
   ]
  },
  {
   "cell_type": "markdown",
   "id": "65221aee",
   "metadata": {},
   "source": [
    "### Why use Ufunct ?"
   ]
  },
  {
   "cell_type": "markdown",
   "id": "be1c7902",
   "metadata": {},
   "source": [
    "1. ufunct are used to implement vectorization in Numpy which is faster than iterating over elements\n",
    "2. They also providing Broadcasting and addtional method like reduce, accumelate\n",
    "3. ufunc also take additional three parameter:\n",
    "    1. where - Boolean array or condition defining where the operation should take place\n",
    "    2. dtype - defining the return type of elements\n",
    "    3. out - Output array where the returned value should be copied"
   ]
  },
  {
   "cell_type": "markdown",
   "id": "1e08767b",
   "metadata": {},
   "source": [
    "## What is Vectorization ?"
   ]
  },
  {
   "cell_type": "markdown",
   "id": "bbc95a48",
   "metadata": {},
   "source": [
    "1. Converting iterative statements into vector based operation is called vectorization\n",
    "2. It is fasterr as modern CPUS are for such operation\n",
    "2. Example:\n",
    "    1. Add the elements in two list:\n",
    "        1. list_1 : [1,2,3,4]\n",
    "        2. list_2 : [4,5,6,7]"
   ]
  },
  {
   "cell_type": "code",
   "execution_count": 3,
   "id": "a06c9865",
   "metadata": {},
   "outputs": [
    {
     "name": "stdout",
     "output_type": "stream",
     "text": [
      "[5, 7, 9, 11]\n"
     ]
    }
   ],
   "source": [
    "list_1 = [1,2,3,4]\n",
    "list_2 = [4,5,6,7]\n",
    "\n",
    "list_3 = []\n",
    "\n",
    "for i, j in zip(list_1, list_2):\n",
    "    list_3.append(i + j)\n",
    "print(list_3)"
   ]
  },
  {
   "cell_type": "code",
   "execution_count": 5,
   "id": "3abcc9e9",
   "metadata": {},
   "outputs": [
    {
     "name": "stdout",
     "output_type": "stream",
     "text": [
      "[ 5  7  9 11]\n"
     ]
    }
   ],
   "source": [
    "import numpy as np\n",
    "list_1 = [1,2,3,4]\n",
    "list_2 = [4,5,6,7]\n",
    "\n",
    "list_3 = np.add(list_1, list_2)\n",
    "print(list_3)"
   ]
  },
  {
   "cell_type": "markdown",
   "id": "63d112a4",
   "metadata": {},
   "source": [
    "## How to Create Your Own ufunc"
   ]
  },
  {
   "cell_type": "markdown",
   "id": "6c679f54",
   "metadata": {},
   "source": [
    "1. To create your own ufunc, you have to define a function \n",
    "2. frompyfunc()\n",
    "3. The frompyfunc() method takes following arguments:\n",
    "    1. function -  The name of function\n",
    "    2. inputs - The number of inputs arguments (Arrays)\n",
    "    3. outputs - The number of output array"
   ]
  },
  {
   "cell_type": "code",
   "execution_count": 6,
   "id": "dc50031d",
   "metadata": {},
   "outputs": [
    {
     "name": "stdout",
     "output_type": "stream",
     "text": [
      "[5 7 9 11]\n"
     ]
    }
   ],
   "source": [
    "import numpy as np\n",
    "\n",
    "def myAdd(list_1, list_2):\n",
    "    return list_1 + list_2\n",
    "\n",
    "myAdd = np.frompyfunc(myAdd, 2, 1)\n",
    "\n",
    "print(myAdd([1,2,3,4], [4,5,6,7]))"
   ]
  },
  {
   "cell_type": "code",
   "execution_count": 9,
   "id": "f81925f0",
   "metadata": {},
   "outputs": [
    {
     "name": "stdout",
     "output_type": "stream",
     "text": [
      "[5 7 9 11]\n"
     ]
    }
   ],
   "source": [
    "import numpy as np\n",
    "\n",
    "def myAdd(list_1, list_2):\n",
    "    return list_1 + list_2\n",
    "\n",
    "myAdd = np.frompyfunc(myAdd, 2, 1)\n",
    "\n",
    "print(myAdd([1,2,3,4], [4,5,6,7]))"
   ]
  },
  {
   "cell_type": "code",
   "execution_count": null,
   "id": "f0b9eb79",
   "metadata": {},
   "outputs": [],
   "source": []
  }
 ],
 "metadata": {
  "kernelspec": {
   "display_name": "Python 3 (ipykernel)",
   "language": "python",
   "name": "python3"
  },
  "language_info": {
   "codemirror_mode": {
    "name": "ipython",
    "version": 3
   },
   "file_extension": ".py",
   "mimetype": "text/x-python",
   "name": "python",
   "nbconvert_exporter": "python",
   "pygments_lexer": "ipython3",
   "version": "3.11.5"
  }
 },
 "nbformat": 4,
 "nbformat_minor": 5
}
