{
 "cells": [
  {
   "cell_type": "markdown",
   "id": "e02e11f7",
   "metadata": {},
   "source": [
    "# Exception Handling"
   ]
  },
  {
   "cell_type": "code",
   "execution_count": 2,
   "id": "10d7ae37",
   "metadata": {},
   "outputs": [
    {
     "name": "stdout",
     "output_type": "stream",
     "text": [
      "x is not less than 0\n"
     ]
    }
   ],
   "source": [
    "x = 10\n",
    "\n",
    "if x < 0:\n",
    "    print(\"\")\n",
    "else:\n",
    "    print(\"x is not less than 0\")"
   ]
  },
  {
   "cell_type": "code",
   "execution_count": 3,
   "id": "23b926a8",
   "metadata": {},
   "outputs": [],
   "source": [
    "x = 10\n",
    "\n",
    "if x < 0:\n",
    "    raise Exception(\"x is not less than 0\")"
   ]
  },
  {
   "cell_type": "markdown",
   "id": "914fad02",
   "metadata": {},
   "source": [
    "## 1. Stop Iteration"
   ]
  },
  {
   "cell_type": "markdown",
   "id": "ab176cc0",
   "metadata": {},
   "source": [
    "1. Stop Iteration is an exception in Python that is raised to signal the end of Iteration\n",
    "2. "
   ]
  },
  {
   "cell_type": "code",
   "execution_count": 4,
   "id": "760fb1bf",
   "metadata": {},
   "outputs": [
    {
     "name": "stdout",
     "output_type": "stream",
     "text": [
      "1\n",
      "2\n",
      "3\n",
      "4\n",
      "5\n"
     ]
    },
    {
     "ename": "StopIteration",
     "evalue": "",
     "output_type": "error",
     "traceback": [
      "\u001b[1;31m---------------------------------------------------------------------------\u001b[0m",
      "\u001b[1;31mStopIteration\u001b[0m                             Traceback (most recent call last)",
      "Cell \u001b[1;32mIn[4], line 6\u001b[0m\n\u001b[0;32m      3\u001b[0m my_iter \u001b[38;5;241m=\u001b[39m \u001b[38;5;28miter\u001b[39m(my_list)\n\u001b[0;32m      5\u001b[0m \u001b[38;5;28;01mwhile\u001b[39;00m \u001b[38;5;28;01mTrue\u001b[39;00m:\n\u001b[1;32m----> 6\u001b[0m     item \u001b[38;5;241m=\u001b[39m \u001b[38;5;28mnext\u001b[39m(my_iter)\n\u001b[0;32m      7\u001b[0m     \u001b[38;5;28mprint\u001b[39m(item)\n",
      "\u001b[1;31mStopIteration\u001b[0m: "
     ]
    }
   ],
   "source": [
    "my_list = [1,2,3,4,5]\n",
    "\n",
    "my_iter = iter(my_list)\n",
    "\n",
    "while True:\n",
    "    item = next(my_iter)\n",
    "    print(item)"
   ]
  },
  {
   "cell_type": "code",
   "execution_count": 5,
   "id": "e217e486",
   "metadata": {},
   "outputs": [
    {
     "name": "stdout",
     "output_type": "stream",
     "text": [
      "H\n",
      "e\n",
      "l\n",
      "l\n",
      "o\n",
      " \n",
      "P\n",
      "y\n",
      "t\n",
      "h\n",
      "o\n",
      "n\n"
     ]
    },
    {
     "ename": "StopIteration",
     "evalue": "",
     "output_type": "error",
     "traceback": [
      "\u001b[1;31m---------------------------------------------------------------------------\u001b[0m",
      "\u001b[1;31mStopIteration\u001b[0m                             Traceback (most recent call last)",
      "Cell \u001b[1;32mIn[5], line 6\u001b[0m\n\u001b[0;32m      3\u001b[0m my_iter \u001b[38;5;241m=\u001b[39m \u001b[38;5;28miter\u001b[39m(my_string)\n\u001b[0;32m      5\u001b[0m \u001b[38;5;28;01mwhile\u001b[39;00m \u001b[38;5;28;01mTrue\u001b[39;00m:\n\u001b[1;32m----> 6\u001b[0m     my_char \u001b[38;5;241m=\u001b[39m \u001b[38;5;28mnext\u001b[39m(my_iter)\n\u001b[0;32m      7\u001b[0m     \u001b[38;5;28mprint\u001b[39m(my_char)\n",
      "\u001b[1;31mStopIteration\u001b[0m: "
     ]
    }
   ],
   "source": [
    "my_string = \"Hello Python\"\n",
    "\n",
    "my_iter = iter(my_string)\n",
    "\n",
    "while True:\n",
    "    my_char = next(my_iter)\n",
    "    print(my_char)"
   ]
  },
  {
   "cell_type": "markdown",
   "id": "25f7bf2a",
   "metadata": {},
   "source": [
    "### Resolve Issue with for Loop"
   ]
  },
  {
   "cell_type": "code",
   "execution_count": 6,
   "id": "b9528b96",
   "metadata": {},
   "outputs": [
    {
     "name": "stdout",
     "output_type": "stream",
     "text": [
      "1\n",
      "2\n",
      "3\n",
      "4\n",
      "5\n"
     ]
    }
   ],
   "source": [
    "my_list = [1,2,3,4,5]\n",
    "\n",
    "my_iter = iter(my_list)\n",
    "\n",
    "for x in my_iter:\n",
    "    print(x)"
   ]
  },
  {
   "cell_type": "code",
   "execution_count": 8,
   "id": "53687ed4",
   "metadata": {},
   "outputs": [
    {
     "name": "stdout",
     "output_type": "stream",
     "text": [
      "1\n",
      "2\n",
      "3\n",
      "4\n",
      "5\n"
     ]
    }
   ],
   "source": [
    "my_list = [1,2,3,4,5]\n",
    "\n",
    "my_iter = iter(my_list)\n",
    "\n",
    "while True:\n",
    "    try:\n",
    "        x = next(my_iter)\n",
    "        print(x)\n",
    "    except StopIteration:\n",
    "        break"
   ]
  },
  {
   "cell_type": "markdown",
   "id": "238f1ef5",
   "metadata": {},
   "source": [
    "## 2. System Exit Exception"
   ]
  },
  {
   "cell_type": "code",
   "execution_count": 9,
   "id": "2a97b157",
   "metadata": {},
   "outputs": [],
   "source": [
    "import sys"
   ]
  },
  {
   "cell_type": "code",
   "execution_count": 11,
   "id": "4a319820",
   "metadata": {},
   "outputs": [],
   "source": [
    "# help(sys)"
   ]
  },
  {
   "cell_type": "code",
   "execution_count": 12,
   "id": "3ccd2172",
   "metadata": {},
   "outputs": [
    {
     "ename": "SystemExit",
     "evalue": "Exiting the Program....!",
     "output_type": "error",
     "traceback": [
      "An exception has occurred, use %tb to see the full traceback.\n",
      "\u001b[1;31mSystemExit\u001b[0m\u001b[1;31m:\u001b[0m Exiting the Program....!\n"
     ]
    },
    {
     "name": "stderr",
     "output_type": "stream",
     "text": [
      "C:\\Users\\shyam\\anaconda3\\Lib\\site-packages\\IPython\\core\\interactiveshell.py:3534: UserWarning: To exit: use 'exit', 'quit', or Ctrl-D.\n",
      "  warn(\"To exit: use 'exit', 'quit', or Ctrl-D.\", stacklevel=1)\n"
     ]
    }
   ],
   "source": [
    "def exit_Program():\n",
    "    sys.exit(\"Exiting the Program....!\")\n",
    "\n",
    "exit_Program()"
   ]
  },
  {
   "cell_type": "code",
   "execution_count": 16,
   "id": "8fad9ba6",
   "metadata": {},
   "outputs": [
    {
     "ename": "TypeError",
     "evalue": "handler() missing 2 required positional arguments: 'signum' and 'frame'",
     "output_type": "error",
     "traceback": [
      "\u001b[1;31m---------------------------------------------------------------------------\u001b[0m",
      "\u001b[1;31mTypeError\u001b[0m                                 Traceback (most recent call last)",
      "Cell \u001b[1;32mIn[16], line 8\u001b[0m\n\u001b[0;32m      5\u001b[0m     \u001b[38;5;28mprint\u001b[39m(\u001b[38;5;124m\"\u001b[39m\u001b[38;5;124mReceived Termination Signal...!\u001b[39m\u001b[38;5;124m\"\u001b[39m)\n\u001b[0;32m      6\u001b[0m     \u001b[38;5;28;01mraise\u001b[39;00m \u001b[38;5;167;01mSystemExit\u001b[39;00m(\u001b[38;5;124m'\u001b[39m\u001b[38;5;124mExiting due to signal\u001b[39m\u001b[38;5;124m'\u001b[39m)\n\u001b[1;32m----> 8\u001b[0m handler()\n\u001b[0;32m      9\u001b[0m \u001b[38;5;28;01mtry\u001b[39;00m:\n\u001b[0;32m     10\u001b[0m     \u001b[38;5;28;01mwhile\u001b[39;00m \u001b[38;5;28;01mTrue\u001b[39;00m:\n",
      "\u001b[1;31mTypeError\u001b[0m: handler() missing 2 required positional arguments: 'signum' and 'frame'"
     ]
    }
   ],
   "source": [
    "import signal\n",
    "import time\n",
    "\n",
    "def handler(signum, frame):\n",
    "    print(\"Received Termination Signal...!\")\n",
    "    raise SystemExit('Exiting due to signal')\n",
    "    \n",
    "handler()\n",
    "try:\n",
    "    while True:\n",
    "        time.sleep(1)\n",
    "except KeyboardInterrupt:\n",
    "    print(\"Keyboard Interrupt Received...!\")"
   ]
  },
  {
   "cell_type": "code",
   "execution_count": 19,
   "id": "f4367733",
   "metadata": {},
   "outputs": [
    {
     "name": "stdout",
     "output_type": "stream",
     "text": [
      "Enter any Number: 12.23\n"
     ]
    },
    {
     "ename": "ValueError",
     "evalue": "invalid literal for int() with base 10: '12.23'",
     "output_type": "error",
     "traceback": [
      "\u001b[1;31m---------------------------------------------------------------------------\u001b[0m",
      "\u001b[1;31mValueError\u001b[0m                                Traceback (most recent call last)",
      "Cell \u001b[1;32mIn[19], line 1\u001b[0m\n\u001b[1;32m----> 1\u001b[0m my_input \u001b[38;5;241m=\u001b[39m \u001b[38;5;28mint\u001b[39m(\u001b[38;5;28minput\u001b[39m(\u001b[38;5;124m\"\u001b[39m\u001b[38;5;124mEnter any Number: \u001b[39m\u001b[38;5;124m\"\u001b[39m))\n",
      "\u001b[1;31mValueError\u001b[0m: invalid literal for int() with base 10: '12.23'"
     ]
    }
   ],
   "source": [
    "my_input = int(input(\"Enter any Number: \"))\n",
    "\n"
   ]
  },
  {
   "cell_type": "markdown",
   "id": "c76b341b",
   "metadata": {},
   "source": [
    "## Syntax"
   ]
  },
  {
   "cell_type": "raw",
   "id": "4b4c4c6d",
   "metadata": {},
   "source": [
    "try:\n",
    "    # some code\n",
    "except:\n",
    "    # Excecuted if error in \n",
    "    # try block\n",
    "else:\n",
    "    # Execute if no exception"
   ]
  },
  {
   "cell_type": "code",
   "execution_count": 21,
   "id": "1e8ccd5d",
   "metadata": {},
   "outputs": [
    {
     "name": "stdout",
     "output_type": "stream",
     "text": [
      "-5.0\n"
     ]
    }
   ],
   "source": [
    "def A_devide_B(a, b):\n",
    "    try:\n",
    "        result = ((a + b) // (a - b))\n",
    "    except ZeroDivisionError:\n",
    "        print(\"a/b result is 0...!\")\n",
    "    else:\n",
    "        print(result)\n",
    "        \n",
    "A_devide_B(2.0, 3.0)"
   ]
  },
  {
   "cell_type": "code",
   "execution_count": 22,
   "id": "8c4affbb",
   "metadata": {},
   "outputs": [
    {
     "name": "stdout",
     "output_type": "stream",
     "text": [
      "a/b result is 0...!\n"
     ]
    }
   ],
   "source": [
    "def A_devide_B(a, b):\n",
    "    try:\n",
    "        result = ((a + b) // (a - b))\n",
    "    except ZeroDivisionError:\n",
    "        print(\"a/b result is 0...!\")\n",
    "    else:\n",
    "        print(result)\n",
    "        \n",
    "A_devide_B(3.0, 3.0)"
   ]
  },
  {
   "cell_type": "code",
   "execution_count": 23,
   "id": "03794d8f",
   "metadata": {},
   "outputs": [
    {
     "name": "stdout",
     "output_type": "stream",
     "text": [
      "Cant Devide by Zero\n"
     ]
    }
   ],
   "source": [
    "try:\n",
    "    result = 10 // 0\n",
    "except ZeroDivisionError:\n",
    "    print(\"Cant Devide by Zero\")\n",
    "else:\n",
    "    print(result)"
   ]
  },
  {
   "cell_type": "code",
   "execution_count": 25,
   "id": "21993761",
   "metadata": {},
   "outputs": [
    {
     "name": "stdout",
     "output_type": "stream",
     "text": [
      "3\n"
     ]
    }
   ],
   "source": [
    "try:\n",
    "    result = 10 // 3\n",
    "except ZeroDivisionError:\n",
    "    print(\"Cant Devide by Zero\")\n",
    "else:\n",
    "    print(result)"
   ]
  },
  {
   "cell_type": "code",
   "execution_count": null,
   "id": "140e32c9",
   "metadata": {},
   "outputs": [],
   "source": []
  }
 ],
 "metadata": {
  "kernelspec": {
   "display_name": "Python 3 (ipykernel)",
   "language": "python",
   "name": "python3"
  },
  "language_info": {
   "codemirror_mode": {
    "name": "ipython",
    "version": 3
   },
   "file_extension": ".py",
   "mimetype": "text/x-python",
   "name": "python",
   "nbconvert_exporter": "python",
   "pygments_lexer": "ipython3",
   "version": "3.11.5"
  }
 },
 "nbformat": 4,
 "nbformat_minor": 5
}
