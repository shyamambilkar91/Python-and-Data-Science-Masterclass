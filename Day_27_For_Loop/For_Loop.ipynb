{
 "cells": [
  {
   "cell_type": "markdown",
   "id": "e92308b9",
   "metadata": {},
   "source": [
    "## Else in For Loop"
   ]
  },
  {
   "cell_type": "markdown",
   "id": "02e12f77",
   "metadata": {},
   "source": [
    "1. The else Keyword in  a for loop specifies a block of code to be executed when the loop a finished."
   ]
  },
  {
   "cell_type": "markdown",
   "id": "dd6ceb25",
   "metadata": {},
   "source": [
    "**Note: The else block will not executed if the loop is stopped by a break statement**"
   ]
  },
  {
   "cell_type": "code",
   "execution_count": 1,
   "id": "756350b8",
   "metadata": {},
   "outputs": [
    {
     "name": "stdout",
     "output_type": "stream",
     "text": [
      "0\n",
      "1\n",
      "2\n",
      "3\n",
      "4\n",
      "5\n",
      "6\n",
      "7\n",
      "8\n",
      "9\n",
      "Finally Finished..!\n"
     ]
    }
   ],
   "source": [
    "for i in range(10):\n",
    "    print(i)\n",
    "else:\n",
    "    print(\"Finally Finished..!\")"
   ]
  },
  {
   "cell_type": "code",
   "execution_count": 2,
   "id": "fc75d622",
   "metadata": {},
   "outputs": [
    {
     "name": "stdout",
     "output_type": "stream",
     "text": [
      "0\n",
      "1\n",
      "2\n",
      "3\n"
     ]
    }
   ],
   "source": [
    "for i in range(6):\n",
    "    if i == 4:\n",
    "        break\n",
    "    print(i)\n",
    "else:\n",
    "    print(\"Finally Finished..!\")"
   ]
  },
  {
   "cell_type": "markdown",
   "id": "dacc3354",
   "metadata": {},
   "source": [
    "# Nested Loop"
   ]
  },
  {
   "cell_type": "code",
   "execution_count": 4,
   "id": "3ff60c0f",
   "metadata": {},
   "outputs": [
    {
     "name": "stdout",
     "output_type": "stream",
     "text": [
      "rahul good\n",
      "rahul very_good\n",
      "rahul average\n",
      "ambika good\n",
      "ambika very_good\n",
      "ambika average\n",
      "rohen good\n",
      "rohen very_good\n",
      "rohen average\n",
      "aakash good\n",
      "aakash very_good\n",
      "aakash average\n",
      "Tushar good\n",
      "Tushar very_good\n",
      "Tushar average\n",
      "Vishal good\n",
      "Vishal very_good\n",
      "Vishal average\n",
      "Shyam good\n",
      "Shyam very_good\n",
      "Shyam average\n",
      "Bhushan good\n",
      "Bhushan very_good\n",
      "Bhushan average\n"
     ]
    }
   ],
   "source": [
    "my_list_1 = ['rahul','ambika','rohen','aakash','Tushar','Vishal','Shyam','Bhushan']\n",
    "my_list_2 = ['good','very_good','average']\n",
    "\n",
    "for x in my_list_1:\n",
    "    for y in my_list_2:\n",
    "        print(x, y)"
   ]
  },
  {
   "cell_type": "code",
   "execution_count": 5,
   "id": "050a74b8",
   "metadata": {},
   "outputs": [
    {
     "name": "stdout",
     "output_type": "stream",
     "text": [
      "rahul\n",
      "rahul\n",
      "rahul\n",
      "ambika\n",
      "ambika\n",
      "ambika\n",
      "rohen\n",
      "rohen\n",
      "rohen\n",
      "aakash\n",
      "aakash\n",
      "aakash\n",
      "Tushar\n",
      "Tushar\n",
      "Tushar\n",
      "Vishal\n",
      "Vishal\n",
      "Vishal\n",
      "Shyam\n",
      "Shyam\n",
      "Shyam\n",
      "Bhushan\n",
      "Bhushan\n",
      "Bhushan\n"
     ]
    }
   ],
   "source": [
    "my_list_1 = ['rahul','ambika','rohen','aakash','Tushar','Vishal','Shyam','Bhushan']\n",
    "my_list_2 = ['good','very_good','average']\n",
    "\n",
    "for x in my_list_1:\n",
    "    for y in my_list_2:\n",
    "        print(x)"
   ]
  },
  {
   "cell_type": "code",
   "execution_count": 8,
   "id": "199184f3",
   "metadata": {},
   "outputs": [
    {
     "name": "stdout",
     "output_type": "stream",
     "text": [
      "good\n",
      "very_good\n",
      "average\n",
      "good\n",
      "very_good\n",
      "average\n",
      "good\n",
      "very_good\n",
      "average\n",
      "good\n",
      "very_good\n",
      "average\n",
      "good\n",
      "very_good\n",
      "average\n",
      "good\n",
      "very_good\n",
      "average\n",
      "good\n",
      "very_good\n",
      "average\n",
      "good\n",
      "very_good\n",
      "average\n",
      "Bhushan\n"
     ]
    }
   ],
   "source": [
    "my_list_1 = ['rahul','ambika','rohen','aakash','Tushar','Vishal','Shyam','Bhushan']\n",
    "my_list_2 = ['good','very_good','average']\n",
    "\n",
    "for x in my_list_1:\n",
    "    for y in my_list_2:\n",
    "        print(y)\n",
    "print(x)"
   ]
  },
  {
   "cell_type": "raw",
   "id": "d765e133",
   "metadata": {},
   "source": [
    "1 2 3 4 5\n",
    "2 3 4 5 6\n",
    "3 4 5 6 7\n",
    "4 5 6 7 8 \n",
    "5 6 7 8 9"
   ]
  },
  {
   "cell_type": "code",
   "execution_count": 11,
   "id": "b035d4d5",
   "metadata": {},
   "outputs": [
    {
     "name": "stdout",
     "output_type": "stream",
     "text": [
      "Enter N Number: 4\n",
      "1 2 3 4 \n",
      "2 3 4 5 \n",
      "3 4 5 6 \n",
      "4 5 6 7 \n"
     ]
    }
   ],
   "source": [
    "n = int(input(\"Enter N Number: \")) \n",
    "\n",
    "for i in range(1, n + 1):\n",
    "    for j in range(1, n + 1):\n",
    "        print(str(i + j - 1)+ \" \", end=\"\")\n",
    "    print()"
   ]
  },
  {
   "cell_type": "raw",
   "id": "c4299f64",
   "metadata": {},
   "source": [
    "i = 1, n = 6 [n = n[5] + 1]\n",
    "j = 1, n = 6 [n = n[5] + 1]\n",
    "\n",
    "i + j - 1\n",
    "1 + 1 - 1 = 1\n",
    "1 + 2 - 1 = 2\n",
    "1 + 3 - 1 = 3\n",
    "1 + 4 - 1 = 4\n",
    "1 + 5 - 1 = 5\n",
    "\n"
   ]
  },
  {
   "cell_type": "code",
   "execution_count": 12,
   "id": "ec159716",
   "metadata": {},
   "outputs": [
    {
     "name": "stdout",
     "output_type": "stream",
     "text": [
      "Enter N Number: 5\n"
     ]
    },
    {
     "ename": "TypeError",
     "evalue": "unsupported operand type(s) for +: 'int' and 'str'",
     "output_type": "error",
     "traceback": [
      "\u001b[1;31m---------------------------------------------------------------------------\u001b[0m",
      "\u001b[1;31mTypeError\u001b[0m                                 Traceback (most recent call last)",
      "Cell \u001b[1;32mIn[12], line 5\u001b[0m\n\u001b[0;32m      3\u001b[0m \u001b[38;5;28;01mfor\u001b[39;00m i \u001b[38;5;129;01min\u001b[39;00m \u001b[38;5;28mrange\u001b[39m(\u001b[38;5;241m1\u001b[39m, n \u001b[38;5;241m+\u001b[39m \u001b[38;5;241m1\u001b[39m):\n\u001b[0;32m      4\u001b[0m     \u001b[38;5;28;01mfor\u001b[39;00m j \u001b[38;5;129;01min\u001b[39;00m \u001b[38;5;28mrange\u001b[39m(\u001b[38;5;241m1\u001b[39m, n \u001b[38;5;241m+\u001b[39m \u001b[38;5;241m1\u001b[39m):\n\u001b[1;32m----> 5\u001b[0m         \u001b[38;5;28mprint\u001b[39m(i \u001b[38;5;241m+\u001b[39m j \u001b[38;5;241m-\u001b[39m \u001b[38;5;241m1\u001b[39m \u001b[38;5;241m+\u001b[39m \u001b[38;5;124m\"\u001b[39m\u001b[38;5;124m \u001b[39m\u001b[38;5;124m\"\u001b[39m, end\u001b[38;5;241m=\u001b[39m\u001b[38;5;124m\"\u001b[39m\u001b[38;5;124m\"\u001b[39m)\n\u001b[0;32m      6\u001b[0m     \u001b[38;5;28mprint\u001b[39m()\n",
      "\u001b[1;31mTypeError\u001b[0m: unsupported operand type(s) for +: 'int' and 'str'"
     ]
    }
   ],
   "source": [
    "n = int(input(\"Enter N Number: \")) \n",
    "\n",
    "for i in range(1, n + 1):\n",
    "    for j in range(1, n + 1):\n",
    "        print(i + j - 1 + \" \", end=\"\")\n",
    "    print()"
   ]
  },
  {
   "cell_type": "raw",
   "id": "1353072d",
   "metadata": {},
   "source": [
    "1 0 1 0 1\n",
    "0 0 0 0 0\n",
    "1 0 1 0 1\n",
    "0 0 0 0 0\n",
    "1 0 1 0 1"
   ]
  },
  {
   "cell_type": "code",
   "execution_count": 13,
   "id": "bcb356e0",
   "metadata": {},
   "outputs": [
    {
     "name": "stdout",
     "output_type": "stream",
     "text": [
      "Enter N Number: 5\n",
      "1 0 1 0 1 \n",
      "0 0 0 0 0 \n",
      "1 0 1 0 1 \n",
      "0 0 0 0 0 \n",
      "1 0 1 0 1 \n"
     ]
    }
   ],
   "source": [
    "n = int(input(\"Enter N Number: \")) \n",
    "\n",
    "for i in range(1, n + 1):\n",
    "    for j in range(1, n + 1):\n",
    "        print(str((i * j) % 2)+ \" \", end=\"\")\n",
    "    print()"
   ]
  },
  {
   "cell_type": "code",
   "execution_count": 15,
   "id": "1f5370d0",
   "metadata": {},
   "outputs": [
    {
     "name": "stdout",
     "output_type": "stream",
     "text": [
      "Enter N Number: 5\n",
      "0 1 0 1 0 \n",
      "0 0 0 0 0 \n",
      "0 1 0 1 0 \n",
      "0 0 0 0 0 \n",
      "0 1 0 1 0 \n"
     ]
    }
   ],
   "source": [
    "n = int(input(\"Enter N Number: \")) \n",
    "\n",
    "for i in range(1, n + 1):\n",
    "    for j in range(0, n):\n",
    "        print(str((i * j) % 2)+ \" \", end=\"\")\n",
    "    print()"
   ]
  },
  {
   "cell_type": "code",
   "execution_count": 16,
   "id": "cd8e02e2",
   "metadata": {},
   "outputs": [
    {
     "name": "stdout",
     "output_type": "stream",
     "text": [
      "Enter N Number: 5\n",
      "1 0 1 0 1 \n",
      "0 1 0 1 0 \n",
      "1 0 1 0 1 \n",
      "0 1 0 1 0 \n",
      "1 0 1 0 1 \n"
     ]
    }
   ],
   "source": [
    "n = int(input(\"Enter N Number: \")) \n",
    "\n",
    "for i in range(1, n + 1):\n",
    "    for j in range(0, n):\n",
    "        print(str((i + j) % 2)+ \" \", end=\"\")\n",
    "    print()"
   ]
  },
  {
   "cell_type": "raw",
   "id": "3f4d2dfc",
   "metadata": {},
   "source": [
    "0 0 0 0 0\n",
    "1 1 1 1 1\n",
    "0 0 0 0 0\n",
    "1 1 1 1 1\n",
    "0 0 0 0 0"
   ]
  },
  {
   "cell_type": "markdown",
   "id": "9e2577a6",
   "metadata": {},
   "source": [
    "# Calculator:\n",
    "    1. Addition\n",
    "    2. Subtraction\n",
    "    3. Division\n",
    "    4. Multiplication"
   ]
  },
  {
   "cell_type": "code",
   "execution_count": null,
   "id": "21156c2e",
   "metadata": {},
   "outputs": [],
   "source": []
  }
 ],
 "metadata": {
  "kernelspec": {
   "display_name": "Python 3 (ipykernel)",
   "language": "python",
   "name": "python3"
  },
  "language_info": {
   "codemirror_mode": {
    "name": "ipython",
    "version": 3
   },
   "file_extension": ".py",
   "mimetype": "text/x-python",
   "name": "python",
   "nbconvert_exporter": "python",
   "pygments_lexer": "ipython3",
   "version": "3.11.5"
  }
 },
 "nbformat": 4,
 "nbformat_minor": 5
}
