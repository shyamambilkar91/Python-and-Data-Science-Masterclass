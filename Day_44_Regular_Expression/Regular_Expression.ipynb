{
 "cells": [
  {
   "cell_type": "markdown",
   "id": "53476979",
   "metadata": {},
   "source": [
    "# Regular Expression or Python RegEx"
   ]
  },
  {
   "cell_type": "markdown",
   "id": "188cfc70",
   "metadata": {},
   "source": [
    "1. A RegEx or Regular expression is sequence of characters that forms a search pattern\n",
    "2. RegEx can be used to check if a string contains the specified search pattern"
   ]
  },
  {
   "cell_type": "markdown",
   "id": "ed14bd94",
   "metadata": {},
   "source": [
    "### RegEx Module"
   ]
  },
  {
   "cell_type": "markdown",
   "id": "1634745f",
   "metadata": {},
   "source": [
    "1. Python has built-in package called **re**, which can be used to work with Regular Expression\n",
    "1. Import re module"
   ]
  },
  {
   "cell_type": "code",
   "execution_count": 1,
   "id": "fa530755",
   "metadata": {},
   "outputs": [],
   "source": [
    "import re"
   ]
  },
  {
   "cell_type": "code",
   "execution_count": 5,
   "id": "0fbfe6d0",
   "metadata": {},
   "outputs": [],
   "source": [
    "# help(re)"
   ]
  },
  {
   "cell_type": "code",
   "execution_count": 6,
   "id": "02ffba7f",
   "metadata": {},
   "outputs": [
    {
     "name": "stdout",
     "output_type": "stream",
     "text": [
      "<re.Match object; span=(0, 17), match='The rain in spain'>\n"
     ]
    }
   ],
   "source": [
    "import re\n",
    "\n",
    "my_text = \"The rain in spain\"\n",
    "\n",
    "x = re.search(\"^The.*spain$\", my_text)\n",
    "print(x)"
   ]
  },
  {
   "cell_type": "code",
   "execution_count": 9,
   "id": "0d9db56b",
   "metadata": {},
   "outputs": [
    {
     "name": "stdout",
     "output_type": "stream",
     "text": [
      "<re.Match object; span=(0, 18), match=' The rain in Spain'>\n"
     ]
    }
   ],
   "source": [
    "import re\n",
    "\n",
    "my_text = \" The rain in Spain\"\n",
    "\n",
    "x = re.search(\"^ The.*Spain$\", my_text)\n",
    "print(x)"
   ]
  },
  {
   "cell_type": "markdown",
   "id": "198332da",
   "metadata": {},
   "source": [
    "## RegEx Function"
   ]
  },
  {
   "cell_type": "markdown",
   "id": "d1e431ad",
   "metadata": {},
   "source": [
    "### 1. Findall - findall()"
   ]
  },
  {
   "cell_type": "markdown",
   "id": "c6742adc",
   "metadata": {},
   "source": [
    "**1. Return a list containing all matches**"
   ]
  },
  {
   "cell_type": "code",
   "execution_count": 10,
   "id": "1ead4b2e",
   "metadata": {},
   "outputs": [
    {
     "name": "stdout",
     "output_type": "stream",
     "text": [
      "['th']\n"
     ]
    }
   ],
   "source": [
    "import re\n",
    "\n",
    "my_text = \"Welcome to Python Regular Expression\"\n",
    "x = re.findall(\"th\",my_text)\n",
    "print(x)"
   ]
  },
  {
   "cell_type": "code",
   "execution_count": 12,
   "id": "159b5273",
   "metadata": {},
   "outputs": [
    {
     "name": "stdout",
     "output_type": "stream",
     "text": [
      "['Python']\n"
     ]
    }
   ],
   "source": [
    "import re\n",
    "\n",
    "my_text = \"Welcome to Python Regular Expression\"\n",
    "x = re.findall(\"Python\",my_text)\n",
    "print(x)"
   ]
  },
  {
   "cell_type": "markdown",
   "id": "b970be6d",
   "metadata": {},
   "source": [
    "### 2. Search "
   ]
  },
  {
   "cell_type": "markdown",
   "id": "7defc835",
   "metadata": {},
   "source": [
    "Return a **Match object** if there is a match anywhere in the string"
   ]
  },
  {
   "cell_type": "code",
   "execution_count": 13,
   "id": "199dee14",
   "metadata": {},
   "outputs": [
    {
     "name": "stdout",
     "output_type": "stream",
     "text": [
      "<re.Match object; span=(7, 8), match=' '>\n"
     ]
    }
   ],
   "source": [
    "import re\n",
    "\n",
    "my_text = \"Welcome to Python Regular Expression\"\n",
    "x = re.search(\"\\s\",my_text)\n",
    "print(x)"
   ]
  },
  {
   "cell_type": "code",
   "execution_count": 15,
   "id": "518105f7",
   "metadata": {},
   "outputs": [
    {
     "name": "stdout",
     "output_type": "stream",
     "text": [
      "<re.Match object; span=(18, 25), match='Regular'>\n"
     ]
    }
   ],
   "source": [
    "import re\n",
    "\n",
    "my_text = \"Welcome to Python Regular Expression Regular\"\n",
    "x = re.search(\"Regular\",my_text)\n",
    "print(x)"
   ]
  },
  {
   "cell_type": "markdown",
   "id": "21bf33f1",
   "metadata": {},
   "source": [
    "**If no matches are found, the value None is returned**"
   ]
  },
  {
   "cell_type": "code",
   "execution_count": 16,
   "id": "a6e2da58",
   "metadata": {},
   "outputs": [
    {
     "name": "stdout",
     "output_type": "stream",
     "text": [
      "None\n"
     ]
    }
   ],
   "source": [
    "import re\n",
    "\n",
    "my_text = \"Welcome to Python Regular Expression Regular\"\n",
    "x = re.search(\"regular\",my_text)\n",
    "print(x)"
   ]
  },
  {
   "cell_type": "markdown",
   "id": "77f02e9f",
   "metadata": {},
   "source": [
    "### 3. Split "
   ]
  },
  {
   "cell_type": "markdown",
   "id": "62f1a82b",
   "metadata": {},
   "source": [
    "Return a list where string has been split at each match"
   ]
  },
  {
   "cell_type": "code",
   "execution_count": 17,
   "id": "7ad1c236",
   "metadata": {},
   "outputs": [
    {
     "name": "stdout",
     "output_type": "stream",
     "text": [
      "['Welcome', 'to', 'Python', 'Regular', 'Expression']\n"
     ]
    }
   ],
   "source": [
    "import re\n",
    "\n",
    "my_text = \"Welcome to Python Regular Expression\"\n",
    "x = re.split(\"\\s\",my_text)\n",
    "print(x)"
   ]
  },
  {
   "cell_type": "markdown",
   "id": "aaa83ecd",
   "metadata": {},
   "source": [
    "**You can controll the number of occurances by specifying the maxsplit parameter**"
   ]
  },
  {
   "cell_type": "code",
   "execution_count": 18,
   "id": "3c88dfa2",
   "metadata": {},
   "outputs": [
    {
     "name": "stdout",
     "output_type": "stream",
     "text": [
      "['Welcome', 'to Python Regular Expression']\n"
     ]
    }
   ],
   "source": [
    "import re\n",
    "\n",
    "my_text = \"Welcome to Python Regular Expression\"\n",
    "x = re.split(\"\\s\",my_text, 1)\n",
    "print(x)"
   ]
  },
  {
   "cell_type": "code",
   "execution_count": 19,
   "id": "1235666e",
   "metadata": {},
   "outputs": [
    {
     "name": "stdout",
     "output_type": "stream",
     "text": [
      "['Welcome', 'to', 'Python Regular Expression']\n"
     ]
    }
   ],
   "source": [
    "import re\n",
    "\n",
    "my_text = \"Welcome to Python Regular Expression\"\n",
    "x = re.split(\"\\s\",my_text, 2)\n",
    "print(x)"
   ]
  },
  {
   "cell_type": "markdown",
   "id": "51419cc6",
   "metadata": {},
   "source": [
    "### 4. Sub"
   ]
  },
  {
   "cell_type": "markdown",
   "id": "2404d203",
   "metadata": {},
   "source": [
    "Replace one or many matches with a string"
   ]
  },
  {
   "cell_type": "code",
   "execution_count": 20,
   "id": "af448419",
   "metadata": {},
   "outputs": [
    {
     "name": "stdout",
     "output_type": "stream",
     "text": [
      "Welcome-to-Python-Regular-Expression\n"
     ]
    }
   ],
   "source": [
    "import re\n",
    "\n",
    "my_text = \"Welcome to Python Regular Expression\"\n",
    "x = re.sub(\"\\s\", \"-\",my_text)\n",
    "print(x)"
   ]
  },
  {
   "cell_type": "code",
   "execution_count": 23,
   "id": "f683f8d6",
   "metadata": {},
   "outputs": [
    {
     "name": "stdout",
     "output_type": "stream",
     "text": [
      "Welcome to Data-Science Regular Expression\n"
     ]
    }
   ],
   "source": [
    "import re\n",
    "\n",
    "my_text = \"Welcome to Python Regular Expression\"\n",
    "x = re.sub(\"Python\", \"Data-Science\",my_text)\n",
    "print(x)"
   ]
  },
  {
   "cell_type": "code",
   "execution_count": null,
   "id": "4b9dddb9",
   "metadata": {},
   "outputs": [],
   "source": []
  }
 ],
 "metadata": {
  "kernelspec": {
   "display_name": "Python 3 (ipykernel)",
   "language": "python",
   "name": "python3"
  },
  "language_info": {
   "codemirror_mode": {
    "name": "ipython",
    "version": 3
   },
   "file_extension": ".py",
   "mimetype": "text/x-python",
   "name": "python",
   "nbconvert_exporter": "python",
   "pygments_lexer": "ipython3",
   "version": "3.11.5"
  }
 },
 "nbformat": 4,
 "nbformat_minor": 5
}
