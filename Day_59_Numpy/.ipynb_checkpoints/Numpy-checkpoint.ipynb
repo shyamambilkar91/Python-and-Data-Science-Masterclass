{
 "cells": [
  {
   "cell_type": "markdown",
   "id": "2dffcaf8",
   "metadata": {},
   "source": [
    "## Create a Numpy ndarray Object"
   ]
  },
  {
   "cell_type": "markdown",
   "id": "813ed8cf",
   "metadata": {},
   "source": [
    "1. Numpy used to work with array. The array object is in Numpy called as ndarray\n",
    "2. We can create a Numpy **ndarray** object by using **array()** function\n",
    "3. type() This is inbuilt function tell us use the type of the object passed to it.\n",
    "4. To create an ndarray, we can pass list, tuple or any array-like object into array() method it will be converted into ndarray"
   ]
  },
  {
   "cell_type": "code",
   "execution_count": 1,
   "id": "3a888206",
   "metadata": {},
   "outputs": [],
   "source": [
    "import numpy as np"
   ]
  },
  {
   "cell_type": "code",
   "execution_count": 2,
   "id": "a9417db6",
   "metadata": {},
   "outputs": [
    {
     "name": "stdout",
     "output_type": "stream",
     "text": [
      "[1 2 3 4 5 6]\n",
      "<class 'numpy.ndarray'>\n"
     ]
    }
   ],
   "source": [
    "my_array = np.array([1,2,3,4,5,6])\n",
    "print(my_array)\n",
    "print(type(my_array))"
   ]
  },
  {
   "cell_type": "code",
   "execution_count": 3,
   "id": "9138b838",
   "metadata": {},
   "outputs": [
    {
     "name": "stdout",
     "output_type": "stream",
     "text": [
      "[1 2 3 4 5 6]\n",
      "<class 'numpy.ndarray'>\n"
     ]
    }
   ],
   "source": [
    "my_array = np.array((1,2,3,4,5,6))\n",
    "print(my_array)\n",
    "print(type(my_array))"
   ]
  },
  {
   "cell_type": "markdown",
   "id": "4f2da75d",
   "metadata": {},
   "source": [
    "### Dimensions in Arrays"
   ]
  },
  {
   "cell_type": "markdown",
   "id": "957ab000",
   "metadata": {},
   "source": [
    "1. A dimension in Arrays is one level of array depth (nested array)\n",
    "2. Nested Array are arrays that have arrays of their elements\n",
    "3. There are different types of Arrays:\n",
    "    1. 0-D Array\n",
    "    2. 1-D Array\n",
    "    3. 2-D Array\n",
    "    4. 3-D Array"
   ]
  },
  {
   "cell_type": "markdown",
   "id": "b40396fb",
   "metadata": {},
   "source": [
    "## 1. 0-D Arrays"
   ]
  },
  {
   "cell_type": "markdown",
   "id": "339c7ff7",
   "metadata": {},
   "source": [
    "1. 0-D Array or Scalers are the elements in the array each value in array is a 0-D Array"
   ]
  },
  {
   "cell_type": "code",
   "execution_count": 4,
   "id": "5ee9c21e",
   "metadata": {},
   "outputs": [
    {
     "name": "stdout",
     "output_type": "stream",
     "text": [
      "40\n"
     ]
    }
   ],
   "source": [
    "import numpy as np\n",
    "\n",
    "my_array = np.array(40)\n",
    "print(my_array)"
   ]
  },
  {
   "cell_type": "code",
   "execution_count": 7,
   "id": "2573d09c",
   "metadata": {},
   "outputs": [
    {
     "name": "stdout",
     "output_type": "stream",
     "text": [
      "<class 'numpy.ndarray'>\n",
      "0\n"
     ]
    }
   ],
   "source": [
    "print(type(my_array))\n",
    "print(np.ndim(my_array))"
   ]
  },
  {
   "cell_type": "code",
   "execution_count": 8,
   "id": "0073c0e4",
   "metadata": {},
   "outputs": [
    {
     "name": "stdout",
     "output_type": "stream",
     "text": [
      "1440\n"
     ]
    }
   ],
   "source": [
    "import numpy as np\n",
    "\n",
    "my_array = np.array(1440)\n",
    "print(my_array)"
   ]
  },
  {
   "cell_type": "code",
   "execution_count": 9,
   "id": "cff73e38",
   "metadata": {},
   "outputs": [
    {
     "name": "stdout",
     "output_type": "stream",
     "text": [
      "<class 'numpy.ndarray'>\n",
      "0\n"
     ]
    }
   ],
   "source": [
    "print(type(my_array))\n",
    "print(np.ndim(my_array))"
   ]
  },
  {
   "cell_type": "markdown",
   "id": "abd6eb61",
   "metadata": {},
   "source": [
    "## 2. 1-D Arrays"
   ]
  },
  {
   "cell_type": "markdown",
   "id": "26c486ec",
   "metadata": {},
   "source": [
    "1. An array that has 0-D array as its elements is called uni-dimensional or 1-D Array\n",
    "2. These are most common array or Basic Arrays"
   ]
  },
  {
   "cell_type": "code",
   "execution_count": 10,
   "id": "3e273909",
   "metadata": {},
   "outputs": [
    {
     "name": "stdout",
     "output_type": "stream",
     "text": [
      "[10 20 30 40 50 60]\n",
      "<class 'numpy.ndarray'>\n",
      "1\n"
     ]
    }
   ],
   "source": [
    "import numpy as np\n",
    "\n",
    "my_array = np.array([10,20,30,40,50,60])\n",
    "print(my_array)\n",
    "\n",
    "print(type(my_array))\n",
    "print(np.ndim(my_array))"
   ]
  },
  {
   "cell_type": "markdown",
   "id": "81eee5c5",
   "metadata": {},
   "source": [
    "## 3. 2-D Arrays"
   ]
  },
  {
   "cell_type": "markdown",
   "id": "196148b1",
   "metadata": {},
   "source": [
    "1. An array that has 1-D arrays as its elements is called 2-D array\n",
    "2. These are used to represent matrix or 2nd order tensors\n",
    "3. Numpy has a whole sub module dedicated towords matrix operations called numpy.mat"
   ]
  },
  {
   "cell_type": "code",
   "execution_count": 11,
   "id": "2a9801ec",
   "metadata": {},
   "outputs": [
    {
     "name": "stdout",
     "output_type": "stream",
     "text": [
      "[[10 20 30]\n",
      " [40 50 60]]\n",
      "<class 'numpy.ndarray'>\n",
      "2\n"
     ]
    }
   ],
   "source": [
    "import numpy as np\n",
    "\n",
    "my_array = np.array([[10,20,30],[40,50,60]])\n",
    "print(my_array)\n",
    "\n",
    "\n",
    "print(type(my_array))\n",
    "print(np.ndim(my_array))"
   ]
  },
  {
   "cell_type": "markdown",
   "id": "ee6d6e05",
   "metadata": {},
   "source": [
    "## 4. 3-D Arrays"
   ]
  },
  {
   "cell_type": "markdown",
   "id": "6818a770",
   "metadata": {},
   "source": [
    "1. An arrays that has 2-D arrays (matrix) as its elements is called as 3-D Array\n",
    "2. These are used to represent 3rd order tensor "
   ]
  },
  {
   "cell_type": "code",
   "execution_count": 14,
   "id": "fd2c05f0",
   "metadata": {},
   "outputs": [
    {
     "name": "stdout",
     "output_type": "stream",
     "text": [
      "[[[ 10  20  30]\n",
      "  [ 40  50  60]]\n",
      "\n",
      " [[ 70  80  90]\n",
      "  [100 110 120]]]\n",
      "<class 'numpy.ndarray'>\n",
      "3\n"
     ]
    }
   ],
   "source": [
    "import numpy as np\n",
    "\n",
    "my_array = np.array([[[10,20,30],[40,50,60]],[[70,80,90],[100,110,120]]])\n",
    "print(my_array)\n",
    "\n",
    "print(type(my_array))\n",
    "print(np.ndim(my_array))"
   ]
  },
  {
   "cell_type": "markdown",
   "id": "5be22322",
   "metadata": {},
   "source": [
    "## Check Number of Dimensions"
   ]
  },
  {
   "cell_type": "code",
   "execution_count": 15,
   "id": "a647adf1",
   "metadata": {},
   "outputs": [
    {
     "name": "stdout",
     "output_type": "stream",
     "text": [
      "0\n",
      "1\n",
      "2\n",
      "3\n"
     ]
    }
   ],
   "source": [
    "my_array_1 = np.array(40)\n",
    "my_array_2 = np.array([10,20,30,40,50,60])\n",
    "my_array_3 = np.array([[10,20,30],[40,50,60]])\n",
    "my_array_4 = np.array([[[10,20,30],[40,50,60]],[[70,80,90],[100,110,120]]])\n",
    "\n",
    "print(np.ndim(my_array_1))\n",
    "print(np.ndim(my_array_2))\n",
    "print(np.ndim(my_array_3))\n",
    "print(np.ndim(my_array_4))"
   ]
  },
  {
   "cell_type": "markdown",
   "id": "796e070c",
   "metadata": {},
   "source": [
    "## Higher Dimensional Arrays"
   ]
  },
  {
   "cell_type": "markdown",
   "id": "db230914",
   "metadata": {},
   "source": [
    "1. An Arrays can have any number of dimensions\n",
    "2. When the array is created you can define the number of dimensions by using ndmin arguments"
   ]
  },
  {
   "cell_type": "code",
   "execution_count": 16,
   "id": "296fa324",
   "metadata": {},
   "outputs": [
    {
     "name": "stdout",
     "output_type": "stream",
     "text": [
      "[[[[[10 20 30 40 50 60 70 80 90]]]]]\n",
      "Number of Dimensions:  5\n"
     ]
    }
   ],
   "source": [
    "my_array = np.array([10,20,30,40,50,60,70,80,90], ndmin = 5)\n",
    "\n",
    "print(my_array)\n",
    "\n",
    "print(\"Number of Dimensions: \", my_array.ndim)"
   ]
  },
  {
   "cell_type": "code",
   "execution_count": 17,
   "id": "5cb3b3cd",
   "metadata": {},
   "outputs": [
    {
     "name": "stdout",
     "output_type": "stream",
     "text": [
      "[[[[10 20 30 40 50 60 70 80 90]]]]\n",
      "Number of Dimensions:  4\n"
     ]
    }
   ],
   "source": [
    "my_array = np.array([10,20,30,40,50,60,70,80,90], ndmin = 4)\n",
    "\n",
    "print(my_array)\n",
    "\n",
    "print(\"Number of Dimensions: \", my_array.ndim)"
   ]
  },
  {
   "cell_type": "code",
   "execution_count": 19,
   "id": "6e59615c",
   "metadata": {},
   "outputs": [
    {
     "name": "stdout",
     "output_type": "stream",
     "text": [
      "[[[[[[10 20 30 40 50 60 70 80 90]]]]]]\n",
      "Number of Dimensions:  6\n"
     ]
    }
   ],
   "source": [
    "my_array = np.array([10,20,30,40,50,60,70,80,90], ndmin = 6)\n",
    "\n",
    "print(my_array)\n",
    "\n",
    "print(\"Number of Dimensions: \", my_array.ndim)"
   ]
  },
  {
   "cell_type": "markdown",
   "id": "ecf377d0",
   "metadata": {},
   "source": [
    "# Access Array Elements"
   ]
  },
  {
   "cell_type": "markdown",
   "id": "bac946ed",
   "metadata": {},
   "source": [
    "1. Array indexing is the same as accessing an array elements\n",
    "2. You can access an array elements by referring to its index number\n",
    "3. The index in Numpy arrays starts with 0, meaning that the first elements or arrray has index 0, second elements has index 1 etc\n",
    "4. There are two ways to access Arrrays Elements:\n",
    "    1. Positive Indexing\n",
    "    2. Negative Indexing\n",
    "    3. Range of Indexing (slicing)"
   ]
  },
  {
   "cell_type": "markdown",
   "id": "eed1d33e",
   "metadata": {},
   "source": [
    "## 1. Positive Indexing"
   ]
  },
  {
   "cell_type": "markdown",
   "id": "4d9410a1",
   "metadata": {},
   "source": [
    "## 1. 0-D Array"
   ]
  },
  {
   "cell_type": "code",
   "execution_count": 20,
   "id": "8d9d07b8",
   "metadata": {},
   "outputs": [
    {
     "name": "stdout",
     "output_type": "stream",
     "text": [
      "5\n"
     ]
    }
   ],
   "source": [
    "import numpy as np\n",
    "\n",
    "my_array = np.array(5)\n",
    "print(my_array)"
   ]
  },
  {
   "cell_type": "code",
   "execution_count": 21,
   "id": "86d3464c",
   "metadata": {},
   "outputs": [
    {
     "ename": "IndexError",
     "evalue": "too many indices for array: array is 0-dimensional, but 1 were indexed",
     "output_type": "error",
     "traceback": [
      "\u001b[1;31m---------------------------------------------------------------------------\u001b[0m",
      "\u001b[1;31mIndexError\u001b[0m                                Traceback (most recent call last)",
      "Cell \u001b[1;32mIn[21], line 1\u001b[0m\n\u001b[1;32m----> 1\u001b[0m \u001b[38;5;28mprint\u001b[39m(my_array[\u001b[38;5;241m0\u001b[39m])\n",
      "\u001b[1;31mIndexError\u001b[0m: too many indices for array: array is 0-dimensional, but 1 were indexed"
     ]
    }
   ],
   "source": [
    "print(my_array[0])"
   ]
  },
  {
   "cell_type": "markdown",
   "id": "d922cd10",
   "metadata": {},
   "source": [
    "## 2. 1-D Arrays"
   ]
  },
  {
   "cell_type": "code",
   "execution_count": 22,
   "id": "421e4c6f",
   "metadata": {},
   "outputs": [
    {
     "name": "stdout",
     "output_type": "stream",
     "text": [
      "[10 20 30 40 50 60]\n"
     ]
    }
   ],
   "source": [
    "import numpy as np\n",
    "\n",
    "my_array = np.array([10,20,30,40,50,60])\n",
    "print(my_array)"
   ]
  },
  {
   "cell_type": "code",
   "execution_count": 23,
   "id": "6a065300",
   "metadata": {},
   "outputs": [
    {
     "data": {
      "text/plain": [
       "30"
      ]
     },
     "execution_count": 23,
     "metadata": {},
     "output_type": "execute_result"
    }
   ],
   "source": [
    "my_array[2]"
   ]
  },
  {
   "cell_type": "code",
   "execution_count": 24,
   "id": "b39e8ace",
   "metadata": {},
   "outputs": [
    {
     "data": {
      "text/plain": [
       "array([10, 20, 30, 40])"
      ]
     },
     "execution_count": 24,
     "metadata": {},
     "output_type": "execute_result"
    }
   ],
   "source": [
    "my_array[:4]"
   ]
  },
  {
   "cell_type": "code",
   "execution_count": 25,
   "id": "a4e394ff",
   "metadata": {},
   "outputs": [
    {
     "data": {
      "text/plain": [
       "array([10, 30, 50])"
      ]
     },
     "execution_count": 25,
     "metadata": {},
     "output_type": "execute_result"
    }
   ],
   "source": [
    "my_array[::2]"
   ]
  },
  {
   "cell_type": "markdown",
   "id": "adc9805c",
   "metadata": {},
   "source": [
    "## 3. 2-D Arrays"
   ]
  },
  {
   "cell_type": "markdown",
   "id": "a5c385a9",
   "metadata": {},
   "source": [
    "1. To access elements from 2-D arrays we can use comma separated integers representing the dimension and index of the elements\n",
    "2. 2-D Arrays like a table with rows and column, where the dimension represent the ros and index represent the columnn "
   ]
  },
  {
   "cell_type": "code",
   "execution_count": 26,
   "id": "32997028",
   "metadata": {},
   "outputs": [
    {
     "name": "stdout",
     "output_type": "stream",
     "text": [
      "[[10 20 30]\n",
      " [40 50 60]]\n"
     ]
    }
   ],
   "source": [
    "import numpy as np\n",
    "\n",
    "my_array = np.array([[10,20,30],[40,50,60]])\n",
    "print(my_array)"
   ]
  },
  {
   "cell_type": "markdown",
   "id": "cd5e7c7c",
   "metadata": {},
   "source": [
    "**print(\"Access first 1-d elements list from 2-D Array: \",my_array[dimesion,dimension_elements])**"
   ]
  },
  {
   "cell_type": "code",
   "execution_count": 28,
   "id": "85aafa75",
   "metadata": {},
   "outputs": [
    {
     "name": "stdout",
     "output_type": "stream",
     "text": [
      "Access first 1-d elements list from 2-D Array:  [10 20 30]\n",
      "Access first 1-d elements list from 2-D Array:  [40 50 60]\n"
     ]
    }
   ],
   "source": [
    "print(\"Access first 1-d elements list from 2-D Array: \",my_array[0])\n",
    "print(\"Access first 1-d elements list from 2-D Array: \",my_array[1])"
   ]
  },
  {
   "cell_type": "code",
   "execution_count": 29,
   "id": "c0de7388",
   "metadata": {},
   "outputs": [
    {
     "name": "stdout",
     "output_type": "stream",
     "text": [
      "Access first 1-d elements list from 2-D Array:  30\n",
      "Access first 1-d elements list from 2-D Array:  50\n"
     ]
    }
   ],
   "source": [
    "print(\"Access first 1-d elements list from 2-D Array: \",my_array[0,2])\n",
    "print(\"Access first 1-d elements list from 2-D Array: \",my_array[1,1])"
   ]
  },
  {
   "cell_type": "code",
   "execution_count": 30,
   "id": "bebab1bb",
   "metadata": {},
   "outputs": [
    {
     "name": "stdout",
     "output_type": "stream",
     "text": [
      "Access first 1-d elements list from 2-D Array:  [10 20]\n",
      "Access first 1-d elements list from 2-D Array:  [50 60]\n"
     ]
    }
   ],
   "source": [
    "print(\"Access first 1-d elements list from 2-D Array: \",my_array[0,:2])\n",
    "print(\"Access first 1-d elements list from 2-D Array: \",my_array[1,1:])"
   ]
  },
  {
   "cell_type": "markdown",
   "id": "85b08303",
   "metadata": {},
   "source": [
    "## 4. 3-D Arrays"
   ]
  },
  {
   "cell_type": "code",
   "execution_count": 31,
   "id": "f56eeb73",
   "metadata": {},
   "outputs": [
    {
     "name": "stdout",
     "output_type": "stream",
     "text": [
      "[[[ 10  20  30]\n",
      "  [ 40  50  60]]\n",
      "\n",
      " [[ 70  80  90]\n",
      "  [100 110 120]]]\n"
     ]
    }
   ],
   "source": [
    "import numpy as np\n",
    "\n",
    "my_array = np.array([[[10,20,30],[40,50,60]],[[70,80,90],[100,110,120]]])\n",
    "print(my_array)"
   ]
  },
  {
   "cell_type": "code",
   "execution_count": 32,
   "id": "dca3f57e",
   "metadata": {},
   "outputs": [
    {
     "name": "stdout",
     "output_type": "stream",
     "text": [
      "Access first 1-d elements list from 3-D Array:  [[10 20 30]\n",
      " [40 50 60]]\n",
      "Access first 1-d elements list from 3-D Array:  [[ 70  80  90]\n",
      " [100 110 120]]\n"
     ]
    }
   ],
   "source": [
    "print(\"Access first 1-d elements list from 3-D Array: \",my_array[0])\n",
    "print(\"Access first 1-d elements list from 3-D Array: \",my_array[1])"
   ]
  },
  {
   "cell_type": "code",
   "execution_count": 35,
   "id": "e1a50e89",
   "metadata": {},
   "outputs": [
    {
     "name": "stdout",
     "output_type": "stream",
     "text": [
      "Access first 1-d elements list from 3-D Array:  [10 20 30]\n",
      "Access first 1-d elements list from 3-D Array:  [40 50 60]\n",
      "Access first 1-d elements list from 3-D Array:  [70 80 90]\n",
      "Access first 1-d elements list from 3-D Array:  [100 110 120]\n"
     ]
    }
   ],
   "source": [
    "print(\"Access first 1-d elements list from 3-D Array: \",my_array[0,0])\n",
    "print(\"Access first 1-d elements list from 3-D Array: \",my_array[0,1])\n",
    "print(\"Access first 1-d elements list from 3-D Array: \",my_array[1,0])\n",
    "print(\"Access first 1-d elements list from 3-D Array: \",my_array[1,1])"
   ]
  },
  {
   "cell_type": "code",
   "execution_count": 36,
   "id": "a7a37641",
   "metadata": {},
   "outputs": [
    {
     "name": "stdout",
     "output_type": "stream",
     "text": [
      "Access first 1-d elements list from 3-D Array:  30\n",
      "Access first 1-d elements list from 3-D Array:  50\n",
      "Access first 1-d elements list from 3-D Array:  70\n",
      "Access first 1-d elements list from 3-D Array:  110\n"
     ]
    }
   ],
   "source": [
    "print(\"Access first 1-d elements list from 3-D Array: \",my_array[0,0,2])\n",
    "print(\"Access first 1-d elements list from 3-D Array: \",my_array[0,1,1])\n",
    "print(\"Access first 1-d elements list from 3-D Array: \",my_array[1,0,0])\n",
    "print(\"Access first 1-d elements list from 3-D Array: \",my_array[1,1,1])"
   ]
  },
  {
   "cell_type": "code",
   "execution_count": 37,
   "id": "2fbd9c6f",
   "metadata": {},
   "outputs": [
    {
     "name": "stdout",
     "output_type": "stream",
     "text": [
      "Access first 1-d elements list from 3-D Array:  [20 30]\n",
      "Access first 1-d elements list from 3-D Array:  [40 50]\n",
      "Access first 1-d elements list from 3-D Array:  [70 80 90]\n",
      "Access first 1-d elements list from 3-D Array:  [100]\n"
     ]
    }
   ],
   "source": [
    "print(\"Access first 1-d elements list from 3-D Array: \",my_array[0,0,1:])\n",
    "print(\"Access first 1-d elements list from 3-D Array: \",my_array[0,1,:2])\n",
    "print(\"Access first 1-d elements list from 3-D Array: \",my_array[1,0,:])\n",
    "print(\"Access first 1-d elements list from 3-D Array: \",my_array[1,1,:1])"
   ]
  },
  {
   "cell_type": "markdown",
   "id": "e6c635db",
   "metadata": {},
   "source": [
    "## Negative Indexing"
   ]
  },
  {
   "cell_type": "markdown",
   "id": "528ae207",
   "metadata": {},
   "source": [
    "## 1. 0-D Elements"
   ]
  },
  {
   "cell_type": "code",
   "execution_count": 38,
   "id": "0b6620f6",
   "metadata": {},
   "outputs": [
    {
     "name": "stdout",
     "output_type": "stream",
     "text": [
      "5\n"
     ]
    }
   ],
   "source": [
    "import numpy as np\n",
    "\n",
    "my_array = np.array(5)\n",
    "print(my_array)"
   ]
  },
  {
   "cell_type": "code",
   "execution_count": null,
   "id": "d59fe032",
   "metadata": {},
   "outputs": [],
   "source": [
    "2. 1-D Arrays"
   ]
  }
 ],
 "metadata": {
  "kernelspec": {
   "display_name": "Python 3 (ipykernel)",
   "language": "python",
   "name": "python3"
  },
  "language_info": {
   "codemirror_mode": {
    "name": "ipython",
    "version": 3
   },
   "file_extension": ".py",
   "mimetype": "text/x-python",
   "name": "python",
   "nbconvert_exporter": "python",
   "pygments_lexer": "ipython3",
   "version": "3.11.5"
  }
 },
 "nbformat": 4,
 "nbformat_minor": 5
}
