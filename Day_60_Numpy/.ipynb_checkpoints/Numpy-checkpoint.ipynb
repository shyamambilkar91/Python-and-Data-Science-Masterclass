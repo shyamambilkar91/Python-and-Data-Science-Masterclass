{
 "cells": [
  {
   "cell_type": "markdown",
   "id": "f43cda7d",
   "metadata": {},
   "source": [
    "## Numpy Slicing Array"
   ]
  },
  {
   "cell_type": "markdown",
   "id": "cb35ed07",
   "metadata": {},
   "source": [
    "1. Slicing in Python means taking elements from one given index to another given index\n",
    "2. We pass slice insted of index like this - [start_index:end_index]\n",
    "3. We can also define the steps like this [Start_index: end_index: steps]\n",
    "4. If we dont pass start_index its considered 0\n",
    "5. If we dont pass the end_index its considered length of array in the dimension\n",
    "6. If we dont pass the steps its considered 1"
   ]
  },
  {
   "cell_type": "markdown",
   "id": "54d6217f",
   "metadata": {},
   "source": [
    "### There are two ways to access elements using slicing:\n",
    "    1. Positive Indexing\n",
    "    2. Negative Indexing"
   ]
  },
  {
   "cell_type": "code",
   "execution_count": 1,
   "id": "478ca9dd",
   "metadata": {},
   "outputs": [],
   "source": [
    "import numpy as np"
   ]
  },
  {
   "cell_type": "code",
   "execution_count": 2,
   "id": "27aca839",
   "metadata": {},
   "outputs": [
    {
     "name": "stdout",
     "output_type": "stream",
     "text": [
      "[ 1  2  3  4  5  6  7  8  9 10]\n"
     ]
    }
   ],
   "source": [
    "my_array = np.array([1,2,3,4,5,6,7,8,9,10])\n",
    "print(my_array[:])"
   ]
  },
  {
   "cell_type": "code",
   "execution_count": 3,
   "id": "44ce071e",
   "metadata": {},
   "outputs": [
    {
     "name": "stdout",
     "output_type": "stream",
     "text": [
      "[ 1  2  3  4  5  6  7  8  9 10]\n"
     ]
    }
   ],
   "source": [
    "print(my_array)"
   ]
  },
  {
   "cell_type": "markdown",
   "id": "8cf5c6a0",
   "metadata": {},
   "source": [
    "## 1. Postive Indexing"
   ]
  },
  {
   "cell_type": "markdown",
   "id": "ed5b8525",
   "metadata": {},
   "source": [
    "### 1. Start_Index"
   ]
  },
  {
   "cell_type": "code",
   "execution_count": 4,
   "id": "525e2285",
   "metadata": {},
   "outputs": [
    {
     "name": "stdout",
     "output_type": "stream",
     "text": [
      "[ 3  4  5  6  7  8  9 10]\n"
     ]
    }
   ],
   "source": [
    "my_array = np.array([1,2,3,4,5,6,7,8,9,10])\n",
    "\n",
    "print(my_array[2:])"
   ]
  },
  {
   "cell_type": "markdown",
   "id": "b885eeef",
   "metadata": {},
   "source": [
    "### 2. End_Index"
   ]
  },
  {
   "cell_type": "code",
   "execution_count": 5,
   "id": "afbfe009",
   "metadata": {},
   "outputs": [
    {
     "name": "stdout",
     "output_type": "stream",
     "text": [
      "[1 2 3 4 5 6]\n"
     ]
    }
   ],
   "source": [
    "my_array = np.array([1,2,3,4,5,6,7,8,9,10])\n",
    "print(my_array[:6])"
   ]
  },
  {
   "cell_type": "markdown",
   "id": "db62f94c",
   "metadata": {},
   "source": [
    "### 3. Steps"
   ]
  },
  {
   "cell_type": "code",
   "execution_count": 6,
   "id": "f915117d",
   "metadata": {},
   "outputs": [
    {
     "name": "stdout",
     "output_type": "stream",
     "text": [
      "[1 3 5 7 9]\n"
     ]
    }
   ],
   "source": [
    "my_array = np.array([1,2,3,4,5,6,7,8,9,10])\n",
    "\n",
    "print(my_array[::2])"
   ]
  },
  {
   "cell_type": "code",
   "execution_count": 8,
   "id": "653aa10f",
   "metadata": {},
   "outputs": [
    {
     "name": "stdout",
     "output_type": "stream",
     "text": [
      "[ 1  4  7 10]\n"
     ]
    }
   ],
   "source": [
    "my_array = np.array([1,2,3,4,5,6,7,8,9,10])\n",
    "\n",
    "print(my_array[::3])"
   ]
  },
  {
   "cell_type": "markdown",
   "id": "d7c93055",
   "metadata": {},
   "source": [
    "## 2. Negative Slicing"
   ]
  },
  {
   "cell_type": "code",
   "execution_count": 9,
   "id": "39c827d7",
   "metadata": {},
   "outputs": [
    {
     "name": "stdout",
     "output_type": "stream",
     "text": [
      "[1 2 3 4 5 6 7 8 9]\n"
     ]
    }
   ],
   "source": [
    "my_array = np.array([1,2,3,4,5,6,7,8,9,10])\n",
    "\n",
    "print(my_array[:-1])"
   ]
  },
  {
   "cell_type": "code",
   "execution_count": 10,
   "id": "2d7ee91c",
   "metadata": {},
   "outputs": [
    {
     "name": "stdout",
     "output_type": "stream",
     "text": [
      "[10]\n"
     ]
    }
   ],
   "source": [
    "my_array = np.array([1,2,3,4,5,6,7,8,9,10])\n",
    "\n",
    "print(my_array[-1:])"
   ]
  },
  {
   "cell_type": "markdown",
   "id": "87ac6c50",
   "metadata": {},
   "source": [
    "### Steps"
   ]
  },
  {
   "cell_type": "code",
   "execution_count": 11,
   "id": "d4cb2d95",
   "metadata": {},
   "outputs": [
    {
     "name": "stdout",
     "output_type": "stream",
     "text": [
      "[1 3 5 7 9]\n"
     ]
    }
   ],
   "source": [
    "my_array = np.array([1,2,3,4,5,6,7,8,9,10])\n",
    "\n",
    "print(my_array[:-1:2])"
   ]
  },
  {
   "cell_type": "markdown",
   "id": "22148a33",
   "metadata": {},
   "source": [
    "## Slicing 2-D Arrays"
   ]
  },
  {
   "cell_type": "code",
   "execution_count": 12,
   "id": "bd832b1e",
   "metadata": {},
   "outputs": [],
   "source": [
    "import numpy as np"
   ]
  },
  {
   "cell_type": "code",
   "execution_count": 13,
   "id": "f6b13a0f",
   "metadata": {},
   "outputs": [],
   "source": [
    "my_array = np.array([[10,20,30,40,50],[60,70,80,90,100]])"
   ]
  },
  {
   "cell_type": "code",
   "execution_count": 14,
   "id": "16e78e35",
   "metadata": {},
   "outputs": [
    {
     "data": {
      "text/plain": [
       "array([[ 10,  20,  30,  40,  50],\n",
       "       [ 60,  70,  80,  90, 100]])"
      ]
     },
     "execution_count": 14,
     "metadata": {},
     "output_type": "execute_result"
    }
   ],
   "source": [
    "my_array"
   ]
  },
  {
   "cell_type": "code",
   "execution_count": 15,
   "id": "9265939a",
   "metadata": {},
   "outputs": [
    {
     "name": "stdout",
     "output_type": "stream",
     "text": [
      "2\n"
     ]
    }
   ],
   "source": [
    "print(my_array.ndim)"
   ]
  },
  {
   "cell_type": "code",
   "execution_count": 16,
   "id": "7eb77fed",
   "metadata": {},
   "outputs": [
    {
     "name": "stdout",
     "output_type": "stream",
     "text": [
      "[ 60  70  80  90 100]\n"
     ]
    }
   ],
   "source": [
    "print(my_array[1,])"
   ]
  },
  {
   "cell_type": "code",
   "execution_count": 17,
   "id": "2179fab6",
   "metadata": {},
   "outputs": [
    {
     "name": "stdout",
     "output_type": "stream",
     "text": [
      "[ 80  90 100]\n"
     ]
    }
   ],
   "source": [
    "print(my_array[1,2:])"
   ]
  },
  {
   "cell_type": "code",
   "execution_count": 18,
   "id": "b79d2852",
   "metadata": {},
   "outputs": [
    {
     "name": "stdout",
     "output_type": "stream",
     "text": [
      "[ 60  80 100]\n"
     ]
    }
   ],
   "source": [
    "print(my_array[1,::2])"
   ]
  },
  {
   "cell_type": "code",
   "execution_count": 19,
   "id": "82568929",
   "metadata": {},
   "outputs": [
    {
     "name": "stdout",
     "output_type": "stream",
     "text": [
      "[30 80]\n"
     ]
    }
   ],
   "source": [
    "print(my_array[:4, 2])"
   ]
  },
  {
   "cell_type": "code",
   "execution_count": 20,
   "id": "ddd685a5",
   "metadata": {},
   "outputs": [
    {
     "name": "stdout",
     "output_type": "stream",
     "text": [
      "[ 50 100]\n"
     ]
    }
   ],
   "source": [
    "print(my_array[:2, 4])"
   ]
  },
  {
   "cell_type": "code",
   "execution_count": 22,
   "id": "aa185863",
   "metadata": {},
   "outputs": [
    {
     "name": "stdout",
     "output_type": "stream",
     "text": [
      "[[ 30  40  50]\n",
      " [ 80  90 100]]\n"
     ]
    }
   ],
   "source": [
    "print(my_array[0:2, 2:])"
   ]
  },
  {
   "cell_type": "markdown",
   "id": "18bb245a",
   "metadata": {},
   "source": [
    "### Data Types in Python"
   ]
  },
  {
   "cell_type": "markdown",
   "id": "89e43bcf",
   "metadata": {},
   "source": [
    "### By Default have these data types:\n",
    "    1. String - used to represent text data, the text data under quote marks Example - \"Python Developer\"\n",
    "    2. Integer - used to represent integer number - Example - 10 ,20, 30\n",
    "    3. Float - used to represent real number Example - 12.12, 45.12\n",
    "    4. Boolean - used to represent the True or False\n",
    "    5. Complex - used to represent complex number Example - 1.0 + 2.0j"
   ]
  },
  {
   "cell_type": "markdown",
   "id": "25d0afd9",
   "metadata": {},
   "source": [
    "## Data Types in Numpy"
   ]
  },
  {
   "cell_type": "markdown",
   "id": "d593da8a",
   "metadata": {},
   "source": [
    "1. Numpy has extra datatypes and refers to data types with one character like  i for integers, u for unassign integers etc.\n",
    "2. Below list are the data types in Numpy and characters used  to represent data"
   ]
  },
  {
   "cell_type": "markdown",
   "id": "ee7b0eed",
   "metadata": {},
   "source": [
    "1. i - Integer\n",
    "2. b - boolean\n",
    "3. u - unsigned integer\n",
    "4. f - float\n",
    "5. c - complex float\n",
    "6. m - timedelta\n",
    "7. M - datetime\n",
    "8. O - object\n",
    "9. S - String\n",
    "10. U - unicode string\n",
    "11. Fixed chunk of memory for other type(void)"
   ]
  },
  {
   "cell_type": "code",
   "execution_count": 23,
   "id": "2f27a90d",
   "metadata": {},
   "outputs": [
    {
     "name": "stdout",
     "output_type": "stream",
     "text": [
      "[10 20 30 40]\n"
     ]
    }
   ],
   "source": [
    "import numpy as np\n",
    "\n",
    "my_array = np.array([10,20,30,40])\n",
    "print(my_array)"
   ]
  },
  {
   "cell_type": "code",
   "execution_count": 24,
   "id": "94bbe0cf",
   "metadata": {},
   "outputs": [
    {
     "name": "stdout",
     "output_type": "stream",
     "text": [
      "int32\n"
     ]
    }
   ],
   "source": [
    "print(my_array.dtype)"
   ]
  },
  {
   "cell_type": "code",
   "execution_count": 25,
   "id": "c48e46f7",
   "metadata": {},
   "outputs": [
    {
     "name": "stdout",
     "output_type": "stream",
     "text": [
      "['Banana' 'Apple' 'Mango' 'Cherry']\n"
     ]
    }
   ],
   "source": [
    "my_array = np.array(['Banana','Apple','Mango',\"Cherry\"])\n",
    "print(my_array)"
   ]
  },
  {
   "cell_type": "code",
   "execution_count": 26,
   "id": "d54c1f32",
   "metadata": {},
   "outputs": [
    {
     "name": "stdout",
     "output_type": "stream",
     "text": [
      "<U6\n"
     ]
    }
   ],
   "source": [
    "print(my_array.dtype)"
   ]
  },
  {
   "cell_type": "markdown",
   "id": "b7a43fda",
   "metadata": {},
   "source": [
    "## Creating Arrays with Defined Data Types"
   ]
  },
  {
   "cell_type": "code",
   "execution_count": 27,
   "id": "b4fc97c1",
   "metadata": {},
   "outputs": [
    {
     "name": "stdout",
     "output_type": "stream",
     "text": [
      "[b'10' b'20' b'30' b'40' b'50']\n",
      "|S2\n"
     ]
    }
   ],
   "source": [
    "my_array = np.array([10,20,30,40,50],dtype=\"S\")\n",
    "print(my_array)\n",
    "\n",
    "print(my_array.dtype)"
   ]
  },
  {
   "cell_type": "code",
   "execution_count": 28,
   "id": "eda94b8b",
   "metadata": {},
   "outputs": [
    {
     "name": "stdout",
     "output_type": "stream",
     "text": [
      "[10 20 30 40 50]\n",
      "int32\n"
     ]
    }
   ],
   "source": [
    "my_array = np.array([10,20,30,40,50],dtype=\"i\")\n",
    "print(my_array)\n",
    "\n",
    "print(my_array.dtype)"
   ]
  },
  {
   "cell_type": "code",
   "execution_count": 29,
   "id": "dec7bffd",
   "metadata": {},
   "outputs": [
    {
     "name": "stdout",
     "output_type": "stream",
     "text": [
      "[10. 20. 30. 40. 50.]\n",
      "float32\n"
     ]
    }
   ],
   "source": [
    "my_array = np.array([10,20,30,40,50],dtype=\"f\")\n",
    "print(my_array)\n",
    "\n",
    "print(my_array.dtype)"
   ]
  },
  {
   "cell_type": "code",
   "execution_count": 31,
   "id": "42710df5",
   "metadata": {},
   "outputs": [
    {
     "name": "stdout",
     "output_type": "stream",
     "text": [
      "['10' '20' '30' '40' '50']\n",
      "<U2\n"
     ]
    }
   ],
   "source": [
    "my_array = np.array([10,20,30,40,50],dtype=\"U\")\n",
    "print(my_array)\n",
    "\n",
    "print(my_array.dtype)"
   ]
  },
  {
   "cell_type": "code",
   "execution_count": 33,
   "id": "36d0a0f3",
   "metadata": {},
   "outputs": [
    {
     "name": "stdout",
     "output_type": "stream",
     "text": [
      "[10 20 30 40 50]\n",
      "int64\n"
     ]
    }
   ],
   "source": [
    "my_array = np.array([10,20,30,40,50],dtype=\"i8\")\n",
    "print(my_array)\n",
    "\n",
    "print(my_array.dtype)"
   ]
  },
  {
   "cell_type": "code",
   "execution_count": 34,
   "id": "b12d0ba0",
   "metadata": {},
   "outputs": [
    {
     "name": "stdout",
     "output_type": "stream",
     "text": [
      "[b'10' b'20' b'30' b'40' b'50']\n",
      "|S2\n"
     ]
    }
   ],
   "source": [
    "my_array = np.array(['10','20','30','40','50'],dtype=\"S\")\n",
    "print(my_array)\n",
    "\n",
    "print(my_array.dtype)"
   ]
  },
  {
   "cell_type": "code",
   "execution_count": 36,
   "id": "378a6cf7",
   "metadata": {},
   "outputs": [
    {
     "ename": "ValueError",
     "evalue": "invalid literal for int() with base 10: 'a'",
     "output_type": "error",
     "traceback": [
      "\u001b[1;31m---------------------------------------------------------------------------\u001b[0m",
      "\u001b[1;31mValueError\u001b[0m                                Traceback (most recent call last)",
      "Cell \u001b[1;32mIn[36], line 1\u001b[0m\n\u001b[1;32m----> 1\u001b[0m my_array \u001b[38;5;241m=\u001b[39m np\u001b[38;5;241m.\u001b[39marray([\u001b[38;5;124m'\u001b[39m\u001b[38;5;124m10\u001b[39m\u001b[38;5;124m'\u001b[39m,\u001b[38;5;124m'\u001b[39m\u001b[38;5;124m20\u001b[39m\u001b[38;5;124m'\u001b[39m,\u001b[38;5;124m'\u001b[39m\u001b[38;5;124m30\u001b[39m\u001b[38;5;124m'\u001b[39m,\u001b[38;5;124m'\u001b[39m\u001b[38;5;124m40\u001b[39m\u001b[38;5;124m'\u001b[39m,\u001b[38;5;124m'\u001b[39m\u001b[38;5;124m50\u001b[39m\u001b[38;5;124m'\u001b[39m,\u001b[38;5;124m'\u001b[39m\u001b[38;5;124ma\u001b[39m\u001b[38;5;124m'\u001b[39m],dtype\u001b[38;5;241m=\u001b[39m\u001b[38;5;124m\"\u001b[39m\u001b[38;5;124mi\u001b[39m\u001b[38;5;124m\"\u001b[39m)\n\u001b[0;32m      2\u001b[0m \u001b[38;5;28mprint\u001b[39m(my_array)\n\u001b[0;32m      4\u001b[0m \u001b[38;5;28mprint\u001b[39m(my_array\u001b[38;5;241m.\u001b[39mdtype)\n",
      "\u001b[1;31mValueError\u001b[0m: invalid literal for int() with base 10: 'a'"
     ]
    }
   ],
   "source": [
    "my_array = np.array(['10','20','30','40','50','a'],dtype=\"i\")\n",
    "print(my_array)\n",
    "\n",
    "print(my_array.dtype)"
   ]
  },
  {
   "cell_type": "code",
   "execution_count": null,
   "id": "fa08c5b8",
   "metadata": {},
   "outputs": [],
   "source": []
  }
 ],
 "metadata": {
  "kernelspec": {
   "display_name": "Python 3 (ipykernel)",
   "language": "python",
   "name": "python3"
  },
  "language_info": {
   "codemirror_mode": {
    "name": "ipython",
    "version": 3
   },
   "file_extension": ".py",
   "mimetype": "text/x-python",
   "name": "python",
   "nbconvert_exporter": "python",
   "pygments_lexer": "ipython3",
   "version": "3.11.5"
  }
 },
 "nbformat": 4,
 "nbformat_minor": 5
}
