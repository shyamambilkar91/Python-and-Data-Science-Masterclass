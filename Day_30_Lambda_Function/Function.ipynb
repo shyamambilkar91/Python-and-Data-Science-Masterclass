{
 "cells": [
  {
   "cell_type": "markdown",
   "id": "98b32e23",
   "metadata": {},
   "source": [
    "# Lambda Function"
   ]
  },
  {
   "cell_type": "markdown",
   "id": "b9afd2a6",
   "metadata": {},
   "source": [
    "1. A lambda function is a small Anonymous function\n",
    "2. A lambda function can take any number arguments, but can only have one expression\n",
    "3. Syntax [ lambda arguments : expression ]\n",
    "4. The expression is executed and the result is returned"
   ]
  },
  {
   "cell_type": "code",
   "execution_count": 2,
   "id": "3556b5ac",
   "metadata": {},
   "outputs": [
    {
     "name": "stdout",
     "output_type": "stream",
     "text": [
      "110\n"
     ]
    }
   ],
   "source": [
    "x = lambda a : a + 100\n",
    "print(x(10))"
   ]
  },
  {
   "cell_type": "code",
   "execution_count": 11,
   "id": "b64378e0",
   "metadata": {},
   "outputs": [
    {
     "data": {
      "text/plain": [
       "40"
      ]
     },
     "execution_count": 11,
     "metadata": {},
     "output_type": "execute_result"
    }
   ],
   "source": [
    "def my_function(a):\n",
    "    return a + 20\n",
    "\n",
    "my_function(20)"
   ]
  },
  {
   "cell_type": "code",
   "execution_count": 12,
   "id": "da1daad9",
   "metadata": {},
   "outputs": [
    {
     "name": "stdout",
     "output_type": "stream",
     "text": [
      "400\n"
     ]
    }
   ],
   "source": [
    "x = lambda a, b : a * b\n",
    "print(x(40, 10))"
   ]
  },
  {
   "cell_type": "code",
   "execution_count": 13,
   "id": "29d0a928",
   "metadata": {},
   "outputs": [
    {
     "name": "stdout",
     "output_type": "stream",
     "text": [
      "600\n"
     ]
    }
   ],
   "source": [
    "x = lambda a, b, c : a * b + c\n",
    "print(x(40, 10, 200))"
   ]
  },
  {
   "cell_type": "markdown",
   "id": "e5e1835f",
   "metadata": {},
   "source": [
    "## Why use Lambda Functions ?"
   ]
  },
  {
   "cell_type": "markdown",
   "id": "338727e5",
   "metadata": {},
   "source": [
    "1. The powe of lambda function is better shown you have use anonymous function inside another function.\n",
    "2. You have function definition that takes one arguments, and that arguments will be multiplied with an unknown number"
   ]
  },
  {
   "cell_type": "code",
   "execution_count": 14,
   "id": "fbcc80c4",
   "metadata": {},
   "outputs": [],
   "source": [
    "def my_function(n):\n",
    "    return lambda a : a * n "
   ]
  },
  {
   "cell_type": "code",
   "execution_count": 15,
   "id": "a97c7e09",
   "metadata": {},
   "outputs": [
    {
     "data": {
      "text/plain": [
       "<function __main__.my_function.<locals>.<lambda>(a)>"
      ]
     },
     "execution_count": 15,
     "metadata": {},
     "output_type": "execute_result"
    }
   ],
   "source": [
    "def my_function(n):\n",
    "    return lambda a : a * n \n",
    "\n",
    "my_function(5)"
   ]
  },
  {
   "cell_type": "code",
   "execution_count": 16,
   "id": "94f1433a",
   "metadata": {},
   "outputs": [
    {
     "name": "stdout",
     "output_type": "stream",
     "text": [
      "100\n"
     ]
    }
   ],
   "source": [
    "def my_function(n):\n",
    "    return lambda a : a * n \n",
    "\n",
    "my_num = my_function(5)\n",
    "print(my_num(20))"
   ]
  },
  {
   "cell_type": "markdown",
   "id": "9dad7eee",
   "metadata": {},
   "source": [
    "## Area of Circle"
   ]
  },
  {
   "cell_type": "code",
   "execution_count": 20,
   "id": "ac4d6d26",
   "metadata": {},
   "outputs": [
    {
     "name": "stdout",
     "output_type": "stream",
     "text": [
      "Enter Radius of the Circle: 5\n",
      "Area of Circle: 78.50\n"
     ]
    }
   ],
   "source": [
    "radius = int(input(\"Enter Radius of the Circle: \"))\n",
    "\n",
    "area = 3.14 * radius ** 2\n",
    "print(\"Area of Circle: {0:.2f}\".format(area))"
   ]
  },
  {
   "cell_type": "markdown",
   "id": "c70f7c5e",
   "metadata": {},
   "source": [
    "## Area of Triangle"
   ]
  },
  {
   "cell_type": "code",
   "execution_count": 26,
   "id": "dee28a22",
   "metadata": {},
   "outputs": [
    {
     "name": "stdout",
     "output_type": "stream",
     "text": [
      "Enter Breadth: 15\n",
      "Enter Height: 20\n",
      "Area ofTriangle: 150.000\n"
     ]
    }
   ],
   "source": [
    "b = int(input(\"Enter Breadth: \"))\n",
    "h = int(input(\"Enter Height: \"))\n",
    "\n",
    "area = (b  * h) / 2\n",
    "print(\"Area ofTriangle: {0:.3f}\".format(area))"
   ]
  },
  {
   "cell_type": "code",
   "execution_count": null,
   "id": "219aca36",
   "metadata": {},
   "outputs": [],
   "source": []
  }
 ],
 "metadata": {
  "kernelspec": {
   "display_name": "Python 3 (ipykernel)",
   "language": "python",
   "name": "python3"
  },
  "language_info": {
   "codemirror_mode": {
    "name": "ipython",
    "version": 3
   },
   "file_extension": ".py",
   "mimetype": "text/x-python",
   "name": "python",
   "nbconvert_exporter": "python",
   "pygments_lexer": "ipython3",
   "version": "3.11.5"
  }
 },
 "nbformat": 4,
 "nbformat_minor": 5
}
