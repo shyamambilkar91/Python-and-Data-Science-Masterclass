{
 "cells": [
  {
   "cell_type": "markdown",
   "id": "0db4ffe9",
   "metadata": {},
   "source": [
    "# Standard Deviation"
   ]
  },
  {
   "cell_type": "markdown",
   "id": "873cf8e5",
   "metadata": {},
   "source": [
    "1. Standard deviation is a number that describe how spread out the values are\n",
    "2. A low standard deviation means most of the numbers are close to mean(average) value\n",
    "3. A High standard deviation means that the values are spered out over wide range"
   ]
  },
  {
   "cell_type": "markdown",
   "id": "118ca10f",
   "metadata": {},
   "source": [
    "**Standard Deviation Formula:**![](https://www.gstatic.com/education/formulas2/553212783/en/population_standard_deviation.svg)"
   ]
  },
  {
   "cell_type": "markdown",
   "id": "96b98900",
   "metadata": {},
   "source": [
    "### Where\n",
    "1. sigma =population standard deviation\n",
    "2. N = the size of the population\n",
    "3. x_i = each value from the population\n",
    "4. mu = the population mean"
   ]
  },
  {
   "cell_type": "markdown",
   "id": "0c3c18f9",
   "metadata": {},
   "source": [
    "**mu (Average or Mean Value) =**![](https://www.gstatic.com/education/formulas2/553212783/en/mean.svg)"
   ]
  },
  {
   "cell_type": "markdown",
   "id": "de4f4f98",
   "metadata": {},
   "source": [
    "## Example"
   ]
  },
  {
   "cell_type": "markdown",
   "id": "e3cd3f5a",
   "metadata": {},
   "source": [
    "**1. During a Survey, 6 Students were asked how many hours per day they study on an average ? There answers were as follows 2, 6, 5, 3, 2, 3. Evaluation the standard Deviation**"
   ]
  },
  {
   "cell_type": "code",
   "execution_count": 1,
   "id": "f3cdb9f4",
   "metadata": {},
   "outputs": [],
   "source": [
    "hours_per_study = [2, 6, 5, 3, 2, 3]"
   ]
  },
  {
   "cell_type": "markdown",
   "id": "013c6dd9",
   "metadata": {},
   "source": [
    "1. x_i = [2, 6, 5, 3, 2, 3]\n",
    "2. N = 6\n",
    "3. mu (Average) = ?"
   ]
  },
  {
   "cell_type": "code",
   "execution_count": 2,
   "id": "6a1eeb2a",
   "metadata": {},
   "outputs": [
    {
     "name": "stdout",
     "output_type": "stream",
     "text": [
      "3.5\n"
     ]
    }
   ],
   "source": [
    "mu = 2 + 6 + 5 + 3 + 2 + 3\n",
    "mu  = mu / 6\n",
    "print(mu)"
   ]
  },
  {
   "cell_type": "markdown",
   "id": "6ccce323",
   "metadata": {},
   "source": [
    "### Step II :"
   ]
  },
  {
   "cell_type": "raw",
   "id": "178a76f9",
   "metadata": {},
   "source": [
    "x_i\tx_i-x_bar\t\t(x_i - x_bar)2\n",
    "2\t2 - 3.5\t = -1.5\t    2.25\n",
    "6\t6 - 3.5\t =  2.5\t    6.25\n",
    "5\t5 - 3.5\t =  1.5\t    2.25\n",
    "3\t3 - 3.5\t = -0.5\t    0.25\n",
    "2\t2 - 3.5\t = -1.5\t    2.25\n",
    "3\t3 - 3.5\t = -0.5\t    0.25\n",
    "\n",
    "13.5\t\t\t\n"
   ]
  },
  {
   "cell_type": "markdown",
   "id": "ccb0dd1f",
   "metadata": {},
   "source": [
    "### Step III : Calculate, Use the Standard Deviation"
   ]
  },
  {
   "cell_type": "code",
   "execution_count": 11,
   "id": "775c6caf",
   "metadata": {},
   "outputs": [],
   "source": [
    "summation_of = 13.5 / 6"
   ]
  },
  {
   "cell_type": "code",
   "execution_count": 12,
   "id": "2f490d95",
   "metadata": {},
   "outputs": [
    {
     "name": "stdout",
     "output_type": "stream",
     "text": [
      "2.25\n"
     ]
    }
   ],
   "source": [
    "print(summation_of)"
   ]
  },
  {
   "cell_type": "code",
   "execution_count": 13,
   "id": "9b5d6fdd",
   "metadata": {},
   "outputs": [],
   "source": [
    "Standard_Deviation = [1.5]"
   ]
  },
  {
   "cell_type": "code",
   "execution_count": 14,
   "id": "e4f406de",
   "metadata": {},
   "outputs": [
    {
     "name": "stdout",
     "output_type": "stream",
     "text": [
      "1.5\n"
     ]
    }
   ],
   "source": [
    "import numpy as np\n",
    "\n",
    "hours_per_study = [2, 6, 5, 3, 2, 3]\n",
    "\n",
    "standard_deviation = np.std(hours_per_study)\n",
    "print(standard_deviation)"
   ]
  },
  {
   "cell_type": "markdown",
   "id": "f3a67343",
   "metadata": {},
   "source": [
    "# Variance"
   ]
  },
  {
   "cell_type": "markdown",
   "id": "b9f70f41",
   "metadata": {},
   "source": [
    "1. Variance is another number that indicates how spread out the values are\n",
    "2. If fact, If you take the square root of variance you will get the value of Standard Deviation\n",
    "3. If you multiply by standard deviation by itself, you will get the value of variance"
   ]
  },
  {
   "cell_type": "markdown",
   "id": "ce3b6ede",
   "metadata": {},
   "source": [
    "**Variance Formula**![](https://www.gstatic.com/education/formulas2/553212783/en/sample_variance.svg)"
   ]
  },
  {
   "cell_type": "markdown",
   "id": "108e51c0",
   "metadata": {},
   "source": [
    "### Where\n",
    "1. variance = sample variance\n",
    "2. x_i = the value of the one observation\n",
    "3. x_bar{x} = the mean value of all observations\n",
    "4. n = the number of observations"
   ]
  },
  {
   "cell_type": "code",
   "execution_count": 15,
   "id": "8f7ef09d",
   "metadata": {},
   "outputs": [],
   "source": [
    "hours_per_study = [2, 6, 5, 3, 2, 3]"
   ]
  },
  {
   "cell_type": "markdown",
   "id": "d647eb0f",
   "metadata": {},
   "source": [
    "### Step_1- calculate Average value"
   ]
  },
  {
   "cell_type": "code",
   "execution_count": 16,
   "id": "c73d0018",
   "metadata": {},
   "outputs": [
    {
     "name": "stdout",
     "output_type": "stream",
     "text": [
      "3.5\n"
     ]
    }
   ],
   "source": [
    "variance = 2 + 6 + 5 + 3 + 2 + 3\n",
    "variance  = variance / 6\n",
    "print(variance)"
   ]
  },
  {
   "cell_type": "markdown",
   "id": "c2191aa0",
   "metadata": {},
   "source": [
    "### Step_2 : Calculate difference from the mean value"
   ]
  },
  {
   "cell_type": "code",
   "execution_count": 20,
   "id": "998a1c09",
   "metadata": {},
   "outputs": [
    {
     "name": "stdout",
     "output_type": "stream",
     "text": [
      " 2 - 3.5 = -1.5\n",
      " 6 - 3.5 = 2.5\n",
      " 5 - 3.5 = 1.5\n",
      " 3 - 3.5 = -0.5\n",
      " 2 - 3.5 = -1.5\n",
      " 3 - 3.5 = -0.5\n"
     ]
    }
   ],
   "source": [
    "print(\" 2 - 3.5 =\", 2 - 3.5)\n",
    "print(\" 6 - 3.5 =\", 6 - 3.5)\n",
    "print(\" 5 - 3.5 =\", 5 - 3.5)\n",
    "print(\" 3 - 3.5 =\", 3 - 3.5)\n",
    "print(\" 2 - 3.5 =\", 2 - 3.5)\n",
    "print(\" 3 - 3.5 =\", 3 - 3.5)"
   ]
  },
  {
   "cell_type": "markdown",
   "id": "6ad23ed5",
   "metadata": {},
   "source": [
    "### Step_3 - Find the square of each diffrence value"
   ]
  },
  {
   "cell_type": "code",
   "execution_count": 27,
   "id": "f8de35a1",
   "metadata": {},
   "outputs": [
    {
     "name": "stdout",
     "output_type": "stream",
     "text": [
      "-1.5 ** 2 =  2.25\n",
      " 2.5 ** 2 =  6.25\n",
      " 1.5 ** 2 =  2.25\n",
      "-0.5 ** 2 =  0.25\n",
      "-1.5 ** 2 =  2.25\n",
      "-0.5 ** 2 =  0.25\n"
     ]
    }
   ],
   "source": [
    "print(\"-1.5 ** 2 = \", (-1.5) ** 2)\n",
    "print(\" 2.5 ** 2 = \", (2.5) ** 2)\n",
    "print(\" 1.5 ** 2 = \", (-1.5) ** 2)\n",
    "print(\"-0.5 ** 2 = \", (-0.5) ** 2)\n",
    "print(\"-1.5 ** 2 = \", (-1.5) ** 2)\n",
    "print(\"-0.5 ** 2 = \", (-0.5) ** 2)"
   ]
  },
  {
   "cell_type": "markdown",
   "id": "20743578",
   "metadata": {},
   "source": [
    "### Step_4 - The variance is the average number of these square differences"
   ]
  },
  {
   "cell_type": "code",
   "execution_count": 28,
   "id": "4321e611",
   "metadata": {},
   "outputs": [
    {
     "name": "stdout",
     "output_type": "stream",
     "text": [
      "13.5\n"
     ]
    }
   ],
   "source": [
    "square_difference = 2.25 + 6.25 + 2.25 + 0.25 + 2.25 + 0.25\n",
    "print(square_difference)"
   ]
  },
  {
   "cell_type": "markdown",
   "id": "863c4eab",
   "metadata": {},
   "source": [
    "### Final Calculation"
   ]
  },
  {
   "cell_type": "code",
   "execution_count": 29,
   "id": "a3b6ce3c",
   "metadata": {},
   "outputs": [
    {
     "name": "stdout",
     "output_type": "stream",
     "text": [
      "5\n"
     ]
    }
   ],
   "source": [
    "N = 6 - 1\n",
    "print(N)\n"
   ]
  },
  {
   "cell_type": "code",
   "execution_count": 36,
   "id": "9edad7ec",
   "metadata": {},
   "outputs": [
    {
     "name": "stdout",
     "output_type": "stream",
     "text": [
      "2.7\n"
     ]
    }
   ],
   "source": [
    "final_op = 13.5 / 5\n",
    "print(final_op)"
   ]
  },
  {
   "cell_type": "code",
   "execution_count": 39,
   "id": "2bb6965c",
   "metadata": {},
   "outputs": [
    {
     "name": "stdout",
     "output_type": "stream",
     "text": [
      "2.25\n"
     ]
    }
   ],
   "source": [
    "final_op = 13.5 / 6\n",
    "print(final_op)"
   ]
  },
  {
   "cell_type": "code",
   "execution_count": 37,
   "id": "27b75a17",
   "metadata": {},
   "outputs": [
    {
     "name": "stdout",
     "output_type": "stream",
     "text": [
      "1.6431676725154984\n"
     ]
    }
   ],
   "source": [
    "import math\n",
    "\n",
    "x = math.sqrt(final_op)\n",
    "print(x)"
   ]
  },
  {
   "cell_type": "code",
   "execution_count": 38,
   "id": "75db63a0",
   "metadata": {},
   "outputs": [
    {
     "name": "stdout",
     "output_type": "stream",
     "text": [
      "2.25\n"
     ]
    }
   ],
   "source": [
    "import numpy as np\n",
    "\n",
    "hours_per_study = [2, 6, 5, 3, 2, 3]\n",
    "variance_op = np.var(hours_per_study)\n",
    "print(variance_op)"
   ]
  },
  {
   "cell_type": "code",
   "execution_count": null,
   "id": "1b9f6b49",
   "metadata": {},
   "outputs": [],
   "source": []
  },
  {
   "cell_type": "code",
   "execution_count": null,
   "id": "1c8a6105",
   "metadata": {},
   "outputs": [],
   "source": []
  }
 ],
 "metadata": {
  "kernelspec": {
   "display_name": "Python 3 (ipykernel)",
   "language": "python",
   "name": "python3"
  },
  "language_info": {
   "codemirror_mode": {
    "name": "ipython",
    "version": 3
   },
   "file_extension": ".py",
   "mimetype": "text/x-python",
   "name": "python",
   "nbconvert_exporter": "python",
   "pygments_lexer": "ipython3",
   "version": "3.11.5"
  }
 },
 "nbformat": 4,
 "nbformat_minor": 5
}
