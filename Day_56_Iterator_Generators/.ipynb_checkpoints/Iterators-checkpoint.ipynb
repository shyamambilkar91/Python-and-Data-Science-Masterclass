{
 "cells": [
  {
   "cell_type": "markdown",
   "id": "92f0010d",
   "metadata": {},
   "source": [
    "# Iterators and Genrators"
   ]
  },
  {
   "cell_type": "markdown",
   "id": "9bf2b3c5",
   "metadata": {},
   "source": [
    "1. An Iterators is an object that contains a countable number of values\n",
    "2. An Iterators is an object that can be iterated upon, meaning that you can traverse through all the value\n",
    "3. An Iterators is an object which implements the iterators which consist of the method __iter__() and __next__()"
   ]
  },
  {
   "cell_type": "markdown",
   "id": "dd400b47",
   "metadata": {},
   "source": [
    "## Iterator vs Iterable"
   ]
  },
  {
   "cell_type": "markdown",
   "id": "89c04fbf",
   "metadata": {},
   "source": [
    "1. Lists, Tuples, Dictionaries, and sets all iterable objects.\n",
    "2. They are iterable containers which you can get an iterator from\n",
    "3. All these objects have a iter() method which is used to get iterator"
   ]
  },
  {
   "cell_type": "code",
   "execution_count": 2,
   "id": "1e9690d5",
   "metadata": {},
   "outputs": [
    {
     "name": "stdout",
     "output_type": "stream",
     "text": [
      "apple\n",
      "mango\n"
     ]
    }
   ],
   "source": [
    "my_list = [\"apple\",\"mango\",'cherry',\"blackcurrent\",'pineapple']\n",
    "\n",
    "my_iter = iter(my_list)\n",
    "\n",
    "print(next(my_iter))\n",
    "print(next(my_iter))"
   ]
  },
  {
   "cell_type": "code",
   "execution_count": 3,
   "id": "0ead8de5",
   "metadata": {},
   "outputs": [
    {
     "name": "stdout",
     "output_type": "stream",
     "text": [
      "apple\n",
      "mango\n",
      "cherry\n",
      "blackcurrent\n",
      "pineapple\n"
     ]
    }
   ],
   "source": [
    "my_list = [\"apple\",\"mango\",'cherry',\"blackcurrent\",'pineapple']\n",
    "\n",
    "for i in my_list:\n",
    "    print(i)"
   ]
  },
  {
   "cell_type": "code",
   "execution_count": 5,
   "id": "1dfc28b6",
   "metadata": {},
   "outputs": [
    {
     "name": "stdout",
     "output_type": "stream",
     "text": [
      "<str_ascii_iterator object at 0x000001D3BAEB3970>\n",
      "B\n"
     ]
    }
   ],
   "source": [
    "my_string = \"Banana\"\n",
    "\n",
    "my_iter = iter(my_string)\n",
    "print(my_iter)\n",
    "\n",
    "print(next(my_iter))"
   ]
  },
  {
   "cell_type": "markdown",
   "id": "785e2a0f",
   "metadata": {},
   "source": [
    "### Create an Iterator"
   ]
  },
  {
   "cell_type": "raw",
   "id": "4ddaece7",
   "metadata": {},
   "source": [
    "1. To create an object/class as iterator you have to implement the method __iter__() and __next__() to you object.\n",
    "2. All class called have a function called __init__(), which allows you to some initializing when the object is being created.\n",
    "3. The __iter__() method act as similar, you can do opearation(intialization etc.) but must always return the iterator object itself.\n",
    "4. The __next__() method also allows you to do operatons and must return the next item (value) in the sequence"
   ]
  },
  {
   "cell_type": "code",
   "execution_count": 15,
   "id": "72445ba6",
   "metadata": {},
   "outputs": [
    {
     "name": "stdout",
     "output_type": "stream",
     "text": [
      "<__main__.MyNumber object at 0x000001D3BC3F8450>\n",
      "<__main__.MyNumber object at 0x000001D3BC3F8450>\n",
      "1\n",
      "2\n",
      "3\n"
     ]
    }
   ],
   "source": [
    "class MyNumber:\n",
    "    def __iter__(self):\n",
    "        self.x = 1\n",
    "        return self\n",
    "    \n",
    "    def __next__(self):\n",
    "        y = self.x\n",
    "        self.x = self.x + 1\n",
    "        return y\n",
    "    \n",
    "obj_1 = MyNumber()\n",
    "my_iter = iter(obj_1)\n",
    "\n",
    "print(my_iter)\n",
    "print(obj_1)\n",
    "\n",
    "print(next(my_iter))\n",
    "print(next(my_iter))\n",
    "print(next(my_iter))"
   ]
  },
  {
   "cell_type": "markdown",
   "id": "ee0211b6",
   "metadata": {},
   "source": [
    "### Stop Iteratation"
   ]
  },
  {
   "cell_type": "code",
   "execution_count": 22,
   "id": "c454fd61",
   "metadata": {},
   "outputs": [
    {
     "name": "stdout",
     "output_type": "stream",
     "text": [
      "1\n",
      "2\n"
     ]
    }
   ],
   "source": [
    "class MyNumbers:\n",
    "    def __iter__(self):\n",
    "        self.x = 1\n",
    "        return self\n",
    "    \n",
    "    def __next__(self):\n",
    "        if self.x <= 20:\n",
    "            y = self.x\n",
    "            self.x = self.x + 1\n",
    "            return y\n",
    "        else:\n",
    "            raise StopIteration\n",
    "            \n",
    "obj_1 = MyNumbers()\n",
    "my_iter = iter(obj_1)\n",
    "\n",
    "# for i in my_iter:\n",
    "#     if i <= 5:\n",
    "#         print(i)\n",
    "\n",
    "print(next(my_iter))\n",
    "print(next(my_iter))"
   ]
  },
  {
   "cell_type": "code",
   "execution_count": null,
   "id": "ed8544ae",
   "metadata": {},
   "outputs": [],
   "source": []
  }
 ],
 "metadata": {
  "kernelspec": {
   "display_name": "Python 3 (ipykernel)",
   "language": "python",
   "name": "python3"
  },
  "language_info": {
   "codemirror_mode": {
    "name": "ipython",
    "version": 3
   },
   "file_extension": ".py",
   "mimetype": "text/x-python",
   "name": "python",
   "nbconvert_exporter": "python",
   "pygments_lexer": "ipython3",
   "version": "3.11.5"
  }
 },
 "nbformat": 4,
 "nbformat_minor": 5
}
