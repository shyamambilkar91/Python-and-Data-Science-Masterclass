{
 "cells": [
  {
   "cell_type": "raw",
   "id": "26073f65",
   "metadata": {},
   "source": [
    "A A A A A\n",
    "B B B B B\n",
    "C C C C C\n",
    "D D D D D\n",
    "E E E E E"
   ]
  },
  {
   "cell_type": "code",
   "execution_count": 1,
   "id": "3248c926",
   "metadata": {},
   "outputs": [
    {
     "name": "stdout",
     "output_type": "stream",
     "text": [
      "A A A A A \n",
      "B B B B B \n",
      "C C C C C \n",
      "D D D D D \n",
      "E E E E E \n"
     ]
    }
   ],
   "source": [
    "for i in range(65, 70):\n",
    "    for j in range(1, 6):\n",
    "        print(chr(i), end=\" \")\n",
    "    print()"
   ]
  },
  {
   "cell_type": "code",
   "execution_count": null,
   "id": "4a0e099c",
   "metadata": {},
   "outputs": [],
   "source": [
    "Step_1\n",
    "i = 65, n = 70\n",
    "for i in range(65,70)\n",
    "\n",
    "i = 65 [65 < 70] 65 = 65 + 1 = 66\n",
    "\n",
    "Inner_step_1\n",
    "j = 1, n = 6\n",
    "for j in range(1,6)\n",
    "\n",
    "j = 1, [j < 6] j = j + 1 = 2\n",
    "j = 2, [j < 6] j = j + 1 = 3\n",
    "j = 3, [j < 6] j = j + 1 = 4\n",
    "j = 4, [j < 6] j = j + 1 = 5\n",
    "j = 5, [j < 6] j = j + 1 = 6\n",
    "\n",
    "j = 6, [j < 6] loop end\n",
    "\n",
    "Step_2\n",
    "i = 66 n = 70\n",
    "\n",
    "i = 66, [i < 70] 66 = 66 + 1 = 67\n",
    "\n",
    "Inner_step_2\n",
    "j = 1, n = 6\n",
    "\n",
    "j = 1, [j < 6] j = j + 1 = 2\n",
    "j = 2, [j < 6] j = j + 1 = 3\n",
    "j = 3, [j < 6] j = j + 1 = 4\n",
    "j = 4, [j < 6] j = j + 1 = 5\n",
    "j = 5, [j < 6] j = j + 1 = 6\n"
   ]
  },
  {
   "cell_type": "raw",
   "id": "66a31d35",
   "metadata": {},
   "source": [
    "A B C D E\n",
    "A B C D E\n",
    "A B C D E\n",
    "A B C D E\n",
    "A B C D E"
   ]
  },
  {
   "cell_type": "code",
   "execution_count": 4,
   "id": "80a95210",
   "metadata": {},
   "outputs": [
    {
     "name": "stdout",
     "output_type": "stream",
     "text": [
      "A B C D E \n",
      "A B C D E \n",
      "A B C D E \n",
      "A B C D E \n",
      "A B C D E \n"
     ]
    }
   ],
   "source": [
    "for i in range(1, 6):\n",
    "    for j in range(65, 70):\n",
    "        print(chr(j), end=\" \")\n",
    "    print()"
   ]
  },
  {
   "cell_type": "code",
   "execution_count": 5,
   "id": "2e86a6ca",
   "metadata": {},
   "outputs": [
    {
     "name": "stdout",
     "output_type": "stream",
     "text": [
      "A B C D E \n",
      "A B C D E \n",
      "A B C D E \n",
      "A B C D E \n",
      "A B C D E \n"
     ]
    }
   ],
   "source": [
    "for i in 'ABCDE':\n",
    "    for j in 'ABCDE':\n",
    "        print(j, end=' ')\n",
    "    print()"
   ]
  },
  {
   "cell_type": "code",
   "execution_count": 6,
   "id": "a8bea104",
   "metadata": {},
   "outputs": [
    {
     "name": "stdout",
     "output_type": "stream",
     "text": [
      "A A A A A \n",
      "B B B B B \n",
      "C C C C C \n",
      "D D D D D \n",
      "E E E E E \n"
     ]
    }
   ],
   "source": [
    "for i in 'ABCDE':\n",
    "    for j in 'ABCDE':\n",
    "        print(i, end=' ')\n",
    "    print()"
   ]
  },
  {
   "cell_type": "raw",
   "id": "8407bacc",
   "metadata": {},
   "source": [
    "E E E E E\n",
    "D D D D D\n",
    "C C C C C\n",
    "B B B B B\n",
    "A A A A A"
   ]
  },
  {
   "cell_type": "code",
   "execution_count": null,
   "id": "90bd0363",
   "metadata": {},
   "outputs": [],
   "source": [
    "E D C B A\n",
    "E D C B A\n",
    "E D C B A\n",
    "E D C B A\n",
    "E D C B A"
   ]
  }
 ],
 "metadata": {
  "kernelspec": {
   "display_name": "Python 3 (ipykernel)",
   "language": "python",
   "name": "python3"
  },
  "language_info": {
   "codemirror_mode": {
    "name": "ipython",
    "version": 3
   },
   "file_extension": ".py",
   "mimetype": "text/x-python",
   "name": "python",
   "nbconvert_exporter": "python",
   "pygments_lexer": "ipython3",
   "version": "3.11.5"
  }
 },
 "nbformat": 4,
 "nbformat_minor": 5
}
