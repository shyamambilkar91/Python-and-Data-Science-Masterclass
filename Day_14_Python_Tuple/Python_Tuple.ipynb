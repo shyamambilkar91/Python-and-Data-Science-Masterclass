{
 "cells": [
  {
   "cell_type": "markdown",
   "id": "7c4e17c0",
   "metadata": {},
   "source": [
    "# Python - Update Tuples"
   ]
  },
  {
   "cell_type": "markdown",
   "id": "05f1ffc9",
   "metadata": {},
   "source": [
    "1. Tuples are unchangeble, that means we cannot change, add, insert or remove tuple\n",
    "2. there are some workarouds"
   ]
  },
  {
   "cell_type": "markdown",
   "id": "61d06e62",
   "metadata": {},
   "source": [
    "## Change Tuples Values"
   ]
  },
  {
   "cell_type": "markdown",
   "id": "11555c3e",
   "metadata": {},
   "source": [
    "1. Once tuple is created you cannot change its value, Tuple are **unchangeble** or it is also called as **immutable**\n",
    "2. But in tuple there is some workaround, you can convert tuple into list, change list and convert the list into tuple"
   ]
  },
  {
   "cell_type": "code",
   "execution_count": 2,
   "id": "a6ac65f7",
   "metadata": {},
   "outputs": [
    {
     "name": "stdout",
     "output_type": "stream",
     "text": [
      "('apple', 'mango', 'cherry', 'orange', 'watermelon')\n",
      "<class 'tuple'>\n"
     ]
    }
   ],
   "source": [
    "my_tuple = (\"apple\",\"mango\",'cherry','orange','watermelon')\n",
    "print(my_tuple)\n",
    "print(type(my_tuple))"
   ]
  },
  {
   "cell_type": "code",
   "execution_count": 3,
   "id": "425ba6d5",
   "metadata": {},
   "outputs": [
    {
     "ename": "TypeError",
     "evalue": "'tuple' object does not support item assignment",
     "output_type": "error",
     "traceback": [
      "\u001b[1;31m---------------------------------------------------------------------------\u001b[0m",
      "\u001b[1;31mTypeError\u001b[0m                                 Traceback (most recent call last)",
      "Cell \u001b[1;32mIn[3], line 3\u001b[0m\n\u001b[0;32m      1\u001b[0m my_tuple \u001b[38;5;241m=\u001b[39m (\u001b[38;5;124m\"\u001b[39m\u001b[38;5;124mapple\u001b[39m\u001b[38;5;124m\"\u001b[39m,\u001b[38;5;124m\"\u001b[39m\u001b[38;5;124mmango\u001b[39m\u001b[38;5;124m\"\u001b[39m,\u001b[38;5;124m'\u001b[39m\u001b[38;5;124mcherry\u001b[39m\u001b[38;5;124m'\u001b[39m,\u001b[38;5;124m'\u001b[39m\u001b[38;5;124morange\u001b[39m\u001b[38;5;124m'\u001b[39m,\u001b[38;5;124m'\u001b[39m\u001b[38;5;124mwatermelon\u001b[39m\u001b[38;5;124m'\u001b[39m)\n\u001b[1;32m----> 3\u001b[0m my_tuple[\u001b[38;5;241m1\u001b[39m] \u001b[38;5;241m=\u001b[39m \u001b[38;5;124m\"\u001b[39m\u001b[38;5;124mGrapes\u001b[39m\u001b[38;5;124m\"\u001b[39m\n\u001b[0;32m      4\u001b[0m \u001b[38;5;28mprint\u001b[39m(my_tuple)\n",
      "\u001b[1;31mTypeError\u001b[0m: 'tuple' object does not support item assignment"
     ]
    }
   ],
   "source": [
    "my_tuple = (\"apple\",\"mango\",'cherry','orange','watermelon')\n",
    "\n",
    "my_tuple[1] = \"Grapes\"\n",
    "print(my_tuple)"
   ]
  },
  {
   "cell_type": "code",
   "execution_count": 4,
   "id": "036e51b5",
   "metadata": {},
   "outputs": [
    {
     "name": "stdout",
     "output_type": "stream",
     "text": [
      "('apple', 'Grapes', 'cherry', 'orange', 'watermelon')\n"
     ]
    }
   ],
   "source": [
    "my_tuple = (\"apple\",\"mango\",'cherry','orange','watermelon')\n",
    "\n",
    "# Convert tuple into a list\n",
    "my_list = list(my_tuple)\n",
    "\n",
    "my_list[1] = \"Grapes\"\n",
    "\n",
    "# Convert list into tuple\n",
    "my_tuple = tuple(my_list)\n",
    "print(my_tuple)"
   ]
  },
  {
   "cell_type": "markdown",
   "id": "2dedcf7b",
   "metadata": {},
   "source": [
    "## Add Elements"
   ]
  },
  {
   "cell_type": "code",
   "execution_count": 5,
   "id": "1f1c6e48",
   "metadata": {},
   "outputs": [
    {
     "name": "stdout",
     "output_type": "stream",
     "text": [
      "('apple', 'mango', 'cherry', 'orange', 'watermelon', 'orange')\n"
     ]
    }
   ],
   "source": [
    "my_tuple = (\"apple\",\"mango\",'cherry','orange','watermelon')\n",
    "\n",
    "my_list = list(my_tuple)\n",
    "\n",
    "my_list.append(\"orange\")\n",
    "\n",
    "my_tuple = tuple(my_list)\n",
    "print(my_tuple)"
   ]
  },
  {
   "cell_type": "code",
   "execution_count": 6,
   "id": "5b960a2a",
   "metadata": {},
   "outputs": [
    {
     "name": "stdout",
     "output_type": "stream",
     "text": [
      "('apple', 'banana', 'mango', 'cherry', 'orange', 'watermelon')\n"
     ]
    }
   ],
   "source": [
    "my_tuple = (\"apple\",\"mango\",'cherry','orange','watermelon')\n",
    "\n",
    "my_list = list(my_tuple)\n",
    "\n",
    "my_list.insert(1,\"banana\")\n",
    "\n",
    "my_tuple = tuple(my_list)\n",
    "print(my_tuple)"
   ]
  },
  {
   "cell_type": "code",
   "execution_count": 7,
   "id": "a5623b85",
   "metadata": {},
   "outputs": [
    {
     "name": "stdout",
     "output_type": "stream",
     "text": [
      "('apple', 'mango', 'cherry', 'orange', 'watermelon', 'Grapes', 'banana', 'blackcurrent', 'mango')\n"
     ]
    }
   ],
   "source": [
    "my_tuple_1 = (\"apple\",\"mango\",'cherry','orange','watermelon')\n",
    "my_tuple_2 = (\"Grapes\",'banana','blackcurrent','mango')\n",
    "\n",
    "my_list_1 = list(my_tuple_1)\n",
    "my_list_2 = list(my_tuple_2)\n",
    "\n",
    "my_list_1.extend(my_list_2)\n",
    "\n",
    "my_tuple_1 = tuple(my_list_1)\n",
    "print(my_tuple_1)"
   ]
  },
  {
   "cell_type": "markdown",
   "id": "2d2de06a",
   "metadata": {},
   "source": [
    "## Remove Items"
   ]
  },
  {
   "cell_type": "code",
   "execution_count": 8,
   "id": "f1606be4",
   "metadata": {},
   "outputs": [
    {
     "name": "stdout",
     "output_type": "stream",
     "text": [
      "('apple', 'mango', 'cherry', 'orange')\n"
     ]
    }
   ],
   "source": [
    "my_tuple_1 = (\"apple\",\"mango\",'cherry','orange','watermelon')\n",
    "\n",
    "my_list_1 = list(my_tuple_1)\n",
    "\n",
    "my_list_1.pop()\n",
    "\n",
    "my_tuple_1 = tuple(my_list_1)\n",
    "print(my_tuple_1)"
   ]
  },
  {
   "cell_type": "code",
   "execution_count": 9,
   "id": "d14e8b09",
   "metadata": {},
   "outputs": [
    {
     "name": "stdout",
     "output_type": "stream",
     "text": [
      "('apple', 'mango', 'cherry', 'watermelon')\n"
     ]
    }
   ],
   "source": [
    "my_tuple_1 = (\"apple\",\"mango\",'cherry','orange','watermelon')\n",
    "\n",
    "my_list_1 = list(my_tuple_1)\n",
    "\n",
    "my_list_1.remove(\"orange\")\n",
    "\n",
    "my_tuple_1 = tuple(my_list_1)\n",
    "print(my_tuple_1)"
   ]
  },
  {
   "cell_type": "code",
   "execution_count": 10,
   "id": "7df79c13",
   "metadata": {},
   "outputs": [
    {
     "ename": "NameError",
     "evalue": "name 'my_tuple_1' is not defined",
     "output_type": "error",
     "traceback": [
      "\u001b[1;31m---------------------------------------------------------------------------\u001b[0m",
      "\u001b[1;31mNameError\u001b[0m                                 Traceback (most recent call last)",
      "Cell \u001b[1;32mIn[10], line 5\u001b[0m\n\u001b[0;32m      1\u001b[0m my_tuple_1 \u001b[38;5;241m=\u001b[39m (\u001b[38;5;124m\"\u001b[39m\u001b[38;5;124mapple\u001b[39m\u001b[38;5;124m\"\u001b[39m,\u001b[38;5;124m\"\u001b[39m\u001b[38;5;124mmango\u001b[39m\u001b[38;5;124m\"\u001b[39m,\u001b[38;5;124m'\u001b[39m\u001b[38;5;124mcherry\u001b[39m\u001b[38;5;124m'\u001b[39m,\u001b[38;5;124m'\u001b[39m\u001b[38;5;124morange\u001b[39m\u001b[38;5;124m'\u001b[39m,\u001b[38;5;124m'\u001b[39m\u001b[38;5;124mwatermelon\u001b[39m\u001b[38;5;124m'\u001b[39m)\n\u001b[0;32m      3\u001b[0m \u001b[38;5;28;01mdel\u001b[39;00m my_tuple_1\n\u001b[1;32m----> 5\u001b[0m \u001b[38;5;28mprint\u001b[39m(my_tuple_1)\n",
      "\u001b[1;31mNameError\u001b[0m: name 'my_tuple_1' is not defined"
     ]
    }
   ],
   "source": [
    "my_tuple_1 = (\"apple\",\"mango\",'cherry','orange','watermelon')\n",
    "\n",
    "del my_tuple_1\n",
    "\n",
    "print(my_tuple_1)"
   ]
  },
  {
   "cell_type": "markdown",
   "id": "2d6a2327",
   "metadata": {},
   "source": [
    "# Unpacking Tuples"
   ]
  },
  {
   "cell_type": "code",
   "execution_count": 14,
   "id": "0f3a45fc",
   "metadata": {},
   "outputs": [
    {
     "name": "stdout",
     "output_type": "stream",
     "text": [
      "watermelon\n"
     ]
    }
   ],
   "source": [
    "my_color = (\"apple\",\"mango\",'cherry','orange','watermelon')\n",
    "\n",
    "(red, yellow, darkred, white, green) = my_color\n",
    "\n",
    "print(green)"
   ]
  },
  {
   "cell_type": "markdown",
   "id": "6197da1a",
   "metadata": {},
   "source": [
    "**Note : The number of variable must match the number of values in the tuples, if not you must * astrisk to collect remaining  values in list**"
   ]
  },
  {
   "cell_type": "code",
   "execution_count": 15,
   "id": "5824b21c",
   "metadata": {},
   "outputs": [
    {
     "name": "stdout",
     "output_type": "stream",
     "text": [
      "apple\n",
      "mango\n",
      "['cherry', 'orange', 'watermelon']\n"
     ]
    }
   ],
   "source": [
    "my_color = (\"apple\",\"mango\",'cherry','orange','watermelon')\n",
    "\n",
    "(red, yellow, *white) = my_color\n",
    "\n",
    "print(red)\n",
    "print(yellow)\n",
    "print(white)"
   ]
  },
  {
   "cell_type": "code",
   "execution_count": 16,
   "id": "60334476",
   "metadata": {},
   "outputs": [
    {
     "name": "stdout",
     "output_type": "stream",
     "text": [
      "apple\n",
      "['mango', 'cherry', 'orange']\n",
      "watermelon\n"
     ]
    }
   ],
   "source": [
    "my_color = (\"apple\",\"mango\",'cherry','orange','watermelon')\n",
    "\n",
    "(red, *yellow, white) = my_color\n",
    "\n",
    "print(red)\n",
    "print(yellow)\n",
    "print(white)"
   ]
  },
  {
   "cell_type": "markdown",
   "id": "01904319",
   "metadata": {},
   "source": [
    "## Tuples - Using Loop"
   ]
  },
  {
   "cell_type": "code",
   "execution_count": 17,
   "id": "55185664",
   "metadata": {},
   "outputs": [
    {
     "name": "stdout",
     "output_type": "stream",
     "text": [
      "apple\n",
      "mango\n",
      "cherry\n",
      "orange\n",
      "watermelon\n"
     ]
    }
   ],
   "source": [
    "my_tuple_1 = (\"apple\",\"mango\",'cherry','orange','watermelon')\n",
    "\n",
    "for i in my_tuple_1:\n",
    "    print(i)"
   ]
  },
  {
   "cell_type": "code",
   "execution_count": 18,
   "id": "2734dd69",
   "metadata": {},
   "outputs": [
    {
     "name": "stdout",
     "output_type": "stream",
     "text": [
      "('apple', 'mango', 'cherry', 'orange', 'watermelon')\n",
      "('apple', 'mango', 'cherry', 'orange', 'watermelon')\n",
      "('apple', 'mango', 'cherry', 'orange', 'watermelon')\n",
      "('apple', 'mango', 'cherry', 'orange', 'watermelon')\n",
      "('apple', 'mango', 'cherry', 'orange', 'watermelon')\n"
     ]
    }
   ],
   "source": [
    "my_tuple_1 = (\"apple\",\"mango\",'cherry','orange','watermelon')\n",
    "\n",
    "for i in my_tuple_1:\n",
    "    print(my_tuple_1)"
   ]
  },
  {
   "cell_type": "code",
   "execution_count": 19,
   "id": "13c9b4a5",
   "metadata": {},
   "outputs": [
    {
     "name": "stdout",
     "output_type": "stream",
     "text": [
      "apple\n",
      "mango\n",
      "cherry\n",
      "orange\n",
      "watermelon\n"
     ]
    }
   ],
   "source": [
    "my_tuple_1 = (\"apple\",\"mango\",'cherry','orange','watermelon')\n",
    "\n",
    "for i in range(len(my_tuple_1)):\n",
    "    print(my_tuple_1[i])"
   ]
  },
  {
   "cell_type": "code",
   "execution_count": 20,
   "id": "cf00262a",
   "metadata": {},
   "outputs": [
    {
     "name": "stdout",
     "output_type": "stream",
     "text": [
      "0\n",
      "1\n",
      "2\n",
      "3\n",
      "4\n"
     ]
    }
   ],
   "source": [
    "my_tuple_1 = (\"apple\",\"mango\",'cherry','orange','watermelon')\n",
    "\n",
    "for i in range(len(my_tuple_1)):\n",
    "    print(i)"
   ]
  },
  {
   "cell_type": "markdown",
   "id": "08b6c5ca",
   "metadata": {},
   "source": [
    "## Join Tuples"
   ]
  },
  {
   "cell_type": "code",
   "execution_count": 21,
   "id": "1587b545",
   "metadata": {},
   "outputs": [
    {
     "name": "stdout",
     "output_type": "stream",
     "text": [
      "('apple', 'mango', 'cherry', 'orange', 'watermelon', 'Grapes', 'banana', 'blackcurrent', 'mango')\n"
     ]
    }
   ],
   "source": [
    "my_tuple_1 = (\"apple\",\"mango\",'cherry','orange','watermelon')\n",
    "my_tuple_2 = (\"Grapes\",'banana','blackcurrent','mango')\n",
    "\n",
    "my_tuple_1 = my_tuple_1 + my_tuple_2\n",
    "print(my_tuple_1)"
   ]
  },
  {
   "cell_type": "code",
   "execution_count": 22,
   "id": "357749b6",
   "metadata": {},
   "outputs": [
    {
     "name": "stdout",
     "output_type": "stream",
     "text": [
      "('apple', 'mango', 'cherry', 'orange', 'watermelon', 'apple', 'mango', 'cherry', 'orange', 'watermelon')\n"
     ]
    }
   ],
   "source": [
    "my_tuple_1 = (\"apple\",\"mango\",'cherry','orange','watermelon')\n",
    "my_tuple_2 = my_tuple_1 * 2\n",
    "\n",
    "print(my_tuple_2)"
   ]
  },
  {
   "cell_type": "code",
   "execution_count": 23,
   "id": "c36b6927",
   "metadata": {},
   "outputs": [
    {
     "name": "stdout",
     "output_type": "stream",
     "text": [
      "('apple', 'mango', 'cherry', 'orange', 'watermelon', 'apple', 'mango', 'cherry', 'orange', 'watermelon', 'apple', 'mango', 'cherry', 'orange', 'watermelon', 'apple', 'mango', 'cherry', 'orange', 'watermelon')\n"
     ]
    }
   ],
   "source": [
    "my_tuple_1 = (\"apple\",\"mango\",'cherry','orange','watermelon')\n",
    "my_tuple_2 = my_tuple_1 * 4\n",
    "\n",
    "print(my_tuple_2)"
   ]
  },
  {
   "cell_type": "markdown",
   "id": "c11a8086",
   "metadata": {},
   "source": [
    "## Count Tuple Elements"
   ]
  },
  {
   "cell_type": "code",
   "execution_count": 24,
   "id": "59804b88",
   "metadata": {},
   "outputs": [],
   "source": [
    "my_tuple_1 = ('apple', 'mango', 'cherry', 'orange', 'watermelon', 'apple', 'mango', 'cherry', 'orange', 'watermelon', 'apple', 'mango', 'cherry', 'orange', 'watermelon', 'apple', 'mango', 'cherry', 'orange', 'watermelon')"
   ]
  },
  {
   "cell_type": "code",
   "execution_count": 25,
   "id": "0d7cee28",
   "metadata": {},
   "outputs": [
    {
     "name": "stdout",
     "output_type": "stream",
     "text": [
      "4\n"
     ]
    }
   ],
   "source": [
    "result = my_tuple_1.count('apple')\n",
    "print(result)"
   ]
  },
  {
   "cell_type": "code",
   "execution_count": 26,
   "id": "c8dad4c0",
   "metadata": {},
   "outputs": [
    {
     "name": "stdout",
     "output_type": "stream",
     "text": [
      "0\n"
     ]
    }
   ],
   "source": [
    "result = my_tuple_1.index('apple')\n",
    "print(result)"
   ]
  },
  {
   "cell_type": "code",
   "execution_count": null,
   "id": "bc7be691",
   "metadata": {},
   "outputs": [],
   "source": []
  }
 ],
 "metadata": {
  "kernelspec": {
   "display_name": "Python 3 (ipykernel)",
   "language": "python",
   "name": "python3"
  },
  "language_info": {
   "codemirror_mode": {
    "name": "ipython",
    "version": 3
   },
   "file_extension": ".py",
   "mimetype": "text/x-python",
   "name": "python",
   "nbconvert_exporter": "python",
   "pygments_lexer": "ipython3",
   "version": "3.11.5"
  }
 },
 "nbformat": 4,
 "nbformat_minor": 5
}
