{
 "cells": [
  {
   "cell_type": "markdown",
   "id": "b026ac86",
   "metadata": {},
   "source": [
    "# Web Scrapping"
   ]
  },
  {
   "cell_type": "markdown",
   "id": "9c714bf3",
   "metadata": {},
   "source": [
    "1. Gathering Information from any web Page (Collection of Data)\n",
    "2. Regex\n",
    "3. BeautifulSoup (bs4)\n",
    "4. Web Scrapping"
   ]
  },
  {
   "cell_type": "markdown",
   "id": "789ebf61",
   "metadata": {},
   "source": [
    "### Application"
   ]
  },
  {
   "cell_type": "markdown",
   "id": "13815d42",
   "metadata": {},
   "source": [
    "1. E-commerce Websites\n",
    "2. Email ID\n",
    "3. Phone Number\n",
    "4. Social Media\n",
    "5. Job Listing\n",
    "7. Travels Sites"
   ]
  },
  {
   "cell_type": "code",
   "execution_count": 1,
   "id": "653a6785",
   "metadata": {},
   "outputs": [],
   "source": [
    "import urllib\n",
    "import re\n",
    "import pandas as pd"
   ]
  },
  {
   "cell_type": "code",
   "execution_count": 3,
   "id": "41d3bef9",
   "metadata": {},
   "outputs": [],
   "source": [
    "# help(urllib)"
   ]
  },
  {
   "cell_type": "code",
   "execution_count": 8,
   "id": "c7077724",
   "metadata": {},
   "outputs": [],
   "source": [
    "url = \"https://www.summet.com/dmsi/html/codesamples/addresses.html\"\n",
    "\n",
    "data = urllib.request.urlopen(url)\n",
    "\n",
    "read_data = data.read()\n",
    "\n",
    "my_data = read_data.decode()"
   ]
  },
  {
   "cell_type": "code",
   "execution_count": 9,
   "id": "a320d123",
   "metadata": {},
   "outputs": [
    {
     "name": "stdout",
     "output_type": "stream",
     "text": [
      "<html>\n",
      "<head>\n",
      "\t<title>Sample Addresses!</title>\n",
      "<script async src=\"https://pagead2.googlesyndication.com/pagead/js/adsbygoogle.js?client=ca-pub-2760663110461940\"\n",
      "     crossorigin=\"anonymous\"></script>\n",
      "\n",
      "</head>\n",
      "<body>\n",
      "<h1> A page full of sample addresses for your parsing enjoyment!</h1>\n",
      "<h2> (All data is random....)</h2>\n",
      "<ul>\n",
      "\n",
      "<script async src=\"https://pagead2.googlesyndication.com/pagead/js/adsbygoogle.js?client=ca-pub-2760663110461940\"\n",
      "     crossorigin=\"anonymous\"></script>\n",
      "<!-- summet.com-dmsi-addresses -->\n",
      "<ins class=\"adsbygoogle\"\n",
      "     style=\"display:block\"\n",
      "     data-ad-client=\"ca-pub-2760663110461940\"\n",
      "     data-ad-slot=\"5472586510\"\n",
      "     data-ad-format=\"auto\"\n",
      "     data-full-width-responsive=\"true\"></ins>\n",
      "<script>\n",
      "     (adsbygoogle = window.adsbygoogle || []).push({});\n",
      "</script>\n",
      "\n",
      "<li>Cecilia Chapman<br/>711-2880 Nulla St.<br/>Mankato Mississippi 96522<br/>(257) 563-7401</li>\n",
      "<li>Iris Watson<br/>P.O. Box 283 8562 Fusce Rd.<br/>Frederick Nebraska 20620<br/>(372) 587-2335</li>\n",
      "<li>Celeste Slater<br/>606-3727 Ullamcorper. Street<br/>Roseville NH 11523<br/>(786) 713-8616</li>\n",
      "<li>Theodore Lowe<br/>Ap #867-859 Sit Rd.<br/>Azusa New York 39531<br/>(793) 151-6230</li>\n",
      "<li>Calista Wise<br/>7292 Dictum Av.<br/>San Antonio MI 47096<br/>(492) 709-6392</li>\n",
      "<li>Kyla Olsen<br/>Ap #651-8679 Sodales Av.<br/>Tamuning PA 10855<br/>(654) 393-5734</li>\n",
      "<li>Forrest Ray<br/>191-103 Integer Rd.<br/>Corona New Mexico 08219<br/>(404) 960-3807</li>\n",
      "<li>Hiroko Potter<br/>P.O. Box 887 2508 Dolor. Av.<br/>Muskegon KY 12482<br/>(314) 244-6306</li>\n",
      "<li>Nyssa Vazquez<br/>511-5762 At Rd.<br/>Chelsea MI 67708<br/>(947) 278-5929</li>\n",
      "<li>Lawrence Moreno<br/>935-9940 Tortor. Street<br/>Santa Rosa MN 98804<br/>(684) 579-1879</li>\n",
      "<li>Ina Moran<br/>P.O. Box 929 4189 Nunc Road<br/>Lebanon KY 69409<br/>(389) 737-2852</li>\n",
      "<li>Aaron Hawkins<br/>5587 Nunc. Avenue<br/>Erie Rhode Island 24975<br/>(660) 663-4518</li>\n",
      "<li>Hedy Greene<br/>Ap #696-3279 Viverra. Avenue<br/>Latrobe DE 38100<br/>(608) 265-2215</li>\n",
      "<li>Melvin Porter<br/>P.O. Box 132 1599 Curabitur Rd.<br/>Bandera South Dakota 45149<br/>(959) 119-8364</li>\n",
      "<li>Keefe Sellers<br/>347-7666 Iaculis St.<br/>Woodruff SC 49854<br/>(468) 353-2641</li>\n",
      "<li>Joan Romero<br/>666-4366 Lacinia Avenue<br/>Idaho Falls Ohio 19253<br/>(248) 675-4007</li>\n",
      "<li>Davis Patrick<br/>P.O. Box 147 2546 Sociosqu Rd.<br/>Bethlehem Utah 02913<br/>(939) 353-1107</li>\n",
      "<li>Leilani Boyer<br/>557-6308 Lacinia Road<br/>San Bernardino ND 09289<br/>(570) 873-7090</li>\n",
      "<li>Colby Bernard<br/>Ap #285-7193 Ullamcorper Avenue<br/>Amesbury HI 93373<br/>(302) 259-2375</li>\n",
      "<li>Bryar Pitts<br/>5543 Aliquet St.<br/>Fort Dodge GA 20783<br/>(717) 450-4729</li>\n",
      "<li>Rahim Henderson<br/>5037 Diam Rd.<br/>Daly City Ohio 90255<br/>(453) 391-4650</li>\n",
      "<li>Noelle Adams<br/>6351 Fringilla Avenue<br/>Gardena Colorado 37547<br/>(559) 104-5475</li>\n",
      "<li>Lillith Daniel<br/>935-1670 Neque. St.<br/>Centennial Delaware 48432<br/>(387) 142-9434</li>\n",
      "<li>Adria Russell<br/>414-7533 Non Rd.<br/>Miami Beach North Dakota 58563<br/>(516) 745-4496</li>\n",
      "<li>Hilda Haynes<br/>778-9383 Suspendisse Av.<br/>Weirton IN 93479<br/>(326) 677-3419</li>\n",
      "<li>Sheila Mcintosh<br/>P.O. Box 360 4407 Et Rd.<br/>Santa Monica FL 30309<br/>(746) 679-2470</li>\n",
      "<li>Rebecca Chambers<br/>P.O. Box 813 5982 Sit Ave<br/>Liberal Vermont 51324<br/>(455) 430-0989</li>\n",
      "<li>Christian Emerson<br/>P.O. Box 886 4118 Arcu St.<br/>Rolling Hills Georgia 92358<br/>(490) 936-4694</li>\n",
      "<li>Nevada Ware<br/>P.O. Box 597 4156 Tincidunt Ave<br/>Green Bay Indiana 19759<br/>(985) 834-8285</li>\n",
      "<li>Margaret Joseph<br/>P.O. Box 508 3919 Gravida St.<br/>Tamuning Washington 55797<br/>(662) 661-1446</li>\n",
      "<li>Edward Nieves<br/>928-3313 Vel Av.<br/>Idaho Falls Rhode Island 37232<br/>(802) 668-8240</li>\n",
      "<li>Imani Talley<br/>P.O. Box 262 4978 Sit St.<br/>Yigo Massachusetts 50654<br/>(477) 768-9247</li>\n",
      "<li>Bertha Riggs<br/>P.O. Box 206 6639 In St.<br/>Easthampton TN 31626<br/>(791) 239-9057</li>\n",
      "<li>Wallace Ross<br/>313 Pellentesque Ave<br/>Villa Park Hawaii 43526<br/>(832) 109-0213</li>\n",
      "<li>Chester Bennett<br/>3476 Aliquet. Ave<br/>Minot AZ 95302<br/>(837) 196-3274</li>\n",
      "<li>Castor Richardson<br/>P.O. Box 902 3472 Ullamcorper Street<br/>Lynchburg DC 29738<br/>(268) 442-2428</li>\n",
      "<li>Sonya Jordan<br/>Ap #443-336 Ullamcorper. Street<br/>Visalia VA 54886<br/>(850) 676-5117</li>\n",
      "<li>Harrison Mcguire<br/>574-8633 Arcu Street<br/>San Fernando ID 77373<br/>(861) 546-5032</li>\n",
      "<li>Malcolm Long<br/>9291 Proin Road<br/>Lake Charles Maine 11292<br/>(176) 805-4108</li>\n",
      "<li>Raymond Levy<br/>Ap #643-7006 Risus St.<br/>Beaumont New Mexico 73585<br/>(715) 912-6931</li>\n",
      "<li>Hedley Ingram<br/>737-2580 At Street<br/>Independence Texas 87535<br/>(993) 554-0563</li>\n",
      "<li>David Mathews<br/>1011 Malesuada Road<br/>Moscow Kentucky 77382<br/>(357) 616-5411</li>\n",
      "<li>Xyla Cash<br/>969-1762 Tincidunt Rd.<br/>Boise CT 35282<br/>(121) 347-0086</li>\n",
      "<li>Madeline Gregory<br/>977-4841 Ut Ave<br/>Walla Walla Michigan 82776<br/>(304) 506-6314</li>\n",
      "<li>Griffith Daniels<br/>6818 Eget St.<br/>Tacoma AL 92508<br/>(425) 288-2332</li>\n",
      "<li>Anne Beasley<br/>987-4223 Urna St.<br/>Savannah Illinois 85794<br/>(145) 987-4962</li>\n",
      "<li>Chaney Bennett<br/>P.O. Box 721 902 Dolor Rd.<br/>Fremont AK 19408<br/>(187) 582-9707</li>\n",
      "<li>Daniel Bernard<br/>P.O. Box 567 1561 Duis Rd.<br/>Pomona TN 08609<br/>(750) 558-3965</li>\n",
      "<li>Willow Hunt<br/>Ap #784-1887 Lobortis Ave<br/>Cudahy Ohio 31522<br/>(492) 467-3131</li>\n",
      "<li>Judith Floyd<br/>361-7936 Feugiat St.<br/>Williston Nevada 58521<br/>(774) 914-2510</li>\n",
      "<li>Seth Farley<br/>6216 Aenean Avenue<br/>Seattle Utah 81202<br/>(888) 106-8550</li>\n",
      "<li>Zephania Sanders<br/>3714 Nascetur St.<br/>Hawthorne Louisiana 10626<br/>(539) 567-3573</li>\n",
      "<li>Calista Merritt<br/>Ap #938-5470 Posuere Ave<br/>Chickasha LA 58520<br/>(693) 337-2849</li>\n",
      "<li>Craig Williams<br/>P.O. Box 372 5634 Montes Rd.<br/>Springdale MO 57692<br/>(545) 604-9386</li>\n",
      "<li>Lee Preston<br/>981 Eget Rd.<br/>Clemson GA 04645<br/>(221) 156-5026</li>\n",
      "<li>Katelyn Cooper<br/>6059 Sollicitudin Road<br/>Burlingame Colorado 26278<br/>(414) 876-0865</li>\n",
      "<li>Lacy Eaton<br/>1379 Nulla. Av.<br/>Asbury Park Montana 69679<br/>(932) 726-8645</li>\n",
      "<li>Driscoll Leach<br/>P.O. Box 120 2410 Odio Avenue<br/>Pass Christian Delaware 03869<br/>(726) 710-9826</li>\n",
      "<li>Merritt Watson<br/>P.O. Box 686 7014 Amet Street<br/>Corona Oklahoma 55246<br/>(622) 594-1662</li>\n",
      "<li>Nehru Holmes<br/>P.O. Box 547 4764 Sed Road<br/>Grand Rapids CT 87323<br/>(948) 600-8503</li>\n",
      "<li>Quamar Rivera<br/>427-5827 Ac St.<br/>Schaumburg Arkansas 84872<br/>(605) 900-7508</li>\n",
      "<li>Hiram Mullins<br/>754-6427 Nunc Ave<br/>Kennewick AL 41329<br/>(716) 977-5775</li>\n",
      "<li>Kim Fletcher<br/>Ap #345-3847 Metus Road<br/>Independence CO 30135<br/>(368) 239-8275</li>\n",
      "<li>Rigel Koch<br/>P.O. Box 558 9561 Lacus. Road<br/>Laughlin Hawaii 99602<br/>(725) 342-0650</li>\n",
      "<li>Jeanette Sharpe<br/>Ap #364-2006 Ipsum Avenue<br/>Wilmington Ohio 91750<br/>(711) 993-5187</li>\n",
      "<li>Dahlia Lee<br/>1293 Tincidunt Street<br/>Atwater Pennsylvania 76865<br/>(882) 399-5084</li>\n",
      "<li>Howard Hayden<br/>P.O. Box 847 8019 Facilisis Street<br/>Joliet SC 73490<br/>(287) 755-9948</li>\n",
      "<li>Hyatt Kramer<br/>1011 Massa Av.<br/>Kent ID 63725<br/>(659) 551-3389</li>\n",
      "<li>Sonya Ray<br/>Ap #315-8441 Eleifend Street<br/>Fairbanks RI 96892<br/>(275) 730-6868</li>\n",
      "<li>Cara Whitehead<br/>4005 Praesent St.<br/>Torrance Wyoming 22767<br/>(725) 757-4047</li>\n",
      "<li>Blythe Carroll<br/>7709 Justo. Ave<br/>Princeton TX 77987<br/>(314) 882-1496</li>\n",
      "<li>Dale Griffin<br/>P.O. Box 854 8580 In Ave<br/>Revere South Dakota 43841<br/>(639) 360-7590</li>\n",
      "<li>McKenzie Hernandez<br/>Ap #367-674 Mi Street<br/>Greensboro VT 40684<br/>(168) 222-1592</li>\n",
      "<li>Haviva Holcomb<br/>P.O. Box 642 3450 In Road<br/>Isle of Palms New York 03828<br/>(896) 303-1164</li>\n",
      "<li>Ezra Duffy<br/>Ap #782-7348 Dis Rd.<br/>Austin KY 50710<br/>(203) 982-6130</li>\n",
      "<li>Eleanor Jennings<br/>9631 Semper Ave<br/>Astoria NJ 66309<br/>(906) 217-1470</li>\n",
      "<li>Remedios Hester<br/>487-5787 Mollis St.<br/>City of Industry Louisiana 67973<br/>(614) 514-1269</li>\n",
      "<li>Jasper Carney<br/>1195 Lobortis Rd.<br/>New Orleans New Hampshire 71983<br/>(763) 409-5446</li>\n",
      "<li>Vielka Nielsen<br/>Ap #517-7326 Elementum Rd.<br/>Fort Smith North Dakota 79637<br/>(836) 292-5324</li>\n",
      "<li>Wilma Pace<br/>Ap #676-6532 Odio Rd.<br/>Darlington CO 06963<br/>(926) 709-3295</li>\n",
      "<li>Palmer Gay<br/>557-2026 Purus St.<br/>Watertown TN 07367<br/>(963) 356-9268</li>\n",
      "<li>Lyle Sutton<br/>Ap #250-9843 Elementum St.<br/>South Gate Missouri 68999<br/>(736) 522-8584</li>\n",
      "<li>Ina Burt<br/>Ap #130-1685 Ut Street<br/>Tyler KS 73510<br/>(410) 483-0352</li>\n",
      "<li>Cleo Best<br/>282-8351 Tincidunt Ave<br/>Sedalia Utah 53700<br/>(252) 204-1434</li>\n",
      "<li>Hu Park<br/>1429 Netus Rd.<br/>Reedsport NY 48247<br/>(874) 886-4174</li>\n",
      "<li>Liberty Walton<br/>343-6527 Purus. Avenue<br/>Logan NV 12657<br/>(581) 379-7573</li>\n",
      "<li>Aaron Trujillo<br/>Ap #146-3132 Cras Rd.<br/>Kingsport NH 56618<br/>(983) 632-8597</li>\n",
      "<li>Elmo Lopez<br/>Ap #481-7473 Cum Rd.<br/>Yorba Linda South Carolina 28423<br/>(295) 983-3476</li>\n",
      "<li>Emerson Espinoza<br/>Ap #247-5577 Tincidunt St.<br/>Corpus Christi WI 97020<br/>(873) 392-8802</li>\n",
      "<li>Daniel Malone<br/>2136 Adipiscing Av.<br/>Lima RI 93490<br/>(360) 669-3923</li>\n",
      "<li>Dante Bennett<br/>481-8762 Nulla Street<br/>Dearborn OR 62401<br/>(840) 987-9449</li>\n",
      "<li>Sade Higgins<br/>Ap #287-3260 Ut St.<br/>Wilmington OR 05182<br/>(422) 517-6053</li>\n",
      "<li>Zorita Anderson<br/>1964 Facilisis Avenue<br/>Bell Gardens Texas 87065<br/>(126) 940-2753</li>\n",
      "<li>Jordan Calderon<br/>430-985 Eleifend St.<br/>Duluth Washington 92611<br/>(427) 930-5255</li>\n",
      "<li>Ivor Delgado<br/>Ap #310-1678 Ut Av.<br/>Santa Barbara MT 88317<br/>(689) 721-5145</li>\n",
      "<li>Pascale Patton<br/>P.O. Box 399 4275 Amet Street<br/>West Allis NC 36734<br/>(676) 334-2174</li>\n",
      "<li>Nasim Strong<br/>Ap #630-3889 Nulla. Street<br/>Watervliet Oklahoma 70863<br/>(437) 994-5270</li>\n",
      "<li>Keaton Underwood<br/>Ap #636-8082 Arcu Avenue<br/>Thiensville Maryland 19587<br/>(564) 908-6970</li>\n",
      "<li>Keegan Blair<br/>Ap #761-2515 Egestas. Rd.<br/>Manitowoc TN 07528<br/>(577) 333-6244</li>\n",
      "<li>Tamara Howe<br/>3415 Lobortis. Avenue<br/>Rocky Mount WA 48580<br/>(655) 840-6139</li>\n",
      " </ul> </body></html>\n",
      "\n"
     ]
    }
   ],
   "source": [
    "print(my_data)"
   ]
  },
  {
   "cell_type": "code",
   "execution_count": 18,
   "id": "61f8d6fe",
   "metadata": {},
   "outputs": [],
   "source": [
    "my_text = re.sub(\"<.*?>\",\" \",str(my_data))"
   ]
  },
  {
   "cell_type": "code",
   "execution_count": 19,
   "id": "f2d554b6",
   "metadata": {},
   "outputs": [
    {
     "name": "stdout",
     "output_type": "stream",
     "text": [
      " \n",
      " \n",
      "\t Sample Addresses! \n",
      "<script async src=\"https://pagead2.googlesyndication.com/pagead/js/adsbygoogle.js?client=ca-pub-2760663110461940\"\n",
      "     crossorigin=\"anonymous\"> \n",
      "\n",
      " \n",
      " \n",
      "  A page full of sample addresses for your parsing enjoyment! \n",
      "  (All data is random....) \n",
      " \n",
      "\n",
      "<script async src=\"https://pagead2.googlesyndication.com/pagead/js/adsbygoogle.js?client=ca-pub-2760663110461940\"\n",
      "     crossorigin=\"anonymous\"> \n",
      " \n",
      "<ins class=\"adsbygoogle\"\n",
      "     style=\"display:block\"\n",
      "     data-ad-client=\"ca-pub-2760663110461940\"\n",
      "     data-ad-slot=\"5472586510\"\n",
      "     data-ad-format=\"auto\"\n",
      "     data-full-width-responsive=\"true\"> \n",
      " \n",
      "     (adsbygoogle = window.adsbygoogle || []).push({});\n",
      " \n",
      "\n",
      " Cecilia Chapman 711-2880 Nulla St. Mankato Mississippi 96522 (257) 563-7401 \n",
      " Iris Watson P.O. Box 283 8562 Fusce Rd. Frederick Nebraska 20620 (372) 587-2335 \n",
      " Celeste Slater 606-3727 Ullamcorper. Street Roseville NH 11523 (786) 713-8616 \n",
      " Theodore Lowe Ap #867-859 Sit Rd. Azusa New York 39531 (793) 151-6230 \n",
      " Calista Wise 7292 Dictum Av. San Antonio MI 47096 (492) 709-6392 \n",
      " Kyla Olsen Ap #651-8679 Sodales Av. Tamuning PA 10855 (654) 393-5734 \n",
      " Forrest Ray 191-103 Integer Rd. Corona New Mexico 08219 (404) 960-3807 \n",
      " Hiroko Potter P.O. Box 887 2508 Dolor. Av. Muskegon KY 12482 (314) 244-6306 \n",
      " Nyssa Vazquez 511-5762 At Rd. Chelsea MI 67708 (947) 278-5929 \n",
      " Lawrence Moreno 935-9940 Tortor. Street Santa Rosa MN 98804 (684) 579-1879 \n",
      " Ina Moran P.O. Box 929 4189 Nunc Road Lebanon KY 69409 (389) 737-2852 \n",
      " Aaron Hawkins 5587 Nunc. Avenue Erie Rhode Island 24975 (660) 663-4518 \n",
      " Hedy Greene Ap #696-3279 Viverra. Avenue Latrobe DE 38100 (608) 265-2215 \n",
      " Melvin Porter P.O. Box 132 1599 Curabitur Rd. Bandera South Dakota 45149 (959) 119-8364 \n",
      " Keefe Sellers 347-7666 Iaculis St. Woodruff SC 49854 (468) 353-2641 \n",
      " Joan Romero 666-4366 Lacinia Avenue Idaho Falls Ohio 19253 (248) 675-4007 \n",
      " Davis Patrick P.O. Box 147 2546 Sociosqu Rd. Bethlehem Utah 02913 (939) 353-1107 \n",
      " Leilani Boyer 557-6308 Lacinia Road San Bernardino ND 09289 (570) 873-7090 \n",
      " Colby Bernard Ap #285-7193 Ullamcorper Avenue Amesbury HI 93373 (302) 259-2375 \n",
      " Bryar Pitts 5543 Aliquet St. Fort Dodge GA 20783 (717) 450-4729 \n",
      " Rahim Henderson 5037 Diam Rd. Daly City Ohio 90255 (453) 391-4650 \n",
      " Noelle Adams 6351 Fringilla Avenue Gardena Colorado 37547 (559) 104-5475 \n",
      " Lillith Daniel 935-1670 Neque. St. Centennial Delaware 48432 (387) 142-9434 \n",
      " Adria Russell 414-7533 Non Rd. Miami Beach North Dakota 58563 (516) 745-4496 \n",
      " Hilda Haynes 778-9383 Suspendisse Av. Weirton IN 93479 (326) 677-3419 \n",
      " Sheila Mcintosh P.O. Box 360 4407 Et Rd. Santa Monica FL 30309 (746) 679-2470 \n",
      " Rebecca Chambers P.O. Box 813 5982 Sit Ave Liberal Vermont 51324 (455) 430-0989 \n",
      " Christian Emerson P.O. Box 886 4118 Arcu St. Rolling Hills Georgia 92358 (490) 936-4694 \n",
      " Nevada Ware P.O. Box 597 4156 Tincidunt Ave Green Bay Indiana 19759 (985) 834-8285 \n",
      " Margaret Joseph P.O. Box 508 3919 Gravida St. Tamuning Washington 55797 (662) 661-1446 \n",
      " Edward Nieves 928-3313 Vel Av. Idaho Falls Rhode Island 37232 (802) 668-8240 \n",
      " Imani Talley P.O. Box 262 4978 Sit St. Yigo Massachusetts 50654 (477) 768-9247 \n",
      " Bertha Riggs P.O. Box 206 6639 In St. Easthampton TN 31626 (791) 239-9057 \n",
      " Wallace Ross 313 Pellentesque Ave Villa Park Hawaii 43526 (832) 109-0213 \n",
      " Chester Bennett 3476 Aliquet. Ave Minot AZ 95302 (837) 196-3274 \n",
      " Castor Richardson P.O. Box 902 3472 Ullamcorper Street Lynchburg DC 29738 (268) 442-2428 \n",
      " Sonya Jordan Ap #443-336 Ullamcorper. Street Visalia VA 54886 (850) 676-5117 \n",
      " Harrison Mcguire 574-8633 Arcu Street San Fernando ID 77373 (861) 546-5032 \n",
      " Malcolm Long 9291 Proin Road Lake Charles Maine 11292 (176) 805-4108 \n",
      " Raymond Levy Ap #643-7006 Risus St. Beaumont New Mexico 73585 (715) 912-6931 \n",
      " Hedley Ingram 737-2580 At Street Independence Texas 87535 (993) 554-0563 \n",
      " David Mathews 1011 Malesuada Road Moscow Kentucky 77382 (357) 616-5411 \n",
      " Xyla Cash 969-1762 Tincidunt Rd. Boise CT 35282 (121) 347-0086 \n",
      " Madeline Gregory 977-4841 Ut Ave Walla Walla Michigan 82776 (304) 506-6314 \n",
      " Griffith Daniels 6818 Eget St. Tacoma AL 92508 (425) 288-2332 \n",
      " Anne Beasley 987-4223 Urna St. Savannah Illinois 85794 (145) 987-4962 \n",
      " Chaney Bennett P.O. Box 721 902 Dolor Rd. Fremont AK 19408 (187) 582-9707 \n",
      " Daniel Bernard P.O. Box 567 1561 Duis Rd. Pomona TN 08609 (750) 558-3965 \n",
      " Willow Hunt Ap #784-1887 Lobortis Ave Cudahy Ohio 31522 (492) 467-3131 \n",
      " Judith Floyd 361-7936 Feugiat St. Williston Nevada 58521 (774) 914-2510 \n",
      " Seth Farley 6216 Aenean Avenue Seattle Utah 81202 (888) 106-8550 \n",
      " Zephania Sanders 3714 Nascetur St. Hawthorne Louisiana 10626 (539) 567-3573 \n",
      " Calista Merritt Ap #938-5470 Posuere Ave Chickasha LA 58520 (693) 337-2849 \n",
      " Craig Williams P.O. Box 372 5634 Montes Rd. Springdale MO 57692 (545) 604-9386 \n",
      " Lee Preston 981 Eget Rd. Clemson GA 04645 (221) 156-5026 \n",
      " Katelyn Cooper 6059 Sollicitudin Road Burlingame Colorado 26278 (414) 876-0865 \n",
      " Lacy Eaton 1379 Nulla. Av. Asbury Park Montana 69679 (932) 726-8645 \n",
      " Driscoll Leach P.O. Box 120 2410 Odio Avenue Pass Christian Delaware 03869 (726) 710-9826 \n",
      " Merritt Watson P.O. Box 686 7014 Amet Street Corona Oklahoma 55246 (622) 594-1662 \n",
      " Nehru Holmes P.O. Box 547 4764 Sed Road Grand Rapids CT 87323 (948) 600-8503 \n",
      " Quamar Rivera 427-5827 Ac St. Schaumburg Arkansas 84872 (605) 900-7508 \n",
      " Hiram Mullins 754-6427 Nunc Ave Kennewick AL 41329 (716) 977-5775 \n",
      " Kim Fletcher Ap #345-3847 Metus Road Independence CO 30135 (368) 239-8275 \n",
      " Rigel Koch P.O. Box 558 9561 Lacus. Road Laughlin Hawaii 99602 (725) 342-0650 \n",
      " Jeanette Sharpe Ap #364-2006 Ipsum Avenue Wilmington Ohio 91750 (711) 993-5187 \n",
      " Dahlia Lee 1293 Tincidunt Street Atwater Pennsylvania 76865 (882) 399-5084 \n",
      " Howard Hayden P.O. Box 847 8019 Facilisis Street Joliet SC 73490 (287) 755-9948 \n",
      " Hyatt Kramer 1011 Massa Av. Kent ID 63725 (659) 551-3389 \n",
      " Sonya Ray Ap #315-8441 Eleifend Street Fairbanks RI 96892 (275) 730-6868 \n",
      " Cara Whitehead 4005 Praesent St. Torrance Wyoming 22767 (725) 757-4047 \n",
      " Blythe Carroll 7709 Justo. Ave Princeton TX 77987 (314) 882-1496 \n",
      " Dale Griffin P.O. Box 854 8580 In Ave Revere South Dakota 43841 (639) 360-7590 \n",
      " McKenzie Hernandez Ap #367-674 Mi Street Greensboro VT 40684 (168) 222-1592 \n",
      " Haviva Holcomb P.O. Box 642 3450 In Road Isle of Palms New York 03828 (896) 303-1164 \n",
      " Ezra Duffy Ap #782-7348 Dis Rd. Austin KY 50710 (203) 982-6130 \n",
      " Eleanor Jennings 9631 Semper Ave Astoria NJ 66309 (906) 217-1470 \n",
      " Remedios Hester 487-5787 Mollis St. City of Industry Louisiana 67973 (614) 514-1269 \n",
      " Jasper Carney 1195 Lobortis Rd. New Orleans New Hampshire 71983 (763) 409-5446 \n",
      " Vielka Nielsen Ap #517-7326 Elementum Rd. Fort Smith North Dakota 79637 (836) 292-5324 \n",
      " Wilma Pace Ap #676-6532 Odio Rd. Darlington CO 06963 (926) 709-3295 \n",
      " Palmer Gay 557-2026 Purus St. Watertown TN 07367 (963) 356-9268 \n",
      " Lyle Sutton Ap #250-9843 Elementum St. South Gate Missouri 68999 (736) 522-8584 \n",
      " Ina Burt Ap #130-1685 Ut Street Tyler KS 73510 (410) 483-0352 \n",
      " Cleo Best 282-8351 Tincidunt Ave Sedalia Utah 53700 (252) 204-1434 \n",
      " Hu Park 1429 Netus Rd. Reedsport NY 48247 (874) 886-4174 \n",
      " Liberty Walton 343-6527 Purus. Avenue Logan NV 12657 (581) 379-7573 \n",
      " Aaron Trujillo Ap #146-3132 Cras Rd. Kingsport NH 56618 (983) 632-8597 \n",
      " Elmo Lopez Ap #481-7473 Cum Rd. Yorba Linda South Carolina 28423 (295) 983-3476 \n",
      " Emerson Espinoza Ap #247-5577 Tincidunt St. Corpus Christi WI 97020 (873) 392-8802 \n",
      " Daniel Malone 2136 Adipiscing Av. Lima RI 93490 (360) 669-3923 \n",
      " Dante Bennett 481-8762 Nulla Street Dearborn OR 62401 (840) 987-9449 \n",
      " Sade Higgins Ap #287-3260 Ut St. Wilmington OR 05182 (422) 517-6053 \n",
      " Zorita Anderson 1964 Facilisis Avenue Bell Gardens Texas 87065 (126) 940-2753 \n",
      " Jordan Calderon 430-985 Eleifend St. Duluth Washington 92611 (427) 930-5255 \n",
      " Ivor Delgado Ap #310-1678 Ut Av. Santa Barbara MT 88317 (689) 721-5145 \n",
      " Pascale Patton P.O. Box 399 4275 Amet Street West Allis NC 36734 (676) 334-2174 \n",
      " Nasim Strong Ap #630-3889 Nulla. Street Watervliet Oklahoma 70863 (437) 994-5270 \n",
      " Keaton Underwood Ap #636-8082 Arcu Avenue Thiensville Maryland 19587 (564) 908-6970 \n",
      " Keegan Blair Ap #761-2515 Egestas. Rd. Manitowoc TN 07528 (577) 333-6244 \n",
      " Tamara Howe 3415 Lobortis. Avenue Rocky Mount WA 48580 (655) 840-6139 \n",
      "     \n",
      "\n"
     ]
    }
   ],
   "source": [
    "print(my_text)"
   ]
  },
  {
   "cell_type": "code",
   "execution_count": 21,
   "id": "35af02ac",
   "metadata": {},
   "outputs": [
    {
     "name": "stdout",
     "output_type": "stream",
     "text": [
      "['(257) 563-7401', '(372) 587-2335', '(786) 713-8616', '(793) 151-6230', '(492) 709-6392', '(654) 393-5734', '(404) 960-3807', '(314) 244-6306', '(947) 278-5929', '(684) 579-1879', '(389) 737-2852', '(660) 663-4518', '(608) 265-2215', '(959) 119-8364', '(468) 353-2641', '(248) 675-4007', '(939) 353-1107', '(570) 873-7090', '(302) 259-2375', '(717) 450-4729', '(453) 391-4650', '(559) 104-5475', '(387) 142-9434', '(516) 745-4496', '(326) 677-3419', '(746) 679-2470', '(455) 430-0989', '(490) 936-4694', '(985) 834-8285', '(662) 661-1446', '(802) 668-8240', '(477) 768-9247', '(791) 239-9057', '(832) 109-0213', '(837) 196-3274', '(268) 442-2428', '(850) 676-5117', '(861) 546-5032', '(176) 805-4108', '(715) 912-6931', '(993) 554-0563', '(357) 616-5411', '(121) 347-0086', '(304) 506-6314', '(425) 288-2332', '(145) 987-4962', '(187) 582-9707', '(750) 558-3965', '(492) 467-3131', '(774) 914-2510', '(888) 106-8550', '(539) 567-3573', '(693) 337-2849', '(545) 604-9386', '(221) 156-5026', '(414) 876-0865', '(932) 726-8645', '(726) 710-9826', '(622) 594-1662', '(948) 600-8503', '(605) 900-7508', '(716) 977-5775', '(368) 239-8275', '(725) 342-0650', '(711) 993-5187', '(882) 399-5084', '(287) 755-9948', '(659) 551-3389', '(275) 730-6868', '(725) 757-4047', '(314) 882-1496', '(639) 360-7590', '(168) 222-1592', '(896) 303-1164', '(203) 982-6130', '(906) 217-1470', '(614) 514-1269', '(763) 409-5446', '(836) 292-5324', '(926) 709-3295', '(963) 356-9268', '(736) 522-8584', '(410) 483-0352', '(252) 204-1434', '(874) 886-4174', '(581) 379-7573', '(983) 632-8597', '(295) 983-3476', '(873) 392-8802', '(360) 669-3923', '(840) 987-9449', '(422) 517-6053', '(126) 940-2753', '(427) 930-5255', '(689) 721-5145', '(676) 334-2174', '(437) 994-5270', '(564) 908-6970', '(577) 333-6244', '(655) 840-6139']\n"
     ]
    }
   ],
   "source": [
    "my_number = re.findall(\"[(\\d)]{5}\\s[\\d]{3}[-]\\d{4}\",my_text)\n",
    "\n",
    "print(my_number)"
   ]
  },
  {
   "cell_type": "code",
   "execution_count": 22,
   "id": "44061a7f",
   "metadata": {},
   "outputs": [
    {
     "data": {
      "text/plain": [
       "100"
      ]
     },
     "execution_count": 22,
     "metadata": {},
     "output_type": "execute_result"
    }
   ],
   "source": [
    "len(my_number)"
   ]
  },
  {
   "cell_type": "code",
   "execution_count": 35,
   "id": "bf7c469f",
   "metadata": {},
   "outputs": [],
   "source": [
    "pincode = re.findall(\"[\\d]{5}\",my_text)"
   ]
  },
  {
   "cell_type": "code",
   "execution_count": 36,
   "id": "1acf9022",
   "metadata": {},
   "outputs": [
    {
     "name": "stdout",
     "output_type": "stream",
     "text": [
      "['27606', '63110', '46194', '27606', '63110', '46194', '27606', '63110', '46194', '54725', '86510', '96522', '20620', '11523', '39531', '47096', '10855', '08219', '12482', '67708', '98804', '69409', '24975', '38100', '45149', '49854', '19253', '02913', '09289', '93373', '20783', '90255', '37547', '48432', '58563', '93479', '30309', '51324', '92358', '19759', '55797', '37232', '50654', '31626', '43526', '95302', '29738', '54886', '77373', '11292', '73585', '87535', '77382', '35282', '82776', '92508', '85794', '19408', '08609', '31522', '58521', '81202', '10626', '58520', '57692', '04645', '26278', '69679', '03869', '55246', '87323', '84872', '41329', '30135', '99602', '91750', '76865', '73490', '63725', '96892', '22767', '77987', '43841', '40684', '03828', '50710', '66309', '67973', '71983', '79637', '06963', '07367', '68999', '73510', '53700', '48247', '12657', '56618', '28423', '97020', '93490', '62401', '05182', '87065', '92611', '88317', '36734', '70863', '19587', '07528', '48580']\n"
     ]
    }
   ],
   "source": [
    "print(pincode)"
   ]
  },
  {
   "cell_type": "code",
   "execution_count": 37,
   "id": "a8621033",
   "metadata": {},
   "outputs": [
    {
     "data": {
      "text/plain": [
       "111"
      ]
     },
     "execution_count": 37,
     "metadata": {},
     "output_type": "execute_result"
    }
   ],
   "source": [
    "len(pincode)"
   ]
  },
  {
   "cell_type": "code",
   "execution_count": 66,
   "id": "c862c543",
   "metadata": {},
   "outputs": [],
   "source": [
    "my_pincode = pincode.pop()"
   ]
  },
  {
   "cell_type": "code",
   "execution_count": 68,
   "id": "82060fb4",
   "metadata": {},
   "outputs": [
    {
     "data": {
      "text/plain": [
       "100"
      ]
     },
     "execution_count": 68,
     "metadata": {},
     "output_type": "execute_result"
    }
   ],
   "source": [
    "len(pincode)"
   ]
  },
  {
   "cell_type": "code",
   "execution_count": 69,
   "id": "c1228cb4",
   "metadata": {},
   "outputs": [],
   "source": [
    "df = pd.DataFrame({\"Phone_Number\":my_number,\"Pincode\":pincode})"
   ]
  },
  {
   "cell_type": "code",
   "execution_count": 70,
   "id": "a3a77be3",
   "metadata": {},
   "outputs": [
    {
     "name": "stdout",
     "output_type": "stream",
     "text": [
      "      Phone_Number Pincode\n",
      "0   (257) 563-7401   27606\n",
      "1   (372) 587-2335   63110\n",
      "2   (786) 713-8616   46194\n",
      "3   (793) 151-6230   27606\n",
      "4   (492) 709-6392   63110\n",
      "..             ...     ...\n",
      "95  (676) 334-2174   48247\n",
      "96  (437) 994-5270   12657\n",
      "97  (564) 908-6970   56618\n",
      "98  (577) 333-6244   28423\n",
      "99  (655) 840-6139   97020\n",
      "\n",
      "[100 rows x 2 columns]\n"
     ]
    }
   ],
   "source": [
    "print(df)"
   ]
  },
  {
   "cell_type": "code",
   "execution_count": 71,
   "id": "d12682ea",
   "metadata": {},
   "outputs": [
    {
     "data": {
      "text/html": [
       "<div>\n",
       "<style scoped>\n",
       "    .dataframe tbody tr th:only-of-type {\n",
       "        vertical-align: middle;\n",
       "    }\n",
       "\n",
       "    .dataframe tbody tr th {\n",
       "        vertical-align: top;\n",
       "    }\n",
       "\n",
       "    .dataframe thead th {\n",
       "        text-align: right;\n",
       "    }\n",
       "</style>\n",
       "<table border=\"1\" class=\"dataframe\">\n",
       "  <thead>\n",
       "    <tr style=\"text-align: right;\">\n",
       "      <th></th>\n",
       "      <th>Phone_Number</th>\n",
       "      <th>Pincode</th>\n",
       "    </tr>\n",
       "  </thead>\n",
       "  <tbody>\n",
       "    <tr>\n",
       "      <th>0</th>\n",
       "      <td>(257) 563-7401</td>\n",
       "      <td>27606</td>\n",
       "    </tr>\n",
       "    <tr>\n",
       "      <th>1</th>\n",
       "      <td>(372) 587-2335</td>\n",
       "      <td>63110</td>\n",
       "    </tr>\n",
       "    <tr>\n",
       "      <th>2</th>\n",
       "      <td>(786) 713-8616</td>\n",
       "      <td>46194</td>\n",
       "    </tr>\n",
       "    <tr>\n",
       "      <th>3</th>\n",
       "      <td>(793) 151-6230</td>\n",
       "      <td>27606</td>\n",
       "    </tr>\n",
       "    <tr>\n",
       "      <th>4</th>\n",
       "      <td>(492) 709-6392</td>\n",
       "      <td>63110</td>\n",
       "    </tr>\n",
       "  </tbody>\n",
       "</table>\n",
       "</div>"
      ],
      "text/plain": [
       "     Phone_Number Pincode\n",
       "0  (257) 563-7401   27606\n",
       "1  (372) 587-2335   63110\n",
       "2  (786) 713-8616   46194\n",
       "3  (793) 151-6230   27606\n",
       "4  (492) 709-6392   63110"
      ]
     },
     "execution_count": 71,
     "metadata": {},
     "output_type": "execute_result"
    }
   ],
   "source": [
    "df.head()"
   ]
  },
  {
   "cell_type": "code",
   "execution_count": 72,
   "id": "6149cf9b",
   "metadata": {},
   "outputs": [
    {
     "data": {
      "text/html": [
       "<div>\n",
       "<style scoped>\n",
       "    .dataframe tbody tr th:only-of-type {\n",
       "        vertical-align: middle;\n",
       "    }\n",
       "\n",
       "    .dataframe tbody tr th {\n",
       "        vertical-align: top;\n",
       "    }\n",
       "\n",
       "    .dataframe thead th {\n",
       "        text-align: right;\n",
       "    }\n",
       "</style>\n",
       "<table border=\"1\" class=\"dataframe\">\n",
       "  <thead>\n",
       "    <tr style=\"text-align: right;\">\n",
       "      <th></th>\n",
       "      <th>Phone_Number</th>\n",
       "      <th>Pincode</th>\n",
       "    </tr>\n",
       "  </thead>\n",
       "  <tbody>\n",
       "    <tr>\n",
       "      <th>95</th>\n",
       "      <td>(676) 334-2174</td>\n",
       "      <td>48247</td>\n",
       "    </tr>\n",
       "    <tr>\n",
       "      <th>96</th>\n",
       "      <td>(437) 994-5270</td>\n",
       "      <td>12657</td>\n",
       "    </tr>\n",
       "    <tr>\n",
       "      <th>97</th>\n",
       "      <td>(564) 908-6970</td>\n",
       "      <td>56618</td>\n",
       "    </tr>\n",
       "    <tr>\n",
       "      <th>98</th>\n",
       "      <td>(577) 333-6244</td>\n",
       "      <td>28423</td>\n",
       "    </tr>\n",
       "    <tr>\n",
       "      <th>99</th>\n",
       "      <td>(655) 840-6139</td>\n",
       "      <td>97020</td>\n",
       "    </tr>\n",
       "  </tbody>\n",
       "</table>\n",
       "</div>"
      ],
      "text/plain": [
       "      Phone_Number Pincode\n",
       "95  (676) 334-2174   48247\n",
       "96  (437) 994-5270   12657\n",
       "97  (564) 908-6970   56618\n",
       "98  (577) 333-6244   28423\n",
       "99  (655) 840-6139   97020"
      ]
     },
     "execution_count": 72,
     "metadata": {},
     "output_type": "execute_result"
    }
   ],
   "source": [
    "df.tail()"
   ]
  },
  {
   "cell_type": "code",
   "execution_count": 73,
   "id": "4532a8a6",
   "metadata": {},
   "outputs": [
    {
     "name": "stdout",
     "output_type": "stream",
     "text": [
      "<class 'pandas.core.frame.DataFrame'>\n",
      "RangeIndex: 100 entries, 0 to 99\n",
      "Data columns (total 2 columns):\n",
      " #   Column        Non-Null Count  Dtype \n",
      "---  ------        --------------  ----- \n",
      " 0   Phone_Number  100 non-null    object\n",
      " 1   Pincode       100 non-null    object\n",
      "dtypes: object(2)\n",
      "memory usage: 1.7+ KB\n"
     ]
    }
   ],
   "source": [
    "df.info()"
   ]
  },
  {
   "cell_type": "code",
   "execution_count": 74,
   "id": "61cea171",
   "metadata": {},
   "outputs": [],
   "source": [
    "df.to_csv(\"Phone_number_list.csv\",index=False)"
   ]
  },
  {
   "cell_type": "code",
   "execution_count": 75,
   "id": "8f899921",
   "metadata": {},
   "outputs": [],
   "source": [
    "df.to_csv(\"Phone_number_list.csv\",index=True)"
   ]
  },
  {
   "cell_type": "code",
   "execution_count": 77,
   "id": "92595839",
   "metadata": {},
   "outputs": [],
   "source": [
    "df.to_csv(\"Phone_number_list.json\",index=True)"
   ]
  },
  {
   "cell_type": "code",
   "execution_count": 80,
   "id": "d87b6d3b",
   "metadata": {},
   "outputs": [],
   "source": [
    "df1 = pd.read_csv(\"Phone_number_list.csv\")"
   ]
  },
  {
   "cell_type": "code",
   "execution_count": 81,
   "id": "1dc62150",
   "metadata": {},
   "outputs": [
    {
     "name": "stdout",
     "output_type": "stream",
     "text": [
      "    Unnamed: 0    Phone_Number  Pincode\n",
      "0            0  (257) 563-7401    27606\n",
      "1            1  (372) 587-2335    63110\n",
      "2            2  (786) 713-8616    46194\n",
      "3            3  (793) 151-6230    27606\n",
      "4            4  (492) 709-6392    63110\n",
      "..         ...             ...      ...\n",
      "95          95  (676) 334-2174    48247\n",
      "96          96  (437) 994-5270    12657\n",
      "97          97  (564) 908-6970    56618\n",
      "98          98  (577) 333-6244    28423\n",
      "99          99  (655) 840-6139    97020\n",
      "\n",
      "[100 rows x 3 columns]\n"
     ]
    }
   ],
   "source": [
    "print(df1)"
   ]
  },
  {
   "cell_type": "markdown",
   "id": "44ecfbc0",
   "metadata": {},
   "source": [
    "https://www.indiacustomercare.com/"
   ]
  },
  {
   "cell_type": "code",
   "execution_count": null,
   "id": "d4b0a03b",
   "metadata": {},
   "outputs": [],
   "source": []
  }
 ],
 "metadata": {
  "kernelspec": {
   "display_name": "Python 3 (ipykernel)",
   "language": "python",
   "name": "python3"
  },
  "language_info": {
   "codemirror_mode": {
    "name": "ipython",
    "version": 3
   },
   "file_extension": ".py",
   "mimetype": "text/x-python",
   "name": "python",
   "nbconvert_exporter": "python",
   "pygments_lexer": "ipython3",
   "version": "3.11.5"
  }
 },
 "nbformat": 4,
 "nbformat_minor": 5
}
