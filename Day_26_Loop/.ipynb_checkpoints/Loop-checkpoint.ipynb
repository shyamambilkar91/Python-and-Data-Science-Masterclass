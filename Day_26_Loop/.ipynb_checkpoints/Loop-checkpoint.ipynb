{
 "cells": [
  {
   "cell_type": "code",
   "execution_count": 1,
   "id": "67cde9da",
   "metadata": {},
   "outputs": [
    {
     "name": "stdout",
     "output_type": "stream",
     "text": [
      "apple\n",
      "mango\n",
      "cherry\n",
      "pinapple\n",
      "watermelon\n",
      "banana\n"
     ]
    }
   ],
   "source": [
    "my_list = ['apple','mango','cherry','pinapple','watermelon','banana']\n",
    "\n",
    "for i in my_list:\n",
    "    print(i)"
   ]
  },
  {
   "cell_type": "markdown",
   "id": "b06f70c8",
   "metadata": {},
   "source": [
    "## 1. Break Statement:\n",
    "    1. With the break statement we can stop the loop before it has looped it has looped throgh all the items"
   ]
  },
  {
   "cell_type": "code",
   "execution_count": 3,
   "id": "7ccf2163",
   "metadata": {},
   "outputs": [
    {
     "name": "stdout",
     "output_type": "stream",
     "text": [
      "apple\n",
      "mango\n",
      "cherry\n"
     ]
    }
   ],
   "source": [
    "my_list = ['apple','mango','cherry','pinapple','watermelon','banana']\n",
    "\n",
    "for i in my_list:\n",
    "    print(i)\n",
    "    if i == 'cherry':\n",
    "        break"
   ]
  },
  {
   "cell_type": "code",
   "execution_count": 6,
   "id": "a40c92f7",
   "metadata": {},
   "outputs": [
    {
     "name": "stdout",
     "output_type": "stream",
     "text": [
      "apple\n",
      "mango\n",
      "cherry\n",
      "pinapple\n"
     ]
    }
   ],
   "source": [
    "my_list = ['apple','mango','cherry','pinapple','watermelon','banana']\n",
    "\n",
    "for i in my_list:\n",
    "    if i == 'watermelon':\n",
    "        break\n",
    "    print(i)"
   ]
  },
  {
   "cell_type": "code",
   "execution_count": 7,
   "id": "910e3e29",
   "metadata": {},
   "outputs": [
    {
     "name": "stdout",
     "output_type": "stream",
     "text": [
      "apple\n",
      "mango\n",
      "cherry\n",
      "pinapple\n",
      "watermelon\n"
     ]
    }
   ],
   "source": [
    "my_list = ['apple','mango','cherry','pinapple','watermelon','banana']\n",
    "\n",
    "for i in my_list:\n",
    "    print(i)\n",
    "    if i == 'watermelon':\n",
    "        break"
   ]
  },
  {
   "cell_type": "code",
   "execution_count": 9,
   "id": "06f9f889",
   "metadata": {},
   "outputs": [
    {
     "name": "stdout",
     "output_type": "stream",
     "text": [
      "apple\n",
      "mango\n",
      "cherry\n",
      "pinapple\n",
      "watermelon\n",
      "banana\n",
      "10\n"
     ]
    }
   ],
   "source": [
    "my_list = ['apple','mango','cherry','pinapple','watermelon','banana', 10,45,63.42,'blueberry',86,45]\n",
    "\n",
    "for i in my_list:\n",
    "    print(i)\n",
    "    if i == 10:\n",
    "        break"
   ]
  },
  {
   "cell_type": "markdown",
   "id": "a25e7c1b",
   "metadata": {},
   "source": [
    "## 2. Continue Statement"
   ]
  },
  {
   "cell_type": "markdown",
   "id": "621f42e8",
   "metadata": {},
   "source": [
    "1. With the Continue statement we can stop the current itration of the loop and continue with the next"
   ]
  },
  {
   "cell_type": "code",
   "execution_count": 10,
   "id": "fef2795d",
   "metadata": {},
   "outputs": [
    {
     "name": "stdout",
     "output_type": "stream",
     "text": [
      "apple\n",
      "mango\n",
      "cherry\n",
      "pinapple\n",
      "watermelon\n",
      "banana\n",
      "10\n",
      "63.42\n",
      "blueberry\n",
      "86\n"
     ]
    }
   ],
   "source": [
    "my_list = ['apple','mango','cherry','pinapple','watermelon','banana', 10,45,63.42,'blueberry',86,45]\n",
    "\n",
    "for i in my_list:\n",
    "    if i == 45:\n",
    "        continue\n",
    "    print(i)"
   ]
  },
  {
   "cell_type": "code",
   "execution_count": 11,
   "id": "54d63b61",
   "metadata": {},
   "outputs": [
    {
     "name": "stdout",
     "output_type": "stream",
     "text": [
      "apple\n",
      "mango\n",
      "cherry\n",
      "pinapple\n",
      "watermelon\n",
      "banana\n",
      "10\n",
      "45\n",
      "63.42\n",
      "blueberry\n",
      "86\n",
      "45\n"
     ]
    }
   ],
   "source": [
    "my_list = ['apple','mango','cherry','pinapple','watermelon','banana', 10,45,63.42,'blueberry',86,45]\n",
    "\n",
    "for i in my_list:\n",
    "    print(i)\n",
    "    if i == 45:\n",
    "        continue"
   ]
  },
  {
   "cell_type": "markdown",
   "id": "ede9f3de",
   "metadata": {},
   "source": [
    "## 3. Pass Statement"
   ]
  },
  {
   "cell_type": "code",
   "execution_count": 14,
   "id": "665f130e",
   "metadata": {},
   "outputs": [
    {
     "ename": "SyntaxError",
     "evalue": "incomplete input (2773768459.py, line 5)",
     "output_type": "error",
     "traceback": [
      "\u001b[1;36m  Cell \u001b[1;32mIn[14], line 5\u001b[1;36m\u001b[0m\n\u001b[1;33m    \u001b[0m\n\u001b[1;37m    ^\u001b[0m\n\u001b[1;31mSyntaxError\u001b[0m\u001b[1;31m:\u001b[0m incomplete input\n"
     ]
    }
   ],
   "source": [
    "my_list = ['apple','mango','cherry','pinapple','watermelon','banana', 10,45,63.42,'blueberry',86,45]\n",
    "\n",
    "for i in my_list:\n",
    "    if i == 'banana':\n",
    "        "
   ]
  },
  {
   "cell_type": "code",
   "execution_count": 15,
   "id": "81ad9469",
   "metadata": {},
   "outputs": [],
   "source": [
    "my_list = ['apple','mango','cherry','pinapple','watermelon','banana', 10,45,63.42,'blueberry',86,45]\n",
    "\n",
    "for i in my_list:\n",
    "    if i == 'banana':\n",
    "        pass"
   ]
  },
  {
   "cell_type": "markdown",
   "id": "882792a5",
   "metadata": {},
   "source": [
    "## 4. Range Function"
   ]
  },
  {
   "cell_type": "markdown",
   "id": "f803c2cd",
   "metadata": {},
   "source": [
    "1. The range() function returns a sequence of numbers, starting from 0(by default), increment by 1(by default) and  ends at specific number.\n",
    "2. Note that range(6) is not the values of 0 to 6, but the values 0 to 5\n",
    "3. The range() function defaults to 0 as starting value, However it is possible to specify the starting value by adding a parameter (for Example - range(2, 6)), which means values from 2 to 6 (but not including 6).\n",
    "4. The range() function defaults to increments the sequence by 1, however it it possible specify the increment value by adding a third parameter [for example- range(1,10,2)]"
   ]
  },
  {
   "cell_type": "code",
   "execution_count": 16,
   "id": "98c2473f",
   "metadata": {},
   "outputs": [
    {
     "name": "stdout",
     "output_type": "stream",
     "text": [
      "0\n",
      "1\n",
      "2\n",
      "3\n",
      "4\n",
      "5\n",
      "6\n",
      "7\n",
      "8\n",
      "9\n"
     ]
    }
   ],
   "source": [
    "for i in range(10):\n",
    "    print(i)"
   ]
  },
  {
   "cell_type": "code",
   "execution_count": 19,
   "id": "d8cb0eb4",
   "metadata": {},
   "outputs": [
    {
     "name": "stdout",
     "output_type": "stream",
     "text": [
      "0\n",
      "1\n",
      "2\n",
      "3\n",
      "4\n",
      "5\n"
     ]
    }
   ],
   "source": [
    "for i in range(6):\n",
    "    print(i)"
   ]
  },
  {
   "cell_type": "code",
   "execution_count": 20,
   "id": "42d3d74b",
   "metadata": {},
   "outputs": [
    {
     "name": "stdout",
     "output_type": "stream",
     "text": [
      "1\n",
      "2\n",
      "3\n",
      "4\n",
      "5\n"
     ]
    }
   ],
   "source": [
    "for i in range(1,6):\n",
    "    print(i)"
   ]
  },
  {
   "cell_type": "code",
   "execution_count": 21,
   "id": "8da13404",
   "metadata": {},
   "outputs": [
    {
     "name": "stdout",
     "output_type": "stream",
     "text": [
      "2\n",
      "3\n",
      "4\n",
      "5\n"
     ]
    }
   ],
   "source": [
    "for i in range(2,6):\n",
    "    print(i)"
   ]
  },
  {
   "cell_type": "code",
   "execution_count": 23,
   "id": "84759612",
   "metadata": {},
   "outputs": [
    {
     "name": "stdout",
     "output_type": "stream",
     "text": [
      "1\n",
      "3\n",
      "5\n",
      "7\n",
      "9\n",
      "11\n",
      "13\n",
      "15\n",
      "17\n",
      "19\n"
     ]
    }
   ],
   "source": [
    "for i in range(1, 21, 2):\n",
    "    print(i)"
   ]
  },
  {
   "cell_type": "code",
   "execution_count": 24,
   "id": "cb1438ea",
   "metadata": {},
   "outputs": [
    {
     "name": "stdout",
     "output_type": "stream",
     "text": [
      "2\n",
      "4\n",
      "6\n",
      "8\n",
      "10\n",
      "12\n",
      "14\n",
      "16\n",
      "18\n",
      "20\n"
     ]
    }
   ],
   "source": [
    "for i in range(2, 21, 2):\n",
    "    print(i)"
   ]
  },
  {
   "cell_type": "code",
   "execution_count": 29,
   "id": "d628a61a",
   "metadata": {},
   "outputs": [
    {
     "name": "stdout",
     "output_type": "stream",
     "text": [
      "2\n",
      "5\n",
      "8\n"
     ]
    }
   ],
   "source": [
    "for i in range(2, 9,3):\n",
    "    print(i)"
   ]
  },
  {
   "cell_type": "code",
   "execution_count": null,
   "id": "0fb2d8e4",
   "metadata": {},
   "outputs": [],
   "source": []
  }
 ],
 "metadata": {
  "kernelspec": {
   "display_name": "Python 3 (ipykernel)",
   "language": "python",
   "name": "python3"
  },
  "language_info": {
   "codemirror_mode": {
    "name": "ipython",
    "version": 3
   },
   "file_extension": ".py",
   "mimetype": "text/x-python",
   "name": "python",
   "nbconvert_exporter": "python",
   "pygments_lexer": "ipython3",
   "version": "3.11.5"
  }
 },
 "nbformat": 4,
 "nbformat_minor": 5
}
