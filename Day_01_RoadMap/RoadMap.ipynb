{
 "cells": [
  {
   "cell_type": "markdown",
   "id": "9a706ce7",
   "metadata": {},
   "source": [
    "# Data Science"
   ]
  },
  {
   "cell_type": "markdown",
   "id": "0523099c",
   "metadata": {},
   "source": [
    "1. Python:\n",
    "    1. Basics:\n",
    "        1. Variable\n",
    "        2. DataTypes\n",
    "        3. Loops\n",
    "        5. Conditional Statements\n",
    "    2. Intermediate : \n",
    "        1. OOPS Concepts\n",
    "        2. Date Time\n",
    "        3. Python Module\n",
    "        4. Optimize\n",
    "        5. File Handling\n",
    "        6. Data Types\n",
    "    3. Advance: \n",
    "        1. Numpy\n",
    "        2. Pandas\n",
    "        3. Matplotlib\n",
    "        4. Seaborn\n",
    "        5. Sklearn\n",
    "2. Machine Learning (Statistics):\n",
    "    1. Supervised Machine Learning\n",
    "    2. Unsupervised machine learning\n",
    "    3. Reinforcement Machine Learning\n",
    "3. Frameworks:\n",
    "    1. Django\n",
    "    2. Flask\n",
    "    3. Pyramid\n",
    "4. Database:\n",
    "    1. SQL\n",
    "    2. NOSQL\n",
    "5. Deveops Tools:\n",
    "    1. Version Control System\n",
    "6. Natural Language Processing\n",
    "7. Deep Learning\n",
    "8. LLM\n",
    "9. Ensemble Methods\n",
    "10. Statistics and Probability\n",
    "11. Live Project -1 \n",
    "12. Live Project -2\n",
    "13. AWS/Azure/GCP\n",
    "14. Postman"
   ]
  },
  {
   "cell_type": "markdown",
   "id": "e9fca327",
   "metadata": {},
   "source": [
    "# Every Week Mock Inteview:\n",
    "    1. First Week Syllabus \n",
    "    2. First Week + Second Week + .....Week N"
   ]
  },
  {
   "cell_type": "markdown",
   "id": "96c3ac7b",
   "metadata": {},
   "source": [
    "# Environments"
   ]
  },
  {
   "cell_type": "markdown",
   "id": "da77bf77",
   "metadata": {},
   "source": [
    "1. Operating System : Windows 8/ 10/11\n",
    "    \n",
    "2. Application (Python): \n",
    "    1. Anaconda Navigator\n",
    "    2. Pycharm\n",
    "3. Database:\n",
    "    1. MongoDB\n",
    "    2. NoSQLBooster\n",
    "    3. SQL\n",
    "    4. SQLight\n",
    "4. Git / Github\n",
    "\n",
    "5. Postman\n",
    "\n",
    "6. AWS /Azure/GCP\n",
    "    \n",
    "    "
   ]
  },
  {
   "cell_type": "markdown",
   "id": "9e11bf21",
   "metadata": {},
   "source": [
    "# Application Download"
   ]
  },
  {
   "cell_type": "markdown",
   "id": "af27ceb1",
   "metadata": {},
   "source": [
    "1. https://www.anaconda.com/download - Download Anaconda"
   ]
  },
  {
   "cell_type": "markdown",
   "id": "f29bad0a",
   "metadata": {},
   "source": [
    "2. https://www.jetbrains.com/pycharm/download/other.html - Download Pycharm"
   ]
  },
  {
   "cell_type": "code",
   "execution_count": null,
   "id": "4f164619",
   "metadata": {},
   "outputs": [],
   "source": [
    "Timing:\n",
    "    1. 1- Hours\n",
    "    2. 1.5 Hours\n",
    "    3. Machine Learning - 2 Hours\n",
    "Timing : \n",
    "    1. Morning or Evening"
   ]
  }
 ],
 "metadata": {
  "kernelspec": {
   "display_name": "Python 3 (ipykernel)",
   "language": "python",
   "name": "python3"
  },
  "language_info": {
   "codemirror_mode": {
    "name": "ipython",
    "version": 3
   },
   "file_extension": ".py",
   "mimetype": "text/x-python",
   "name": "python",
   "nbconvert_exporter": "python",
   "pygments_lexer": "ipython3",
   "version": "3.11.5"
  }
 },
 "nbformat": 4,
 "nbformat_minor": 5
}
