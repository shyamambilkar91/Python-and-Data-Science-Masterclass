{
 "cells": [
  {
   "cell_type": "markdown",
   "id": "389f6cbf",
   "metadata": {},
   "source": [
    "## Multilevel Inheritance"
   ]
  },
  {
   "cell_type": "markdown",
   "id": "fabca9e3",
   "metadata": {},
   "source": [
    "1. Multilevel inheritance is achieved when derived class inherits from another derived class or child class.\n",
    "2. There is no limit on the number of level up\n",
    "3. Syntax"
   ]
  },
  {
   "cell_type": "markdown",
   "id": "adfafa56",
   "metadata": {},
   "source": [
    "class Grandfather: statement\n",
    "\n",
    "class Father(Grandfather): statement\n",
    "    \n",
    "class Child(Father): statement\n",
    "    \n",
    "class N(Child): statement"
   ]
  },
  {
   "cell_type": "code",
   "execution_count": 6,
   "id": "5b579b10",
   "metadata": {},
   "outputs": [
    {
     "name": "stdout",
     "output_type": "stream",
     "text": [
      "Animal is speaking.....!!\n"
     ]
    }
   ],
   "source": [
    "class Animal:\n",
    "    def speak(self):\n",
    "        print(\"Animal is speaking.....!!\")\n",
    "        \n",
    "class Dog(Animal):\n",
    "    def bark(self):\n",
    "        print(\"Dog Barking......!!\")\n",
    "        \n",
    "class Dog_child(Dog):\n",
    "    def eat(self):\n",
    "        print(\"Eating Food.....!!\")\n",
    "        \n",
    "\n",
    "# a1 = Animal()\n",
    "# a1.speak()\n",
    "\n",
    "# d1 = Dog()\n",
    "# d1.speak()\n",
    "\n",
    "d1 = Dog_child()\n",
    "d1.speak()"
   ]
  },
  {
   "cell_type": "code",
   "execution_count": 7,
   "id": "6332648f",
   "metadata": {},
   "outputs": [
    {
     "name": "stdout",
     "output_type": "stream",
     "text": [
      "Dog Barking......!!\n",
      "Eating Food.....!!\n",
      "Animal is speaking.....!!\n"
     ]
    }
   ],
   "source": [
    "d1.bark()\n",
    "d1.eat()\n",
    "d1.speak()"
   ]
  },
  {
   "cell_type": "markdown",
   "id": "8a81ca1a",
   "metadata": {},
   "source": [
    "![](https://www.scientecheasy.com/wp-content/uploads/2023/09/python-multilevel-inheritance.png)"
   ]
  },
  {
   "cell_type": "code",
   "execution_count": 12,
   "id": "e24a76f3",
   "metadata": {},
   "outputs": [
    {
     "name": "stdout",
     "output_type": "stream",
     "text": [
      "The area of Rectangle is 12\n"
     ]
    }
   ],
   "source": [
    "class Shape:\n",
    "    def area(self):\n",
    "        raise NotImplementedError(\"Subclass must Implement area()\")\n",
    "        \n",
    "class Rectangle(Shape):\n",
    "    def __init__(self, length, width):\n",
    "        self.length = length\n",
    "        self.width = width\n",
    "        \n",
    "    def area(self):\n",
    "        print(f\"The area of Rectangle is {self.length * self.width}\")\n",
    "        \n",
    "        \n",
    "class Square(Rectangle):\n",
    "    def __init__(self, side):\n",
    "        super().__init__(side, side)\n",
    "        \n",
    "    def area(self):\n",
    "        print(f\" The area of Square is {self.length ** 2}\")\n",
    "        \n",
    "\n",
    "# Create Object of Class\n",
    "\n",
    "rect = Rectangle(3, 4)\n",
    "my_square = Square(4)\n",
    "rect.area()"
   ]
  },
  {
   "cell_type": "code",
   "execution_count": 13,
   "id": "883a827b",
   "metadata": {},
   "outputs": [
    {
     "data": {
      "text/plain": [
       "12"
      ]
     },
     "execution_count": 13,
     "metadata": {},
     "output_type": "execute_result"
    }
   ],
   "source": [
    "def multiply():\n",
    "    return 3 * 4\n",
    "\n",
    "multiply()"
   ]
  },
  {
   "cell_type": "code",
   "execution_count": 14,
   "id": "19a59c67",
   "metadata": {},
   "outputs": [
    {
     "data": {
      "text/plain": [
       "'Hello Pranali, Welcome to Data Science Class'"
      ]
     },
     "execution_count": 14,
     "metadata": {},
     "output_type": "execute_result"
    }
   ],
   "source": [
    "def multiply():\n",
    "    return \"Hello Pranali, Welcome to Data Science Class\"\n",
    "\n",
    "multiply()"
   ]
  },
  {
   "cell_type": "code",
   "execution_count": null,
   "id": "14435e52",
   "metadata": {},
   "outputs": [],
   "source": []
  },
  {
   "cell_type": "code",
   "execution_count": null,
   "id": "cf5b2724",
   "metadata": {},
   "outputs": [],
   "source": []
  }
 ],
 "metadata": {
  "kernelspec": {
   "display_name": "Python 3 (ipykernel)",
   "language": "python",
   "name": "python3"
  },
  "language_info": {
   "codemirror_mode": {
    "name": "ipython",
    "version": 3
   },
   "file_extension": ".py",
   "mimetype": "text/x-python",
   "name": "python",
   "nbconvert_exporter": "python",
   "pygments_lexer": "ipython3",
   "version": "3.11.5"
  }
 },
 "nbformat": 4,
 "nbformat_minor": 5
}
